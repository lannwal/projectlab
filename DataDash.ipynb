{
 "cells": [
  {
   "cell_type": "markdown",
   "metadata": {},
   "source": [
    "### Final- and Visualization"
   ]
  },
  {
   "cell_type": "markdown",
   "metadata": {},
   "source": [
    "# DataDash"
   ]
  },
  {
   "cell_type": "markdown",
   "metadata": {},
   "source": [
    "## Finding Lineage Subtypes and Primary Diseases for the ranked lists "
   ]
  },
  {
   "cell_type": "code",
   "execution_count": 11,
   "metadata": {},
   "outputs": [
    {
     "data": {
      "text/plain": [
       "(764, 24)"
      ]
     },
     "execution_count": 11,
     "metadata": {},
     "output_type": "execute_result"
    }
   ],
   "source": [
    "allGenes.shape\n",
    "data.shape"
   ]
  },
  {
   "cell_type": "code",
   "execution_count": null,
   "metadata": {},
   "outputs": [],
   "source": []
  },
  {
   "cell_type": "code",
   "execution_count": null,
   "metadata": {},
   "outputs": [],
   "source": []
  },
  {
   "cell_type": "code",
   "execution_count": null,
   "metadata": {},
   "outputs": [],
   "source": []
  },
  {
   "cell_type": "code",
   "execution_count": null,
   "metadata": {},
   "outputs": [],
   "source": []
  },
  {
   "cell_type": "code",
   "execution_count": null,
   "metadata": {},
   "outputs": [],
   "source": []
  },
  {
   "cell_type": "code",
   "execution_count": null,
   "metadata": {},
   "outputs": [],
   "source": []
  },
  {
   "cell_type": "markdown",
   "metadata": {},
   "source": [
    "## Visualization"
   ]
  },
  {
   "cell_type": "code",
   "execution_count": null,
   "metadata": {},
   "outputs": [],
   "source": []
  },
  {
   "cell_type": "code",
   "execution_count": null,
   "metadata": {},
   "outputs": [],
   "source": []
  },
  {
   "cell_type": "code",
   "execution_count": 7,
   "metadata": {
    "jupyter": {
     "source_hidden": true
    }
   },
   "outputs": [
    {
     "name": "stdout",
     "output_type": "stream",
     "text": [
      "765\n",
      "1781\n",
      "765\n"
     ]
    }
   ],
   "source": [
    "import pandas as pd \n",
    "import numpy as np\n",
    "import seaborn as sns\n",
    "import matplotlib.pyplot as plt\n",
    "import itertools\n",
    "from scipy.stats import pearsonr\n",
    "import networkx as nx\n",
    "from scipy.stats import hypergeom\n",
    "\n",
    "\n",
    "effect = pd.read_csv(\"/home/annerer/Dokumente/DepMap_Mining/Achilles_gene_effect.csv\")\n",
    "data = pd.read_csv(\"/home/annerer/Dokumente/DepMap_Mining/sample_info.csv\")\n",
    "# path changed to laptops\n",
    "\n",
    "#effect = pd.read_csv(\"/home/lannwal/Documents/DepMap_Mining/Achilles_gene_effect.csv\")\n",
    "#data = pd.read_csv(\"/home/lannwal/Documents/DepMap_Mining/sample_info.csv\")\n",
    "\n",
    "mapping = {}\n",
    "\n",
    "for i in np.arange(0,data.shape[0],1):\n",
    "    mapping[data.DepMap_ID[i]] = data.CCLE_Name[i]\n",
    "\n",
    "effect[\"INDEX\"] = effect.DepMap_ID\n",
    "effect = effect.set_index('INDEX')\n",
    "effect = effect.rename(index=mapping)\n",
    "effect = effect.drop(\"DepMap_ID\",1)\n",
    "\n",
    "gene = effect.columns.to_list()\n",
    "# split at space\n",
    "for i in range(len(gene)):\n",
    "    gene[i] = gene[i].split(\" \") \n",
    "\n",
    "genes = []\n",
    "for i in range(len(gene)):\n",
    "    genes.append(gene[i][0])\n",
    "                 \n",
    "effect.columns = genes\n",
    "\n",
    "\n",
    "cellLine = effect.index.to_list()\n",
    "# split at space\n",
    "for i in range(len(cellLine)):\n",
    "    cellLine[i] = cellLine[i].split(\"_\") \n",
    "\n",
    "cellLines = []\n",
    "for i in range(len(cellLine)):\n",
    "    cellLines.append(cellLine[i][0])\n",
    "    \n",
    "effect.index = cellLines\n",
    "\n",
    "cellLine = data['CCLE_Name'].to_list()\n",
    "# split at space\n",
    "for i in range(len(cellLine)):\n",
    "    cellLine[i] = cellLine[i].split(\"_\") \n",
    "\n",
    "cellLines1 = []\n",
    "for i in range(len(cellLine)):\n",
    "    cellLines1.append(cellLine[i][0])\n",
    "    \n",
    "data['CCLE_Name'] = cellLines1\n",
    "\n",
    "\n",
    "a = set(cellLines)\n",
    "b = set(data[\"CCLE_Name\"])\n",
    "c = set.intersection(a,b)\n",
    "\n",
    "print(len(a))\n",
    "print(len(b))\n",
    "print(len(c))\n",
    "\n",
    "cellL = c\n",
    "allGenes = effect[effect.columns.intersection(cellL)]"
   ]
  },
  {
   "cell_type": "code",
   "execution_count": 8,
   "metadata": {},
   "outputs": [
    {
     "data": {
      "text/html": [
       "<div>\n",
       "<style scoped>\n",
       "    .dataframe tbody tr th:only-of-type {\n",
       "        vertical-align: middle;\n",
       "    }\n",
       "\n",
       "    .dataframe tbody tr th {\n",
       "        vertical-align: top;\n",
       "    }\n",
       "\n",
       "    .dataframe thead th {\n",
       "        text-align: right;\n",
       "    }\n",
       "</style>\n",
       "<table border=\"1\" class=\"dataframe\">\n",
       "  <thead>\n",
       "    <tr style=\"text-align: right;\">\n",
       "      <th></th>\n",
       "      <th>A1BG</th>\n",
       "      <th>A1CF</th>\n",
       "      <th>A2M</th>\n",
       "      <th>A2ML1</th>\n",
       "      <th>A3GALT2</th>\n",
       "      <th>A4GALT</th>\n",
       "      <th>A4GNT</th>\n",
       "      <th>AAAS</th>\n",
       "      <th>AACS</th>\n",
       "      <th>AADAC</th>\n",
       "      <th>...</th>\n",
       "      <th>ZWILCH</th>\n",
       "      <th>ZWINT</th>\n",
       "      <th>ZXDA</th>\n",
       "      <th>ZXDB</th>\n",
       "      <th>ZXDC</th>\n",
       "      <th>ZYG11A</th>\n",
       "      <th>ZYG11B</th>\n",
       "      <th>ZYX</th>\n",
       "      <th>ZZEF1</th>\n",
       "      <th>ZZZ3</th>\n",
       "    </tr>\n",
       "  </thead>\n",
       "  <tbody>\n",
       "    <tr>\n",
       "      <th>HEL</th>\n",
       "      <td>0.178087</td>\n",
       "      <td>0.088290</td>\n",
       "      <td>-0.201464</td>\n",
       "      <td>-0.017011</td>\n",
       "      <td>0.042590</td>\n",
       "      <td>-0.192257</td>\n",
       "      <td>0.352891</td>\n",
       "      <td>-0.445209</td>\n",
       "      <td>0.292603</td>\n",
       "      <td>0.165168</td>\n",
       "      <td>...</td>\n",
       "      <td>-0.122795</td>\n",
       "      <td>-0.464567</td>\n",
       "      <td>NaN</td>\n",
       "      <td>NaN</td>\n",
       "      <td>0.258084</td>\n",
       "      <td>0.237593</td>\n",
       "      <td>-0.408563</td>\n",
       "      <td>0.291832</td>\n",
       "      <td>0.218575</td>\n",
       "      <td>-0.139759</td>\n",
       "    </tr>\n",
       "    <tr>\n",
       "      <th>HEL9217</th>\n",
       "      <td>-0.082364</td>\n",
       "      <td>0.239413</td>\n",
       "      <td>0.195457</td>\n",
       "      <td>0.163763</td>\n",
       "      <td>-0.188161</td>\n",
       "      <td>-0.338735</td>\n",
       "      <td>0.254489</td>\n",
       "      <td>-0.583878</td>\n",
       "      <td>-0.060615</td>\n",
       "      <td>0.015272</td>\n",
       "      <td>...</td>\n",
       "      <td>-0.195061</td>\n",
       "      <td>-0.408063</td>\n",
       "      <td>-0.155155</td>\n",
       "      <td>-0.067415</td>\n",
       "      <td>0.229242</td>\n",
       "      <td>-0.075883</td>\n",
       "      <td>-0.104001</td>\n",
       "      <td>0.075901</td>\n",
       "      <td>0.036985</td>\n",
       "      <td>-0.243303</td>\n",
       "    </tr>\n",
       "    <tr>\n",
       "      <th>LS513</th>\n",
       "      <td>0.070026</td>\n",
       "      <td>0.075066</td>\n",
       "      <td>-0.064637</td>\n",
       "      <td>0.156905</td>\n",
       "      <td>0.099075</td>\n",
       "      <td>0.141985</td>\n",
       "      <td>0.066314</td>\n",
       "      <td>-0.477023</td>\n",
       "      <td>-0.006855</td>\n",
       "      <td>0.291604</td>\n",
       "      <td>...</td>\n",
       "      <td>-0.093252</td>\n",
       "      <td>-0.276874</td>\n",
       "      <td>-0.049716</td>\n",
       "      <td>0.116683</td>\n",
       "      <td>0.211699</td>\n",
       "      <td>-0.012654</td>\n",
       "      <td>-0.351716</td>\n",
       "      <td>0.089140</td>\n",
       "      <td>-0.392549</td>\n",
       "      <td>-0.442624</td>\n",
       "    </tr>\n",
       "    <tr>\n",
       "      <th>C2BBE1</th>\n",
       "      <td>0.107048</td>\n",
       "      <td>-0.006352</td>\n",
       "      <td>-0.053166</td>\n",
       "      <td>0.053055</td>\n",
       "      <td>0.081620</td>\n",
       "      <td>-0.038305</td>\n",
       "      <td>0.082421</td>\n",
       "      <td>-0.642935</td>\n",
       "      <td>0.159178</td>\n",
       "      <td>0.064128</td>\n",
       "      <td>...</td>\n",
       "      <td>-0.280677</td>\n",
       "      <td>-0.230111</td>\n",
       "      <td>-0.106000</td>\n",
       "      <td>0.041611</td>\n",
       "      <td>0.083021</td>\n",
       "      <td>0.022771</td>\n",
       "      <td>-0.596777</td>\n",
       "      <td>0.197627</td>\n",
       "      <td>-0.106398</td>\n",
       "      <td>-0.549259</td>\n",
       "    </tr>\n",
       "    <tr>\n",
       "      <th>253J</th>\n",
       "      <td>0.280508</td>\n",
       "      <td>0.079860</td>\n",
       "      <td>0.016981</td>\n",
       "      <td>0.439139</td>\n",
       "      <td>-0.042239</td>\n",
       "      <td>-0.242560</td>\n",
       "      <td>0.103028</td>\n",
       "      <td>-0.419159</td>\n",
       "      <td>0.141445</td>\n",
       "      <td>0.115857</td>\n",
       "      <td>...</td>\n",
       "      <td>-0.410500</td>\n",
       "      <td>-0.507467</td>\n",
       "      <td>-0.138665</td>\n",
       "      <td>-0.119292</td>\n",
       "      <td>0.284407</td>\n",
       "      <td>0.158124</td>\n",
       "      <td>-0.240429</td>\n",
       "      <td>0.124847</td>\n",
       "      <td>-0.250949</td>\n",
       "      <td>-0.379117</td>\n",
       "    </tr>\n",
       "  </tbody>\n",
       "</table>\n",
       "<p>5 rows × 18119 columns</p>\n",
       "</div>"
      ],
      "text/plain": [
       "             A1BG      A1CF       A2M     A2ML1   A3GALT2    A4GALT     A4GNT  \\\n",
       "HEL      0.178087  0.088290 -0.201464 -0.017011  0.042590 -0.192257  0.352891   \n",
       "HEL9217 -0.082364  0.239413  0.195457  0.163763 -0.188161 -0.338735  0.254489   \n",
       "LS513    0.070026  0.075066 -0.064637  0.156905  0.099075  0.141985  0.066314   \n",
       "C2BBE1   0.107048 -0.006352 -0.053166  0.053055  0.081620 -0.038305  0.082421   \n",
       "253J     0.280508  0.079860  0.016981  0.439139 -0.042239 -0.242560  0.103028   \n",
       "\n",
       "             AAAS      AACS     AADAC  ...    ZWILCH     ZWINT      ZXDA  \\\n",
       "HEL     -0.445209  0.292603  0.165168  ... -0.122795 -0.464567       NaN   \n",
       "HEL9217 -0.583878 -0.060615  0.015272  ... -0.195061 -0.408063 -0.155155   \n",
       "LS513   -0.477023 -0.006855  0.291604  ... -0.093252 -0.276874 -0.049716   \n",
       "C2BBE1  -0.642935  0.159178  0.064128  ... -0.280677 -0.230111 -0.106000   \n",
       "253J    -0.419159  0.141445  0.115857  ... -0.410500 -0.507467 -0.138665   \n",
       "\n",
       "             ZXDB      ZXDC    ZYG11A    ZYG11B       ZYX     ZZEF1      ZZZ3  \n",
       "HEL           NaN  0.258084  0.237593 -0.408563  0.291832  0.218575 -0.139759  \n",
       "HEL9217 -0.067415  0.229242 -0.075883 -0.104001  0.075901  0.036985 -0.243303  \n",
       "LS513    0.116683  0.211699 -0.012654 -0.351716  0.089140 -0.392549 -0.442624  \n",
       "C2BBE1   0.041611  0.083021  0.022771 -0.596777  0.197627 -0.106398 -0.549259  \n",
       "253J    -0.119292  0.284407  0.158124 -0.240429  0.124847 -0.250949 -0.379117  \n",
       "\n",
       "[5 rows x 18119 columns]"
      ]
     },
     "execution_count": 8,
     "metadata": {},
     "output_type": "execute_result"
    }
   ],
   "source": [
    "effect = effect.transpose()\n",
    "intersect = list(set.intersection(set(allGenes.index.to_list()), set(cellL)))\n",
    "allGenes = effect[effect.columns.intersection(cellL)]\n",
    "\n",
    "allGenes.shape\n",
    "allGenes = allGenes.transpose()\n",
    "\n",
    "allGenes.head()"
   ]
  },
  {
   "cell_type": "code",
   "execution_count": 10,
   "metadata": {},
   "outputs": [
    {
     "name": "stdout",
     "output_type": "stream",
     "text": [
      "(764, 24)\n"
     ]
    }
   ],
   "source": [
    "depmapgenes = allGenes.index.tolist()\n",
    "data = data[data.stripped_cell_line_name.isin(depmapgenes)]\n",
    "print(data.shape)"
   ]
  }
 ],
 "metadata": {
  "kernelspec": {
   "display_name": "Python 3",
   "language": "python",
   "name": "python3"
  },
  "language_info": {
   "codemirror_mode": {
    "name": "ipython",
    "version": 3
   },
   "file_extension": ".py",
   "mimetype": "text/x-python",
   "name": "python",
   "nbconvert_exporter": "python",
   "pygments_lexer": "ipython3",
   "version": "3.8.3"
  }
 },
 "nbformat": 4,
 "nbformat_minor": 4
}
