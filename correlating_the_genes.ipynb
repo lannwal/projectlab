{
 "cells": [
  {
   "cell_type": "markdown",
   "metadata": {},
   "source": [
    "## Finding Pairwise Correlations for DepMap (20Q2) Gene-Dependencies and Gene-Effects"
   ]
  },
  {
   "cell_type": "code",
   "execution_count": 158,
   "metadata": {},
   "outputs": [],
   "source": [
    "import pandas as pd \n",
    "import numpy as np\n",
    "import seaborn as sns\n",
    "import matplotlib.pyplot as plt\n",
    "import itertools\n",
    "from scipy.stats import pearsonr"
   ]
  },
  {
   "cell_type": "code",
   "execution_count": 3,
   "metadata": {},
   "outputs": [],
   "source": [
    "dep = pd.read_csv(\"/home/annerer/Downloads/Achilles_gene_dependency.csv\")"
   ]
  },
  {
   "cell_type": "code",
   "execution_count": 159,
   "metadata": {},
   "outputs": [],
   "source": [
    "effect = pd.read_csv(\"/home/annerer/Downloads/Achilles_gene_effect.csv\")"
   ]
  },
  {
   "cell_type": "code",
   "execution_count": 99,
   "metadata": {},
   "outputs": [],
   "source": [
    "#effect.head()"
   ]
  },
  {
   "cell_type": "code",
   "execution_count": 160,
   "metadata": {},
   "outputs": [],
   "source": [
    "effect = effect.drop(\"DepMap_ID\",1)"
   ]
  },
  {
   "cell_type": "code",
   "execution_count": 153,
   "metadata": {},
   "outputs": [],
   "source": [
    "# zerlegen bringt hier insofern nichts da wir \n",
    "# trotzdem alle Paarweisen Korrelationen brauchen\n",
    "df = effect.iloc[:, : 9000]\n",
    "df2 = effect.iloc[:,9001:effect.shape[1]]"
   ]
  },
  {
   "cell_type": "markdown",
   "metadata": {},
   "source": [
    "## New Vectorized Correlation Functions"
   ]
  },
  {
   "cell_type": "code",
   "execution_count": 154,
   "metadata": {},
   "outputs": [],
   "source": [
    "def corr2_coeff(A, B):\n",
    "    # Rowwise mean of input arrays & subtract from input arrays themeselves\n",
    "    A_mA = A - A.mean()\n",
    "    B_mB = B - B.mean()\n",
    "\n",
    "    # Sum of squares across rows\n",
    "    ssA = (A_mA**2).sum()\n",
    "    ssB = (B_mB**2).sum()\n",
    "\n",
    "    # Finally get corr coeff\n",
    "    return np.dot(A_mA, B_mB.T) / np.sqrt(np.dot(ssA,ssB))"
   ]
  },
  {
   "cell_type": "markdown",
   "metadata": {},
   "source": [
    "going with this one"
   ]
  },
  {
   "cell_type": "code",
   "execution_count": 173,
   "metadata": {},
   "outputs": [],
   "source": [
    "def vcorrcoef(X,y):\n",
    "    Xm = X.mean()\n",
    "    ym = y.mean()\n",
    "    r_num = np.sum((X-Xm)*(y-ym))\n",
    "    r_den = np.sqrt(np.sum((X-Xm)**2)*np.sum((y-ym)**2))\n",
    "    r = r_num/r_den\n",
    "    return r"
   ]
  },
  {
   "cell_type": "markdown",
   "metadata": {},
   "source": [
    "test case works"
   ]
  },
  {
   "cell_type": "code",
   "execution_count": 174,
   "metadata": {},
   "outputs": [
    {
     "data": {
      "text/plain": [
       "-0.6967472861744265"
      ]
     },
     "execution_count": 174,
     "metadata": {},
     "output_type": "execute_result"
    }
   ],
   "source": [
    "vcorrcoef(df['TP53 (7157)'],df[\"MDM2 (4193)\"])"
   ]
  },
  {
   "cell_type": "code",
   "execution_count": null,
   "metadata": {},
   "outputs": [],
   "source": [
    "correlations = {}\n",
    "for col_a, col_b in itertools.combinations(effect, 2):\n",
    "    correlations[col_a + '__' + col_b] = vcorrcoef(effect[col_a],effect[col_b])"
   ]
  },
  {
   "cell_type": "code",
   "execution_count": null,
   "metadata": {},
   "outputs": [],
   "source": [
    "result = pd.DataFrame.from_dict(correlations, orient='index')\n",
    "pd.write_csv(\"effect_corr_pairs.csv\",result)"
   ]
  },
  {
   "cell_type": "markdown",
   "metadata": {},
   "source": [
    "potentially better version:"
   ]
  },
  {
   "cell_type": "code",
   "execution_count": null,
   "metadata": {},
   "outputs": [],
   "source": [
    "# should not be needed, as the above version handles NaNs\n",
    "\n",
    "correlations = {}\n",
    "for col_a, col_b in itertools.combinations(effect, 2):\n",
    "    nas = np.logical_or(np.isnan(df[col_a]), np.isnan(df[col_b]))\n",
    "    correlations[col_a + '__' + col_b] = vcorrcoef(effect[col_a][~nas],effect[col_b][~nas])"
   ]
  },
  {
   "cell_type": "code",
   "execution_count": null,
   "metadata": {},
   "outputs": [],
   "source": []
  },
  {
   "cell_type": "code",
   "execution_count": null,
   "metadata": {},
   "outputs": [],
   "source": [
    "#correlations = {}\n",
    "#for col_a, col_b in itertools.combinations(df, 2):\n",
    "#    correlations[col_a + '__' + col_b] = df.corr(col_a,col_b)"
   ]
  },
  {
   "cell_type": "code",
   "execution_count": 157,
   "metadata": {},
   "outputs": [],
   "source": [
    "#for col_a, col_b in itertools.combinations(df, 2):\n",
    "#    nas = np.logical_or(np.isnan(df[col_a]), np.isnan(df[col_b]))\n",
    " #   corr = pearsonr(df[col_a][~nas], df[col_b][~nas])\n",
    "#    correlations[col_a + '__' + col_b] = corr\n",
    "\n",
    "#result = pd.DataFrame.from_dict(correlations, orient='index')\n",
    "#result.columns = ['PCC', 'p-value']\n",
    "#result"
   ]
  },
  {
   "cell_type": "markdown",
   "metadata": {},
   "source": [
    "Im web-interface von DepMap wird von Co-Dependencies gesprochen wenn\n",
    "Korrelationen von Gene-Effect-Werten gemeint sind."
   ]
  },
  {
   "cell_type": "code",
   "execution_count": 30,
   "metadata": {},
   "outputs": [
    {
     "name": "stdout",
     "output_type": "stream",
     "text": [
      "(-0.6967472861744267, 8.831043835754099e-113)\n",
      "(0.7046256686090427, 2.1308475953700828e-116)\n"
     ]
    }
   ],
   "source": [
    "print(pearsonr(effect['TP53 (7157)'],effect['MDM2 (4193)']))\n",
    "print(pearsonr(effect['TP53 (7157)'],effect['CDKN1A (1026)']))"
   ]
  },
  {
   "cell_type": "code",
   "execution_count": 33,
   "metadata": {},
   "outputs": [
    {
     "data": {
      "text/plain": [
       "12"
      ]
     },
     "execution_count": 33,
     "metadata": {},
     "output_type": "execute_result"
    }
   ],
   "source": [
    "effect['RAN (5901)'].isnull().sum()"
   ]
  },
  {
   "cell_type": "code",
   "execution_count": 94,
   "metadata": {},
   "outputs": [
    {
     "data": {
      "image/png": "[encoded data removed]",
      "text/plain": [
       "<Figure size 432x288 with 1 Axes>"
      ]
     },
     "metadata": {
      "needs_background": "light"
     },
     "output_type": "display_data"
    }
   ],
   "source": [
    "effect[\"TP53 (7157)\"].plot()\n",
    "effect[\"MDM2 (4193)\"].plot()\n",
    "effect[\"RAN (5901)\"].plot()\n",
    "plt.legend()\n",
    "plt.savefig('comparrison_of_gene_effect_TP53_MDM2_RAN')"
   ]
  },
  {
   "cell_type": "markdown",
   "metadata": {},
   "source": [
    "Korrelationsskript"
   ]
  },
  {
   "cell_type": "code",
   "execution_count": 89,
   "metadata": {},
   "outputs": [],
   "source": [
    "correlations = {}\n",
    "df = effect[['MDM2 (4193)','TP53 (7157)']]\n",
    "\n",
    "for col_a, col_b in itertools.combinations(df, 2):\n",
    "    nas = np.logical_or(np.isnan(df[col_a]), np.isnan(df[col_b]))\n",
    "    corr = pearsonr(df[col_a][~nas], df[col_b][~nas])\n",
    "    correlations[col_a + '__' + col_b] = corr\n",
    "\n",
    "result = pd.DataFrame.from_dict(correlations, orient='index')\n",
    "result.columns = ['PCC', 'p-value']\n",
    "result"
   ]
  },
  {
   "cell_type": "code",
   "execution_count": 75,
   "metadata": {},
   "outputs": [
    {
     "name": "stdout",
     "output_type": "stream",
     "text": [
      "          a         b         c         d         e         f\n",
      "0  0.238729  0.836833  0.844553  0.673913  0.478680  0.622733\n",
      "1  0.442589  0.560388  0.344260  0.724260  0.231331  0.568334\n",
      "2  0.851465  0.515215  0.464266  0.561362  0.071919  0.180770\n",
      "3       NaN  0.812376  0.695367  0.309487  0.826105  0.817678\n",
      "4  0.846068       NaN  0.156010  0.346022  0.740878  0.211795\n",
      "5  0.679405  0.830221  0.057410  0.083349  0.570318  0.862084\n"
     ]
    }
   ],
   "source": [
    "df = pd.DataFrame(np.random.random((6, 6)), columns=[chr(i + ord('a')) for i in range(6)]) \n",
    "df['a'][3] = np.nan\n",
    "df['b'][4] = np.nan\n",
    "print(df)"
   ]
  },
  {
   "cell_type": "code",
   "execution_count": 78,
   "metadata": {},
   "outputs": [
    {
     "data": {
      "text/plain": [
       "0    0.238729\n",
       "1    0.442589\n",
       "2    0.851465\n",
       "5    0.679405\n",
       "Name: a, dtype: float64"
      ]
     },
     "execution_count": 78,
     "metadata": {},
     "output_type": "execute_result"
    }
   ],
   "source": [
    "nas = np.logical_or(np.isnan(df['a']), np.isnan(df['b']))\n",
    "df['a'][~nas]"
   ]
  },
  {
   "cell_type": "code",
   "execution_count": null,
   "metadata": {},
   "outputs": [],
   "source": [
    "correlations = {}\n",
    "\n",
    "for col_a, col_b in itertools.combinations(df, 2):\n",
    "    nas = np.logical_or(np.isnan(df[col_a]), np.isnan(df[col_b]))\n",
    "    corr = pearsonr(df[col_a][~nas], df[col_b][~nas])\n",
    "    correlations[col_a + '__' + col_b] = corr\n",
    "\n",
    "    \n",
    "result = pd.DataFrame.from_dict(correlations, orient='index')\n",
    "result.columns = ['PCC', 'p-value']\n",
    "result.to_csv('effect_pairs.csv')"
   ]
  },
  {
   "cell_type": "code",
   "execution_count": 73,
   "metadata": {},
   "outputs": [
    {
     "data": {
      "text/plain": [
       "[(1, 2), (3, 4), (5, 6), (7, 8), (9, 10)]"
      ]
     },
     "execution_count": 73,
     "metadata": {},
     "output_type": "execute_result"
    }
   ],
   "source": [
    "myarray = np.array([1,2,3,4,5,6,7,8,9,10])\n",
    "zipped_array = zip(myarray[::2], myarray[1::2])\n",
    "list(zipped_array)"
   ]
  },
  {
   "cell_type": "markdown",
   "metadata": {},
   "source": [
    "### Get the shoulder from the sorted PCC DataFrame"
   ]
  },
  {
   "cell_type": "code",
   "execution_count": null,
   "metadata": {},
   "outputs": [],
   "source": [
    "result"
   ]
  },
  {
   "cell_type": "code",
   "execution_count": null,
   "metadata": {},
   "outputs": [],
   "source": []
  },
  {
   "cell_type": "markdown",
   "metadata": {},
   "source": [
    "### Pandas stellt die Importierten Daten nicht in ihrer vollen Laenge dar. Bei Berechnungen werden die 50+ Nachkommastellen jedoch verwendet"
   ]
  },
  {
   "cell_type": "code",
   "execution_count": null,
   "metadata": {},
   "outputs": [],
   "source": [
    "#with pd.option_context('display.precision', 50):\n",
    "#    print(dep['TP53 (7157)'].sort_values())"
   ]
  },
  {
   "cell_type": "markdown",
   "metadata": {},
   "source": [
    "## Wichtiges Snippet. Berechnung der Korrelation wobei ich keinen Wert nehmen wenn einer der Partner NaN ist."
   ]
  },
  {
   "cell_type": "code",
   "execution_count": null,
   "metadata": {},
   "outputs": [],
   "source": [
    "#dep_corr = dep.corr()\n",
    "\n",
    "for i in range(len(effect.columns)):    \n",
    "    x, y = effect.iloc[ :,i].values,\n",
    "    nas = np.logical_or(np.isnan(x), np.isnan(y))\n",
    "    corr = pearsonr(x[~nas], y[~nas])\n",
    "    correlation.append(corr)"
   ]
  },
  {
   "cell_type": "code",
   "execution_count": 30,
   "metadata": {},
   "outputs": [
    {
     "data": {
      "text/html": [
       "<div>\n",
       "<style scoped>\n",
       "    .dataframe tbody tr th:only-of-type {\n",
       "        vertical-align: middle;\n",
       "    }\n",
       "\n",
       "    .dataframe tbody tr th {\n",
       "        vertical-align: top;\n",
       "    }\n",
       "\n",
       "    .dataframe thead th {\n",
       "        text-align: right;\n",
       "    }\n",
       "</style>\n",
       "<table border=\"1\" class=\"dataframe\">\n",
       "  <thead>\n",
       "    <tr style=\"text-align: right;\">\n",
       "      <th></th>\n",
       "      <th>DepMap_ID</th>\n",
       "      <th>A1BG (1)</th>\n",
       "      <th>A1CF (29974)</th>\n",
       "      <th>A2M (2)</th>\n",
       "      <th>A2ML1 (144568)</th>\n",
       "      <th>A3GALT2 (127550)</th>\n",
       "      <th>A4GALT (53947)</th>\n",
       "      <th>A4GNT (51146)</th>\n",
       "      <th>AAAS (8086)</th>\n",
       "      <th>AACS (65985)</th>\n",
       "      <th>...</th>\n",
       "      <th>ZWILCH (55055)</th>\n",
       "      <th>ZWINT (11130)</th>\n",
       "      <th>ZXDA (7789)</th>\n",
       "      <th>ZXDB (158586)</th>\n",
       "      <th>ZXDC (79364)</th>\n",
       "      <th>ZYG11A (440590)</th>\n",
       "      <th>ZYG11B (79699)</th>\n",
       "      <th>ZYX (7791)</th>\n",
       "      <th>ZZEF1 (23140)</th>\n",
       "      <th>ZZZ3 (26009)</th>\n",
       "    </tr>\n",
       "  </thead>\n",
       "  <tbody>\n",
       "    <tr>\n",
       "      <th>75</th>\n",
       "      <td>ACH-000160</td>\n",
       "      <td>0.004080</td>\n",
       "      <td>0.011880</td>\n",
       "      <td>0.049883</td>\n",
       "      <td>0.003248</td>\n",
       "      <td>0.021605</td>\n",
       "      <td>0.058008</td>\n",
       "      <td>0.005175</td>\n",
       "      <td>0.355095</td>\n",
       "      <td>0.011450</td>\n",
       "      <td>...</td>\n",
       "      <td>0.029039</td>\n",
       "      <td>0.343605</td>\n",
       "      <td>0.103706</td>\n",
       "      <td>0.016777</td>\n",
       "      <td>0.005846</td>\n",
       "      <td>0.014679</td>\n",
       "      <td>0.058986</td>\n",
       "      <td>0.001907</td>\n",
       "      <td>0.023887</td>\n",
       "      <td>NaN</td>\n",
       "    </tr>\n",
       "    <tr>\n",
       "      <th>88</th>\n",
       "      <td>ACH-000190</td>\n",
       "      <td>0.004515</td>\n",
       "      <td>0.022589</td>\n",
       "      <td>0.016287</td>\n",
       "      <td>0.020641</td>\n",
       "      <td>0.018674</td>\n",
       "      <td>0.013738</td>\n",
       "      <td>0.007382</td>\n",
       "      <td>0.301386</td>\n",
       "      <td>0.008509</td>\n",
       "      <td>...</td>\n",
       "      <td>0.143048</td>\n",
       "      <td>0.731775</td>\n",
       "      <td>0.040109</td>\n",
       "      <td>0.036175</td>\n",
       "      <td>0.002442</td>\n",
       "      <td>0.000388</td>\n",
       "      <td>0.173534</td>\n",
       "      <td>0.003874</td>\n",
       "      <td>0.102615</td>\n",
       "      <td>NaN</td>\n",
       "    </tr>\n",
       "    <tr>\n",
       "      <th>135</th>\n",
       "      <td>ACH-000271</td>\n",
       "      <td>0.008785</td>\n",
       "      <td>0.009883</td>\n",
       "      <td>0.044411</td>\n",
       "      <td>0.003196</td>\n",
       "      <td>0.008880</td>\n",
       "      <td>0.014678</td>\n",
       "      <td>0.004703</td>\n",
       "      <td>0.353925</td>\n",
       "      <td>0.003785</td>\n",
       "      <td>...</td>\n",
       "      <td>0.036123</td>\n",
       "      <td>0.382863</td>\n",
       "      <td>0.037461</td>\n",
       "      <td>0.006914</td>\n",
       "      <td>0.004381</td>\n",
       "      <td>0.017103</td>\n",
       "      <td>0.018467</td>\n",
       "      <td>0.001120</td>\n",
       "      <td>0.037935</td>\n",
       "      <td>NaN</td>\n",
       "    </tr>\n",
       "    <tr>\n",
       "      <th>469</th>\n",
       "      <td>ACH-000836</td>\n",
       "      <td>0.011763</td>\n",
       "      <td>0.014326</td>\n",
       "      <td>0.019597</td>\n",
       "      <td>0.001387</td>\n",
       "      <td>0.006850</td>\n",
       "      <td>0.020205</td>\n",
       "      <td>0.016510</td>\n",
       "      <td>0.217055</td>\n",
       "      <td>0.024838</td>\n",
       "      <td>...</td>\n",
       "      <td>0.025727</td>\n",
       "      <td>0.782561</td>\n",
       "      <td>NaN</td>\n",
       "      <td>NaN</td>\n",
       "      <td>0.022652</td>\n",
       "      <td>0.008900</td>\n",
       "      <td>0.022886</td>\n",
       "      <td>0.010920</td>\n",
       "      <td>0.091312</td>\n",
       "      <td>NaN</td>\n",
       "    </tr>\n",
       "    <tr>\n",
       "      <th>533</th>\n",
       "      <td>ACH-000939</td>\n",
       "      <td>0.023169</td>\n",
       "      <td>0.011411</td>\n",
       "      <td>0.018933</td>\n",
       "      <td>0.002863</td>\n",
       "      <td>0.165597</td>\n",
       "      <td>0.033263</td>\n",
       "      <td>0.008546</td>\n",
       "      <td>0.524921</td>\n",
       "      <td>0.002959</td>\n",
       "      <td>...</td>\n",
       "      <td>0.221766</td>\n",
       "      <td>0.599300</td>\n",
       "      <td>0.025745</td>\n",
       "      <td>0.000420</td>\n",
       "      <td>0.014455</td>\n",
       "      <td>0.003486</td>\n",
       "      <td>0.086323</td>\n",
       "      <td>0.007560</td>\n",
       "      <td>0.632531</td>\n",
       "      <td>NaN</td>\n",
       "    </tr>\n",
       "    <tr>\n",
       "      <th>564</th>\n",
       "      <td>ACH-001020</td>\n",
       "      <td>0.003467</td>\n",
       "      <td>0.029927</td>\n",
       "      <td>0.022542</td>\n",
       "      <td>0.042352</td>\n",
       "      <td>0.096680</td>\n",
       "      <td>0.004838</td>\n",
       "      <td>0.006590</td>\n",
       "      <td>0.372595</td>\n",
       "      <td>0.000088</td>\n",
       "      <td>...</td>\n",
       "      <td>0.006128</td>\n",
       "      <td>0.308123</td>\n",
       "      <td>0.002450</td>\n",
       "      <td>0.008915</td>\n",
       "      <td>0.005006</td>\n",
       "      <td>0.035580</td>\n",
       "      <td>0.105137</td>\n",
       "      <td>0.010921</td>\n",
       "      <td>0.153708</td>\n",
       "      <td>NaN</td>\n",
       "    </tr>\n",
       "    <tr>\n",
       "      <th>591</th>\n",
       "      <td>ACH-001211</td>\n",
       "      <td>0.005267</td>\n",
       "      <td>0.005637</td>\n",
       "      <td>0.006787</td>\n",
       "      <td>0.000961</td>\n",
       "      <td>0.003028</td>\n",
       "      <td>0.047634</td>\n",
       "      <td>0.008787</td>\n",
       "      <td>0.567989</td>\n",
       "      <td>0.004498</td>\n",
       "      <td>...</td>\n",
       "      <td>0.065685</td>\n",
       "      <td>0.236445</td>\n",
       "      <td>0.067656</td>\n",
       "      <td>0.283470</td>\n",
       "      <td>0.000487</td>\n",
       "      <td>0.000048</td>\n",
       "      <td>0.151502</td>\n",
       "      <td>0.006573</td>\n",
       "      <td>0.017096</td>\n",
       "      <td>NaN</td>\n",
       "    </tr>\n",
       "    <tr>\n",
       "      <th>667</th>\n",
       "      <td>ACH-001496</td>\n",
       "      <td>0.006621</td>\n",
       "      <td>0.025946</td>\n",
       "      <td>0.030272</td>\n",
       "      <td>0.000965</td>\n",
       "      <td>0.006459</td>\n",
       "      <td>0.034512</td>\n",
       "      <td>0.009808</td>\n",
       "      <td>0.784688</td>\n",
       "      <td>0.000716</td>\n",
       "      <td>...</td>\n",
       "      <td>0.085489</td>\n",
       "      <td>0.418894</td>\n",
       "      <td>0.037805</td>\n",
       "      <td>0.191941</td>\n",
       "      <td>0.001014</td>\n",
       "      <td>0.001469</td>\n",
       "      <td>0.080960</td>\n",
       "      <td>0.000838</td>\n",
       "      <td>0.013519</td>\n",
       "      <td>NaN</td>\n",
       "    </tr>\n",
       "    <tr>\n",
       "      <th>668</th>\n",
       "      <td>ACH-001500</td>\n",
       "      <td>0.039003</td>\n",
       "      <td>0.003322</td>\n",
       "      <td>0.024163</td>\n",
       "      <td>0.020433</td>\n",
       "      <td>0.032178</td>\n",
       "      <td>0.016067</td>\n",
       "      <td>0.000920</td>\n",
       "      <td>0.138842</td>\n",
       "      <td>0.031077</td>\n",
       "      <td>...</td>\n",
       "      <td>0.008552</td>\n",
       "      <td>0.458560</td>\n",
       "      <td>0.084072</td>\n",
       "      <td>0.024110</td>\n",
       "      <td>0.005632</td>\n",
       "      <td>0.011514</td>\n",
       "      <td>0.188900</td>\n",
       "      <td>0.003641</td>\n",
       "      <td>0.049028</td>\n",
       "      <td>NaN</td>\n",
       "    </tr>\n",
       "    <tr>\n",
       "      <th>677</th>\n",
       "      <td>ACH-001522</td>\n",
       "      <td>0.000666</td>\n",
       "      <td>0.002247</td>\n",
       "      <td>0.017825</td>\n",
       "      <td>0.000096</td>\n",
       "      <td>0.014554</td>\n",
       "      <td>0.040839</td>\n",
       "      <td>0.005063</td>\n",
       "      <td>0.607066</td>\n",
       "      <td>0.004541</td>\n",
       "      <td>...</td>\n",
       "      <td>0.185748</td>\n",
       "      <td>0.953214</td>\n",
       "      <td>0.009911</td>\n",
       "      <td>0.008153</td>\n",
       "      <td>0.014209</td>\n",
       "      <td>0.000242</td>\n",
       "      <td>0.044273</td>\n",
       "      <td>0.001716</td>\n",
       "      <td>0.384644</td>\n",
       "      <td>NaN</td>\n",
       "    </tr>\n",
       "    <tr>\n",
       "      <th>690</th>\n",
       "      <td>ACH-001550</td>\n",
       "      <td>0.004052</td>\n",
       "      <td>0.016021</td>\n",
       "      <td>0.031266</td>\n",
       "      <td>0.002294</td>\n",
       "      <td>0.016667</td>\n",
       "      <td>0.017817</td>\n",
       "      <td>0.006292</td>\n",
       "      <td>0.337588</td>\n",
       "      <td>0.005191</td>\n",
       "      <td>...</td>\n",
       "      <td>0.023134</td>\n",
       "      <td>0.376307</td>\n",
       "      <td>0.020921</td>\n",
       "      <td>0.001894</td>\n",
       "      <td>0.005663</td>\n",
       "      <td>0.019544</td>\n",
       "      <td>0.016748</td>\n",
       "      <td>0.000919</td>\n",
       "      <td>0.023397</td>\n",
       "      <td>NaN</td>\n",
       "    </tr>\n",
       "    <tr>\n",
       "      <th>768</th>\n",
       "      <td>ACH-002204</td>\n",
       "      <td>0.010077</td>\n",
       "      <td>0.007338</td>\n",
       "      <td>0.058068</td>\n",
       "      <td>0.008374</td>\n",
       "      <td>0.046577</td>\n",
       "      <td>0.022921</td>\n",
       "      <td>0.007781</td>\n",
       "      <td>0.507782</td>\n",
       "      <td>0.130400</td>\n",
       "      <td>...</td>\n",
       "      <td>0.073264</td>\n",
       "      <td>0.519866</td>\n",
       "      <td>0.018267</td>\n",
       "      <td>0.016978</td>\n",
       "      <td>0.003851</td>\n",
       "      <td>0.008895</td>\n",
       "      <td>0.094559</td>\n",
       "      <td>0.017683</td>\n",
       "      <td>0.190292</td>\n",
       "      <td>NaN</td>\n",
       "    </tr>\n",
       "  </tbody>\n",
       "</table>\n",
       "<p>12 rows × 18120 columns</p>\n",
       "</div>"
      ],
      "text/plain": [
       "      DepMap_ID  A1BG (1)  A1CF (29974)   A2M (2)  A2ML1 (144568)  \\\n",
       "75   ACH-000160  0.004080      0.011880  0.049883        0.003248   \n",
       "88   ACH-000190  0.004515      0.022589  0.016287        0.020641   \n",
       "135  ACH-000271  0.008785      0.009883  0.044411        0.003196   \n",
       "469  ACH-000836  0.011763      0.014326  0.019597        0.001387   \n",
       "533  ACH-000939  0.023169      0.011411  0.018933        0.002863   \n",
       "564  ACH-001020  0.003467      0.029927  0.022542        0.042352   \n",
       "591  ACH-001211  0.005267      0.005637  0.006787        0.000961   \n",
       "667  ACH-001496  0.006621      0.025946  0.030272        0.000965   \n",
       "668  ACH-001500  0.039003      0.003322  0.024163        0.020433   \n",
       "677  ACH-001522  0.000666      0.002247  0.017825        0.000096   \n",
       "690  ACH-001550  0.004052      0.016021  0.031266        0.002294   \n",
       "768  ACH-002204  0.010077      0.007338  0.058068        0.008374   \n",
       "\n",
       "     A3GALT2 (127550)  A4GALT (53947)  A4GNT (51146)  AAAS (8086)  \\\n",
       "75           0.021605        0.058008       0.005175     0.355095   \n",
       "88           0.018674        0.013738       0.007382     0.301386   \n",
       "135          0.008880        0.014678       0.004703     0.353925   \n",
       "469          0.006850        0.020205       0.016510     0.217055   \n",
       "533          0.165597        0.033263       0.008546     0.524921   \n",
       "564          0.096680        0.004838       0.006590     0.372595   \n",
       "591          0.003028        0.047634       0.008787     0.567989   \n",
       "667          0.006459        0.034512       0.009808     0.784688   \n",
       "668          0.032178        0.016067       0.000920     0.138842   \n",
       "677          0.014554        0.040839       0.005063     0.607066   \n",
       "690          0.016667        0.017817       0.006292     0.337588   \n",
       "768          0.046577        0.022921       0.007781     0.507782   \n",
       "\n",
       "     AACS (65985)  ...  ZWILCH (55055)  ZWINT (11130)  ZXDA (7789)  \\\n",
       "75       0.011450  ...        0.029039       0.343605     0.103706   \n",
       "88       0.008509  ...        0.143048       0.731775     0.040109   \n",
       "135      0.003785  ...        0.036123       0.382863     0.037461   \n",
       "469      0.024838  ...        0.025727       0.782561          NaN   \n",
       "533      0.002959  ...        0.221766       0.599300     0.025745   \n",
       "564      0.000088  ...        0.006128       0.308123     0.002450   \n",
       "591      0.004498  ...        0.065685       0.236445     0.067656   \n",
       "667      0.000716  ...        0.085489       0.418894     0.037805   \n",
       "668      0.031077  ...        0.008552       0.458560     0.084072   \n",
       "677      0.004541  ...        0.185748       0.953214     0.009911   \n",
       "690      0.005191  ...        0.023134       0.376307     0.020921   \n",
       "768      0.130400  ...        0.073264       0.519866     0.018267   \n",
       "\n",
       "     ZXDB (158586)  ZXDC (79364)  ZYG11A (440590)  ZYG11B (79699)  ZYX (7791)  \\\n",
       "75        0.016777      0.005846         0.014679        0.058986    0.001907   \n",
       "88        0.036175      0.002442         0.000388        0.173534    0.003874   \n",
       "135       0.006914      0.004381         0.017103        0.018467    0.001120   \n",
       "469            NaN      0.022652         0.008900        0.022886    0.010920   \n",
       "533       0.000420      0.014455         0.003486        0.086323    0.007560   \n",
       "564       0.008915      0.005006         0.035580        0.105137    0.010921   \n",
       "591       0.283470      0.000487         0.000048        0.151502    0.006573   \n",
       "667       0.191941      0.001014         0.001469        0.080960    0.000838   \n",
       "668       0.024110      0.005632         0.011514        0.188900    0.003641   \n",
       "677       0.008153      0.014209         0.000242        0.044273    0.001716   \n",
       "690       0.001894      0.005663         0.019544        0.016748    0.000919   \n",
       "768       0.016978      0.003851         0.008895        0.094559    0.017683   \n",
       "\n",
       "     ZZEF1 (23140)  ZZZ3 (26009)  \n",
       "75        0.023887           NaN  \n",
       "88        0.102615           NaN  \n",
       "135       0.037935           NaN  \n",
       "469       0.091312           NaN  \n",
       "533       0.632531           NaN  \n",
       "564       0.153708           NaN  \n",
       "591       0.017096           NaN  \n",
       "667       0.013519           NaN  \n",
       "668       0.049028           NaN  \n",
       "677       0.384644           NaN  \n",
       "690       0.023397           NaN  \n",
       "768       0.190292           NaN  \n",
       "\n",
       "[12 rows x 18120 columns]"
      ]
     },
     "execution_count": 30,
     "metadata": {},
     "output_type": "execute_result"
    }
   ],
   "source": [
    "dep[dep['RAN (5901)'].isnull()]\n"
   ]
  },
  {
   "cell_type": "code",
   "execution_count": 10,
   "metadata": {},
   "outputs": [
    {
     "name": "stdout",
     "output_type": "stream",
     "text": [
      "12\n",
      "0\n",
      "0\n"
     ]
    }
   ],
   "source": [
    "print(dep['RAN (5901)'].isnull().sum())\n",
    "print(dep['CDKN1A (1026)'].isnull().sum())\n",
    "print(dep['MDM2 (4193)'].isnull().sum())"
   ]
  },
  {
   "cell_type": "code",
   "execution_count": 7,
   "metadata": {},
   "outputs": [
    {
     "data": {
      "text/plain": [
       "(0.23544082592466523, 3.8041061892119593e-11)"
      ]
     },
     "execution_count": 7,
     "metadata": {},
     "output_type": "execute_result"
    }
   ],
   "source": [
    "pearsonr(dep['TP53 (7157)'],dep['CDKN1A (1026)'])"
   ]
  },
  {
   "cell_type": "code",
   "execution_count": 9,
   "metadata": {},
   "outputs": [
    {
     "data": {
      "text/plain": [
       "(-0.3512264810233069, 9.590539022551798e-24)"
      ]
     },
     "execution_count": 9,
     "metadata": {},
     "output_type": "execute_result"
    }
   ],
   "source": [
    "pearsonr(dep['TP53 (7157)'],dep['MDM2 (4193)'])"
   ]
  },
  {
   "cell_type": "code",
   "execution_count": 95,
   "metadata": {},
   "outputs": [],
   "source": [
    "#dep['MDM2 (4193)'].sort_values()"
   ]
  },
  {
   "cell_type": "code",
   "execution_count": 21,
   "metadata": {},
   "outputs": [
    {
     "data": {
      "text/plain": [
       "(769, 18119)"
      ]
     },
     "execution_count": 21,
     "metadata": {},
     "output_type": "execute_result"
    }
   ],
   "source": [
    "dep.shape"
   ]
  },
  {
   "cell_type": "code",
   "execution_count": 32,
   "metadata": {},
   "outputs": [],
   "source": [
    "dep2 = dep"
   ]
  },
  {
   "cell_type": "code",
   "execution_count": 6,
   "metadata": {},
   "outputs": [],
   "source": [
    "#dep = dep.drop('DepMap_ID',1)"
   ]
  },
  {
   "cell_type": "code",
   "execution_count": 109,
   "metadata": {},
   "outputs": [
    {
     "data": {
      "text/plain": [
       "<matplotlib.axes._subplots.AxesSubplot at 0x7fc9e3822400>"
      ]
     },
     "execution_count": 109,
     "metadata": {},
     "output_type": "execute_result"
    },
    {
     "data": {
      "image/png": "[encoded data removed]",
      "text/plain": [
       "<Figure size 432x288 with 1 Axes>"
      ]
     },
     "metadata": {
      "needs_background": "light"
     },
     "output_type": "display_data"
    }
   ],
   "source": [
    "gpx = dep[\"GPX4 (2879)\"].sort_values()\n",
    "gpx = gpx.reset_index()\n",
    "gpx = gpx.drop('index',1)\n",
    "gpx.plot()"
   ]
  },
  {
   "cell_type": "code",
   "execution_count": 6,
   "metadata": {},
   "outputs": [],
   "source": [
    "# the matrix\n",
    "correlations = dep.corr()"
   ]
  },
  {
   "cell_type": "code",
   "execution_count": 4,
   "metadata": {},
   "outputs": [
    {
     "data": {
      "text/plain": [
       "(1.0, 0.0)"
      ]
     },
     "execution_count": 4,
     "metadata": {},
     "output_type": "execute_result"
    }
   ],
   "source": [
    "sci.stats.pearsonr(dep['A2M (2)'][1:4],dep['A2M (2)'][1:4])"
   ]
  },
  {
   "cell_type": "code",
   "execution_count": 7,
   "metadata": {},
   "outputs": [],
   "source": [
    "#sci.stats.pearsonr(dep.columns.values,dep.columns.values)"
   ]
  },
  {
   "cell_type": "code",
   "execution_count": 38,
   "metadata": {},
   "outputs": [],
   "source": [
    "#correlations[[\"A2M (2)\"]].sort_values(by=['A2M (2)'])"
   ]
  },
  {
   "cell_type": "markdown",
   "metadata": {},
   "source": [
    "## Test Data fuer die Korrelation"
   ]
  },
  {
   "cell_type": "code",
   "execution_count": 4,
   "metadata": {},
   "outputs": [
    {
     "name": "stdout",
     "output_type": "stream",
     "text": [
      "     gene_a    gene_b    gene_c    gene_d    gene_e    gene_f\n",
      "0  0.735955  0.400680  0.246593  0.913273  0.747246  0.791465\n",
      "1  0.547346  0.072919  0.933062  0.232660  0.377221  0.343400\n",
      "2  0.654725  0.641919  0.297961  0.912088  0.441782  0.587996\n",
      "3  0.896772  0.286375  0.721536  0.371457  0.258281  0.909784\n",
      "4  0.756991  0.024119  0.475772  0.969679  0.989577  0.244825\n",
      "5  0.597021  0.679071  0.642593  0.648500  0.951326  0.211457\n"
     ]
    }
   ],
   "source": [
    "df = pd.DataFrame(np.random.random((6, 6)), columns=['gene_' + chr(i + ord('a')) for i in range(6)]) \n",
    "print(df)"
   ]
  },
  {
   "cell_type": "code",
   "execution_count": 28,
   "metadata": {},
   "outputs": [
    {
     "data": {
      "text/plain": [
       "[0, 2, 5]"
      ]
     },
     "execution_count": 28,
     "metadata": {},
     "output_type": "execute_result"
    }
   ],
   "source": [
    "query = df.query('gene_a > gene_b').iloc[::,0:2]\n",
    "query.index.to_list()"
   ]
  },
  {
   "cell_type": "code",
   "execution_count": 6,
   "metadata": {},
   "outputs": [],
   "source": [
    "def get_conditions(df):\n",
    "    # return row in which ga pairwise_correlation is higher than the average \n",
    "    result = df[(df.gene_a < df.gene_b) & (df.gene_a < df.gene_c) & (df.gene_a < df.gene_d)]\n",
    "    return result.index.to_list()\n",
    "    "
   ]
  },
  {
   "cell_type": "code",
   "execution_count": 7,
   "metadata": {},
   "outputs": [
    {
     "data": {
      "text/plain": [
       "[5]"
      ]
     },
     "execution_count": 7,
     "metadata": {},
     "output_type": "execute_result"
    }
   ],
   "source": [
    "get_conditions(df)"
   ]
  },
  {
   "cell_type": "code",
   "execution_count": 49,
   "metadata": {},
   "outputs": [
    {
     "data": {
      "text/html": [
       "<div>\n",
       "<style scoped>\n",
       "    .dataframe tbody tr th:only-of-type {\n",
       "        vertical-align: middle;\n",
       "    }\n",
       "\n",
       "    .dataframe tbody tr th {\n",
       "        vertical-align: top;\n",
       "    }\n",
       "\n",
       "    .dataframe thead th {\n",
       "        text-align: right;\n",
       "    }\n",
       "</style>\n",
       "<table border=\"1\" class=\"dataframe\">\n",
       "  <thead>\n",
       "    <tr style=\"text-align: right;\">\n",
       "      <th></th>\n",
       "      <th>level_0</th>\n",
       "      <th>index</th>\n",
       "      <th>gene_a</th>\n",
       "      <th>gene_b</th>\n",
       "      <th>gene_c</th>\n",
       "      <th>gene_d</th>\n",
       "      <th>gene_e</th>\n",
       "      <th>gene_f</th>\n",
       "    </tr>\n",
       "  </thead>\n",
       "  <tbody>\n",
       "    <tr>\n",
       "      <th>avana</th>\n",
       "      <td>0</td>\n",
       "      <td>0</td>\n",
       "      <td>0.000000</td>\n",
       "      <td>0.000000</td>\n",
       "      <td>0.000000</td>\n",
       "      <td>0.000000</td>\n",
       "      <td>0.000000</td>\n",
       "      <td>0.000000</td>\n",
       "    </tr>\n",
       "    <tr>\n",
       "      <th>plana</th>\n",
       "      <td>0</td>\n",
       "      <td>0</td>\n",
       "      <td>0.000000</td>\n",
       "      <td>0.000000</td>\n",
       "      <td>0.000000</td>\n",
       "      <td>0.000000</td>\n",
       "      <td>0.000000</td>\n",
       "      <td>0.000000</td>\n",
       "    </tr>\n",
       "    <tr>\n",
       "      <th>0</th>\n",
       "      <td>0</td>\n",
       "      <td>0</td>\n",
       "      <td>0.735955</td>\n",
       "      <td>0.400680</td>\n",
       "      <td>0.246593</td>\n",
       "      <td>0.913273</td>\n",
       "      <td>0.747246</td>\n",
       "      <td>0.791465</td>\n",
       "    </tr>\n",
       "    <tr>\n",
       "      <th>quana</th>\n",
       "      <td>0</td>\n",
       "      <td>0</td>\n",
       "      <td>0.000000</td>\n",
       "      <td>0.000000</td>\n",
       "      <td>0.000000</td>\n",
       "      <td>0.000000</td>\n",
       "      <td>0.000000</td>\n",
       "      <td>0.000000</td>\n",
       "    </tr>\n",
       "    <tr>\n",
       "      <th>1</th>\n",
       "      <td>1</td>\n",
       "      <td>1</td>\n",
       "      <td>0.547346</td>\n",
       "      <td>0.072919</td>\n",
       "      <td>0.933062</td>\n",
       "      <td>0.232660</td>\n",
       "      <td>0.377221</td>\n",
       "      <td>0.343400</td>\n",
       "    </tr>\n",
       "    <tr>\n",
       "      <th>tana</th>\n",
       "      <td>0</td>\n",
       "      <td>0</td>\n",
       "      <td>0.000000</td>\n",
       "      <td>0.000000</td>\n",
       "      <td>0.000000</td>\n",
       "      <td>0.000000</td>\n",
       "      <td>0.000000</td>\n",
       "      <td>0.000000</td>\n",
       "    </tr>\n",
       "  </tbody>\n",
       "</table>\n",
       "</div>"
      ],
      "text/plain": [
       "       level_0  index    gene_a    gene_b    gene_c    gene_d    gene_e  \\\n",
       "avana        0      0  0.000000  0.000000  0.000000  0.000000  0.000000   \n",
       "plana        0      0  0.000000  0.000000  0.000000  0.000000  0.000000   \n",
       "0            0      0  0.735955  0.400680  0.246593  0.913273  0.747246   \n",
       "quana        0      0  0.000000  0.000000  0.000000  0.000000  0.000000   \n",
       "1            1      1  0.547346  0.072919  0.933062  0.232660  0.377221   \n",
       "tana         0      0  0.000000  0.000000  0.000000  0.000000  0.000000   \n",
       "\n",
       "         gene_f  \n",
       "avana  0.000000  \n",
       "plana  0.000000  \n",
       "0      0.791465  \n",
       "quana  0.000000  \n",
       "1      0.343400  \n",
       "tana   0.000000  "
      ]
     },
     "execution_count": 49,
     "metadata": {},
     "output_type": "execute_result"
    }
   ],
   "source": [
    "new = ['avana',\"plana\",0,'quana',1,'tana']\n",
    "df = df.reindex(new, fill_value=0)"
   ]
  },
  {
   "cell_type": "code",
   "execution_count": 55,
   "metadata": {},
   "outputs": [
    {
     "data": {
      "text/html": [
       "<div>\n",
       "<style scoped>\n",
       "    .dataframe tbody tr th:only-of-type {\n",
       "        vertical-align: middle;\n",
       "    }\n",
       "\n",
       "    .dataframe tbody tr th {\n",
       "        vertical-align: top;\n",
       "    }\n",
       "\n",
       "    .dataframe thead th {\n",
       "        text-align: right;\n",
       "    }\n",
       "</style>\n",
       "<table border=\"1\" class=\"dataframe\">\n",
       "  <thead>\n",
       "    <tr style=\"text-align: right;\">\n",
       "      <th></th>\n",
       "      <th>atg</th>\n",
       "      <th>pln</th>\n",
       "      <th>2</th>\n",
       "      <th>3</th>\n",
       "      <th>4</th>\n",
       "      <th>5</th>\n",
       "    </tr>\n",
       "  </thead>\n",
       "  <tbody>\n",
       "    <tr>\n",
       "      <th>level_0</th>\n",
       "      <td>0.000000</td>\n",
       "      <td>1.000000</td>\n",
       "      <td>2.000000</td>\n",
       "      <td>3.000000</td>\n",
       "      <td>4.000000</td>\n",
       "      <td>5.000000</td>\n",
       "    </tr>\n",
       "    <tr>\n",
       "      <th>index</th>\n",
       "      <td>0.000000</td>\n",
       "      <td>1.000000</td>\n",
       "      <td>2.000000</td>\n",
       "      <td>3.000000</td>\n",
       "      <td>4.000000</td>\n",
       "      <td>5.000000</td>\n",
       "    </tr>\n",
       "    <tr>\n",
       "      <th>gene_a</th>\n",
       "      <td>0.735955</td>\n",
       "      <td>0.547346</td>\n",
       "      <td>0.654725</td>\n",
       "      <td>0.896772</td>\n",
       "      <td>0.756991</td>\n",
       "      <td>0.597021</td>\n",
       "    </tr>\n",
       "    <tr>\n",
       "      <th>gene_b</th>\n",
       "      <td>0.400680</td>\n",
       "      <td>0.072919</td>\n",
       "      <td>0.641919</td>\n",
       "      <td>0.286375</td>\n",
       "      <td>0.024119</td>\n",
       "      <td>0.679071</td>\n",
       "    </tr>\n",
       "    <tr>\n",
       "      <th>gene_c</th>\n",
       "      <td>0.246593</td>\n",
       "      <td>0.933062</td>\n",
       "      <td>0.297961</td>\n",
       "      <td>0.721536</td>\n",
       "      <td>0.475772</td>\n",
       "      <td>0.642593</td>\n",
       "    </tr>\n",
       "    <tr>\n",
       "      <th>gene_d</th>\n",
       "      <td>0.913273</td>\n",
       "      <td>0.232660</td>\n",
       "      <td>0.912088</td>\n",
       "      <td>0.371457</td>\n",
       "      <td>0.969679</td>\n",
       "      <td>0.648500</td>\n",
       "    </tr>\n",
       "    <tr>\n",
       "      <th>gene_e</th>\n",
       "      <td>0.747246</td>\n",
       "      <td>0.377221</td>\n",
       "      <td>0.441782</td>\n",
       "      <td>0.258281</td>\n",
       "      <td>0.989577</td>\n",
       "      <td>0.951326</td>\n",
       "    </tr>\n",
       "    <tr>\n",
       "      <th>gene_f</th>\n",
       "      <td>0.791465</td>\n",
       "      <td>0.343400</td>\n",
       "      <td>0.587996</td>\n",
       "      <td>0.909784</td>\n",
       "      <td>0.244825</td>\n",
       "      <td>0.211457</td>\n",
       "    </tr>\n",
       "  </tbody>\n",
       "</table>\n",
       "</div>"
      ],
      "text/plain": [
       "              atg       pln         2         3         4         5\n",
       "level_0  0.000000  1.000000  2.000000  3.000000  4.000000  5.000000\n",
       "index    0.000000  1.000000  2.000000  3.000000  4.000000  5.000000\n",
       "gene_a   0.735955  0.547346  0.654725  0.896772  0.756991  0.597021\n",
       "gene_b   0.400680  0.072919  0.641919  0.286375  0.024119  0.679071\n",
       "gene_c   0.246593  0.933062  0.297961  0.721536  0.475772  0.642593\n",
       "gene_d   0.913273  0.232660  0.912088  0.371457  0.969679  0.648500\n",
       "gene_e   0.747246  0.377221  0.441782  0.258281  0.989577  0.951326\n",
       "gene_f   0.791465  0.343400  0.587996  0.909784  0.244825  0.211457"
      ]
     },
     "execution_count": 55,
     "metadata": {},
     "output_type": "execute_result"
    }
   ],
   "source": [
    "df = df.T\n",
    "df.rename(columns={0:'atg',1:'pln'})"
   ]
  },
  {
   "cell_type": "code",
   "execution_count": null,
   "metadata": {},
   "outputs": [],
   "source": []
  },
  {
   "cell_type": "code",
   "execution_count": 8,
   "metadata": {},
   "outputs": [
    {
     "data": {
      "text/html": [
       "<div>\n",
       "<style scoped>\n",
       "    .dataframe tbody tr th:only-of-type {\n",
       "        vertical-align: middle;\n",
       "    }\n",
       "\n",
       "    .dataframe tbody tr th {\n",
       "        vertical-align: top;\n",
       "    }\n",
       "\n",
       "    .dataframe thead th {\n",
       "        text-align: right;\n",
       "    }\n",
       "</style>\n",
       "<table border=\"1\" class=\"dataframe\">\n",
       "  <thead>\n",
       "    <tr style=\"text-align: right;\">\n",
       "      <th></th>\n",
       "      <th>gene_a</th>\n",
       "      <th>gene_b</th>\n",
       "      <th>gene_c</th>\n",
       "      <th>gene_d</th>\n",
       "      <th>gene_e</th>\n",
       "      <th>gene_f</th>\n",
       "    </tr>\n",
       "  </thead>\n",
       "  <tbody>\n",
       "    <tr>\n",
       "      <th>0</th>\n",
       "      <td>0.735955</td>\n",
       "      <td>0.400680</td>\n",
       "      <td>0.246593</td>\n",
       "      <td>0.913273</td>\n",
       "      <td>0.747246</td>\n",
       "      <td>0.791465</td>\n",
       "    </tr>\n",
       "    <tr>\n",
       "      <th>1</th>\n",
       "      <td>0.547346</td>\n",
       "      <td>0.072919</td>\n",
       "      <td>0.933062</td>\n",
       "      <td>0.232660</td>\n",
       "      <td>0.377221</td>\n",
       "      <td>0.343400</td>\n",
       "    </tr>\n",
       "    <tr>\n",
       "      <th>2</th>\n",
       "      <td>0.654725</td>\n",
       "      <td>0.641919</td>\n",
       "      <td>0.297961</td>\n",
       "      <td>0.912088</td>\n",
       "      <td>0.441782</td>\n",
       "      <td>0.587996</td>\n",
       "    </tr>\n",
       "    <tr>\n",
       "      <th>3</th>\n",
       "      <td>0.896772</td>\n",
       "      <td>0.286375</td>\n",
       "      <td>0.721536</td>\n",
       "      <td>0.371457</td>\n",
       "      <td>0.258281</td>\n",
       "      <td>0.909784</td>\n",
       "    </tr>\n",
       "    <tr>\n",
       "      <th>4</th>\n",
       "      <td>0.756991</td>\n",
       "      <td>0.024119</td>\n",
       "      <td>0.475772</td>\n",
       "      <td>0.969679</td>\n",
       "      <td>0.989577</td>\n",
       "      <td>0.244825</td>\n",
       "    </tr>\n",
       "    <tr>\n",
       "      <th>5</th>\n",
       "      <td>0.597021</td>\n",
       "      <td>0.679071</td>\n",
       "      <td>0.642593</td>\n",
       "      <td>0.648500</td>\n",
       "      <td>0.951326</td>\n",
       "      <td>0.211457</td>\n",
       "    </tr>\n",
       "  </tbody>\n",
       "</table>\n",
       "</div>"
      ],
      "text/plain": [
       "     gene_a    gene_b    gene_c    gene_d    gene_e    gene_f\n",
       "0  0.735955  0.400680  0.246593  0.913273  0.747246  0.791465\n",
       "1  0.547346  0.072919  0.933062  0.232660  0.377221  0.343400\n",
       "2  0.654725  0.641919  0.297961  0.912088  0.441782  0.587996\n",
       "3  0.896772  0.286375  0.721536  0.371457  0.258281  0.909784\n",
       "4  0.756991  0.024119  0.475772  0.969679  0.989577  0.244825\n",
       "5  0.597021  0.679071  0.642593  0.648500  0.951326  0.211457"
      ]
     },
     "execution_count": 8,
     "metadata": {},
     "output_type": "execute_result"
    }
   ],
   "source": [
    "df"
   ]
  },
  {
   "cell_type": "code",
   "execution_count": 34,
   "metadata": {},
   "outputs": [
    {
     "data": {
      "text/html": [
       "<div>\n",
       "<style scoped>\n",
       "    .dataframe tbody tr th:only-of-type {\n",
       "        vertical-align: middle;\n",
       "    }\n",
       "\n",
       "    .dataframe tbody tr th {\n",
       "        vertical-align: top;\n",
       "    }\n",
       "\n",
       "    .dataframe thead th {\n",
       "        text-align: right;\n",
       "    }\n",
       "</style>\n",
       "<table border=\"1\" class=\"dataframe\">\n",
       "  <thead>\n",
       "    <tr style=\"text-align: right;\">\n",
       "      <th></th>\n",
       "      <th>gene_a</th>\n",
       "      <th>gene_b</th>\n",
       "      <th>gene_c</th>\n",
       "      <th>gene_d</th>\n",
       "      <th>gene_e</th>\n",
       "      <th>gene_f</th>\n",
       "    </tr>\n",
       "  </thead>\n",
       "  <tbody>\n",
       "    <tr>\n",
       "      <th>0</th>\n",
       "      <td>0.735955</td>\n",
       "      <td>0.400680</td>\n",
       "      <td>0.246593</td>\n",
       "      <td>0.913273</td>\n",
       "      <td>0.747246</td>\n",
       "      <td>0.791465</td>\n",
       "    </tr>\n",
       "    <tr>\n",
       "      <th>2</th>\n",
       "      <td>0.654725</td>\n",
       "      <td>0.641919</td>\n",
       "      <td>0.297961</td>\n",
       "      <td>0.912088</td>\n",
       "      <td>0.441782</td>\n",
       "      <td>0.587996</td>\n",
       "    </tr>\n",
       "    <tr>\n",
       "      <th>4</th>\n",
       "      <td>0.756991</td>\n",
       "      <td>0.024119</td>\n",
       "      <td>0.475772</td>\n",
       "      <td>0.969679</td>\n",
       "      <td>0.989577</td>\n",
       "      <td>0.244825</td>\n",
       "    </tr>\n",
       "  </tbody>\n",
       "</table>\n",
       "</div>"
      ],
      "text/plain": [
       "     gene_a    gene_b    gene_c    gene_d    gene_e    gene_f\n",
       "0  0.735955  0.400680  0.246593  0.913273  0.747246  0.791465\n",
       "2  0.654725  0.641919  0.297961  0.912088  0.441782  0.587996\n",
       "4  0.756991  0.024119  0.475772  0.969679  0.989577  0.244825"
      ]
     },
     "execution_count": 34,
     "metadata": {},
     "output_type": "execute_result"
    }
   ],
   "source": [
    "df[(df.gene_a > 0.6) &  (df.gene_a < 0.8)]"
   ]
  },
  {
   "cell_type": "markdown",
   "metadata": {},
   "source": [
    "check out biclustering.\n",
    "\n",
    "find a way to return indices of relevant genes\n"
   ]
  },
  {
   "cell_type": "code",
   "execution_count": 59,
   "metadata": {},
   "outputs": [
    {
     "data": {
      "text/html": [
       "<div>\n",
       "<style scoped>\n",
       "    .dataframe tbody tr th:only-of-type {\n",
       "        vertical-align: middle;\n",
       "    }\n",
       "\n",
       "    .dataframe tbody tr th {\n",
       "        vertical-align: top;\n",
       "    }\n",
       "\n",
       "    .dataframe thead th {\n",
       "        text-align: right;\n",
       "    }\n",
       "</style>\n",
       "<table border=\"1\" class=\"dataframe\">\n",
       "  <thead>\n",
       "    <tr style=\"text-align: right;\">\n",
       "      <th></th>\n",
       "      <th>DepMap_ID</th>\n",
       "      <th>stripped_cell_line_name</th>\n",
       "      <th>CCLE_Name</th>\n",
       "      <th>Alias</th>\n",
       "      <th>COSMICID</th>\n",
       "      <th>sex</th>\n",
       "      <th>source</th>\n",
       "      <th>Achilles_n_replicates</th>\n",
       "      <th>cell_line_NNMD</th>\n",
       "      <th>culture_type</th>\n",
       "      <th>...</th>\n",
       "      <th>primary_or_metastasis</th>\n",
       "      <th>primary_disease</th>\n",
       "      <th>Subtype</th>\n",
       "      <th>age</th>\n",
       "      <th>Sanger_Model_ID</th>\n",
       "      <th>depmap_public_comments</th>\n",
       "      <th>lineage</th>\n",
       "      <th>lineage_subtype</th>\n",
       "      <th>lineage_sub_subtype</th>\n",
       "      <th>lineage_molecular_subtype</th>\n",
       "    </tr>\n",
       "  </thead>\n",
       "  <tbody>\n",
       "    <tr>\n",
       "      <th>0</th>\n",
       "      <td>ACH-000001</td>\n",
       "      <td>NIHOVCAR3</td>\n",
       "      <td>NIHOVCAR3_OVARY</td>\n",
       "      <td>OVCAR3</td>\n",
       "      <td>905933.0</td>\n",
       "      <td>Female</td>\n",
       "      <td>ATCC</td>\n",
       "      <td>NaN</td>\n",
       "      <td>NaN</td>\n",
       "      <td>NaN</td>\n",
       "      <td>...</td>\n",
       "      <td>Metastasis</td>\n",
       "      <td>Ovarian Cancer</td>\n",
       "      <td>Adenocarcinoma, high grade serous</td>\n",
       "      <td>60.0</td>\n",
       "      <td>SIDM00105</td>\n",
       "      <td>NaN</td>\n",
       "      <td>ovary</td>\n",
       "      <td>ovary_adenocarcinoma</td>\n",
       "      <td>high_grade_serous</td>\n",
       "      <td>NaN</td>\n",
       "    </tr>\n",
       "    <tr>\n",
       "      <th>1</th>\n",
       "      <td>ACH-000002</td>\n",
       "      <td>HL60</td>\n",
       "      <td>HL60_HAEMATOPOIETIC_AND_LYMPHOID_TISSUE</td>\n",
       "      <td>NaN</td>\n",
       "      <td>905938.0</td>\n",
       "      <td>Female</td>\n",
       "      <td>ATCC</td>\n",
       "      <td>NaN</td>\n",
       "      <td>NaN</td>\n",
       "      <td>NaN</td>\n",
       "      <td>...</td>\n",
       "      <td>Primary</td>\n",
       "      <td>Leukemia</td>\n",
       "      <td>Acute Myelogenous Leukemia (AML), M3 (Promyelo...</td>\n",
       "      <td>35.0</td>\n",
       "      <td>SIDM00829</td>\n",
       "      <td>NaN</td>\n",
       "      <td>blood</td>\n",
       "      <td>AML</td>\n",
       "      <td>M3</td>\n",
       "      <td>NaN</td>\n",
       "    </tr>\n",
       "    <tr>\n",
       "      <th>2</th>\n",
       "      <td>ACH-000003</td>\n",
       "      <td>CACO2</td>\n",
       "      <td>CACO2_LARGE_INTESTINE</td>\n",
       "      <td>CACO2, CaCo-2</td>\n",
       "      <td>NaN</td>\n",
       "      <td>Male</td>\n",
       "      <td>ATCC</td>\n",
       "      <td>NaN</td>\n",
       "      <td>NaN</td>\n",
       "      <td>NaN</td>\n",
       "      <td>...</td>\n",
       "      <td>NaN</td>\n",
       "      <td>Colon/Colorectal Cancer</td>\n",
       "      <td>Adenocarcinoma</td>\n",
       "      <td>NaN</td>\n",
       "      <td>SIDM00891</td>\n",
       "      <td>NaN</td>\n",
       "      <td>colorectal</td>\n",
       "      <td>colorectal_adenocarcinoma</td>\n",
       "      <td>NaN</td>\n",
       "      <td>NaN</td>\n",
       "    </tr>\n",
       "    <tr>\n",
       "      <th>3</th>\n",
       "      <td>ACH-000004</td>\n",
       "      <td>HEL</td>\n",
       "      <td>HEL_HAEMATOPOIETIC_AND_LYMPHOID_TISSUE</td>\n",
       "      <td>NaN</td>\n",
       "      <td>907053.0</td>\n",
       "      <td>Male</td>\n",
       "      <td>DSMZ</td>\n",
       "      <td>2.0</td>\n",
       "      <td>-3.079202</td>\n",
       "      <td>Suspension</td>\n",
       "      <td>...</td>\n",
       "      <td>NaN</td>\n",
       "      <td>Leukemia</td>\n",
       "      <td>Acute Myelogenous Leukemia (AML), M6 (Erythrol...</td>\n",
       "      <td>30.0</td>\n",
       "      <td>SIDM00594</td>\n",
       "      <td>NaN</td>\n",
       "      <td>blood</td>\n",
       "      <td>AML</td>\n",
       "      <td>M6</td>\n",
       "      <td>NaN</td>\n",
       "    </tr>\n",
       "    <tr>\n",
       "      <th>4</th>\n",
       "      <td>ACH-000005</td>\n",
       "      <td>HEL9217</td>\n",
       "      <td>HEL9217_HAEMATOPOIETIC_AND_LYMPHOID_TISSUE</td>\n",
       "      <td>NaN</td>\n",
       "      <td>NaN</td>\n",
       "      <td>Male</td>\n",
       "      <td>ATCC</td>\n",
       "      <td>2.0</td>\n",
       "      <td>-2.404409</td>\n",
       "      <td>Mixed adherent and suspension</td>\n",
       "      <td>...</td>\n",
       "      <td>NaN</td>\n",
       "      <td>Leukemia</td>\n",
       "      <td>Acute Myelogenous Leukemia (AML), M6 (Erythrol...</td>\n",
       "      <td>30.0</td>\n",
       "      <td>SIDM00593</td>\n",
       "      <td>NaN</td>\n",
       "      <td>blood</td>\n",
       "      <td>AML</td>\n",
       "      <td>M6</td>\n",
       "      <td>NaN</td>\n",
       "    </tr>\n",
       "  </tbody>\n",
       "</table>\n",
       "<p>5 rows × 24 columns</p>\n",
       "</div>"
      ],
      "text/plain": [
       "    DepMap_ID stripped_cell_line_name  \\\n",
       "0  ACH-000001               NIHOVCAR3   \n",
       "1  ACH-000002                    HL60   \n",
       "2  ACH-000003                   CACO2   \n",
       "3  ACH-000004                     HEL   \n",
       "4  ACH-000005                 HEL9217   \n",
       "\n",
       "                                    CCLE_Name          Alias  COSMICID  \\\n",
       "0                             NIHOVCAR3_OVARY         OVCAR3  905933.0   \n",
       "1     HL60_HAEMATOPOIETIC_AND_LYMPHOID_TISSUE            NaN  905938.0   \n",
       "2                       CACO2_LARGE_INTESTINE  CACO2, CaCo-2       NaN   \n",
       "3      HEL_HAEMATOPOIETIC_AND_LYMPHOID_TISSUE            NaN  907053.0   \n",
       "4  HEL9217_HAEMATOPOIETIC_AND_LYMPHOID_TISSUE            NaN       NaN   \n",
       "\n",
       "      sex source  Achilles_n_replicates  cell_line_NNMD  \\\n",
       "0  Female   ATCC                    NaN             NaN   \n",
       "1  Female   ATCC                    NaN             NaN   \n",
       "2    Male   ATCC                    NaN             NaN   \n",
       "3    Male   DSMZ                    2.0       -3.079202   \n",
       "4    Male   ATCC                    2.0       -2.404409   \n",
       "\n",
       "                    culture_type  ... primary_or_metastasis  \\\n",
       "0                            NaN  ...            Metastasis   \n",
       "1                            NaN  ...               Primary   \n",
       "2                            NaN  ...                   NaN   \n",
       "3                     Suspension  ...                   NaN   \n",
       "4  Mixed adherent and suspension  ...                   NaN   \n",
       "\n",
       "           primary_disease                                            Subtype  \\\n",
       "0           Ovarian Cancer                  Adenocarcinoma, high grade serous   \n",
       "1                 Leukemia  Acute Myelogenous Leukemia (AML), M3 (Promyelo...   \n",
       "2  Colon/Colorectal Cancer                                     Adenocarcinoma   \n",
       "3                 Leukemia  Acute Myelogenous Leukemia (AML), M6 (Erythrol...   \n",
       "4                 Leukemia  Acute Myelogenous Leukemia (AML), M6 (Erythrol...   \n",
       "\n",
       "    age Sanger_Model_ID depmap_public_comments     lineage  \\\n",
       "0  60.0       SIDM00105                    NaN       ovary   \n",
       "1  35.0       SIDM00829                    NaN       blood   \n",
       "2   NaN       SIDM00891                    NaN  colorectal   \n",
       "3  30.0       SIDM00594                    NaN       blood   \n",
       "4  30.0       SIDM00593                    NaN       blood   \n",
       "\n",
       "             lineage_subtype lineage_sub_subtype lineage_molecular_subtype  \n",
       "0       ovary_adenocarcinoma   high_grade_serous                       NaN  \n",
       "1                        AML                  M3                       NaN  \n",
       "2  colorectal_adenocarcinoma                 NaN                       NaN  \n",
       "3                        AML                  M6                       NaN  \n",
       "4                        AML                  M6                       NaN  \n",
       "\n",
       "[5 rows x 24 columns]"
      ]
     },
     "execution_count": 59,
     "metadata": {},
     "output_type": "execute_result"
    }
   ],
   "source": [
    "data = pd.read_csv(\"/home/annerer/Downloads/sample_info.csv\")\n",
    "data['RAN']"
   ]
  },
  {
   "cell_type": "code",
   "execution_count": null,
   "metadata": {},
   "outputs": [],
   "source": []
  },
  {
   "cell_type": "markdown",
   "metadata": {},
   "source": [
    "## Umbenennen der Zelllinien. "
   ]
  },
  {
   "cell_type": "markdown",
   "metadata": {},
   "source": [
    "siehe querrying depmap"
   ]
  },
  {
   "cell_type": "code",
   "execution_count": 120,
   "metadata": {},
   "outputs": [],
   "source": [
    "mapping = {}\n",
    "\n",
    "for i in np.arange(0,data.shape[0],1):\n",
    "    mapping[data.DepMap_ID[i]] = data.CCLE_Name[i]\n",
    "\n",
    "#mappign = data[['CCLE_Name','DepMap_ID']].to_dict()"
   ]
  },
  {
   "cell_type": "code",
   "execution_count": 121,
   "metadata": {},
   "outputs": [],
   "source": [
    "dep = pd.read_csv(\"/home/annerer/Downloads/Achilles_gene_dependency.csv\")"
   ]
  },
  {
   "cell_type": "code",
   "execution_count": 123,
   "metadata": {},
   "outputs": [],
   "source": [
    "dep[\"new_index\"] = dep.DepMap_ID\n",
    "dep = dep.set_index('new_index')"
   ]
  },
  {
   "cell_type": "code",
   "execution_count": 124,
   "metadata": {},
   "outputs": [],
   "source": [
    "dep = dep.rename(index=mapping)"
   ]
  },
  {
   "cell_type": "markdown",
   "metadata": {},
   "source": [
    "password for phosphosite:\n",
    "\n",
    "EfBGWYFFN8UtbAi"
   ]
  },
  {
   "cell_type": "code",
   "execution_count": 58,
   "metadata": {},
   "outputs": [],
   "source": [
    "#df = pd.DataFrame(np.random.randn(10, 2), columns=list('ab'))\n",
    "#df.query('a > b')"
   ]
  },
  {
   "cell_type": "code",
   "execution_count": 41,
   "metadata": {},
   "outputs": [
    {
     "name": "stdout",
     "output_type": "stream",
     "text": [
      "     gene_a    gene_b    gene_c    gene_d    gene_e    gene_f\n",
      "0  0.665301  0.869902  0.879890  0.169911  0.608579  0.341876\n",
      "1  0.277930  0.497177  0.199557  0.956748  0.328038  0.248854\n",
      "2  0.438563  0.367788  0.437718  0.481967  0.745440  0.861007\n",
      "3  0.878028  0.214308  0.532944  0.560893  0.383670  0.271503\n",
      "4  0.725735  0.719277  0.773572  0.248921  0.191922  0.422448\n",
      "5  0.032156  0.146041  0.829202  0.918093  0.877938  0.340987\n"
     ]
    }
   ],
   "source": [
    "df = pd.DataFrame(np.random.random((6, 6)), columns=['gene_' + chr(i + ord('a')) for i in range(6)]) \n",
    "print(df)\n",
    "df['gene_a'][3] = np.nan\n",
    "df['gene_d'][4] = np.nan\n",
    "df['gene_c'][2] = np.nan\n",
    "df['gene_f'][1] = np.nan"
   ]
  },
  {
   "cell_type": "code",
   "execution_count": 59,
   "metadata": {},
   "outputs": [],
   "source": [
    "# !!!\n",
    "correlations = {}\n",
    "\n",
    "for col_a, col_b in itertools.combinations(df, 2):\n",
    "    nas = np.logical_or(np.isnan(df[col_a]), np.isnan(df[col_b]))\n",
    "    corr = pearsonr(df[col_a][~nas], df[col_b][~nas])\n",
    "    correlations[col_a + '__' + col_b] = corr\n",
    "# !!!"
   ]
  },
  {
   "cell_type": "code",
   "execution_count": 61,
   "metadata": {},
   "outputs": [],
   "source": [
    "result = pd.DataFrame.from_dict(correlations, orient='index')\n",
    "result.columns = ['PCC', 'p-value']"
   ]
  },
  {
   "cell_type": "code",
   "execution_count": 50,
   "metadata": {},
   "outputs": [],
   "source": [
    "correlations = {}\n",
    "columns = df.columns.tolist()"
   ]
  },
  {
   "cell_type": "code",
   "execution_count": 56,
   "metadata": {},
   "outputs": [],
   "source": [
    "sorted_pcc = result.sort_values(by=[\"PCC\"])"
   ]
  },
  {
   "cell_type": "code",
   "execution_count": 66,
   "metadata": {},
   "outputs": [
    {
     "data": {
      "text/plain": [
       "<matplotlib.axes._subplots.AxesSubplot at 0x7fc9e5a3b198>"
      ]
     },
     "execution_count": 66,
     "metadata": {},
     "output_type": "execute_result"
    },
    {
     "data": {
      "image/png": "[encoded data removed]",
      "text/plain": [
       "<Figure size 432x288 with 1 Axes>"
      ]
     },
     "metadata": {
      "needs_background": "light"
     },
     "output_type": "display_data"
    }
   ],
   "source": [
    "sorted_pcc.plot()"
   ]
  },
  {
   "cell_type": "markdown",
   "metadata": {},
   "source": [
    "## Pairwise Gene Correlations DepMap 20Q2"
   ]
  },
  {
   "cell_type": "code",
   "execution_count": 47,
   "metadata": {},
   "outputs": [],
   "source": [
    "cols = data.columns.tolist()"
   ]
  },
  {
   "cell_type": "code",
   "execution_count": null,
   "metadata": {},
   "outputs": [],
   "source": [
    "result.sort_values(by=['PCC'])"
   ]
  },
  {
   "cell_type": "code",
   "execution_count": 14,
   "metadata": {},
   "outputs": [],
   "source": [
    "# berechnung dauert lang, unbedingt als csv exportieren\n",
    "result.to_csv('pairwise-gene-correlations-DepMap-20Q2.csv')"
   ]
  },
  {
   "cell_type": "markdown",
   "metadata": {},
   "source": [
    "todo:\n",
    "for the gene interaction pairs\n",
    "pair-correlation-scoreverteilung binnen und plotten. Unerwartete Bimodalitaet bzw tails?\n",
    "\n",
    "dependency-matrix clustern. ?\n",
    "\n",
    "wir nehmen die besten 15% der scores und \n",
    "nehmen die relevanten matrixteile als unsere\n",
    "neue ausgangsmatrix.\n",
    "diese sollte man nun durchsuchen koennen,\n",
    "naemlich nach Gen-paaren. \n",
    "dh die matrix besteht aus conditions, die\n",
    "unser output sind, und signifikanten gen-paaren.\n",
    "conditions bleiben alle, wir beschneiden die\n",
    "gene die wir drinlassen. \n",
    "frage: wie sehen wir die? wir haben die werte\n",
    "ja von den gen-paaren, und jetzt eine matrix \n",
    "von genen und conditions.\n",
    "\n",
    "   c c c c c c c c c \n",
    "\n",
    "g  1 0 0 0 0 0 0 0 0 \n",
    "\n",
    "g  1 0 0 0 0 0 0 0 0\n",
    "\n",
    "\n",
    "macht das sinn?\n",
    "todo also:\n",
    "how to efficiently rename colum names, for conditions.\n",
    "if you can do that, i am still not sure if the same lines will mean anything. see if it works with the depmap and the avana data."
   ]
  },
  {
   "cell_type": "code",
   "execution_count": null,
   "metadata": {},
   "outputs": [],
   "source": [
    "import pandas as pd\n",
    "import numpy as np\n",
    "import scipy as sci\n",
    "import itertools\n",
    "from scipy.stats import pearsonr\n",
    "\n",
    "dep = pd.read_csv(\"/home/annerer/Downloads/Achilles_gene_dependency.csv\")\n",
    "\n",
    "data = dep\n",
    "data = data.replace(-np.inf, np.nan)\n",
    "data = data.replace(np.inf,np.nan)\n",
    "data = data.fillna(0)\n",
    "corrs = {}\n",
    "cols = data.columns.tolist()\n",
    "\n",
    "for col_a, col_b in itertools.combinations(cols, 2):\n",
    "    nas = np.logical_or(np.isnan(col_a), np.isnan(col_b))\n",
    "    corr = pearsonr(x[~nas], y[~nas])\n",
    "    corrs[col_a + '_' + col_b] = pearsonr(data.loc[:, col_a], data.loc[:, col_b])   \n",
    "    \n",
    "    \n",
    "result = pd.DataFrame.from_dict(corrs, orient='index')\n",
    "result.columns = ['PCC', 'p-value']\n",
    "\n",
    "print(result.sort_index())\n",
    "# berechnung dauert lang, unbedingt als csv exportieren\n",
    "result.to_csv('pairwise-gene-correlations-DepMap-20Q2.csv')"
   ]
  },
  {
   "cell_type": "markdown",
   "metadata": {},
   "source": [
    "### 11.5 GB output file of Correlated Gene-Dependency (Probability of Depletion Effect) pairs. Calculated on Sauron Cluster of KFU."
   ]
  },
  {
   "cell_type": "code",
   "execution_count": 28,
   "metadata": {},
   "outputs": [],
   "source": [
    "corrs = pd.read_csv(\"/home/annerer/Dokumente/pairwise.csv\")\n",
    "corrs = corrs.rename(columns={'Unnamed: 0': 'pair','PCC':'PCC','p-value':'pvalue'})"
   ]
  },
  {
   "cell_type": "code",
   "execution_count": 31,
   "metadata": {},
   "outputs": [],
   "source": [
    "(by=\"PCC\")"
   ]
  },
  {
   "cell_type": "code",
   "execution_count": 35,
   "metadata": {},
   "outputs": [
    {
     "data": {
      "image/png": "[encoded data removed]",
      "text/plain": [
       "<Figure size 432x288 with 1 Axes>"
      ]
     },
     "metadata": {
      "needs_background": "light"
     },
     "output_type": "display_data"
    }
   ],
   "source": [
    "sorted_corrs['PCC'].hist(bins=1000)\n",
    "plt.title(\"Pairwise Pearson correlations of the DepMap 20Q2 Genes\")\n",
    "plt.xlabel(\"Pearson Correlation\")\n",
    "plt.ylabel(\"Number of Genes\")\n",
    "plt.savefig('pcc_histogram')"
   ]
  },
  {
   "cell_type": "code",
   "execution_count": 9,
   "metadata": {},
   "outputs": [],
   "source": [
    "#sorted_corrs.plot()"
   ]
  },
  {
   "cell_type": "code",
   "execution_count": null,
   "metadata": {},
   "outputs": [],
   "source": [
    "sorted_corrs.tail(20)"
   ]
  },
  {
   "cell_type": "code",
   "execution_count": 133,
   "metadata": {},
   "outputs": [],
   "source": [
    "#top_ten_percent = np.int(np.round(0.1*np.shape(sorted_corrs)[0]))\n",
    "\n",
    "#sorted_corrs[['PCC']].nlargest(top_ten_percent)"
   ]
  },
  {
   "cell_type": "code",
   "execution_count": 28,
   "metadata": {},
   "outputs": [
    {
     "data": {
      "text/plain": [
       "16414002"
      ]
     },
     "execution_count": 28,
     "metadata": {},
     "output_type": "execute_result"
    }
   ],
   "source": [
    "top_ten_percent = np.int(np.round(0.1*np.shape(sorted_corrs)[0]))"
   ]
  },
  {
   "cell_type": "code",
   "execution_count": 22,
   "metadata": {},
   "outputs": [
    {
     "data": {
      "text/plain": [
       "(164140021, 3)"
      ]
     },
     "execution_count": 22,
     "metadata": {},
     "output_type": "execute_result"
    }
   ],
   "source": [
    "np.shape(sorted_corrs)"
   ]
  },
  {
   "cell_type": "code",
   "execution_count": 5,
   "metadata": {},
   "outputs": [],
   "source": [
    "#sorted_corrs[(sorted_corrs.pvalue > 0.7) & (sorted_corrs.p-value < 0.8)]"
   ]
  },
  {
   "cell_type": "code",
   "execution_count": 14,
   "metadata": {},
   "outputs": [
    {
     "data": {
      "text/plain": [
       "(0.27689410232627454, 5.307131873700017e-15)"
      ]
     },
     "execution_count": 14,
     "metadata": {},
     "output_type": "execute_result"
    }
   ],
   "source": [
    "pearsonr(dep['RFX8 (731220)'].fillna(0),dep[\"TBC1D8 (11138)\"].fillna(0))"
   ]
  },
  {
   "cell_type": "code",
   "execution_count": 15,
   "metadata": {},
   "outputs": [
    {
     "data": {
      "text/plain": [
       "(0.27689410232627454, 5.307131873700017e-15)"
      ]
     },
     "execution_count": 15,
     "metadata": {},
     "output_type": "execute_result"
    }
   ],
   "source": [
    "pearsonr(dep['RFX8 (731220)'],dep[\"TBC1D8 (11138)\"])"
   ]
  },
  {
   "cell_type": "code",
   "execution_count": 16,
   "metadata": {},
   "outputs": [
    {
     "data": {
      "text/plain": [
       "(0.16009665331919112, 8.150190010166789e-06)"
      ]
     },
     "execution_count": 16,
     "metadata": {},
     "output_type": "execute_result"
    }
   ],
   "source": [
    "pearsonr(dep['RFX8 (731220)'],dep[\"TGOLN2 (10618)\"])"
   ]
  },
  {
   "cell_type": "code",
   "execution_count": 7,
   "metadata": {},
   "outputs": [],
   "source": [
    "corrs = corrs.rename(columns={'Unnamed: 0': 'pair','PCC':'PCC','p-value':'pvalue'})"
   ]
  },
  {
   "cell_type": "code",
   "execution_count": 18,
   "metadata": {},
   "outputs": [
    {
     "data": {
      "text/html": [
       "<div>\n",
       "<style scoped>\n",
       "    .dataframe tbody tr th:only-of-type {\n",
       "        vertical-align: middle;\n",
       "    }\n",
       "\n",
       "    .dataframe tbody tr th {\n",
       "        vertical-align: top;\n",
       "    }\n",
       "\n",
       "    .dataframe thead th {\n",
       "        text-align: right;\n",
       "    }\n",
       "</style>\n",
       "<table border=\"1\" class=\"dataframe\">\n",
       "  <thead>\n",
       "    <tr style=\"text-align: right;\">\n",
       "      <th></th>\n",
       "      <th>pair</th>\n",
       "      <th>PCC</th>\n",
       "      <th>pvalue</th>\n",
       "    </tr>\n",
       "  </thead>\n",
       "  <tbody>\n",
       "    <tr>\n",
       "      <th>164139955</th>\n",
       "      <td>ZUP1 (221302)__ZW10 (9183)</td>\n",
       "      <td>-0.003519</td>\n",
       "      <td>0.922391</td>\n",
       "    </tr>\n",
       "    <tr>\n",
       "      <th>164139956</th>\n",
       "      <td>ZUP1 (221302)__ZWILCH (55055)</td>\n",
       "      <td>-0.026879</td>\n",
       "      <td>0.456697</td>\n",
       "    </tr>\n",
       "    <tr>\n",
       "      <th>164139957</th>\n",
       "      <td>ZUP1 (221302)__ZWINT (11130)</td>\n",
       "      <td>-0.145157</td>\n",
       "      <td>0.000053</td>\n",
       "    </tr>\n",
       "    <tr>\n",
       "      <th>164139958</th>\n",
       "      <td>ZUP1 (221302)__ZXDA (7789)</td>\n",
       "      <td>0.105321</td>\n",
       "      <td>0.003455</td>\n",
       "    </tr>\n",
       "    <tr>\n",
       "      <th>164139959</th>\n",
       "      <td>ZUP1 (221302)__ZXDB (158586)</td>\n",
       "      <td>0.068480</td>\n",
       "      <td>0.057676</td>\n",
       "    </tr>\n",
       "    <tr>\n",
       "      <th>164139960</th>\n",
       "      <td>ZUP1 (221302)__ZXDC (79364)</td>\n",
       "      <td>-0.005075</td>\n",
       "      <td>0.888257</td>\n",
       "    </tr>\n",
       "    <tr>\n",
       "      <th>164139961</th>\n",
       "      <td>ZUP1 (221302)__ZYG11A (440590)</td>\n",
       "      <td>0.081155</td>\n",
       "      <td>0.024414</td>\n",
       "    </tr>\n",
       "    <tr>\n",
       "      <th>164139962</th>\n",
       "      <td>ZUP1 (221302)__ZYG11B (79699)</td>\n",
       "      <td>0.027867</td>\n",
       "      <td>0.440304</td>\n",
       "    </tr>\n",
       "    <tr>\n",
       "      <th>164139963</th>\n",
       "      <td>ZUP1 (221302)__ZYX (7791)</td>\n",
       "      <td>0.089964</td>\n",
       "      <td>0.012568</td>\n",
       "    </tr>\n",
       "    <tr>\n",
       "      <th>164139964</th>\n",
       "      <td>ZUP1 (221302)__ZZEF1 (23140)</td>\n",
       "      <td>0.030798</td>\n",
       "      <td>0.393729</td>\n",
       "    </tr>\n",
       "    <tr>\n",
       "      <th>164139965</th>\n",
       "      <td>ZUP1 (221302)__ZZZ3 (26009)</td>\n",
       "      <td>-0.034485</td>\n",
       "      <td>0.339561</td>\n",
       "    </tr>\n",
       "  </tbody>\n",
       "</table>\n",
       "</div>"
      ],
      "text/plain": [
       "                                     pair       PCC    pvalue\n",
       "164139955      ZUP1 (221302)__ZW10 (9183) -0.003519  0.922391\n",
       "164139956   ZUP1 (221302)__ZWILCH (55055) -0.026879  0.456697\n",
       "164139957    ZUP1 (221302)__ZWINT (11130) -0.145157  0.000053\n",
       "164139958      ZUP1 (221302)__ZXDA (7789)  0.105321  0.003455\n",
       "164139959    ZUP1 (221302)__ZXDB (158586)  0.068480  0.057676\n",
       "164139960     ZUP1 (221302)__ZXDC (79364) -0.005075  0.888257\n",
       "164139961  ZUP1 (221302)__ZYG11A (440590)  0.081155  0.024414\n",
       "164139962   ZUP1 (221302)__ZYG11B (79699)  0.027867  0.440304\n",
       "164139963       ZUP1 (221302)__ZYX (7791)  0.089964  0.012568\n",
       "164139964    ZUP1 (221302)__ZZEF1 (23140)  0.030798  0.393729\n",
       "164139965     ZUP1 (221302)__ZZZ3 (26009) -0.034485  0.339561"
      ]
     },
     "execution_count": 18,
     "metadata": {},
     "output_type": "execute_result"
    }
   ],
   "source": [
    "corrs[corrs.pair.str.match('A2M')]"
   ]
  },
  {
   "cell_type": "code",
   "execution_count": 55,
   "metadata": {},
   "outputs": [],
   "source": [
    "#pearsonr(dep['RFXAP (5994)'].fillna(0),dep[\"ZUP1 (221302)\"].fillna(0))"
   ]
  },
  {
   "cell_type": "code",
   "execution_count": 50,
   "metadata": {},
   "outputs": [],
   "source": [
    "gene = dep.columns.to_list()\n",
    "#gene"
   ]
  },
  {
   "cell_type": "code",
   "execution_count": 51,
   "metadata": {},
   "outputs": [
    {
     "data": {
      "text/plain": [
       "'DepMap_ID'"
      ]
     },
     "execution_count": 51,
     "metadata": {},
     "output_type": "execute_result"
    }
   ],
   "source": [
    "gene.pop(0)\n",
    "#gene"
   ]
  },
  {
   "cell_type": "code",
   "execution_count": 31,
   "metadata": {},
   "outputs": [],
   "source": [
    "# split at space\n",
    "for i in range(len(gene)):\n",
    "    gene[i] = gene[i].split(\" \")\n",
    "    "
   ]
  },
  {
   "cell_type": "code",
   "execution_count": 38,
   "metadata": {},
   "outputs": [],
   "source": [
    "#gene\n",
    "genes = []\n",
    "\n",
    "for i in range(len(gene)):\n",
    "    genes.append(gene[i][0])"
   ]
  },
  {
   "cell_type": "code",
   "execution_count": 40,
   "metadata": {},
   "outputs": [
    {
     "data": {
      "text/plain": [
       "18119"
      ]
     },
     "execution_count": 40,
     "metadata": {},
     "output_type": "execute_result"
    }
   ],
   "source": [
    "len(genes)\n",
    "'C8orf33' in genes"
   ]
  },
  {
   "cell_type": "code",
   "execution_count": 41,
   "metadata": {},
   "outputs": [],
   "source": [
    "data = pd.read_csv('/home/annerer/Downloads/elife-58925-supp2-v3.txt')"
   ]
  },
  {
   "cell_type": "code",
   "execution_count": 45,
   "metadata": {},
   "outputs": [],
   "source": [
    "data = data[\"DMKN\"].to_list()"
   ]
  },
  {
   "cell_type": "code",
   "execution_count": 7,
   "metadata": {},
   "outputs": [
    {
     "data": {
      "text/plain": [
       "'\\n\\nlist1 = genes\\n\\nlist2 = data\\n\\nintersection_set = set.intersection(set(list1), set(list2))\\n\\n# find intersection of list1 and list2\\n\\nintersection_list = list(intersection_set)\\n\\nprint(intersection_list)\\nprint(len(intersection_list))\\nprint(len(data))\\n'"
      ]
     },
     "execution_count": 7,
     "metadata": {},
     "output_type": "execute_result"
    }
   ],
   "source": [
    "# using sets to compare the lists\n",
    "'''\n",
    "list1 = genes\n",
    "list2 = data\n",
    "intersection_set = set.intersection(set(list1), set(list2))\n",
    "# find intersection of list1 and list2\n",
    "intersection_list = list(intersection_set)\n",
    "print(intersection_list)\n",
    "'''"
   ]
  },
  {
   "cell_type": "markdown",
   "metadata": {},
   "source": [
    "# Querrying the Co-Dependencies for the Cell Lines they occur in"
   ]
  },
  {
   "cell_type": "markdown",
   "metadata": {},
   "source": [
    "fuer eine etwaige suche wuerde ich in Pandas die Indexe, die ich \n",
    "in Zelllinien-Namen umbenannt habe ausgebe fuer Paare in denen die Co-Dependency hoch ist. \n",
    "Dh ich habe eine Matrix. Gegeben ein Wert in einer Spalte ist hoch - gib den Index (die Zelllinie) aus. Wenn ein Wert in einer Spalte einer Co-Dependency entspricht sollte es so funktionieren."
   ]
  },
  {
   "cell_type": "markdown",
   "metadata": {},
   "source": [
    "## If this is done, the results could be checked against the genome to find if it is an oncogene addiction or not."
   ]
  },
  {
   "cell_type": "markdown",
   "metadata": {},
   "source": [
    "which files do we need for the genomes?\n",
    "how do we best display them?\n"
   ]
  },
  {
   "cell_type": "code",
   "execution_count": null,
   "metadata": {},
   "outputs": [],
   "source": []
  },
  {
   "cell_type": "code",
   "execution_count": null,
   "metadata": {},
   "outputs": [],
   "source": []
  },
  {
   "cell_type": "code",
   "execution_count": null,
   "metadata": {},
   "outputs": [],
   "source": []
  },
  {
   "cell_type": "code",
   "execution_count": null,
   "metadata": {},
   "outputs": [],
   "source": []
  }
 ],
 "metadata": {
  "kernelspec": {
   "display_name": "Python 3",
   "language": "python",
   "name": "python3"
  },
  "language_info": {
   "codemirror_mode": {
    "name": "ipython",
    "version": 3
   },
   "file_extension": ".py",
   "mimetype": "text/x-python",
   "name": "python",
   "nbconvert_exporter": "python",
   "pygments_lexer": "ipython3",
   "version": "3.5.2"
  }
 },
 "nbformat": 4,
 "nbformat_minor": 4
}
