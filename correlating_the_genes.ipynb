{
 "cells": [
  {
   "cell_type": "code",
   "execution_count": 1,
   "metadata": {},
   "outputs": [],
   "source": [
    "import pandas as pd\n",
    "import numpy as np\n",
    "import scipy as sci\n",
    "import seaborn as sns\n",
    "import matplotlib.pyplot as plt\n",
    "import itertools\n",
    "from scipy.stats import pearsonr"
   ]
  },
  {
   "cell_type": "code",
   "execution_count": 71,
   "metadata": {},
   "outputs": [],
   "source": [
    "dep = pd.read_csv(\"/home/annerer/Downloads/Achilles_gene_dependency.csv\")"
   ]
  },
  {
   "cell_type": "code",
   "execution_count": 75,
   "metadata": {},
   "outputs": [
    {
     "data": {
      "text/plain": [
       "420    ACH-000768\n",
       "421    ACH-000769\n",
       "422    ACH-000770\n",
       "423    ACH-000771\n",
       "424    ACH-000773\n",
       "425    ACH-000774\n",
       "426    ACH-000775\n",
       "427    ACH-000776\n",
       "428    ACH-000777\n",
       "429    ACH-000778\n",
       "Name: DepMap_ID, dtype: object"
      ]
     },
     "execution_count": 75,
     "metadata": {},
     "output_type": "execute_result"
    }
   ],
   "source": [
    "dep['DepMap_ID'][420:430]"
   ]
  },
  {
   "cell_type": "code",
   "execution_count": null,
   "metadata": {},
   "outputs": [],
   "source": []
  },
  {
   "cell_type": "code",
   "execution_count": 21,
   "metadata": {},
   "outputs": [
    {
     "data": {
      "text/plain": [
       "(769, 18119)"
      ]
     },
     "execution_count": 21,
     "metadata": {},
     "output_type": "execute_result"
    }
   ],
   "source": [
    "dep.shape"
   ]
  },
  {
   "cell_type": "code",
   "execution_count": 32,
   "metadata": {},
   "outputs": [],
   "source": [
    "dep2 = dep"
   ]
  },
  {
   "cell_type": "code",
   "execution_count": 6,
   "metadata": {},
   "outputs": [],
   "source": [
    "#dep = dep.drop('DepMap_ID',1)"
   ]
  },
  {
   "cell_type": "code",
   "execution_count": 70,
   "metadata": {},
   "outputs": [
    {
     "data": {
      "text/plain": [
       "595    0.000025\n",
       "461    0.000033\n",
       "571    0.000069\n",
       "227    0.000134\n",
       "169    0.000135\n",
       "22     0.000151\n",
       "81     0.000179\n",
       "389    0.000241\n",
       "221    0.000275\n",
       "736    0.000298\n",
       "652    0.000316\n",
       "161    0.000364\n",
       "708    0.000365\n",
       "305    0.000394\n",
       "541    0.000447\n",
       "125    0.000459\n",
       "159    0.000478\n",
       "362    0.000478\n",
       "402    0.000552\n",
       "229    0.000562\n",
       "691    0.000569\n",
       "450    0.000618\n",
       "349    0.000626\n",
       "547    0.000636\n",
       "713    0.000656\n",
       "497    0.000698\n",
       "45     0.000732\n",
       "625    0.000767\n",
       "671    0.000771\n",
       "596    0.000787\n",
       "         ...   \n",
       "357    0.372680\n",
       "580    0.373126\n",
       "254    0.376467\n",
       "654    0.390016\n",
       "430    0.405887\n",
       "232    0.411331\n",
       "697    0.420466\n",
       "532    0.440516\n",
       "68     0.462902\n",
       "474    0.505768\n",
       "209    0.521275\n",
       "442    0.532087\n",
       "103    0.532999\n",
       "391    0.538461\n",
       "760    0.565887\n",
       "1      0.606702\n",
       "170    0.623079\n",
       "120    0.624560\n",
       "498    0.625653\n",
       "394    0.631236\n",
       "35     0.672565\n",
       "294    0.723517\n",
       "553    0.729631\n",
       "332    0.770331\n",
       "38     0.813401\n",
       "329    0.847058\n",
       "0      0.873082\n",
       "519    0.878571\n",
       "17     0.908969\n",
       "425    0.984307\n",
       "Name: PEX13 (5194), Length: 769, dtype: float64"
      ]
     },
     "execution_count": 70,
     "metadata": {},
     "output_type": "execute_result"
    }
   ],
   "source": [
    "dep[\"PEX13 (5194)\"].sort_values()"
   ]
  },
  {
   "cell_type": "code",
   "execution_count": 5,
   "metadata": {},
   "outputs": [
    {
     "data": {
      "text/plain": [
       "(0.02839725883937799, 0.4316579626191092)"
      ]
     },
     "execution_count": 5,
     "metadata": {},
     "output_type": "execute_result"
    }
   ],
   "source": [
    "a = dep['A1BG (1)']\n",
    "b = dep['A2M (2)']\n",
    "\n",
    "\n",
    "sci.stats.pearsonr(a,b)"
   ]
  },
  {
   "cell_type": "code",
   "execution_count": null,
   "metadata": {},
   "outputs": [],
   "source": []
  },
  {
   "cell_type": "code",
   "execution_count": 6,
   "metadata": {},
   "outputs": [],
   "source": [
    "# the matrix\n",
    "correlations = dep.corr()"
   ]
  },
  {
   "cell_type": "code",
   "execution_count": 4,
   "metadata": {},
   "outputs": [
    {
     "data": {
      "text/plain": [
       "(1.0, 0.0)"
      ]
     },
     "execution_count": 4,
     "metadata": {},
     "output_type": "execute_result"
    }
   ],
   "source": [
    "sci.stats.pearsonr(dep['A2M (2)'][1:4],dep['A2M (2)'][1:4])"
   ]
  },
  {
   "cell_type": "code",
   "execution_count": 7,
   "metadata": {},
   "outputs": [],
   "source": [
    "#sci.stats.pearsonr(dep.columns.values,dep.columns.values)"
   ]
  },
  {
   "cell_type": "code",
   "execution_count": 38,
   "metadata": {},
   "outputs": [],
   "source": [
    "#correlations[[\"A2M (2)\"]].sort_values(by=['A2M (2)'])"
   ]
  },
  {
   "cell_type": "code",
   "execution_count": 20,
   "metadata": {},
   "outputs": [],
   "source": [
    "#pip install bioinfokit"
   ]
  },
  {
   "cell_type": "code",
   "execution_count": 14,
   "metadata": {},
   "outputs": [],
   "source": []
  },
  {
   "cell_type": "markdown",
   "metadata": {},
   "source": [
    "## Test Data"
   ]
  },
  {
   "cell_type": "code",
   "execution_count": 49,
   "metadata": {},
   "outputs": [
    {
     "name": "stdout",
     "output_type": "stream",
     "text": [
      "     gene_a    gene_b    gene_c    gene_d    gene_e    gene_f\n",
      "0  0.197624  0.260580  0.653891  0.765120  0.368098  0.214169\n",
      "1  0.592195  0.475498  0.887240  0.355919  0.041875  0.840824\n",
      "2  0.368150  0.804930  0.904507  0.690116  0.631721  0.423614\n",
      "3  0.530851  0.846071  0.435289  0.874329  0.395183  0.733294\n",
      "4  0.537944  0.735966  0.351764  0.013963  0.618393  0.292811\n",
      "5  0.939406  0.232526  0.922291  0.721885  0.545358  0.269370\n"
     ]
    }
   ],
   "source": [
    "df = pd.DataFrame(np.random.random((6, 6)), columns=['gene_' + chr(i + ord('a')) for i in range(6)]) \n",
    "print(df)"
   ]
  },
  {
   "cell_type": "code",
   "execution_count": 50,
   "metadata": {},
   "outputs": [],
   "source": [
    "correlations = {}\n",
    "columns = df.columns.tolist()"
   ]
  },
  {
   "cell_type": "code",
   "execution_count": 51,
   "metadata": {},
   "outputs": [],
   "source": [
    "for col_a, col_b in itertools.combinations(columns, 2):\n",
    "    correlations[col_a + '__' + col_b] = pearsonr(df.loc[:, col_a], df.loc[:, col_b])"
   ]
  },
  {
   "cell_type": "code",
   "execution_count": 52,
   "metadata": {
    "scrolled": true
   },
   "outputs": [
    {
     "name": "stdout",
     "output_type": "stream",
     "text": [
      "                                       PCC       p-value\n",
      "A1BG (1)__A1CF (29974)           -0.007933  8.261635e-01\n",
      "A1BG (1)__A2M (2)                 0.028397  4.316580e-01\n",
      "A1BG (1)__A2ML1 (144568)          0.123012  6.292805e-04\n",
      "A1BG (1)__A3GALT2 (127550)        0.162194  6.171681e-06\n",
      "A1BG (1)__A4GALT (53947)          0.030070  4.050133e-01\n",
      "A1BG (1)__A4GNT (51146)           0.164914  4.280512e-06\n",
      "A1BG (1)__AAAS (8086)            -0.045352  2.090285e-01\n",
      "A1BG (1)__AACS (65985)            0.017822  6.216910e-01\n",
      "A1BG (1)__AADAC (13)              0.035006  3.323150e-01\n",
      "A1BG (1)__AADACL2 (344752)        0.186395  1.927638e-07\n",
      "A1BG (1)__AADACL3 (126767)       -0.020894  5.629092e-01\n",
      "A1BG (1)__AADACL4 (343066)        0.092953  9.906966e-03\n",
      "A1BG (1)__AADAT (51166)           0.075106  3.731330e-02\n",
      "A1BG (1)__AAED1 (195827)          0.002314  9.489209e-01\n",
      "A1BG (1)__AAGAB (79719)          -0.049549  1.698634e-01\n",
      "A1BG (1)__AAK1 (22848)            0.006219  8.632898e-01\n",
      "A1BG (1)__AAMDC (28971)           0.079103  2.827435e-02\n",
      "A1BG (1)__AAMP (14)              -0.080653  2.531422e-02\n",
      "A1BG (1)__AANAT (15)              0.117154  1.135033e-03\n",
      "A1BG (1)__AAR2 (25980)            0.020792  5.648092e-01\n",
      "A1BG (1)__AARD (441376)          -0.013719  7.040645e-01\n",
      "A1BG (1)__AARS (16)              -0.123506  5.980346e-04\n",
      "A1BG (1)__AARS2 (57505)          -0.133371  2.080237e-04\n",
      "A1BG (1)__AARSD1 (80755)          0.026739  4.590445e-01\n",
      "A1BG (1)__AASDH (132949)         -0.022581  5.318088e-01\n",
      "A1BG (1)__AASDHPPT (60496)       -0.078516  2.946968e-02\n",
      "A1BG (1)__AASS (10157)            0.085474  1.775173e-02\n",
      "A1BG (1)__AATF (26574)           -0.097047  7.077502e-03\n",
      "A1BG (1)__AATK (9625)            -0.002140  9.527650e-01\n",
      "A1BG (1)__ABAT (18)               0.031716  3.797784e-01\n",
      "...                                    ...           ...\n",
      "ARL4C (10123)__ARL6IP4 (51329)    0.068669  5.698992e-02\n",
      "ARL4C (10123)__ARL6IP5 (10550)    0.016545  6.468958e-01\n",
      "ARL4D (379)__ARL5A (26225)       -0.034885  3.339955e-01\n",
      "ARL4D (379)__ARL5B (221079)      -0.099202  5.900168e-03\n",
      "ARL4D (379)__ARL5C (390790)       0.111342  1.986752e-03\n",
      "ARL4D (379)__ARL6 (84100)        -0.032261  3.716381e-01\n",
      "ARL4D (379)__ARL6IP1 (23204)      0.054249  1.328321e-01\n",
      "ARL4D (379)__ARL6IP4 (51329)      0.004462  9.016782e-01\n",
      "ARL4D (379)__ARL6IP5 (10550)     -0.002167  9.521509e-01\n",
      "ARL5A (26225)__ARL5B (221079)     0.054618  1.302087e-01\n",
      "ARL5A (26225)__ARL5C (390790)    -0.014632  6.853884e-01\n",
      "ARL5A (26225)__ARL6 (84100)       0.012590  7.274114e-01\n",
      "ARL5A (26225)__ARL6IP1 (23204)    0.090424  1.212129e-02\n",
      "ARL5A (26225)__ARL6IP4 (51329)    0.093258  9.665796e-03\n",
      "ARL5A (26225)__ARL6IP5 (10550)    0.007385  8.380013e-01\n",
      "ARL5B (221079)__ARL5C (390790)    0.013951  6.993091e-01\n",
      "ARL5B (221079)__ARL6 (84100)      0.095696  7.918661e-03\n",
      "ARL5B (221079)__ARL6IP1 (23204)   0.019632  5.867248e-01\n",
      "ARL5B (221079)__ARL6IP4 (51329)  -0.007993  8.248694e-01\n",
      "ARL5B (221079)__ARL6IP5 (10550)   0.030463  3.989018e-01\n",
      "ARL5C (390790)__ARL6 (84100)      0.006129  8.652583e-01\n",
      "ARL5C (390790)__ARL6IP1 (23204)  -0.026439  4.640956e-01\n",
      "ARL5C (390790)__ARL6IP4 (51329)  -0.020775  5.651390e-01\n",
      "ARL5C (390790)__ARL6IP5 (10550)   0.013339  7.118941e-01\n",
      "ARL6 (84100)__ARL6IP1 (23204)     0.032201  3.725294e-01\n",
      "ARL6 (84100)__ARL6IP4 (51329)     0.057559  1.107400e-01\n",
      "ARL6 (84100)__ARL6IP5 (10550)    -0.012665  7.258468e-01\n",
      "ARL6IP1 (23204)__ARL6IP4 (51329)  0.064992  7.166315e-02\n",
      "ARL6IP1 (23204)__ARL6IP5 (10550)  0.022438  5.344144e-01\n",
      "ARL6IP4 (51329)__ARL6IP5 (10550)  0.079954  2.661324e-02\n",
      "\n",
      "[499500 rows x 2 columns]\n"
     ]
    }
   ],
   "source": [
    "res = pd.DataFrame.from_dict(correlations, orient='index')\n",
    "res.columns = ['PCC', 'p-value']\n",
    "\n",
    "print(result.sort_index())"
   ]
  },
  {
   "cell_type": "code",
   "execution_count": 56,
   "metadata": {},
   "outputs": [],
   "source": [
    "sorted_pcc = result.sort_values(by=[\"PCC\"])"
   ]
  },
  {
   "cell_type": "code",
   "execution_count": 67,
   "metadata": {},
   "outputs": [
    {
     "data": {
      "text/html": [
       "<div>\n",
       "<style scoped>\n",
       "    .dataframe tbody tr th:only-of-type {\n",
       "        vertical-align: middle;\n",
       "    }\n",
       "\n",
       "    .dataframe tbody tr th {\n",
       "        vertical-align: top;\n",
       "    }\n",
       "\n",
       "    .dataframe thead th {\n",
       "        text-align: right;\n",
       "    }\n",
       "</style>\n",
       "<table border=\"1\" class=\"dataframe\">\n",
       "  <thead>\n",
       "    <tr style=\"text-align: right;\">\n",
       "      <th></th>\n",
       "      <th>PCC</th>\n",
       "      <th>p-value</th>\n",
       "    </tr>\n",
       "  </thead>\n",
       "  <tbody>\n",
       "    <tr>\n",
       "      <th>AARS (16)__ALOX5AP (241)</th>\n",
       "      <td>-0.860687</td>\n",
       "      <td>4.619332e-227</td>\n",
       "    </tr>\n",
       "    <tr>\n",
       "      <th>AARS (16)__APOO (79135)</th>\n",
       "      <td>-0.770419</td>\n",
       "      <td>4.251157e-152</td>\n",
       "    </tr>\n",
       "    <tr>\n",
       "      <th>AARS (16)__ABCA10 (10349)</th>\n",
       "      <td>-0.710337</td>\n",
       "      <td>4.266430e-119</td>\n",
       "    </tr>\n",
       "    <tr>\n",
       "      <th>AARS (16)__ACO1 (48)</th>\n",
       "      <td>-0.688335</td>\n",
       "      <td>4.796087e-109</td>\n",
       "    </tr>\n",
       "    <tr>\n",
       "      <th>AARS (16)__ANKRD13B (124930)</th>\n",
       "      <td>-0.649842</td>\n",
       "      <td>1.820625e-93</td>\n",
       "    </tr>\n",
       "    <tr>\n",
       "      <th>AARS (16)__ADGRL4 (64123)</th>\n",
       "      <td>-0.649495</td>\n",
       "      <td>2.456178e-93</td>\n",
       "    </tr>\n",
       "    <tr>\n",
       "      <th>AARS (16)__ADRA1A (148)</th>\n",
       "      <td>-0.632739</td>\n",
       "      <td>3.010597e-87</td>\n",
       "    </tr>\n",
       "    <tr>\n",
       "      <th>ANAPC11 (51529)__ARHGAP44 (9912)</th>\n",
       "      <td>-0.625192</td>\n",
       "      <td>1.259788e-84</td>\n",
       "    </tr>\n",
       "    <tr>\n",
       "      <th>AARS (16)__ABI3BP (25890)</th>\n",
       "      <td>-0.622251</td>\n",
       "      <td>1.265207e-83</td>\n",
       "    </tr>\n",
       "    <tr>\n",
       "      <th>AARS (16)__ADCY5 (111)</th>\n",
       "      <td>-0.620763</td>\n",
       "      <td>4.029007e-83</td>\n",
       "    </tr>\n",
       "    <tr>\n",
       "      <th>AARS (16)__ARHGAP20 (57569)</th>\n",
       "      <td>-0.617188</td>\n",
       "      <td>6.347443e-82</td>\n",
       "    </tr>\n",
       "    <tr>\n",
       "      <th>AARS (16)__AKAP4 (8852)</th>\n",
       "      <td>-0.589498</td>\n",
       "      <td>3.778668e-73</td>\n",
       "    </tr>\n",
       "    <tr>\n",
       "      <th>AARS (16)__ADAM18 (8749)</th>\n",
       "      <td>-0.584287</td>\n",
       "      <td>1.365933e-71</td>\n",
       "    </tr>\n",
       "    <tr>\n",
       "      <th>AARS (16)__ANO3 (63982)</th>\n",
       "      <td>-0.583932</td>\n",
       "      <td>1.739957e-71</td>\n",
       "    </tr>\n",
       "    <tr>\n",
       "      <th>AARS (16)__ACOX3 (8310)</th>\n",
       "      <td>-0.579112</td>\n",
       "      <td>4.516575e-70</td>\n",
       "    </tr>\n",
       "    <tr>\n",
       "      <th>ABL2 (27)__ALG2 (85365)</th>\n",
       "      <td>-0.557941</td>\n",
       "      <td>3.949609e-64</td>\n",
       "    </tr>\n",
       "    <tr>\n",
       "      <th>AARS (16)__AKR1C2 (1646)</th>\n",
       "      <td>-0.556112</td>\n",
       "      <td>1.230458e-63</td>\n",
       "    </tr>\n",
       "    <tr>\n",
       "      <th>AARS (16)__ACSS1 (84532)</th>\n",
       "      <td>-0.552675</td>\n",
       "      <td>1.021069e-62</td>\n",
       "    </tr>\n",
       "    <tr>\n",
       "      <th>AARS (16)__ANGPT4 (51378)</th>\n",
       "      <td>-0.552202</td>\n",
       "      <td>1.363436e-62</td>\n",
       "    </tr>\n",
       "    <tr>\n",
       "      <th>AARS (16)__ACOT13 (55856)</th>\n",
       "      <td>-0.533820</td>\n",
       "      <td>7.334536e-58</td>\n",
       "    </tr>\n",
       "    <tr>\n",
       "      <th>ANAPC4 (29945)__ARHGAP44 (9912)</th>\n",
       "      <td>-0.503557</td>\n",
       "      <td>1.114364e-50</td>\n",
       "    </tr>\n",
       "    <tr>\n",
       "      <th>ANAPC11 (51529)__APPL2 (55198)</th>\n",
       "      <td>-0.503122</td>\n",
       "      <td>1.396973e-50</td>\n",
       "    </tr>\n",
       "    <tr>\n",
       "      <th>ADRB1 (153)__ANAPC11 (51529)</th>\n",
       "      <td>-0.502484</td>\n",
       "      <td>1.943881e-50</td>\n",
       "    </tr>\n",
       "    <tr>\n",
       "      <th>ANAPC11 (51529)__ARG2 (384)</th>\n",
       "      <td>-0.497413</td>\n",
       "      <td>2.623941e-49</td>\n",
       "    </tr>\n",
       "    <tr>\n",
       "      <th>ANAPC4 (29945)__APPL2 (55198)</th>\n",
       "      <td>-0.497224</td>\n",
       "      <td>2.888677e-49</td>\n",
       "    </tr>\n",
       "    <tr>\n",
       "      <th>ALG14 (199857)__ARHGAP44 (9912)</th>\n",
       "      <td>-0.496128</td>\n",
       "      <td>5.039481e-49</td>\n",
       "    </tr>\n",
       "    <tr>\n",
       "      <th>AARS (16)__ARC (23237)</th>\n",
       "      <td>-0.494311</td>\n",
       "      <td>1.262347e-48</td>\n",
       "    </tr>\n",
       "    <tr>\n",
       "      <th>AHNAK2 (113146)__ANAPC11 (51529)</th>\n",
       "      <td>-0.492394</td>\n",
       "      <td>3.304329e-48</td>\n",
       "    </tr>\n",
       "    <tr>\n",
       "      <th>ALG14 (199857)__ANKAR (150709)</th>\n",
       "      <td>-0.489029</td>\n",
       "      <td>1.764252e-47</td>\n",
       "    </tr>\n",
       "    <tr>\n",
       "      <th>AADACL2 (344752)__ALG14 (199857)</th>\n",
       "      <td>-0.480688</td>\n",
       "      <td>1.035535e-45</td>\n",
       "    </tr>\n",
       "    <tr>\n",
       "      <th>...</th>\n",
       "      <td>...</td>\n",
       "      <td>...</td>\n",
       "    </tr>\n",
       "    <tr>\n",
       "      <th>ADGRL1 (22859)__AK3 (50808)</th>\n",
       "      <td>0.683388</td>\n",
       "      <td>6.576223e-107</td>\n",
       "    </tr>\n",
       "    <tr>\n",
       "      <th>ACSS1 (84532)__APOO (79135)</th>\n",
       "      <td>0.684334</td>\n",
       "      <td>2.585491e-107</td>\n",
       "    </tr>\n",
       "    <tr>\n",
       "      <th>ADCY5 (111)__ALOX5AP (241)</th>\n",
       "      <td>0.688512</td>\n",
       "      <td>4.014757e-109</td>\n",
       "    </tr>\n",
       "    <tr>\n",
       "      <th>ARHGAP6 (395)__ARHGEF38 (54848)</th>\n",
       "      <td>0.689082</td>\n",
       "      <td>2.261277e-109</td>\n",
       "    </tr>\n",
       "    <tr>\n",
       "      <th>ACSM4 (341392)__AOAH (313)</th>\n",
       "      <td>0.693842</td>\n",
       "      <td>1.779269e-111</td>\n",
       "    </tr>\n",
       "    <tr>\n",
       "      <th>ACBD7 (414149)__ADAM28 (10863)</th>\n",
       "      <td>0.696372</td>\n",
       "      <td>1.304080e-112</td>\n",
       "    </tr>\n",
       "    <tr>\n",
       "      <th>ABI3BP (25890)__ALOX5AP (241)</th>\n",
       "      <td>0.703542</td>\n",
       "      <td>6.812578e-116</td>\n",
       "    </tr>\n",
       "    <tr>\n",
       "      <th>ADGRL4 (64123)__ALOX5AP (241)</th>\n",
       "      <td>0.704921</td>\n",
       "      <td>1.551671e-116</td>\n",
       "    </tr>\n",
       "    <tr>\n",
       "      <th>ADAM18 (8749)__APOO (79135)</th>\n",
       "      <td>0.706226</td>\n",
       "      <td>3.794446e-117</td>\n",
       "    </tr>\n",
       "    <tr>\n",
       "      <th>AKR1C2 (1646)__APOO (79135)</th>\n",
       "      <td>0.707256</td>\n",
       "      <td>1.240974e-117</td>\n",
       "    </tr>\n",
       "    <tr>\n",
       "      <th>ALOX5AP (241)__ANKRD13B (124930)</th>\n",
       "      <td>0.710697</td>\n",
       "      <td>2.871234e-119</td>\n",
       "    </tr>\n",
       "    <tr>\n",
       "      <th>ACSM5 (54988)__AOAH (313)</th>\n",
       "      <td>0.711677</td>\n",
       "      <td>9.719883e-120</td>\n",
       "    </tr>\n",
       "    <tr>\n",
       "      <th>ALG6 (29929)__ALG8 (79053)</th>\n",
       "      <td>0.717037</td>\n",
       "      <td>2.397463e-122</td>\n",
       "    </tr>\n",
       "    <tr>\n",
       "      <th>AKAP4 (8852)__APOO (79135)</th>\n",
       "      <td>0.729334</td>\n",
       "      <td>1.447499e-128</td>\n",
       "    </tr>\n",
       "    <tr>\n",
       "      <th>ADAM29 (11086)__ARHGAP6 (395)</th>\n",
       "      <td>0.731606</td>\n",
       "      <td>9.429189e-130</td>\n",
       "    </tr>\n",
       "    <tr>\n",
       "      <th>ANO3 (63982)__APOO (79135)</th>\n",
       "      <td>0.734679</td>\n",
       "      <td>2.238335e-131</td>\n",
       "    </tr>\n",
       "    <tr>\n",
       "      <th>ADRA1A (148)__ALOX5AP (241)</th>\n",
       "      <td>0.736510</td>\n",
       "      <td>2.351254e-132</td>\n",
       "    </tr>\n",
       "    <tr>\n",
       "      <th>ACTL6A (86)__ACTR8 (93973)</th>\n",
       "      <td>0.747699</td>\n",
       "      <td>1.611507e-138</td>\n",
       "    </tr>\n",
       "    <tr>\n",
       "      <th>ADAM28 (10863)__AOAH (313)</th>\n",
       "      <td>0.748238</td>\n",
       "      <td>7.974235e-139</td>\n",
       "    </tr>\n",
       "    <tr>\n",
       "      <th>ADCY5 (111)__APOO (79135)</th>\n",
       "      <td>0.774195</td>\n",
       "      <td>1.657002e-154</td>\n",
       "    </tr>\n",
       "    <tr>\n",
       "      <th>ACTL6A (86)__ACTR6 (64431)</th>\n",
       "      <td>0.775775</td>\n",
       "      <td>1.572597e-155</td>\n",
       "    </tr>\n",
       "    <tr>\n",
       "      <th>ACBD7 (414149)__AOAH (313)</th>\n",
       "      <td>0.779426</td>\n",
       "      <td>6.349488e-158</td>\n",
       "    </tr>\n",
       "    <tr>\n",
       "      <th>ADRA1A (148)__APOO (79135)</th>\n",
       "      <td>0.786079</td>\n",
       "      <td>2.089230e-162</td>\n",
       "    </tr>\n",
       "    <tr>\n",
       "      <th>ADGRL4 (64123)__APOO (79135)</th>\n",
       "      <td>0.790716</td>\n",
       "      <td>1.256812e-165</td>\n",
       "    </tr>\n",
       "    <tr>\n",
       "      <th>ANKRD13B (124930)__APOO (79135)</th>\n",
       "      <td>0.793728</td>\n",
       "      <td>9.182697e-168</td>\n",
       "    </tr>\n",
       "    <tr>\n",
       "      <th>ABCB7 (22)__ALG13 (79868)</th>\n",
       "      <td>0.794727</td>\n",
       "      <td>1.765081e-168</td>\n",
       "    </tr>\n",
       "    <tr>\n",
       "      <th>ADAM29 (11086)__ARHGEF38 (54848)</th>\n",
       "      <td>0.800408</td>\n",
       "      <td>1.245851e-172</td>\n",
       "    </tr>\n",
       "    <tr>\n",
       "      <th>AP1S2 (8905)__ARHGEF37 (389337)</th>\n",
       "      <td>0.808964</td>\n",
       "      <td>3.829052e-179</td>\n",
       "    </tr>\n",
       "    <tr>\n",
       "      <th>AP2M1 (1173)__AP2S1 (1175)</th>\n",
       "      <td>0.814678</td>\n",
       "      <td>1.117289e-183</td>\n",
       "    </tr>\n",
       "    <tr>\n",
       "      <th>ALOX5AP (241)__APOO (79135)</th>\n",
       "      <td>0.835619</td>\n",
       "      <td>9.471473e-202</td>\n",
       "    </tr>\n",
       "  </tbody>\n",
       "</table>\n",
       "<p>499500 rows × 2 columns</p>\n",
       "</div>"
      ],
      "text/plain": [
       "                                       PCC        p-value\n",
       "AARS (16)__ALOX5AP (241)         -0.860687  4.619332e-227\n",
       "AARS (16)__APOO (79135)          -0.770419  4.251157e-152\n",
       "AARS (16)__ABCA10 (10349)        -0.710337  4.266430e-119\n",
       "AARS (16)__ACO1 (48)             -0.688335  4.796087e-109\n",
       "AARS (16)__ANKRD13B (124930)     -0.649842   1.820625e-93\n",
       "AARS (16)__ADGRL4 (64123)        -0.649495   2.456178e-93\n",
       "AARS (16)__ADRA1A (148)          -0.632739   3.010597e-87\n",
       "ANAPC11 (51529)__ARHGAP44 (9912) -0.625192   1.259788e-84\n",
       "AARS (16)__ABI3BP (25890)        -0.622251   1.265207e-83\n",
       "AARS (16)__ADCY5 (111)           -0.620763   4.029007e-83\n",
       "AARS (16)__ARHGAP20 (57569)      -0.617188   6.347443e-82\n",
       "AARS (16)__AKAP4 (8852)          -0.589498   3.778668e-73\n",
       "AARS (16)__ADAM18 (8749)         -0.584287   1.365933e-71\n",
       "AARS (16)__ANO3 (63982)          -0.583932   1.739957e-71\n",
       "AARS (16)__ACOX3 (8310)          -0.579112   4.516575e-70\n",
       "ABL2 (27)__ALG2 (85365)          -0.557941   3.949609e-64\n",
       "AARS (16)__AKR1C2 (1646)         -0.556112   1.230458e-63\n",
       "AARS (16)__ACSS1 (84532)         -0.552675   1.021069e-62\n",
       "AARS (16)__ANGPT4 (51378)        -0.552202   1.363436e-62\n",
       "AARS (16)__ACOT13 (55856)        -0.533820   7.334536e-58\n",
       "ANAPC4 (29945)__ARHGAP44 (9912)  -0.503557   1.114364e-50\n",
       "ANAPC11 (51529)__APPL2 (55198)   -0.503122   1.396973e-50\n",
       "ADRB1 (153)__ANAPC11 (51529)     -0.502484   1.943881e-50\n",
       "ANAPC11 (51529)__ARG2 (384)      -0.497413   2.623941e-49\n",
       "ANAPC4 (29945)__APPL2 (55198)    -0.497224   2.888677e-49\n",
       "ALG14 (199857)__ARHGAP44 (9912)  -0.496128   5.039481e-49\n",
       "AARS (16)__ARC (23237)           -0.494311   1.262347e-48\n",
       "AHNAK2 (113146)__ANAPC11 (51529) -0.492394   3.304329e-48\n",
       "ALG14 (199857)__ANKAR (150709)   -0.489029   1.764252e-47\n",
       "AADACL2 (344752)__ALG14 (199857) -0.480688   1.035535e-45\n",
       "...                                    ...            ...\n",
       "ADGRL1 (22859)__AK3 (50808)       0.683388  6.576223e-107\n",
       "ACSS1 (84532)__APOO (79135)       0.684334  2.585491e-107\n",
       "ADCY5 (111)__ALOX5AP (241)        0.688512  4.014757e-109\n",
       "ARHGAP6 (395)__ARHGEF38 (54848)   0.689082  2.261277e-109\n",
       "ACSM4 (341392)__AOAH (313)        0.693842  1.779269e-111\n",
       "ACBD7 (414149)__ADAM28 (10863)    0.696372  1.304080e-112\n",
       "ABI3BP (25890)__ALOX5AP (241)     0.703542  6.812578e-116\n",
       "ADGRL4 (64123)__ALOX5AP (241)     0.704921  1.551671e-116\n",
       "ADAM18 (8749)__APOO (79135)       0.706226  3.794446e-117\n",
       "AKR1C2 (1646)__APOO (79135)       0.707256  1.240974e-117\n",
       "ALOX5AP (241)__ANKRD13B (124930)  0.710697  2.871234e-119\n",
       "ACSM5 (54988)__AOAH (313)         0.711677  9.719883e-120\n",
       "ALG6 (29929)__ALG8 (79053)        0.717037  2.397463e-122\n",
       "AKAP4 (8852)__APOO (79135)        0.729334  1.447499e-128\n",
       "ADAM29 (11086)__ARHGAP6 (395)     0.731606  9.429189e-130\n",
       "ANO3 (63982)__APOO (79135)        0.734679  2.238335e-131\n",
       "ADRA1A (148)__ALOX5AP (241)       0.736510  2.351254e-132\n",
       "ACTL6A (86)__ACTR8 (93973)        0.747699  1.611507e-138\n",
       "ADAM28 (10863)__AOAH (313)        0.748238  7.974235e-139\n",
       "ADCY5 (111)__APOO (79135)         0.774195  1.657002e-154\n",
       "ACTL6A (86)__ACTR6 (64431)        0.775775  1.572597e-155\n",
       "ACBD7 (414149)__AOAH (313)        0.779426  6.349488e-158\n",
       "ADRA1A (148)__APOO (79135)        0.786079  2.089230e-162\n",
       "ADGRL4 (64123)__APOO (79135)      0.790716  1.256812e-165\n",
       "ANKRD13B (124930)__APOO (79135)   0.793728  9.182697e-168\n",
       "ABCB7 (22)__ALG13 (79868)         0.794727  1.765081e-168\n",
       "ADAM29 (11086)__ARHGEF38 (54848)  0.800408  1.245851e-172\n",
       "AP1S2 (8905)__ARHGEF37 (389337)   0.808964  3.829052e-179\n",
       "AP2M1 (1173)__AP2S1 (1175)        0.814678  1.117289e-183\n",
       "ALOX5AP (241)__APOO (79135)       0.835619  9.471473e-202\n",
       "\n",
       "[499500 rows x 2 columns]"
      ]
     },
     "execution_count": 67,
     "metadata": {},
     "output_type": "execute_result"
    }
   ],
   "source": [
    "sorted_pcc"
   ]
  },
  {
   "cell_type": "code",
   "execution_count": 66,
   "metadata": {},
   "outputs": [
    {
     "data": {
      "text/plain": [
       "<matplotlib.axes._subplots.AxesSubplot at 0x7fc9e5a3b198>"
      ]
     },
     "execution_count": 66,
     "metadata": {},
     "output_type": "execute_result"
    },
    {
     "data": {
      "image/png": "[encoded data removed]",
      "text/plain": [
       "<Figure size 432x288 with 1 Axes>"
      ]
     },
     "metadata": {
      "needs_background": "light"
     },
     "output_type": "display_data"
    }
   ],
   "source": [
    "sorted_pcc.plot()"
   ]
  },
  {
   "cell_type": "code",
   "execution_count": null,
   "metadata": {},
   "outputs": [],
   "source": []
  },
  {
   "cell_type": "code",
   "execution_count": null,
   "metadata": {},
   "outputs": [],
   "source": []
  },
  {
   "cell_type": "markdown",
   "metadata": {},
   "source": [
    "## Pairwise Gene Correlations DepMap 20Q2"
   ]
  },
  {
   "cell_type": "code",
   "execution_count": 47,
   "metadata": {},
   "outputs": [],
   "source": [
    "data = dep2\n",
    "data = data.replace(-np.inf, np.nan)\n",
    "data = data.replace(np.inf,np.nan)\n",
    "data = data.fillna(0)\n",
    "corrs = {}\n",
    "cols = data.columns.tolist()"
   ]
  },
  {
   "cell_type": "code",
   "execution_count": 73,
   "metadata": {},
   "outputs": [],
   "source": [
    "#data[~data.isin([np.nan, np.inf, -np.inf]).any(1)]"
   ]
  },
  {
   "cell_type": "code",
   "execution_count": 48,
   "metadata": {},
   "outputs": [
    {
     "ename": "KeyboardInterrupt",
     "evalue": "",
     "output_type": "error",
     "traceback": [
      "\u001b[0;31m---------------------------------------------------------------------------\u001b[0m",
      "\u001b[0;31mKeyboardInterrupt\u001b[0m                         Traceback (most recent call last)",
      "\u001b[0;32m<ipython-input-48-1f40aa8519ff>\u001b[0m in \u001b[0;36m<module>\u001b[0;34m\u001b[0m\n\u001b[1;32m      1\u001b[0m \u001b[0;32mfor\u001b[0m \u001b[0mcol_a\u001b[0m\u001b[0;34m,\u001b[0m \u001b[0mcol_b\u001b[0m \u001b[0;32min\u001b[0m \u001b[0mitertools\u001b[0m\u001b[0;34m.\u001b[0m\u001b[0mcombinations\u001b[0m\u001b[0;34m(\u001b[0m\u001b[0mcols\u001b[0m\u001b[0;34m,\u001b[0m \u001b[0;36m2\u001b[0m\u001b[0;34m)\u001b[0m\u001b[0;34m:\u001b[0m\u001b[0;34m\u001b[0m\u001b[0m\n\u001b[0;32m----> 2\u001b[0;31m     \u001b[0mcorrs\u001b[0m\u001b[0;34m[\u001b[0m\u001b[0mcol_a\u001b[0m \u001b[0;34m+\u001b[0m \u001b[0;34m'__'\u001b[0m \u001b[0;34m+\u001b[0m \u001b[0mcol_b\u001b[0m\u001b[0;34m]\u001b[0m \u001b[0;34m=\u001b[0m \u001b[0mpearsonr\u001b[0m\u001b[0;34m(\u001b[0m\u001b[0mdata\u001b[0m\u001b[0;34m.\u001b[0m\u001b[0mloc\u001b[0m\u001b[0;34m[\u001b[0m\u001b[0;34m:\u001b[0m\u001b[0;34m,\u001b[0m \u001b[0mcol_a\u001b[0m\u001b[0;34m]\u001b[0m\u001b[0;34m,\u001b[0m \u001b[0mdata\u001b[0m\u001b[0;34m.\u001b[0m\u001b[0mloc\u001b[0m\u001b[0;34m[\u001b[0m\u001b[0;34m:\u001b[0m\u001b[0;34m,\u001b[0m \u001b[0mcol_b\u001b[0m\u001b[0;34m]\u001b[0m\u001b[0;34m)\u001b[0m\u001b[0;34m\u001b[0m\u001b[0m\n\u001b[0m",
      "\u001b[0;32m~/.local/lib/python3.5/site-packages/scipy/stats/stats.py\u001b[0m in \u001b[0;36mpearsonr\u001b[0;34m(x, y)\u001b[0m\n\u001b[1;32m   3529\u001b[0m     \u001b[0;31m# [-5e210, 5e210, 3e200, -3e200]\u001b[0m\u001b[0;34m\u001b[0m\u001b[0;34m\u001b[0m\u001b[0m\n\u001b[1;32m   3530\u001b[0m     \u001b[0mnormxm\u001b[0m \u001b[0;34m=\u001b[0m \u001b[0mlinalg\u001b[0m\u001b[0;34m.\u001b[0m\u001b[0mnorm\u001b[0m\u001b[0;34m(\u001b[0m\u001b[0mxm\u001b[0m\u001b[0;34m)\u001b[0m\u001b[0;34m\u001b[0m\u001b[0m\n\u001b[0;32m-> 3531\u001b[0;31m     \u001b[0mnormym\u001b[0m \u001b[0;34m=\u001b[0m \u001b[0mlinalg\u001b[0m\u001b[0;34m.\u001b[0m\u001b[0mnorm\u001b[0m\u001b[0;34m(\u001b[0m\u001b[0mym\u001b[0m\u001b[0;34m)\u001b[0m\u001b[0;34m\u001b[0m\u001b[0m\n\u001b[0m\u001b[1;32m   3532\u001b[0m \u001b[0;34m\u001b[0m\u001b[0m\n\u001b[1;32m   3533\u001b[0m     \u001b[0mthreshold\u001b[0m \u001b[0;34m=\u001b[0m \u001b[0;36m1e-13\u001b[0m\u001b[0;34m\u001b[0m\u001b[0m\n",
      "\u001b[0;32m~/.local/lib/python3.5/site-packages/scipy/linalg/misc.py\u001b[0m in \u001b[0;36mnorm\u001b[0;34m(a, ord, axis, keepdims, check_finite)\u001b[0m\n\u001b[1;32m    150\u001b[0m             \u001b[0;31m# use blas for fast and stable euclidean norm\u001b[0m\u001b[0;34m\u001b[0m\u001b[0;34m\u001b[0m\u001b[0m\n\u001b[1;32m    151\u001b[0m             \u001b[0mnrm2\u001b[0m \u001b[0;34m=\u001b[0m \u001b[0mget_blas_funcs\u001b[0m\u001b[0;34m(\u001b[0m\u001b[0;34m'nrm2'\u001b[0m\u001b[0;34m,\u001b[0m \u001b[0mdtype\u001b[0m\u001b[0;34m=\u001b[0m\u001b[0ma\u001b[0m\u001b[0;34m.\u001b[0m\u001b[0mdtype\u001b[0m\u001b[0;34m)\u001b[0m\u001b[0;34m\u001b[0m\u001b[0m\n\u001b[0;32m--> 152\u001b[0;31m             \u001b[0;32mreturn\u001b[0m \u001b[0mnrm2\u001b[0m\u001b[0;34m(\u001b[0m\u001b[0ma\u001b[0m\u001b[0;34m)\u001b[0m\u001b[0;34m\u001b[0m\u001b[0m\n\u001b[0m\u001b[1;32m    153\u001b[0m \u001b[0;34m\u001b[0m\u001b[0m\n\u001b[1;32m    154\u001b[0m         \u001b[0;32mif\u001b[0m \u001b[0ma\u001b[0m\u001b[0;34m.\u001b[0m\u001b[0mndim\u001b[0m \u001b[0;34m==\u001b[0m \u001b[0;36m2\u001b[0m \u001b[0;32mand\u001b[0m \u001b[0maxis\u001b[0m \u001b[0;32mis\u001b[0m \u001b[0;32mNone\u001b[0m \u001b[0;32mand\u001b[0m \u001b[0;32mnot\u001b[0m \u001b[0mkeepdims\u001b[0m\u001b[0;34m:\u001b[0m\u001b[0;34m\u001b[0m\u001b[0m\n",
      "\u001b[0;31mKeyboardInterrupt\u001b[0m: "
     ]
    }
   ],
   "source": [
    "for col_a, col_b in itertools.combinations(cols, 2):\n",
    "    corrs[col_a + '__' + col_b] = pearsonr(data.loc[:, col_a], data.loc[:, col_b])"
   ]
  },
  {
   "cell_type": "code",
   "execution_count": null,
   "metadata": {},
   "outputs": [],
   "source": [
    "result = pd.DataFrame.from_dict(corrs, orient='index')\n",
    "result.columns = ['PCC', 'p-value']\n",
    "\n",
    "#print(result.sort_index())\n",
    "\n",
    "result.sort_values(by=['PCC'])"
   ]
  },
  {
   "cell_type": "code",
   "execution_count": 14,
   "metadata": {},
   "outputs": [],
   "source": [
    "# berechnung dauert lang, unbedingt als csv exportieren\n",
    "result.to_csv('pairwise-gene-correlations-DepMap-20Q2.csv')"
   ]
  },
  {
   "cell_type": "markdown",
   "metadata": {},
   "source": [
    "todo:\n",
    "\n",
    "for the gene interaction pairs\n",
    "pair-correlation-scoreverteilung binnen und plotten. Unerwartete Bimodalitaet bzw tails?\n",
    "\n",
    "\n",
    "dependency-matrix clustern. ?\n",
    "\n",
    "wir nehmen die besten 15% der scores und \n",
    "nehmen die relevanten matrixteile als unsere\n",
    "neue ausgangsmatrix.\n",
    "\n",
    "diese sollte man nun durchsuchen koennen,\n",
    "naemlich nach Gen-paaren. \n",
    "\n",
    "dh die matrix besteht aus conditions, die\n",
    "unser output sind, und signifikanten gen-paaren.\n",
    "\n",
    "conditions bleiben alle, wir beschneiden die\n",
    "gene die wir drinlassen. \n",
    "\n",
    "frage: wie sehen wir die? wir haben die werte\n",
    "ja von den gen-paaren, und jetzt eine matrix \n",
    "von genen und conditions.\n",
    "\n",
    "\n",
    "\n",
    "   c c c c c c c c c \n",
    "\n",
    "g  1 0 0 0 0 0 0 0 0 \n",
    "\n",
    "g  1 0 0 0 0 0 0 0 0\n",
    "\n",
    "g  \n",
    "\n",
    "g\n",
    "\n",
    "macht das sinn?\n",
    "\n",
    "\n",
    "\n",
    "todo also:\n",
    "how to efficiently rename colum names, for conditions.\n",
    "\n",
    "if you can do that, i am still not sure if the same lines will mean anything.\n",
    "see if it works with the depmap and the avana data.\n"
   ]
  },
  {
   "cell_type": "code",
   "execution_count": null,
   "metadata": {},
   "outputs": [],
   "source": [
    "import pandas as pd\n",
    "import numpy as np\n",
    "import scipy as sci\n",
    "import itertools\n",
    "from scipy.stats import pearsonr\n",
    "\n",
    "dep = pd.read_csv(\"/home/annerer/Downloads/Achilles_gene_dependency.csv\")\n",
    "\n",
    "data = dep\n",
    "data = data.replace(-np.inf, np.nan)\n",
    "data = data.replace(np.inf,np.nan)\n",
    "data = data.fillna(0)\n",
    "corrs = {}\n",
    "cols = data.columns.tolist()\n",
    "\n",
    "for col_a, col_b in itertools.combinations(cols, 2):\n",
    "    corrs[col_a + '__' + col_b] = pearsonr(data.loc[:, col_a], data.loc[:, col_b])\n",
    "\n",
    "result = pd.DataFrame.from_dict(corrs, orient='index')\n",
    "result.columns = ['PCC', 'p-value']\n",
    "\n",
    "print(result.sort_index())\n",
    "# berechnung dauert lang, unbedingt als csv exportieren\n",
    "result.to_csv('pairwise-gene-correlations-DepMap-20Q2.csv')"
   ]
  },
  {
   "cell_type": "code",
   "execution_count": null,
   "metadata": {},
   "outputs": [],
   "source": []
  }
 ],
 "metadata": {
  "kernelspec": {
   "display_name": "Python 3",
   "language": "python",
   "name": "python3"
  },
  "language_info": {
   "codemirror_mode": {
    "name": "ipython",
    "version": 3
   },
   "file_extension": ".py",
   "mimetype": "text/x-python",
   "name": "python",
   "nbconvert_exporter": "python",
   "pygments_lexer": "ipython3",
   "version": "3.5.2"
  }
 },
 "nbformat": 4,
 "nbformat_minor": 4
}
