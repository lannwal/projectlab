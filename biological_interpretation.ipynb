{
 "cells": [
  {
   "cell_type": "markdown",
   "metadata": {},
   "source": [
    "## Biological Interpretation"
   ]
  },
  {
   "cell_type": "code",
   "execution_count": 5,
   "metadata": {},
   "outputs": [],
   "source": [
    "import pandas as pd \n",
    "import numpy as np\n",
    "import seaborn as sns\n",
    "import matplotlib.pyplot as plt\n",
    "import itertools\n",
    "from scipy.stats import pearsonr\n",
    "import networkx as nx\n",
    "from scipy.stats import hypergeom"
   ]
  },
  {
   "cell_type": "code",
   "execution_count": 6,
   "metadata": {},
   "outputs": [],
   "source": [
    "data = pd.read_csv(\"/home/annerer/Dokumente/DepMap_Mining/sample_info.csv\")"
   ]
  },
  {
   "cell_type": "code",
   "execution_count": 7,
   "metadata": {},
   "outputs": [],
   "source": [
    "effect = pd.read_csv(\"/home/annerer/Dokumente/DepMap_Mining/Achilles_gene_effect.csv\")"
   ]
  },
  {
   "cell_type": "code",
   "execution_count": 137,
   "metadata": {},
   "outputs": [],
   "source": [
    "dep = pd.read_csv(\"/home/annerer/Dokumente/DepMap_Mining/Achilles_gene_dependencyQ1.csv\")"
   ]
  },
  {
   "cell_type": "code",
   "execution_count": 139,
   "metadata": {},
   "outputs": [],
   "source": [
    "dep = dep.rename(columns={'Unnamed: 0': \"DepMap_ID\"})"
   ]
  },
  {
   "cell_type": "code",
   "execution_count": 140,
   "metadata": {
    "collapsed": true,
    "jupyter": {
     "outputs_hidden": true
    }
   },
   "outputs": [
    {
     "data": {
      "text/html": [
       "<div>\n",
       "<style scoped>\n",
       "    .dataframe tbody tr th:only-of-type {\n",
       "        vertical-align: middle;\n",
       "    }\n",
       "\n",
       "    .dataframe tbody tr th {\n",
       "        vertical-align: top;\n",
       "    }\n",
       "\n",
       "    .dataframe thead th {\n",
       "        text-align: right;\n",
       "    }\n",
       "</style>\n",
       "<table border=\"1\" class=\"dataframe\">\n",
       "  <thead>\n",
       "    <tr style=\"text-align: right;\">\n",
       "      <th></th>\n",
       "      <th>DepMap_ID</th>\n",
       "      <th>A1BG (1)</th>\n",
       "      <th>A1CF (29974)</th>\n",
       "      <th>A2M (2)</th>\n",
       "      <th>A2ML1 (144568)</th>\n",
       "      <th>A3GALT2 (127550)</th>\n",
       "      <th>A4GALT (53947)</th>\n",
       "      <th>A4GNT (51146)</th>\n",
       "      <th>AAAS (8086)</th>\n",
       "      <th>AACS (65985)</th>\n",
       "      <th>...</th>\n",
       "      <th>ZWILCH (55055)</th>\n",
       "      <th>ZWINT (11130)</th>\n",
       "      <th>ZXDA (7789)</th>\n",
       "      <th>ZXDB (158586)</th>\n",
       "      <th>ZXDC (79364)</th>\n",
       "      <th>ZYG11A (440590)</th>\n",
       "      <th>ZYG11B (79699)</th>\n",
       "      <th>ZYX (7791)</th>\n",
       "      <th>ZZEF1 (23140)</th>\n",
       "      <th>ZZZ3 (26009)</th>\n",
       "    </tr>\n",
       "  </thead>\n",
       "  <tbody>\n",
       "    <tr>\n",
       "      <th>0</th>\n",
       "      <td>ACH-000004</td>\n",
       "      <td>0.001162</td>\n",
       "      <td>0.004324</td>\n",
       "      <td>0.102193</td>\n",
       "      <td>0.016170</td>\n",
       "      <td>0.008121</td>\n",
       "      <td>0.088762</td>\n",
       "      <td>0.000058</td>\n",
       "      <td>0.429304</td>\n",
       "      <td>0.000147</td>\n",
       "      <td>...</td>\n",
       "      <td>0.055923</td>\n",
       "      <td>0.466373</td>\n",
       "      <td>NaN</td>\n",
       "      <td>NaN</td>\n",
       "      <td>0.000296</td>\n",
       "      <td>0.000451</td>\n",
       "      <td>0.373209</td>\n",
       "      <td>0.000166</td>\n",
       "      <td>0.000504</td>\n",
       "      <td>0.055706</td>\n",
       "    </tr>\n",
       "    <tr>\n",
       "      <th>1</th>\n",
       "      <td>ACH-000005</td>\n",
       "      <td>0.029862</td>\n",
       "      <td>0.001012</td>\n",
       "      <td>0.001901</td>\n",
       "      <td>0.002216</td>\n",
       "      <td>0.076663</td>\n",
       "      <td>0.190601</td>\n",
       "      <td>0.000796</td>\n",
       "      <td>0.540483</td>\n",
       "      <td>0.027229</td>\n",
       "      <td>...</td>\n",
       "      <td>0.073774</td>\n",
       "      <td>0.277175</td>\n",
       "      <td>0.061449</td>\n",
       "      <td>0.030920</td>\n",
       "      <td>0.001480</td>\n",
       "      <td>0.029860</td>\n",
       "      <td>0.032814</td>\n",
       "      <td>0.007972</td>\n",
       "      <td>0.010963</td>\n",
       "      <td>0.105758</td>\n",
       "    </tr>\n",
       "    <tr>\n",
       "      <th>2</th>\n",
       "      <td>ACH-000007</td>\n",
       "      <td>0.003344</td>\n",
       "      <td>0.002897</td>\n",
       "      <td>0.016722</td>\n",
       "      <td>0.000987</td>\n",
       "      <td>0.002387</td>\n",
       "      <td>0.001097</td>\n",
       "      <td>0.003689</td>\n",
       "      <td>0.427550</td>\n",
       "      <td>0.009420</td>\n",
       "      <td>...</td>\n",
       "      <td>0.024630</td>\n",
       "      <td>0.136330</td>\n",
       "      <td>0.014167</td>\n",
       "      <td>0.001625</td>\n",
       "      <td>0.000372</td>\n",
       "      <td>0.009067</td>\n",
       "      <td>0.219959</td>\n",
       "      <td>0.002697</td>\n",
       "      <td>0.289634</td>\n",
       "      <td>0.363803</td>\n",
       "    </tr>\n",
       "    <tr>\n",
       "      <th>3</th>\n",
       "      <td>ACH-000009</td>\n",
       "      <td>0.002467</td>\n",
       "      <td>0.007812</td>\n",
       "      <td>0.014645</td>\n",
       "      <td>0.002586</td>\n",
       "      <td>0.003985</td>\n",
       "      <td>0.003944</td>\n",
       "      <td>0.005325</td>\n",
       "      <td>0.660004</td>\n",
       "      <td>0.000510</td>\n",
       "      <td>...</td>\n",
       "      <td>0.240742</td>\n",
       "      <td>0.149868</td>\n",
       "      <td>0.010402</td>\n",
       "      <td>0.001351</td>\n",
       "      <td>0.001216</td>\n",
       "      <td>0.003866</td>\n",
       "      <td>0.598618</td>\n",
       "      <td>0.000175</td>\n",
       "      <td>0.030937</td>\n",
       "      <td>0.558687</td>\n",
       "    </tr>\n",
       "    <tr>\n",
       "      <th>4</th>\n",
       "      <td>ACH-000011</td>\n",
       "      <td>0.000215</td>\n",
       "      <td>0.003745</td>\n",
       "      <td>0.009204</td>\n",
       "      <td>0.000017</td>\n",
       "      <td>0.016307</td>\n",
       "      <td>0.123272</td>\n",
       "      <td>0.002735</td>\n",
       "      <td>0.331724</td>\n",
       "      <td>0.001798</td>\n",
       "      <td>...</td>\n",
       "      <td>0.322568</td>\n",
       "      <td>0.481664</td>\n",
       "      <td>0.043777</td>\n",
       "      <td>0.040773</td>\n",
       "      <td>0.000263</td>\n",
       "      <td>0.001432</td>\n",
       "      <td>0.107410</td>\n",
       "      <td>0.002298</td>\n",
       "      <td>0.125703</td>\n",
       "      <td>0.283378</td>\n",
       "    </tr>\n",
       "  </tbody>\n",
       "</table>\n",
       "<p>5 rows × 18334 columns</p>\n",
       "</div>"
      ],
      "text/plain": [
       "    DepMap_ID  A1BG (1)  A1CF (29974)   A2M (2)  A2ML1 (144568)  \\\n",
       "0  ACH-000004  0.001162      0.004324  0.102193        0.016170   \n",
       "1  ACH-000005  0.029862      0.001012  0.001901        0.002216   \n",
       "2  ACH-000007  0.003344      0.002897  0.016722        0.000987   \n",
       "3  ACH-000009  0.002467      0.007812  0.014645        0.002586   \n",
       "4  ACH-000011  0.000215      0.003745  0.009204        0.000017   \n",
       "\n",
       "   A3GALT2 (127550)  A4GALT (53947)  A4GNT (51146)  AAAS (8086)  AACS (65985)  \\\n",
       "0          0.008121        0.088762       0.000058     0.429304      0.000147   \n",
       "1          0.076663        0.190601       0.000796     0.540483      0.027229   \n",
       "2          0.002387        0.001097       0.003689     0.427550      0.009420   \n",
       "3          0.003985        0.003944       0.005325     0.660004      0.000510   \n",
       "4          0.016307        0.123272       0.002735     0.331724      0.001798   \n",
       "\n",
       "   ...  ZWILCH (55055)  ZWINT (11130)  ZXDA (7789)  ZXDB (158586)  \\\n",
       "0  ...        0.055923       0.466373          NaN            NaN   \n",
       "1  ...        0.073774       0.277175     0.061449       0.030920   \n",
       "2  ...        0.024630       0.136330     0.014167       0.001625   \n",
       "3  ...        0.240742       0.149868     0.010402       0.001351   \n",
       "4  ...        0.322568       0.481664     0.043777       0.040773   \n",
       "\n",
       "   ZXDC (79364)  ZYG11A (440590)  ZYG11B (79699)  ZYX (7791)  ZZEF1 (23140)  \\\n",
       "0      0.000296         0.000451        0.373209    0.000166       0.000504   \n",
       "1      0.001480         0.029860        0.032814    0.007972       0.010963   \n",
       "2      0.000372         0.009067        0.219959    0.002697       0.289634   \n",
       "3      0.001216         0.003866        0.598618    0.000175       0.030937   \n",
       "4      0.000263         0.001432        0.107410    0.002298       0.125703   \n",
       "\n",
       "   ZZZ3 (26009)  \n",
       "0      0.055706  \n",
       "1      0.105758  \n",
       "2      0.363803  \n",
       "3      0.558687  \n",
       "4      0.283378  \n",
       "\n",
       "[5 rows x 18334 columns]"
      ]
     },
     "execution_count": 140,
     "metadata": {},
     "output_type": "execute_result"
    }
   ],
   "source": [
    "dep.head()"
   ]
  },
  {
   "cell_type": "code",
   "execution_count": 27,
   "metadata": {},
   "outputs": [],
   "source": [
    "def pretty_gene_names(dataset):\n",
    "    mapping = {}\n",
    "\n",
    "    for i in np.arange(0,data.shape[0],1):\n",
    "        mapping[data.DepMap_ID[i]] = data.CCLE_Name[i]\n",
    "\n",
    "    dataset[\"INDEX\"] = dataset.DepMap_ID\n",
    "    dataset = dataset.set_index('INDEX')\n",
    "    dataset = dataset.rename(index=mapping)\n",
    "\n",
    "    # \"DepMap_ID\n",
    "    dataset = dataset.drop(\"DepMap_ID\",1)\n",
    "\n",
    "    gene = dataset.columns.to_list()\n",
    "    # split at space\n",
    "    for i in range(len(gene)):\n",
    "        gene[i] = gene[i].split(\" \") \n",
    "\n",
    "    genes = []\n",
    "    for i in range(len(gene)):\n",
    "        genes.append(gene[i][0])\n",
    "    \n",
    "    dataset.columns = genes\n",
    "    return dataset"
   ]
  },
  {
   "cell_type": "code",
   "execution_count": 131,
   "metadata": {},
   "outputs": [
    {
     "name": "stdout",
     "output_type": "stream",
     "text": [
      "765\n",
      "1781\n",
      "765\n"
     ]
    }
   ],
   "source": [
    "effect = pd.read_csv(\"/home/annerer/Dokumente/DepMap_Mining/Achilles_gene_effect.csv\")\n",
    "data = pd.read_csv(\"/home/annerer/Dokumente/DepMap_Mining/sample_info.csv\")\n",
    "\n",
    "mapping = {}\n",
    "\n",
    "for i in np.arange(0,data.shape[0],1):\n",
    "    mapping[data.DepMap_ID[i]] = data.CCLE_Name[i]\n",
    "\n",
    "effect[\"INDEX\"] = effect.DepMap_ID\n",
    "effect = effect.set_index('INDEX')\n",
    "effect = effect.rename(index=mapping)\n",
    "effect = effect.drop(\"DepMap_ID\",1)\n",
    "\n",
    "gene = effect.columns.to_list()\n",
    "# split at space\n",
    "for i in range(len(gene)):\n",
    "    gene[i] = gene[i].split(\" \") \n",
    "\n",
    "genes = []\n",
    "for i in range(len(gene)):\n",
    "    genes.append(gene[i][0])\n",
    "                 \n",
    "effect.columns = genes\n",
    "\n",
    "\n",
    "cellLine = effect.index.to_list()\n",
    "# split at space\n",
    "for i in range(len(cellLine)):\n",
    "    cellLine[i] = cellLine[i].split(\"_\") \n",
    "\n",
    "cellLines = []\n",
    "for i in range(len(cellLine)):\n",
    "    cellLines.append(cellLine[i][0])\n",
    "    \n",
    "effect.index = cellLines\n",
    "\n",
    "cellLine = data['CCLE_Name'].to_list()\n",
    "# split at space\n",
    "for i in range(len(cellLine)):\n",
    "    cellLine[i] = cellLine[i].split(\"_\") \n",
    "\n",
    "cellLines1 = []\n",
    "for i in range(len(cellLine)):\n",
    "    cellLines1.append(cellLine[i][0])\n",
    "    \n",
    "data['CCLE_Name'] = cellLines1\n",
    "\n",
    "\n",
    "a = set(cellLines)\n",
    "b = set(data[\"CCLE_Name\"])\n",
    "c = set.intersection(a,b)\n",
    "\n",
    "print(len(a))\n",
    "print(len(b))\n",
    "print(len(c))\n",
    "\n",
    "cellL = c\n",
    "allGenes = effect[effect.columns.intersection(cellL)]"
   ]
  },
  {
   "cell_type": "code",
   "execution_count": 9,
   "metadata": {
    "collapsed": true,
    "jupyter": {
     "outputs_hidden": true
    }
   },
   "outputs": [
    {
     "ename": "NameError",
     "evalue": "name 'dep' is not defined",
     "output_type": "error",
     "traceback": [
      "\u001b[0;31m---------------------------------------------------------------------------\u001b[0m",
      "\u001b[0;31mNameError\u001b[0m                                 Traceback (most recent call last)",
      "\u001b[0;32m<ipython-input-9-5e8f94d778de>\u001b[0m in \u001b[0;36m<module>\u001b[0;34m\u001b[0m\n\u001b[0;32m----> 1\u001b[0;31m \u001b[0mdep\u001b[0m \u001b[0;34m=\u001b[0m \u001b[0mpretty_gene_names\u001b[0m\u001b[0;34m(\u001b[0m\u001b[0mdep\u001b[0m\u001b[0;34m)\u001b[0m\u001b[0;34m\u001b[0m\u001b[0;34m\u001b[0m\u001b[0m\n\u001b[0m",
      "\u001b[0;31mNameError\u001b[0m: name 'dep' is not defined"
     ]
    }
   ],
   "source": [
    "dep = pretty_gene_names(dep)"
   ]
  },
  {
   "cell_type": "code",
   "execution_count": 28,
   "metadata": {},
   "outputs": [],
   "source": [
    "effect = pretty_gene_names(effect)"
   ]
  },
  {
   "cell_type": "code",
   "execution_count": 16,
   "metadata": {},
   "outputs": [
    {
     "data": {
      "text/plain": [
       "INDEX\n",
       "CME1_SOFT_TISSUE                               0.325317\n",
       "OS252_BONE                                     0.275941\n",
       "MONOMAC1_HAEMATOPOIETIC_AND_LYMPHOID_TISSUE    0.235966\n",
       "TC71_BONE                                      0.212008\n",
       "TC32_BONE                                      0.211519\n",
       "                                                 ...   \n",
       "U937_HAEMATOPOIETIC_AND_LYMPHOID_TISSUE       -1.598968\n",
       "OCIMY5_HAEMATOPOIETIC_AND_LYMPHOID_TISSUE     -1.643574\n",
       "THP1_HAEMATOPOIETIC_AND_LYMPHOID_TISSUE       -1.795163\n",
       "AML193_HAEMATOPOIETIC_AND_LYMPHOID_TISSUE     -2.056662\n",
       "DB_HAEMATOPOIETIC_AND_LYMPHOID_TISSUE         -2.475259\n",
       "Name: CDK6, Length: 769, dtype: float64"
      ]
     },
     "execution_count": 16,
     "metadata": {},
     "output_type": "execute_result"
    }
   ],
   "source": [
    "effect[\"CDK6\"].sort_values(ascending=False)"
   ]
  },
  {
   "cell_type": "code",
   "execution_count": null,
   "metadata": {},
   "outputs": [],
   "source": []
  },
  {
   "cell_type": "code",
   "execution_count": 135,
   "metadata": {},
   "outputs": [],
   "source": [
    "mydict = {'CDK6': effect['CDK6']}"
   ]
  },
  {
   "cell_type": "code",
   "execution_count": 136,
   "metadata": {},
   "outputs": [
    {
     "data": {
      "text/plain": [
       "DB         -2.475259\n",
       "AML193     -2.056662\n",
       "THP1       -1.795163\n",
       "OCIMY5     -1.643574\n",
       "U937       -1.598968\n",
       "              ...   \n",
       "TC32        0.211519\n",
       "TC71        0.212008\n",
       "MONOMAC1    0.235966\n",
       "OS252       0.275941\n",
       "CME1        0.325317\n",
       "Name: CDK6, Length: 769, dtype: float64"
      ]
     },
     "execution_count": 136,
     "metadata": {},
     "output_type": "execute_result"
    }
   ],
   "source": [
    "mydict['CDK6'].sort_values()"
   ]
  },
  {
   "cell_type": "code",
   "execution_count": 20,
   "metadata": {},
   "outputs": [
    {
     "data": {
      "text/plain": [
       "-0.5735323955919767"
      ]
     },
     "execution_count": 20,
     "metadata": {},
     "output_type": "execute_result"
    }
   ],
   "source": [
    "sum(effect['CDK6'])/effect.shape[0]"
   ]
  },
  {
   "cell_type": "code",
   "execution_count": 21,
   "metadata": {},
   "outputs": [
    {
     "data": {
      "text/plain": [
       "0.20346155241225025"
      ]
     },
     "execution_count": 21,
     "metadata": {},
     "output_type": "execute_result"
    }
   ],
   "source": [
    "sum(effect['TP53'])/effect.shape[0]"
   ]
  },
  {
   "cell_type": "code",
   "execution_count": 22,
   "metadata": {},
   "outputs": [
    {
     "data": {
      "text/plain": [
       "0.6580655188818638"
      ]
     },
     "execution_count": 22,
     "metadata": {},
     "output_type": "execute_result"
    }
   ],
   "source": [
    "sum(effect['PTEN'])/effect.shape[0]"
   ]
  },
  {
   "cell_type": "code",
   "execution_count": 23,
   "metadata": {},
   "outputs": [
    {
     "data": {
      "text/plain": [
       "0.19109198873156022"
      ]
     },
     "execution_count": 23,
     "metadata": {},
     "output_type": "execute_result"
    }
   ],
   "source": [
    "sum(effect['NF2'])/effect.shape[0]"
   ]
  },
  {
   "cell_type": "code",
   "execution_count": 132,
   "metadata": {},
   "outputs": [
    {
     "data": {
      "text/plain": [
       "-0.5940105343532418"
      ]
     },
     "execution_count": 132,
     "metadata": {},
     "output_type": "execute_result"
    }
   ],
   "source": [
    "sum(effect['CDK4'])/effect.shape[0]"
   ]
  },
  {
   "cell_type": "code",
   "execution_count": 25,
   "metadata": {},
   "outputs": [
    {
     "data": {
      "text/plain": [
       "-0.3250483587415961"
      ]
     },
     "execution_count": 25,
     "metadata": {},
     "output_type": "execute_result"
    }
   ],
   "source": [
    "sum(effect['CCND3'])/effect.shape[0]"
   ]
  },
  {
   "cell_type": "code",
   "execution_count": 28,
   "metadata": {},
   "outputs": [
    {
     "data": {
      "text/plain": [
       "-1.0090272209573807"
      ]
     },
     "execution_count": 28,
     "metadata": {},
     "output_type": "execute_result"
    }
   ],
   "source": [
    "effect['CCND1'].sum(skipna=True)/effect.shape[0]"
   ]
  },
  {
   "cell_type": "code",
   "execution_count": 31,
   "metadata": {},
   "outputs": [],
   "source": [
    "ts_onko_classification = [effect[x].sum(skipna=True)/effect.shape[0] for x in UL2]"
   ]
  },
  {
   "cell_type": "code",
   "execution_count": 47,
   "metadata": {},
   "outputs": [
    {
     "data": {
      "text/plain": [
       "[0.3364741181721983,\n",
       " -1.0090272209573807,\n",
       " 0.3053809753440284,\n",
       " -0.06251851177977061,\n",
       " 0.21738211555938453,\n",
       " 0.19566253935678107,\n",
       " -0.2494111402572198,\n",
       " 0.20124377612742103,\n",
       " -0.7101323237670938,\n",
       " -0.16379940929954362,\n",
       " 0.29391487233478925,\n",
       " 0.015580832744331181,\n",
       " -0.5940105343532422,\n",
       " 0.11068116329210767,\n",
       " -0.5735323955919767,\n",
       " -0.32504835874159627,\n",
       " -0.12106787223768048,\n",
       " 0.19109198873156022,\n",
       " -0.2447267330102672,\n",
       " 0.658065518881864,\n",
       " -0.34342369015940966]"
      ]
     },
     "execution_count": 47,
     "metadata": {},
     "output_type": "execute_result"
    }
   ],
   "source": [
    "ts_onko_classification"
   ]
  },
  {
   "cell_type": "code",
   "execution_count": 41,
   "metadata": {
    "collapsed": true,
    "jupyter": {
     "outputs_hidden": true
    }
   },
   "outputs": [
    {
     "data": {
      "text/plain": [
       "[False,\n",
       " True,\n",
       " False,\n",
       " True,\n",
       " False,\n",
       " False,\n",
       " True,\n",
       " False,\n",
       " True,\n",
       " True,\n",
       " False,\n",
       " False,\n",
       " True,\n",
       " False,\n",
       " True,\n",
       " True,\n",
       " True,\n",
       " False,\n",
       " True,\n",
       " False,\n",
       " True]"
      ]
     },
     "execution_count": 41,
     "metadata": {},
     "output_type": "execute_result"
    }
   ],
   "source": [
    "[x < 0 for x in ts_onko_classification]"
   ]
  },
  {
   "cell_type": "code",
   "execution_count": 138,
   "metadata": {},
   "outputs": [],
   "source": [
    "mydict = {}\n",
    "for _ in UL2:\n",
    "    if effect[_].sum(skipna=True)/effect.shape[0] > 0:\n",
    "        mydict[_] = effect[_].sort_values(ascending=False)\n",
    "    else:\n",
    "        mydict[_] = effect[_].sort_values()"
   ]
  },
  {
   "cell_type": "code",
   "execution_count": 139,
   "metadata": {},
   "outputs": [
    {
     "data": {
      "text/plain": [
       "OV7         2.944634\n",
       "NCIH2030    2.565659\n",
       "DKMG        2.339770\n",
       "SNU668      2.223295\n",
       "TOV21G      1.965334\n",
       "              ...   \n",
       "DANG       -0.900812\n",
       "SG231      -0.926342\n",
       "RHJT       -1.079622\n",
       "HCC1428    -1.109713\n",
       "RH28       -1.289142\n",
       "Name: NF2, Length: 769, dtype: float64"
      ]
     },
     "execution_count": 139,
     "metadata": {},
     "output_type": "execute_result"
    }
   ],
   "source": [
    "mydict['NF2']"
   ]
  },
  {
   "cell_type": "code",
   "execution_count": null,
   "metadata": {},
   "outputs": [],
   "source": []
  },
  {
   "cell_type": "code",
   "execution_count": 146,
   "metadata": {},
   "outputs": [],
   "source": [
    "cdk4_list = mydict['CDK4'].index.to_list()"
   ]
  },
  {
   "cell_type": "code",
   "execution_count": 148,
   "metadata": {},
   "outputs": [],
   "source": [
    "cdk4_df = pd.DataFrame(cdk4_list)"
   ]
  },
  {
   "cell_type": "code",
   "execution_count": 147,
   "metadata": {},
   "outputs": [],
   "source": [
    "rb1_list = mydict['RB1'].index.to_list()\n",
    "rb1_df = pd.DataFrame(rb1_list)"
   ]
  },
  {
   "cell_type": "code",
   "execution_count": 70,
   "metadata": {},
   "outputs": [
    {
     "data": {
      "text/plain": [
       "Int64Index([   0,    2,    4,    6,    8,   10,   12,   14,   16,   18,\n",
       "            ...\n",
       "            1518, 1520, 1522, 1524, 1526, 1528, 1530, 1532, 1534, 1536],\n",
       "           dtype='int64', length=769)"
      ]
     },
     "execution_count": 70,
     "metadata": {},
     "output_type": "execute_result"
    }
   ],
   "source": [
    "# how to add the ranks in a meaningful way - it's combinatorial again.\n",
    "# \n",
    "#nf2_df.index + rb1_df.index\n",
    "\n",
    "# better question is how do i add the lists and still retain which pairs were used. \n",
    "# for example 5+1 is below 4+3, but 1 is already in the list anyway.\n",
    "# also 10+1 should be lower then 6+7, but 6 and 7 will anyway be in the list no matter what.\n",
    "# i can tame the combinatorial explosion by noting that only 75 can maximally be in the list.\n",
    "# and most likely we will start with 35."
   ]
  },
  {
   "cell_type": "code",
   "execution_count": 149,
   "metadata": {},
   "outputs": [],
   "source": [
    "ranked_index = {}\n",
    "for _ in rb1_df.index:\n",
    "    for j in cdk4_df.index:\n",
    "        ranked_index[rb1_df.values[_][0] + '__' + cdk4_df.values[j][0]] = _ + j"
   ]
  },
  {
   "cell_type": "code",
   "execution_count": 108,
   "metadata": {},
   "outputs": [
    {
     "data": {
      "text/plain": [
       "'BIN67_OVARY'"
      ]
     },
     "execution_count": 108,
     "metadata": {},
     "output_type": "execute_result"
    }
   ],
   "source": [
    "rb1_df.values[1][0]"
   ]
  },
  {
   "cell_type": "code",
   "execution_count": 157,
   "metadata": {
    "collapsed": true,
    "jupyter": {
     "outputs_hidden": true
    }
   },
   "outputs": [
    {
     "ename": "AttributeError",
     "evalue": "'dict' object has no attribute 'sort'",
     "output_type": "error",
     "traceback": [
      "\u001b[0;31m---------------------------------------------------------------------------\u001b[0m",
      "\u001b[0;31mAttributeError\u001b[0m                            Traceback (most recent call last)",
      "\u001b[0;32m<ipython-input-157-ff9ed6dbd091>\u001b[0m in \u001b[0;36m<module>\u001b[0;34m\u001b[0m\n\u001b[0;32m----> 1\u001b[0;31m \u001b[0mranked_index\u001b[0m\u001b[0;34m.\u001b[0m\u001b[0msort\u001b[0m\u001b[0;34m(\u001b[0m\u001b[0;34m)\u001b[0m\u001b[0;34m\u001b[0m\u001b[0;34m\u001b[0m\u001b[0m\n\u001b[0m",
      "\u001b[0;31mAttributeError\u001b[0m: 'dict' object has no attribute 'sort'"
     ]
    }
   ],
   "source": [
    "ranked_index"
   ]
  },
  {
   "cell_type": "code",
   "execution_count": 158,
   "metadata": {
    "collapsed": true,
    "jupyter": {
     "outputs_hidden": true
    }
   },
   "outputs": [
    {
     "data": {
      "text/plain": [
       "[('JHUEM1__VCAP', 0),\n",
       " ('JHUEM1__MDAMB415', 1),\n",
       " ('BIN67__VCAP', 1),\n",
       " ('JHUEM1__NCIH2887', 2),\n",
       " ('BIN67__MDAMB415', 2),\n",
       " ('SCCOHT1__VCAP', 2),\n",
       " ('JHUEM1__SNU1544', 3),\n",
       " ('BIN67__NCIH2887', 3),\n",
       " ('SCCOHT1__MDAMB415', 3),\n",
       " ('TTC642__VCAP', 3),\n",
       " ('JHUEM1__HCC1419', 4),\n",
       " ('BIN67__SNU1544', 4),\n",
       " ('SCCOHT1__NCIH2887', 4),\n",
       " ('TTC642__MDAMB415', 4),\n",
       " ('TO14__VCAP', 4),\n",
       " ('JHUEM1__MDAMB453', 5),\n",
       " ('BIN67__HCC1419', 5),\n",
       " ('SCCOHT1__SNU1544', 5),\n",
       " ('TTC642__NCIH2887', 5),\n",
       " ('TO14__MDAMB415', 5),\n",
       " ('NCIH2030__VCAP', 5),\n",
       " ('JHUEM1__RDES', 6),\n",
       " ('BIN67__MDAMB453', 6),\n",
       " ('SCCOHT1__HCC1419', 6),\n",
       " ('TTC642__SNU1544', 6),\n",
       " ('TO14__NCIH2887', 6),\n",
       " ('NCIH2030__MDAMB415', 6),\n",
       " ('OCUM1__VCAP', 6),\n",
       " ('JHUEM1__FU97', 7),\n",
       " ('BIN67__RDES', 7),\n",
       " ('SCCOHT1__MDAMB453', 7),\n",
       " ('TTC642__HCC1419', 7),\n",
       " ('TO14__SNU1544', 7),\n",
       " ('NCIH2030__NCIH2887', 7),\n",
       " ('OCUM1__MDAMB415', 7),\n",
       " ('K029AX__VCAP', 7),\n",
       " ('JHUEM1__ES2', 8),\n",
       " ('BIN67__FU97', 8),\n",
       " ('SCCOHT1__RDES', 8),\n",
       " ('TTC642__MDAMB453', 8),\n",
       " ('TO14__HCC1419', 8),\n",
       " ('NCIH2030__SNU1544', 8),\n",
       " ('OCUM1__NCIH2887', 8),\n",
       " ('K029AX__MDAMB415', 8),\n",
       " ('NCIH2887__VCAP', 8),\n",
       " ('JHUEM1__HS852T', 9),\n",
       " ('BIN67__ES2', 9),\n",
       " ('SCCOHT1__FU97', 9),\n",
       " ('TTC642__RDES', 9),\n",
       " ('TO14__MDAMB453', 9),\n",
       " ('NCIH2030__HCC1419', 9),\n",
       " ('OCUM1__SNU1544', 9),\n",
       " ('K029AX__NCIH2887', 9),\n",
       " ('NCIH2887__MDAMB415', 9),\n",
       " ('HCC1419__VCAP', 9),\n",
       " ('JHUEM1__EWS502', 10),\n",
       " ('BIN67__HS852T', 10),\n",
       " ('SCCOHT1__ES2', 10),\n",
       " ('TTC642__FU97', 10),\n",
       " ('TO14__RDES', 10),\n",
       " ('NCIH2030__MDAMB453', 10),\n",
       " ('OCUM1__HCC1419', 10),\n",
       " ('K029AX__SNU1544', 10),\n",
       " ('NCIH2887__NCIH2887', 10),\n",
       " ('HCC1419__MDAMB415', 10),\n",
       " ('LS__VCAP', 10),\n",
       " ('JHUEM1__UMUC9', 11),\n",
       " ('BIN67__EWS502', 11),\n",
       " ('SCCOHT1__HS852T', 11),\n",
       " ('TTC642__ES2', 11),\n",
       " ('TO14__FU97', 11),\n",
       " ('NCIH2030__RDES', 11),\n",
       " ('OCUM1__MDAMB453', 11),\n",
       " ('K029AX__HCC1419', 11),\n",
       " ('NCIH2887__SNU1544', 11),\n",
       " ('HCC1419__NCIH2887', 11),\n",
       " ('LS__MDAMB415', 11),\n",
       " ('JM1__VCAP', 11),\n",
       " ('JHUEM1__COGE352', 12),\n",
       " ('BIN67__UMUC9', 12),\n",
       " ('SCCOHT1__EWS502', 12),\n",
       " ('TTC642__HS852T', 12),\n",
       " ('TO14__ES2', 12),\n",
       " ('NCIH2030__FU97', 12),\n",
       " ('OCUM1__RDES', 12),\n",
       " ('K029AX__MDAMB453', 12),\n",
       " ('NCIH2887__HCC1419', 12),\n",
       " ('HCC1419__SNU1544', 12),\n",
       " ('LS__NCIH2887', 12),\n",
       " ('JM1__MDAMB415', 12),\n",
       " ('OVMANA__VCAP', 12),\n",
       " ('JHUEM1__DMS53', 13),\n",
       " ('BIN67__COGE352', 13),\n",
       " ('SCCOHT1__UMUC9', 13),\n",
       " ('TTC642__EWS502', 13),\n",
       " ('TO14__HS852T', 13),\n",
       " ('NCIH2030__ES2', 13),\n",
       " ('OCUM1__FU97', 13),\n",
       " ('K029AX__RDES', 13),\n",
       " ('NCIH2887__MDAMB453', 13),\n",
       " ('HCC1419__HCC1419', 13),\n",
       " ('LS__SNU1544', 13),\n",
       " ('JM1__NCIH2887', 13),\n",
       " ('OVMANA__MDAMB415', 13),\n",
       " ('WM88__VCAP', 13),\n",
       " ('JHUEM1__HEC1', 14),\n",
       " ('BIN67__DMS53', 14),\n",
       " ('SCCOHT1__COGE352', 14),\n",
       " ('TTC642__UMUC9', 14),\n",
       " ('TO14__EWS502', 14),\n",
       " ('NCIH2030__HS852T', 14),\n",
       " ('OCUM1__ES2', 14),\n",
       " ('K029AX__FU97', 14),\n",
       " ('NCIH2887__RDES', 14),\n",
       " ('HCC1419__MDAMB453', 14),\n",
       " ('LS__HCC1419', 14),\n",
       " ('JM1__SNU1544', 14),\n",
       " ('OVMANA__NCIH2887', 14),\n",
       " ('WM88__MDAMB415', 14),\n",
       " ('MFE319__VCAP', 14),\n",
       " ('JHUEM1__NCIH1915', 15),\n",
       " ('BIN67__HEC1', 15),\n",
       " ('SCCOHT1__DMS53', 15),\n",
       " ('TTC642__COGE352', 15),\n",
       " ('TO14__UMUC9', 15),\n",
       " ('NCIH2030__EWS502', 15),\n",
       " ('OCUM1__HS852T', 15),\n",
       " ('K029AX__ES2', 15),\n",
       " ('NCIH2887__FU97', 15),\n",
       " ('HCC1419__RDES', 15),\n",
       " ('LS__MDAMB453', 15),\n",
       " ('JM1__HCC1419', 15),\n",
       " ('OVMANA__SNU1544', 15),\n",
       " ('WM88__NCIH2887', 15),\n",
       " ('MFE319__MDAMB415', 15),\n",
       " ('MEL290__VCAP', 15),\n",
       " ('JHUEM1__HCC2429', 16),\n",
       " ('BIN67__NCIH1915', 16),\n",
       " ('SCCOHT1__HEC1', 16),\n",
       " ('TTC642__DMS53', 16),\n",
       " ('TO14__COGE352', 16),\n",
       " ('NCIH2030__UMUC9', 16),\n",
       " ('OCUM1__EWS502', 16),\n",
       " ('K029AX__HS852T', 16),\n",
       " ('NCIH2887__ES2', 16),\n",
       " ('HCC1419__FU97', 16),\n",
       " ('LS__RDES', 16),\n",
       " ('JM1__MDAMB453', 16),\n",
       " ('OVMANA__HCC1419', 16),\n",
       " ('WM88__SNU1544', 16),\n",
       " ('MFE319__NCIH2887', 16),\n",
       " ('MEL290__MDAMB415', 16),\n",
       " ('JHUEM7__VCAP', 16),\n",
       " ('JHUEM1__MEL290', 17),\n",
       " ('BIN67__HCC2429', 17),\n",
       " ('SCCOHT1__NCIH1915', 17),\n",
       " ('TTC642__HEC1', 17),\n",
       " ('TO14__DMS53', 17),\n",
       " ('NCIH2030__COGE352', 17),\n",
       " ('OCUM1__UMUC9', 17),\n",
       " ('K029AX__EWS502', 17),\n",
       " ('NCIH2887__HS852T', 17),\n",
       " ('HCC1419__ES2', 17),\n",
       " ('LS__FU97', 17),\n",
       " ('JM1__RDES', 17),\n",
       " ('OVMANA__MDAMB453', 17),\n",
       " ('WM88__HCC1419', 17),\n",
       " ('MFE319__SNU1544', 17),\n",
       " ('MEL290__NCIH2887', 17),\n",
       " ('JHUEM7__MDAMB415', 17),\n",
       " ('GCIY__VCAP', 17),\n",
       " ('JHUEM1__PACADD188', 18),\n",
       " ('BIN67__MEL290', 18),\n",
       " ('SCCOHT1__HCC2429', 18),\n",
       " ('TTC642__NCIH1915', 18),\n",
       " ('TO14__HEC1', 18),\n",
       " ('NCIH2030__DMS53', 18),\n",
       " ('OCUM1__COGE352', 18),\n",
       " ('K029AX__UMUC9', 18),\n",
       " ('NCIH2887__EWS502', 18),\n",
       " ('HCC1419__HS852T', 18),\n",
       " ('LS__ES2', 18),\n",
       " ('JM1__FU97', 18),\n",
       " ('OVMANA__RDES', 18),\n",
       " ('WM88__MDAMB453', 18),\n",
       " ('MFE319__HCC1419', 18),\n",
       " ('MEL290__SNU1544', 18),\n",
       " ('JHUEM7__NCIH2887', 18),\n",
       " ('GCIY__MDAMB415', 18),\n",
       " ('CHLA266__VCAP', 18),\n",
       " ('JHUEM1__NCIH3122', 19),\n",
       " ('BIN67__PACADD188', 19),\n",
       " ('SCCOHT1__MEL290', 19),\n",
       " ('TTC642__HCC2429', 19),\n",
       " ('TO14__NCIH1915', 19),\n",
       " ('NCIH2030__HEC1', 19),\n",
       " ('OCUM1__DMS53', 19),\n",
       " ('K029AX__COGE352', 19),\n",
       " ('NCIH2887__UMUC9', 19),\n",
       " ('HCC1419__EWS502', 19),\n",
       " ('LS__HS852T', 19),\n",
       " ('JM1__ES2', 19),\n",
       " ('OVMANA__FU97', 19),\n",
       " ('WM88__RDES', 19),\n",
       " ('MFE319__MDAMB453', 19),\n",
       " ('MEL290__HCC1419', 19),\n",
       " ('JHUEM7__SNU1544', 19),\n",
       " ('GCIY__NCIH2887', 19),\n",
       " ('CHLA266__MDAMB415', 19),\n",
       " ('NCIH2122__VCAP', 19),\n",
       " ('JHUEM1__CAMA1', 20),\n",
       " ('BIN67__NCIH3122', 20),\n",
       " ('SCCOHT1__PACADD188', 20),\n",
       " ('TTC642__MEL290', 20),\n",
       " ('TO14__HCC2429', 20),\n",
       " ('NCIH2030__NCIH1915', 20),\n",
       " ('OCUM1__HEC1', 20),\n",
       " ('K029AX__DMS53', 20),\n",
       " ('NCIH2887__COGE352', 20),\n",
       " ('HCC1419__UMUC9', 20),\n",
       " ('LS__EWS502', 20),\n",
       " ('JM1__HS852T', 20),\n",
       " ('OVMANA__ES2', 20),\n",
       " ('WM88__FU97', 20),\n",
       " ('MFE319__RDES', 20),\n",
       " ('MEL290__MDAMB453', 20),\n",
       " ('JHUEM7__HCC1419', 20),\n",
       " ('GCIY__SNU1544', 20),\n",
       " ('CHLA266__NCIH2887', 20),\n",
       " ('NCIH2122__MDAMB415', 20),\n",
       " ('HS578T__VCAP', 20),\n",
       " ('JHUEM1__G292CLONEA141B1', 21),\n",
       " ('BIN67__CAMA1', 21),\n",
       " ('SCCOHT1__NCIH3122', 21),\n",
       " ('TTC642__PACADD188', 21),\n",
       " ('TO14__MEL290', 21),\n",
       " ('NCIH2030__HCC2429', 21),\n",
       " ('OCUM1__NCIH1915', 21),\n",
       " ('K029AX__HEC1', 21),\n",
       " ('NCIH2887__DMS53', 21),\n",
       " ('HCC1419__COGE352', 21),\n",
       " ('LS__UMUC9', 21),\n",
       " ('JM1__EWS502', 21),\n",
       " ('OVMANA__HS852T', 21),\n",
       " ('WM88__ES2', 21),\n",
       " ('MFE319__FU97', 21),\n",
       " ('MEL290__RDES', 21),\n",
       " ('JHUEM7__MDAMB453', 21),\n",
       " ('GCIY__HCC1419', 21),\n",
       " ('CHLA266__SNU1544', 21),\n",
       " ('NCIH2122__NCIH2887', 21),\n",
       " ('HS578T__MDAMB415', 21),\n",
       " ('COV318__VCAP', 21),\n",
       " ('JHUEM1__LN464', 22),\n",
       " ('BIN67__G292CLONEA141B1', 22),\n",
       " ('SCCOHT1__CAMA1', 22),\n",
       " ('TTC642__NCIH3122', 22),\n",
       " ('TO14__PACADD188', 22),\n",
       " ('NCIH2030__MEL290', 22),\n",
       " ('OCUM1__HCC2429', 22),\n",
       " ('K029AX__NCIH1915', 22),\n",
       " ('NCIH2887__HEC1', 22),\n",
       " ('HCC1419__DMS53', 22),\n",
       " ('LS__COGE352', 22),\n",
       " ('JM1__UMUC9', 22),\n",
       " ('OVMANA__EWS502', 22),\n",
       " ('WM88__HS852T', 22),\n",
       " ('MFE319__ES2', 22),\n",
       " ('MEL290__FU97', 22),\n",
       " ('JHUEM7__RDES', 22),\n",
       " ('GCIY__MDAMB453', 22),\n",
       " ('CHLA266__HCC1419', 22),\n",
       " ('NCIH2122__SNU1544', 22),\n",
       " ('HS578T__NCIH2887', 22),\n",
       " ('COV318__MDAMB415', 22),\n",
       " ('SKNAS__VCAP', 22),\n",
       " ('JHUEM1__HMY1', 23),\n",
       " ('BIN67__LN464', 23),\n",
       " ('SCCOHT1__G292CLONEA141B1', 23),\n",
       " ('TTC642__CAMA1', 23),\n",
       " ('TO14__NCIH3122', 23),\n",
       " ('NCIH2030__PACADD188', 23),\n",
       " ('OCUM1__MEL290', 23),\n",
       " ('K029AX__HCC2429', 23),\n",
       " ('NCIH2887__NCIH1915', 23),\n",
       " ('HCC1419__HEC1', 23),\n",
       " ('LS__DMS53', 23),\n",
       " ('JM1__COGE352', 23),\n",
       " ('OVMANA__UMUC9', 23),\n",
       " ('WM88__EWS502', 23),\n",
       " ('MFE319__HS852T', 23),\n",
       " ('MEL290__ES2', 23),\n",
       " ('JHUEM7__FU97', 23),\n",
       " ('GCIY__RDES', 23),\n",
       " ('CHLA266__MDAMB453', 23),\n",
       " ('NCIH2122__HCC1419', 23),\n",
       " ('HS578T__SNU1544', 23),\n",
       " ('COV318__NCIH2887', 23),\n",
       " ('SKNAS__MDAMB415', 23),\n",
       " ('SNU182__VCAP', 23),\n",
       " ('JHUEM1__HMC18', 24),\n",
       " ('BIN67__HMY1', 24),\n",
       " ('SCCOHT1__LN464', 24),\n",
       " ('TTC642__G292CLONEA141B1', 24),\n",
       " ('TO14__CAMA1', 24),\n",
       " ('NCIH2030__NCIH3122', 24),\n",
       " ('OCUM1__PACADD188', 24),\n",
       " ('K029AX__MEL290', 24),\n",
       " ('NCIH2887__HCC2429', 24),\n",
       " ('HCC1419__NCIH1915', 24),\n",
       " ('LS__HEC1', 24),\n",
       " ('JM1__DMS53', 24),\n",
       " ('OVMANA__COGE352', 24),\n",
       " ('WM88__UMUC9', 24),\n",
       " ('MFE319__EWS502', 24),\n",
       " ('MEL290__HS852T', 24),\n",
       " ('JHUEM7__ES2', 24),\n",
       " ('GCIY__FU97', 24),\n",
       " ('CHLA266__RDES', 24),\n",
       " ('NCIH2122__MDAMB453', 24),\n",
       " ('HS578T__HCC1419', 24),\n",
       " ('COV318__SNU1544', 24),\n",
       " ('SKNAS__NCIH2887', 24),\n",
       " ('SNU182__MDAMB415', 24),\n",
       " ('JHUEM1__RMUGS', 25),\n",
       " ('BIN67__HMC18', 25),\n",
       " ('SCCOHT1__HMY1', 25),\n",
       " ('TTC642__LN464', 25),\n",
       " ('TO14__G292CLONEA141B1', 25),\n",
       " ('NCIH2030__CAMA1', 25),\n",
       " ('OCUM1__NCIH3122', 25),\n",
       " ('K029AX__PACADD188', 25),\n",
       " ('NCIH2887__MEL290', 25),\n",
       " ('HCC1419__HCC2429', 25),\n",
       " ('LS__NCIH1915', 25),\n",
       " ('JM1__HEC1', 25),\n",
       " ('OVMANA__DMS53', 25),\n",
       " ('WM88__COGE352', 25),\n",
       " ('MFE319__UMUC9', 25),\n",
       " ('MEL290__EWS502', 25),\n",
       " ('JHUEM7__HS852T', 25),\n",
       " ('GCIY__ES2', 25),\n",
       " ('CHLA266__FU97', 25),\n",
       " ('NCIH2122__RDES', 25),\n",
       " ('HS578T__MDAMB453', 25),\n",
       " ('COV318__HCC1419', 25),\n",
       " ('SKNAS__SNU1544', 25),\n",
       " ('SNU182__NCIH2887', 25),\n",
       " ('TC32__VCAP', 25),\n",
       " ('JHUEM1__NCIH1792', 26),\n",
       " ('BIN67__RMUGS', 26),\n",
       " ('SCCOHT1__HMC18', 26),\n",
       " ('TTC642__HMY1', 26),\n",
       " ('TO14__LN464', 26),\n",
       " ('NCIH2030__G292CLONEA141B1', 26),\n",
       " ('OCUM1__CAMA1', 26),\n",
       " ('K029AX__NCIH3122', 26),\n",
       " ('NCIH2887__PACADD188', 26),\n",
       " ('HCC1419__MEL290', 26),\n",
       " ('LS__HCC2429', 26),\n",
       " ('JM1__NCIH1915', 26),\n",
       " ('OVMANA__HEC1', 26),\n",
       " ('WM88__DMS53', 26),\n",
       " ('MFE319__COGE352', 26),\n",
       " ('MEL290__UMUC9', 26),\n",
       " ('JHUEM7__EWS502', 26),\n",
       " ('GCIY__HS852T', 26),\n",
       " ('CHLA266__ES2', 26),\n",
       " ('NCIH2122__FU97', 26),\n",
       " ('HS578T__RDES', 26),\n",
       " ('COV318__MDAMB453', 26),\n",
       " ('SKNAS__HCC1419', 26),\n",
       " ('SNU182__SNU1544', 26),\n",
       " ('TC32__MDAMB415', 26),\n",
       " ('SNU308__VCAP', 26),\n",
       " ('JHUEM1__BLUE1', 27),\n",
       " ('BIN67__NCIH1792', 27),\n",
       " ('SCCOHT1__RMUGS', 27),\n",
       " ('TTC642__HMC18', 27),\n",
       " ('TO14__HMY1', 27),\n",
       " ('NCIH2030__LN464', 27),\n",
       " ('OCUM1__G292CLONEA141B1', 27),\n",
       " ('K029AX__CAMA1', 27),\n",
       " ('NCIH2887__NCIH3122', 27),\n",
       " ('HCC1419__PACADD188', 27),\n",
       " ('LS__MEL290', 27),\n",
       " ('JM1__HCC2429', 27),\n",
       " ('OVMANA__NCIH1915', 27),\n",
       " ('WM88__HEC1', 27),\n",
       " ('MFE319__DMS53', 27),\n",
       " ('MEL290__COGE352', 27),\n",
       " ('JHUEM7__UMUC9', 27),\n",
       " ('GCIY__EWS502', 27),\n",
       " ('CHLA266__HS852T', 27),\n",
       " ('NCIH2122__ES2', 27),\n",
       " ('HS578T__FU97', 27),\n",
       " ('COV318__RDES', 27),\n",
       " ('SKNAS__MDAMB453', 27),\n",
       " ('SNU182__HCC1419', 27),\n",
       " ('TC32__NCIH2887', 27),\n",
       " ('SNU308__MDAMB415', 27),\n",
       " ('OCIM2__VCAP', 27),\n",
       " ('JHUEM1__HCC1428', 28),\n",
       " ('BIN67__BLUE1', 28),\n",
       " ('SCCOHT1__NCIH1792', 28),\n",
       " ('TTC642__RMUGS', 28),\n",
       " ('TO14__HMC18', 28),\n",
       " ('NCIH2030__HMY1', 28),\n",
       " ('OCUM1__LN464', 28),\n",
       " ('K029AX__G292CLONEA141B1', 28),\n",
       " ('NCIH2887__CAMA1', 28),\n",
       " ('HCC1419__NCIH3122', 28),\n",
       " ('LS__PACADD188', 28),\n",
       " ('JM1__MEL290', 28),\n",
       " ('OVMANA__HCC2429', 28),\n",
       " ('WM88__NCIH1915', 28),\n",
       " ('MFE319__HEC1', 28),\n",
       " ('MEL290__DMS53', 28),\n",
       " ('JHUEM7__COGE352', 28),\n",
       " ('GCIY__UMUC9', 28),\n",
       " ('CHLA266__EWS502', 28),\n",
       " ('NCIH2122__HS852T', 28),\n",
       " ('HS578T__ES2', 28),\n",
       " ('COV318__FU97', 28),\n",
       " ('SKNAS__RDES', 28),\n",
       " ('SNU182__MDAMB453', 28),\n",
       " ('TC32__SNU1544', 28),\n",
       " ('SNU308__NCIH2887', 28),\n",
       " ('OCIM2__MDAMB415', 28),\n",
       " ('SNUC4__VCAP', 28),\n",
       " ('JHUEM1__TC71', 29),\n",
       " ('BIN67__HCC1428', 29),\n",
       " ('SCCOHT1__BLUE1', 29),\n",
       " ('TTC642__NCIH1792', 29),\n",
       " ('TO14__RMUGS', 29),\n",
       " ('NCIH2030__HMC18', 29),\n",
       " ('OCUM1__HMY1', 29),\n",
       " ('K029AX__LN464', 29),\n",
       " ('NCIH2887__G292CLONEA141B1', 29),\n",
       " ('HCC1419__CAMA1', 29),\n",
       " ('LS__NCIH3122', 29),\n",
       " ('JM1__PACADD188', 29),\n",
       " ('OVMANA__MEL290', 29),\n",
       " ('WM88__HCC2429', 29),\n",
       " ('MFE319__NCIH1915', 29),\n",
       " ('MEL290__HEC1', 29),\n",
       " ('JHUEM7__DMS53', 29),\n",
       " ('GCIY__COGE352', 29),\n",
       " ('CHLA266__UMUC9', 29),\n",
       " ('NCIH2122__EWS502', 29),\n",
       " ('HS578T__HS852T', 29),\n",
       " ('COV318__ES2', 29),\n",
       " ('SKNAS__FU97', 29),\n",
       " ('SNU182__RDES', 29),\n",
       " ('TC32__HCC1419', 29),\n",
       " ('SNU308__SNU1544', 29),\n",
       " ('OCIM2__NCIH2887', 29),\n",
       " ('SNUC4__MDAMB415', 29),\n",
       " ('DKMG__VCAP', 29),\n",
       " ('JHUEM1__COV434', 30),\n",
       " ('BIN67__TC71', 30),\n",
       " ('SCCOHT1__HCC1428', 30),\n",
       " ('TTC642__BLUE1', 30),\n",
       " ('TO14__NCIH1792', 30),\n",
       " ('NCIH2030__RMUGS', 30),\n",
       " ('OCUM1__HMC18', 30),\n",
       " ('K029AX__HMY1', 30),\n",
       " ('NCIH2887__LN464', 30),\n",
       " ('HCC1419__G292CLONEA141B1', 30),\n",
       " ('LS__CAMA1', 30),\n",
       " ('JM1__NCIH3122', 30),\n",
       " ('OVMANA__PACADD188', 30),\n",
       " ('WM88__MEL290', 30),\n",
       " ('MFE319__HCC2429', 30),\n",
       " ('MEL290__NCIH1915', 30),\n",
       " ('JHUEM7__HEC1', 30),\n",
       " ('GCIY__DMS53', 30),\n",
       " ('CHLA266__COGE352', 30),\n",
       " ('NCIH2122__UMUC9', 30),\n",
       " ('HS578T__EWS502', 30),\n",
       " ('COV318__HS852T', 30),\n",
       " ('SKNAS__ES2', 30),\n",
       " ('SNU182__FU97', 30),\n",
       " ('TC32__MDAMB453', 30),\n",
       " ('SNU308__HCC1419', 30),\n",
       " ('OCIM2__SNU1544', 30),\n",
       " ('SNUC4__NCIH2887', 30),\n",
       " ('DKMG__MDAMB415', 30),\n",
       " ('GP5D__VCAP', 30),\n",
       " ('JHUEM1__HGC27', 31),\n",
       " ('BIN67__COV434', 31),\n",
       " ('SCCOHT1__TC71', 31),\n",
       " ('TTC642__HCC1428', 31),\n",
       " ('TO14__BLUE1', 31),\n",
       " ('NCIH2030__NCIH1792', 31),\n",
       " ('OCUM1__RMUGS', 31),\n",
       " ('K029AX__HMC18', 31),\n",
       " ('NCIH2887__HMY1', 31),\n",
       " ('HCC1419__LN464', 31),\n",
       " ('LS__G292CLONEA141B1', 31),\n",
       " ('JM1__CAMA1', 31),\n",
       " ('OVMANA__NCIH3122', 31),\n",
       " ('WM88__PACADD188', 31),\n",
       " ('MFE319__MEL290', 31),\n",
       " ('MEL290__HCC2429', 31),\n",
       " ('JHUEM7__NCIH1915', 31),\n",
       " ('GCIY__HEC1', 31),\n",
       " ('CHLA266__DMS53', 31),\n",
       " ('NCIH2122__COGE352', 31),\n",
       " ('HS578T__UMUC9', 31),\n",
       " ('COV318__EWS502', 31),\n",
       " ('SKNAS__HS852T', 31),\n",
       " ('SNU182__ES2', 31),\n",
       " ('TC32__RDES', 31),\n",
       " ('SNU308__MDAMB453', 31),\n",
       " ('OCIM2__HCC1419', 31),\n",
       " ('SNUC4__SNU1544', 31),\n",
       " ('DKMG__NCIH2887', 31),\n",
       " ('GP5D__MDAMB415', 31),\n",
       " ('CHLA06ATRT__VCAP', 31),\n",
       " ('JHUEM1__WM793', 32),\n",
       " ('BIN67__HGC27', 32),\n",
       " ('SCCOHT1__COV434', 32),\n",
       " ('TTC642__TC71', 32),\n",
       " ('TO14__HCC1428', 32),\n",
       " ('NCIH2030__BLUE1', 32),\n",
       " ('OCUM1__NCIH1792', 32),\n",
       " ('K029AX__RMUGS', 32),\n",
       " ('NCIH2887__HMC18', 32),\n",
       " ('HCC1419__HMY1', 32),\n",
       " ('LS__LN464', 32),\n",
       " ('JM1__G292CLONEA141B1', 32),\n",
       " ('OVMANA__CAMA1', 32),\n",
       " ('WM88__NCIH3122', 32),\n",
       " ('MFE319__PACADD188', 32),\n",
       " ('MEL290__MEL290', 32),\n",
       " ('JHUEM7__HCC2429', 32),\n",
       " ('GCIY__NCIH1915', 32),\n",
       " ('CHLA266__HEC1', 32),\n",
       " ('NCIH2122__DMS53', 32),\n",
       " ('HS578T__COGE352', 32),\n",
       " ('COV318__UMUC9', 32),\n",
       " ('SKNAS__EWS502', 32),\n",
       " ('SNU182__HS852T', 32),\n",
       " ('TC32__FU97', 32),\n",
       " ('SNU308__RDES', 32),\n",
       " ('OCIM2__MDAMB453', 32),\n",
       " ('SNUC4__HCC1419', 32),\n",
       " ('DKMG__SNU1544', 32),\n",
       " ('GP5D__NCIH2887', 32),\n",
       " ('CHLA06ATRT__MDAMB415', 32),\n",
       " ('HKA1__VCAP', 32),\n",
       " ('JHUEM1__TE4', 33),\n",
       " ('BIN67__WM793', 33),\n",
       " ('SCCOHT1__HGC27', 33),\n",
       " ('TTC642__COV434', 33),\n",
       " ('TO14__TC71', 33),\n",
       " ('NCIH2030__HCC1428', 33),\n",
       " ('OCUM1__BLUE1', 33),\n",
       " ('K029AX__NCIH1792', 33),\n",
       " ('NCIH2887__RMUGS', 33),\n",
       " ('HCC1419__HMC18', 33),\n",
       " ('LS__HMY1', 33),\n",
       " ('JM1__LN464', 33),\n",
       " ('OVMANA__G292CLONEA141B1', 33),\n",
       " ('WM88__CAMA1', 33),\n",
       " ('MFE319__NCIH3122', 33),\n",
       " ('MEL290__PACADD188', 33),\n",
       " ('JHUEM7__MEL290', 33),\n",
       " ('GCIY__HCC2429', 33),\n",
       " ('CHLA266__NCIH1915', 33),\n",
       " ('NCIH2122__HEC1', 33),\n",
       " ('HS578T__DMS53', 33),\n",
       " ('COV318__COGE352', 33),\n",
       " ('SKNAS__UMUC9', 33),\n",
       " ('SNU182__EWS502', 33),\n",
       " ('TC32__ES2', 33),\n",
       " ('SNU308__FU97', 33),\n",
       " ('OCIM2__RDES', 33),\n",
       " ('SNUC4__MDAMB453', 33),\n",
       " ('DKMG__HCC1419', 33),\n",
       " ('GP5D__SNU1544', 33),\n",
       " ('CHLA06ATRT__NCIH2887', 33),\n",
       " ('HKA1__MDAMB415', 33),\n",
       " ('OVK18__VCAP', 33),\n",
       " ('JHUEM1__MDAMB435S', 34),\n",
       " ('BIN67__TE4', 34),\n",
       " ('SCCOHT1__WM793', 34),\n",
       " ('TTC642__HGC27', 34),\n",
       " ('TO14__COV434', 34),\n",
       " ('NCIH2030__TC71', 34),\n",
       " ('OCUM1__HCC1428', 34),\n",
       " ('K029AX__BLUE1', 34),\n",
       " ('NCIH2887__NCIH1792', 34),\n",
       " ('HCC1419__RMUGS', 34),\n",
       " ('LS__HMC18', 34),\n",
       " ('JM1__HMY1', 34),\n",
       " ('OVMANA__LN464', 34),\n",
       " ('WM88__G292CLONEA141B1', 34),\n",
       " ('MFE319__CAMA1', 34),\n",
       " ('MEL290__NCIH3122', 34),\n",
       " ('JHUEM7__PACADD188', 34),\n",
       " ('GCIY__MEL290', 34),\n",
       " ('CHLA266__HCC2429', 34),\n",
       " ('NCIH2122__NCIH1915', 34),\n",
       " ('HS578T__HEC1', 34),\n",
       " ('COV318__DMS53', 34),\n",
       " ('SKNAS__COGE352', 34),\n",
       " ('SNU182__UMUC9', 34),\n",
       " ('TC32__HS852T', 34),\n",
       " ('SNU308__ES2', 34),\n",
       " ('OCIM2__FU97', 34),\n",
       " ('SNUC4__RDES', 34),\n",
       " ('DKMG__MDAMB453', 34),\n",
       " ('GP5D__HCC1419', 34),\n",
       " ('CHLA06ATRT__SNU1544', 34),\n",
       " ('HKA1__NCIH2887', 34),\n",
       " ('OVK18__MDAMB415', 34),\n",
       " ('MORCPR__VCAP', 34),\n",
       " ('JHUEM1__NCIH2052', 35),\n",
       " ('BIN67__MDAMB435S', 35),\n",
       " ('SCCOHT1__TE4', 35),\n",
       " ('TTC642__WM793', 35),\n",
       " ('TO14__HGC27', 35),\n",
       " ('NCIH2030__COV434', 35),\n",
       " ('OCUM1__TC71', 35),\n",
       " ('K029AX__HCC1428', 35),\n",
       " ('NCIH2887__BLUE1', 35),\n",
       " ('HCC1419__NCIH1792', 35),\n",
       " ('LS__RMUGS', 35),\n",
       " ('JM1__HMC18', 35),\n",
       " ('OVMANA__HMY1', 35),\n",
       " ('WM88__LN464', 35),\n",
       " ('MFE319__G292CLONEA141B1', 35),\n",
       " ('MEL290__CAMA1', 35),\n",
       " ('JHUEM7__NCIH3122', 35),\n",
       " ('GCIY__PACADD188', 35),\n",
       " ('CHLA266__MEL290', 35),\n",
       " ('NCIH2122__HCC2429', 35),\n",
       " ('HS578T__NCIH1915', 35),\n",
       " ('COV318__HEC1', 35),\n",
       " ('SKNAS__DMS53', 35),\n",
       " ('SNU182__COGE352', 35),\n",
       " ('TC32__EWS502', 35),\n",
       " ('SNU308__HS852T', 35),\n",
       " ('OCIM2__ES2', 35),\n",
       " ('SNUC4__FU97', 35),\n",
       " ('DKMG__RDES', 35),\n",
       " ('GP5D__MDAMB453', 35),\n",
       " ('CHLA06ATRT__HCC1419', 35),\n",
       " ('HKA1__SNU1544', 35),\n",
       " ('OVK18__NCIH2887', 35),\n",
       " ('MORCPR__MDAMB415', 35),\n",
       " ('RDES__VCAP', 35),\n",
       " ('JHUEM1__SNU761', 36),\n",
       " ('BIN67__NCIH2052', 36),\n",
       " ('SCCOHT1__MDAMB435S', 36),\n",
       " ('TTC642__TE4', 36),\n",
       " ('TO14__WM793', 36),\n",
       " ('NCIH2030__HGC27', 36),\n",
       " ('OCUM1__COV434', 36),\n",
       " ('K029AX__TC71', 36),\n",
       " ('NCIH2887__HCC1428', 36),\n",
       " ('HCC1419__BLUE1', 36),\n",
       " ('LS__NCIH1792', 36),\n",
       " ('JM1__RMUGS', 36),\n",
       " ('OVMANA__HMC18', 36),\n",
       " ('WM88__HMY1', 36),\n",
       " ('MFE319__LN464', 36),\n",
       " ('MEL290__G292CLONEA141B1', 36),\n",
       " ('JHUEM7__CAMA1', 36),\n",
       " ('GCIY__NCIH3122', 36),\n",
       " ('CHLA266__PACADD188', 36),\n",
       " ('NCIH2122__MEL290', 36),\n",
       " ('HS578T__HCC2429', 36),\n",
       " ('COV318__NCIH1915', 36),\n",
       " ('SKNAS__HEC1', 36),\n",
       " ('SNU182__DMS53', 36),\n",
       " ('TC32__UMUC9', 36),\n",
       " ('SNU308__EWS502', 36),\n",
       " ('OCIM2__HS852T', 36),\n",
       " ('SNUC4__ES2', 36),\n",
       " ('DKMG__FU97', 36),\n",
       " ('GP5D__RDES', 36),\n",
       " ('CHLA06ATRT__MDAMB453', 36),\n",
       " ('HKA1__HCC1419', 36),\n",
       " ('OVK18__SNU1544', 36),\n",
       " ('MORCPR__NCIH2887', 36),\n",
       " ('RDES__MDAMB415', 36),\n",
       " ('H413__VCAP', 36),\n",
       " ('JHUEM1__MDST8', 37),\n",
       " ('BIN67__SNU761', 37),\n",
       " ('SCCOHT1__NCIH2052', 37),\n",
       " ('TTC642__MDAMB435S', 37),\n",
       " ('TO14__TE4', 37),\n",
       " ('NCIH2030__WM793', 37),\n",
       " ('OCUM1__HGC27', 37),\n",
       " ('K029AX__COV434', 37),\n",
       " ('NCIH2887__TC71', 37),\n",
       " ('HCC1419__HCC1428', 37),\n",
       " ('LS__BLUE1', 37),\n",
       " ('JM1__NCIH1792', 37),\n",
       " ('OVMANA__RMUGS', 37),\n",
       " ('WM88__HMC18', 37),\n",
       " ('MFE319__HMY1', 37),\n",
       " ('MEL290__LN464', 37),\n",
       " ('JHUEM7__G292CLONEA141B1', 37),\n",
       " ('GCIY__CAMA1', 37),\n",
       " ('CHLA266__NCIH3122', 37),\n",
       " ('NCIH2122__PACADD188', 37),\n",
       " ('HS578T__MEL290', 37),\n",
       " ('COV318__HCC2429', 37),\n",
       " ('SKNAS__NCIH1915', 37),\n",
       " ('SNU182__HEC1', 37),\n",
       " ('TC32__COGE352', 37),\n",
       " ('SNU308__UMUC9', 37),\n",
       " ('OCIM2__EWS502', 37),\n",
       " ('SNUC4__HS852T', 37),\n",
       " ('DKMG__ES2', 37),\n",
       " ('GP5D__FU97', 37),\n",
       " ('CHLA06ATRT__RDES', 37),\n",
       " ('HKA1__MDAMB453', 37),\n",
       " ('OVK18__HCC1419', 37),\n",
       " ('MORCPR__SNU1544', 37),\n",
       " ('RDES__NCIH2887', 37),\n",
       " ('H413__MDAMB415', 37),\n",
       " ('HMC18__VCAP', 37),\n",
       " ('JHUEM1__ONDA8', 38),\n",
       " ('BIN67__MDST8', 38),\n",
       " ('SCCOHT1__SNU761', 38),\n",
       " ('TTC642__NCIH2052', 38),\n",
       " ('TO14__MDAMB435S', 38),\n",
       " ('NCIH2030__TE4', 38),\n",
       " ('OCUM1__WM793', 38),\n",
       " ('K029AX__HGC27', 38),\n",
       " ('NCIH2887__COV434', 38),\n",
       " ('HCC1419__TC71', 38),\n",
       " ('LS__HCC1428', 38),\n",
       " ('JM1__BLUE1', 38),\n",
       " ('OVMANA__NCIH1792', 38),\n",
       " ('WM88__RMUGS', 38),\n",
       " ('MFE319__HMC18', 38),\n",
       " ('MEL290__HMY1', 38),\n",
       " ('JHUEM7__LN464', 38),\n",
       " ('GCIY__G292CLONEA141B1', 38),\n",
       " ('CHLA266__CAMA1', 38),\n",
       " ('NCIH2122__NCIH3122', 38),\n",
       " ('HS578T__PACADD188', 38),\n",
       " ('COV318__MEL290', 38),\n",
       " ('SKNAS__HCC2429', 38),\n",
       " ('SNU182__NCIH1915', 38),\n",
       " ('TC32__DMS53', 38),\n",
       " ('SNU308__COGE352', 38),\n",
       " ('OCIM2__UMUC9', 38),\n",
       " ('SNUC4__EWS502', 38),\n",
       " ('DKMG__HS852T', 38),\n",
       " ('GP5D__ES2', 38),\n",
       " ('CHLA06ATRT__FU97', 38),\n",
       " ('HKA1__RDES', 38),\n",
       " ('OVK18__MDAMB453', 38),\n",
       " ('MORCPR__HCC1419', 38),\n",
       " ('RDES__SNU1544', 38),\n",
       " ('H413__NCIH2887', 38),\n",
       " ('HMC18__MDAMB415', 38),\n",
       " ('U343__VCAP', 38),\n",
       " ('JHUEM1__MCF7', 39),\n",
       " ('BIN67__ONDA8', 39),\n",
       " ('SCCOHT1__MDST8', 39),\n",
       " ('TTC642__SNU761', 39),\n",
       " ('TO14__NCIH2052', 39),\n",
       " ('NCIH2030__MDAMB435S', 39),\n",
       " ('OCUM1__TE4', 39),\n",
       " ('K029AX__WM793', 39),\n",
       " ('NCIH2887__HGC27', 39),\n",
       " ('HCC1419__COV434', 39),\n",
       " ('LS__TC71', 39),\n",
       " ('JM1__HCC1428', 39),\n",
       " ('OVMANA__BLUE1', 39),\n",
       " ('WM88__NCIH1792', 39),\n",
       " ('MFE319__RMUGS', 39),\n",
       " ('MEL290__HMC18', 39),\n",
       " ('JHUEM7__HMY1', 39),\n",
       " ('GCIY__LN464', 39),\n",
       " ('CHLA266__G292CLONEA141B1', 39),\n",
       " ('NCIH2122__CAMA1', 39),\n",
       " ('HS578T__NCIH3122', 39),\n",
       " ('COV318__PACADD188', 39),\n",
       " ('SKNAS__MEL290', 39),\n",
       " ('SNU182__HCC2429', 39),\n",
       " ('TC32__HEC1', 39),\n",
       " ('SNU308__DMS53', 39),\n",
       " ('OCIM2__COGE352', 39),\n",
       " ('SNUC4__UMUC9', 39),\n",
       " ('DKMG__EWS502', 39),\n",
       " ('GP5D__HS852T', 39),\n",
       " ('CHLA06ATRT__ES2', 39),\n",
       " ('HKA1__FU97', 39),\n",
       " ('OVK18__RDES', 39),\n",
       " ('MORCPR__MDAMB453', 39),\n",
       " ('RDES__HCC1419', 39),\n",
       " ('H413__SNU1544', 39),\n",
       " ('HMC18__NCIH2887', 39),\n",
       " ('U343__MDAMB415', 39),\n",
       " ('C4II__VCAP', 39),\n",
       " ('JHUEM1__PEA1', 40),\n",
       " ('BIN67__MCF7', 40),\n",
       " ('SCCOHT1__ONDA8', 40),\n",
       " ('TTC642__MDST8', 40),\n",
       " ('TO14__SNU761', 40),\n",
       " ('NCIH2030__NCIH2052', 40),\n",
       " ('OCUM1__MDAMB435S', 40),\n",
       " ('K029AX__TE4', 40),\n",
       " ('NCIH2887__WM793', 40),\n",
       " ('HCC1419__HGC27', 40),\n",
       " ('LS__COV434', 40),\n",
       " ('JM1__TC71', 40),\n",
       " ('OVMANA__HCC1428', 40),\n",
       " ('WM88__BLUE1', 40),\n",
       " ('MFE319__NCIH1792', 40),\n",
       " ('MEL290__RMUGS', 40),\n",
       " ('JHUEM7__HMC18', 40),\n",
       " ('GCIY__HMY1', 40),\n",
       " ('CHLA266__LN464', 40),\n",
       " ('NCIH2122__G292CLONEA141B1', 40),\n",
       " ('HS578T__CAMA1', 40),\n",
       " ('COV318__NCIH3122', 40),\n",
       " ('SKNAS__PACADD188', 40),\n",
       " ('SNU182__MEL290', 40),\n",
       " ('TC32__NCIH1915', 40),\n",
       " ('SNU308__HEC1', 40),\n",
       " ('OCIM2__DMS53', 40),\n",
       " ('SNUC4__COGE352', 40),\n",
       " ('DKMG__UMUC9', 40),\n",
       " ('GP5D__EWS502', 40),\n",
       " ('CHLA06ATRT__HS852T', 40),\n",
       " ('HKA1__ES2', 40),\n",
       " ('OVK18__FU97', 40),\n",
       " ('MORCPR__RDES', 40),\n",
       " ('RDES__MDAMB453', 40),\n",
       " ('H413__HCC1419', 40),\n",
       " ('HMC18__SNU1544', 40),\n",
       " ('U343__NCIH2887', 40),\n",
       " ('C4II__MDAMB415', 40),\n",
       " ('SNU685__VCAP', 40),\n",
       " ('JHUEM1__ZR751', 41),\n",
       " ('BIN67__PEA1', 41),\n",
       " ('SCCOHT1__MCF7', 41),\n",
       " ('TTC642__ONDA8', 41),\n",
       " ('TO14__MDST8', 41),\n",
       " ('NCIH2030__SNU761', 41),\n",
       " ('OCUM1__NCIH2052', 41),\n",
       " ('K029AX__MDAMB435S', 41),\n",
       " ('NCIH2887__TE4', 41),\n",
       " ('HCC1419__WM793', 41),\n",
       " ('LS__HGC27', 41),\n",
       " ('JM1__COV434', 41),\n",
       " ('OVMANA__TC71', 41),\n",
       " ('WM88__HCC1428', 41),\n",
       " ('MFE319__BLUE1', 41),\n",
       " ('MEL290__NCIH1792', 41),\n",
       " ('JHUEM7__RMUGS', 41),\n",
       " ('GCIY__HMC18', 41),\n",
       " ('CHLA266__HMY1', 41),\n",
       " ('NCIH2122__LN464', 41),\n",
       " ('HS578T__G292CLONEA141B1', 41),\n",
       " ('COV318__CAMA1', 41),\n",
       " ('SKNAS__NCIH3122', 41),\n",
       " ('SNU182__PACADD188', 41),\n",
       " ('TC32__HCC2429', 41),\n",
       " ('SNU308__NCIH1915', 41),\n",
       " ('OCIM2__HEC1', 41),\n",
       " ('SNUC4__DMS53', 41),\n",
       " ('DKMG__COGE352', 41),\n",
       " ('GP5D__UMUC9', 41),\n",
       " ('CHLA06ATRT__EWS502', 41),\n",
       " ('HKA1__HS852T', 41),\n",
       " ('OVK18__ES2', 41),\n",
       " ('MORCPR__FU97', 41),\n",
       " ('RDES__RDES', 41),\n",
       " ('H413__MDAMB453', 41),\n",
       " ('HMC18__HCC1419', 41),\n",
       " ('U343__SNU1544', 41),\n",
       " ('C4II__NCIH2887', 41),\n",
       " ('SNU685__MDAMB415', 41),\n",
       " ('C32__VCAP', 41),\n",
       " ('JHUEM1__WM1799', 42),\n",
       " ('BIN67__ZR751', 42),\n",
       " ('SCCOHT1__PEA1', 42),\n",
       " ('TTC642__MCF7', 42),\n",
       " ('TO14__ONDA8', 42),\n",
       " ('NCIH2030__MDST8', 42),\n",
       " ('OCUM1__SNU761', 42),\n",
       " ('K029AX__NCIH2052', 42),\n",
       " ('NCIH2887__MDAMB435S', 42),\n",
       " ('HCC1419__TE4', 42),\n",
       " ('LS__WM793', 42),\n",
       " ('JM1__HGC27', 42),\n",
       " ('OVMANA__COV434', 42),\n",
       " ('WM88__TC71', 42),\n",
       " ('MFE319__HCC1428', 42),\n",
       " ('MEL290__BLUE1', 42),\n",
       " ('JHUEM7__NCIH1792', 42),\n",
       " ('GCIY__RMUGS', 42),\n",
       " ('CHLA266__HMC18', 42),\n",
       " ('NCIH2122__HMY1', 42),\n",
       " ('HS578T__LN464', 42),\n",
       " ('COV318__G292CLONEA141B1', 42),\n",
       " ('SKNAS__CAMA1', 42),\n",
       " ('SNU182__NCIH3122', 42),\n",
       " ('TC32__MEL290', 42),\n",
       " ('SNU308__HCC2429', 42),\n",
       " ('OCIM2__NCIH1915', 42),\n",
       " ('SNUC4__HEC1', 42),\n",
       " ('DKMG__DMS53', 42),\n",
       " ('GP5D__COGE352', 42),\n",
       " ('CHLA06ATRT__UMUC9', 42),\n",
       " ('HKA1__EWS502', 42),\n",
       " ('OVK18__HS852T', 42),\n",
       " ('MORCPR__ES2', 42),\n",
       " ('RDES__FU97', 42),\n",
       " ('H413__RDES', 42),\n",
       " ('HMC18__MDAMB453', 42),\n",
       " ('U343__HCC1419', 42),\n",
       " ('C4II__SNU1544', 42),\n",
       " ('SNU685__NCIH2887', 42),\n",
       " ('C32__MDAMB415', 42),\n",
       " ('BICR16__VCAP', 42),\n",
       " ('JHUEM1__HS578T', 43),\n",
       " ('BIN67__WM1799', 43),\n",
       " ('SCCOHT1__ZR751', 43),\n",
       " ('TTC642__PEA1', 43),\n",
       " ('TO14__MCF7', 43),\n",
       " ('NCIH2030__ONDA8', 43),\n",
       " ('OCUM1__MDST8', 43),\n",
       " ('K029AX__SNU761', 43),\n",
       " ('NCIH2887__NCIH2052', 43),\n",
       " ('HCC1419__MDAMB435S', 43),\n",
       " ('LS__TE4', 43),\n",
       " ('JM1__WM793', 43),\n",
       " ('OVMANA__HGC27', 43),\n",
       " ('WM88__COV434', 43),\n",
       " ('MFE319__TC71', 43),\n",
       " ('MEL290__HCC1428', 43),\n",
       " ('JHUEM7__BLUE1', 43),\n",
       " ('GCIY__NCIH1792', 43),\n",
       " ('CHLA266__RMUGS', 43),\n",
       " ('NCIH2122__HMC18', 43),\n",
       " ('HS578T__HMY1', 43),\n",
       " ('COV318__LN464', 43),\n",
       " ('SKNAS__G292CLONEA141B1', 43),\n",
       " ('SNU182__CAMA1', 43),\n",
       " ('TC32__PACADD188', 43),\n",
       " ('SNU308__MEL290', 43),\n",
       " ('OCIM2__HCC2429', 43),\n",
       " ('SNUC4__NCIH1915', 43),\n",
       " ('DKMG__HEC1', 43),\n",
       " ('GP5D__DMS53', 43),\n",
       " ('CHLA06ATRT__COGE352', 43),\n",
       " ('HKA1__UMUC9', 43),\n",
       " ('OVK18__EWS502', 43),\n",
       " ('MORCPR__HS852T', 43),\n",
       " ('RDES__ES2', 43),\n",
       " ('H413__FU97', 43),\n",
       " ('HMC18__RDES', 43),\n",
       " ('U343__MDAMB453', 43),\n",
       " ('C4II__HCC1419', 43),\n",
       " ('SNU685__SNU1544', 43),\n",
       " ('C32__NCIH2887', 43),\n",
       " ('BICR16__MDAMB415', 43),\n",
       " ('CCLFPEDS0001T__VCAP', 43),\n",
       " ('JHUEM1__JHH5', 44),\n",
       " ('BIN67__HS578T', 44),\n",
       " ('SCCOHT1__WM1799', 44),\n",
       " ('TTC642__ZR751', 44),\n",
       " ('TO14__PEA1', 44),\n",
       " ('NCIH2030__MCF7', 44),\n",
       " ('OCUM1__ONDA8', 44),\n",
       " ('K029AX__MDST8', 44),\n",
       " ('NCIH2887__SNU761', 44),\n",
       " ('HCC1419__NCIH2052', 44),\n",
       " ('LS__MDAMB435S', 44),\n",
       " ('JM1__TE4', 44),\n",
       " ('OVMANA__WM793', 44),\n",
       " ('WM88__HGC27', 44),\n",
       " ('MFE319__COV434', 44),\n",
       " ('MEL290__TC71', 44),\n",
       " ('JHUEM7__HCC1428', 44),\n",
       " ('GCIY__BLUE1', 44),\n",
       " ('CHLA266__NCIH1792', 44),\n",
       " ('NCIH2122__RMUGS', 44),\n",
       " ('HS578T__HMC18', 44),\n",
       " ('COV318__HMY1', 44),\n",
       " ('SKNAS__LN464', 44),\n",
       " ('SNU182__G292CLONEA141B1', 44),\n",
       " ('TC32__NCIH3122', 44),\n",
       " ('SNU308__PACADD188', 44),\n",
       " ('OCIM2__MEL290', 44),\n",
       " ('SNUC4__HCC2429', 44),\n",
       " ('DKMG__NCIH1915', 44),\n",
       " ('GP5D__HEC1', 44),\n",
       " ...]"
      ]
     },
     "execution_count": 158,
     "metadata": {},
     "output_type": "execute_result"
    }
   ],
   "source": [
    "dataX = [v for v in sorted(ranked_index.items(), key=lambda item: item[1])]\n",
    "dataX"
   ]
  },
  {
   "cell_type": "code",
   "execution_count": 170,
   "metadata": {},
   "outputs": [],
   "source": [
    "ceL = [ x for x in range(0,200) for x in dataX[x][0].split('__')]"
   ]
  },
  {
   "cell_type": "code",
   "execution_count": 171,
   "metadata": {},
   "outputs": [],
   "source": [
    "ceL = set(ceL)\n",
    "cel = list(ceL)"
   ]
  },
  {
   "cell_type": "code",
   "execution_count": 172,
   "metadata": {},
   "outputs": [
    {
     "data": {
      "text/plain": [
       "36"
      ]
     },
     "execution_count": 172,
     "metadata": {},
     "output_type": "execute_result"
    }
   ],
   "source": [
    "len(ceL)"
   ]
  },
  {
   "cell_type": "code",
   "execution_count": 173,
   "metadata": {
    "collapsed": true,
    "jupyter": {
     "outputs_hidden": true
    }
   },
   "outputs": [
    {
     "data": {
      "text/plain": [
       "{'BIN67',\n",
       " 'CHLA266',\n",
       " 'COGE352',\n",
       " 'DMS53',\n",
       " 'ES2',\n",
       " 'EWS502',\n",
       " 'FU97',\n",
       " 'GCIY',\n",
       " 'HCC1419',\n",
       " 'HCC2429',\n",
       " 'HEC1',\n",
       " 'HS852T',\n",
       " 'JHUEM1',\n",
       " 'JHUEM7',\n",
       " 'JM1',\n",
       " 'K029AX',\n",
       " 'LS',\n",
       " 'MDAMB415',\n",
       " 'MDAMB453',\n",
       " 'MEL290',\n",
       " 'MFE319',\n",
       " 'NCIH1915',\n",
       " 'NCIH2030',\n",
       " 'NCIH2887',\n",
       " 'NCIH3122',\n",
       " 'OCUM1',\n",
       " 'OVMANA',\n",
       " 'PACADD188',\n",
       " 'RDES',\n",
       " 'SCCOHT1',\n",
       " 'SNU1544',\n",
       " 'TO14',\n",
       " 'TTC642',\n",
       " 'UMUC9',\n",
       " 'VCAP',\n",
       " 'WM88'}"
      ]
     },
     "execution_count": 173,
     "metadata": {},
     "output_type": "execute_result"
    }
   ],
   "source": [
    "ceL"
   ]
  },
  {
   "cell_type": "markdown",
   "metadata": {},
   "source": [
    "## Wir haben 21 listen, die abhaengig von identitaet als onkogen oder tumor suppressor gerankt sind. Dann die ranks der 19 paare addieren und wieder ordnen.\n",
    "## von diesen werden dann die ersten 5 bzw 10 percent der daten genommen und subtype/primary disease angeschaut und ein signifikanztest gegen den Rest gemacht. (disease enrichment)"
   ]
  },
  {
   "cell_type": "code",
   "execution_count": 21,
   "metadata": {},
   "outputs": [],
   "source": [
    "UL2 = [i for j in uli_list for i in j]"
   ]
  },
  {
   "cell_type": "code",
   "execution_count": 23,
   "metadata": {},
   "outputs": [],
   "source": [
    "UL2 = set(UL2)\n",
    "UL2 = list(UL2)"
   ]
  },
  {
   "cell_type": "code",
   "execution_count": 24,
   "metadata": {
    "collapsed": true,
    "jupyter": {
     "outputs_hidden": true
    }
   },
   "outputs": [
    {
     "data": {
      "text/plain": [
       "['CDKN2C',\n",
       " 'CCND1',\n",
       " 'PTPN14',\n",
       " 'CDKN2A',\n",
       " 'TAOK1',\n",
       " 'ABL2',\n",
       " 'CRK',\n",
       " 'RB1',\n",
       " 'RAC1',\n",
       " 'CCNE1',\n",
       " 'KIRREL1',\n",
       " 'CDKN2B',\n",
       " 'CDK4',\n",
       " 'AMOTL2',\n",
       " 'CDK6',\n",
       " 'CCND3',\n",
       " 'LATS2',\n",
       " 'NF2',\n",
       " 'PKN2',\n",
       " 'PTEN',\n",
       " 'DLG5']"
      ]
     },
     "execution_count": 24,
     "metadata": {},
     "output_type": "execute_result"
    }
   ],
   "source": [
    "UL2"
   ]
  },
  {
   "cell_type": "code",
   "execution_count": 34,
   "metadata": {},
   "outputs": [
    {
     "data": {
      "text/plain": [
       "21"
      ]
     },
     "execution_count": 34,
     "metadata": {},
     "output_type": "execute_result"
    }
   ],
   "source": [
    "len(UL2)"
   ]
  },
  {
   "cell_type": "code",
   "execution_count": 140,
   "metadata": {},
   "outputs": [
    {
     "data": {
      "text/plain": [
       "HEL        0.190767\n",
       "HEL9217    0.397777\n",
       "LS513      0.372843\n",
       "C2BBE1     0.335139\n",
       "253J       0.356310\n",
       "             ...   \n",
       "UACC62     0.200888\n",
       "SKMEL19    0.279839\n",
       "MEL285     0.333039\n",
       "MEL290     0.447823\n",
       "UCH2       0.254548\n",
       "Name: CDKN2C, Length: 769, dtype: float64"
      ]
     },
     "execution_count": 140,
     "metadata": {},
     "output_type": "execute_result"
    }
   ],
   "source": [
    "effect['CDKN2C']"
   ]
  },
  {
   "cell_type": "code",
   "execution_count": null,
   "metadata": {},
   "outputs": [],
   "source": []
  },
  {
   "cell_type": "code",
   "execution_count": 67,
   "metadata": {},
   "outputs": [
    {
     "data": {
      "text/plain": [
       "[['CDK4', 'RB1'],\n",
       " ['CDK4', 'CDKN2C'],\n",
       " ['CDK4', 'CCND1'],\n",
       " ['CDK6', 'CCND3'],\n",
       " ['CDK6', 'CCNE1'],\n",
       " ['CDK6', 'CDK4'],\n",
       " ['CDKN2A', 'CDKN2B'],\n",
       " ['CDKN2A', 'CCNE1'],\n",
       " ['NF2', 'AMOTL2'],\n",
       " ['NF2', 'KIRREL1'],\n",
       " ['NF2', 'TAOK1'],\n",
       " ['NF2', 'LATS2'],\n",
       " ['NF2', 'PTPN14'],\n",
       " ['NF2', 'PTEN'],\n",
       " ['NF2', 'ABL2'],\n",
       " ['NF2', 'RAC1'],\n",
       " ['NF2', 'CRK'],\n",
       " ['NF2', 'DLG5'],\n",
       " ['NF2', 'PKN2']]"
      ]
     },
     "execution_count": 67,
     "metadata": {},
     "output_type": "execute_result"
    }
   ],
   "source": [
    "uli_list"
   ]
  },
  {
   "cell_type": "code",
   "execution_count": 10,
   "metadata": {},
   "outputs": [],
   "source": [
    "effect = pretty_gene_names(effect)"
   ]
  },
  {
   "cell_type": "code",
   "execution_count": 122,
   "metadata": {},
   "outputs": [
    {
     "data": {
      "text/html": [
       "<div>\n",
       "<style scoped>\n",
       "    .dataframe tbody tr th:only-of-type {\n",
       "        vertical-align: middle;\n",
       "    }\n",
       "\n",
       "    .dataframe tbody tr th {\n",
       "        vertical-align: top;\n",
       "    }\n",
       "\n",
       "    .dataframe thead th {\n",
       "        text-align: right;\n",
       "    }\n",
       "</style>\n",
       "<table border=\"1\" class=\"dataframe\">\n",
       "  <thead>\n",
       "    <tr style=\"text-align: right;\">\n",
       "      <th></th>\n",
       "      <th>A1BG</th>\n",
       "      <th>A1CF</th>\n",
       "      <th>A2M</th>\n",
       "      <th>A2ML1</th>\n",
       "      <th>A3GALT2</th>\n",
       "      <th>A4GALT</th>\n",
       "      <th>A4GNT</th>\n",
       "      <th>AAAS</th>\n",
       "      <th>AACS</th>\n",
       "      <th>AADAC</th>\n",
       "      <th>...</th>\n",
       "      <th>ZWILCH</th>\n",
       "      <th>ZWINT</th>\n",
       "      <th>ZXDA</th>\n",
       "      <th>ZXDB</th>\n",
       "      <th>ZXDC</th>\n",
       "      <th>ZYG11A</th>\n",
       "      <th>ZYG11B</th>\n",
       "      <th>ZYX</th>\n",
       "      <th>ZZEF1</th>\n",
       "      <th>ZZZ3</th>\n",
       "    </tr>\n",
       "    <tr>\n",
       "      <th>INDEX</th>\n",
       "      <th></th>\n",
       "      <th></th>\n",
       "      <th></th>\n",
       "      <th></th>\n",
       "      <th></th>\n",
       "      <th></th>\n",
       "      <th></th>\n",
       "      <th></th>\n",
       "      <th></th>\n",
       "      <th></th>\n",
       "      <th></th>\n",
       "      <th></th>\n",
       "      <th></th>\n",
       "      <th></th>\n",
       "      <th></th>\n",
       "      <th></th>\n",
       "      <th></th>\n",
       "      <th></th>\n",
       "      <th></th>\n",
       "      <th></th>\n",
       "      <th></th>\n",
       "    </tr>\n",
       "  </thead>\n",
       "  <tbody>\n",
       "    <tr>\n",
       "      <th>HEL</th>\n",
       "      <td>0.001077</td>\n",
       "      <td>0.004165</td>\n",
       "      <td>0.099131</td>\n",
       "      <td>0.016074</td>\n",
       "      <td>0.007706</td>\n",
       "      <td>0.094475</td>\n",
       "      <td>0.000051</td>\n",
       "      <td>0.424023</td>\n",
       "      <td>0.000171</td>\n",
       "      <td>0.001297</td>\n",
       "      <td>...</td>\n",
       "      <td>0.051060</td>\n",
       "      <td>0.464158</td>\n",
       "      <td>NaN</td>\n",
       "      <td>NaN</td>\n",
       "      <td>0.000318</td>\n",
       "      <td>0.000413</td>\n",
       "      <td>0.370098</td>\n",
       "      <td>0.000170</td>\n",
       "      <td>0.000534</td>\n",
       "      <td>0.056513</td>\n",
       "    </tr>\n",
       "    <tr>\n",
       "      <th>HEL9217</th>\n",
       "      <td>0.031810</td>\n",
       "      <td>0.000941</td>\n",
       "      <td>0.001757</td>\n",
       "      <td>0.002469</td>\n",
       "      <td>0.072883</td>\n",
       "      <td>0.192318</td>\n",
       "      <td>0.000846</td>\n",
       "      <td>0.546544</td>\n",
       "      <td>0.025630</td>\n",
       "      <td>0.012892</td>\n",
       "      <td>...</td>\n",
       "      <td>0.077770</td>\n",
       "      <td>0.287207</td>\n",
       "      <td>0.057451</td>\n",
       "      <td>0.025590</td>\n",
       "      <td>0.001161</td>\n",
       "      <td>0.028018</td>\n",
       "      <td>0.035445</td>\n",
       "      <td>0.006416</td>\n",
       "      <td>0.010517</td>\n",
       "      <td>0.112534</td>\n",
       "    </tr>\n",
       "    <tr>\n",
       "      <th>LS513</th>\n",
       "      <td>0.003363</td>\n",
       "      <td>0.003201</td>\n",
       "      <td>0.016799</td>\n",
       "      <td>0.001036</td>\n",
       "      <td>0.002243</td>\n",
       "      <td>0.001306</td>\n",
       "      <td>0.003541</td>\n",
       "      <td>0.428076</td>\n",
       "      <td>0.008735</td>\n",
       "      <td>0.000117</td>\n",
       "      <td>...</td>\n",
       "      <td>0.023888</td>\n",
       "      <td>0.130296</td>\n",
       "      <td>0.014906</td>\n",
       "      <td>0.001781</td>\n",
       "      <td>0.000450</td>\n",
       "      <td>0.009249</td>\n",
       "      <td>0.220940</td>\n",
       "      <td>0.002789</td>\n",
       "      <td>0.283513</td>\n",
       "      <td>0.365755</td>\n",
       "    </tr>\n",
       "    <tr>\n",
       "      <th>C2BBE1</th>\n",
       "      <td>0.001196</td>\n",
       "      <td>0.007132</td>\n",
       "      <td>0.012727</td>\n",
       "      <td>0.002898</td>\n",
       "      <td>0.001965</td>\n",
       "      <td>0.011081</td>\n",
       "      <td>0.001871</td>\n",
       "      <td>0.690472</td>\n",
       "      <td>0.000536</td>\n",
       "      <td>0.002343</td>\n",
       "      <td>...</td>\n",
       "      <td>0.143244</td>\n",
       "      <td>0.093337</td>\n",
       "      <td>0.025420</td>\n",
       "      <td>0.003602</td>\n",
       "      <td>0.001899</td>\n",
       "      <td>0.004724</td>\n",
       "      <td>0.627729</td>\n",
       "      <td>0.000274</td>\n",
       "      <td>0.024166</td>\n",
       "      <td>0.546863</td>\n",
       "    </tr>\n",
       "    <tr>\n",
       "      <th>253J</th>\n",
       "      <td>0.000248</td>\n",
       "      <td>0.003682</td>\n",
       "      <td>0.008251</td>\n",
       "      <td>0.000017</td>\n",
       "      <td>0.015479</td>\n",
       "      <td>0.111049</td>\n",
       "      <td>0.002690</td>\n",
       "      <td>0.330648</td>\n",
       "      <td>0.001618</td>\n",
       "      <td>0.002468</td>\n",
       "      <td>...</td>\n",
       "      <td>0.310653</td>\n",
       "      <td>0.471901</td>\n",
       "      <td>0.043951</td>\n",
       "      <td>0.036127</td>\n",
       "      <td>0.000220</td>\n",
       "      <td>0.001327</td>\n",
       "      <td>0.109074</td>\n",
       "      <td>0.002030</td>\n",
       "      <td>0.118438</td>\n",
       "      <td>0.271464</td>\n",
       "    </tr>\n",
       "  </tbody>\n",
       "</table>\n",
       "<p>5 rows × 18119 columns</p>\n",
       "</div>"
      ],
      "text/plain": [
       "             A1BG      A1CF       A2M     A2ML1   A3GALT2    A4GALT     A4GNT  \\\n",
       "INDEX                                                                           \n",
       "HEL      0.001077  0.004165  0.099131  0.016074  0.007706  0.094475  0.000051   \n",
       "HEL9217  0.031810  0.000941  0.001757  0.002469  0.072883  0.192318  0.000846   \n",
       "LS513    0.003363  0.003201  0.016799  0.001036  0.002243  0.001306  0.003541   \n",
       "C2BBE1   0.001196  0.007132  0.012727  0.002898  0.001965  0.011081  0.001871   \n",
       "253J     0.000248  0.003682  0.008251  0.000017  0.015479  0.111049  0.002690   \n",
       "\n",
       "             AAAS      AACS     AADAC  ...    ZWILCH     ZWINT      ZXDA  \\\n",
       "INDEX                                  ...                                 \n",
       "HEL      0.424023  0.000171  0.001297  ...  0.051060  0.464158       NaN   \n",
       "HEL9217  0.546544  0.025630  0.012892  ...  0.077770  0.287207  0.057451   \n",
       "LS513    0.428076  0.008735  0.000117  ...  0.023888  0.130296  0.014906   \n",
       "C2BBE1   0.690472  0.000536  0.002343  ...  0.143244  0.093337  0.025420   \n",
       "253J     0.330648  0.001618  0.002468  ...  0.310653  0.471901  0.043951   \n",
       "\n",
       "             ZXDB      ZXDC    ZYG11A    ZYG11B       ZYX     ZZEF1      ZZZ3  \n",
       "INDEX                                                                          \n",
       "HEL           NaN  0.000318  0.000413  0.370098  0.000170  0.000534  0.056513  \n",
       "HEL9217  0.025590  0.001161  0.028018  0.035445  0.006416  0.010517  0.112534  \n",
       "LS513    0.001781  0.000450  0.009249  0.220940  0.002789  0.283513  0.365755  \n",
       "C2BBE1   0.003602  0.001899  0.004724  0.627729  0.000274  0.024166  0.546863  \n",
       "253J     0.036127  0.000220  0.001327  0.109074  0.002030  0.118438  0.271464  \n",
       "\n",
       "[5 rows x 18119 columns]"
      ]
     },
     "execution_count": 122,
     "metadata": {},
     "output_type": "execute_result"
    }
   ],
   "source": [
    "dep.head()"
   ]
  },
  {
   "cell_type": "code",
   "execution_count": 29,
   "metadata": {
    "collapsed": true,
    "jupyter": {
     "outputs_hidden": true
    }
   },
   "outputs": [
    {
     "data": {
      "text/html": [
       "<div>\n",
       "<style scoped>\n",
       "    .dataframe tbody tr th:only-of-type {\n",
       "        vertical-align: middle;\n",
       "    }\n",
       "\n",
       "    .dataframe tbody tr th {\n",
       "        vertical-align: top;\n",
       "    }\n",
       "\n",
       "    .dataframe thead th {\n",
       "        text-align: right;\n",
       "    }\n",
       "</style>\n",
       "<table border=\"1\" class=\"dataframe\">\n",
       "  <thead>\n",
       "    <tr style=\"text-align: right;\">\n",
       "      <th></th>\n",
       "      <th>DepMap_ID</th>\n",
       "      <th>stripped_cell_line_name</th>\n",
       "      <th>CCLE_Name</th>\n",
       "      <th>Alias</th>\n",
       "      <th>COSMICID</th>\n",
       "      <th>sex</th>\n",
       "      <th>source</th>\n",
       "      <th>Achilles_n_replicates</th>\n",
       "      <th>cell_line_NNMD</th>\n",
       "      <th>culture_type</th>\n",
       "      <th>...</th>\n",
       "      <th>primary_or_metastasis</th>\n",
       "      <th>primary_disease</th>\n",
       "      <th>Subtype</th>\n",
       "      <th>age</th>\n",
       "      <th>Sanger_Model_ID</th>\n",
       "      <th>depmap_public_comments</th>\n",
       "      <th>lineage</th>\n",
       "      <th>lineage_subtype</th>\n",
       "      <th>lineage_sub_subtype</th>\n",
       "      <th>lineage_molecular_subtype</th>\n",
       "    </tr>\n",
       "  </thead>\n",
       "  <tbody>\n",
       "    <tr>\n",
       "      <th>0</th>\n",
       "      <td>ACH-000001</td>\n",
       "      <td>NIHOVCAR3</td>\n",
       "      <td>NIHOVCAR3_OVARY</td>\n",
       "      <td>OVCAR3</td>\n",
       "      <td>905933.0</td>\n",
       "      <td>Female</td>\n",
       "      <td>ATCC</td>\n",
       "      <td>NaN</td>\n",
       "      <td>NaN</td>\n",
       "      <td>NaN</td>\n",
       "      <td>...</td>\n",
       "      <td>Metastasis</td>\n",
       "      <td>Ovarian Cancer</td>\n",
       "      <td>Adenocarcinoma, high grade serous</td>\n",
       "      <td>60.0</td>\n",
       "      <td>SIDM00105</td>\n",
       "      <td>NaN</td>\n",
       "      <td>ovary</td>\n",
       "      <td>ovary_adenocarcinoma</td>\n",
       "      <td>high_grade_serous</td>\n",
       "      <td>NaN</td>\n",
       "    </tr>\n",
       "    <tr>\n",
       "      <th>1</th>\n",
       "      <td>ACH-000002</td>\n",
       "      <td>HL60</td>\n",
       "      <td>HL60_HAEMATOPOIETIC_AND_LYMPHOID_TISSUE</td>\n",
       "      <td>NaN</td>\n",
       "      <td>905938.0</td>\n",
       "      <td>Female</td>\n",
       "      <td>ATCC</td>\n",
       "      <td>NaN</td>\n",
       "      <td>NaN</td>\n",
       "      <td>NaN</td>\n",
       "      <td>...</td>\n",
       "      <td>Primary</td>\n",
       "      <td>Leukemia</td>\n",
       "      <td>Acute Myelogenous Leukemia (AML), M3 (Promyelo...</td>\n",
       "      <td>35.0</td>\n",
       "      <td>SIDM00829</td>\n",
       "      <td>NaN</td>\n",
       "      <td>blood</td>\n",
       "      <td>AML</td>\n",
       "      <td>M3</td>\n",
       "      <td>NaN</td>\n",
       "    </tr>\n",
       "    <tr>\n",
       "      <th>2</th>\n",
       "      <td>ACH-000003</td>\n",
       "      <td>CACO2</td>\n",
       "      <td>CACO2_LARGE_INTESTINE</td>\n",
       "      <td>CACO2, CaCo-2</td>\n",
       "      <td>NaN</td>\n",
       "      <td>Male</td>\n",
       "      <td>ATCC</td>\n",
       "      <td>NaN</td>\n",
       "      <td>NaN</td>\n",
       "      <td>NaN</td>\n",
       "      <td>...</td>\n",
       "      <td>NaN</td>\n",
       "      <td>Colon/Colorectal Cancer</td>\n",
       "      <td>Adenocarcinoma</td>\n",
       "      <td>NaN</td>\n",
       "      <td>SIDM00891</td>\n",
       "      <td>NaN</td>\n",
       "      <td>colorectal</td>\n",
       "      <td>colorectal_adenocarcinoma</td>\n",
       "      <td>NaN</td>\n",
       "      <td>NaN</td>\n",
       "    </tr>\n",
       "    <tr>\n",
       "      <th>3</th>\n",
       "      <td>ACH-000004</td>\n",
       "      <td>HEL</td>\n",
       "      <td>HEL_HAEMATOPOIETIC_AND_LYMPHOID_TISSUE</td>\n",
       "      <td>NaN</td>\n",
       "      <td>907053.0</td>\n",
       "      <td>Male</td>\n",
       "      <td>DSMZ</td>\n",
       "      <td>2.0</td>\n",
       "      <td>-3.079202</td>\n",
       "      <td>Suspension</td>\n",
       "      <td>...</td>\n",
       "      <td>NaN</td>\n",
       "      <td>Leukemia</td>\n",
       "      <td>Acute Myelogenous Leukemia (AML), M6 (Erythrol...</td>\n",
       "      <td>30.0</td>\n",
       "      <td>SIDM00594</td>\n",
       "      <td>NaN</td>\n",
       "      <td>blood</td>\n",
       "      <td>AML</td>\n",
       "      <td>M6</td>\n",
       "      <td>NaN</td>\n",
       "    </tr>\n",
       "    <tr>\n",
       "      <th>4</th>\n",
       "      <td>ACH-000005</td>\n",
       "      <td>HEL9217</td>\n",
       "      <td>HEL9217_HAEMATOPOIETIC_AND_LYMPHOID_TISSUE</td>\n",
       "      <td>NaN</td>\n",
       "      <td>NaN</td>\n",
       "      <td>Male</td>\n",
       "      <td>ATCC</td>\n",
       "      <td>2.0</td>\n",
       "      <td>-2.404409</td>\n",
       "      <td>Mixed adherent and suspension</td>\n",
       "      <td>...</td>\n",
       "      <td>NaN</td>\n",
       "      <td>Leukemia</td>\n",
       "      <td>Acute Myelogenous Leukemia (AML), M6 (Erythrol...</td>\n",
       "      <td>30.0</td>\n",
       "      <td>SIDM00593</td>\n",
       "      <td>NaN</td>\n",
       "      <td>blood</td>\n",
       "      <td>AML</td>\n",
       "      <td>M6</td>\n",
       "      <td>NaN</td>\n",
       "    </tr>\n",
       "  </tbody>\n",
       "</table>\n",
       "<p>5 rows × 24 columns</p>\n",
       "</div>"
      ],
      "text/plain": [
       "    DepMap_ID stripped_cell_line_name  \\\n",
       "0  ACH-000001               NIHOVCAR3   \n",
       "1  ACH-000002                    HL60   \n",
       "2  ACH-000003                   CACO2   \n",
       "3  ACH-000004                     HEL   \n",
       "4  ACH-000005                 HEL9217   \n",
       "\n",
       "                                    CCLE_Name          Alias  COSMICID  \\\n",
       "0                             NIHOVCAR3_OVARY         OVCAR3  905933.0   \n",
       "1     HL60_HAEMATOPOIETIC_AND_LYMPHOID_TISSUE            NaN  905938.0   \n",
       "2                       CACO2_LARGE_INTESTINE  CACO2, CaCo-2       NaN   \n",
       "3      HEL_HAEMATOPOIETIC_AND_LYMPHOID_TISSUE            NaN  907053.0   \n",
       "4  HEL9217_HAEMATOPOIETIC_AND_LYMPHOID_TISSUE            NaN       NaN   \n",
       "\n",
       "      sex source  Achilles_n_replicates  cell_line_NNMD  \\\n",
       "0  Female   ATCC                    NaN             NaN   \n",
       "1  Female   ATCC                    NaN             NaN   \n",
       "2    Male   ATCC                    NaN             NaN   \n",
       "3    Male   DSMZ                    2.0       -3.079202   \n",
       "4    Male   ATCC                    2.0       -2.404409   \n",
       "\n",
       "                    culture_type  ... primary_or_metastasis  \\\n",
       "0                            NaN  ...            Metastasis   \n",
       "1                            NaN  ...               Primary   \n",
       "2                            NaN  ...                   NaN   \n",
       "3                     Suspension  ...                   NaN   \n",
       "4  Mixed adherent and suspension  ...                   NaN   \n",
       "\n",
       "           primary_disease                                            Subtype  \\\n",
       "0           Ovarian Cancer                  Adenocarcinoma, high grade serous   \n",
       "1                 Leukemia  Acute Myelogenous Leukemia (AML), M3 (Promyelo...   \n",
       "2  Colon/Colorectal Cancer                                     Adenocarcinoma   \n",
       "3                 Leukemia  Acute Myelogenous Leukemia (AML), M6 (Erythrol...   \n",
       "4                 Leukemia  Acute Myelogenous Leukemia (AML), M6 (Erythrol...   \n",
       "\n",
       "    age Sanger_Model_ID depmap_public_comments     lineage  \\\n",
       "0  60.0       SIDM00105                    NaN       ovary   \n",
       "1  35.0       SIDM00829                    NaN       blood   \n",
       "2   NaN       SIDM00891                    NaN  colorectal   \n",
       "3  30.0       SIDM00594                    NaN       blood   \n",
       "4  30.0       SIDM00593                    NaN       blood   \n",
       "\n",
       "             lineage_subtype lineage_sub_subtype lineage_molecular_subtype  \n",
       "0       ovary_adenocarcinoma   high_grade_serous                       NaN  \n",
       "1                        AML                  M3                       NaN  \n",
       "2  colorectal_adenocarcinoma                 NaN                       NaN  \n",
       "3                        AML                  M6                       NaN  \n",
       "4                        AML                  M6                       NaN  \n",
       "\n",
       "[5 rows x 24 columns]"
      ]
     },
     "execution_count": 29,
     "metadata": {},
     "output_type": "execute_result"
    }
   ],
   "source": [
    "data.head()"
   ]
  },
  {
   "cell_type": "markdown",
   "metadata": {},
   "source": [
    "CDK4\tRB1\t-0.270088658037034\tAB\n",
    "CDK4\tCDKN2C\t-0.332894420570415\tAB\n",
    "CDK4\tCCND1\t0.383743671693837\tBA\n",
    "CDK6\tCCND3\t0.429610217617713\tBA\n",
    "CDK6\tCCNE1\t-0.291627386055655\tBA\n",
    "CDK6\tCDK4\t-0.166138251188281\tBA\n",
    "CDKN2A\tCDKN2B\t0.252271039837043\tAB\n",
    "CDKN2A\tCCNE1\t-0.164517699579397\tBA\n",
    "\n",
    "--------------------------------\n",
    "\n",
    "NF2\tAMOTL2\t0.604088180582646\tBA\n",
    "NF2\tKIRREL1\t0.557319887509312\tBA\n",
    "NF2\tTAOK1\t0.537086753404031\tAB\n",
    "NF2\tLATS2\t0.522628225045063\tBA\n",
    "NF2\tPTPN14\t0.426594811534134\tAB\n",
    "NF2\tPTEN\t0.280261686290702\tAB\n",
    "NF2\tABL2\t0.251003837455685\tBA\n",
    "NF2\tRAC1\t-0.345269416089392\tAB    == in string\n",
    "NF2\tCRK\t-0.404878434040191\tBA        \n",
    "NF2\tDLG5\t-0.405139954747337\tBA\n",
    "NF2\tPKN2\t-0.445751736055664\tAB"
   ]
  },
  {
   "cell_type": "code",
   "execution_count": 45,
   "metadata": {},
   "outputs": [
    {
     "name": "stdout",
     "output_type": "stream",
     "text": [
      "765\n",
      "1781\n",
      "765\n"
     ]
    }
   ],
   "source": [
    "effect = pd.read_csv(\"/home/annerer/Dokumente/DepMap_Mining/Achilles_gene_effect.csv\")\n",
    "data = pd.read_csv(\"/home/annerer/Dokumente/DepMap_Mining/sample_info.csv\")\n",
    "\n",
    "mapping = {}\n",
    "\n",
    "for i in np.arange(0,data.shape[0],1):\n",
    "    mapping[data.DepMap_ID[i]] = data.CCLE_Name[i]\n",
    "\n",
    "effect[\"INDEX\"] = effect.DepMap_ID\n",
    "effect = effect.set_index('INDEX')\n",
    "effect = effect.rename(index=mapping)\n",
    "effect = effect.drop(\"DepMap_ID\",1)\n",
    "\n",
    "gene = effect.columns.to_list()\n",
    "# split at space\n",
    "for i in range(len(gene)):\n",
    "    gene[i] = gene[i].split(\" \") \n",
    "\n",
    "genes = []\n",
    "for i in range(len(gene)):\n",
    "    genes.append(gene[i][0])\n",
    "                 \n",
    "effect.columns = genes\n",
    "\n",
    "\n",
    "cellLine = effect.index.to_list()\n",
    "# split at space\n",
    "for i in range(len(cellLine)):\n",
    "    cellLine[i] = cellLine[i].split(\"_\") \n",
    "\n",
    "cellLines = []\n",
    "for i in range(len(cellLine)):\n",
    "    cellLines.append(cellLine[i][0])\n",
    "    \n",
    "effect.index = cellLines\n",
    "\n",
    "cellLine = data['CCLE_Name'].to_list()\n",
    "# split at space\n",
    "for i in range(len(cellLine)):\n",
    "    cellLine[i] = cellLine[i].split(\"_\") \n",
    "\n",
    "cellLines1 = []\n",
    "for i in range(len(cellLine)):\n",
    "    cellLines1.append(cellLine[i][0])\n",
    "    \n",
    "data['CCLE_Name'] = cellLines1\n",
    "\n",
    "\n",
    "a = set(cellLines)\n",
    "b = set(data[\"CCLE_Name\"])\n",
    "c = set.intersection(a,b)\n",
    "\n",
    "print(len(a))\n",
    "print(len(b))\n",
    "print(len(c))\n",
    "\n",
    "cellL = c\n",
    "allGenes = effect[effect.columns.intersection(cellL)]"
   ]
  },
  {
   "cell_type": "markdown",
   "metadata": {},
   "source": [
    "## allGenes"
   ]
  },
  {
   "cell_type": "code",
   "execution_count": null,
   "metadata": {},
   "outputs": [],
   "source": [
    "# define allgenes as an intersection of the cell Lines that are annotated by Ryan and the ones in DepMap.\n",
    "effect = effect.transpose()\n",
    "allGenes = effect[effect.columns.intersection(cellL)]\n",
    "allGenes = allGenes.transpose()"
   ]
  },
  {
   "cell_type": "code",
   "execution_count": 52,
   "metadata": {},
   "outputs": [
    {
     "data": {
      "text/html": [
       "<div>\n",
       "<style scoped>\n",
       "    .dataframe tbody tr th:only-of-type {\n",
       "        vertical-align: middle;\n",
       "    }\n",
       "\n",
       "    .dataframe tbody tr th {\n",
       "        vertical-align: top;\n",
       "    }\n",
       "\n",
       "    .dataframe thead th {\n",
       "        text-align: right;\n",
       "    }\n",
       "</style>\n",
       "<table border=\"1\" class=\"dataframe\">\n",
       "  <thead>\n",
       "    <tr style=\"text-align: right;\">\n",
       "      <th></th>\n",
       "      <th>A1BG</th>\n",
       "      <th>A1CF</th>\n",
       "      <th>A2M</th>\n",
       "      <th>A2ML1</th>\n",
       "      <th>A3GALT2</th>\n",
       "      <th>A4GALT</th>\n",
       "      <th>A4GNT</th>\n",
       "      <th>AAAS</th>\n",
       "      <th>AACS</th>\n",
       "      <th>AADAC</th>\n",
       "      <th>...</th>\n",
       "      <th>ZWILCH</th>\n",
       "      <th>ZWINT</th>\n",
       "      <th>ZXDA</th>\n",
       "      <th>ZXDB</th>\n",
       "      <th>ZXDC</th>\n",
       "      <th>ZYG11A</th>\n",
       "      <th>ZYG11B</th>\n",
       "      <th>ZYX</th>\n",
       "      <th>ZZEF1</th>\n",
       "      <th>ZZZ3</th>\n",
       "    </tr>\n",
       "  </thead>\n",
       "  <tbody>\n",
       "    <tr>\n",
       "      <th>HEL</th>\n",
       "      <td>0.178087</td>\n",
       "      <td>0.088290</td>\n",
       "      <td>-0.201464</td>\n",
       "      <td>-0.017011</td>\n",
       "      <td>0.042590</td>\n",
       "      <td>-0.192257</td>\n",
       "      <td>0.352891</td>\n",
       "      <td>-0.445209</td>\n",
       "      <td>0.292603</td>\n",
       "      <td>0.165168</td>\n",
       "      <td>...</td>\n",
       "      <td>-0.122795</td>\n",
       "      <td>-0.464567</td>\n",
       "      <td>NaN</td>\n",
       "      <td>NaN</td>\n",
       "      <td>0.258084</td>\n",
       "      <td>0.237593</td>\n",
       "      <td>-0.408563</td>\n",
       "      <td>0.291832</td>\n",
       "      <td>0.218575</td>\n",
       "      <td>-0.139759</td>\n",
       "    </tr>\n",
       "    <tr>\n",
       "      <th>HEL9217</th>\n",
       "      <td>-0.082364</td>\n",
       "      <td>0.239413</td>\n",
       "      <td>0.195457</td>\n",
       "      <td>0.163763</td>\n",
       "      <td>-0.188161</td>\n",
       "      <td>-0.338735</td>\n",
       "      <td>0.254489</td>\n",
       "      <td>-0.583878</td>\n",
       "      <td>-0.060615</td>\n",
       "      <td>0.015272</td>\n",
       "      <td>...</td>\n",
       "      <td>-0.195061</td>\n",
       "      <td>-0.408063</td>\n",
       "      <td>-0.155155</td>\n",
       "      <td>-0.067415</td>\n",
       "      <td>0.229242</td>\n",
       "      <td>-0.075883</td>\n",
       "      <td>-0.104001</td>\n",
       "      <td>0.075901</td>\n",
       "      <td>0.036985</td>\n",
       "      <td>-0.243303</td>\n",
       "    </tr>\n",
       "    <tr>\n",
       "      <th>LS513</th>\n",
       "      <td>0.070026</td>\n",
       "      <td>0.075066</td>\n",
       "      <td>-0.064637</td>\n",
       "      <td>0.156905</td>\n",
       "      <td>0.099075</td>\n",
       "      <td>0.141985</td>\n",
       "      <td>0.066314</td>\n",
       "      <td>-0.477023</td>\n",
       "      <td>-0.006855</td>\n",
       "      <td>0.291604</td>\n",
       "      <td>...</td>\n",
       "      <td>-0.093252</td>\n",
       "      <td>-0.276874</td>\n",
       "      <td>-0.049716</td>\n",
       "      <td>0.116683</td>\n",
       "      <td>0.211699</td>\n",
       "      <td>-0.012654</td>\n",
       "      <td>-0.351716</td>\n",
       "      <td>0.089140</td>\n",
       "      <td>-0.392549</td>\n",
       "      <td>-0.442624</td>\n",
       "    </tr>\n",
       "    <tr>\n",
       "      <th>C2BBE1</th>\n",
       "      <td>0.107048</td>\n",
       "      <td>-0.006352</td>\n",
       "      <td>-0.053166</td>\n",
       "      <td>0.053055</td>\n",
       "      <td>0.081620</td>\n",
       "      <td>-0.038305</td>\n",
       "      <td>0.082421</td>\n",
       "      <td>-0.642935</td>\n",
       "      <td>0.159178</td>\n",
       "      <td>0.064128</td>\n",
       "      <td>...</td>\n",
       "      <td>-0.280677</td>\n",
       "      <td>-0.230111</td>\n",
       "      <td>-0.106000</td>\n",
       "      <td>0.041611</td>\n",
       "      <td>0.083021</td>\n",
       "      <td>0.022771</td>\n",
       "      <td>-0.596777</td>\n",
       "      <td>0.197627</td>\n",
       "      <td>-0.106398</td>\n",
       "      <td>-0.549259</td>\n",
       "    </tr>\n",
       "    <tr>\n",
       "      <th>253J</th>\n",
       "      <td>0.280508</td>\n",
       "      <td>0.079860</td>\n",
       "      <td>0.016981</td>\n",
       "      <td>0.439139</td>\n",
       "      <td>-0.042239</td>\n",
       "      <td>-0.242560</td>\n",
       "      <td>0.103028</td>\n",
       "      <td>-0.419159</td>\n",
       "      <td>0.141445</td>\n",
       "      <td>0.115857</td>\n",
       "      <td>...</td>\n",
       "      <td>-0.410500</td>\n",
       "      <td>-0.507467</td>\n",
       "      <td>-0.138665</td>\n",
       "      <td>-0.119292</td>\n",
       "      <td>0.284407</td>\n",
       "      <td>0.158124</td>\n",
       "      <td>-0.240429</td>\n",
       "      <td>0.124847</td>\n",
       "      <td>-0.250949</td>\n",
       "      <td>-0.379117</td>\n",
       "    </tr>\n",
       "  </tbody>\n",
       "</table>\n",
       "<p>5 rows × 18119 columns</p>\n",
       "</div>"
      ],
      "text/plain": [
       "             A1BG      A1CF       A2M     A2ML1   A3GALT2    A4GALT     A4GNT  \\\n",
       "HEL      0.178087  0.088290 -0.201464 -0.017011  0.042590 -0.192257  0.352891   \n",
       "HEL9217 -0.082364  0.239413  0.195457  0.163763 -0.188161 -0.338735  0.254489   \n",
       "LS513    0.070026  0.075066 -0.064637  0.156905  0.099075  0.141985  0.066314   \n",
       "C2BBE1   0.107048 -0.006352 -0.053166  0.053055  0.081620 -0.038305  0.082421   \n",
       "253J     0.280508  0.079860  0.016981  0.439139 -0.042239 -0.242560  0.103028   \n",
       "\n",
       "             AAAS      AACS     AADAC  ...    ZWILCH     ZWINT      ZXDA  \\\n",
       "HEL     -0.445209  0.292603  0.165168  ... -0.122795 -0.464567       NaN   \n",
       "HEL9217 -0.583878 -0.060615  0.015272  ... -0.195061 -0.408063 -0.155155   \n",
       "LS513   -0.477023 -0.006855  0.291604  ... -0.093252 -0.276874 -0.049716   \n",
       "C2BBE1  -0.642935  0.159178  0.064128  ... -0.280677 -0.230111 -0.106000   \n",
       "253J    -0.419159  0.141445  0.115857  ... -0.410500 -0.507467 -0.138665   \n",
       "\n",
       "             ZXDB      ZXDC    ZYG11A    ZYG11B       ZYX     ZZEF1      ZZZ3  \n",
       "HEL           NaN  0.258084  0.237593 -0.408563  0.291832  0.218575 -0.139759  \n",
       "HEL9217 -0.067415  0.229242 -0.075883 -0.104001  0.075901  0.036985 -0.243303  \n",
       "LS513    0.116683  0.211699 -0.012654 -0.351716  0.089140 -0.392549 -0.442624  \n",
       "C2BBE1   0.041611  0.083021  0.022771 -0.596777  0.197627 -0.106398 -0.549259  \n",
       "253J    -0.119292  0.284407  0.158124 -0.240429  0.124847 -0.250949 -0.379117  \n",
       "\n",
       "[5 rows x 18119 columns]"
      ]
     },
     "execution_count": 52,
     "metadata": {},
     "output_type": "execute_result"
    }
   ],
   "source": [
    "allGenes.head()"
   ]
  },
  {
   "cell_type": "code",
   "execution_count": 41,
   "metadata": {},
   "outputs": [],
   "source": [
    "data = pd.read_csv(\"/home/annerer/Downloads/elife-58925-supp1-v3.csv\")\n",
    "\n",
    "temp1 = data['CCLE_NAME'].to_list()\n",
    "# split at space\n",
    "for i in range(len(temp1)):\n",
    "    temp1[i] = temp1[i].split(\"_\") \n",
    "\n",
    "temp2 = []\n",
    "for i in range(len(temp1)):\n",
    "    temp2.append(temp1[i][0])"
   ]
  },
  {
   "cell_type": "code",
   "execution_count": 18,
   "metadata": {},
   "outputs": [],
   "source": [
    "allGenes = effect[effect.columns.intersection(cellL)]"
   ]
  },
  {
   "cell_type": "code",
   "execution_count": 93,
   "metadata": {},
   "outputs": [
    {
     "data": {
      "text/html": [
       "<div>\n",
       "<style scoped>\n",
       "    .dataframe tbody tr th:only-of-type {\n",
       "        vertical-align: middle;\n",
       "    }\n",
       "\n",
       "    .dataframe tbody tr th {\n",
       "        vertical-align: top;\n",
       "    }\n",
       "\n",
       "    .dataframe thead th {\n",
       "        text-align: right;\n",
       "    }\n",
       "</style>\n",
       "<table border=\"1\" class=\"dataframe\">\n",
       "  <thead>\n",
       "    <tr style=\"text-align: right;\">\n",
       "      <th></th>\n",
       "      <th>A1BG</th>\n",
       "      <th>A1CF</th>\n",
       "      <th>A2M</th>\n",
       "      <th>A2ML1</th>\n",
       "      <th>A3GALT2</th>\n",
       "      <th>A4GALT</th>\n",
       "      <th>A4GNT</th>\n",
       "      <th>AAAS</th>\n",
       "      <th>AACS</th>\n",
       "      <th>AADAC</th>\n",
       "      <th>...</th>\n",
       "      <th>ZWILCH</th>\n",
       "      <th>ZWINT</th>\n",
       "      <th>ZXDA</th>\n",
       "      <th>ZXDB</th>\n",
       "      <th>ZXDC</th>\n",
       "      <th>ZYG11A</th>\n",
       "      <th>ZYG11B</th>\n",
       "      <th>ZYX</th>\n",
       "      <th>ZZEF1</th>\n",
       "      <th>ZZZ3</th>\n",
       "    </tr>\n",
       "  </thead>\n",
       "  <tbody>\n",
       "    <tr>\n",
       "      <th>HEL</th>\n",
       "      <td>0.178087</td>\n",
       "      <td>0.088290</td>\n",
       "      <td>-0.201464</td>\n",
       "      <td>-0.017011</td>\n",
       "      <td>0.042590</td>\n",
       "      <td>-0.192257</td>\n",
       "      <td>0.352891</td>\n",
       "      <td>-0.445209</td>\n",
       "      <td>0.292603</td>\n",
       "      <td>0.165168</td>\n",
       "      <td>...</td>\n",
       "      <td>-0.122795</td>\n",
       "      <td>-0.464567</td>\n",
       "      <td>NaN</td>\n",
       "      <td>NaN</td>\n",
       "      <td>0.258084</td>\n",
       "      <td>0.237593</td>\n",
       "      <td>-0.408563</td>\n",
       "      <td>0.291832</td>\n",
       "      <td>0.218575</td>\n",
       "      <td>-0.139759</td>\n",
       "    </tr>\n",
       "    <tr>\n",
       "      <th>HEL9217</th>\n",
       "      <td>-0.082364</td>\n",
       "      <td>0.239413</td>\n",
       "      <td>0.195457</td>\n",
       "      <td>0.163763</td>\n",
       "      <td>-0.188161</td>\n",
       "      <td>-0.338735</td>\n",
       "      <td>0.254489</td>\n",
       "      <td>-0.583878</td>\n",
       "      <td>-0.060615</td>\n",
       "      <td>0.015272</td>\n",
       "      <td>...</td>\n",
       "      <td>-0.195061</td>\n",
       "      <td>-0.408063</td>\n",
       "      <td>-0.155155</td>\n",
       "      <td>-0.067415</td>\n",
       "      <td>0.229242</td>\n",
       "      <td>-0.075883</td>\n",
       "      <td>-0.104001</td>\n",
       "      <td>0.075901</td>\n",
       "      <td>0.036985</td>\n",
       "      <td>-0.243303</td>\n",
       "    </tr>\n",
       "    <tr>\n",
       "      <th>LS513</th>\n",
       "      <td>0.070026</td>\n",
       "      <td>0.075066</td>\n",
       "      <td>-0.064637</td>\n",
       "      <td>0.156905</td>\n",
       "      <td>0.099075</td>\n",
       "      <td>0.141985</td>\n",
       "      <td>0.066314</td>\n",
       "      <td>-0.477023</td>\n",
       "      <td>-0.006855</td>\n",
       "      <td>0.291604</td>\n",
       "      <td>...</td>\n",
       "      <td>-0.093252</td>\n",
       "      <td>-0.276874</td>\n",
       "      <td>-0.049716</td>\n",
       "      <td>0.116683</td>\n",
       "      <td>0.211699</td>\n",
       "      <td>-0.012654</td>\n",
       "      <td>-0.351716</td>\n",
       "      <td>0.089140</td>\n",
       "      <td>-0.392549</td>\n",
       "      <td>-0.442624</td>\n",
       "    </tr>\n",
       "    <tr>\n",
       "      <th>C2BBE1</th>\n",
       "      <td>0.107048</td>\n",
       "      <td>-0.006352</td>\n",
       "      <td>-0.053166</td>\n",
       "      <td>0.053055</td>\n",
       "      <td>0.081620</td>\n",
       "      <td>-0.038305</td>\n",
       "      <td>0.082421</td>\n",
       "      <td>-0.642935</td>\n",
       "      <td>0.159178</td>\n",
       "      <td>0.064128</td>\n",
       "      <td>...</td>\n",
       "      <td>-0.280677</td>\n",
       "      <td>-0.230111</td>\n",
       "      <td>-0.106000</td>\n",
       "      <td>0.041611</td>\n",
       "      <td>0.083021</td>\n",
       "      <td>0.022771</td>\n",
       "      <td>-0.596777</td>\n",
       "      <td>0.197627</td>\n",
       "      <td>-0.106398</td>\n",
       "      <td>-0.549259</td>\n",
       "    </tr>\n",
       "    <tr>\n",
       "      <th>253J</th>\n",
       "      <td>0.280508</td>\n",
       "      <td>0.079860</td>\n",
       "      <td>0.016981</td>\n",
       "      <td>0.439139</td>\n",
       "      <td>-0.042239</td>\n",
       "      <td>-0.242560</td>\n",
       "      <td>0.103028</td>\n",
       "      <td>-0.419159</td>\n",
       "      <td>0.141445</td>\n",
       "      <td>0.115857</td>\n",
       "      <td>...</td>\n",
       "      <td>-0.410500</td>\n",
       "      <td>-0.507467</td>\n",
       "      <td>-0.138665</td>\n",
       "      <td>-0.119292</td>\n",
       "      <td>0.284407</td>\n",
       "      <td>0.158124</td>\n",
       "      <td>-0.240429</td>\n",
       "      <td>0.124847</td>\n",
       "      <td>-0.250949</td>\n",
       "      <td>-0.379117</td>\n",
       "    </tr>\n",
       "  </tbody>\n",
       "</table>\n",
       "<p>5 rows × 18119 columns</p>\n",
       "</div>"
      ],
      "text/plain": [
       "             A1BG      A1CF       A2M     A2ML1   A3GALT2    A4GALT     A4GNT  \\\n",
       "HEL      0.178087  0.088290 -0.201464 -0.017011  0.042590 -0.192257  0.352891   \n",
       "HEL9217 -0.082364  0.239413  0.195457  0.163763 -0.188161 -0.338735  0.254489   \n",
       "LS513    0.070026  0.075066 -0.064637  0.156905  0.099075  0.141985  0.066314   \n",
       "C2BBE1   0.107048 -0.006352 -0.053166  0.053055  0.081620 -0.038305  0.082421   \n",
       "253J     0.280508  0.079860  0.016981  0.439139 -0.042239 -0.242560  0.103028   \n",
       "\n",
       "             AAAS      AACS     AADAC  ...    ZWILCH     ZWINT      ZXDA  \\\n",
       "HEL     -0.445209  0.292603  0.165168  ... -0.122795 -0.464567       NaN   \n",
       "HEL9217 -0.583878 -0.060615  0.015272  ... -0.195061 -0.408063 -0.155155   \n",
       "LS513   -0.477023 -0.006855  0.291604  ... -0.093252 -0.276874 -0.049716   \n",
       "C2BBE1  -0.642935  0.159178  0.064128  ... -0.280677 -0.230111 -0.106000   \n",
       "253J    -0.419159  0.141445  0.115857  ... -0.410500 -0.507467 -0.138665   \n",
       "\n",
       "             ZXDB      ZXDC    ZYG11A    ZYG11B       ZYX     ZZEF1      ZZZ3  \n",
       "HEL           NaN  0.258084  0.237593 -0.408563  0.291832  0.218575 -0.139759  \n",
       "HEL9217 -0.067415  0.229242 -0.075883 -0.104001  0.075901  0.036985 -0.243303  \n",
       "LS513    0.116683  0.211699 -0.012654 -0.351716  0.089140 -0.392549 -0.442624  \n",
       "C2BBE1   0.041611  0.083021  0.022771 -0.596777  0.197627 -0.106398 -0.549259  \n",
       "253J    -0.119292  0.284407  0.158124 -0.240429  0.124847 -0.250949 -0.379117  \n",
       "\n",
       "[5 rows x 18119 columns]"
      ]
     },
     "execution_count": 93,
     "metadata": {},
     "output_type": "execute_result"
    }
   ],
   "source": [
    "effect = effect.transpose()\n",
    "intersect = list(set.intersection(set(allGenes.index.to_list()), set(cellL)))\n",
    "allGenes = effect[effect.columns.intersection(cellL)]\n",
    "\n",
    "allGenes.shape\n",
    "allGenes = allGenes.transpose()\n",
    "\n",
    "allGenes.head()"
   ]
  },
  {
   "cell_type": "code",
   "execution_count": 34,
   "metadata": {
    "collapsed": true,
    "jupyter": {
     "outputs_hidden": true
    }
   },
   "outputs": [
    {
     "data": {
      "text/html": [
       "<div>\n",
       "<style scoped>\n",
       "    .dataframe tbody tr th:only-of-type {\n",
       "        vertical-align: middle;\n",
       "    }\n",
       "\n",
       "    .dataframe tbody tr th {\n",
       "        vertical-align: top;\n",
       "    }\n",
       "\n",
       "    .dataframe thead th {\n",
       "        text-align: right;\n",
       "    }\n",
       "</style>\n",
       "<table border=\"1\" class=\"dataframe\">\n",
       "  <thead>\n",
       "    <tr style=\"text-align: right;\">\n",
       "      <th></th>\n",
       "      <th>CCLE_NAME</th>\n",
       "      <th>TISSUE_FACTOR</th>\n",
       "      <th>MSI</th>\n",
       "      <th>ACVR1B_mut_del</th>\n",
       "      <th>APC_mut_del</th>\n",
       "      <th>ARID1A_mut_del</th>\n",
       "      <th>ATM_mut_del</th>\n",
       "      <th>ATRX_mut_del</th>\n",
       "      <th>AXIN1_mut_del</th>\n",
       "      <th>BAP1_mut_del</th>\n",
       "      <th>...</th>\n",
       "      <th>PIK3CA_mut</th>\n",
       "      <th>BRAF_mut</th>\n",
       "      <th>CTNNB1_mut</th>\n",
       "      <th>KRAS_mut</th>\n",
       "      <th>NRAS_mut</th>\n",
       "      <th>GNAS_mut</th>\n",
       "      <th>HRAS_mut</th>\n",
       "      <th>EGFR_mut</th>\n",
       "      <th>MAP2K1_mut</th>\n",
       "      <th>PTPN11_mut</th>\n",
       "    </tr>\n",
       "  </thead>\n",
       "  <tbody>\n",
       "    <tr>\n",
       "      <th>0</th>\n",
       "      <td>MOLM16_HAEMATOPOIETIC_AND_LYMPHOID_TISSUE</td>\n",
       "      <td>HAEMATOPOIETIC_AND_LYMPHOID_TISSUE</td>\n",
       "      <td>0</td>\n",
       "      <td>0</td>\n",
       "      <td>0</td>\n",
       "      <td>0</td>\n",
       "      <td>0</td>\n",
       "      <td>0</td>\n",
       "      <td>0</td>\n",
       "      <td>0</td>\n",
       "      <td>...</td>\n",
       "      <td>0</td>\n",
       "      <td>0</td>\n",
       "      <td>0</td>\n",
       "      <td>0</td>\n",
       "      <td>0</td>\n",
       "      <td>0</td>\n",
       "      <td>0</td>\n",
       "      <td>0</td>\n",
       "      <td>0</td>\n",
       "      <td>0</td>\n",
       "    </tr>\n",
       "    <tr>\n",
       "      <th>1</th>\n",
       "      <td>PATU8988S_PANCREAS</td>\n",
       "      <td>PANCREAS</td>\n",
       "      <td>0</td>\n",
       "      <td>0</td>\n",
       "      <td>0</td>\n",
       "      <td>0</td>\n",
       "      <td>1</td>\n",
       "      <td>0</td>\n",
       "      <td>0</td>\n",
       "      <td>0</td>\n",
       "      <td>...</td>\n",
       "      <td>0</td>\n",
       "      <td>0</td>\n",
       "      <td>0</td>\n",
       "      <td>1</td>\n",
       "      <td>0</td>\n",
       "      <td>0</td>\n",
       "      <td>0</td>\n",
       "      <td>0</td>\n",
       "      <td>0</td>\n",
       "      <td>0</td>\n",
       "    </tr>\n",
       "    <tr>\n",
       "      <th>2</th>\n",
       "      <td>RCHACV_HAEMATOPOIETIC_AND_LYMPHOID_TISSUE</td>\n",
       "      <td>HAEMATOPOIETIC_AND_LYMPHOID_TISSUE</td>\n",
       "      <td>0</td>\n",
       "      <td>1</td>\n",
       "      <td>0</td>\n",
       "      <td>0</td>\n",
       "      <td>0</td>\n",
       "      <td>0</td>\n",
       "      <td>0</td>\n",
       "      <td>0</td>\n",
       "      <td>...</td>\n",
       "      <td>0</td>\n",
       "      <td>0</td>\n",
       "      <td>0</td>\n",
       "      <td>1</td>\n",
       "      <td>0</td>\n",
       "      <td>0</td>\n",
       "      <td>0</td>\n",
       "      <td>0</td>\n",
       "      <td>0</td>\n",
       "      <td>0</td>\n",
       "    </tr>\n",
       "    <tr>\n",
       "      <th>3</th>\n",
       "      <td>SKMEL31_SKIN</td>\n",
       "      <td>SKIN</td>\n",
       "      <td>0</td>\n",
       "      <td>0</td>\n",
       "      <td>0</td>\n",
       "      <td>0</td>\n",
       "      <td>1</td>\n",
       "      <td>0</td>\n",
       "      <td>0</td>\n",
       "      <td>0</td>\n",
       "      <td>...</td>\n",
       "      <td>0</td>\n",
       "      <td>1</td>\n",
       "      <td>0</td>\n",
       "      <td>0</td>\n",
       "      <td>0</td>\n",
       "      <td>0</td>\n",
       "      <td>0</td>\n",
       "      <td>0</td>\n",
       "      <td>0</td>\n",
       "      <td>0</td>\n",
       "    </tr>\n",
       "    <tr>\n",
       "      <th>4</th>\n",
       "      <td>SKBR3_BREAST</td>\n",
       "      <td>BREAST</td>\n",
       "      <td>0</td>\n",
       "      <td>0</td>\n",
       "      <td>0</td>\n",
       "      <td>0</td>\n",
       "      <td>0</td>\n",
       "      <td>0</td>\n",
       "      <td>0</td>\n",
       "      <td>1</td>\n",
       "      <td>...</td>\n",
       "      <td>0</td>\n",
       "      <td>0</td>\n",
       "      <td>0</td>\n",
       "      <td>0</td>\n",
       "      <td>0</td>\n",
       "      <td>0</td>\n",
       "      <td>0</td>\n",
       "      <td>0</td>\n",
       "      <td>0</td>\n",
       "      <td>0</td>\n",
       "    </tr>\n",
       "  </tbody>\n",
       "</table>\n",
       "<p>5 rows × 71 columns</p>\n",
       "</div>"
      ],
      "text/plain": [
       "                                   CCLE_NAME  \\\n",
       "0  MOLM16_HAEMATOPOIETIC_AND_LYMPHOID_TISSUE   \n",
       "1                         PATU8988S_PANCREAS   \n",
       "2  RCHACV_HAEMATOPOIETIC_AND_LYMPHOID_TISSUE   \n",
       "3                               SKMEL31_SKIN   \n",
       "4                               SKBR3_BREAST   \n",
       "\n",
       "                        TISSUE_FACTOR  MSI  ACVR1B_mut_del  APC_mut_del  \\\n",
       "0  HAEMATOPOIETIC_AND_LYMPHOID_TISSUE    0               0            0   \n",
       "1                            PANCREAS    0               0            0   \n",
       "2  HAEMATOPOIETIC_AND_LYMPHOID_TISSUE    0               1            0   \n",
       "3                                SKIN    0               0            0   \n",
       "4                              BREAST    0               0            0   \n",
       "\n",
       "   ARID1A_mut_del  ATM_mut_del  ATRX_mut_del  AXIN1_mut_del  BAP1_mut_del  \\\n",
       "0               0            0             0              0             0   \n",
       "1               0            1             0              0             0   \n",
       "2               0            0             0              0             0   \n",
       "3               0            1             0              0             0   \n",
       "4               0            0             0              0             1   \n",
       "\n",
       "   ...  PIK3CA_mut  BRAF_mut  CTNNB1_mut  KRAS_mut  NRAS_mut  GNAS_mut  \\\n",
       "0  ...           0         0           0         0         0         0   \n",
       "1  ...           0         0           0         1         0         0   \n",
       "2  ...           0         0           0         1         0         0   \n",
       "3  ...           0         1           0         0         0         0   \n",
       "4  ...           0         0           0         0         0         0   \n",
       "\n",
       "   HRAS_mut  EGFR_mut  MAP2K1_mut  PTPN11_mut  \n",
       "0         0         0           0           0  \n",
       "1         0         0           0           0  \n",
       "2         0         0           0           0  \n",
       "3         0         0           0           0  \n",
       "4         0         0           0           0  \n",
       "\n",
       "[5 rows x 71 columns]"
      ]
     },
     "execution_count": 34,
     "metadata": {},
     "output_type": "execute_result"
    }
   ],
   "source": [
    "data = pd.read_csv(\"/home/annerer/Downloads/elife-58925-supp1-v3.csv\")"
   ]
  },
  {
   "cell_type": "code",
   "execution_count": 161,
   "metadata": {},
   "outputs": [],
   "source": [
    "def celllines_from_diff1(gene_a,gene_b):\n",
    "    def diff(gene_a,gene_b):\n",
    "        \"\"\" takes 2 genes and returns the cell lines\n",
    "        for which those two genes have a high correlation\n",
    "        or anticorrelation in gene effect\"\"\"\n",
    "        diff = np.abs(effect[gene_a] - effect[gene_b])\n",
    "        return (diff) \n",
    "    diff1 = diff(gene_a,gene_b)\n",
    "    diff1_top = diff1.sort_values().tail(20).index.to_list()\n",
    "    diff1_bottom = diff1.sort_values().head(20).index.to_list()\n",
    "    print('first is top, second is bottom')\n",
    "    plt.plot(diff1.sort_values())\n",
    "    return([diff1_top,diff1_bottom])\n",
    "\n",
    "def celllines_from_sums1(gene_a,gene_b):\n",
    "        def summ(gene_a,gene_b):\n",
    "            summ = np.abs(effect[gene_a] + effect[gene_b])\n",
    "            return summ\n",
    "        summ1 = summ(gene_a,gene_b)\n",
    "        summ1_top = summ1.sort_values().tail(20).index.to_list()\n",
    "        summ1_bottom = summ1.sort_values().head(20).index.to_list()\n",
    "        print('first is top, second is bottom')\n",
    "        return([summ1_top,summ1_bottom])"
   ]
  },
  {
   "cell_type": "code",
   "execution_count": 239,
   "metadata": {},
   "outputs": [],
   "source": [
    "def process_diff1(gene_a,gene_b):\n",
    "    diff = np.abs(allGenes[gene_a] - allGenes[gene_b])\n",
    "    diff_top = diff.sort_values().tail(30).index.to_list()\n",
    "    diff_bottom = diff.sort_values().head(30).index.to_list()\n",
    "    allGenesSet = set(allGenes.index.to_list())\n",
    "    top_group = diff_top\n",
    "    rest_top_group = list(allGenesSet.difference(set(top_group)))\n",
    "    bottom_group = diff_bottom\n",
    "    rest_bottom_group = list(allGenesSet.difference(set(bottom_group)))\n",
    "    return([top_group,rest_top_group,bottom_group,rest_bottom_group])"
   ]
  },
  {
   "cell_type": "code",
   "execution_count": null,
   "metadata": {},
   "outputs": [],
   "source": [
    "def process_summ1(gene_a,gene_b):\n",
    "    summ = np.abs(allGenes[gene_a] + allGenes[gene_b])\n",
    "    summ_top = summ.sort_values().tail(30).index.to_list()\n",
    "    summ_bottom = summ.sort_values().head(30).index.to_list()\n",
    "    allGenesSet = set(allGenes.index.to_list())\n",
    "    top_group = summ_top\n",
    "    rest_top_group = list(allGenesSet.difference(set(top_group)))\n",
    "    bottom_group = summ_bottom\n",
    "    rest_bottom_group = list(allGenesSet.difference(set(bottom_group)))\n",
    "    return([top_group,rest_top_group,bottom_group,rest_bottom_group])"
   ]
  },
  {
   "cell_type": "code",
   "execution_count": null,
   "metadata": {},
   "outputs": [],
   "source": []
  },
  {
   "cell_type": "code",
   "execution_count": 19,
   "metadata": {},
   "outputs": [],
   "source": [
    "def process_diff(gene_a,gene_b):\n",
    "    diff = np.abs(allGenes[gene_a] - allGenes[gene_b])\n",
    "    diff_top = diff.sort_values().tail(30).index.to_list()\n",
    "    allGenesSet = set(allGenes.index.to_list())\n",
    "    rest_top_group = list(allGenesSet.difference(set(diff_top)))\n",
    "    return([diff_top,rest_top_group])"
   ]
  },
  {
   "cell_type": "code",
   "execution_count": 20,
   "metadata": {},
   "outputs": [],
   "source": [
    "def process_summ(gene_a,gene_b):\n",
    "    summ = np.abs(allGenes[gene_a] + allGenes[gene_b])\n",
    "    summ_top = summ.sort_values().tail(30).index.to_list()\n",
    "    allGenesSet = set(allGenes.index.to_list())\n",
    "    rest_top_group = list(allGenesSet.difference(set(summ_top)))\n",
    "    return([summ_top,rest_top_group])"
   ]
  },
  {
   "cell_type": "code",
   "execution_count": null,
   "metadata": {},
   "outputs": [],
   "source": []
  },
  {
   "cell_type": "code",
   "execution_count": 144,
   "metadata": {},
   "outputs": [
    {
     "data": {
      "text/plain": [
       "INDEX\n",
       "A375       0.000000\n",
       "UACC62          NaN\n",
       "SKMEL19    0.883308\n",
       "MEL285     0.011317\n",
       "UCH2       0.089090\n",
       "Name: NF2, dtype: float64"
      ]
     },
     "execution_count": 144,
     "metadata": {},
     "output_type": "execute_result"
    }
   ],
   "source": [
    "dep['NF2'].tail()"
   ]
  },
  {
   "cell_type": "markdown",
   "metadata": {},
   "source": [
    "## make a good dataframe that appends the subtype and the primary_disease to the values calculated for the pairs"
   ]
  },
  {
   "cell_type": "markdown",
   "metadata": {},
   "source": [
    "we have to make sure to do the correct calculations for ++, +- and --\n",
    "* for the -- ones, we need the product of the dependencies\n",
    "* for the ++ ones, we rank and sum\n",
    "* for the +- we see where we get, by looking at sum and average, or we already rank according to correlation."
   ]
  },
  {
   "cell_type": "code",
   "execution_count": 233,
   "metadata": {},
   "outputs": [],
   "source": [
    "def dependency_product(gene_a,gene_b):\n",
    "    depprod = dep[gene_a]*dep[gene_b]\n",
    "    # get rid of nans !!!!!!!!!!!!!!!!!!!!!!!!!!!!!!!!!!!!!!!!!!!!!!!!!!\n",
    "    depprod = depprod.sort_values().tail(30).to_list()\n",
    "    \n",
    "    # [[row[i] for row in matrix] for i in range(2)]\n",
    "    #depprod = pd.DataFrame(depprod)\n",
    "    df1 = [data[data['CCLE_Name'].str.match(_)]['Subtype'].values for _ in depprod]\n",
    "    df2 = [data[data['CCLE_Name'].str.match(_)]['primary_disease'].values for _ in depprod]\n",
    "    \n",
    "    depp = []\n",
    "    for _ in range(len(depprod)):\n",
    "        depp.append([depprod[_],df1[_],df2[_]])\n",
    "    #print(df1.shape)\n",
    "    #print(df2.shape)\n",
    "    #depprod = pd.concat([depprod,pd.DataFrame(df1)])\n",
    "    #depprod = pd.concat([depprod,pd.DataFrame(df2)])\n",
    " #   print(data[data['CCLE_Name'].str.match(_)]['primary_disease'])\n",
    "    return(depp)"
   ]
  },
  {
   "cell_type": "code",
   "execution_count": null,
   "metadata": {},
   "outputs": [],
   "source": [
    "# what we want:\n",
    "\n",
    "# ranking the lists depending on whether the gene is a ts or onkogene"
   ]
  },
  {
   "cell_type": "code",
   "execution_count": null,
   "metadata": {},
   "outputs": [],
   "source": []
  },
  {
   "cell_type": "code",
   "execution_count": null,
   "metadata": {},
   "outputs": [],
   "source": []
  },
  {
   "cell_type": "code",
   "execution_count": 235,
   "metadata": {
    "collapsed": true,
    "jupyter": {
     "outputs_hidden": true
    }
   },
   "outputs": [
    {
     "ename": "TypeError",
     "evalue": "first argument must be string or compiled pattern",
     "output_type": "error",
     "traceback": [
      "\u001b[0;31m---------------------------------------------------------------------------\u001b[0m",
      "\u001b[0;31mTypeError\u001b[0m                                 Traceback (most recent call last)",
      "\u001b[0;32m<ipython-input-235-d07580f5d503>\u001b[0m in \u001b[0;36m<module>\u001b[0;34m\u001b[0m\n\u001b[0;32m----> 1\u001b[0;31m \u001b[0mdependency_product\u001b[0m\u001b[0;34m(\u001b[0m\u001b[0;34m'CDK4'\u001b[0m\u001b[0;34m,\u001b[0m\u001b[0;34m'CDK6'\u001b[0m\u001b[0;34m)\u001b[0m\u001b[0;34m\u001b[0m\u001b[0;34m\u001b[0m\u001b[0m\n\u001b[0m",
      "\u001b[0;32m<ipython-input-233-dc8c5667f927>\u001b[0m in \u001b[0;36mdependency_product\u001b[0;34m(gene_a, gene_b)\u001b[0m\n\u001b[1;32m      6\u001b[0m     \u001b[0;31m# [[row[i] for row in matrix] for i in range(2)]\u001b[0m\u001b[0;34m\u001b[0m\u001b[0;34m\u001b[0m\u001b[0;34m\u001b[0m\u001b[0m\n\u001b[1;32m      7\u001b[0m     \u001b[0;31m#depprod = pd.DataFrame(depprod)\u001b[0m\u001b[0;34m\u001b[0m\u001b[0;34m\u001b[0m\u001b[0;34m\u001b[0m\u001b[0m\n\u001b[0;32m----> 8\u001b[0;31m     \u001b[0mdf1\u001b[0m \u001b[0;34m=\u001b[0m \u001b[0;34m[\u001b[0m\u001b[0mdata\u001b[0m\u001b[0;34m[\u001b[0m\u001b[0mdata\u001b[0m\u001b[0;34m[\u001b[0m\u001b[0;34m'CCLE_Name'\u001b[0m\u001b[0;34m]\u001b[0m\u001b[0;34m.\u001b[0m\u001b[0mstr\u001b[0m\u001b[0;34m.\u001b[0m\u001b[0mmatch\u001b[0m\u001b[0;34m(\u001b[0m\u001b[0m_\u001b[0m\u001b[0;34m)\u001b[0m\u001b[0;34m]\u001b[0m\u001b[0;34m[\u001b[0m\u001b[0;34m'Subtype'\u001b[0m\u001b[0;34m]\u001b[0m\u001b[0;34m.\u001b[0m\u001b[0mvalues\u001b[0m \u001b[0;32mfor\u001b[0m \u001b[0m_\u001b[0m \u001b[0;32min\u001b[0m \u001b[0mdepprod\u001b[0m\u001b[0;34m]\u001b[0m\u001b[0;34m\u001b[0m\u001b[0;34m\u001b[0m\u001b[0m\n\u001b[0m\u001b[1;32m      9\u001b[0m     \u001b[0mdf2\u001b[0m \u001b[0;34m=\u001b[0m \u001b[0;34m[\u001b[0m\u001b[0mdata\u001b[0m\u001b[0;34m[\u001b[0m\u001b[0mdata\u001b[0m\u001b[0;34m[\u001b[0m\u001b[0;34m'CCLE_Name'\u001b[0m\u001b[0;34m]\u001b[0m\u001b[0;34m.\u001b[0m\u001b[0mstr\u001b[0m\u001b[0;34m.\u001b[0m\u001b[0mmatch\u001b[0m\u001b[0;34m(\u001b[0m\u001b[0m_\u001b[0m\u001b[0;34m)\u001b[0m\u001b[0;34m]\u001b[0m\u001b[0;34m[\u001b[0m\u001b[0;34m'primary_disease'\u001b[0m\u001b[0;34m]\u001b[0m\u001b[0;34m.\u001b[0m\u001b[0mvalues\u001b[0m \u001b[0;32mfor\u001b[0m \u001b[0m_\u001b[0m \u001b[0;32min\u001b[0m \u001b[0mdepprod\u001b[0m\u001b[0;34m]\u001b[0m\u001b[0;34m\u001b[0m\u001b[0;34m\u001b[0m\u001b[0m\n\u001b[1;32m     10\u001b[0m \u001b[0;34m\u001b[0m\u001b[0m\n",
      "\u001b[0;32m<ipython-input-233-dc8c5667f927>\u001b[0m in \u001b[0;36m<listcomp>\u001b[0;34m(.0)\u001b[0m\n\u001b[1;32m      6\u001b[0m     \u001b[0;31m# [[row[i] for row in matrix] for i in range(2)]\u001b[0m\u001b[0;34m\u001b[0m\u001b[0;34m\u001b[0m\u001b[0;34m\u001b[0m\u001b[0m\n\u001b[1;32m      7\u001b[0m     \u001b[0;31m#depprod = pd.DataFrame(depprod)\u001b[0m\u001b[0;34m\u001b[0m\u001b[0;34m\u001b[0m\u001b[0;34m\u001b[0m\u001b[0m\n\u001b[0;32m----> 8\u001b[0;31m     \u001b[0mdf1\u001b[0m \u001b[0;34m=\u001b[0m \u001b[0;34m[\u001b[0m\u001b[0mdata\u001b[0m\u001b[0;34m[\u001b[0m\u001b[0mdata\u001b[0m\u001b[0;34m[\u001b[0m\u001b[0;34m'CCLE_Name'\u001b[0m\u001b[0;34m]\u001b[0m\u001b[0;34m.\u001b[0m\u001b[0mstr\u001b[0m\u001b[0;34m.\u001b[0m\u001b[0mmatch\u001b[0m\u001b[0;34m(\u001b[0m\u001b[0m_\u001b[0m\u001b[0;34m)\u001b[0m\u001b[0;34m]\u001b[0m\u001b[0;34m[\u001b[0m\u001b[0;34m'Subtype'\u001b[0m\u001b[0;34m]\u001b[0m\u001b[0;34m.\u001b[0m\u001b[0mvalues\u001b[0m \u001b[0;32mfor\u001b[0m \u001b[0m_\u001b[0m \u001b[0;32min\u001b[0m \u001b[0mdepprod\u001b[0m\u001b[0;34m]\u001b[0m\u001b[0;34m\u001b[0m\u001b[0;34m\u001b[0m\u001b[0m\n\u001b[0m\u001b[1;32m      9\u001b[0m     \u001b[0mdf2\u001b[0m \u001b[0;34m=\u001b[0m \u001b[0;34m[\u001b[0m\u001b[0mdata\u001b[0m\u001b[0;34m[\u001b[0m\u001b[0mdata\u001b[0m\u001b[0;34m[\u001b[0m\u001b[0;34m'CCLE_Name'\u001b[0m\u001b[0;34m]\u001b[0m\u001b[0;34m.\u001b[0m\u001b[0mstr\u001b[0m\u001b[0;34m.\u001b[0m\u001b[0mmatch\u001b[0m\u001b[0;34m(\u001b[0m\u001b[0m_\u001b[0m\u001b[0;34m)\u001b[0m\u001b[0;34m]\u001b[0m\u001b[0;34m[\u001b[0m\u001b[0;34m'primary_disease'\u001b[0m\u001b[0;34m]\u001b[0m\u001b[0;34m.\u001b[0m\u001b[0mvalues\u001b[0m \u001b[0;32mfor\u001b[0m \u001b[0m_\u001b[0m \u001b[0;32min\u001b[0m \u001b[0mdepprod\u001b[0m\u001b[0;34m]\u001b[0m\u001b[0;34m\u001b[0m\u001b[0;34m\u001b[0m\u001b[0m\n\u001b[1;32m     10\u001b[0m \u001b[0;34m\u001b[0m\u001b[0m\n",
      "\u001b[0;32m~/anaconda3/lib/python3.8/site-packages/pandas/core/strings.py\u001b[0m in \u001b[0;36mwrapper\u001b[0;34m(self, *args, **kwargs)\u001b[0m\n\u001b[1;32m   1952\u001b[0m                 )\n\u001b[1;32m   1953\u001b[0m                 \u001b[0;32mraise\u001b[0m \u001b[0mTypeError\u001b[0m\u001b[0;34m(\u001b[0m\u001b[0mmsg\u001b[0m\u001b[0;34m)\u001b[0m\u001b[0;34m\u001b[0m\u001b[0;34m\u001b[0m\u001b[0m\n\u001b[0;32m-> 1954\u001b[0;31m             \u001b[0;32mreturn\u001b[0m \u001b[0mfunc\u001b[0m\u001b[0;34m(\u001b[0m\u001b[0mself\u001b[0m\u001b[0;34m,\u001b[0m \u001b[0;34m*\u001b[0m\u001b[0margs\u001b[0m\u001b[0;34m,\u001b[0m \u001b[0;34m**\u001b[0m\u001b[0mkwargs\u001b[0m\u001b[0;34m)\u001b[0m\u001b[0;34m\u001b[0m\u001b[0;34m\u001b[0m\u001b[0m\n\u001b[0m\u001b[1;32m   1955\u001b[0m \u001b[0;34m\u001b[0m\u001b[0m\n\u001b[1;32m   1956\u001b[0m         \u001b[0mwrapper\u001b[0m\u001b[0;34m.\u001b[0m\u001b[0m__name__\u001b[0m \u001b[0;34m=\u001b[0m \u001b[0mfunc_name\u001b[0m\u001b[0;34m\u001b[0m\u001b[0;34m\u001b[0m\u001b[0m\n",
      "\u001b[0;32m~/anaconda3/lib/python3.8/site-packages/pandas/core/strings.py\u001b[0m in \u001b[0;36mmatch\u001b[0;34m(self, pat, case, flags, na)\u001b[0m\n\u001b[1;32m   2768\u001b[0m     \u001b[0;34m@\u001b[0m\u001b[0mforbid_nonstring_types\u001b[0m\u001b[0;34m(\u001b[0m\u001b[0;34m[\u001b[0m\u001b[0;34m\"bytes\"\u001b[0m\u001b[0;34m]\u001b[0m\u001b[0;34m)\u001b[0m\u001b[0;34m\u001b[0m\u001b[0;34m\u001b[0m\u001b[0m\n\u001b[1;32m   2769\u001b[0m     \u001b[0;32mdef\u001b[0m \u001b[0mmatch\u001b[0m\u001b[0;34m(\u001b[0m\u001b[0mself\u001b[0m\u001b[0;34m,\u001b[0m \u001b[0mpat\u001b[0m\u001b[0;34m,\u001b[0m \u001b[0mcase\u001b[0m\u001b[0;34m=\u001b[0m\u001b[0;32mTrue\u001b[0m\u001b[0;34m,\u001b[0m \u001b[0mflags\u001b[0m\u001b[0;34m=\u001b[0m\u001b[0;36m0\u001b[0m\u001b[0;34m,\u001b[0m \u001b[0mna\u001b[0m\u001b[0;34m=\u001b[0m\u001b[0mnp\u001b[0m\u001b[0;34m.\u001b[0m\u001b[0mnan\u001b[0m\u001b[0;34m)\u001b[0m\u001b[0;34m:\u001b[0m\u001b[0;34m\u001b[0m\u001b[0;34m\u001b[0m\u001b[0m\n\u001b[0;32m-> 2770\u001b[0;31m         \u001b[0mresult\u001b[0m \u001b[0;34m=\u001b[0m \u001b[0mstr_match\u001b[0m\u001b[0;34m(\u001b[0m\u001b[0mself\u001b[0m\u001b[0;34m.\u001b[0m\u001b[0m_parent\u001b[0m\u001b[0;34m,\u001b[0m \u001b[0mpat\u001b[0m\u001b[0;34m,\u001b[0m \u001b[0mcase\u001b[0m\u001b[0;34m=\u001b[0m\u001b[0mcase\u001b[0m\u001b[0;34m,\u001b[0m \u001b[0mflags\u001b[0m\u001b[0;34m=\u001b[0m\u001b[0mflags\u001b[0m\u001b[0;34m,\u001b[0m \u001b[0mna\u001b[0m\u001b[0;34m=\u001b[0m\u001b[0mna\u001b[0m\u001b[0;34m)\u001b[0m\u001b[0;34m\u001b[0m\u001b[0;34m\u001b[0m\u001b[0m\n\u001b[0m\u001b[1;32m   2771\u001b[0m         \u001b[0;32mreturn\u001b[0m \u001b[0mself\u001b[0m\u001b[0;34m.\u001b[0m\u001b[0m_wrap_result\u001b[0m\u001b[0;34m(\u001b[0m\u001b[0mresult\u001b[0m\u001b[0;34m,\u001b[0m \u001b[0mfill_value\u001b[0m\u001b[0;34m=\u001b[0m\u001b[0mna\u001b[0m\u001b[0;34m,\u001b[0m \u001b[0mreturns_string\u001b[0m\u001b[0;34m=\u001b[0m\u001b[0;32mFalse\u001b[0m\u001b[0;34m)\u001b[0m\u001b[0;34m\u001b[0m\u001b[0;34m\u001b[0m\u001b[0m\n\u001b[1;32m   2772\u001b[0m \u001b[0;34m\u001b[0m\u001b[0m\n",
      "\u001b[0;32m~/anaconda3/lib/python3.8/site-packages/pandas/core/strings.py\u001b[0m in \u001b[0;36mstr_match\u001b[0;34m(arr, pat, case, flags, na)\u001b[0m\n\u001b[1;32m    819\u001b[0m         \u001b[0mflags\u001b[0m \u001b[0;34m|=\u001b[0m \u001b[0mre\u001b[0m\u001b[0;34m.\u001b[0m\u001b[0mIGNORECASE\u001b[0m\u001b[0;34m\u001b[0m\u001b[0;34m\u001b[0m\u001b[0m\n\u001b[1;32m    820\u001b[0m \u001b[0;34m\u001b[0m\u001b[0m\n\u001b[0;32m--> 821\u001b[0;31m     \u001b[0mregex\u001b[0m \u001b[0;34m=\u001b[0m \u001b[0mre\u001b[0m\u001b[0;34m.\u001b[0m\u001b[0mcompile\u001b[0m\u001b[0;34m(\u001b[0m\u001b[0mpat\u001b[0m\u001b[0;34m,\u001b[0m \u001b[0mflags\u001b[0m\u001b[0;34m=\u001b[0m\u001b[0mflags\u001b[0m\u001b[0;34m)\u001b[0m\u001b[0;34m\u001b[0m\u001b[0;34m\u001b[0m\u001b[0m\n\u001b[0m\u001b[1;32m    822\u001b[0m \u001b[0;34m\u001b[0m\u001b[0m\n\u001b[1;32m    823\u001b[0m     \u001b[0mdtype\u001b[0m \u001b[0;34m=\u001b[0m \u001b[0mbool\u001b[0m\u001b[0;34m\u001b[0m\u001b[0;34m\u001b[0m\u001b[0m\n",
      "\u001b[0;32m~/anaconda3/lib/python3.8/re.py\u001b[0m in \u001b[0;36mcompile\u001b[0;34m(pattern, flags)\u001b[0m\n\u001b[1;32m    250\u001b[0m \u001b[0;32mdef\u001b[0m \u001b[0mcompile\u001b[0m\u001b[0;34m(\u001b[0m\u001b[0mpattern\u001b[0m\u001b[0;34m,\u001b[0m \u001b[0mflags\u001b[0m\u001b[0;34m=\u001b[0m\u001b[0;36m0\u001b[0m\u001b[0;34m)\u001b[0m\u001b[0;34m:\u001b[0m\u001b[0;34m\u001b[0m\u001b[0;34m\u001b[0m\u001b[0m\n\u001b[1;32m    251\u001b[0m     \u001b[0;34m\"Compile a regular expression pattern, returning a Pattern object.\"\u001b[0m\u001b[0;34m\u001b[0m\u001b[0;34m\u001b[0m\u001b[0m\n\u001b[0;32m--> 252\u001b[0;31m     \u001b[0;32mreturn\u001b[0m \u001b[0m_compile\u001b[0m\u001b[0;34m(\u001b[0m\u001b[0mpattern\u001b[0m\u001b[0;34m,\u001b[0m \u001b[0mflags\u001b[0m\u001b[0;34m)\u001b[0m\u001b[0;34m\u001b[0m\u001b[0;34m\u001b[0m\u001b[0m\n\u001b[0m\u001b[1;32m    253\u001b[0m \u001b[0;34m\u001b[0m\u001b[0m\n\u001b[1;32m    254\u001b[0m \u001b[0;32mdef\u001b[0m \u001b[0mpurge\u001b[0m\u001b[0;34m(\u001b[0m\u001b[0;34m)\u001b[0m\u001b[0;34m:\u001b[0m\u001b[0;34m\u001b[0m\u001b[0;34m\u001b[0m\u001b[0m\n",
      "\u001b[0;32m~/anaconda3/lib/python3.8/re.py\u001b[0m in \u001b[0;36m_compile\u001b[0;34m(pattern, flags)\u001b[0m\n\u001b[1;32m    301\u001b[0m         \u001b[0;32mreturn\u001b[0m \u001b[0mpattern\u001b[0m\u001b[0;34m\u001b[0m\u001b[0;34m\u001b[0m\u001b[0m\n\u001b[1;32m    302\u001b[0m     \u001b[0;32mif\u001b[0m \u001b[0;32mnot\u001b[0m \u001b[0msre_compile\u001b[0m\u001b[0;34m.\u001b[0m\u001b[0misstring\u001b[0m\u001b[0;34m(\u001b[0m\u001b[0mpattern\u001b[0m\u001b[0;34m)\u001b[0m\u001b[0;34m:\u001b[0m\u001b[0;34m\u001b[0m\u001b[0;34m\u001b[0m\u001b[0m\n\u001b[0;32m--> 303\u001b[0;31m         \u001b[0;32mraise\u001b[0m \u001b[0mTypeError\u001b[0m\u001b[0;34m(\u001b[0m\u001b[0;34m\"first argument must be string or compiled pattern\"\u001b[0m\u001b[0;34m)\u001b[0m\u001b[0;34m\u001b[0m\u001b[0;34m\u001b[0m\u001b[0m\n\u001b[0m\u001b[1;32m    304\u001b[0m     \u001b[0mp\u001b[0m \u001b[0;34m=\u001b[0m \u001b[0msre_compile\u001b[0m\u001b[0;34m.\u001b[0m\u001b[0mcompile\u001b[0m\u001b[0;34m(\u001b[0m\u001b[0mpattern\u001b[0m\u001b[0;34m,\u001b[0m \u001b[0mflags\u001b[0m\u001b[0;34m)\u001b[0m\u001b[0;34m\u001b[0m\u001b[0;34m\u001b[0m\u001b[0m\n\u001b[1;32m    305\u001b[0m     \u001b[0;32mif\u001b[0m \u001b[0;32mnot\u001b[0m \u001b[0;34m(\u001b[0m\u001b[0mflags\u001b[0m \u001b[0;34m&\u001b[0m \u001b[0mDEBUG\u001b[0m\u001b[0;34m)\u001b[0m\u001b[0;34m:\u001b[0m\u001b[0;34m\u001b[0m\u001b[0;34m\u001b[0m\u001b[0m\n",
      "\u001b[0;31mTypeError\u001b[0m: first argument must be string or compiled pattern"
     ]
    }
   ],
   "source": [
    "dependency_product('CDK4','CDK6')"
   ]
  },
  {
   "cell_type": "code",
   "execution_count": 223,
   "metadata": {
    "collapsed": true,
    "jupyter": {
     "outputs_hidden": true
    }
   },
   "outputs": [
    {
     "data": {
      "text/html": [
       "<div>\n",
       "<style scoped>\n",
       "    .dataframe tbody tr th:only-of-type {\n",
       "        vertical-align: middle;\n",
       "    }\n",
       "\n",
       "    .dataframe tbody tr th {\n",
       "        vertical-align: top;\n",
       "    }\n",
       "\n",
       "    .dataframe thead th {\n",
       "        text-align: right;\n",
       "    }\n",
       "</style>\n",
       "<table border=\"1\" class=\"dataframe\">\n",
       "  <thead>\n",
       "    <tr style=\"text-align: right;\">\n",
       "      <th></th>\n",
       "      <th>0</th>\n",
       "    </tr>\n",
       "  </thead>\n",
       "  <tbody>\n",
       "    <tr>\n",
       "      <th>0</th>\n",
       "      <td>[Lymphoma]</td>\n",
       "    </tr>\n",
       "    <tr>\n",
       "      <th>1</th>\n",
       "      <td>[Lung Cancer]</td>\n",
       "    </tr>\n",
       "    <tr>\n",
       "      <th>2</th>\n",
       "      <td>[Kidney Cancer]</td>\n",
       "    </tr>\n",
       "    <tr>\n",
       "      <th>3</th>\n",
       "      <td>[Bile Duct Cancer]</td>\n",
       "    </tr>\n",
       "    <tr>\n",
       "      <th>4</th>\n",
       "      <td>[Brain Cancer]</td>\n",
       "    </tr>\n",
       "    <tr>\n",
       "      <th>5</th>\n",
       "      <td>[Ovarian Cancer]</td>\n",
       "    </tr>\n",
       "    <tr>\n",
       "      <th>6</th>\n",
       "      <td>[Bile Duct Cancer]</td>\n",
       "    </tr>\n",
       "    <tr>\n",
       "      <th>7</th>\n",
       "      <td>[Thyroid Cancer]</td>\n",
       "    </tr>\n",
       "    <tr>\n",
       "      <th>8</th>\n",
       "      <td>[Gastric Cancer]</td>\n",
       "    </tr>\n",
       "    <tr>\n",
       "      <th>9</th>\n",
       "      <td>[Lung Cancer]</td>\n",
       "    </tr>\n",
       "    <tr>\n",
       "      <th>10</th>\n",
       "      <td>[Head and Neck Cancer]</td>\n",
       "    </tr>\n",
       "    <tr>\n",
       "      <th>11</th>\n",
       "      <td>[Kidney Cancer]</td>\n",
       "    </tr>\n",
       "    <tr>\n",
       "      <th>12</th>\n",
       "      <td>[Bile Duct Cancer]</td>\n",
       "    </tr>\n",
       "    <tr>\n",
       "      <th>13</th>\n",
       "      <td>[Skin Cancer, Skin Cancer]</td>\n",
       "    </tr>\n",
       "    <tr>\n",
       "      <th>14</th>\n",
       "      <td>[Skin Cancer]</td>\n",
       "    </tr>\n",
       "    <tr>\n",
       "      <th>15</th>\n",
       "      <td>[Kidney Cancer]</td>\n",
       "    </tr>\n",
       "    <tr>\n",
       "      <th>16</th>\n",
       "      <td>[Lung Cancer]</td>\n",
       "    </tr>\n",
       "    <tr>\n",
       "      <th>17</th>\n",
       "      <td>[Leukemia]</td>\n",
       "    </tr>\n",
       "    <tr>\n",
       "      <th>18</th>\n",
       "      <td>[Liver Cancer]</td>\n",
       "    </tr>\n",
       "    <tr>\n",
       "      <th>19</th>\n",
       "      <td>[Brain Cancer]</td>\n",
       "    </tr>\n",
       "    <tr>\n",
       "      <th>20</th>\n",
       "      <td>[Gastric Cancer]</td>\n",
       "    </tr>\n",
       "    <tr>\n",
       "      <th>21</th>\n",
       "      <td>[Leukemia]</td>\n",
       "    </tr>\n",
       "    <tr>\n",
       "      <th>22</th>\n",
       "      <td>[Ovarian Cancer]</td>\n",
       "    </tr>\n",
       "    <tr>\n",
       "      <th>23</th>\n",
       "      <td>[Lung Cancer]</td>\n",
       "    </tr>\n",
       "    <tr>\n",
       "      <th>24</th>\n",
       "      <td>[Skin Cancer]</td>\n",
       "    </tr>\n",
       "    <tr>\n",
       "      <th>25</th>\n",
       "      <td>[Myeloma]</td>\n",
       "    </tr>\n",
       "    <tr>\n",
       "      <th>26</th>\n",
       "      <td>[Myeloma]</td>\n",
       "    </tr>\n",
       "    <tr>\n",
       "      <th>27</th>\n",
       "      <td>[Kidney Cancer]</td>\n",
       "    </tr>\n",
       "    <tr>\n",
       "      <th>28</th>\n",
       "      <td>[Gallbladder Cancer]</td>\n",
       "    </tr>\n",
       "    <tr>\n",
       "      <th>29</th>\n",
       "      <td>[Skin Cancer, Skin Cancer]</td>\n",
       "    </tr>\n",
       "  </tbody>\n",
       "</table>\n",
       "</div>"
      ],
      "text/plain": [
       "                             0\n",
       "0                   [Lymphoma]\n",
       "1                [Lung Cancer]\n",
       "2              [Kidney Cancer]\n",
       "3           [Bile Duct Cancer]\n",
       "4               [Brain Cancer]\n",
       "5             [Ovarian Cancer]\n",
       "6           [Bile Duct Cancer]\n",
       "7             [Thyroid Cancer]\n",
       "8             [Gastric Cancer]\n",
       "9                [Lung Cancer]\n",
       "10      [Head and Neck Cancer]\n",
       "11             [Kidney Cancer]\n",
       "12          [Bile Duct Cancer]\n",
       "13  [Skin Cancer, Skin Cancer]\n",
       "14               [Skin Cancer]\n",
       "15             [Kidney Cancer]\n",
       "16               [Lung Cancer]\n",
       "17                  [Leukemia]\n",
       "18              [Liver Cancer]\n",
       "19              [Brain Cancer]\n",
       "20            [Gastric Cancer]\n",
       "21                  [Leukemia]\n",
       "22            [Ovarian Cancer]\n",
       "23               [Lung Cancer]\n",
       "24               [Skin Cancer]\n",
       "25                   [Myeloma]\n",
       "26                   [Myeloma]\n",
       "27             [Kidney Cancer]\n",
       "28        [Gallbladder Cancer]\n",
       "29  [Skin Cancer, Skin Cancer]"
      ]
     },
     "execution_count": 223,
     "metadata": {},
     "output_type": "execute_result"
    }
   ],
   "source": [
    "dependency_product('CDK4','CDK6')[60:90]\n",
    "\n",
    "p_values.append([a,b,corr,mut,p_value_sum,p_value_diff,])\n",
    "result = pd.DataFrame(p_values)\n",
    "result.to_csv('hypergeometric_p_values_new.csv')"
   ]
  },
  {
   "cell_type": "code",
   "execution_count": 214,
   "metadata": {},
   "outputs": [
    {
     "data": {
      "text/plain": [
       "[array(['Bile Duct Cancer'], dtype=object)]"
      ]
     },
     "execution_count": 214,
     "metadata": {},
     "output_type": "execute_result"
    }
   ],
   "source": [
    "[data[data['CCLE_Name'].str.match('ICC15')]['primary_disease'].values]"
   ]
  },
  {
   "cell_type": "code",
   "execution_count": null,
   "metadata": {},
   "outputs": [],
   "source": []
  },
  {
   "cell_type": "code",
   "execution_count": 145,
   "metadata": {},
   "outputs": [
    {
     "data": {
      "text/plain": [
       "INDEX\n",
       "ICC15        0.581190\n",
       "JHOS4        0.614906\n",
       "PACADD137    0.628592\n",
       "NCIH727      0.643749\n",
       "EFM19        0.694779\n",
       "COLO792      0.704506\n",
       "SG231        0.764649\n",
       "SW837        0.772000\n",
       "HCC1428      0.986079\n",
       "UACC62            NaN\n",
       "dtype: float64"
      ]
     },
     "execution_count": 145,
     "metadata": {},
     "output_type": "execute_result"
    }
   ],
   "source": [
    "dependency_product('NF2','CDK4')"
   ]
  },
  {
   "cell_type": "code",
   "execution_count": 143,
   "metadata": {
    "collapsed": true,
    "jupyter": {
     "outputs_hidden": true
    }
   },
   "outputs": [
    {
     "name": "stdout",
     "output_type": "stream",
     "text": [
      "INDEX\n",
      "PLCPRF5     0.086489\n",
      "HCC827      0.095728\n",
      "CASKI       0.097929\n",
      "RHJT        0.154865\n",
      "MIAPACA2    0.166192\n",
      "SG231       0.180023\n",
      "RH28        0.244061\n",
      "SW620       0.314513\n",
      "D283MED     0.330983\n",
      "UACC62           NaN\n",
      "dtype: float64\n",
      "INDEX\n",
      "SG231       0.010266\n",
      "RHJT        0.014160\n",
      "D283MED     0.016214\n",
      "NCIH2052    0.019378\n",
      "EMTOKA      0.021873\n",
      "KYSE450     0.022899\n",
      "COLO678     0.025695\n",
      "SNU503      0.046652\n",
      "RH28        0.118459\n",
      "UACC62           NaN\n",
      "dtype: float64\n",
      "INDEX\n",
      "NCIH1092     0.045431\n",
      "PANC1        0.049259\n",
      "NCIH727      0.060510\n",
      "RHJT         0.105773\n",
      "RERFLCAD1    0.136818\n",
      "D283MED      0.138231\n",
      "ICC15        0.172842\n",
      "RH28         0.197329\n",
      "SCMCRM2      0.372260\n",
      "UACC62            NaN\n",
      "dtype: float64\n",
      "INDEX\n",
      "TC138      0.225725\n",
      "ICC106     0.250253\n",
      "COLO792    0.307955\n",
      "ICC15      0.345494\n",
      "SKMEL19    0.413476\n",
      "CASKI      0.447787\n",
      "RHJT       0.499351\n",
      "JHOS4      0.623121\n",
      "SF268      0.667353\n",
      "UACC62          NaN\n",
      "dtype: float64\n",
      "INDEX\n",
      "SF268      0.003046\n",
      "EFM19      0.003086\n",
      "RHJT       0.003095\n",
      "S117       0.003373\n",
      "OCIM2      0.006530\n",
      "ICC106     0.007384\n",
      "HCC15      0.007741\n",
      "LS         0.023132\n",
      "SUM52PE    0.025223\n",
      "UACC62          NaN\n",
      "dtype: float64\n",
      "INDEX\n",
      "HCC827      0.002667\n",
      "KO52        0.002748\n",
      "SF268       0.003815\n",
      "MONOMAC1    0.004556\n",
      "D283MED     0.005741\n",
      "RH18DM      0.012011\n",
      "HCC15       0.015518\n",
      "SNU503      0.022498\n",
      "HCC1954     0.078551\n",
      "UACC62           NaN\n",
      "dtype: float64\n",
      "INDEX\n",
      "SW948      0.002199\n",
      "SCMCRM2    0.002479\n",
      "SNU503     0.002564\n",
      "COLO678    0.002600\n",
      "KLE        0.002865\n",
      "NCIH446    0.003435\n",
      "VMRCRCW    0.003565\n",
      "HCC1187    0.008958\n",
      "SUM52PE    0.033187\n",
      "UACC62          NaN\n",
      "dtype: float64\n",
      "INDEX\n",
      "NCIH1703    0.644340\n",
      "SMSCTR      0.655590\n",
      "MELJUSO     0.658159\n",
      "SF268       0.688582\n",
      "SW837       0.700740\n",
      "JR          0.733338\n",
      "COLO792     0.734055\n",
      "SG231       0.768534\n",
      "KYSE450     0.913296\n",
      "UACC62           NaN\n",
      "dtype: float64\n",
      "INDEX\n",
      "JHOS4       0.106438\n",
      "KYSE450     0.112411\n",
      "CME1        0.115238\n",
      "SCMCRM2     0.131746\n",
      "MIAPACA2    0.173405\n",
      "EBC1        0.228913\n",
      "COLO792     0.233630\n",
      "UMUC16      0.316557\n",
      "NCIH1703    0.506577\n",
      "UACC62           NaN\n",
      "dtype: float64\n",
      "INDEX\n",
      "T3M4         0.282811\n",
      "YAPC         0.309295\n",
      "ICC15        0.384118\n",
      "HS695T       0.394643\n",
      "HCC827GR5    0.396652\n",
      "MELJUSO      0.454677\n",
      "SW837        0.503428\n",
      "COLO792      0.628345\n",
      "HCC1428      0.764678\n",
      "UACC62            NaN\n",
      "dtype: float64\n",
      "INDEX\n",
      "CAL27        0.119388\n",
      "SUIT2        0.119969\n",
      "GCIY         0.145875\n",
      "OAW28        0.210996\n",
      "MELJUSO      0.263475\n",
      "HCC827GR5    0.323835\n",
      "CASKI        0.344494\n",
      "NCIH1703     0.357279\n",
      "HCC1187      0.432496\n",
      "UACC62            NaN\n",
      "dtype: float64\n"
     ]
    }
   ],
   "source": [
    "for _ in uli_list2:\n",
    "    print(dependency_product(_[0],_[1]))"
   ]
  },
  {
   "cell_type": "code",
   "execution_count": 103,
   "metadata": {},
   "outputs": [],
   "source": [
    "uli_list2 = [['NF2','AMOTL2'],['NF2','KIRREL1'],['NF2','TAOK1'],['NF2','LATS2'],['NF2','PTPN14'],['NF2','PTEN'],\n",
    "             ['NF2','ABL2'],['NF2','RAC1'],['NF2','CRK'],['NF2','DLG5'],['NF2','PKN2']]"
   ]
  },
  {
   "cell_type": "code",
   "execution_count": null,
   "metadata": {},
   "outputs": [],
   "source": []
  },
  {
   "cell_type": "code",
   "execution_count": null,
   "metadata": {},
   "outputs": [],
   "source": []
  },
  {
   "cell_type": "code",
   "execution_count": null,
   "metadata": {},
   "outputs": [],
   "source": []
  },
  {
   "cell_type": "code",
   "execution_count": null,
   "metadata": {},
   "outputs": [],
   "source": []
  },
  {
   "cell_type": "code",
   "execution_count": null,
   "metadata": {},
   "outputs": [],
   "source": []
  },
  {
   "cell_type": "code",
   "execution_count": 30,
   "metadata": {},
   "outputs": [],
   "source": [
    "allGenes = allGenes.transpose()"
   ]
  },
  {
   "cell_type": "code",
   "execution_count": 32,
   "metadata": {},
   "outputs": [
    {
     "data": {
      "text/plain": [
       "(769, 4)"
      ]
     },
     "execution_count": 32,
     "metadata": {},
     "output_type": "execute_result"
    }
   ],
   "source": [
    "allGenes.shape"
   ]
  },
  {
   "cell_type": "code",
   "execution_count": 197,
   "metadata": {
    "collapsed": true,
    "jupyter": {
     "outputs_hidden": true
    }
   },
   "outputs": [
    {
     "name": "stdout",
     "output_type": "stream",
     "text": [
      "a is    ['RDES', 'IGR39', 'C32', 'HSC2', 'RVH421', 'MDAMB453', 'JHH5', 'U118MG', 'HGC27', 'OVTOKO', 'OCIAML3', 'CAKI2', 'ICC8', 'THP1', 'MELHO', 'KMM1', 'NCIH2052', 'RPMI8226', 'NCIH1573', 'HS852T', 'SNU1544', 'VCAP', 'RCC10RGB', 'NCIH2887', 'HEL9217', 'MDAMB415', 'HCC1419', 'AML193', 'SNU308', 'DB']\n",
      "c is    ['OS252', 'MCC26', 'HEC251', 'LN319', 'ISHIKAWAHERAKLIO02ER', 'CME1', '5637', 'DU4475', 'SW756', 'UMUC7', 'MPP89', 'EMTOKA', 'CAOV3', 'NCIH82', 'KMBC2', 'NCIH2110', 'NCO2', 'KYSE270', 'CORL47', 'ESS1', 'Y79', 'MDAMB436', 'SNU1033', 'UW228', 'OAW28', 'NCIH1155', 'SNU626', 'KLE', 'JHUEM1', 'OVMANA']\n",
      "-0.16613825118828093\n"
     ]
    }
   ],
   "source": [
    "\n",
    "sign = quick_corr(col_a,col_b)\n",
    "\n",
    "if sign < 0:\n",
    "    a,b,c,d = process_summ(col_a,col_b)\n",
    "else:\n",
    "    a,b,c,d = process_diff(col_a,col_b)\n",
    "print('a is   ', a)\n",
    "print('c is   ', c)\n",
    "print(sign)"
   ]
  },
  {
   "cell_type": "code",
   "execution_count": 196,
   "metadata": {},
   "outputs": [],
   "source": [
    "col_a = 'CDK4'\n",
    "col_b = 'CDK6'\n",
    "\n",
    "\n",
    "def quick_corr(a,b):\n",
    "    nas = np.logical_or(np.isnan(effect[a]), np.isnan(effect[b]))\n",
    "    corr = pearsonr(effect[a][~nas], effect[b][~nas])\n",
    "    return corr[0]"
   ]
  },
  {
   "cell_type": "code",
   "execution_count": 133,
   "metadata": {
    "collapsed": true,
    "jupyter": {
     "outputs_hidden": true
    }
   },
   "outputs": [
    {
     "data": {
      "text/plain": [
       "numpy.float64"
      ]
     },
     "execution_count": 133,
     "metadata": {},
     "output_type": "execute_result"
    }
   ],
   "source": [
    "test = quick_corr('CDK4','CDKN2C')\n",
    "type(test)"
   ]
  },
  {
   "cell_type": "code",
   "execution_count": 61,
   "metadata": {},
   "outputs": [],
   "source": [
    "uli_list1 = [['CDK4','RB1'],\n",
    "['CDK4','CDKN2C'],\n",
    "['CDK4','CCND1'],\n",
    "['CDK6','CCND3'],\n",
    "['CDK6','CCNE1'],\n",
    "['CDK6','CDK4'],\n",
    "['CDKN2A','CDKN2B'],\n",
    "['CDKN2A','CCNE1']]\n",
    "\n",
    "\n",
    "uli_list2 = [['NF2','AMOTL2'],\n",
    "['NF2','KIRREL1'],\n",
    "['NF2','TAOK1'],\n",
    "['NF2','LATS2'],\n",
    "['NF2','PTPN14'],\n",
    "['NF2','PTEN'],\n",
    "['NF2','ABL2'],\n",
    "['NF2','RAC1'],\n",
    "['NF2','CRK'],    \n",
    "['NF2','DLG5'],\n",
    "['NF2','PKN2']]"
   ]
  },
  {
   "cell_type": "code",
   "execution_count": 2,
   "metadata": {},
   "outputs": [],
   "source": [
    "uli_list = [['CDK4','RB1'],['CDK4','CDKN2C'],['CDK4','CCND1'],['CDK6','CCND3'],['CDK6','CCNE1'],['CDK6','CDK4'],['CDKN2A','CDKN2B'],\n",
    "['CDKN2A','CCNE1'],['NF2','AMOTL2'],['NF2','KIRREL1'],['NF2','TAOK1'],['NF2','LATS2'],['NF2','PTPN14'],['NF2','PTEN'],['NF2','ABL2'],['NF2','RAC1'],['NF2','CRK'],['NF2','DLG5'],['NF2','PKN2']]"
   ]
  },
  {
   "cell_type": "code",
   "execution_count": 226,
   "metadata": {},
   "outputs": [],
   "source": [
    "column_names_uli_list = ['CDK4/RB1','CDK4/CDKN2C','CDK4/CCND1','CDK6/CCND3','CDK6/CCNE1','CDK6/CDK4','CDKN2A/CDKN2B',\n",
    "'CDKN2A/CCNE1','NF2/AMOTL2','NF2/KIRREL1','NF2/TAOK1','NF2/LATS2','NF2/PTPN14','NF2/PTEN','NF2/ABL2','NF2/RAC1','NF2/CRK','NF2/DLG5','NF2/PKN2']"
   ]
  },
  {
   "cell_type": "code",
   "execution_count": 36,
   "metadata": {},
   "outputs": [
    {
     "data": {
      "text/plain": [
       "4"
      ]
     },
     "execution_count": 36,
     "metadata": {},
     "output_type": "execute_result"
    }
   ],
   "source": [
    "allGenesSet = set(allGenes.columns)\n",
    "group2 = allGenesSet.difference(set(a))\n",
    "\n",
    "len(group2)"
   ]
  },
  {
   "cell_type": "code",
   "execution_count": 37,
   "metadata": {},
   "outputs": [],
   "source": [
    "allGenes.columns = group2"
   ]
  },
  {
   "cell_type": "code",
   "execution_count": 38,
   "metadata": {},
   "outputs": [
    {
     "data": {
      "text/html": [
       "<div>\n",
       "<style scoped>\n",
       "    .dataframe tbody tr th:only-of-type {\n",
       "        vertical-align: middle;\n",
       "    }\n",
       "\n",
       "    .dataframe tbody tr th {\n",
       "        vertical-align: top;\n",
       "    }\n",
       "\n",
       "    .dataframe thead th {\n",
       "        text-align: right;\n",
       "    }\n",
       "</style>\n",
       "<table border=\"1\" class=\"dataframe\">\n",
       "  <thead>\n",
       "    <tr style=\"text-align: right;\">\n",
       "      <th></th>\n",
       "      <th>NOMO1</th>\n",
       "      <th>HLF</th>\n",
       "      <th>F5</th>\n",
       "      <th>GSS</th>\n",
       "    </tr>\n",
       "  </thead>\n",
       "  <tbody>\n",
       "    <tr>\n",
       "      <th>HEL</th>\n",
       "      <td>0.120775</td>\n",
       "      <td>-0.203970</td>\n",
       "      <td>-0.119021</td>\n",
       "      <td>0.180186</td>\n",
       "    </tr>\n",
       "    <tr>\n",
       "      <th>HEL9217</th>\n",
       "      <td>0.223415</td>\n",
       "      <td>0.024702</td>\n",
       "      <td>0.057774</td>\n",
       "      <td>0.073009</td>\n",
       "    </tr>\n",
       "    <tr>\n",
       "      <th>LS513</th>\n",
       "      <td>-0.128387</td>\n",
       "      <td>0.204541</td>\n",
       "      <td>-0.196374</td>\n",
       "      <td>-0.004085</td>\n",
       "    </tr>\n",
       "    <tr>\n",
       "      <th>C2BBE1</th>\n",
       "      <td>0.141530</td>\n",
       "      <td>0.140602</td>\n",
       "      <td>-0.183496</td>\n",
       "      <td>0.201238</td>\n",
       "    </tr>\n",
       "    <tr>\n",
       "      <th>253J</th>\n",
       "      <td>-0.062784</td>\n",
       "      <td>0.247899</td>\n",
       "      <td>-0.040568</td>\n",
       "      <td>0.102339</td>\n",
       "    </tr>\n",
       "  </tbody>\n",
       "</table>\n",
       "</div>"
      ],
      "text/plain": [
       "            NOMO1       HLF        F5       GSS\n",
       "HEL      0.120775 -0.203970 -0.119021  0.180186\n",
       "HEL9217  0.223415  0.024702  0.057774  0.073009\n",
       "LS513   -0.128387  0.204541 -0.196374 -0.004085\n",
       "C2BBE1   0.141530  0.140602 -0.183496  0.201238\n",
       "253J    -0.062784  0.247899 -0.040568  0.102339"
      ]
     },
     "execution_count": 38,
     "metadata": {},
     "output_type": "execute_result"
    }
   ],
   "source": [
    "allGenes.head()"
   ]
  },
  {
   "cell_type": "markdown",
   "metadata": {},
   "source": [
    "*    M is the population size\n",
    "*    n is the number of successes in the population\n",
    "*    N is the sample size\n",
    "*    X is still the number of drawn “successes”\n",
    "\n",
    "pval = hypergeom.sf(4, 783, 121, 20)\n",
    "pval"
   ]
  },
  {
   "cell_type": "code",
   "execution_count": null,
   "metadata": {},
   "outputs": [],
   "source": [
    "from scipy.stats import hypergeom\n",
    "pval = hypergeom.sf(x-1, M, n, N)\n",
    "(x-1,783,totalhits,20)"
   ]
  },
  {
   "cell_type": "code",
   "execution_count": 80,
   "metadata": {},
   "outputs": [
    {
     "data": {
      "text/plain": [
       "1.8349602035035028e-07"
      ]
     },
     "execution_count": 80,
     "metadata": {},
     "output_type": "execute_result"
    }
   ],
   "source": [
    "from scipy.stats import hypergeom\n",
    "pval = hypergeom.sf(12-1, 18000, 2000, 20)\n",
    "pval"
   ]
  },
  {
   "cell_type": "code",
   "execution_count": 33,
   "metadata": {},
   "outputs": [
    {
     "data": {
      "text/plain": [
       "769"
      ]
     },
     "execution_count": 33,
     "metadata": {},
     "output_type": "execute_result"
    }
   ],
   "source": [
    "#hits = count / len(sample)   - it's just count\n",
    "# totalCount\n",
    "len(allGenes.index.to_list())"
   ]
  },
  {
   "cell_type": "code",
   "execution_count": 108,
   "metadata": {},
   "outputs": [
    {
     "data": {
      "text/plain": [
       "0.1835365353530391"
      ]
     },
     "execution_count": 108,
     "metadata": {},
     "output_type": "execute_result"
    }
   ],
   "source": [
    "pval = hypergeom.sf(4, 783, 121, 20)\n",
    "pval"
   ]
  },
  {
   "cell_type": "code",
   "execution_count": 236,
   "metadata": {},
   "outputs": [],
   "source": [
    "def get_hypergeometric_p_value(count,totalCount,sample_size=30):\n",
    "    count = count - 1\n",
    "    pval = hypergeom.sf(count, 783, totalCount, sample_size)\n",
    " #  (x-1,783,totalhits,20)\n",
    "    return pval"
   ]
  },
  {
   "cell_type": "code",
   "execution_count": 238,
   "metadata": {},
   "outputs": [],
   "source": [
    "def get_hypergeometric_p_values(t1,t2,b1,b2,sample_size=30):\n",
    "    t1 = t1 - 1\n",
    "    b1 = b1 - 1    \n",
    "    pval1 = hypergeom.sf(t1, 783, t2, sample_size)\n",
    "    pval2 = hypergeom.sf(b1, 783, b2, sample_size)\n",
    "\n",
    "    return [pval1,pval2]"
   ]
  },
  {
   "cell_type": "code",
   "execution_count": 121,
   "metadata": {},
   "outputs": [
    {
     "data": {
      "text/plain": [
       "0.1835365353530391"
      ]
     },
     "execution_count": 121,
     "metadata": {},
     "output_type": "execute_result"
    }
   ],
   "source": [
    "sample_size = len(top)\n",
    "get_hypergeometric_p_values(count,totalCount,sample_size)"
   ]
  },
  {
   "cell_type": "markdown",
   "metadata": {},
   "source": [
    "### functions i need: \n",
    "   * celllines from diffs + splitting function\n",
    "   * get_hypergeometric_p_values\n",
    "   * np.sort, or df.sort_by() after converting to DataFrame"
   ]
  },
  {
   "cell_type": "code",
   "execution_count": 148,
   "metadata": {},
   "outputs": [
    {
     "data": {
      "text/html": [
       "<div>\n",
       "<style scoped>\n",
       "    .dataframe tbody tr th:only-of-type {\n",
       "        vertical-align: middle;\n",
       "    }\n",
       "\n",
       "    .dataframe tbody tr th {\n",
       "        vertical-align: top;\n",
       "    }\n",
       "\n",
       "    .dataframe thead th {\n",
       "        text-align: right;\n",
       "    }\n",
       "</style>\n",
       "<table border=\"1\" class=\"dataframe\">\n",
       "  <thead>\n",
       "    <tr style=\"text-align: right;\">\n",
       "      <th></th>\n",
       "      <th>CCLE_NAME</th>\n",
       "      <th>TISSUE_FACTOR</th>\n",
       "      <th>MSI</th>\n",
       "      <th>ACVR1B_mut_del</th>\n",
       "      <th>APC_mut_del</th>\n",
       "      <th>ARID1A_mut_del</th>\n",
       "      <th>ATM_mut_del</th>\n",
       "      <th>ATRX_mut_del</th>\n",
       "      <th>AXIN1_mut_del</th>\n",
       "      <th>BAP1_mut_del</th>\n",
       "      <th>...</th>\n",
       "      <th>PIK3CA_mut</th>\n",
       "      <th>BRAF_mut</th>\n",
       "      <th>CTNNB1_mut</th>\n",
       "      <th>KRAS_mut</th>\n",
       "      <th>NRAS_mut</th>\n",
       "      <th>GNAS_mut</th>\n",
       "      <th>HRAS_mut</th>\n",
       "      <th>EGFR_mut</th>\n",
       "      <th>MAP2K1_mut</th>\n",
       "      <th>PTPN11_mut</th>\n",
       "    </tr>\n",
       "  </thead>\n",
       "  <tbody>\n",
       "    <tr>\n",
       "      <th>0</th>\n",
       "      <td>MOLM16_HAEMATOPOIETIC_AND_LYMPHOID_TISSUE</td>\n",
       "      <td>HAEMATOPOIETIC_AND_LYMPHOID_TISSUE</td>\n",
       "      <td>0</td>\n",
       "      <td>0</td>\n",
       "      <td>0</td>\n",
       "      <td>0</td>\n",
       "      <td>0</td>\n",
       "      <td>0</td>\n",
       "      <td>0</td>\n",
       "      <td>0</td>\n",
       "      <td>...</td>\n",
       "      <td>0</td>\n",
       "      <td>0</td>\n",
       "      <td>0</td>\n",
       "      <td>0</td>\n",
       "      <td>0</td>\n",
       "      <td>0</td>\n",
       "      <td>0</td>\n",
       "      <td>0</td>\n",
       "      <td>0</td>\n",
       "      <td>0</td>\n",
       "    </tr>\n",
       "    <tr>\n",
       "      <th>1</th>\n",
       "      <td>PATU8988S_PANCREAS</td>\n",
       "      <td>PANCREAS</td>\n",
       "      <td>0</td>\n",
       "      <td>0</td>\n",
       "      <td>0</td>\n",
       "      <td>0</td>\n",
       "      <td>1</td>\n",
       "      <td>0</td>\n",
       "      <td>0</td>\n",
       "      <td>0</td>\n",
       "      <td>...</td>\n",
       "      <td>0</td>\n",
       "      <td>0</td>\n",
       "      <td>0</td>\n",
       "      <td>1</td>\n",
       "      <td>0</td>\n",
       "      <td>0</td>\n",
       "      <td>0</td>\n",
       "      <td>0</td>\n",
       "      <td>0</td>\n",
       "      <td>0</td>\n",
       "    </tr>\n",
       "    <tr>\n",
       "      <th>2</th>\n",
       "      <td>RCHACV_HAEMATOPOIETIC_AND_LYMPHOID_TISSUE</td>\n",
       "      <td>HAEMATOPOIETIC_AND_LYMPHOID_TISSUE</td>\n",
       "      <td>0</td>\n",
       "      <td>1</td>\n",
       "      <td>0</td>\n",
       "      <td>0</td>\n",
       "      <td>0</td>\n",
       "      <td>0</td>\n",
       "      <td>0</td>\n",
       "      <td>0</td>\n",
       "      <td>...</td>\n",
       "      <td>0</td>\n",
       "      <td>0</td>\n",
       "      <td>0</td>\n",
       "      <td>1</td>\n",
       "      <td>0</td>\n",
       "      <td>0</td>\n",
       "      <td>0</td>\n",
       "      <td>0</td>\n",
       "      <td>0</td>\n",
       "      <td>0</td>\n",
       "    </tr>\n",
       "    <tr>\n",
       "      <th>3</th>\n",
       "      <td>SKMEL31_SKIN</td>\n",
       "      <td>SKIN</td>\n",
       "      <td>0</td>\n",
       "      <td>0</td>\n",
       "      <td>0</td>\n",
       "      <td>0</td>\n",
       "      <td>1</td>\n",
       "      <td>0</td>\n",
       "      <td>0</td>\n",
       "      <td>0</td>\n",
       "      <td>...</td>\n",
       "      <td>0</td>\n",
       "      <td>1</td>\n",
       "      <td>0</td>\n",
       "      <td>0</td>\n",
       "      <td>0</td>\n",
       "      <td>0</td>\n",
       "      <td>0</td>\n",
       "      <td>0</td>\n",
       "      <td>0</td>\n",
       "      <td>0</td>\n",
       "    </tr>\n",
       "    <tr>\n",
       "      <th>4</th>\n",
       "      <td>SKBR3_BREAST</td>\n",
       "      <td>BREAST</td>\n",
       "      <td>0</td>\n",
       "      <td>0</td>\n",
       "      <td>0</td>\n",
       "      <td>0</td>\n",
       "      <td>0</td>\n",
       "      <td>0</td>\n",
       "      <td>0</td>\n",
       "      <td>1</td>\n",
       "      <td>...</td>\n",
       "      <td>0</td>\n",
       "      <td>0</td>\n",
       "      <td>0</td>\n",
       "      <td>0</td>\n",
       "      <td>0</td>\n",
       "      <td>0</td>\n",
       "      <td>0</td>\n",
       "      <td>0</td>\n",
       "      <td>0</td>\n",
       "      <td>0</td>\n",
       "    </tr>\n",
       "  </tbody>\n",
       "</table>\n",
       "<p>5 rows × 71 columns</p>\n",
       "</div>"
      ],
      "text/plain": [
       "                                   CCLE_NAME  \\\n",
       "0  MOLM16_HAEMATOPOIETIC_AND_LYMPHOID_TISSUE   \n",
       "1                         PATU8988S_PANCREAS   \n",
       "2  RCHACV_HAEMATOPOIETIC_AND_LYMPHOID_TISSUE   \n",
       "3                               SKMEL31_SKIN   \n",
       "4                               SKBR3_BREAST   \n",
       "\n",
       "                        TISSUE_FACTOR  MSI  ACVR1B_mut_del  APC_mut_del  \\\n",
       "0  HAEMATOPOIETIC_AND_LYMPHOID_TISSUE    0               0            0   \n",
       "1                            PANCREAS    0               0            0   \n",
       "2  HAEMATOPOIETIC_AND_LYMPHOID_TISSUE    0               1            0   \n",
       "3                                SKIN    0               0            0   \n",
       "4                              BREAST    0               0            0   \n",
       "\n",
       "   ARID1A_mut_del  ATM_mut_del  ATRX_mut_del  AXIN1_mut_del  BAP1_mut_del  \\\n",
       "0               0            0             0              0             0   \n",
       "1               0            1             0              0             0   \n",
       "2               0            0             0              0             0   \n",
       "3               0            1             0              0             0   \n",
       "4               0            0             0              0             1   \n",
       "\n",
       "   ...  PIK3CA_mut  BRAF_mut  CTNNB1_mut  KRAS_mut  NRAS_mut  GNAS_mut  \\\n",
       "0  ...           0         0           0         0         0         0   \n",
       "1  ...           0         0           0         1         0         0   \n",
       "2  ...           0         0           0         1         0         0   \n",
       "3  ...           0         1           0         0         0         0   \n",
       "4  ...           0         0           0         0         0         0   \n",
       "\n",
       "   HRAS_mut  EGFR_mut  MAP2K1_mut  PTPN11_mut  \n",
       "0         0         0           0           0  \n",
       "1         0         0           0           0  \n",
       "2         0         0           0           0  \n",
       "3         0         0           0           0  \n",
       "4         0         0           0           0  \n",
       "\n",
       "[5 rows x 71 columns]"
      ]
     },
     "execution_count": 148,
     "metadata": {},
     "output_type": "execute_result"
    }
   ],
   "source": [
    "data.head()"
   ]
  },
  {
   "cell_type": "code",
   "execution_count": 171,
   "metadata": {},
   "outputs": [
    {
     "name": "stdout",
     "output_type": "stream",
     "text": [
      "first is top, second is bottom\n"
     ]
    }
   ],
   "source": [
    "t1,t2,b1,b2,gene_a,gene_b = celllines_from_diff('CDK4','CDKN2C')"
   ]
  },
  {
   "cell_type": "code",
   "execution_count": 156,
   "metadata": {},
   "outputs": [
    {
     "data": {
      "text/plain": [
       "0.49533812655326986"
      ]
     },
     "execution_count": 156,
     "metadata": {},
     "output_type": "execute_result"
    }
   ],
   "source": [
    "\n",
    "\n",
    "#get_hypergeometric_p_values(counting_hits(cellines_from_diff(GENE1,GENE2),'MUTATION'))\n",
    "\n",
    "get_hypergeometric_p_values(1,26)"
   ]
  },
  {
   "cell_type": "markdown",
   "metadata": {},
   "source": [
    "## All the functions combined"
   ]
  },
  {
   "cell_type": "code",
   "execution_count": 195,
   "metadata": {},
   "outputs": [
    {
     "name": "stdout",
     "output_type": "stream",
     "text": [
      "for genes  NF2  and  CRK the hypergeometric p value that either top or bottom are enriched in  CTNNB1_mut  is \n"
     ]
    },
    {
     "data": {
      "text/plain": [
       "[1.0, 0.040567230594045746]"
      ]
     },
     "execution_count": 195,
     "metadata": {},
     "output_type": "execute_result"
    }
   ],
   "source": [
    "#len(uli_list) = 19\n",
    "a,b = uli_list[16]\n",
    "mut = \"CTNNB1_mut\"\n",
    "t1,t2,b1,b2,gene_a,gene_b = celllines_from_diff(a,b)\n",
    "top1,top2,bot1,bot2 = counting_hits(t1,t2,b1,b2,mut)\n",
    "print('for genes ', a, ' and ', b, 'the hypergeometric p value that either top or bottom are enriched in ', mut, ' is ')\n",
    "get_hypergeometric_p_values2(top1,top2,bot1,bot2)"
   ]
  },
  {
   "cell_type": "code",
   "execution_count": 250,
   "metadata": {},
   "outputs": [
    {
     "name": "stdout",
     "output_type": "stream",
     "text": [
      "for genes  CDKN2A  and  CDKN2B the hypergeometric p value that either top or bottom are enriched in  TP53_mut_del  is \n"
     ]
    },
    {
     "data": {
      "text/plain": [
       "[0.9894885815375278, 0.0]"
      ]
     },
     "execution_count": 250,
     "metadata": {},
     "output_type": "execute_result"
    }
   ],
   "source": [
    "a,b = uli_list[6]\n",
    "mut = \"TP53_mut_del\"\n",
    "t1,t2,b1,b2,gene_a,gene_b = celllines_from_diff(a,b)\n",
    "top1,top2,bot1,bot2 = counting_hits(t1,t2,b1,b2,mut)\n",
    "print('for genes ', a, ' and ', b, 'the hypergeometric p value that either top or bottom are enriched in ', mut, ' is ')\n",
    "get_hypergeometric_p_values2(top1,top2,bot1,bot2)"
   ]
  },
  {
   "cell_type": "code",
   "execution_count": 213,
   "metadata": {},
   "outputs": [],
   "source": [
    "p_values = []\n",
    "#len(uli_list) = 19\n",
    "# for all 68 background in second loop\n",
    "#now only the (sensible) cuttoff matters\n",
    "for _ in uli_list:\n",
    "    a,b = _\n",
    "    mut = \"CTNNB1_mut\"\n",
    "    t1,t2,b1,b2,gene_a,gene_b = celllines_from_diff(a,b)\n",
    "    top1,top2,bot1,bot2 = counting_hits(t1,t2,b1,b2,mut)\n",
    "    #print('for genes ', a, ' and ', b, 'the hypergeometric p value that either top or bottom are enriched in ', mut, ' is ')\n",
    "    #print(get_hypergeometric_p_values2(top1,top2,bot1,bot2))\n",
    "    p_value = get_hypergeometric_p_values2(top1,top2,bot1,bot2)\n",
    "    p_values.append(p_value)"
   ]
  },
  {
   "cell_type": "code",
   "execution_count": 244,
   "metadata": {},
   "outputs": [],
   "source": [
    "#len(uli_list) = 19\n",
    "for _ in uli_list:\n",
    "    a,b = _\n",
    "    mut = \"TP53_mut_del\"\n",
    "    t1,t2,b1,b2,gene_a,gene_b = celllines_from_diff(a,b)\n",
    "    top1,top2,bot1,bot2 = counting_hits(t1,t2,b1,b2,mut)\n",
    "    #print('for genes ', a, ' and ', b, 'the hypergeometric p value that either top or bottom are enriched in ', mut, ' is ')\n",
    "    #print(get_hypergeometric_p_values2(top1,top2,bot1,bot2))\n",
    "    p_value = get_hypergeometric_p_values2(top1,top2,bot1,bot2)\n",
    "    p_values.append(p_value)"
   ]
  },
  {
   "cell_type": "code",
   "execution_count": 245,
   "metadata": {
    "collapsed": true,
    "jupyter": {
     "outputs_hidden": true
    }
   },
   "outputs": [
    {
     "data": {
      "text/plain": [
       "[[1.0, 1.0],\n",
       " [0.5587322149719652, 1.0],\n",
       " [1.0, 0.5587322149719652],\n",
       " [1.0, 0.0062588162151182404],\n",
       " [1.0, 0.5587322149719652],\n",
       " [0.5587322149719652, 0.5587322149719652],\n",
       " [1.0, 0.18549070512557464],\n",
       " [1.0, 1.0],\n",
       " [0.18549070512557464, 1.0],\n",
       " [1.0, 1.0],\n",
       " [0.5587322149719652, 1.0],\n",
       " [1.0, 0.5587322149719652],\n",
       " [1.0, 0.5587322149719652],\n",
       " [0.5587322149719652, 0.18549070512557464],\n",
       " [1.0, 1.0],\n",
       " [1.0, 1.0],\n",
       " [1.0, 0.040567230594045746],\n",
       " [1.0, 1.0],\n",
       " [1.0, 1.0],\n",
       " [0.9894885815375278, 0.8278442245423387],\n",
       " [0.17739518110672173, 0.6874907961842894],\n",
       " [0.99716415167591, 0.9191909141654295],\n",
       " [0.9191909141654295, 0.07742640312202885],\n",
       " [0.6874907961842894, 0.5105716062275819],\n",
       " [0.026079982768720613, 0.5105716062275819],\n",
       " [0.9894885815375278, 0.0],\n",
       " [0.9680495669027778, 0.0],\n",
       " [0.5105716062275819, 0.5105716062275819],\n",
       " [0.9680495669027778, 0.9680495669027778],\n",
       " [0.6874907961842894, 0.17739518110672173],\n",
       " [0.9191909141654295, 0.07742640312202885],\n",
       " [0.99716415167591, 0.6874907961842894],\n",
       " [0.9191909141654295, 0.6874907961842894],\n",
       " [0.9191909141654295, 0.6874907961842894],\n",
       " [0.9680495669027778, 0.3286084587305589],\n",
       " [0.9680495669027778, 0.17739518110672173],\n",
       " [0.99716415167591, 0.5105716062275819],\n",
       " [0.99716415167591, 0.026079982768720613]]"
      ]
     },
     "execution_count": 245,
     "metadata": {},
     "output_type": "execute_result"
    }
   ],
   "source": [
    "p_values"
   ]
  },
  {
   "cell_type": "code",
   "execution_count": 247,
   "metadata": {},
   "outputs": [
    {
     "data": {
      "text/plain": [
       "['CDKN2A', 'CDKN2B']"
      ]
     },
     "execution_count": 247,
     "metadata": {},
     "output_type": "execute_result"
    }
   ],
   "source": [
    "uli_list[6]"
   ]
  },
  {
   "cell_type": "code",
   "execution_count": 248,
   "metadata": {},
   "outputs": [
    {
     "data": {
      "text/plain": [
       "['CDKN2A', 'CCNE1']"
      ]
     },
     "execution_count": 248,
     "metadata": {},
     "output_type": "execute_result"
    }
   ],
   "source": [
    "uli_list[7]"
   ]
  },
  {
   "cell_type": "code",
   "execution_count": 105,
   "metadata": {},
   "outputs": [
    {
     "data": {
      "text/plain": [
       "1292"
      ]
     },
     "execution_count": 105,
     "metadata": {},
     "output_type": "execute_result"
    }
   ],
   "source": [
    "19*68"
   ]
  },
  {
   "cell_type": "markdown",
   "metadata": {},
   "source": [
    "now that we potentially have all the p-values for all pairs and all conditions,\n",
    "we just need a good cutoff to make sure this is in some way meaningful.\n",
    "\n",
    "how much do we have?\n",
    "68 * 19 "
   ]
  },
  {
   "cell_type": "code",
   "execution_count": 84,
   "metadata": {
    "collapsed": true,
    "jupyter": {
     "outputs_hidden": true
    }
   },
   "outputs": [
    {
     "data": {
      "text/plain": [
       "['MSI',\n",
       " 'ACVR1B_mut_del',\n",
       " 'APC_mut_del',\n",
       " 'ARID1A_mut_del',\n",
       " 'ATM_mut_del',\n",
       " 'ATRX_mut_del',\n",
       " 'AXIN1_mut_del',\n",
       " 'BAP1_mut_del',\n",
       " 'BRCA1_mut_del',\n",
       " 'BRCA2_mut_del',\n",
       " 'CASP8_mut_del',\n",
       " 'CDC73_mut_del',\n",
       " 'CDH1_mut_del',\n",
       " 'CDKN2A_mut_del',\n",
       " 'CEBPA_mut_del',\n",
       " 'CIC_mut_del',\n",
       " 'CREBBP_mut_del',\n",
       " 'CYLD_mut_del',\n",
       " 'DAXX_mut_del',\n",
       " 'EP300_mut_del',\n",
       " 'AMER1_mut_del',\n",
       " 'FBXW7_mut_del',\n",
       " 'GATA1_mut_del',\n",
       " 'HNF1A_mut_del',\n",
       " 'KDM6A_mut_del',\n",
       " 'MAP3K1_mut_del',\n",
       " 'MEN1_mut_del',\n",
       " 'MLH1_mut_del',\n",
       " 'KMT2C_mut_del',\n",
       " 'MSH2_mut_del',\n",
       " 'MSH6_mut_del',\n",
       " 'NF1_mut_del',\n",
       " 'NF2_mut_del',\n",
       " 'NOTCH1_mut_del',\n",
       " 'NOTCH2_mut_del',\n",
       " 'NPM1_mut_del',\n",
       " 'PAX5_mut_del',\n",
       " 'PIK3R1_mut_del',\n",
       " 'PTCH1_mut_del',\n",
       " 'PTEN_mut_del',\n",
       " 'RB1_mut_del',\n",
       " 'RUNX1_mut_del',\n",
       " 'SMAD2_mut_del',\n",
       " 'SMAD4_mut_del',\n",
       " 'SMARCA4_mut_del',\n",
       " 'SMARCB1_mut_del',\n",
       " 'SOCS1_mut_del',\n",
       " 'STK11_mut_del',\n",
       " 'TET2_mut_del',\n",
       " 'TNFAIP3_mut_del',\n",
       " 'TP53_mut_del',\n",
       " 'TSC1_mut_del',\n",
       " 'VHL_mut_del',\n",
       " 'WT1_mut_del',\n",
       " 'ERBB2_amp',\n",
       " 'CCND1_amp',\n",
       " 'MDM2_amp',\n",
       " 'MYC_amp',\n",
       " 'MYCN_amp',\n",
       " 'PIK3CA_mut',\n",
       " 'BRAF_mut',\n",
       " 'CTNNB1_mut',\n",
       " 'KRAS_mut',\n",
       " 'NRAS_mut',\n",
       " 'GNAS_mut',\n",
       " 'HRAS_mut',\n",
       " 'EGFR_mut',\n",
       " 'MAP2K1_mut',\n",
       " 'PTPN11_mut']"
      ]
     },
     "execution_count": 84,
     "metadata": {},
     "output_type": "execute_result"
    }
   ],
   "source": [
    "daten = pd.read_csv(\"/home/annerer/Downloads/elife-58925-supp1-v3.csv\")\n",
    "\n",
    "daten1 = daten.columns.to_list()\n",
    "daten1.pop(0)\n",
    "daten1.pop(0)\n",
    "daten1"
   ]
  },
  {
   "cell_type": "code",
   "execution_count": 104,
   "metadata": {},
   "outputs": [],
   "source": [
    "# we need to get the sign first and call the appropriate celllines from sum/diff function for every pair. try this for 2 pairs and part of the backgrounds\n",
    "\n",
    "for _ in uli_list:\n",
    "    for i in daten1:\n",
    "        a,b = _\n",
    "        mut = i\n",
    "        t1,t2,b1,b2,gene_a,gene_b = celllines_from_diffORsumm(a,b)\n",
    "        top1,top2,bot1,bot2 = counting_hits(t1,t2,b1,b2,mut)\n",
    "        #print('for genes ', a, ' and ', b, 'the hypergeometric p value that either top or bottom are enriched in ', mut, ' is ')\n",
    "        #print(get_hypergeometric_p_values2(top1,top2,bot1,bot2))\n",
    "        p_value = get_hypergeometric_p_values2(top1,top2,bot1,bot2)\n",
    "        p_values.append([a,b,p_value])"
   ]
  },
  {
   "cell_type": "code",
   "execution_count": null,
   "metadata": {},
   "outputs": [],
   "source": [
    "# alle 2400 hypergeometic p-values. check which ones are significant\n",
    "# the significant ones can be further studied by looking at phenotypes and primary diseases, which\n",
    "# are also annotated in the samples-info file from depmap.\n",
    "p_values\n",
    "result = pd.DataFrame(p_values)\n",
    "result.to_csv('hypergeometric_p_values.csv')"
   ]
  },
  {
   "cell_type": "code",
   "execution_count": 108,
   "metadata": {
    "collapsed": true,
    "jupyter": {
     "outputs_hidden": true
    }
   },
   "outputs": [
    {
     "ename": "NameError",
     "evalue": "name 'column_names_uli_list' is not defined",
     "output_type": "error",
     "traceback": [
      "\u001b[0;31m---------------------------------------------------------------------------\u001b[0m",
      "\u001b[0;31mNameError\u001b[0m                                 Traceback (most recent call last)",
      "\u001b[0;32m<ipython-input-108-f52d24e1227f>\u001b[0m in \u001b[0;36m<module>\u001b[0;34m\u001b[0m\n\u001b[1;32m      1\u001b[0m \u001b[0mresult\u001b[0m \u001b[0;34m=\u001b[0m \u001b[0mpd\u001b[0m\u001b[0;34m.\u001b[0m\u001b[0mDataFrame\u001b[0m\u001b[0;34m(\u001b[0m\u001b[0mdata\u001b[0m\u001b[0;34m=\u001b[0m \u001b[0mp_values\u001b[0m\u001b[0;34m)\u001b[0m\u001b[0;34m\u001b[0m\u001b[0;34m\u001b[0m\u001b[0m\n\u001b[0;32m----> 2\u001b[0;31m \u001b[0mresult\u001b[0m\u001b[0;34m.\u001b[0m\u001b[0mindex\u001b[0m \u001b[0;34m=\u001b[0m \u001b[0mcolumn_names_uli_list\u001b[0m\u001b[0;34m\u001b[0m\u001b[0;34m\u001b[0m\u001b[0m\n\u001b[0m",
      "\u001b[0;31mNameError\u001b[0m: name 'column_names_uli_list' is not defined"
     ]
    }
   ],
   "source": [
    "result = pd.DataFrame(data= p_values)\n",
    "result.index = column_names_uli_list"
   ]
  },
  {
   "cell_type": "code",
   "execution_count": null,
   "metadata": {},
   "outputs": [],
   "source": []
  },
  {
   "cell_type": "code",
   "execution_count": null,
   "metadata": {},
   "outputs": [],
   "source": []
  },
  {
   "cell_type": "code",
   "execution_count": null,
   "metadata": {},
   "outputs": [],
   "source": []
  },
  {
   "cell_type": "markdown",
   "metadata": {},
   "source": [
    "# Assembling the whole script"
   ]
  },
  {
   "cell_type": "code",
   "execution_count": 268,
   "metadata": {},
   "outputs": [],
   "source": [
    "## BAUSTELLE!\n",
    "p_values = []\n",
    "for _ in uli_list:\n",
    "    for i in daten1: \n",
    "        a,b = _\n",
    "        mut = i\n",
    "        corr = quick_corr(a,b)\n",
    "# should be sign < 0, i just tested if this, counterintuitively, also yield significant hits\n",
    "        topsum,topsumRest = process_summ(a,b)\n",
    "        topdiff,topdiffRest = process_diff(a,b)\n",
    "        topdiffhits,totalD = counting_hits(topdiff,topdiffRest,mut)\n",
    "        topsumhits,totalS = counting_hits(topsum,topsumRest,mut)\n",
    "        p_value_sum = get_hypergeometric_p_value(topsumhits,totalS)\n",
    "        p_value_diff = get_hypergeometric_p_value(topdiffhits,totalD)\n",
    "        p_values.append([a,b,corr,mut,p_value_sum,p_value_diff,])"
   ]
  },
  {
   "cell_type": "code",
   "execution_count": 269,
   "metadata": {},
   "outputs": [],
   "source": [
    "result = pd.DataFrame(p_values)\n",
    "result.to_csv('hypergeometric_p_values_new.csv')"
   ]
  },
  {
   "cell_type": "code",
   "execution_count": 298,
   "metadata": {},
   "outputs": [],
   "source": [
    "pvals1 = result[4]\n",
    "pvals2 = result[3]\n",
    "from statsmodels.stats.multitest import multipletests\n",
    "#statsmodels.stats.multitest.multipletests(pvals, alpha=0.05, method='hs', is_sorted=False, returnsorted=False)\n",
    "corrected_p_values = multipletests(pvals1, alpha=0.05, method='fdr_bh', is_sorted=False, returnsorted=False)"
   ]
  },
  {
   "cell_type": "code",
   "execution_count": 306,
   "metadata": {},
   "outputs": [],
   "source": [
    "hittts = []\n",
    "for _ in corrected_p_values[1]:\n",
    "    if _ < 1:\n",
    "        hittts.append(_)"
   ]
  },
  {
   "cell_type": "code",
   "execution_count": null,
   "metadata": {},
   "outputs": [],
   "source": []
  },
  {
   "cell_type": "code",
   "execution_count": null,
   "metadata": {},
   "outputs": [],
   "source": []
  },
  {
   "cell_type": "code",
   "execution_count": null,
   "metadata": {},
   "outputs": [],
   "source": []
  },
  {
   "cell_type": "code",
   "execution_count": 323,
   "metadata": {},
   "outputs": [
    {
     "data": {
      "text/plain": [
       "[]"
      ]
     },
     "execution_count": 323,
     "metadata": {},
     "output_type": "execute_result"
    }
   ],
   "source": [
    "[ x for x in corrected_p_values[0] if x == 1]\n",
    "#[y for y in range(100) if y % 2 == 0 if y % 5 == 0]"
   ]
  },
  {
   "cell_type": "code",
   "execution_count": 320,
   "metadata": {
    "collapsed": true,
    "jupyter": {
     "outputs_hidden": true
    }
   },
   "outputs": [
    {
     "data": {
      "text/html": [
       "<div>\n",
       "<style scoped>\n",
       "    .dataframe tbody tr th:only-of-type {\n",
       "        vertical-align: middle;\n",
       "    }\n",
       "\n",
       "    .dataframe tbody tr th {\n",
       "        vertical-align: top;\n",
       "    }\n",
       "\n",
       "    .dataframe thead th {\n",
       "        text-align: right;\n",
       "    }\n",
       "</style>\n",
       "<table border=\"1\" class=\"dataframe\">\n",
       "  <thead>\n",
       "    <tr style=\"text-align: right;\">\n",
       "      <th></th>\n",
       "      <th>0</th>\n",
       "      <th>1</th>\n",
       "      <th>2</th>\n",
       "      <th>3</th>\n",
       "      <th>4</th>\n",
       "      <th>5</th>\n",
       "    </tr>\n",
       "  </thead>\n",
       "  <tbody>\n",
       "    <tr>\n",
       "      <th>0</th>\n",
       "      <td>CDK4</td>\n",
       "      <td>RB1</td>\n",
       "      <td>-0.270089</td>\n",
       "      <td>MSI</td>\n",
       "      <td>0.018262</td>\n",
       "      <td>0.234525</td>\n",
       "    </tr>\n",
       "    <tr>\n",
       "      <th>1</th>\n",
       "      <td>CDK4</td>\n",
       "      <td>RB1</td>\n",
       "      <td>-0.270089</td>\n",
       "      <td>ACVR1B_mut_del</td>\n",
       "      <td>0.109394</td>\n",
       "      <td>0.109394</td>\n",
       "    </tr>\n",
       "    <tr>\n",
       "      <th>2</th>\n",
       "      <td>CDK4</td>\n",
       "      <td>RB1</td>\n",
       "      <td>-0.270089</td>\n",
       "      <td>APC_mut_del</td>\n",
       "      <td>0.375174</td>\n",
       "      <td>0.196906</td>\n",
       "    </tr>\n",
       "    <tr>\n",
       "      <th>3</th>\n",
       "      <td>CDK4</td>\n",
       "      <td>RB1</td>\n",
       "      <td>-0.270089</td>\n",
       "      <td>ARID1A_mut_del</td>\n",
       "      <td>0.383376</td>\n",
       "      <td>0.605082</td>\n",
       "    </tr>\n",
       "    <tr>\n",
       "      <th>4</th>\n",
       "      <td>CDK4</td>\n",
       "      <td>RB1</td>\n",
       "      <td>-0.270089</td>\n",
       "      <td>ATM_mut_del</td>\n",
       "      <td>0.432608</td>\n",
       "      <td>0.838281</td>\n",
       "    </tr>\n",
       "    <tr>\n",
       "      <th>5</th>\n",
       "      <td>CDK4</td>\n",
       "      <td>RB1</td>\n",
       "      <td>-0.270089</td>\n",
       "      <td>ATRX_mut_del</td>\n",
       "      <td>0.064749</td>\n",
       "      <td>0.358527</td>\n",
       "    </tr>\n",
       "    <tr>\n",
       "      <th>6</th>\n",
       "      <td>CDK4</td>\n",
       "      <td>RB1</td>\n",
       "      <td>-0.270089</td>\n",
       "      <td>AXIN1_mut_del</td>\n",
       "      <td>0.781625</td>\n",
       "      <td>1.000000</td>\n",
       "    </tr>\n",
       "    <tr>\n",
       "      <th>7</th>\n",
       "      <td>CDK4</td>\n",
       "      <td>RB1</td>\n",
       "      <td>-0.270089</td>\n",
       "      <td>BAP1_mut_del</td>\n",
       "      <td>0.053543</td>\n",
       "      <td>0.629271</td>\n",
       "    </tr>\n",
       "    <tr>\n",
       "      <th>8</th>\n",
       "      <td>CDK4</td>\n",
       "      <td>RB1</td>\n",
       "      <td>-0.270089</td>\n",
       "      <td>BRCA1_mut_del</td>\n",
       "      <td>0.877807</td>\n",
       "      <td>0.595282</td>\n",
       "    </tr>\n",
       "    <tr>\n",
       "      <th>9</th>\n",
       "      <td>CDK4</td>\n",
       "      <td>RB1</td>\n",
       "      <td>-0.270089</td>\n",
       "      <td>BRCA2_mut_del</td>\n",
       "      <td>0.947744</td>\n",
       "      <td>0.947744</td>\n",
       "    </tr>\n",
       "    <tr>\n",
       "      <th>10</th>\n",
       "      <td>CDK4</td>\n",
       "      <td>RB1</td>\n",
       "      <td>-0.270089</td>\n",
       "      <td>CASP8_mut_del</td>\n",
       "      <td>0.032983</td>\n",
       "      <td>0.392417</td>\n",
       "    </tr>\n",
       "    <tr>\n",
       "      <th>11</th>\n",
       "      <td>CDK4</td>\n",
       "      <td>RB1</td>\n",
       "      <td>-0.270089</td>\n",
       "      <td>CDC73_mut_del</td>\n",
       "      <td>0.193482</td>\n",
       "      <td>0.193482</td>\n",
       "    </tr>\n",
       "    <tr>\n",
       "      <th>12</th>\n",
       "      <td>CDK4</td>\n",
       "      <td>RB1</td>\n",
       "      <td>-0.270089</td>\n",
       "      <td>CDH1_mut_del</td>\n",
       "      <td>0.014548</td>\n",
       "      <td>0.291684</td>\n",
       "    </tr>\n",
       "    <tr>\n",
       "      <th>13</th>\n",
       "      <td>CDK4</td>\n",
       "      <td>RB1</td>\n",
       "      <td>-0.270089</td>\n",
       "      <td>CDKN2A_mut_del</td>\n",
       "      <td>0.995007</td>\n",
       "      <td>0.995007</td>\n",
       "    </tr>\n",
       "    <tr>\n",
       "      <th>14</th>\n",
       "      <td>CDK4</td>\n",
       "      <td>RB1</td>\n",
       "      <td>-0.270089</td>\n",
       "      <td>CEBPA_mut_del</td>\n",
       "      <td>0.052767</td>\n",
       "      <td>0.351158</td>\n",
       "    </tr>\n",
       "    <tr>\n",
       "      <th>15</th>\n",
       "      <td>CDK4</td>\n",
       "      <td>RB1</td>\n",
       "      <td>-0.270089</td>\n",
       "      <td>CIC_mut_del</td>\n",
       "      <td>0.026033</td>\n",
       "      <td>0.395457</td>\n",
       "    </tr>\n",
       "    <tr>\n",
       "      <th>16</th>\n",
       "      <td>CDK4</td>\n",
       "      <td>RB1</td>\n",
       "      <td>-0.270089</td>\n",
       "      <td>CREBBP_mut_del</td>\n",
       "      <td>0.486512</td>\n",
       "      <td>0.486512</td>\n",
       "    </tr>\n",
       "    <tr>\n",
       "      <th>17</th>\n",
       "      <td>CDK4</td>\n",
       "      <td>RB1</td>\n",
       "      <td>-0.270089</td>\n",
       "      <td>CYLD_mut_del</td>\n",
       "      <td>0.643944</td>\n",
       "      <td>1.000000</td>\n",
       "    </tr>\n",
       "    <tr>\n",
       "      <th>18</th>\n",
       "      <td>CDK4</td>\n",
       "      <td>RB1</td>\n",
       "      <td>-0.270089</td>\n",
       "      <td>DAXX_mut_del</td>\n",
       "      <td>0.277069</td>\n",
       "      <td>1.000000</td>\n",
       "    </tr>\n",
       "    <tr>\n",
       "      <th>19</th>\n",
       "      <td>CDK4</td>\n",
       "      <td>RB1</td>\n",
       "      <td>-0.270089</td>\n",
       "      <td>EP300_mut_del</td>\n",
       "      <td>0.011648</td>\n",
       "      <td>0.399795</td>\n",
       "    </tr>\n",
       "    <tr>\n",
       "      <th>20</th>\n",
       "      <td>CDK4</td>\n",
       "      <td>RB1</td>\n",
       "      <td>-0.270089</td>\n",
       "      <td>AMER1_mut_del</td>\n",
       "      <td>0.790419</td>\n",
       "      <td>0.790419</td>\n",
       "    </tr>\n",
       "    <tr>\n",
       "      <th>21</th>\n",
       "      <td>CDK4</td>\n",
       "      <td>RB1</td>\n",
       "      <td>-0.270089</td>\n",
       "      <td>FBXW7_mut_del</td>\n",
       "      <td>0.606268</td>\n",
       "      <td>0.882822</td>\n",
       "    </tr>\n",
       "    <tr>\n",
       "      <th>22</th>\n",
       "      <td>CDK4</td>\n",
       "      <td>RB1</td>\n",
       "      <td>-0.270089</td>\n",
       "      <td>GATA1_mut_del</td>\n",
       "      <td>0.564516</td>\n",
       "      <td>0.564516</td>\n",
       "    </tr>\n",
       "    <tr>\n",
       "      <th>23</th>\n",
       "      <td>CDK4</td>\n",
       "      <td>RB1</td>\n",
       "      <td>-0.270089</td>\n",
       "      <td>HNF1A_mut_del</td>\n",
       "      <td>0.564516</td>\n",
       "      <td>0.176141</td>\n",
       "    </tr>\n",
       "    <tr>\n",
       "      <th>24</th>\n",
       "      <td>CDK4</td>\n",
       "      <td>RB1</td>\n",
       "      <td>-0.270089</td>\n",
       "      <td>KDM6A_mut_del</td>\n",
       "      <td>0.397108</td>\n",
       "      <td>0.397108</td>\n",
       "    </tr>\n",
       "    <tr>\n",
       "      <th>25</th>\n",
       "      <td>CDK4</td>\n",
       "      <td>RB1</td>\n",
       "      <td>-0.270089</td>\n",
       "      <td>MAP3K1_mut_del</td>\n",
       "      <td>0.000226</td>\n",
       "      <td>0.474030</td>\n",
       "    </tr>\n",
       "    <tr>\n",
       "      <th>26</th>\n",
       "      <td>CDK4</td>\n",
       "      <td>RB1</td>\n",
       "      <td>-0.270089</td>\n",
       "      <td>MEN1_mut_del</td>\n",
       "      <td>1.000000</td>\n",
       "      <td>0.528165</td>\n",
       "    </tr>\n",
       "    <tr>\n",
       "      <th>27</th>\n",
       "      <td>CDK4</td>\n",
       "      <td>RB1</td>\n",
       "      <td>-0.270089</td>\n",
       "      <td>MLH1_mut_del</td>\n",
       "      <td>0.790419</td>\n",
       "      <td>0.433934</td>\n",
       "    </tr>\n",
       "    <tr>\n",
       "      <th>28</th>\n",
       "      <td>CDK4</td>\n",
       "      <td>RB1</td>\n",
       "      <td>-0.270089</td>\n",
       "      <td>KMT2C_mut_del</td>\n",
       "      <td>0.022612</td>\n",
       "      <td>0.778486</td>\n",
       "    </tr>\n",
       "    <tr>\n",
       "      <th>29</th>\n",
       "      <td>CDK4</td>\n",
       "      <td>RB1</td>\n",
       "      <td>-0.270089</td>\n",
       "      <td>MSH2_mut_del</td>\n",
       "      <td>0.306278</td>\n",
       "      <td>0.697218</td>\n",
       "    </tr>\n",
       "  </tbody>\n",
       "</table>\n",
       "</div>"
      ],
      "text/plain": [
       "       0    1         2               3         4         5\n",
       "0   CDK4  RB1 -0.270089             MSI  0.018262  0.234525\n",
       "1   CDK4  RB1 -0.270089  ACVR1B_mut_del  0.109394  0.109394\n",
       "2   CDK4  RB1 -0.270089     APC_mut_del  0.375174  0.196906\n",
       "3   CDK4  RB1 -0.270089  ARID1A_mut_del  0.383376  0.605082\n",
       "4   CDK4  RB1 -0.270089     ATM_mut_del  0.432608  0.838281\n",
       "5   CDK4  RB1 -0.270089    ATRX_mut_del  0.064749  0.358527\n",
       "6   CDK4  RB1 -0.270089   AXIN1_mut_del  0.781625  1.000000\n",
       "7   CDK4  RB1 -0.270089    BAP1_mut_del  0.053543  0.629271\n",
       "8   CDK4  RB1 -0.270089   BRCA1_mut_del  0.877807  0.595282\n",
       "9   CDK4  RB1 -0.270089   BRCA2_mut_del  0.947744  0.947744\n",
       "10  CDK4  RB1 -0.270089   CASP8_mut_del  0.032983  0.392417\n",
       "11  CDK4  RB1 -0.270089   CDC73_mut_del  0.193482  0.193482\n",
       "12  CDK4  RB1 -0.270089    CDH1_mut_del  0.014548  0.291684\n",
       "13  CDK4  RB1 -0.270089  CDKN2A_mut_del  0.995007  0.995007\n",
       "14  CDK4  RB1 -0.270089   CEBPA_mut_del  0.052767  0.351158\n",
       "15  CDK4  RB1 -0.270089     CIC_mut_del  0.026033  0.395457\n",
       "16  CDK4  RB1 -0.270089  CREBBP_mut_del  0.486512  0.486512\n",
       "17  CDK4  RB1 -0.270089    CYLD_mut_del  0.643944  1.000000\n",
       "18  CDK4  RB1 -0.270089    DAXX_mut_del  0.277069  1.000000\n",
       "19  CDK4  RB1 -0.270089   EP300_mut_del  0.011648  0.399795\n",
       "20  CDK4  RB1 -0.270089   AMER1_mut_del  0.790419  0.790419\n",
       "21  CDK4  RB1 -0.270089   FBXW7_mut_del  0.606268  0.882822\n",
       "22  CDK4  RB1 -0.270089   GATA1_mut_del  0.564516  0.564516\n",
       "23  CDK4  RB1 -0.270089   HNF1A_mut_del  0.564516  0.176141\n",
       "24  CDK4  RB1 -0.270089   KDM6A_mut_del  0.397108  0.397108\n",
       "25  CDK4  RB1 -0.270089  MAP3K1_mut_del  0.000226  0.474030\n",
       "26  CDK4  RB1 -0.270089    MEN1_mut_del  1.000000  0.528165\n",
       "27  CDK4  RB1 -0.270089    MLH1_mut_del  0.790419  0.433934\n",
       "28  CDK4  RB1 -0.270089   KMT2C_mut_del  0.022612  0.778486\n",
       "29  CDK4  RB1 -0.270089    MSH2_mut_del  0.306278  0.697218"
      ]
     },
     "execution_count": 320,
     "metadata": {},
     "output_type": "execute_result"
    }
   ],
   "source": [
    "result.head(30)"
   ]
  },
  {
   "cell_type": "code",
   "execution_count": 317,
   "metadata": {},
   "outputs": [],
   "source": [
    "sorted_ps = result[4].sort_values()\n",
    "sorted_ps[1:50]"
   ]
  },
  {
   "cell_type": "code",
   "execution_count": 322,
   "metadata": {
    "collapsed": true,
    "jupyter": {
     "outputs_hidden": true
    }
   },
   "outputs": [
    {
     "data": {
      "text/plain": [
       "69      0.000004\n",
       "84      0.000005\n",
       "71      0.000015\n",
       "83      0.000111\n",
       "108     0.000162\n",
       "105     0.000271\n",
       "131     0.000287\n",
       "117     0.000312\n",
       "133     0.000483\n",
       "112     0.000483\n",
       "97      0.000543\n",
       "72      0.000582\n",
       "110     0.000849\n",
       "614     0.001363\n",
       "959     0.001363\n",
       "370     0.001901\n",
       "94      0.001901\n",
       "118     0.002186\n",
       "107     0.002197\n",
       "99      0.002893\n",
       "126     0.002950\n",
       "92      0.003695\n",
       "499     0.003712\n",
       "73      0.004162\n",
       "74      0.005032\n",
       "100     0.006337\n",
       "114     0.006665\n",
       "90      0.007432\n",
       "489     0.007433\n",
       "1132    0.007563\n",
       "96      0.008438\n",
       "662     0.009535\n",
       "520     0.010728\n",
       "128     0.011035\n",
       "542     0.011035\n",
       "265     0.011210\n",
       "196     0.011210\n",
       "502     0.011648\n",
       "80      0.012020\n",
       "70      0.013900\n",
       "819     0.015795\n",
       "513     0.016534\n",
       "512     0.016624\n",
       "532     0.016624\n",
       "752     0.018782\n",
       "547     0.019353\n",
       "104     0.019353\n",
       "113     0.022384\n",
       "718     0.022612\n",
       "Name: 5, dtype: float64"
      ]
     },
     "execution_count": 322,
     "metadata": {},
     "output_type": "execute_result"
    }
   ],
   "source": [
    "sorted_ps = result[5].sort_values()\n",
    "sorted_ps[1:50]"
   ]
  },
  {
   "cell_type": "code",
   "execution_count": 256,
   "metadata": {},
   "outputs": [
    {
     "data": {
      "text/plain": [
       "0.25227103983704346"
      ]
     },
     "execution_count": 256,
     "metadata": {},
     "output_type": "execute_result"
    }
   ],
   "source": [
    "quick_corr('CDKN2A','CDKN2B')"
   ]
  },
  {
   "cell_type": "code",
   "execution_count": 273,
   "metadata": {},
   "outputs": [
    {
     "data": {
      "text/html": [
       "<div>\n",
       "<style scoped>\n",
       "    .dataframe tbody tr th:only-of-type {\n",
       "        vertical-align: middle;\n",
       "    }\n",
       "\n",
       "    .dataframe tbody tr th {\n",
       "        vertical-align: top;\n",
       "    }\n",
       "\n",
       "    .dataframe thead th {\n",
       "        text-align: right;\n",
       "    }\n",
       "</style>\n",
       "<table border=\"1\" class=\"dataframe\">\n",
       "  <thead>\n",
       "    <tr style=\"text-align: right;\">\n",
       "      <th></th>\n",
       "      <th>0</th>\n",
       "      <th>1</th>\n",
       "      <th>2</th>\n",
       "      <th>3</th>\n",
       "      <th>4</th>\n",
       "      <th>5</th>\n",
       "    </tr>\n",
       "  </thead>\n",
       "  <tbody>\n",
       "    <tr>\n",
       "      <th>414</th>\n",
       "      <td>CDKN2A</td>\n",
       "      <td>CDKN2B</td>\n",
       "      <td>0.252271</td>\n",
       "      <td>MSI</td>\n",
       "      <td>0.843068</td>\n",
       "      <td>0.843068</td>\n",
       "    </tr>\n",
       "    <tr>\n",
       "      <th>415</th>\n",
       "      <td>CDKN2A</td>\n",
       "      <td>CDKN2B</td>\n",
       "      <td>0.252271</td>\n",
       "      <td>ACVR1B_mut_del</td>\n",
       "      <td>0.468084</td>\n",
       "      <td>0.109394</td>\n",
       "    </tr>\n",
       "    <tr>\n",
       "      <th>416</th>\n",
       "      <td>CDKN2A</td>\n",
       "      <td>CDKN2B</td>\n",
       "      <td>0.252271</td>\n",
       "      <td>APC_mut_del</td>\n",
       "      <td>0.936049</td>\n",
       "      <td>0.375174</td>\n",
       "    </tr>\n",
       "    <tr>\n",
       "      <th>417</th>\n",
       "      <td>CDKN2A</td>\n",
       "      <td>CDKN2B</td>\n",
       "      <td>0.252271</td>\n",
       "      <td>ARID1A_mut_del</td>\n",
       "      <td>0.938340</td>\n",
       "      <td>0.938340</td>\n",
       "    </tr>\n",
       "    <tr>\n",
       "      <th>418</th>\n",
       "      <td>CDKN2A</td>\n",
       "      <td>CDKN2B</td>\n",
       "      <td>0.252271</td>\n",
       "      <td>ATM_mut_del</td>\n",
       "      <td>0.651119</td>\n",
       "      <td>0.651119</td>\n",
       "    </tr>\n",
       "    <tr>\n",
       "      <th>...</th>\n",
       "      <td>...</td>\n",
       "      <td>...</td>\n",
       "      <td>...</td>\n",
       "      <td>...</td>\n",
       "      <td>...</td>\n",
       "      <td>...</td>\n",
       "    </tr>\n",
       "    <tr>\n",
       "      <th>547</th>\n",
       "      <td>CDKN2A</td>\n",
       "      <td>CCNE1</td>\n",
       "      <td>-0.164518</td>\n",
       "      <td>GNAS_mut</td>\n",
       "      <td>0.019353</td>\n",
       "      <td>0.019353</td>\n",
       "    </tr>\n",
       "    <tr>\n",
       "      <th>548</th>\n",
       "      <td>CDKN2A</td>\n",
       "      <td>CCNE1</td>\n",
       "      <td>-0.164518</td>\n",
       "      <td>HRAS_mut</td>\n",
       "      <td>0.297741</td>\n",
       "      <td>0.297741</td>\n",
       "    </tr>\n",
       "    <tr>\n",
       "      <th>549</th>\n",
       "      <td>CDKN2A</td>\n",
       "      <td>CCNE1</td>\n",
       "      <td>-0.164518</td>\n",
       "      <td>EGFR_mut</td>\n",
       "      <td>1.000000</td>\n",
       "      <td>1.000000</td>\n",
       "    </tr>\n",
       "    <tr>\n",
       "      <th>550</th>\n",
       "      <td>CDKN2A</td>\n",
       "      <td>CCNE1</td>\n",
       "      <td>-0.164518</td>\n",
       "      <td>MAP2K1_mut</td>\n",
       "      <td>1.000000</td>\n",
       "      <td>1.000000</td>\n",
       "    </tr>\n",
       "    <tr>\n",
       "      <th>551</th>\n",
       "      <td>CDKN2A</td>\n",
       "      <td>CCNE1</td>\n",
       "      <td>-0.164518</td>\n",
       "      <td>PTPN11_mut</td>\n",
       "      <td>1.000000</td>\n",
       "      <td>1.000000</td>\n",
       "    </tr>\n",
       "  </tbody>\n",
       "</table>\n",
       "<p>138 rows × 6 columns</p>\n",
       "</div>"
      ],
      "text/plain": [
       "          0       1         2               3         4         5\n",
       "414  CDKN2A  CDKN2B  0.252271             MSI  0.843068  0.843068\n",
       "415  CDKN2A  CDKN2B  0.252271  ACVR1B_mut_del  0.468084  0.109394\n",
       "416  CDKN2A  CDKN2B  0.252271     APC_mut_del  0.936049  0.375174\n",
       "417  CDKN2A  CDKN2B  0.252271  ARID1A_mut_del  0.938340  0.938340\n",
       "418  CDKN2A  CDKN2B  0.252271     ATM_mut_del  0.651119  0.651119\n",
       "..      ...     ...       ...             ...       ...       ...\n",
       "547  CDKN2A   CCNE1 -0.164518        GNAS_mut  0.019353  0.019353\n",
       "548  CDKN2A   CCNE1 -0.164518        HRAS_mut  0.297741  0.297741\n",
       "549  CDKN2A   CCNE1 -0.164518        EGFR_mut  1.000000  1.000000\n",
       "550  CDKN2A   CCNE1 -0.164518      MAP2K1_mut  1.000000  1.000000\n",
       "551  CDKN2A   CCNE1 -0.164518      PTPN11_mut  1.000000  1.000000\n",
       "\n",
       "[138 rows x 6 columns]"
      ]
     },
     "execution_count": 273,
     "metadata": {},
     "output_type": "execute_result"
    }
   ],
   "source": [
    "result[result[0] == 'CDKN2A']"
   ]
  },
  {
   "cell_type": "code",
   "execution_count": 63,
   "metadata": {},
   "outputs": [
    {
     "data": {
      "text/plain": [
       "HEL       -0.588532\n",
       "HEL9217   -1.033912\n",
       "LS513     -0.557266\n",
       "C2BBE1    -0.369625\n",
       "253J      -0.461707\n",
       "             ...   \n",
       "UACC62    -0.297839\n",
       "SKMEL19   -0.533854\n",
       "MEL285    -0.707075\n",
       "MEL290    -1.625533\n",
       "UCH2      -0.544466\n",
       "Name: CDK4, Length: 783, dtype: float64"
      ]
     },
     "execution_count": 63,
     "metadata": {},
     "output_type": "execute_result"
    }
   ],
   "source": [
    "allgenes[allGenes[''] ['CDK4']"
   ]
  },
  {
   "cell_type": "code",
   "execution_count": 53,
   "metadata": {},
   "outputs": [],
   "source": [
    " a,b = 'CDK4','RB1'\n",
    "topsum,topsumRest = process_summ(a,b)\n",
    "topdiff,topdiffRest = process_diff(a,b)"
   ]
  },
  {
   "cell_type": "code",
   "execution_count": 62,
   "metadata": {},
   "outputs": [
    {
     "data": {
      "text/plain": [
       "20"
      ]
     },
     "execution_count": 62,
     "metadata": {},
     "output_type": "execute_result"
    }
   ],
   "source": [
    "len(set(topsum).intersection(set(topdiff)))"
   ]
  },
  {
   "cell_type": "code",
   "execution_count": null,
   "metadata": {},
   "outputs": [],
   "source": []
  },
  {
   "cell_type": "code",
   "execution_count": 254,
   "metadata": {},
   "outputs": [],
   "source": [
    "def find_in_result(a,b,mut):\n",
    "    res = result[result[0] == a]\n",
    "    res = res[res[1] == b]\n",
    "    res = res[res[2] == mut]\n",
    "    return res"
   ]
  },
  {
   "cell_type": "code",
   "execution_count": 255,
   "metadata": {},
   "outputs": [
    {
     "data": {
      "text/html": [
       "<div>\n",
       "<style scoped>\n",
       "    .dataframe tbody tr th:only-of-type {\n",
       "        vertical-align: middle;\n",
       "    }\n",
       "\n",
       "    .dataframe tbody tr th {\n",
       "        vertical-align: top;\n",
       "    }\n",
       "\n",
       "    .dataframe thead th {\n",
       "        text-align: right;\n",
       "    }\n",
       "</style>\n",
       "<table border=\"1\" class=\"dataframe\">\n",
       "  <thead>\n",
       "    <tr style=\"text-align: right;\">\n",
       "      <th></th>\n",
       "      <th>0</th>\n",
       "      <th>1</th>\n",
       "      <th>2</th>\n",
       "      <th>3</th>\n",
       "      <th>4</th>\n",
       "    </tr>\n",
       "  </thead>\n",
       "  <tbody>\n",
       "    <tr>\n",
       "      <th>4</th>\n",
       "      <td>CDK4</td>\n",
       "      <td>RB1</td>\n",
       "      <td>ATM_mut_del</td>\n",
       "      <td>0.473307</td>\n",
       "      <td>0.851824</td>\n",
       "    </tr>\n",
       "  </tbody>\n",
       "</table>\n",
       "</div>"
      ],
      "text/plain": [
       "      0    1            2         3         4\n",
       "4  CDK4  RB1  ATM_mut_del  0.473307  0.851824"
      ]
     },
     "execution_count": 255,
     "metadata": {},
     "output_type": "execute_result"
    }
   ],
   "source": [
    "find_in_result('CDK4','RB1','ATM_mut_del')"
   ]
  },
  {
   "cell_type": "markdown",
   "metadata": {},
   "source": [
    "## How p-values depend on the cutoff"
   ]
  },
  {
   "cell_type": "code",
   "execution_count": 234,
   "metadata": {},
   "outputs": [
    {
     "name": "stdout",
     "output_type": "stream",
     "text": [
      "['CDK4', 'RB1', 'MSI', 0.004932184307087898, 1.0]\n",
      "['CDK4', 'CDKN2C', 'MSI', 0.027143968471253523, 0.7145869870677045]\n"
     ]
    }
   ],
   "source": [
    "# with 20 celllines in the sample\n",
    "for i in range(len(p_values)):\n",
    "    if p_values[i][3] < 0.05:\n",
    "        print(p_values[i])"
   ]
  },
  {
   "cell_type": "code",
   "execution_count": 242,
   "metadata": {},
   "outputs": [
    {
     "name": "stdout",
     "output_type": "stream",
     "text": [
      "['CDK4', 'RB1', 'MSI', 0.028726013170970417, 1.0]\n"
     ]
    }
   ],
   "source": [
    "# with 30 celllines in the sample\n",
    "for i in range(len(p_values)):\n",
    "    if p_values[i][3] < 0.05:\n",
    "        print(p_values[i])"
   ]
  },
  {
   "cell_type": "code",
   "execution_count": 235,
   "metadata": {},
   "outputs": [
    {
     "name": "stdout",
     "output_type": "stream",
     "text": [
      "['CDKN2A', 'CDKN2B', 'MSI', 0.7145869870677045, 0.027143968471253523]\n",
      "['CDKN2A', 'CDKN2B', 'APC_mut_del', 0.797044075798627, 0.0034503517039422694]\n",
      "['NF2', 'LATS2', 'MSI', 0.7145869870677045, 0.004932184307087898]\n"
     ]
    }
   ],
   "source": [
    "# with 20 celllines in the sample\n",
    "for i in range(len(p_values)):\n",
    "    if p_values[i][4] < 0.05:\n",
    "        print(p_values[i])"
   ]
  },
  {
   "cell_type": "code",
   "execution_count": 243,
   "metadata": {},
   "outputs": [
    {
     "name": "stdout",
     "output_type": "stream",
     "text": [
      "['CDKN2A', 'CDKN2B', 'MSI', 0.8494562557874066, 0.028726013170970417]\n",
      "['CDKN2A', 'CDKN2B', 'APC_mut_del', 0.4162148260979054, 0.0013628556413587624]\n",
      "['NF2', 'LATS2', 'MSI', 0.26637127809903305, 0.028726013170970417]\n"
     ]
    }
   ],
   "source": [
    "# with 30 celllines in the sample\n",
    "for i in range(len(p_values)):\n",
    "    if p_values[i][4] < 0.05:\n",
    "        print(p_values[i])"
   ]
  },
  {
   "cell_type": "markdown",
   "metadata": {},
   "source": [
    "# counting phenotypes"
   ]
  },
  {
   "cell_type": "markdown",
   "metadata": {},
   "source": [
    "### in principle, given the familiarity with the depmap data,\n",
    "### you could look at various annotations that are relevant,\n",
    "### such as phenotypic, disease state, ...\n",
    "### it gives you the power to really dissect a condition.\n",
    "### always keep in mind the ryan paper tough, not everything\n",
    "### is reliable when it comes to cancer, as there are many\n",
    "### effect that only show up in the full organism."
   ]
  },
  {
   "cell_type": "code",
   "execution_count": 153,
   "metadata": {},
   "outputs": [],
   "source": [
    "data = pd.read_csv(\"/home/annerer/Dokumente/DepMap_Mining/sample_info.csv\")"
   ]
  },
  {
   "cell_type": "code",
   "execution_count": 155,
   "metadata": {},
   "outputs": [
    {
     "data": {
      "text/html": [
       "<div>\n",
       "<style scoped>\n",
       "    .dataframe tbody tr th:only-of-type {\n",
       "        vertical-align: middle;\n",
       "    }\n",
       "\n",
       "    .dataframe tbody tr th {\n",
       "        vertical-align: top;\n",
       "    }\n",
       "\n",
       "    .dataframe thead th {\n",
       "        text-align: right;\n",
       "    }\n",
       "</style>\n",
       "<table border=\"1\" class=\"dataframe\">\n",
       "  <thead>\n",
       "    <tr style=\"text-align: right;\">\n",
       "      <th></th>\n",
       "      <th>DepMap_ID</th>\n",
       "      <th>stripped_cell_line_name</th>\n",
       "      <th>CCLE_Name</th>\n",
       "      <th>Alias</th>\n",
       "      <th>COSMICID</th>\n",
       "      <th>sex</th>\n",
       "      <th>source</th>\n",
       "      <th>Achilles_n_replicates</th>\n",
       "      <th>cell_line_NNMD</th>\n",
       "      <th>culture_type</th>\n",
       "      <th>...</th>\n",
       "      <th>primary_or_metastasis</th>\n",
       "      <th>primary_disease</th>\n",
       "      <th>Subtype</th>\n",
       "      <th>age</th>\n",
       "      <th>Sanger_Model_ID</th>\n",
       "      <th>depmap_public_comments</th>\n",
       "      <th>lineage</th>\n",
       "      <th>lineage_subtype</th>\n",
       "      <th>lineage_sub_subtype</th>\n",
       "      <th>lineage_molecular_subtype</th>\n",
       "    </tr>\n",
       "  </thead>\n",
       "  <tbody>\n",
       "    <tr>\n",
       "      <th>0</th>\n",
       "      <td>ACH-000001</td>\n",
       "      <td>NIHOVCAR3</td>\n",
       "      <td>NIHOVCAR3_OVARY</td>\n",
       "      <td>OVCAR3</td>\n",
       "      <td>905933.0</td>\n",
       "      <td>Female</td>\n",
       "      <td>ATCC</td>\n",
       "      <td>NaN</td>\n",
       "      <td>NaN</td>\n",
       "      <td>NaN</td>\n",
       "      <td>...</td>\n",
       "      <td>Metastasis</td>\n",
       "      <td>Ovarian Cancer</td>\n",
       "      <td>Adenocarcinoma, high grade serous</td>\n",
       "      <td>60.0</td>\n",
       "      <td>SIDM00105</td>\n",
       "      <td>NaN</td>\n",
       "      <td>ovary</td>\n",
       "      <td>ovary_adenocarcinoma</td>\n",
       "      <td>high_grade_serous</td>\n",
       "      <td>NaN</td>\n",
       "    </tr>\n",
       "    <tr>\n",
       "      <th>1</th>\n",
       "      <td>ACH-000002</td>\n",
       "      <td>HL60</td>\n",
       "      <td>HL60_HAEMATOPOIETIC_AND_LYMPHOID_TISSUE</td>\n",
       "      <td>NaN</td>\n",
       "      <td>905938.0</td>\n",
       "      <td>Female</td>\n",
       "      <td>ATCC</td>\n",
       "      <td>NaN</td>\n",
       "      <td>NaN</td>\n",
       "      <td>NaN</td>\n",
       "      <td>...</td>\n",
       "      <td>Primary</td>\n",
       "      <td>Leukemia</td>\n",
       "      <td>Acute Myelogenous Leukemia (AML), M3 (Promyelo...</td>\n",
       "      <td>35.0</td>\n",
       "      <td>SIDM00829</td>\n",
       "      <td>NaN</td>\n",
       "      <td>blood</td>\n",
       "      <td>AML</td>\n",
       "      <td>M3</td>\n",
       "      <td>NaN</td>\n",
       "    </tr>\n",
       "    <tr>\n",
       "      <th>2</th>\n",
       "      <td>ACH-000003</td>\n",
       "      <td>CACO2</td>\n",
       "      <td>CACO2_LARGE_INTESTINE</td>\n",
       "      <td>CACO2, CaCo-2</td>\n",
       "      <td>NaN</td>\n",
       "      <td>Male</td>\n",
       "      <td>ATCC</td>\n",
       "      <td>NaN</td>\n",
       "      <td>NaN</td>\n",
       "      <td>NaN</td>\n",
       "      <td>...</td>\n",
       "      <td>NaN</td>\n",
       "      <td>Colon/Colorectal Cancer</td>\n",
       "      <td>Adenocarcinoma</td>\n",
       "      <td>NaN</td>\n",
       "      <td>SIDM00891</td>\n",
       "      <td>NaN</td>\n",
       "      <td>colorectal</td>\n",
       "      <td>colorectal_adenocarcinoma</td>\n",
       "      <td>NaN</td>\n",
       "      <td>NaN</td>\n",
       "    </tr>\n",
       "    <tr>\n",
       "      <th>3</th>\n",
       "      <td>ACH-000004</td>\n",
       "      <td>HEL</td>\n",
       "      <td>HEL_HAEMATOPOIETIC_AND_LYMPHOID_TISSUE</td>\n",
       "      <td>NaN</td>\n",
       "      <td>907053.0</td>\n",
       "      <td>Male</td>\n",
       "      <td>DSMZ</td>\n",
       "      <td>2.0</td>\n",
       "      <td>-3.079202</td>\n",
       "      <td>Suspension</td>\n",
       "      <td>...</td>\n",
       "      <td>NaN</td>\n",
       "      <td>Leukemia</td>\n",
       "      <td>Acute Myelogenous Leukemia (AML), M6 (Erythrol...</td>\n",
       "      <td>30.0</td>\n",
       "      <td>SIDM00594</td>\n",
       "      <td>NaN</td>\n",
       "      <td>blood</td>\n",
       "      <td>AML</td>\n",
       "      <td>M6</td>\n",
       "      <td>NaN</td>\n",
       "    </tr>\n",
       "    <tr>\n",
       "      <th>4</th>\n",
       "      <td>ACH-000005</td>\n",
       "      <td>HEL9217</td>\n",
       "      <td>HEL9217_HAEMATOPOIETIC_AND_LYMPHOID_TISSUE</td>\n",
       "      <td>NaN</td>\n",
       "      <td>NaN</td>\n",
       "      <td>Male</td>\n",
       "      <td>ATCC</td>\n",
       "      <td>2.0</td>\n",
       "      <td>-2.404409</td>\n",
       "      <td>Mixed adherent and suspension</td>\n",
       "      <td>...</td>\n",
       "      <td>NaN</td>\n",
       "      <td>Leukemia</td>\n",
       "      <td>Acute Myelogenous Leukemia (AML), M6 (Erythrol...</td>\n",
       "      <td>30.0</td>\n",
       "      <td>SIDM00593</td>\n",
       "      <td>NaN</td>\n",
       "      <td>blood</td>\n",
       "      <td>AML</td>\n",
       "      <td>M6</td>\n",
       "      <td>NaN</td>\n",
       "    </tr>\n",
       "  </tbody>\n",
       "</table>\n",
       "<p>5 rows × 24 columns</p>\n",
       "</div>"
      ],
      "text/plain": [
       "    DepMap_ID stripped_cell_line_name  \\\n",
       "0  ACH-000001               NIHOVCAR3   \n",
       "1  ACH-000002                    HL60   \n",
       "2  ACH-000003                   CACO2   \n",
       "3  ACH-000004                     HEL   \n",
       "4  ACH-000005                 HEL9217   \n",
       "\n",
       "                                    CCLE_Name          Alias  COSMICID  \\\n",
       "0                             NIHOVCAR3_OVARY         OVCAR3  905933.0   \n",
       "1     HL60_HAEMATOPOIETIC_AND_LYMPHOID_TISSUE            NaN  905938.0   \n",
       "2                       CACO2_LARGE_INTESTINE  CACO2, CaCo-2       NaN   \n",
       "3      HEL_HAEMATOPOIETIC_AND_LYMPHOID_TISSUE            NaN  907053.0   \n",
       "4  HEL9217_HAEMATOPOIETIC_AND_LYMPHOID_TISSUE            NaN       NaN   \n",
       "\n",
       "      sex source  Achilles_n_replicates  cell_line_NNMD  \\\n",
       "0  Female   ATCC                    NaN             NaN   \n",
       "1  Female   ATCC                    NaN             NaN   \n",
       "2    Male   ATCC                    NaN             NaN   \n",
       "3    Male   DSMZ                    2.0       -3.079202   \n",
       "4    Male   ATCC                    2.0       -2.404409   \n",
       "\n",
       "                    culture_type  ... primary_or_metastasis  \\\n",
       "0                            NaN  ...            Metastasis   \n",
       "1                            NaN  ...               Primary   \n",
       "2                            NaN  ...                   NaN   \n",
       "3                     Suspension  ...                   NaN   \n",
       "4  Mixed adherent and suspension  ...                   NaN   \n",
       "\n",
       "           primary_disease                                            Subtype  \\\n",
       "0           Ovarian Cancer                  Adenocarcinoma, high grade serous   \n",
       "1                 Leukemia  Acute Myelogenous Leukemia (AML), M3 (Promyelo...   \n",
       "2  Colon/Colorectal Cancer                                     Adenocarcinoma   \n",
       "3                 Leukemia  Acute Myelogenous Leukemia (AML), M6 (Erythrol...   \n",
       "4                 Leukemia  Acute Myelogenous Leukemia (AML), M6 (Erythrol...   \n",
       "\n",
       "    age Sanger_Model_ID depmap_public_comments     lineage  \\\n",
       "0  60.0       SIDM00105                    NaN       ovary   \n",
       "1  35.0       SIDM00829                    NaN       blood   \n",
       "2   NaN       SIDM00891                    NaN  colorectal   \n",
       "3  30.0       SIDM00594                    NaN       blood   \n",
       "4  30.0       SIDM00593                    NaN       blood   \n",
       "\n",
       "             lineage_subtype lineage_sub_subtype lineage_molecular_subtype  \n",
       "0       ovary_adenocarcinoma   high_grade_serous                       NaN  \n",
       "1                        AML                  M3                       NaN  \n",
       "2  colorectal_adenocarcinoma                 NaN                       NaN  \n",
       "3                        AML                  M6                       NaN  \n",
       "4                        AML                  M6                       NaN  \n",
       "\n",
       "[5 rows x 24 columns]"
      ]
     },
     "execution_count": 155,
     "metadata": {},
     "output_type": "execute_result"
    }
   ],
   "source": [
    "data.head()"
   ]
  },
  {
   "cell_type": "code",
   "execution_count": 162,
   "metadata": {},
   "outputs": [
    {
     "name": "stdout",
     "output_type": "stream",
     "text": [
      "1269    Esophageal Cancer\n",
      "Name: primary_disease, dtype: object\n",
      "1272    Esophageal Cancer\n",
      "Name: primary_disease, dtype: object\n",
      "1285    Skin Cancer\n",
      "Name: primary_disease, dtype: object\n",
      "1304    Skin Cancer\n",
      "Name: primary_disease, dtype: object\n",
      "1605    Bone Cancer\n",
      "Name: primary_disease, dtype: object\n"
     ]
    }
   ],
   "source": [
    "list1 =  ['ESO26','FLO1','HMY1','MCC13','UCH2']\n",
    "\n",
    "for _ in list1:\n",
    "    print(data[data['CCLE_Name'].str.match(_)]['primary_disease'])"
   ]
  },
  {
   "cell_type": "code",
   "execution_count": null,
   "metadata": {},
   "outputs": [],
   "source": [
    ".str.match(_)].eval(mut"
   ]
  },
  {
   "cell_type": "code",
   "execution_count": 160,
   "metadata": {},
   "outputs": [
    {
     "data": {
      "text/html": [
       "<div>\n",
       "<style scoped>\n",
       "    .dataframe tbody tr th:only-of-type {\n",
       "        vertical-align: middle;\n",
       "    }\n",
       "\n",
       "    .dataframe tbody tr th {\n",
       "        vertical-align: top;\n",
       "    }\n",
       "\n",
       "    .dataframe thead th {\n",
       "        text-align: right;\n",
       "    }\n",
       "</style>\n",
       "<table border=\"1\" class=\"dataframe\">\n",
       "  <thead>\n",
       "    <tr style=\"text-align: right;\">\n",
       "      <th></th>\n",
       "      <th>DepMap_ID</th>\n",
       "      <th>stripped_cell_line_name</th>\n",
       "      <th>CCLE_Name</th>\n",
       "      <th>Alias</th>\n",
       "      <th>COSMICID</th>\n",
       "      <th>sex</th>\n",
       "      <th>source</th>\n",
       "      <th>Achilles_n_replicates</th>\n",
       "      <th>cell_line_NNMD</th>\n",
       "      <th>culture_type</th>\n",
       "      <th>...</th>\n",
       "      <th>primary_or_metastasis</th>\n",
       "      <th>primary_disease</th>\n",
       "      <th>Subtype</th>\n",
       "      <th>age</th>\n",
       "      <th>Sanger_Model_ID</th>\n",
       "      <th>depmap_public_comments</th>\n",
       "      <th>lineage</th>\n",
       "      <th>lineage_subtype</th>\n",
       "      <th>lineage_sub_subtype</th>\n",
       "      <th>lineage_molecular_subtype</th>\n",
       "    </tr>\n",
       "  </thead>\n",
       "  <tbody>\n",
       "    <tr>\n",
       "      <th>1272</th>\n",
       "      <td>ACH-001500</td>\n",
       "      <td>FLO1</td>\n",
       "      <td>FLO1_OESOPHAGUS</td>\n",
       "      <td>NaN</td>\n",
       "      <td>1503361.0</td>\n",
       "      <td>Male</td>\n",
       "      <td>Sigma-Aldrich</td>\n",
       "      <td>2.0</td>\n",
       "      <td>-3.099728</td>\n",
       "      <td>Adherent</td>\n",
       "      <td>...</td>\n",
       "      <td>Primary</td>\n",
       "      <td>Esophageal Cancer</td>\n",
       "      <td>Adenocarcinoma</td>\n",
       "      <td>NaN</td>\n",
       "      <td>SIDM01041</td>\n",
       "      <td>NaN</td>\n",
       "      <td>esophagus</td>\n",
       "      <td>esophagus_adenocarcinoma</td>\n",
       "      <td>NaN</td>\n",
       "      <td>NaN</td>\n",
       "    </tr>\n",
       "  </tbody>\n",
       "</table>\n",
       "<p>1 rows × 24 columns</p>\n",
       "</div>"
      ],
      "text/plain": [
       "       DepMap_ID stripped_cell_line_name        CCLE_Name Alias   COSMICID  \\\n",
       "1272  ACH-001500                    FLO1  FLO1_OESOPHAGUS   NaN  1503361.0   \n",
       "\n",
       "       sex         source  Achilles_n_replicates  cell_line_NNMD culture_type  \\\n",
       "1272  Male  Sigma-Aldrich                    2.0       -3.099728     Adherent   \n",
       "\n",
       "      ... primary_or_metastasis    primary_disease         Subtype age  \\\n",
       "1272  ...               Primary  Esophageal Cancer  Adenocarcinoma NaN   \n",
       "\n",
       "     Sanger_Model_ID depmap_public_comments    lineage  \\\n",
       "1272       SIDM01041                    NaN  esophagus   \n",
       "\n",
       "               lineage_subtype lineage_sub_subtype lineage_molecular_subtype  \n",
       "1272  esophagus_adenocarcinoma                 NaN                       NaN  \n",
       "\n",
       "[1 rows x 24 columns]"
      ]
     },
     "execution_count": 160,
     "metadata": {},
     "output_type": "execute_result"
    }
   ],
   "source": [
    "data[data['CCLE_Name'].str.match('FLO1')]"
   ]
  },
  {
   "cell_type": "code",
   "execution_count": null,
   "metadata": {},
   "outputs": [],
   "source": []
  },
  {
   "cell_type": "code",
   "execution_count": 146,
   "metadata": {},
   "outputs": [],
   "source": [
    "datalist = data['Subtype'].values.tolist()"
   ]
  },
  {
   "cell_type": "code",
   "execution_count": 77,
   "metadata": {},
   "outputs": [
    {
     "data": {
      "text/plain": [
       "26"
      ]
     },
     "execution_count": 77,
     "metadata": {},
     "output_type": "execute_result"
    }
   ],
   "source": [
    "datalist.count('Acute Myelogenous Leukemia (AML)')"
   ]
  },
  {
   "cell_type": "code",
   "execution_count": 78,
   "metadata": {
    "collapsed": true,
    "jupyter": {
     "outputs_hidden": true
    }
   },
   "outputs": [
    {
     "data": {
      "text/plain": [
       "['Adenocarcinoma, high grade serous',\n",
       " 'Acute Myelogenous Leukemia (AML), M3 (Promyelocytic)',\n",
       " 'Adenocarcinoma',\n",
       " 'Acute Myelogenous Leukemia (AML), M6 (Erythroleukemia)',\n",
       " 'Acute Myelogenous Leukemia (AML), M6 (Erythroleukemia)',\n",
       " 'Acute Myelogenous Leukemia (AML), M5 (Eosinophilic/Monocytic)',\n",
       " 'Adenocarcinoma',\n",
       " 'Melanoma',\n",
       " 'Adenocarcinoma',\n",
       " 'Non-Small Cell Lung Cancer (NSCLC), Adenocarcinoma',\n",
       " 'Carcinoma',\n",
       " 'Non-Small Cell Lung Cancer (NSCLC), Adenocarcinoma',\n",
       " 'Adenocarcinoma, high grade serous',\n",
       " 'Melanoma',\n",
       " 'Non-Small Cell Lung Cancer (NSCLC), Large Cell Carcinoma',\n",
       " 'Renal Cell Carcinoma',\n",
       " 'Carcinoma',\n",
       " 'Carcinoma',\n",
       " 'Carcinoma',\n",
       " 'Acute Lymphoblastic Leukemia (ALL), B-cell',\n",
       " 'Non-Small Cell Lung Cancer (NSCLC), Adenocarcinoma',\n",
       " 'Ductal Adenocarcinoma, exocrine',\n",
       " 'Ductal Adenocarcinoma, exocrine',\n",
       " 'Multiple Myeloma',\n",
       " 'Meningioma',\n",
       " 'Carcinoma',\n",
       " 'Glioblastoma',\n",
       " 'Carcinoma',\n",
       " 'Non-Small Cell Lung Cancer (NSCLC), Adenocarcinoma',\n",
       " 'Non-Small Cell Lung Cancer (NSCLC), Adenocarcinoma',\n",
       " 'Ductal Adenocarcinoma, exocrine',\n",
       " 'Acute Lymphoblastic Leukemia (ALL), B-cell',\n",
       " 'Non-Small Cell Lung Cancer (NSCLC), Adenocarcinoma',\n",
       " 'Acute Myelogenous Leukemia (AML)',\n",
       " 'Non-Small Cell Lung Cancer (NSCLC), Adenocarcinoma',\n",
       " 'Glioblastoma',\n",
       " 'Thyroid Sarcoma',\n",
       " 'B-cell',\n",
       " 'Ewings Sarcoma',\n",
       " 'Astrocytoma',\n",
       " 'Ewings Sarcoma',\n",
       " 'Ductal Adenocarcinoma, exocrine',\n",
       " 'Skin',\n",
       " 'Breast Ductal Carcinoma',\n",
       " 'Acute Myelogenous Leukemia (AML)',\n",
       " 'Renal Cell Carcinoma',\n",
       " 'Adenocarcinoma',\n",
       " 'Adenocarcinoma, endometrioid',\n",
       " nan,\n",
       " 'Multiple Myeloma, plasmacytoma',\n",
       " 'Rhabdomyosarcoma',\n",
       " 'Ewings Sarcoma',\n",
       " 'T-cell, Non-Hodgkins, Anaplastic Large Cell (ALCL)',\n",
       " 'Fibrosarcoma',\n",
       " 'Medulloblastoma',\n",
       " 'Diffuse Large B-cell Lymphoma (DLBCL)',\n",
       " 'Multiple Myeloma',\n",
       " 'Carcinoma, follicular',\n",
       " 'Acute Lymphoblastic Leukemia (ALL), B-cell',\n",
       " 'Ductal Adenocarcinoma, exocrine',\n",
       " 'T-cell, Non-Hodgkins, Cutaneous',\n",
       " 'Non-Small Cell Lung Cancer (NSCLC), Adenocarcinoma',\n",
       " 'Lymphoma',\n",
       " nan,\n",
       " 'Acute Myelogenous Leukemia (AML)',\n",
       " 'Non-Small Cell Lung Cancer (NSCLC), Adenocarcinoma',\n",
       " 'Oligodendroglioma',\n",
       " 'B-cell, Non-Hodgkins, Mantle Cell',\n",
       " 'B-cell, Hodgkins',\n",
       " 'Acute Lymphoblastic Leukemia (ALL), B-cell',\n",
       " 'Bone',\n",
       " 'Chronic Myelogenous Leukemia (CML)',\n",
       " 'B-cell, Non-Hodgkins, Mantle Cell',\n",
       " 'Chronic Myelogenous Leukemia (CML), blast crisis',\n",
       " 'Astrocytoma',\n",
       " 'Chronic Myelogenous Leukemia (CML)',\n",
       " 'T-cell, Non-Hodgkins, Cutaneous',\n",
       " nan,\n",
       " 'Soft tissue',\n",
       " 'Acute Myelogenous Leukemia (AML), M5 (Eosinophilic/Monocytic)',\n",
       " 'Acute Myelogenous Leukemia (AML)',\n",
       " 'Osteosarcoma',\n",
       " 'Breast',\n",
       " 'Acute Myelogenous Leukemia (AML)',\n",
       " 'Ductal Adenocarcinoma, exocrine',\n",
       " 'Mesothelioma',\n",
       " 'Ewings Sarcoma',\n",
       " 'Bladder',\n",
       " 'Adenocarcinoma',\n",
       " 'Adenocarcinoma',\n",
       " 'Adenocarcinoma, serous',\n",
       " 'Mesothelioma',\n",
       " 'Ductal Adenocarcinoma, exocrine',\n",
       " 'Ductal Adenocarcinoma, exocrine',\n",
       " 'Medulloblastoma',\n",
       " 'Malignant Rhabdoid Tumor',\n",
       " 'Breast Ductal Carcinoma',\n",
       " 'Glioblastoma',\n",
       " nan,\n",
       " 'Rhabdomyosarcoma, alveolar',\n",
       " 'Acute Lymphoblastic Leukemia (ALL), T-cell',\n",
       " 'Glioblastoma',\n",
       " 'Adenocarcinoma, high grade serous',\n",
       " 'Acute Lymphoblastic Leukemia (ALL), T-cell',\n",
       " 'Acute Lymphoblastic Leukemia (ALL), T-cell',\n",
       " 'B-cell, Non-Hodgkins, Mantle Cell',\n",
       " 'Ductal Adenocarcinoma, exocrine',\n",
       " 'Ductal Adenosquamous Carcinoma, exocrine',\n",
       " 'Non-Small Cell Lung Cancer (NSCLC), Adenocarcinoma',\n",
       " 'Adenocarcinoma',\n",
       " 'Breast Ductal Carcinoma',\n",
       " 'Acute Myelogenous Leukemia (AML), M5 (Eosinophilic/Monocytic)',\n",
       " 'Acute Myelogenous Leukemia (AML), M4 (Myelomonocytic)',\n",
       " 'Ductal Adenocarcinoma, exocrine',\n",
       " 'Adenocarcinoma',\n",
       " 'Adenocarcinoma, high grade serous',\n",
       " 'Adenocarcinoma',\n",
       " 'Ductal Adenocarcinoma, exocrine',\n",
       " 'Bone',\n",
       " nan,\n",
       " 'Non-Small Cell Lung Cancer (NSCLC), Adenocarcinoma',\n",
       " 'Acute Lymphoblastic Leukemia (ALL), T-cell',\n",
       " 'Adenocarcinoma, endometrioid',\n",
       " 'Diffuse Large B-cell Lymphoma (DLBCL)',\n",
       " 'Lymphoma',\n",
       " 'Oligodendroglioma',\n",
       " 'Renal Cell Carcinoma',\n",
       " 'Astrocytoma',\n",
       " 'Small Cell Lung Cancer (SCLC)',\n",
       " 'Acute Lymphoblastic Leukemia (ALL), B-cell',\n",
       " 'Lung',\n",
       " 'Adenocarcinoma, high grade serous',\n",
       " 'Soft tissue',\n",
       " 'Breast',\n",
       " 'Skin',\n",
       " nan,\n",
       " 'Astrocytoma',\n",
       " 'Ductal Adenocarcinoma, exocrine',\n",
       " 'Ductal Adenocarcinoma, exocrine',\n",
       " 'Diffuse Large B-cell Lymphoma (DLBCL)',\n",
       " 'Adenocarcinoma',\n",
       " 'Transitional Cell Carcinoma',\n",
       " 'Non-Small Cell Lung Cancer (NSCLC), unspecified',\n",
       " 'Adenocarcinoma',\n",
       " 'Leiomyosarcoma',\n",
       " 'Acute Myelogenous Leukemia (AML), M5 (Eosinophilic/Monocytic)',\n",
       " 'Breast Ductal Carcinoma',\n",
       " 'Carcinoma',\n",
       " nan,\n",
       " 'Non-Small Cell Lung Cancer (NSCLC), Adenocarcinoma',\n",
       " 'Acute Lymphoblastic Leukemia (ALL), B-cell',\n",
       " 'Glioblastoma',\n",
       " 'Mesothelioma',\n",
       " 'Bone',\n",
       " 'Ductal Adenocarcinoma, exocrine',\n",
       " 'Acute Lymphoblastic Leukemia (ALL), B-cell',\n",
       " 'Diffuse Large B-cell Lymphoma (DLBCL)',\n",
       " 'Diffuse Large B-cell Lymphoma (DLBCL)',\n",
       " 'Renal Cell Carcinoma',\n",
       " 'Atypical Teratoid Rhabdoid Tumor (ATRT)',\n",
       " 'Non-Small Cell Lung Cancer (NSCLC), Adenocarcinoma',\n",
       " 'B-cell, Non-Hodgkins, Burkitts',\n",
       " 'Squamous Cell Carcinoma',\n",
       " 'Ductal Adenocarcinoma, exocrine',\n",
       " 'Lymphoma',\n",
       " 'Acute Myelogenous Leukemia (AML), M2 (Myeloblastic)',\n",
       " 'Adenocarcinoma, mucinous',\n",
       " 'Acute Myelogenous Leukemia (AML), M5 (Eosinophilic/Monocytic)',\n",
       " 'Rhabdomyosarcoma, embryonal',\n",
       " nan,\n",
       " 'Renal Cell Carcinoma',\n",
       " 'Malignant Rhabdoid Tumor',\n",
       " 'Endometrial Adenocarcinoma',\n",
       " 'Carcinoma, anaplastic',\n",
       " 'Soft tissue',\n",
       " 'Non-Small Cell Lung Cancer (NSCLC), Squamous Cell Carcinoma',\n",
       " 'Small Cell Carcinoma',\n",
       " 'Ductal Adenocarcinoma, exocrine',\n",
       " 'Small Cell Lung Cancer (SCLC)',\n",
       " 'Skin',\n",
       " 'Squamous Cell Carcinoma',\n",
       " 'Cholangiocarcinoma, extrahepatic',\n",
       " 'Multiple Myeloma',\n",
       " 'Breast',\n",
       " 'Bone',\n",
       " 'Non-Small Cell Lung Cancer (NSCLC), unspecified',\n",
       " 'Small Cell Lung Cancer (SCLC)',\n",
       " 'Squamous Cell Carcinoma',\n",
       " 'Renal Cell Carcinoma',\n",
       " 'B-cell, Hodgkins',\n",
       " 'Carcinoma, papillary',\n",
       " 'Endometrial Adenocarcinoma',\n",
       " 'Multiple Myeloma',\n",
       " 'Skin',\n",
       " 'Acute Myelogenous Leukemia (AML)',\n",
       " 'Breast Ductal Carcinoma',\n",
       " 'Acute Lymphoblastic Leukemia (ALL), T-cell',\n",
       " 'Acute Myelogenous Leukemia (AML), M5 (Eosinophilic/Monocytic)',\n",
       " 'Colorectal',\n",
       " 'Glioblastoma',\n",
       " 'Malignant Rhabdoid Tumor',\n",
       " 'Adenocarcinoma',\n",
       " nan,\n",
       " 'Multiple Myeloma',\n",
       " 'Ductal Adenocarcinoma, exocrine',\n",
       " 'ATL',\n",
       " 'Squamous Cell Carcinoma, pharynx',\n",
       " 'Glioblastoma',\n",
       " 'Cholangiocarcinoma, intrahepatic',\n",
       " 'Ewings Sarcoma',\n",
       " 'Medulloblastoma',\n",
       " 'Carcinoma',\n",
       " 'Ductal Adenocarcinoma, exocrine',\n",
       " 'Colorectal',\n",
       " 'Glioblastoma',\n",
       " 'Adenocarcinoma',\n",
       " 'Hepatocellular Carcinoma',\n",
       " 'Acute Myelogenous Leukemia (AML), M3 (Promyelocytic)',\n",
       " 'Melanoma',\n",
       " 'B-cell, Non-Hodgkins, Mantle Cell',\n",
       " 'Hepatocellular Carcinoma',\n",
       " 'Ductal Adenocarcinoma, exocrine',\n",
       " 'Breast Ductal Carcinoma',\n",
       " 'Bone',\n",
       " 'Small Cell Carcinoma',\n",
       " 'T-cell, Non-Hodgkins, Anaplastic Large Cell (ALCL)',\n",
       " nan,\n",
       " 'Squamous Cell Carcinoma, oral',\n",
       " 'Bone',\n",
       " 'Breast',\n",
       " 'Glioblastoma',\n",
       " 'Astrocytoma',\n",
       " 'T-cell, Non-Hodgkins, Anaplastic Large Cell (ALCL)',\n",
       " 'Renal Carcinoma, clear cell',\n",
       " 'Ductal Adenocarcinoma, exocrine',\n",
       " 'Adenocarcinoma',\n",
       " 'Adenocarcinoma, mucinous',\n",
       " 'Squamous Cell Carcinoma, oral',\n",
       " 'Adenocarcinoma, tubular',\n",
       " 'Skin',\n",
       " 'Chronic Myelogenous Leukemia (CML), blast crisis',\n",
       " 'Transitional Cell Carcinoma',\n",
       " 'Ductal Adenocarcinoma, exocrine',\n",
       " 'Glioblastoma',\n",
       " 'B-cell, Non-Hodgkins, Burkitts',\n",
       " 'Renal Cell Carcinoma',\n",
       " 'Adenocarcinoma',\n",
       " 'Adenocarcinoma',\n",
       " 'Adenocarcinoma',\n",
       " 'Renal Cell Carcinoma',\n",
       " 'Non-Small Cell Lung Cancer (NSCLC), unspecified',\n",
       " 'Adenocarcinoma',\n",
       " 'Adenocarcinoma',\n",
       " 'Squamous Cell Carcinoma',\n",
       " 'Adenocarcinoma',\n",
       " 'Adenocarcinoma, high grade serous',\n",
       " 'Small Cell Lung Cancer (SCLC)',\n",
       " 'Carcinoma',\n",
       " nan,\n",
       " nan,\n",
       " 'Non-Small Cell Lung Cancer (NSCLC), Squamous Cell Carcinoma',\n",
       " 'Renal Cell Carcinoma',\n",
       " 'Acute Myelogenous Leukemia (AML), M2 (Myeloblastic)',\n",
       " 'Non-Small Cell Lung Cancer (NSCLC), unspecified',\n",
       " 'Ductal Adenocarcinoma, exocrine',\n",
       " 'Ductal Adenocarcinoma, exocrine',\n",
       " 'B-cell, Hodgkins',\n",
       " 'Cholangiocarcinoma, extrahepatic',\n",
       " 'Glioblastoma',\n",
       " 'Ductal Adenocarcinoma, exocrine',\n",
       " 'Diffuse Large B-cell Lymphoma (DLBCL)',\n",
       " 'Renal Cell Carcinoma',\n",
       " 'Glioma',\n",
       " 'Melanoma',\n",
       " 'Skin',\n",
       " 'Breast Ductal Carcinoma',\n",
       " 'Breast Ductal Carcinoma',\n",
       " 'Adenocarcinoma, high grade serous',\n",
       " 'Ewings Sarcoma',\n",
       " 'Carcinoma, brenner',\n",
       " 'Ductal Adenocarcinoma, exocrine',\n",
       " 'Non-Small Cell Lung Cancer (NSCLC), Adenocarcinoma',\n",
       " 'Glioblastoma',\n",
       " 'Upper aerodigestive',\n",
       " 'Diffuse Large B-cell Lymphoma (DLBCL)',\n",
       " 'Adenocarcinoma',\n",
       " 'Diffuse Large B-cell Lymphoma (DLBCL)',\n",
       " 'Breast Ductal Carcinoma',\n",
       " 'Glioblastoma',\n",
       " 'Small Cell Lung Cancer (SCLC)',\n",
       " 'Adenocarcinoma, high grade serous',\n",
       " 'Small Cell Lung Cancer (SCLC)',\n",
       " 'Endometrial Adenocarcinoma',\n",
       " 'Acute Myelogenous Leukemia (AML), M3 (Promyelocytic)',\n",
       " 'Chronic Myelogenous Leukemia (CML), blast crisis',\n",
       " 'Adenocarcinoma',\n",
       " 'Small Cell Lung Cancer (SCLC)',\n",
       " 'Small Cell Lung Cancer (SCLC)',\n",
       " 'Acute Myelogenous Leukemia (AML), M4 (Myelomonocytic)',\n",
       " 'Renal Cell Carcinoma',\n",
       " 'Chronic Myelogenous Leukemia (CML), blast crisis',\n",
       " 'Mullerian Carcinoma',\n",
       " 'Adenocarcinoma',\n",
       " 'Melanoma',\n",
       " 'Squamous Cell Carcinoma',\n",
       " 'Skin',\n",
       " 'Ductal Adenocarcinoma, exocrine',\n",
       " 'Adenocarcinoma, clear cell',\n",
       " 'Non-Small Cell Lung Cancer (NSCLC), Adenocarcinoma',\n",
       " nan,\n",
       " 'Non-Small Cell Lung Cancer (NSCLC), Adenocarcinoma',\n",
       " nan,\n",
       " 'Renal Carcinoma, clear cell',\n",
       " 'Non-Small Cell Lung Cancer (NSCLC), Adenocarcinoma',\n",
       " 'Diffuse Large B-cell Lymphoma (DLBCL)',\n",
       " 'Hepatocellular Carcinoma',\n",
       " 'Renal Cell Carcinoma',\n",
       " 'Squamous Cell Carcinoma',\n",
       " 'Mesothelioma',\n",
       " 'Ductal Adenocarcinoma, exocrine',\n",
       " 'Chronic Myelogenous Leukemia (CML), blast crisis',\n",
       " 'Melanoma',\n",
       " 'Astrocytoma',\n",
       " 'Adenocarcinoma, clear cell',\n",
       " 'Adenocarcinoma',\n",
       " 'Chronic Myelogenous Leukemia (CML), blast crisis',\n",
       " 'Non-Small Cell Lung Cancer (NSCLC), Adenocarcinoma',\n",
       " 'Glioblastoma',\n",
       " 'Astrocytoma',\n",
       " 'Breast Ductal Carcinoma',\n",
       " 'Mesothelioma',\n",
       " 'Ductal Adenocarcinoma, exocrine',\n",
       " 'Adenocarcinoma, mucinous',\n",
       " 'Diffuse Large B-cell Lymphoma (DLBCL)',\n",
       " 'Mesothelioma',\n",
       " 'Acute Myelogenous Leukemia (AML), M4 (Myelomonocytic)',\n",
       " 'Non-Small Cell Lung Cancer (NSCLC), Adenocarcinoma',\n",
       " 'T-cell, Non-Hodgkins, Anaplastic Large Cell (ALCL)',\n",
       " 'Non-Small Cell Lung Cancer (NSCLC), Adenocarcinoma',\n",
       " 'Bone',\n",
       " nan,\n",
       " 'Adenocarcinoma',\n",
       " 'Non-Small Cell Lung Cancer (NSCLC), Adenocarcinoma',\n",
       " 'Adenocarcinoma',\n",
       " nan,\n",
       " 'Chronic Lymphoblastic Leukemia (CLL), B-cell',\n",
       " 'Somatostatinoma',\n",
       " 'Melanoma',\n",
       " 'Breast Ductal Carcinoma',\n",
       " 'Adenocarcinoma',\n",
       " 'Adenocarcinoma',\n",
       " 'Carcinoma',\n",
       " 'Squamous Cell Carcinoma',\n",
       " 'Ductal Adenocarcinoma, exocrine',\n",
       " 'Small Cell Lung Cancer (SCLC)',\n",
       " 'Adenocarcinoma',\n",
       " 'B-cell, Non-Hodgkins, Mantle Cell',\n",
       " 'Small Cell Lung Cancer (SCLC)',\n",
       " 'Osteosarcoma',\n",
       " 'Caecum Adenocarcinoma',\n",
       " 'Hepatocellular Carcinoma',\n",
       " 'Acute Myelogenous Leukemia (AML)',\n",
       " 'Multiple Myeloma',\n",
       " 'Osteosarcoma',\n",
       " 'Diffuse Large B-cell Lymphoma (DLBCL)',\n",
       " nan,\n",
       " 'Non-Small Cell Lung Cancer (NSCLC), Squamous Cell Carcinoma',\n",
       " 'Glioblastoma',\n",
       " 'Acute Myelogenous Leukemia (AML)',\n",
       " 'Glioblastoma',\n",
       " 'B-cell, Non-Hodgkins',\n",
       " 'Acute Lymphoblastic Leukemia (ALL), T-cell',\n",
       " 'Acute Myelogenous Leukemia (AML)',\n",
       " 'Breast Ductal Carcinoma',\n",
       " 'Renal Leiomyoblastoma',\n",
       " 'Glioblastoma',\n",
       " 'Cholangiocarcinoma, extrahepatic',\n",
       " 'Non-Small Cell Lung Cancer (NSCLC), Adenosquamous Carcinoma',\n",
       " 'Non-Small Cell Lung Cancer (NSCLC), Adenocarcinoma',\n",
       " 'Multiple Myeloma',\n",
       " 'Adenocarcinoma',\n",
       " 'Small Cell Lung Cancer (SCLC)',\n",
       " 'Adenocarcinoma',\n",
       " 'Transitional Cell Carcinoma',\n",
       " 'Renal Cell Carcinoma',\n",
       " 'Acute Myelogenous Leukemia (AML)',\n",
       " 'Acute Myelogenous Leukemia (AML)',\n",
       " 'Diffuse Large B-cell Lymphoma (DLBCL)',\n",
       " 'Glioma',\n",
       " 'Non-Small Cell Lung Cancer (NSCLC), Squamous Cell Carcinoma',\n",
       " 'Ewings Sarcoma',\n",
       " 'Non-Small Cell Lung Cancer (NSCLC), Adenocarcinoma',\n",
       " 'Hepatocellular Carcinoma',\n",
       " 'Small Cell Lung Cancer (SCLC)',\n",
       " 'Non-Small Cell Lung Cancer (NSCLC), Squamous Cell Carcinoma',\n",
       " 'Transitional Cell Carcinoma',\n",
       " 'Clear Cell Carcinoma',\n",
       " 'B-cell, Non-Hodgkins',\n",
       " 'Small Cell Lung Cancer (SCLC)',\n",
       " 'Adenocarcinoma',\n",
       " 'Melanoma',\n",
       " 'B-cell, Non-Hodgkins, Burkitts',\n",
       " 'Adenocarcinoma',\n",
       " 'Melanoma',\n",
       " 'Chronic Lymphoblastic Leukemia (CLL), B-cell',\n",
       " 'Acute Myelogenous Leukemia (AML)',\n",
       " 'Malignant Mixed Mullerian Tumor (MMMT)',\n",
       " 'Squamous Cell Carcinoma',\n",
       " 'Adenocarcinoma, high grade serous',\n",
       " 'Osteosarcoma',\n",
       " 'Renal Carcinoma, clear cell',\n",
       " 'Adenocarcinoma',\n",
       " 'Breast',\n",
       " 'Non-Small Cell Lung Cancer (NSCLC), Adenocarcinoma',\n",
       " 'Squamous Cell Carcinoma, oral',\n",
       " 'Non-Small Cell Lung Cancer (NSCLC), Adenocarcinoma',\n",
       " 'Ductal Adenocarcinoma, exocrine',\n",
       " 'Chondrosarcoma',\n",
       " 'Multiple Myeloma',\n",
       " 'Hepatocellular Carcinoma',\n",
       " 'Adenocarcinoma',\n",
       " 'Hepatocellular Carcinoma',\n",
       " 'Melanoma',\n",
       " 'Ewings Sarcoma',\n",
       " 'Melanoma',\n",
       " 'Multiple Myeloma',\n",
       " 'Adenocarcinoma, tubular',\n",
       " 'Renal Cell Carcinoma',\n",
       " 'Renal Cell Carcinoma',\n",
       " 'Adenocarcinoma, high grade serous',\n",
       " 'Small Cell Lung Cancer (SCLC)',\n",
       " 'Chronic Myelogenous Leukemia (CML), blast crisis',\n",
       " 'Renal Carcinoma, clear cell',\n",
       " 'Non-Small Cell Lung Cancer (NSCLC), Large Cell Carcinoma',\n",
       " 'Endometrial Adenocarcinoma',\n",
       " 'Multiple Myeloma',\n",
       " 'Astrocytoma',\n",
       " 'Non-Small Cell Lung Cancer (NSCLC), Large Cell Carcinoma',\n",
       " 'Acute Myelogenous Leukemia (AML), M4 (Myelomonocytic)',\n",
       " 'B-cell, Non-Hodgkins, Burkitts',\n",
       " 'Melanoma',\n",
       " 'Non-Small Cell Lung Cancer (NSCLC), Squamous Cell Carcinoma',\n",
       " 'Adenocarcinoma, high grade serous',\n",
       " 'Non-Small Cell Lung Cancer (NSCLC), Large Cell Carcinoma',\n",
       " 'Glioblastoma',\n",
       " nan,\n",
       " 'Non-Small Cell Lung Cancer (NSCLC), Adenocarcinoma',\n",
       " 'Non-Small Cell Lung Cancer (NSCLC), Adenocarcinoma',\n",
       " 'Uterine Sarcoma',\n",
       " 'Melanoma',\n",
       " 'Non-Small Cell Lung Cancer (NSCLC), Adenocarcinoma',\n",
       " 'Squamous Cell Carcinoma',\n",
       " 'Multiple Myeloma',\n",
       " 'Non-Small Cell Lung Cancer (NSCLC), Squamous Cell Carcinoma',\n",
       " 'Glioblastoma',\n",
       " 'Carcinoma, papillary',\n",
       " 'Renal Cell Carcinoma',\n",
       " 'Melanoma',\n",
       " 'Renal Cell Carcinoma',\n",
       " 'Adenocarcinoma, high grade serous',\n",
       " 'Cholangiocarcinoma, extrahepatic',\n",
       " 'Chronic Myelogenous Leukemia (CML), blast crisis',\n",
       " 'Non-Small Cell Lung Cancer (NSCLC), Large Cell Carcinoma',\n",
       " 'Glioblastoma',\n",
       " 'Melanoma',\n",
       " 'Adenocarcinoma, tubular',\n",
       " 'Adenocarcinoma',\n",
       " 'Ductal Adenocarcinoma, exocrine',\n",
       " 'Glioblastoma',\n",
       " 'Adenocarcinoma',\n",
       " nan,\n",
       " 'Squamous Cell Carcinoma',\n",
       " 'Transitional Cell Carcinoma',\n",
       " 'Hepatocellular Carcinoma, HBs-antigen carrier',\n",
       " 'Hepatocellular Carcinoma',\n",
       " 'Melanoma',\n",
       " 'Hepatocellular Carcinoma',\n",
       " 'Glioblastoma',\n",
       " 'Hepatocellular Carcinoma',\n",
       " 'Non-Small Cell Lung Cancer (NSCLC), Squamous Cell Carcinoma',\n",
       " 'Non-Small Cell Lung Cancer (NSCLC), Adenocarcinoma',\n",
       " 'Hepatocellular Carcinoma',\n",
       " 'Renal Cell Carcinoma',\n",
       " 'Adenocarcinoma',\n",
       " 'Transitional Cell Carcinoma',\n",
       " 'Acute Myelogenous Leukemia (AML), M6 (Erythroleukemia)',\n",
       " 'Squamous Cell Carcinoma',\n",
       " 'Adenocarcinoma',\n",
       " 'Astrocytoma',\n",
       " 'Adenocarcinoma',\n",
       " 'Acute Lymphoblastic Leukemia (ALL), B-cell',\n",
       " 'Hepatocellular Carcinoma',\n",
       " nan,\n",
       " 'Renal Cell Carcinoma',\n",
       " 'Non-Small Cell Lung Cancer (NSCLC), Adenocarcinoma',\n",
       " 'Acute Myelogenous Leukemia (AML), M2 (Myeloblastic)',\n",
       " 'Ewings Sarcoma',\n",
       " 'Squamous Cell Carcinoma, laryngeal',\n",
       " 'Adenocarcinoma',\n",
       " 'Ductal Adenocarcinoma, exocrine',\n",
       " 'Squamous Cell Carcinoma, oral',\n",
       " 'Glioma',\n",
       " 'Leiomyosarcoma',\n",
       " 'Small Cell Lung Cancer (SCLC)',\n",
       " 'Adenocarcinoma',\n",
       " 'Small Cell Lung Cancer (SCLC)',\n",
       " 'T-cell, Non-Hodgkins, Cutaneous',\n",
       " 'Non-Small Cell Lung Cancer (NSCLC), Large Cell Carcinoma',\n",
       " 'Non-Small Cell Lung Cancer (NSCLC), Squamous Cell Carcinoma',\n",
       " 'Multiple Myeloma',\n",
       " 'Renal Carcinoma, clear cell',\n",
       " 'Small Cell Lung Cancer (SCLC)',\n",
       " 'Small Cell Lung Cancer (SCLC)',\n",
       " 'Chondrosarcoma',\n",
       " 'Ductal Adenocarcinoma, exocrine',\n",
       " 'Squamous Cell Carcinoma, oral',\n",
       " 'Acute Lymphoblastic Leukemia (ALL), T-cell',\n",
       " 'Adenocarcinoma, high grade serous',\n",
       " 'Non-Small Cell Lung Cancer (NSCLC), Adenocarcinoma',\n",
       " 'Transitional Cell Carcinoma',\n",
       " 'Small Cell Lung Cancer (SCLC)',\n",
       " 'Adenocarcinoma, high grade serous',\n",
       " 'Small Cell Lung Cancer (SCLC)',\n",
       " 'Bone',\n",
       " 'Adenocarcinoma, clear cell',\n",
       " 'Non-Small Cell Lung Cancer (NSCLC), Adenocarcinoma',\n",
       " 'Bone',\n",
       " 'Small Cell Lung Cancer (SCLC)',\n",
       " 'Lung',\n",
       " 'Adenocarcinoma',\n",
       " 'Malignant Rhabdoid Tumor',\n",
       " 'Diffuse Large B-cell Lymphoma (DLBCL)',\n",
       " 'Ductal Adenocarcinoma, exocrine',\n",
       " 'Breast Ductal Carcinoma',\n",
       " 'Hepatocellular Carcinoma',\n",
       " 'Duodenal Adenocarcinoma',\n",
       " 'Lung',\n",
       " 'Breast',\n",
       " 'Multiple Myeloma',\n",
       " 'Adenocarcinoma, low grade serous',\n",
       " 'Glioblastoma',\n",
       " 'Squamous Cell Carcinoma',\n",
       " 'Transitional Cell Carcinoma',\n",
       " 'Squamous Cell Carcinoma',\n",
       " 'Carcinoma',\n",
       " 'Squamous Cell Carcinoma, oral',\n",
       " 'Squamous Cell Carcinoma, laryngeal',\n",
       " 'Melanoma',\n",
       " 'Chronic Myelogenous Leukemia (CML), blast crisis',\n",
       " 'Adenocarcinoma',\n",
       " 'Non-Small Cell Lung Cancer (NSCLC), Squamous Cell Carcinoma',\n",
       " 'Breast Ductal Carcinoma',\n",
       " 'Renal Cell Carcinoma',\n",
       " 'Carcinoma',\n",
       " 'Acute Myelogenous Leukemia (AML), M5 (Eosinophilic/Monocytic)',\n",
       " 'Glioblastoma',\n",
       " 'Small Cell Lung Cancer (SCLC)',\n",
       " 'Small Cell Carcinoma',\n",
       " 'Squamous Cell Carcinoma',\n",
       " 'Non-Small Cell Lung Cancer (NSCLC), Adenocarcinoma',\n",
       " 'Non-Small Cell Lung Cancer (NSCLC), Squamous Cell Carcinoma',\n",
       " 'Multiple Myeloma',\n",
       " 'Adenocarcinoma',\n",
       " 'Transitional Cell Carcinoma',\n",
       " 'B-cell, Non-Hodgkins, Burkitts',\n",
       " 'Breast Ductal Carcinoma',\n",
       " 'Mesothelioma',\n",
       " 'Glioblastoma',\n",
       " 'Glioblastoma',\n",
       " 'Melanoma',\n",
       " 'Carcinoma',\n",
       " 'Adenocarcinoma, high grade serous',\n",
       " 'Non-Small Cell Lung Cancer (NSCLC), Adenocarcinoma',\n",
       " 'Multiple Myeloma',\n",
       " 'Hepatocellular Carcinoma',\n",
       " 'Non-Small Cell Lung Cancer (NSCLC), Adenocarcinoma',\n",
       " 'Melanoma',\n",
       " 'Melanoma, amelanotic',\n",
       " 'Adenocarcinoma',\n",
       " 'Melanoma',\n",
       " 'B-cell, Non-Hodgkins',\n",
       " 'Adenocarcinoma, high grade serous',\n",
       " 'Non-Small Cell Lung Cancer (NSCLC), Squamous Cell Carcinoma',\n",
       " 'Small Cell Lung Cancer (SCLC)',\n",
       " 'Non-Small Cell Lung Cancer (NSCLC), Adenocarcinoma',\n",
       " 'Multiple Myeloma',\n",
       " 'Non-Small Cell Lung Cancer (NSCLC), Adenocarcinoma',\n",
       " 'Non-Small Cell Lung Cancer (NSCLC), Adenocarcinoma',\n",
       " 'Astrocytoma',\n",
       " 'Glioma',\n",
       " 'Transitional Cell Carcinoma',\n",
       " 'Small Cell Lung Cancer (SCLC)',\n",
       " 'Glioblastoma',\n",
       " 'Non-Small Cell Lung Cancer (NSCLC), Large Cell Carcinoma',\n",
       " 'Malignant Rhabdoid Tumor',\n",
       " 'Multiple Myeloma',\n",
       " 'Ductal Adenocarcinoma, exocrine',\n",
       " 'Renal Cell Carcinoma',\n",
       " 'Ductal Adenocarcinoma, exocrine',\n",
       " 'Acute Myelogenous Leukemia (AML), M7 (Megakaryoblastic)',\n",
       " 'Non-Small Cell Lung Cancer (NSCLC), unspecified',\n",
       " 'Chronic Myelogenous Leukemia (CML), blast crisis',\n",
       " 'Squamous Cell Carcinoma',\n",
       " 'Squamous Cell Carcinoma, basaloid',\n",
       " 'Malignant Rhabdoid Tumor',\n",
       " 'Adenocarcinoma, mucinous',\n",
       " 'Astrocytoma',\n",
       " 'Small Cell Lung Cancer (SCLC)',\n",
       " 'Diffuse Large B-cell Lymphoma (DLBCL)',\n",
       " 'T-cell',\n",
       " 'Osteosarcoma',\n",
       " 'Melanoma',\n",
       " 'Melanoma',\n",
       " 'Adenocarcinoma',\n",
       " 'Adenocarcinoma, high grade serous',\n",
       " 'Squamous Cell Carcinoma, hypopharyngeal',\n",
       " 'Squamous Cell Carcinoma, oral',\n",
       " 'Hepatocellular Carcinoma',\n",
       " 'Breast Ductal Carcinoma',\n",
       " 'Glioblastoma',\n",
       " 'Glioblastoma',\n",
       " 'Breast Ductal Carcinoma',\n",
       " 'Hepatocellular Carcinoma',\n",
       " 'Multiple Myeloma, plasmacytoma',\n",
       " 'Non-Small Cell Lung Cancer (NSCLC), Large Cell Carcinoma',\n",
       " 'Non-Small Cell Lung Cancer (NSCLC), Adenosquamous Carcinoma',\n",
       " 'Meningioma',\n",
       " 'Squamous Cell Carcinoma, tongue',\n",
       " 'Astrocytoma',\n",
       " 'Melanoma',\n",
       " 'Adenocarcinoma',\n",
       " 'Glioblastoma',\n",
       " 'Cystadenocarcinoma, high grade serous',\n",
       " 'Acute Lymphoblastic Leukemia (ALL), T-cell',\n",
       " 'Squamous Cell Carcinoma',\n",
       " 'Non-Small Cell Lung Cancer (NSCLC), Adenocarcinoma',\n",
       " 'Small Cell Lung Cancer (SCLC)',\n",
       " 'Melanoma',\n",
       " 'Acute Myelogenous Leukemia (AML), M7 (Megakaryoblastic)',\n",
       " nan,\n",
       " 'Breast Ductal Carcinoma',\n",
       " 'Melanoma',\n",
       " 'Mesothelioma',\n",
       " 'Adenocarcinoma, clear cell',\n",
       " 'Squamous Cell Carcinoma',\n",
       " 'Mesothelioma',\n",
       " 'Renal Carcinoma, clear cell',\n",
       " 'Melanoma',\n",
       " 'Adenocarcinoma',\n",
       " 'Ductal Adenocarcinoma, exocrine',\n",
       " 'Multiple Myeloma',\n",
       " 'B-cell, Non-Hodgkins, Burkitts',\n",
       " 'Glioma',\n",
       " 'Diffuse Large B-cell Lymphoma (DLBCL)',\n",
       " 'Adenocarcinoma, endometrioid',\n",
       " 'Multiple Myeloma',\n",
       " 'Small Cell Lung Cancer (SCLC)',\n",
       " 'Diffuse Large B-cell Lymphoma (DLBCL)',\n",
       " 'Melanoma',\n",
       " 'Non-Small Cell Lung Cancer (NSCLC), Large Cell Carcinoma',\n",
       " 'Adenocarcinoma, clear cell',\n",
       " 'T-cell, Non-Hodgkins, Anaplastic Large Cell (ALCL)',\n",
       " 'Non-Small Cell Lung Cancer (NSCLC), Squamous Cell Carcinoma',\n",
       " 'Non-Small Cell Lung Cancer (NSCLC), Adenocarcinoma',\n",
       " 'Non-Small Cell Lung Cancer (NSCLC), Adenocarcinoma',\n",
       " 'Breast Ductal Carcinoma',\n",
       " 'Non-Small Cell Lung Cancer (NSCLC), Squamous Cell Carcinoma',\n",
       " 'Small Cell Lung Cancer (SCLC)',\n",
       " 'Hepatoblastoma',\n",
       " 'Non-Small Cell Lung Cancer (NSCLC), Large Cell Carcinoma',\n",
       " 'Glioblastoma',\n",
       " 'Adenocarcinoma',\n",
       " 'Non-Small Cell Lung Cancer (NSCLC), Adenocarcinoma',\n",
       " 'Glioblastoma',\n",
       " 'Non-Small Cell Lung Cancer (NSCLC), Adenocarcinoma',\n",
       " 'Adenocarcinoma, tubular',\n",
       " 'Squamous Cell Carcinoma',\n",
       " 'Adenocarcinoma',\n",
       " 'Non-Small Cell Lung Cancer (NSCLC), Adenocarcinoma',\n",
       " 'Squamous Cell Carcinoma',\n",
       " 'Adenocarcinoma',\n",
       " 'Renal Carcinoma, clear cell',\n",
       " 'Ductal Adenosquamous Carcinoma',\n",
       " 'Hepatocellular Carcinoma',\n",
       " 'B-cell, Non-Hodgkins',\n",
       " 'Adenocarcinoma, mixed',\n",
       " 'Rhabdomyosarcoma',\n",
       " 'Non-Small Cell Lung Cancer (NSCLC), Squamous Cell Carcinoma',\n",
       " 'Breast Ductal Carcinoma',\n",
       " 'Squamous Cell Carcinoma, laryngeal',\n",
       " 'Squamous Cell Carcinoma',\n",
       " 'Squamous Cell Carcinoma',\n",
       " 'Small Cell Lung Cancer (SCLC)',\n",
       " 'Adenocarcinoma, high grade serous',\n",
       " 'Diffuse Large B-cell Lymphoma (DLBCL)',\n",
       " 'Small Cell Lung Cancer (SCLC)',\n",
       " 'Breast Ductal Carcinoma',\n",
       " 'Non-Small Cell Lung Cancer (NSCLC), Squamous Cell Carcinoma',\n",
       " 'Cystadenocarcinoma, mucinous',\n",
       " 'B-cell, Hodgkins',\n",
       " 'Small Cell Lung Cancer (SCLC)',\n",
       " 'Carcinoma',\n",
       " 'Non-Small Cell Lung Cancer (NSCLC), Squamous Cell Carcinoma',\n",
       " 'Non-Small Cell Lung Cancer (NSCLC), Adenocarcinoma',\n",
       " 'B-cell, Non-Hodgkins, Burkitts',\n",
       " 'Adenocarcinoma',\n",
       " 'Renal Carcinoma, clear cell',\n",
       " 'Non-Small Cell Lung Cancer (NSCLC), Adenocarcinoma',\n",
       " 'Breast Ductal Carcinoma',\n",
       " 'Non-Small Cell Lung Cancer (NSCLC), Adenocarcinoma',\n",
       " 'Adenocarcinoma, high grade serous',\n",
       " 'Multiple Myeloma',\n",
       " 'Squamous Cell Carcinoma, laryngeal',\n",
       " 'Carcinoma, follicular',\n",
       " 'Squamous Cell Carcinoma',\n",
       " 'Non-Small Cell Lung Cancer (NSCLC), Adenocarcinoma',\n",
       " 'Adenocarcinoma, clear cell',\n",
       " 'Transitional Cell Carcinoma',\n",
       " 'Carcinoma',\n",
       " 'Adenocarcinoma',\n",
       " 'Squamous Cell Carcinoma, tongue',\n",
       " 'Carcinoma',\n",
       " 'Breast Ductal Carcinoma',\n",
       " 'Squamous Cell Carcinoma',\n",
       " 'Small Cell Lung Cancer (SCLC)',\n",
       " 'Acute Lymphoblastic Leukemia (ALL), B-cell',\n",
       " 'Small Cell Lung Cancer (SCLC)',\n",
       " 'Melanoma',\n",
       " 'Non-Small Cell Lung Cancer (NSCLC), Adenocarcinoma',\n",
       " 'Squamous Cell Carcinoma, oral',\n",
       " 'Non-Small Cell Lung Cancer (NSCLC), Adenocarcinoma',\n",
       " 'Hepatocellular Carcinoma',\n",
       " 'Squamous Cell Carcinoma, oral',\n",
       " 'Adenocarcinoma, signet ring cell',\n",
       " 'Non-Small Cell Lung Cancer (NSCLC), Squamous Cell Carcinoma',\n",
       " 'Glioblastoma',\n",
       " 'Hepatocellular Carcinoma',\n",
       " 'Squamous Cell Carcinoma, salivary gland',\n",
       " 'Transitional Cell Carcinoma',\n",
       " 'Lung',\n",
       " 'Small Cell Lung Cancer (SCLC)',\n",
       " 'Non-Small Cell Lung Cancer (NSCLC), Adenocarcinoma',\n",
       " 'Multiple Myeloma',\n",
       " 'Adenocarcinoma',\n",
       " 'Non-Small Cell Lung Cancer (NSCLC), Squamous Cell Carcinoma',\n",
       " 'Osteosarcoma',\n",
       " 'Small Cell Lung Cancer (SCLC)',\n",
       " 'Melanoma',\n",
       " 'Acute Myelogenous Leukemia (AML), M6 (Erythroleukemia)',\n",
       " 'Small Cell Lung Cancer (SCLC)',\n",
       " 'Carcinoma',\n",
       " 'B-cell, Hodgkins',\n",
       " 'Breast Ductal Carcinoma',\n",
       " 'Glioblastoma',\n",
       " 'Non-Small Cell Lung Cancer (NSCLC), Adenocarcinoma',\n",
       " 'Adenocarcinoma',\n",
       " 'Breast Ductal Carcinoma',\n",
       " 'Glioblastoma',\n",
       " 'Adenocarcinoma',\n",
       " 'Squamous Cell Carcinoma',\n",
       " 'Multiple Myeloma',\n",
       " 'Adenocarcinoma, mucinous',\n",
       " 'Melanoma',\n",
       " 'Non-Small Cell Lung Cancer (NSCLC), Adenocarcinoma',\n",
       " 'Small Cell Lung Cancer (SCLC)',\n",
       " 'Carcinoma',\n",
       " 'Non-Small Cell Lung Cancer (NSCLC), Squamous Cell Carcinoma',\n",
       " 'Acute Myelogenous Leukemia (AML), M5 (Eosinophilic/Monocytic)',\n",
       " 'Squamous Cell Carcinoma, oral',\n",
       " 'Rhabdomyosarcoma',\n",
       " 'T-cell, Non-Hodgkins, Anaplastic Large Cell (ALCL)',\n",
       " 'Non-Small Cell Lung Cancer (NSCLC), Adenocarcinoma',\n",
       " 'Carcinoid',\n",
       " 'Medulloblastoma',\n",
       " 'Squamous Cell Carcinoma',\n",
       " 'Squamous Cell Carcinoma',\n",
       " 'Non-Small Cell Lung Cancer (NSCLC), Adenocarcinoma',\n",
       " 'Small Cell Lung Cancer (SCLC)',\n",
       " 'Non-Small Cell Lung Cancer (NSCLC), Adenocarcinoma',\n",
       " 'Acute Lymphoblastic Leukemia (ALL), B-cell',\n",
       " 'Carcinoma',\n",
       " 'Squamous Cell Carcinoma',\n",
       " 'Non-Small Cell Lung Cancer (NSCLC), Adenocarcinoma',\n",
       " 'B-cell, Non-Hodgkins, Burkitts',\n",
       " 'Non-Small Cell Lung Cancer (NSCLC), Adenocarcinoma',\n",
       " 'Melanoma',\n",
       " 'Non-Small Cell Lung Cancer (NSCLC), Large Cell Carcinoma',\n",
       " 'Small Cell Lung Cancer (SCLC)',\n",
       " 'Non-Small Cell Lung Cancer (NSCLC), Adenocarcinoma',\n",
       " 'Renal Carcinoma, transitional cell',\n",
       " 'Adenocarcinoma, signet ring cell',\n",
       " 'Squamous Cell Carcinoma, oral',\n",
       " 'Acute Lymphoblastic Leukemia (ALL), T-cell',\n",
       " 'Cystadenocarcinoma, mucinous',\n",
       " 'Lung',\n",
       " 'Adenocarcinoma',\n",
       " 'Melanoma, amelanotic',\n",
       " 'Small Cell Lung Cancer (SCLC)',\n",
       " 'Melanoma',\n",
       " 'Transitional Cell Carcinoma',\n",
       " 'Small Cell Lung Cancer (SCLC)',\n",
       " nan,\n",
       " 'Melanoma',\n",
       " 'B-cell, Hodgkins',\n",
       " 'Oligodendroglioma',\n",
       " 'Cholangiocarcinoma, intrahepatic',\n",
       " 'Squamous Cell Carcinoma',\n",
       " 'Melanoma',\n",
       " 'Cystadenocarcinoma, endometrioid',\n",
       " 'Melanoma',\n",
       " 'Non-Small Cell Lung Cancer (NSCLC), Large Cell Carcinoma',\n",
       " 'Melanoma',\n",
       " 'B-cell, Hodgkins',\n",
       " 'Small Cell Lung Cancer (SCLC)',\n",
       " 'Multiple Myeloma, plasmacytoma',\n",
       " 'Breast Ductal Carcinoma',\n",
       " 'Glioblastoma',\n",
       " 'Adenocarcinoma',\n",
       " 'Multiple Myeloma',\n",
       " 'Melanoma',\n",
       " 'Squamous Cell Carcinoma',\n",
       " 'Squamous Cell Carcinoma',\n",
       " 'Non-Small Cell Lung Cancer (NSCLC), unspecified',\n",
       " 'Non-Small Cell Lung Cancer (NSCLC), unspecified',\n",
       " 'Melanoma',\n",
       " 'Breast Ductal Carcinoma',\n",
       " 'Multiple Myeloma',\n",
       " 'Small Cell Lung Cancer (SCLC)',\n",
       " 'Endometrial Adenocarcinoma',\n",
       " 'Squamous Cell Carcinoma',\n",
       " 'Rhabdomyosarcoma, alveolar',\n",
       " 'Transitional Cell Carcinoma',\n",
       " 'Pleomorphic Sarcoma',\n",
       " 'Squamous Cell Carcinoma, tongue',\n",
       " 'Non-Small Cell Lung Cancer (NSCLC), Adenocarcinoma',\n",
       " 'Multiple Myeloma, plasmacytoma',\n",
       " 'Squamous Cell Carcinoma',\n",
       " 'Non-Small Cell Lung Cancer (NSCLC), Adenosquamous Carcinoma',\n",
       " 'Non-Small Cell Lung Cancer (NSCLC), Adenocarcinoma',\n",
       " 'Adenocarcinoma',\n",
       " 'Non-Small Cell Lung Cancer (NSCLC), Squamous Cell Carcinoma',\n",
       " 'Small Cell Lung Cancer (SCLC)',\n",
       " 'Non-Small Cell Lung Cancer (NSCLC), Adenocarcinoma',\n",
       " 'Squamous Cell Carcinoma',\n",
       " 'Adenocarcinoma',\n",
       " 'Hepatocellular Carcinoma',\n",
       " 'Carcinoma',\n",
       " 'Colorectal',\n",
       " 'Non-Small Cell Lung Cancer (NSCLC), Adenocarcinoma',\n",
       " 'Non-Small Cell Lung Cancer (NSCLC), Adenocarcinoma',\n",
       " 'Non-Small Cell Lung Cancer (NSCLC), Large Cell Carcinoma',\n",
       " 'Multiple Myeloma',\n",
       " 'Squamous Cell Carcinoma',\n",
       " 'Carcinoma',\n",
       " 'Carcinoma',\n",
       " 'Non-Small Cell Lung Cancer (NSCLC), Squamous Cell Carcinoma',\n",
       " 'Breast Ductal Carcinoma',\n",
       " 'Non-Small Cell Lung Cancer (NSCLC), Adenocarcinoma',\n",
       " 'Non-Small Cell Lung Cancer (NSCLC), Adenocarcinoma',\n",
       " 'Carcinoma',\n",
       " 'Glioblastoma',\n",
       " 'Endometrial Adenocarcinoma',\n",
       " 'Squamous Cell Carcinoma',\n",
       " 'Small Cell Lung Cancer (SCLC)',\n",
       " 'Non-Small Cell Lung Cancer (NSCLC), unspecified',\n",
       " 'Non-Small Cell Lung Cancer (NSCLC), Adenosquamous Carcinoma',\n",
       " 'Non-Small Cell Lung Cancer (NSCLC), Adenocarcinoma',\n",
       " 'Small Cell Lung Cancer (SCLC)',\n",
       " 'Small Cell Lung Cancer (SCLC)',\n",
       " 'Non-Small Cell Lung Cancer (NSCLC), Adenocarcinoma',\n",
       " 'Squamous Cell Carcinoma',\n",
       " 'Acute Lymphoblastic Leukemia (ALL), B-cell',\n",
       " 'Non-Small Cell Lung Cancer (NSCLC), Adenocarcinoma',\n",
       " 'Carcinoma',\n",
       " 'B-cell, Non-Hodgkins, Burkitts',\n",
       " 'Non-Small Cell Lung Cancer (NSCLC), Squamous Cell Carcinoma',\n",
       " 'Endometrial Adenocarcinoma',\n",
       " 'Adenocarcinoma',\n",
       " 'Melanoma',\n",
       " 'Melanoma',\n",
       " 'Astrocytoma',\n",
       " 'Melanoma, amelanotic',\n",
       " 'Adenocarcinoma, clear cell',\n",
       " 'Non-Small Cell Lung Cancer (NSCLC), Adenocarcinoma',\n",
       " 'Glioblastoma',\n",
       " 'Non-Small Cell Lung Cancer (NSCLC), Adenocarcinoma',\n",
       " 'Multiple Myeloma',\n",
       " 'Small Cell Lung Cancer (SCLC)',\n",
       " 'Non-Small Cell Lung Cancer (NSCLC), Large Cell Carcinoma',\n",
       " 'Non-Small Cell Lung Cancer (NSCLC), Adenocarcinoma',\n",
       " 'Non-Small Cell Lung Cancer (NSCLC), Adenocarcinoma',\n",
       " 'Non-Small Cell Lung Cancer (NSCLC), Squamous Cell Carcinoma',\n",
       " 'Adenocarcinoma',\n",
       " 'Carcinoma',\n",
       " 'Carcinoma, follicular',\n",
       " 'Adenocarcinoma, tubular',\n",
       " 'Melanoma',\n",
       " 'Non-Small Cell Lung Cancer (NSCLC), Adenocarcinoma',\n",
       " 'Non-Small Cell Lung Cancer (NSCLC), Large Cell Carcinoma',\n",
       " 'Breast Ductal Carcinoma',\n",
       " 'Carcinoma, anaplastic',\n",
       " 'Non-Small Cell Lung Cancer (NSCLC), Large Cell Carcinoma',\n",
       " nan,\n",
       " 'Adenocarcinoma, clear cell',\n",
       " 'Renal Carcinoma, clear cell',\n",
       " 'Adenocarcinoma',\n",
       " 'Endometrial Adenocarcinoma',\n",
       " 'Carcinoma',\n",
       " 'Adenocarcinoma',\n",
       " 'Small Cell Lung Cancer (SCLC)',\n",
       " 'Endometrial Stromal Sarcoma',\n",
       " 'B-cell, Non-Hodgkins',\n",
       " 'Melanoma',\n",
       " 'Non-Small Cell Lung Cancer (NSCLC), Adenocarcinoma',\n",
       " 'Squamous Cell Carcinoma',\n",
       " 'Acute Lymphoblastic Leukemia (ALL), T-cell',\n",
       " 'Adenocarcinoma',\n",
       " 'Chronic Myelogenous Leukemia (CML), blast crisis',\n",
       " 'Small Cell Lung Cancer (SCLC)',\n",
       " 'Acute Lymphoblastic Leukemia (ALL), B-cell',\n",
       " 'B-cell, Non-Hodgkins',\n",
       " 'Non-Small Cell Lung Cancer (NSCLC), unspecified',\n",
       " 'Non-Small Cell Lung Cancer (NSCLC), Adenocarcinoma',\n",
       " 'Adenocarcinoma',\n",
       " 'Breast Ductal Carcinoma',\n",
       " 'Endometrial Adenocarcinoma',\n",
       " 'Non-Small Cell Lung Cancer (NSCLC), unspecified',\n",
       " 'Carcinoma',\n",
       " 'Melanoma',\n",
       " 'Adenocarcinoma',\n",
       " 'Ductal Adenocarcinoma, exocrine',\n",
       " 'Carcinoma',\n",
       " 'Adenocarcinoma',\n",
       " 'Adenocarcinoma, endometrioid',\n",
       " 'Acute Lymphoblastic Leukemia (ALL), T-cell',\n",
       " 'Acute Lymphoblastic Leukemia (ALL), B-cell',\n",
       " 'Leiomyosarcoma',\n",
       " 'Endometrial Adenocarcinoma',\n",
       " 'Endometrial Adenocarcinoma',\n",
       " 'Acute Lymphoblastic Leukemia (ALL), T-cell',\n",
       " 'Adenocarcinoma',\n",
       " 'B-cell, Non-Hodgkins, Burkitts',\n",
       " 'Non-Small Cell Lung Cancer (NSCLC), Adenocarcinoma',\n",
       " 'Endometrial Adenocarcinoma',\n",
       " 'Adenocarcinoma, endometrioid',\n",
       " 'Adenocarcinoma',\n",
       " 'Adenocarcinoma',\n",
       " 'Adenocarcinoma',\n",
       " 'Non-Small Cell Lung Cancer (NSCLC), Adenocarcinoma',\n",
       " 'Adenocarcinoma',\n",
       " 'Acute Lymphoblastic Leukemia (ALL), T-cell',\n",
       " 'Endometrial Adenocarcinoma',\n",
       " 'Adenocarcinoma',\n",
       " 'Adenocarcinoma',\n",
       " 'Adenocarcinoma',\n",
       " 'Adenocarcinoma',\n",
       " 'Adenocarcinoma',\n",
       " 'Acute Lymphoblastic Leukemia (ALL), B-cell',\n",
       " 'Endometrial Adenocarcinoma',\n",
       " 'Cystadenocarcinoma, clear cell',\n",
       " 'Adenocarcinoma',\n",
       " 'Acute Lymphoblastic Leukemia (ALL), T-cell',\n",
       " 'Endometrial Adenosquamous Carcinoma',\n",
       " 'Adenocarcinoma, mixed',\n",
       " 'Adenocarcinoma',\n",
       " 'Melanoma',\n",
       " 'Adenocarcinoma',\n",
       " 'Adenocarcinoma',\n",
       " 'Adenocarcinoma',\n",
       " 'Endometrial Adenocarcinoma',\n",
       " 'Transitional Cell Carcinoma',\n",
       " 'Endometrial Adenocarcinoma',\n",
       " 'Non-Small Cell Lung Cancer (NSCLC), Squamous Cell Carcinoma',\n",
       " 'Cholangiocarcinoma, intrahepatic',\n",
       " 'Adenocarcinoma',\n",
       " 'Endometrial Adenocarcinoma',\n",
       " 'Adenocarcinoma',\n",
       " 'Non-Small Cell Lung Cancer (NSCLC), Large Cell Carcinoma',\n",
       " 'Acute Lymphoblastic Leukemia (ALL), T-cell',\n",
       " 'Adenocarcinoma',\n",
       " 'Chronic Myelogenous Leukemia (CML), blast crisis',\n",
       " 'Endometrial Adenocarcinoma',\n",
       " 'Adenocarcinoma',\n",
       " 'Adenocarcinoma',\n",
       " 'Melanoma',\n",
       " nan,\n",
       " 'Adenocarcinoma, mucinous',\n",
       " 'Endometrial Adenocarcinoma',\n",
       " 'Adenocarcinoma',\n",
       " 'Squamous Cell Carcinoma',\n",
       " 'Endometrial Adenocarcinoma',\n",
       " 'Endometrial Adenocarcinoma',\n",
       " 'Acute Lymphoblastic Leukemia (ALL), T-cell',\n",
       " 'Endometrial Adenocarcinoma',\n",
       " 'Adenocarcinoma',\n",
       " 'Adenocarcinoma',\n",
       " 'Adenocarcinoma',\n",
       " 'Astrocytoma',\n",
       " 'Osteosarcoma',\n",
       " 'Melanoma',\n",
       " ...]"
      ]
     },
     "execution_count": 78,
     "metadata": {},
     "output_type": "execute_result"
    }
   ],
   "source": [
    "datalist"
   ]
  },
  {
   "cell_type": "code",
   "execution_count": 65,
   "metadata": {
    "collapsed": true,
    "jupyter": {
     "outputs_hidden": true
    }
   },
   "outputs": [
    {
     "ename": "ValueError",
     "evalue": "Cannot mask with non-boolean array containing NA / NaN values",
     "output_type": "error",
     "traceback": [
      "\u001b[0;31m---------------------------------------------------------------------------\u001b[0m",
      "\u001b[0;31mValueError\u001b[0m                                Traceback (most recent call last)",
      "\u001b[0;32m<ipython-input-65-4d4734510207>\u001b[0m in \u001b[0;36m<module>\u001b[0;34m\u001b[0m\n\u001b[0;32m----> 1\u001b[0;31m \u001b[0mdata\u001b[0m\u001b[0;34m[\u001b[0m\u001b[0mdata\u001b[0m\u001b[0;34m[\u001b[0m\u001b[0;34m'Subtype'\u001b[0m\u001b[0;34m]\u001b[0m\u001b[0;34m.\u001b[0m\u001b[0mstr\u001b[0m\u001b[0;34m.\u001b[0m\u001b[0mmatch\u001b[0m\u001b[0;34m(\u001b[0m\u001b[0;34m\"AML\"\u001b[0m\u001b[0;34m)\u001b[0m\u001b[0;34m]\u001b[0m\u001b[0;34m\u001b[0m\u001b[0;34m\u001b[0m\u001b[0m\n\u001b[0m",
      "\u001b[0;32m~/anaconda3/lib/python3.8/site-packages/pandas/core/frame.py\u001b[0m in \u001b[0;36m__getitem__\u001b[0;34m(self, key)\u001b[0m\n\u001b[1;32m   2788\u001b[0m \u001b[0;34m\u001b[0m\u001b[0m\n\u001b[1;32m   2789\u001b[0m         \u001b[0;31m# Do we have a (boolean) 1d indexer?\u001b[0m\u001b[0;34m\u001b[0m\u001b[0;34m\u001b[0m\u001b[0;34m\u001b[0m\u001b[0m\n\u001b[0;32m-> 2790\u001b[0;31m         \u001b[0;32mif\u001b[0m \u001b[0mcom\u001b[0m\u001b[0;34m.\u001b[0m\u001b[0mis_bool_indexer\u001b[0m\u001b[0;34m(\u001b[0m\u001b[0mkey\u001b[0m\u001b[0;34m)\u001b[0m\u001b[0;34m:\u001b[0m\u001b[0;34m\u001b[0m\u001b[0;34m\u001b[0m\u001b[0m\n\u001b[0m\u001b[1;32m   2791\u001b[0m             \u001b[0;32mreturn\u001b[0m \u001b[0mself\u001b[0m\u001b[0;34m.\u001b[0m\u001b[0m_getitem_bool_array\u001b[0m\u001b[0;34m(\u001b[0m\u001b[0mkey\u001b[0m\u001b[0;34m)\u001b[0m\u001b[0;34m\u001b[0m\u001b[0;34m\u001b[0m\u001b[0m\n\u001b[1;32m   2792\u001b[0m \u001b[0;34m\u001b[0m\u001b[0m\n",
      "\u001b[0;32m~/anaconda3/lib/python3.8/site-packages/pandas/core/common.py\u001b[0m in \u001b[0;36mis_bool_indexer\u001b[0;34m(key)\u001b[0m\n\u001b[1;32m    134\u001b[0m                 \u001b[0mna_msg\u001b[0m \u001b[0;34m=\u001b[0m \u001b[0;34m\"Cannot mask with non-boolean array containing NA / NaN values\"\u001b[0m\u001b[0;34m\u001b[0m\u001b[0;34m\u001b[0m\u001b[0m\n\u001b[1;32m    135\u001b[0m                 \u001b[0;32mif\u001b[0m \u001b[0misna\u001b[0m\u001b[0;34m(\u001b[0m\u001b[0mkey\u001b[0m\u001b[0;34m)\u001b[0m\u001b[0;34m.\u001b[0m\u001b[0many\u001b[0m\u001b[0;34m(\u001b[0m\u001b[0;34m)\u001b[0m\u001b[0;34m:\u001b[0m\u001b[0;34m\u001b[0m\u001b[0;34m\u001b[0m\u001b[0m\n\u001b[0;32m--> 136\u001b[0;31m                     \u001b[0;32mraise\u001b[0m \u001b[0mValueError\u001b[0m\u001b[0;34m(\u001b[0m\u001b[0mna_msg\u001b[0m\u001b[0;34m)\u001b[0m\u001b[0;34m\u001b[0m\u001b[0;34m\u001b[0m\u001b[0m\n\u001b[0m\u001b[1;32m    137\u001b[0m                 \u001b[0;32mreturn\u001b[0m \u001b[0;32mFalse\u001b[0m\u001b[0;34m\u001b[0m\u001b[0;34m\u001b[0m\u001b[0m\n\u001b[1;32m    138\u001b[0m             \u001b[0;32mreturn\u001b[0m \u001b[0;32mTrue\u001b[0m\u001b[0;34m\u001b[0m\u001b[0;34m\u001b[0m\u001b[0m\n",
      "\u001b[0;31mValueError\u001b[0m: Cannot mask with non-boolean array containing NA / NaN values"
     ]
    }
   ],
   "source": [
    "data[data['Subtype'].str.match(\"AML\")]"
   ]
  },
  {
   "cell_type": "code",
   "execution_count": 66,
   "metadata": {},
   "outputs": [
    {
     "data": {
      "text/plain": [
       "0                       Adenocarcinoma, high grade serous\n",
       "1       Acute Myelogenous Leukemia (AML), M3 (Promyelo...\n",
       "2                                          Adenocarcinoma\n",
       "3       Acute Myelogenous Leukemia (AML), M6 (Erythrol...\n",
       "4       Acute Myelogenous Leukemia (AML), M6 (Erythrol...\n",
       "                              ...                        \n",
       "1799                   Chronic Myelogenous Leukemia (CML)\n",
       "1800                                      Melanoma, acral\n",
       "1801                                      Melanoma, acral\n",
       "1802                                      Melanoma, acral\n",
       "1803                                    Melanoma, mucosal\n",
       "Name: Subtype, Length: 1804, dtype: object"
      ]
     },
     "execution_count": 66,
     "metadata": {},
     "output_type": "execute_result"
    }
   ],
   "source": [
    "data['Subtype']"
   ]
  },
  {
   "cell_type": "code",
   "execution_count": 14,
   "metadata": {},
   "outputs": [],
   "source": [
    "cdk6 = effect['CDK6']"
   ]
  },
  {
   "cell_type": "code",
   "execution_count": 23,
   "metadata": {},
   "outputs": [],
   "source": [
    "cdk6 = cdk6.sort_values()"
   ]
  },
  {
   "cell_type": "code",
   "execution_count": 26,
   "metadata": {},
   "outputs": [
    {
     "data": {
      "text/plain": [
       "DB       -2.475259\n",
       "AML193   -2.056662\n",
       "THP1     -1.795163\n",
       "OCIMY5   -1.643574\n",
       "U937     -1.598968\n",
       "Name: CDK6, dtype: float64"
      ]
     },
     "execution_count": 26,
     "metadata": {},
     "output_type": "execute_result"
    }
   ],
   "source": [
    "cdk6.head()"
   ]
  },
  {
   "cell_type": "code",
   "execution_count": 34,
   "metadata": {},
   "outputs": [
    {
     "name": "stdout",
     "output_type": "stream",
     "text": [
      "769\n"
     ]
    }
   ],
   "source": [
    "sample = cdk6.index.to_list()\n",
    "print(len(sample))\n",
    "sample = sample[0:30]"
   ]
  },
  {
   "cell_type": "code",
   "execution_count": 52,
   "metadata": {},
   "outputs": [],
   "source": [
    "sampledf = pd.DataFrame(sample)"
   ]
  },
  {
   "cell_type": "code",
   "execution_count": 58,
   "metadata": {
    "collapsed": true,
    "jupyter": {
     "outputs_hidden": true
    }
   },
   "outputs": [
    {
     "name": "stdout",
     "output_type": "stream",
     "text": [
      "333    Diffuse Large B-cell Lymphoma (DLBCL)\n",
      "860                             Glioblastoma\n",
      "Name: Subtype, dtype: object\n",
      "554    Acute Myelogenous Leukemia (AML), M5 (Eosinoph...\n",
      "Name: Subtype, dtype: object\n",
      "145    Acute Myelogenous Leukemia (AML), M5 (Eosinoph...\n",
      "Name: Subtype, dtype: object\n",
      "851    Multiple Myeloma\n",
      "Name: Subtype, dtype: object\n",
      "405    Acute Myelogenous Leukemia (AML)\n",
      "Name: Subtype, dtype: object\n",
      "361    Acute Myelogenous Leukemia (AML)\n",
      "Name: Subtype, dtype: object\n",
      "4    Acute Myelogenous Leukemia (AML), M6 (Erythrol...\n",
      "Name: Subtype, dtype: object\n",
      "1161    NaN\n",
      "Name: Subtype, dtype: object\n",
      "23    Multiple Myeloma\n",
      "Name: Subtype, dtype: object\n",
      "1286    Squamous Cell Carcinoma\n",
      "Name: Subtype, dtype: object\n",
      "364    Diffuse Large B-cell Lymphoma (DLBCL)\n",
      "Name: Subtype, dtype: object\n",
      "1369    Cholangiocarcinoma, extrahepatic\n",
      "Name: Subtype, dtype: object\n",
      "314    Diffuse Large B-cell Lymphoma (DLBCL)\n",
      "Name: Subtype, dtype: object\n",
      "866    Non-Small Cell Lung Cancer (NSCLC), Adenocarci...\n",
      "Name: Subtype, dtype: object\n",
      "760    Multiple Myeloma\n",
      "Name: Subtype, dtype: object\n",
      "140    Adenocarcinoma\n",
      "Name: Subtype, dtype: object\n",
      "425    Multiple Myeloma\n",
      "Name: Subtype, dtype: object\n",
      "1390    Acute Lymphoblastic Leukemia (ALL), B-cell\n",
      "Name: Subtype, dtype: object\n",
      "547    Melanoma\n",
      "Name: Subtype, dtype: object\n",
      "1605    Chordoma, sacral\n",
      "Name: Subtype, dtype: object\n",
      "732    Squamous Cell Carcinoma, oral\n",
      "Name: Subtype, dtype: object\n",
      "1036    Medulloblastoma\n",
      "Name: Subtype, dtype: object\n",
      "1430    Cholangiocarcinoma, intrahepatic\n",
      "Name: Subtype, dtype: object\n",
      "775              Squamous Cell Carcinoma\n",
      "1543    Adenocarcinoma, signet ring cell\n",
      "Name: Subtype, dtype: object\n",
      "1394    Rhabdomyosarcoma, alveolar\n",
      "Name: Subtype, dtype: object\n",
      "167    Acute Myelogenous Leukemia (AML), M5 (Eosinoph...\n",
      "Name: Subtype, dtype: object\n",
      "1284    Squamous Cell Carcinoma\n",
      "Name: Subtype, dtype: object\n",
      "619    Glioblastoma\n",
      "Name: Subtype, dtype: object\n",
      "233    Renal Carcinoma, clear cell\n",
      "Name: Subtype, dtype: object\n",
      "182    Multiple Myeloma\n",
      "Name: Subtype, dtype: object\n"
     ]
    }
   ],
   "source": [
    "for _ in sample:\n",
    "    print(data[data['CCLE_Name'].str.match(_)]['Subtype'])"
   ]
  },
  {
   "cell_type": "code",
   "execution_count": 79,
   "metadata": {},
   "outputs": [
    {
     "data": {
      "text/plain": [
       "2.8973614754696634e-05"
      ]
     },
     "execution_count": 79,
     "metadata": {},
     "output_type": "execute_result"
    }
   ],
   "source": [
    "hypergeom.sf(7,769,36,30)"
   ]
  },
  {
   "cell_type": "code",
   "execution_count": null,
   "metadata": {},
   "outputs": [],
   "source": [
    "rvs1 = stats.norm.rvs(loc=5,scale=10,size=30)\n",
    "\n",
    "rvs2 = stats.norm.rvs(loc=5,scale=10,size=687)\n",
    "\n",
    "stats.ttest_ind(rvs1,rvs2)"
   ]
  },
  {
   "cell_type": "code",
   "execution_count": null,
   "metadata": {},
   "outputs": [],
   "source": [
    "*    M is the population size\n",
    "*    n is the number of successes in the population\n",
    "*    N is the sample size\n",
    "*    X is still the number of drawn “successes”\n",
    "\n",
    "pval = hypergeom.sf(4, 783, 121, 20)\n",
    "pval"
   ]
  },
  {
   "cell_type": "code",
   "execution_count": 49,
   "metadata": {},
   "outputs": [],
   "source": [
    "def counting_phenotypes(top1):\n",
    "    data1 = data[data['CCLE_Name'].str.match(top1)]\n",
    "                          \n",
    "    data1[data1[\"Subtype\"].str.match(\"AML\")]\n",
    "    top1_count = [i for j in top1_count for i in j]\n",
    "    top1_count = sum(top1_count)\n",
    "    \n",
    "    return(top1_count)"
   ]
  },
  {
   "cell_type": "code",
   "execution_count": 175,
   "metadata": {
    "collapsed": true,
    "jupyter": {
     "outputs_hidden": true
    }
   },
   "outputs": [
    {
     "name": "stdout",
     "output_type": "stream",
     "text": [
      "0 31\n"
     ]
    }
   ],
   "source": [
    "print(top1,top2)"
   ]
  },
  {
   "cell_type": "code",
   "execution_count": 164,
   "metadata": {},
   "outputs": [],
   "source": [
    "t1,t2,b1,b2 = counting_hits(t1,t2,b1,b2,\"APC_mut_del\")"
   ]
  },
  {
   "cell_type": "code",
   "execution_count": 159,
   "metadata": {},
   "outputs": [
    {
     "data": {
      "text/plain": [
       "<enumerate at 0x7f598fd16c40>"
      ]
     },
     "execution_count": 159,
     "metadata": {},
     "output_type": "execute_result"
    }
   ],
   "source": [
    "enumerate(counting_hits(t1,t2,b1,b2,\"APC_mut_del\"))"
   ]
  },
  {
   "cell_type": "code",
   "execution_count": 154,
   "metadata": {},
   "outputs": [
    {
     "data": {
      "text/plain": [
       "[1, 26, 0, 26]"
      ]
     },
     "execution_count": 154,
     "metadata": {},
     "output_type": "execute_result"
    }
   ],
   "source": [
    "counting_hits(t1,t2,b1,b2,\"BAP1_mut_del\")"
   ]
  },
  {
   "cell_type": "code",
   "execution_count": 267,
   "metadata": {},
   "outputs": [],
   "source": [
    "def counting_hits(sample,Rest,mut):\n",
    "    sample_count = []\n",
    "    for _ in sample:\n",
    "        sample_count.append(data[data['CCLE_NAME'].str.match(_)].eval(mut).to_list())\n",
    "    \n",
    "    sample_count = [i for j in sample_count for i in j]\n",
    "    sample_count = sum(sample_count)\n",
    "    \n",
    "    total_count = []\n",
    "    # i fucked up earlier trying to take allGenes.columns.to_list() and wondering why the set was so small \n",
    "    # i fucked up again here, as allGenes.index.to_list() is also wrong. it should just be Rest, the input\n",
    "    for _ in Rest:\n",
    "        total_count.append(data[data['CCLE_NAME'].str.match(_)].eval(mut).to_list())\n",
    "    \n",
    "    total_count = [i for j in total_count for i in j]\n",
    "    total_count = sum(total_count)\n",
    "    \n",
    "    return([sample_count,total_count])"
   ]
  },
  {
   "cell_type": "code",
   "execution_count": 82,
   "metadata": {},
   "outputs": [],
   "source": [
    "top = a"
   ]
  },
  {
   "cell_type": "code",
   "execution_count": 99,
   "metadata": {},
   "outputs": [
    {
     "name": "stdout",
     "output_type": "stream",
     "text": [
      "5\n"
     ]
    }
   ],
   "source": [
    "count = []\n",
    "for _ in top:\n",
    "    count.append(data[data['CCLE_NAME'].str.match(_)].KRAS_mut.to_list())\n",
    "    \n",
    "#print(count)\n",
    "#print(count/len(top))\n",
    "count = [i for j in count for i in j]\n",
    "count = sum(count)\n",
    "print(count)"
   ]
  },
  {
   "cell_type": "code",
   "execution_count": 119,
   "metadata": {},
   "outputs": [
    {
     "name": "stdout",
     "output_type": "stream",
     "text": [
      "121\n"
     ]
    }
   ],
   "source": [
    "totalCount = []\n",
    "# i fucked up earlier trying to take allGenes.columns.to_list() and wondering why the set was so small\n",
    "for _ in allGenes.index.to_list():\n",
    "    totalCount.append(data[data['CCLE_NAME'].str.match(_)].KRAS_mut.to_list())\n",
    "    \n",
    "totalCount = [i for j in totalCount for i in j]\n",
    "totalCount = sum(totalCount)\n",
    "print(totalCount)"
   ]
  },
  {
   "cell_type": "code",
   "execution_count": 97,
   "metadata": {},
   "outputs": [
    {
     "data": {
      "text/plain": [
       "680"
      ]
     },
     "execution_count": 97,
     "metadata": {},
     "output_type": "execute_result"
    }
   ],
   "source": [
    "len(totalCount)"
   ]
  },
  {
   "cell_type": "code",
   "execution_count": 89,
   "metadata": {},
   "outputs": [
    {
     "data": {
      "text/plain": [
       "(1026, 71)"
      ]
     },
     "execution_count": 89,
     "metadata": {},
     "output_type": "execute_result"
    }
   ],
   "source": [
    "data.shape"
   ]
  },
  {
   "cell_type": "code",
   "execution_count": 92,
   "metadata": {},
   "outputs": [
    {
     "data": {
      "text/plain": [
       "783"
      ]
     },
     "execution_count": 92,
     "metadata": {},
     "output_type": "execute_result"
    }
   ],
   "source": [
    "len(allGenes.index.to_list())"
   ]
  },
  {
   "cell_type": "code",
   "execution_count": 62,
   "metadata": {},
   "outputs": [],
   "source": [
    "a,b = uli_list1[1]"
   ]
  },
  {
   "cell_type": "code",
   "execution_count": 66,
   "metadata": {},
   "outputs": [
    {
     "name": "stdout",
     "output_type": "stream",
     "text": [
      "first is top, second is bottom\n"
     ]
    }
   ],
   "source": [
    "a,b,c,d = celllines_from_diff(a,b)"
   ]
  },
  {
   "cell_type": "code",
   "execution_count": 69,
   "metadata": {},
   "outputs": [
    {
     "name": "stdout",
     "output_type": "stream",
     "text": [
      "there is  CDK4 and  CDKN2C for top we have  ['ES2', 'NCIH1915', 'G292CLONEA141B1', 'FU97', 'UMUC9', 'TC71', 'SNU1544', 'PACADD188', 'TC32', 'HS852T', 'EWS502', 'MDAMB453', 'TC205', 'LS', 'COGE352', 'HCC1419', 'VCAP', 'RDES', 'MDAMB415', 'NCIH2887']  and for bottom we have  ['SUM52PE', 'CAOV3', 'CORL279', 'MCC26', 'SW403', 'OCIMY5', 'NCIH82', 'CII', 'OS252', 'HEC251', 'UMUC7', 'OV7', 'NCIH841', 'NCIH1694', 'CORL47', 'HT1376', 'LN319', 'JR', 'KPNYN', 'HSB2']\n"
     ]
    }
   ],
   "source": [
    "print('there is ', c , 'and ', d, 'for top we have ', a, ' and for bottom we have ', b)"
   ]
  },
  {
   "cell_type": "code",
   "execution_count": 150,
   "metadata": {},
   "outputs": [
    {
     "name": "stdout",
     "output_type": "stream",
     "text": [
      "CDK4 CDKN2C\n"
     ]
    }
   ],
   "source": [
    "print(a,b)"
   ]
  },
  {
   "cell_type": "code",
   "execution_count": 2,
   "metadata": {
    "collapsed": true,
    "jupyter": {
     "outputs_hidden": true
    }
   },
   "outputs": [
    {
     "ename": "NameError",
     "evalue": "name 'pd' is not defined",
     "output_type": "error",
     "traceback": [
      "\u001b[0;31m---------------------------------------------------------------------------\u001b[0m",
      "\u001b[0;31mNameError\u001b[0m                                 Traceback (most recent call last)",
      "\u001b[0;32m<ipython-input-2-fe1d9d1b78c1>\u001b[0m in \u001b[0;36m<module>\u001b[0;34m\u001b[0m\n\u001b[0;32m----> 1\u001b[0;31m \u001b[0mulidata\u001b[0m \u001b[0;34m=\u001b[0m \u001b[0mpd\u001b[0m\u001b[0;34m.\u001b[0m\u001b[0mread_csv\u001b[0m\u001b[0;34m(\u001b[0m\u001b[0;34m\"/home/annerer/Dokumente/DepMap_Mining/TP53_MDM4.csv\"\u001b[0m\u001b[0;34m)\u001b[0m\u001b[0;34m\u001b[0m\u001b[0;34m\u001b[0m\u001b[0m\n\u001b[0m\u001b[1;32m      2\u001b[0m \u001b[0mulidata\u001b[0m \u001b[0;34m=\u001b[0m \u001b[0mulidata\u001b[0m\u001b[0;34m[\u001b[0m\u001b[0;34m'cellline'\u001b[0m\u001b[0;34m]\u001b[0m\u001b[0;34m.\u001b[0m\u001b[0mto_list\u001b[0m\u001b[0;34m(\u001b[0m\u001b[0;34m)\u001b[0m\u001b[0;34m\u001b[0m\u001b[0;34m\u001b[0m\u001b[0m\n\u001b[1;32m      3\u001b[0m \u001b[0;34m\u001b[0m\u001b[0m\n\u001b[1;32m      4\u001b[0m \u001b[0mresult\u001b[0m \u001b[0;34m=\u001b[0m \u001b[0;34m[\u001b[0m\u001b[0;34m]\u001b[0m\u001b[0;34m\u001b[0m\u001b[0;34m\u001b[0m\u001b[0m\n\u001b[1;32m      5\u001b[0m \u001b[0;34m\u001b[0m\u001b[0m\n",
      "\u001b[0;31mNameError\u001b[0m: name 'pd' is not defined"
     ]
    }
   ],
   "source": [
    "ulidata = pd.read_csv(\"/home/annerer/Dokumente/DepMap_Mining/TP53_MDM4.csv\")\n",
    "ulidata = ulidata['cellline'].to_list()\n",
    "\n",
    "result = []\n",
    "\n",
    "for _ in ulidata:\n",
    "    result.append(mapping[_])\n",
    "    \n",
    "cellLine = result\n",
    "# split at space\n",
    "for i in range(len(cellLine)):\n",
    "    cellLine[i] = cellLine[i].split(\"_\") \n",
    "\n",
    "cell_L = []\n",
    "for i in range(len(cellLine)):\n",
    "    cell_L.append(cellLine[i][0])"
   ]
  },
  {
   "cell_type": "code",
   "execution_count": 7,
   "metadata": {},
   "outputs": [],
   "source": [
    "#ulidata = ulidata['cellline'].to_list()"
   ]
  },
  {
   "cell_type": "code",
   "execution_count": 169,
   "metadata": {
    "collapsed": true,
    "jupyter": {
     "outputs_hidden": true
    }
   },
   "outputs": [
    {
     "name": "stdout",
     "output_type": "stream",
     "text": [
      "first is top, second is bottom\n",
      "first is top, second is bottom\n"
     ]
    },
    {
     "data": {
      "image/png": "[encoded data removed]",
      "text/plain": [
       "<Figure size 432x288 with 1 Axes>"
      ]
     },
     "metadata": {
      "needs_background": "light"
     },
     "output_type": "display_data"
    }
   ],
   "source": [
    "top,bottom = celllines_from_sums(e,f)\n",
    "top2,bottom2 = celllines_from_diff(e,f)"
   ]
  },
  {
   "cell_type": "code",
   "execution_count": 166,
   "metadata": {},
   "outputs": [
    {
     "name": "stdout",
     "output_type": "stream",
     "text": [
      "first is top, second is bottom\n"
     ]
    }
   ],
   "source": [
    "e,f = uli_list1[2]\n",
    "c,d = celllines_from_sums(e,f)"
   ]
  },
  {
   "cell_type": "code",
   "execution_count": 34,
   "metadata": {
    "collapsed": true,
    "jupyter": {
     "outputs_hidden": true
    }
   },
   "outputs": [
    {
     "data": {
      "text/plain": [
       "['SNU308',\n",
       " 'COGN305',\n",
       " 'KARPAS422',\n",
       " 'THP1',\n",
       " 'KO52',\n",
       " 'SNU182',\n",
       " 'AML193',\n",
       " 'DB',\n",
       " 'BT12',\n",
       " 'HDMYZ',\n",
       " 'SUDHL10',\n",
       " 'YD15',\n",
       " 'SKUT1',\n",
       " 'BT16',\n",
       " 'TTC549',\n",
       " 'ESO26',\n",
       " 'FLO1',\n",
       " 'HMY1',\n",
       " 'MCC13',\n",
       " 'UCH2']"
      ]
     },
     "execution_count": 34,
     "metadata": {},
     "output_type": "execute_result"
    }
   ],
   "source": [
    "top2"
   ]
  },
  {
   "cell_type": "code",
   "execution_count": 52,
   "metadata": {},
   "outputs": [],
   "source": [
    "data = pd.read_csv(\"/home/annerer/Downloads/elife-58925-supp1-v3.csv\")\n",
    "\n",
    "temp1 = data['CCLE_NAME'].to_list()\n",
    "# split at space\n",
    "for i in range(len(temp1)):\n",
    "    temp1[i] = temp1[i].split(\"_\") \n",
    "\n",
    "temp2 = []\n",
    "for i in range(len(temp1)):\n",
    "    temp2.append(temp1[i][0])\n"
   ]
  },
  {
   "cell_type": "code",
   "execution_count": 53,
   "metadata": {},
   "outputs": [],
   "source": [
    "data['CCLE_NAME'] = temp2"
   ]
  },
  {
   "cell_type": "code",
   "execution_count": 90,
   "metadata": {},
   "outputs": [
    {
     "data": {
      "text/plain": [
       "0          MOLM16\n",
       "1       PATU8988S\n",
       "2          RCHACV\n",
       "3         SKMEL31\n",
       "4           SKBR3\n",
       "          ...    \n",
       "1021       HEC151\n",
       "1022        SNU81\n",
       "1023          GCT\n",
       "1024        CMLT1\n",
       "1025    NIHOVCAR3\n",
       "Name: CCLE_NAME, Length: 1026, dtype: object"
      ]
     },
     "execution_count": 90,
     "metadata": {},
     "output_type": "execute_result"
    }
   ],
   "source": [
    "data['CCLE_NAME']"
   ]
  },
  {
   "cell_type": "code",
   "execution_count": 49,
   "metadata": {},
   "outputs": [
    {
     "data": {
      "text/html": [
       "<div>\n",
       "<style scoped>\n",
       "    .dataframe tbody tr th:only-of-type {\n",
       "        vertical-align: middle;\n",
       "    }\n",
       "\n",
       "    .dataframe tbody tr th {\n",
       "        vertical-align: top;\n",
       "    }\n",
       "\n",
       "    .dataframe thead th {\n",
       "        text-align: right;\n",
       "    }\n",
       "</style>\n",
       "<table border=\"1\" class=\"dataframe\">\n",
       "  <thead>\n",
       "    <tr style=\"text-align: right;\">\n",
       "      <th></th>\n",
       "      <th>CCLE_NAME</th>\n",
       "      <th>TISSUE_FACTOR</th>\n",
       "      <th>MSI</th>\n",
       "      <th>ACVR1B_mut_del</th>\n",
       "      <th>APC_mut_del</th>\n",
       "      <th>ARID1A_mut_del</th>\n",
       "      <th>ATM_mut_del</th>\n",
       "      <th>ATRX_mut_del</th>\n",
       "      <th>AXIN1_mut_del</th>\n",
       "      <th>BAP1_mut_del</th>\n",
       "      <th>...</th>\n",
       "      <th>PIK3CA_mut</th>\n",
       "      <th>BRAF_mut</th>\n",
       "      <th>CTNNB1_mut</th>\n",
       "      <th>KRAS_mut</th>\n",
       "      <th>NRAS_mut</th>\n",
       "      <th>GNAS_mut</th>\n",
       "      <th>HRAS_mut</th>\n",
       "      <th>EGFR_mut</th>\n",
       "      <th>MAP2K1_mut</th>\n",
       "      <th>PTPN11_mut</th>\n",
       "    </tr>\n",
       "  </thead>\n",
       "  <tbody>\n",
       "    <tr>\n",
       "      <th>3</th>\n",
       "      <td>SKMEL31_SKIN</td>\n",
       "      <td>SKIN</td>\n",
       "      <td>0</td>\n",
       "      <td>0</td>\n",
       "      <td>0</td>\n",
       "      <td>0</td>\n",
       "      <td>1</td>\n",
       "      <td>0</td>\n",
       "      <td>0</td>\n",
       "      <td>0</td>\n",
       "      <td>...</td>\n",
       "      <td>0</td>\n",
       "      <td>1</td>\n",
       "      <td>0</td>\n",
       "      <td>0</td>\n",
       "      <td>0</td>\n",
       "      <td>0</td>\n",
       "      <td>0</td>\n",
       "      <td>0</td>\n",
       "      <td>0</td>\n",
       "      <td>0</td>\n",
       "    </tr>\n",
       "  </tbody>\n",
       "</table>\n",
       "<p>1 rows × 71 columns</p>\n",
       "</div>"
      ],
      "text/plain": [
       "      CCLE_NAME TISSUE_FACTOR  MSI  ACVR1B_mut_del  APC_mut_del  \\\n",
       "3  SKMEL31_SKIN          SKIN    0               0            0   \n",
       "\n",
       "   ARID1A_mut_del  ATM_mut_del  ATRX_mut_del  AXIN1_mut_del  BAP1_mut_del  \\\n",
       "3               0            1             0              0             0   \n",
       "\n",
       "   ...  PIK3CA_mut  BRAF_mut  CTNNB1_mut  KRAS_mut  NRAS_mut  GNAS_mut  \\\n",
       "3  ...           0         1           0         0         0         0   \n",
       "\n",
       "   HRAS_mut  EGFR_mut  MAP2K1_mut  PTPN11_mut  \n",
       "3         0         0           0           0  \n",
       "\n",
       "[1 rows x 71 columns]"
      ]
     },
     "execution_count": 49,
     "metadata": {},
     "output_type": "execute_result"
    }
   ],
   "source": [
    "data[data['CCLE_NAME'].str.match('SKMEL31_SKIN')]"
   ]
  },
  {
   "cell_type": "markdown",
   "metadata": {},
   "source": [
    "## Keeping only the Celllines in DepMap"
   ]
  },
  {
   "cell_type": "code",
   "execution_count": 45,
   "metadata": {},
   "outputs": [
    {
     "name": "stdout",
     "output_type": "stream",
     "text": [
      "765\n",
      "1781\n",
      "765\n"
     ]
    }
   ],
   "source": [
    "effect = pd.read_csv(\"/home/annerer/Dokumente/DepMap_Mining/Achilles_gene_effect.csv\")\n",
    "data = pd.read_csv(\"/home/annerer/Dokumente/DepMap_Mining/sample_info.csv\")\n",
    "\n",
    "mapping = {}\n",
    "\n",
    "for i in np.arange(0,data.shape[0],1):\n",
    "    mapping[data.DepMap_ID[i]] = data.CCLE_Name[i]\n",
    "\n",
    "effect[\"INDEX\"] = effect.DepMap_ID\n",
    "effect = effect.set_index('INDEX')\n",
    "effect = effect.rename(index=mapping)\n",
    "effect = effect.drop(\"DepMap_ID\",1)\n",
    "\n",
    "gene = effect.columns.to_list()\n",
    "# split at space\n",
    "for i in range(len(gene)):\n",
    "    gene[i] = gene[i].split(\" \") \n",
    "\n",
    "genes = []\n",
    "for i in range(len(gene)):\n",
    "    genes.append(gene[i][0])\n",
    "                 \n",
    "effect.columns = genes\n",
    "\n",
    "\n",
    "cellLine = effect.index.to_list()\n",
    "# split at space\n",
    "for i in range(len(cellLine)):\n",
    "    cellLine[i] = cellLine[i].split(\"_\") \n",
    "\n",
    "cellLines = []\n",
    "for i in range(len(cellLine)):\n",
    "    cellLines.append(cellLine[i][0])\n",
    "    \n",
    "effect.index = cellLines\n",
    "\n",
    "cellLine = data['CCLE_Name'].to_list()\n",
    "# split at space\n",
    "for i in range(len(cellLine)):\n",
    "    cellLine[i] = cellLine[i].split(\"_\") \n",
    "\n",
    "cellLines1 = []\n",
    "for i in range(len(cellLine)):\n",
    "    cellLines1.append(cellLine[i][0])\n",
    "    \n",
    "data['CCLE_Name'] = cellLines1\n",
    "\n",
    "\n",
    "a = set(cellLines)\n",
    "b = set(data[\"CCLE_Name\"])\n",
    "c = set.intersection(a,b)\n",
    "\n",
    "print(len(a))\n",
    "print(len(b))\n",
    "print(len(c))\n",
    "\n",
    "cellL = c"
   ]
  },
  {
   "cell_type": "code",
   "execution_count": 10,
   "metadata": {
    "collapsed": true,
    "jupyter": {
     "outputs_hidden": true
    }
   },
   "outputs": [
    {
     "ename": "NameError",
     "evalue": "name 'allGenes' is not defined",
     "output_type": "error",
     "traceback": [
      "\u001b[0;31m---------------------------------------------------------------------------\u001b[0m",
      "\u001b[0;31mNameError\u001b[0m                                 Traceback (most recent call last)",
      "\u001b[0;32m<ipython-input-10-561b8082eaff>\u001b[0m in \u001b[0;36m<module>\u001b[0;34m\u001b[0m\n\u001b[1;32m      1\u001b[0m \u001b[0meffect\u001b[0m \u001b[0;34m=\u001b[0m \u001b[0meffect\u001b[0m\u001b[0;34m.\u001b[0m\u001b[0mtranspose\u001b[0m\u001b[0;34m(\u001b[0m\u001b[0;34m)\u001b[0m\u001b[0;34m\u001b[0m\u001b[0;34m\u001b[0m\u001b[0m\n\u001b[0;32m----> 2\u001b[0;31m \u001b[0mintersect\u001b[0m \u001b[0;34m=\u001b[0m \u001b[0mlist\u001b[0m\u001b[0;34m(\u001b[0m\u001b[0mset\u001b[0m\u001b[0;34m.\u001b[0m\u001b[0mintersection\u001b[0m\u001b[0;34m(\u001b[0m\u001b[0mset\u001b[0m\u001b[0;34m(\u001b[0m\u001b[0mallGenes\u001b[0m\u001b[0;34m.\u001b[0m\u001b[0mindex\u001b[0m\u001b[0;34m.\u001b[0m\u001b[0mto_list\u001b[0m\u001b[0;34m(\u001b[0m\u001b[0;34m)\u001b[0m\u001b[0;34m)\u001b[0m\u001b[0;34m,\u001b[0m \u001b[0mset\u001b[0m\u001b[0;34m(\u001b[0m\u001b[0mcellL\u001b[0m\u001b[0;34m)\u001b[0m\u001b[0;34m)\u001b[0m\u001b[0;34m)\u001b[0m\u001b[0;34m\u001b[0m\u001b[0;34m\u001b[0m\u001b[0m\n\u001b[0m\u001b[1;32m      3\u001b[0m \u001b[0mallGenes\u001b[0m \u001b[0;34m=\u001b[0m \u001b[0meffect\u001b[0m\u001b[0;34m[\u001b[0m\u001b[0meffect\u001b[0m\u001b[0;34m.\u001b[0m\u001b[0mcolumns\u001b[0m\u001b[0;34m.\u001b[0m\u001b[0mintersection\u001b[0m\u001b[0;34m(\u001b[0m\u001b[0mcellL\u001b[0m\u001b[0;34m)\u001b[0m\u001b[0;34m]\u001b[0m\u001b[0;34m\u001b[0m\u001b[0;34m\u001b[0m\u001b[0m\n\u001b[1;32m      4\u001b[0m \u001b[0;34m\u001b[0m\u001b[0m\n\u001b[1;32m      5\u001b[0m \u001b[0mallGenes\u001b[0m\u001b[0;34m.\u001b[0m\u001b[0mshape\u001b[0m\u001b[0;34m\u001b[0m\u001b[0;34m\u001b[0m\u001b[0m\n",
      "\u001b[0;31mNameError\u001b[0m: name 'allGenes' is not defined"
     ]
    }
   ],
   "source": [
    "effect = effect.transpose()\n",
    "intersect = list(set.intersection(set(allGenes.index.to_list()), set(cellL)))\n",
    "allGenes = effect[effect.columns.intersection(cellL)]\n",
    "\n",
    "allGenes.shape\n",
    "allGenes = allGenes.transpose()\n",
    "\n",
    "allGenes.head()"
   ]
  },
  {
   "cell_type": "code",
   "execution_count": 13,
   "metadata": {
    "collapsed": true,
    "jupyter": {
     "outputs_hidden": true
    }
   },
   "outputs": [
    {
     "ename": "NameError",
     "evalue": "name 'allGenes' is not defined",
     "output_type": "error",
     "traceback": [
      "\u001b[0;31m---------------------------------------------------------------------------\u001b[0m",
      "\u001b[0;31mNameError\u001b[0m                                 Traceback (most recent call last)",
      "\u001b[0;32m<ipython-input-13-1ec3df5f19d8>\u001b[0m in \u001b[0;36m<module>\u001b[0;34m\u001b[0m\n\u001b[0;32m----> 1\u001b[0;31m \u001b[0mallGenes\u001b[0m\u001b[0;34m.\u001b[0m\u001b[0mshape\u001b[0m\u001b[0;34m\u001b[0m\u001b[0;34m\u001b[0m\u001b[0m\n\u001b[0m\u001b[1;32m      2\u001b[0m \u001b[0mallGenes\u001b[0m \u001b[0;34m=\u001b[0m \u001b[0mallGenes\u001b[0m\u001b[0;34m.\u001b[0m\u001b[0mtranspose\u001b[0m\u001b[0;34m(\u001b[0m\u001b[0;34m)\u001b[0m\u001b[0;34m\u001b[0m\u001b[0;34m\u001b[0m\u001b[0m\n",
      "\u001b[0;31mNameError\u001b[0m: name 'allGenes' is not defined"
     ]
    }
   ],
   "source": [
    "allGenes.shape\n",
    "allGenes = allGenes.transpose()"
   ]
  },
  {
   "cell_type": "code",
   "execution_count": 11,
   "metadata": {
    "collapsed": true,
    "jupyter": {
     "outputs_hidden": true
    }
   },
   "outputs": [
    {
     "ename": "NameError",
     "evalue": "name 'allGenes' is not defined",
     "output_type": "error",
     "traceback": [
      "\u001b[0;31m---------------------------------------------------------------------------\u001b[0m",
      "\u001b[0;31mNameError\u001b[0m                                 Traceback (most recent call last)",
      "\u001b[0;32m<ipython-input-11-14270f410420>\u001b[0m in \u001b[0;36m<module>\u001b[0;34m\u001b[0m\n\u001b[0;32m----> 1\u001b[0;31m \u001b[0mintersect\u001b[0m \u001b[0;34m=\u001b[0m \u001b[0mlist\u001b[0m\u001b[0;34m(\u001b[0m\u001b[0mset\u001b[0m\u001b[0;34m.\u001b[0m\u001b[0mintersection\u001b[0m\u001b[0;34m(\u001b[0m\u001b[0mset\u001b[0m\u001b[0;34m(\u001b[0m\u001b[0mallGenes\u001b[0m\u001b[0;34m.\u001b[0m\u001b[0mindex\u001b[0m\u001b[0;34m.\u001b[0m\u001b[0mto_list\u001b[0m\u001b[0;34m(\u001b[0m\u001b[0;34m)\u001b[0m\u001b[0;34m)\u001b[0m\u001b[0;34m,\u001b[0m \u001b[0mset\u001b[0m\u001b[0;34m(\u001b[0m\u001b[0mcellL\u001b[0m\u001b[0;34m)\u001b[0m\u001b[0;34m)\u001b[0m\u001b[0;34m)\u001b[0m\u001b[0;34m\u001b[0m\u001b[0;34m\u001b[0m\u001b[0m\n\u001b[0m",
      "\u001b[0;31mNameError\u001b[0m: name 'allGenes' is not defined"
     ]
    }
   ],
   "source": [
    "intersect = list(set.intersection(set(allGenes.index.to_list()), set(cellL)))"
   ]
  },
  {
   "cell_type": "code",
   "execution_count": 65,
   "metadata": {},
   "outputs": [
    {
     "data": {
      "text/html": [
       "<div>\n",
       "<style scoped>\n",
       "    .dataframe tbody tr th:only-of-type {\n",
       "        vertical-align: middle;\n",
       "    }\n",
       "\n",
       "    .dataframe tbody tr th {\n",
       "        vertical-align: top;\n",
       "    }\n",
       "\n",
       "    .dataframe thead th {\n",
       "        text-align: right;\n",
       "    }\n",
       "</style>\n",
       "<table border=\"1\" class=\"dataframe\">\n",
       "  <thead>\n",
       "    <tr style=\"text-align: right;\">\n",
       "      <th></th>\n",
       "      <th>A1BG</th>\n",
       "      <th>A1CF</th>\n",
       "      <th>A2M</th>\n",
       "      <th>A2ML1</th>\n",
       "      <th>A3GALT2</th>\n",
       "      <th>A4GALT</th>\n",
       "      <th>A4GNT</th>\n",
       "      <th>AAAS</th>\n",
       "      <th>AACS</th>\n",
       "      <th>AADAC</th>\n",
       "      <th>...</th>\n",
       "      <th>ZWILCH</th>\n",
       "      <th>ZWINT</th>\n",
       "      <th>ZXDA</th>\n",
       "      <th>ZXDB</th>\n",
       "      <th>ZXDC</th>\n",
       "      <th>ZYG11A</th>\n",
       "      <th>ZYG11B</th>\n",
       "      <th>ZYX</th>\n",
       "      <th>ZZEF1</th>\n",
       "      <th>ZZZ3</th>\n",
       "    </tr>\n",
       "  </thead>\n",
       "  <tbody>\n",
       "    <tr>\n",
       "      <th>HEL</th>\n",
       "      <td>0.178087</td>\n",
       "      <td>0.088290</td>\n",
       "      <td>-0.201464</td>\n",
       "      <td>-0.017011</td>\n",
       "      <td>0.042590</td>\n",
       "      <td>-0.192257</td>\n",
       "      <td>0.352891</td>\n",
       "      <td>-0.445209</td>\n",
       "      <td>0.292603</td>\n",
       "      <td>0.165168</td>\n",
       "      <td>...</td>\n",
       "      <td>-0.122795</td>\n",
       "      <td>-0.464567</td>\n",
       "      <td>NaN</td>\n",
       "      <td>NaN</td>\n",
       "      <td>0.258084</td>\n",
       "      <td>0.237593</td>\n",
       "      <td>-0.408563</td>\n",
       "      <td>0.291832</td>\n",
       "      <td>0.218575</td>\n",
       "      <td>-0.139759</td>\n",
       "    </tr>\n",
       "    <tr>\n",
       "      <th>HEL9217</th>\n",
       "      <td>-0.082364</td>\n",
       "      <td>0.239413</td>\n",
       "      <td>0.195457</td>\n",
       "      <td>0.163763</td>\n",
       "      <td>-0.188161</td>\n",
       "      <td>-0.338735</td>\n",
       "      <td>0.254489</td>\n",
       "      <td>-0.583878</td>\n",
       "      <td>-0.060615</td>\n",
       "      <td>0.015272</td>\n",
       "      <td>...</td>\n",
       "      <td>-0.195061</td>\n",
       "      <td>-0.408063</td>\n",
       "      <td>-0.155155</td>\n",
       "      <td>-0.067415</td>\n",
       "      <td>0.229242</td>\n",
       "      <td>-0.075883</td>\n",
       "      <td>-0.104001</td>\n",
       "      <td>0.075901</td>\n",
       "      <td>0.036985</td>\n",
       "      <td>-0.243303</td>\n",
       "    </tr>\n",
       "    <tr>\n",
       "      <th>LS513</th>\n",
       "      <td>0.070026</td>\n",
       "      <td>0.075066</td>\n",
       "      <td>-0.064637</td>\n",
       "      <td>0.156905</td>\n",
       "      <td>0.099075</td>\n",
       "      <td>0.141985</td>\n",
       "      <td>0.066314</td>\n",
       "      <td>-0.477023</td>\n",
       "      <td>-0.006855</td>\n",
       "      <td>0.291604</td>\n",
       "      <td>...</td>\n",
       "      <td>-0.093252</td>\n",
       "      <td>-0.276874</td>\n",
       "      <td>-0.049716</td>\n",
       "      <td>0.116683</td>\n",
       "      <td>0.211699</td>\n",
       "      <td>-0.012654</td>\n",
       "      <td>-0.351716</td>\n",
       "      <td>0.089140</td>\n",
       "      <td>-0.392549</td>\n",
       "      <td>-0.442624</td>\n",
       "    </tr>\n",
       "    <tr>\n",
       "      <th>C2BBE1</th>\n",
       "      <td>0.107048</td>\n",
       "      <td>-0.006352</td>\n",
       "      <td>-0.053166</td>\n",
       "      <td>0.053055</td>\n",
       "      <td>0.081620</td>\n",
       "      <td>-0.038305</td>\n",
       "      <td>0.082421</td>\n",
       "      <td>-0.642935</td>\n",
       "      <td>0.159178</td>\n",
       "      <td>0.064128</td>\n",
       "      <td>...</td>\n",
       "      <td>-0.280677</td>\n",
       "      <td>-0.230111</td>\n",
       "      <td>-0.106000</td>\n",
       "      <td>0.041611</td>\n",
       "      <td>0.083021</td>\n",
       "      <td>0.022771</td>\n",
       "      <td>-0.596777</td>\n",
       "      <td>0.197627</td>\n",
       "      <td>-0.106398</td>\n",
       "      <td>-0.549259</td>\n",
       "    </tr>\n",
       "    <tr>\n",
       "      <th>253J</th>\n",
       "      <td>0.280508</td>\n",
       "      <td>0.079860</td>\n",
       "      <td>0.016981</td>\n",
       "      <td>0.439139</td>\n",
       "      <td>-0.042239</td>\n",
       "      <td>-0.242560</td>\n",
       "      <td>0.103028</td>\n",
       "      <td>-0.419159</td>\n",
       "      <td>0.141445</td>\n",
       "      <td>0.115857</td>\n",
       "      <td>...</td>\n",
       "      <td>-0.410500</td>\n",
       "      <td>-0.507467</td>\n",
       "      <td>-0.138665</td>\n",
       "      <td>-0.119292</td>\n",
       "      <td>0.284407</td>\n",
       "      <td>0.158124</td>\n",
       "      <td>-0.240429</td>\n",
       "      <td>0.124847</td>\n",
       "      <td>-0.250949</td>\n",
       "      <td>-0.379117</td>\n",
       "    </tr>\n",
       "  </tbody>\n",
       "</table>\n",
       "<p>5 rows × 18119 columns</p>\n",
       "</div>"
      ],
      "text/plain": [
       "             A1BG      A1CF       A2M     A2ML1   A3GALT2    A4GALT     A4GNT  \\\n",
       "HEL      0.178087  0.088290 -0.201464 -0.017011  0.042590 -0.192257  0.352891   \n",
       "HEL9217 -0.082364  0.239413  0.195457  0.163763 -0.188161 -0.338735  0.254489   \n",
       "LS513    0.070026  0.075066 -0.064637  0.156905  0.099075  0.141985  0.066314   \n",
       "C2BBE1   0.107048 -0.006352 -0.053166  0.053055  0.081620 -0.038305  0.082421   \n",
       "253J     0.280508  0.079860  0.016981  0.439139 -0.042239 -0.242560  0.103028   \n",
       "\n",
       "             AAAS      AACS     AADAC  ...    ZWILCH     ZWINT      ZXDA  \\\n",
       "HEL     -0.445209  0.292603  0.165168  ... -0.122795 -0.464567       NaN   \n",
       "HEL9217 -0.583878 -0.060615  0.015272  ... -0.195061 -0.408063 -0.155155   \n",
       "LS513   -0.477023 -0.006855  0.291604  ... -0.093252 -0.276874 -0.049716   \n",
       "C2BBE1  -0.642935  0.159178  0.064128  ... -0.280677 -0.230111 -0.106000   \n",
       "253J    -0.419159  0.141445  0.115857  ... -0.410500 -0.507467 -0.138665   \n",
       "\n",
       "             ZXDB      ZXDC    ZYG11A    ZYG11B       ZYX     ZZEF1      ZZZ3  \n",
       "HEL           NaN  0.258084  0.237593 -0.408563  0.291832  0.218575 -0.139759  \n",
       "HEL9217 -0.067415  0.229242 -0.075883 -0.104001  0.075901  0.036985 -0.243303  \n",
       "LS513    0.116683  0.211699 -0.012654 -0.351716  0.089140 -0.392549 -0.442624  \n",
       "C2BBE1   0.041611  0.083021  0.022771 -0.596777  0.197627 -0.106398 -0.549259  \n",
       "253J    -0.119292  0.284407  0.158124 -0.240429  0.124847 -0.250949 -0.379117  \n",
       "\n",
       "[5 rows x 18119 columns]"
      ]
     },
     "execution_count": 65,
     "metadata": {},
     "output_type": "execute_result"
    }
   ],
   "source": [
    "allGenes.head()"
   ]
  },
  {
   "cell_type": "markdown",
   "metadata": {},
   "source": [
    "### Now we have the cell lines that are only in DepMap. For these, we also need to update the names, so that we can easily compare which ones have which genetic background,"
   ]
  },
  {
   "cell_type": "code",
   "execution_count": 93,
   "metadata": {},
   "outputs": [
    {
     "data": {
      "text/plain": [
       "Index(['CCLE_NAME', 'TISSUE_FACTOR', 'MSI', 'ACVR1B_mut_del', 'APC_mut_del',\n",
       "       'ARID1A_mut_del', 'ATM_mut_del', 'ATRX_mut_del', 'AXIN1_mut_del',\n",
       "       'BAP1_mut_del', 'BRCA1_mut_del', 'BRCA2_mut_del', 'CASP8_mut_del',\n",
       "       'CDC73_mut_del', 'CDH1_mut_del', 'CDKN2A_mut_del', 'CEBPA_mut_del',\n",
       "       'CIC_mut_del', 'CREBBP_mut_del', 'CYLD_mut_del', 'DAXX_mut_del',\n",
       "       'EP300_mut_del', 'AMER1_mut_del', 'FBXW7_mut_del', 'GATA1_mut_del',\n",
       "       'HNF1A_mut_del', 'KDM6A_mut_del', 'MAP3K1_mut_del', 'MEN1_mut_del',\n",
       "       'MLH1_mut_del', 'KMT2C_mut_del', 'MSH2_mut_del', 'MSH6_mut_del',\n",
       "       'NF1_mut_del', 'NF2_mut_del', 'NOTCH1_mut_del', 'NOTCH2_mut_del',\n",
       "       'NPM1_mut_del', 'PAX5_mut_del', 'PIK3R1_mut_del', 'PTCH1_mut_del',\n",
       "       'PTEN_mut_del', 'RB1_mut_del', 'RUNX1_mut_del', 'SMAD2_mut_del',\n",
       "       'SMAD4_mut_del', 'SMARCA4_mut_del', 'SMARCB1_mut_del', 'SOCS1_mut_del',\n",
       "       'STK11_mut_del', 'TET2_mut_del', 'TNFAIP3_mut_del', 'TP53_mut_del',\n",
       "       'TSC1_mut_del', 'VHL_mut_del', 'WT1_mut_del', 'ERBB2_amp', 'CCND1_amp',\n",
       "       'MDM2_amp', 'MYC_amp', 'MYCN_amp', 'PIK3CA_mut', 'BRAF_mut',\n",
       "       'CTNNB1_mut', 'KRAS_mut', 'NRAS_mut', 'GNAS_mut', 'HRAS_mut',\n",
       "       'EGFR_mut', 'MAP2K1_mut', 'PTPN11_mut'],\n",
       "      dtype='object')"
      ]
     },
     "execution_count": 93,
     "metadata": {},
     "output_type": "execute_result"
    }
   ],
   "source": [
    "data.columns"
   ]
  },
  {
   "cell_type": "code",
   "execution_count": 64,
   "metadata": {},
   "outputs": [
    {
     "data": {
      "text/plain": [
       "[1]"
      ]
     },
     "execution_count": 64,
     "metadata": {},
     "output_type": "execute_result"
    }
   ],
   "source": [
    "data[data['CCLE_NAME'].str.match('YD8')].TP53_mut_del.to_list()"
   ]
  },
  {
   "cell_type": "markdown",
   "metadata": {},
   "source": [
    "## It appears to be working  - 29.September"
   ]
  },
  {
   "cell_type": "code",
   "execution_count": 16,
   "metadata": {},
   "outputs": [
    {
     "name": "stdout",
     "output_type": "stream",
     "text": [
      "[[0], [0], [0], [0], [0], [1], [0], [], [1], [0], [0], [0], [0], [], [], [0], [0], [], [0], [0]]\n",
      "0.1\n"
     ]
    }
   ],
   "source": [
    "count = []\n",
    "for _ in top:\n",
    "    count.append(data[data['CCLE_NAME'].str.match(_)].MSI.to_list())\n",
    "    \n",
    "print(count)\n",
    "#print(count/len(top))\n",
    "\n",
    "count = [i for j in count for i in j]\n",
    "print(sum(count)/len(top))"
   ]
  },
  {
   "cell_type": "code",
   "execution_count": null,
   "metadata": {},
   "outputs": [],
   "source": [
    "data = pd.read_csv(\"/home/annerer/Downloads/elife-58925-supp1-v3.csv\")"
   ]
  },
  {
   "cell_type": "code",
   "execution_count": 35,
   "metadata": {},
   "outputs": [
    {
     "name": "stdout",
     "output_type": "stream",
     "text": [
      "0.0\n"
     ]
    }
   ],
   "source": [
    "count = []\n",
    "for _ in top:\n",
    "    count.append(data[data['CCLE_NAME'].str.match(_)].KRAS_mut.to_list())\n",
    "    \n",
    "#print(count)\n",
    "#print(count/len(top))\n",
    "\n",
    "count = [i for j in count for i in j]\n",
    "print(sum(count)/len(top))\n",
    "\n",
    "count = []\n",
    "for _ in allGenes.columns.to_list():\n",
    "    count.append(data[data['CCLE_NAME'].str.match(_)].EGFR_mut.to_list())\n",
    "    \n",
    "#print(count)\n",
    "#print(count/len(top))\n",
    "\n",
    "count = [i for j in count for i in j]\n",
    "print(count)\n",
    "print(sum(count)/len(allGenes))"
   ]
  },
  {
   "cell_type": "markdown",
   "metadata": {},
   "source": [
    "#### for KRAS_mut we have 20% in top hits for every interaction of NF2, wheras we find 55% overall.\n",
    "#### some hits for CDKs have 0% KRAS_mut in the top interactions."
   ]
  },
  {
   "cell_type": "code",
   "execution_count": 97,
   "metadata": {},
   "outputs": [
    {
     "name": "stdout",
     "output_type": "stream",
     "text": [
      "[0, 0, 0, 0, 0, 0, 0, 0, 0, 0, 0, 0, 0, 0, 0, 0, 0, 0, 0, 0, 0, 0, 0, 0, 0, 0, 0, 0, 0, 0, 0, 0, 0, 0, 0, 1, 0, 0, 0, 0, 1, 0, 0, 0, 0, 0, 0, 0, 0, 0, 1, 0, 0, 0, 0, 0, 0, 0, 0, 0, 0, 0, 0, 0]\n",
      "0.0038314176245210726\n"
     ]
    }
   ],
   "source": [
    "count = []\n",
    "for _ in allGenes.columns.to_list():\n",
    "    count.append(data[data['CCLE_NAME'].str.match(_)].EGFR_mut.to_list())\n",
    "    \n",
    "#print(count)\n",
    "#print(count/len(top))\n",
    "\n",
    "count = [i for j in count for i in j]\n",
    "print(count)\n",
    "print(sum(count)/len(allGenes))"
   ]
  },
  {
   "cell_type": "code",
   "execution_count": 86,
   "metadata": {},
   "outputs": [
    {
     "name": "stdout",
     "output_type": "stream",
     "text": [
      "0\n",
      "20\n"
     ]
    }
   ],
   "source": [
    "count = 0\n",
    "for _ in top:\n",
    "    if data[data['CCLE_NAME'].str.match(_)].APC_mut_del.to_list() == 1:\n",
    "        count += 1\n",
    "\n",
    "print(count)\n",
    "print(len(top))"
   ]
  },
  {
   "cell_type": "code",
   "execution_count": 28,
   "metadata": {
    "collapsed": true,
    "jupyter": {
     "outputs_hidden": true
    }
   },
   "outputs": [
    {
     "ename": "SyntaxError",
     "evalue": "unmatched ']' (<ipython-input-28-5d98798b7155>, line 2)",
     "output_type": "error",
     "traceback": [
      "\u001b[0;36m  File \u001b[0;32m\"<ipython-input-28-5d98798b7155>\"\u001b[0;36m, line \u001b[0;32m2\u001b[0m\n\u001b[0;31m    data[data['CCLE_NAME'].str.match(top)].MSI == 1]\u001b[0m\n\u001b[0m                                                   ^\u001b[0m\n\u001b[0;31mSyntaxError\u001b[0m\u001b[0;31m:\u001b[0m unmatched ']'\n"
     ]
    }
   ],
   "source": [
    "\n",
    "for _ in top:\n",
    "    data2 = data[data['CCLE_NAME'].str.match(top)]\n",
    "\n",
    "print(count)\n",
    "print(len(genes))"
   ]
  },
  {
   "cell_type": "code",
   "execution_count": 25,
   "metadata": {},
   "outputs": [
    {
     "data": {
      "text/plain": [
       "623    1\n",
       "Name: MSI, dtype: int64"
      ]
     },
     "execution_count": 25,
     "metadata": {},
     "output_type": "execute_result"
    }
   ],
   "source": [
    "data[data['CCLE_NAME'].str.match(top[1])].MSI"
   ]
  },
  {
   "cell_type": "code",
   "execution_count": 34,
   "metadata": {},
   "outputs": [
    {
     "data": {
      "text/plain": [
       "0.16569200779727095"
      ]
     },
     "execution_count": 34,
     "metadata": {},
     "output_type": "execute_result"
    }
   ],
   "source": [
    "# wir duerfen nicht alle zelllinien mitnehmen, nur die DepMap exclusives\n",
    "sum(data.APC_mut_del)/len(data.APC_mut_del)"
   ]
  },
  {
   "cell_type": "code",
   "execution_count": 36,
   "metadata": {},
   "outputs": [
    {
     "data": {
      "text/plain": [
       "1026"
      ]
     },
     "execution_count": 36,
     "metadata": {},
     "output_type": "execute_result"
    }
   ],
   "source": [
    "len(data.APC_mut_del)    # es sind nicht alle 1026 in DepMap, nur um die 750"
   ]
  },
  {
   "cell_type": "code",
   "execution_count": null,
   "metadata": {},
   "outputs": [],
   "source": [
    "count = 0\n",
    "for _ in top:\n",
    "    if data[data.mutationX] == 1:\n",
    "        count += 1\n",
    "    return count/len(top)"
   ]
  },
  {
   "cell_type": "code",
   "execution_count": null,
   "metadata": {},
   "outputs": [],
   "source": [
    "def calculate_genetic_background_percentage(cellLines,allcells,background):\n",
    "    for _ in cellLines:\n",
    "        # get the percentage of background in these cells\n",
    "        cellLines_percentage = cellLines[cellLines[]]\n",
    "    for _ in allcells:\n",
    "        # get the percentage of backgournd in all cells\n",
    "        allcells_percentage = allcells[allcells[]]\n",
    "    # as a first instance, check for overrepresentation comparing these 2 values\n",
    "    \n",
    "    print('the background ' + background + ' is found in ' + background_percent + ' of all celllines' )\n",
    "    print('the background ' + background + ' is found in ' + cellLines_percent + ' of the input celllines') "
   ]
  },
  {
   "cell_type": "code",
   "execution_count": null,
   "metadata": {},
   "outputs": [],
   "source": [
    "list1 = data[data.TP53_mut_del == 0][\"CCLE_NAME\"].to_list()\n",
    "#list1 = [j for i in list1 for j in i]\n",
    "# split at space\n",
    "for i in range(len(list1)):\n",
    "    list1[i] = list1[i].split(\"_\") \n",
    "\n",
    "List1 = []\n",
    "for i in range(len(list1)):\n",
    "    List1.append(list1[i][0])\n",
    "    \n",
    "overlap = set.intersection(set(List1),set(cell_L))"
   ]
  },
  {
   "cell_type": "code",
   "execution_count": 81,
   "metadata": {},
   "outputs": [],
   "source": [
    "def single_column(df,columns,nameOfNewCol):\n",
    "    'takes list of columns and returns a Df of values'\n",
    "    vals = df[columns].values.tolist()\n",
    "    valsList = [j for x in vals for j in x]\n",
    "    valsDf = pd.DataFrame(valsList,columns = [nameOfNewCol])\n",
    "    return valsDf"
   ]
  },
  {
   "cell_type": "code",
   "execution_count": 25,
   "metadata": {},
   "outputs": [],
   "source": [
    "def compare_groups(mutation,kogene):\n",
    "    list1 = data[data[mutation] == 1][\"CCLE_NAME\"].to_list()\n",
    "    mutation = set.intersection(set(list1),set(cellL))\n",
    "\n",
    "    list2 = data[data[mutation] == 0][\"CCLE_NAME\"].to_list()\n",
    "    noMutation = set.intersection(set(list2),set(cellL))\n",
    "\n",
    "    ko_gene = effectCellL[effectCellL.index.str.startswith(kogene)]\n",
    "\n",
    "    Df2 = single_column(ko_gene,mutation,'MUT')\n",
    "\n",
    "    Df1 = single_column(ko_gene,noMutation,'WT')\n",
    "\n",
    "    Df = pd.concat([Df1,Df2], axis=1, sort=False)\n",
    "    Df.boxplot()"
   ]
  },
  {
   "cell_type": "code",
   "execution_count": 1,
   "metadata": {},
   "outputs": [],
   "source": [
    "#compare_groups(\"NF2\",\"TP53\")"
   ]
  },
  {
   "cell_type": "code",
   "execution_count": 28,
   "metadata": {},
   "outputs": [],
   "source": [
    "# we cycle through the conditions. for every condition (71), check the percentage in the top cell lines of the two genes, and in all cell lines\n",
    "# after the function is done, this is a single for loop, or a list comprehension"
   ]
  },
  {
   "cell_type": "markdown",
   "metadata": {},
   "source": [
    "## Idee:\n",
    "wir schauen fuer alle paare, jeweils abhaengig vom split, die p-werte des hypergeometrischen tests fuer alle genetischen hintergruende an.\n",
    "    sind diese signifikant oder nicht? wir lassen einfach ein skript ueber alle 68 hintergrunde fuer alle relevanten paare laufen und geben paar sowie hintergrund aus.\n",
    "    danach ordnen wir nach p-value und schauen uns die signifikantesten an.\n",
    "    wichtig: wir nehmen fuer positiv korrelierte nur summen und fuer negativ korrelierte nur differenzen.\n",
    "    \n",
    "### dh:\n",
    "* cutoff festlegen (mit Juergen)\n",
    "* mit cutoff die zelllinien in 2 sets splitten\n",
    "* funktion schreiben die einen hypergeometrischen test mit diesen sets macht und das paar sowie den p-value dafuer zurueckgibt.\n",
    "* danach ordnen und mit Uli durchgehen."
   ]
  },
  {
   "cell_type": "code",
   "execution_count": null,
   "metadata": {},
   "outputs": [],
   "source": []
  },
  {
   "cell_type": "code",
   "execution_count": null,
   "metadata": {},
   "outputs": [],
   "source": []
  },
  {
   "cell_type": "code",
   "execution_count": 65,
   "metadata": {},
   "outputs": [],
   "source": [
    "dep = pd.read_csv(\"/home/annerer/Dokumente/DepMap_Mining/Achilles_gene_dependency.csv\")"
   ]
  },
  {
   "cell_type": "code",
   "execution_count": 69,
   "metadata": {},
   "outputs": [
    {
     "data": {
      "text/plain": [
       "<matplotlib.axes._subplots.AxesSubplot at 0x7f023d408760>"
      ]
     },
     "execution_count": 69,
     "metadata": {},
     "output_type": "execute_result"
    },
    {
     "data": {
      "image/png": "[encoded data removed]",
      "text/plain": [
       "<Figure size 432x288 with 1 Axes>"
      ]
     },
     "metadata": {
      "needs_background": "light"
     },
     "output_type": "display_data"
    }
   ],
   "source": [
    "dep['CDK4 (1019)'].hist(bins=100)"
   ]
  },
  {
   "cell_type": "code",
   "execution_count": 71,
   "metadata": {},
   "outputs": [
    {
     "data": {
      "text/plain": [
       "<matplotlib.axes._subplots.AxesSubplot at 0x7f023dcafb50>"
      ]
     },
     "execution_count": 71,
     "metadata": {},
     "output_type": "execute_result"
    },
    {
     "data": {
      "image/png": "[encoded data removed]",
      "text/plain": [
       "<Figure size 432x288 with 1 Axes>"
      ]
     },
     "metadata": {
      "needs_background": "light"
     },
     "output_type": "display_data"
    }
   ],
   "source": [
    "dep['CDK6 (1021)'].hist(bins=100)"
   ]
  },
  {
   "cell_type": "code",
   "execution_count": 72,
   "metadata": {},
   "outputs": [
    {
     "data": {
      "text/plain": [
       "<matplotlib.axes._subplots.AxesSubplot at 0x7f0240362b20>"
      ]
     },
     "execution_count": 72,
     "metadata": {},
     "output_type": "execute_result"
    },
    {
     "data": {
      "image/png": "[encoded data removed]",
      "text/plain": [
       "<Figure size 432x288 with 1 Axes>"
      ]
     },
     "metadata": {
      "needs_background": "light"
     },
     "output_type": "display_data"
    }
   ],
   "source": [
    "dep['PTEN (5728)'].hist(bins=100)"
   ]
  },
  {
   "cell_type": "code",
   "execution_count": 73,
   "metadata": {},
   "outputs": [
    {
     "data": {
      "text/plain": [
       "<matplotlib.axes._subplots.AxesSubplot at 0x7f023ff80be0>"
      ]
     },
     "execution_count": 73,
     "metadata": {},
     "output_type": "execute_result"
    },
    {
     "data": {
      "image/png": "[encoded data removed]",
      "text/plain": [
       "<Figure size 432x288 with 1 Axes>"
      ]
     },
     "metadata": {
      "needs_background": "light"
     },
     "output_type": "display_data"
    }
   ],
   "source": [
    "dep['GAPDH (2597)'].hist(bins=100)"
   ]
  },
  {
   "cell_type": "code",
   "execution_count": 74,
   "metadata": {},
   "outputs": [
    {
     "data": {
      "text/plain": [
       "<matplotlib.axes._subplots.AxesSubplot at 0x7f023fa28820>"
      ]
     },
     "execution_count": 74,
     "metadata": {},
     "output_type": "execute_result"
    },
    {
     "data": {
      "image/png": "[encoded data removed]",
      "text/plain": [
       "<Figure size 432x288 with 1 Axes>"
      ]
     },
     "metadata": {
      "needs_background": "light"
     },
     "output_type": "display_data"
    }
   ],
   "source": [
    "dep['PNPLA2 (57104)'].hist(bins=100)"
   ]
  },
  {
   "cell_type": "code",
   "execution_count": 75,
   "metadata": {},
   "outputs": [
    {
     "data": {
      "text/plain": [
       "<matplotlib.axes._subplots.AxesSubplot at 0x7f02404dfb20>"
      ]
     },
     "execution_count": 75,
     "metadata": {},
     "output_type": "execute_result"
    },
    {
     "data": {
      "image/png": "[encoded data removed]",
      "text/plain": [
       "<Figure size 432x288 with 1 Axes>"
      ]
     },
     "metadata": {
      "needs_background": "light"
     },
     "output_type": "display_data"
    }
   ],
   "source": [
    "dep['ZNF2 (7549)'].hist(bins=100)"
   ]
  },
  {
   "cell_type": "code",
   "execution_count": 80,
   "metadata": {},
   "outputs": [
    {
     "data": {
      "text/plain": [
       "<matplotlib.axes._subplots.AxesSubplot at 0x7f023eadb280>"
      ]
     },
     "execution_count": 80,
     "metadata": {},
     "output_type": "execute_result"
    },
    {
     "data": {
      "image/png": "[encoded data removed]",
      "text/plain": [
       "<Figure size 432x288 with 1 Axes>"
      ]
     },
     "metadata": {
      "needs_background": "light"
     },
     "output_type": "display_data"
    }
   ],
   "source": [
    "dep['TP53 (7157)'].hist(bins=100)"
   ]
  },
  {
   "cell_type": "code",
   "execution_count": 76,
   "metadata": {},
   "outputs": [
    {
     "data": {
      "text/plain": [
       "<matplotlib.axes._subplots.AxesSubplot at 0x7f023f3467f0>"
      ]
     },
     "execution_count": 76,
     "metadata": {},
     "output_type": "execute_result"
    },
    {
     "data": {
      "image/png": "[encoded data removed]",
      "text/plain": [
       "<Figure size 432x288 with 1 Axes>"
      ]
     },
     "metadata": {
      "needs_background": "light"
     },
     "output_type": "display_data"
    }
   ],
   "source": [
    "dep['BRAF (673)'].hist(bins=100)"
   ]
  },
  {
   "cell_type": "code",
   "execution_count": 111,
   "metadata": {},
   "outputs": [
    {
     "data": {
      "text/plain": [
       "<matplotlib.axes._subplots.AxesSubplot at 0x7f0215309790>"
      ]
     },
     "execution_count": 111,
     "metadata": {},
     "output_type": "execute_result"
    },
    {
     "data": {
      "image/png": "[encoded data removed]",
      "text/plain": [
       "<Figure size 432x288 with 1 Axes>"
      ]
     },
     "metadata": {
      "needs_background": "light"
     },
     "output_type": "display_data"
    }
   ],
   "source": [
    "dep['KRAS'].hist(bins=200)"
   ]
  },
  {
   "cell_type": "code",
   "execution_count": 109,
   "metadata": {},
   "outputs": [
    {
     "data": {
      "text/plain": [
       "<matplotlib.axes._subplots.AxesSubplot at 0x7f02153c6ee0>"
      ]
     },
     "execution_count": 109,
     "metadata": {},
     "output_type": "execute_result"
    },
    {
     "data": {
      "image/png": "[encoded data removed]",
      "text/plain": [
       "<Figure size 432x288 with 1 Axes>"
      ]
     },
     "metadata": {
      "needs_background": "light"
     },
     "output_type": "display_data"
    }
   ],
   "source": [
    "dep['NF2'].hist(bins=100)"
   ]
  },
  {
   "cell_type": "code",
   "execution_count": 81,
   "metadata": {
    "collapsed": true,
    "jupyter": {
     "outputs_hidden": true
    }
   },
   "outputs": [
    {
     "data": {
      "text/plain": [
       "193    0.000000\n",
       "518    0.000000\n",
       "383    0.000000\n",
       "349    0.000000\n",
       "778    0.000000\n",
       "         ...   \n",
       "115    0.934864\n",
       "741    0.940351\n",
       "493    0.960218\n",
       "740    0.980272\n",
       "187    0.986444\n",
       "Name: NF2 (4771), Length: 789, dtype: float64"
      ]
     },
     "execution_count": 81,
     "metadata": {},
     "output_type": "execute_result"
    }
   ],
   "source": [
    "dep['NF2 (4771)'].sort_values()"
   ]
  },
  {
   "cell_type": "code",
   "execution_count": 79,
   "metadata": {},
   "outputs": [
    {
     "data": {
      "text/plain": [
       "<matplotlib.axes._subplots.AxesSubplot at 0x7f023eadbeb0>"
      ]
     },
     "execution_count": 79,
     "metadata": {},
     "output_type": "execute_result"
    },
    {
     "data": {
      "image/png": "[encoded data removed]",
      "text/plain": [
       "<Figure size 432x288 with 1 Axes>"
      ]
     },
     "metadata": {
      "needs_background": "light"
     },
     "output_type": "display_data"
    }
   ],
   "source": [
    "dep['RAC1 (5879)'].hist(bins=100)"
   ]
  },
  {
   "cell_type": "code",
   "execution_count": 82,
   "metadata": {},
   "outputs": [
    {
     "data": {
      "text/plain": [
       "<matplotlib.axes._subplots.AxesSubplot at 0x7f023bcf18b0>"
      ]
     },
     "execution_count": 82,
     "metadata": {},
     "output_type": "execute_result"
    },
    {
     "data": {
      "image/png": "[encoded data removed]",
      "text/plain": [
       "<Figure size 432x288 with 1 Axes>"
      ]
     },
     "metadata": {
      "needs_background": "light"
     },
     "output_type": "display_data"
    }
   ],
   "source": [
    "dep['CCND3 (896)'].hist(bins=100)"
   ]
  },
  {
   "cell_type": "code",
   "execution_count": 83,
   "metadata": {},
   "outputs": [
    {
     "data": {
      "text/plain": [
       "<matplotlib.axes._subplots.AxesSubplot at 0x7f023bc05d90>"
      ]
     },
     "execution_count": 83,
     "metadata": {},
     "output_type": "execute_result"
    },
    {
     "data": {
      "image/png": "[encoded data removed]",
      "text/plain": [
       "<Figure size 432x288 with 1 Axes>"
      ]
     },
     "metadata": {
      "needs_background": "light"
     },
     "output_type": "display_data"
    }
   ],
   "source": [
    "dep['MYC (4609)'].hist(bins=100)"
   ]
  },
  {
   "cell_type": "code",
   "execution_count": 84,
   "metadata": {},
   "outputs": [
    {
     "data": {
      "text/plain": [
       "<matplotlib.axes._subplots.AxesSubplot at 0x7f021c873880>"
      ]
     },
     "execution_count": 84,
     "metadata": {},
     "output_type": "execute_result"
    },
    {
     "data": {
      "image/png": "[encoded data removed]",
      "text/plain": [
       "<Figure size 432x288 with 1 Axes>"
      ]
     },
     "metadata": {
      "needs_background": "light"
     },
     "output_type": "display_data"
    }
   ],
   "source": [
    "dep['MYCN (4613)'].hist(bins=100)"
   ]
  },
  {
   "cell_type": "code",
   "execution_count": 85,
   "metadata": {},
   "outputs": [
    {
     "data": {
      "text/plain": [
       "<matplotlib.axes._subplots.AxesSubplot at 0x7f021c7ee7c0>"
      ]
     },
     "execution_count": 85,
     "metadata": {},
     "output_type": "execute_result"
    },
    {
     "data": {
      "image/png": "[encoded data removed]",
      "text/plain": [
       "<Figure size 432x288 with 1 Axes>"
      ]
     },
     "metadata": {
      "needs_background": "light"
     },
     "output_type": "display_data"
    }
   ],
   "source": [
    "dep['TAOK1 (57551)'].hist(bins=100)"
   ]
  },
  {
   "cell_type": "code",
   "execution_count": 174,
   "metadata": {},
   "outputs": [],
   "source": [
    "data = pd.read_csv(\"/home/annerer/Downloads/elife-58925-supp1-v3.csv\")\n"
   ]
  },
  {
   "cell_type": "code",
   "execution_count": 175,
   "metadata": {},
   "outputs": [
    {
     "data": {
      "text/html": [
       "<div>\n",
       "<style scoped>\n",
       "    .dataframe tbody tr th:only-of-type {\n",
       "        vertical-align: middle;\n",
       "    }\n",
       "\n",
       "    .dataframe tbody tr th {\n",
       "        vertical-align: top;\n",
       "    }\n",
       "\n",
       "    .dataframe thead th {\n",
       "        text-align: right;\n",
       "    }\n",
       "</style>\n",
       "<table border=\"1\" class=\"dataframe\">\n",
       "  <thead>\n",
       "    <tr style=\"text-align: right;\">\n",
       "      <th></th>\n",
       "      <th>CCLE_NAME</th>\n",
       "      <th>TISSUE_FACTOR</th>\n",
       "      <th>MSI</th>\n",
       "      <th>ACVR1B_mut_del</th>\n",
       "      <th>APC_mut_del</th>\n",
       "      <th>ARID1A_mut_del</th>\n",
       "      <th>ATM_mut_del</th>\n",
       "      <th>ATRX_mut_del</th>\n",
       "      <th>AXIN1_mut_del</th>\n",
       "      <th>BAP1_mut_del</th>\n",
       "      <th>...</th>\n",
       "      <th>PIK3CA_mut</th>\n",
       "      <th>BRAF_mut</th>\n",
       "      <th>CTNNB1_mut</th>\n",
       "      <th>KRAS_mut</th>\n",
       "      <th>NRAS_mut</th>\n",
       "      <th>GNAS_mut</th>\n",
       "      <th>HRAS_mut</th>\n",
       "      <th>EGFR_mut</th>\n",
       "      <th>MAP2K1_mut</th>\n",
       "      <th>PTPN11_mut</th>\n",
       "    </tr>\n",
       "  </thead>\n",
       "  <tbody>\n",
       "    <tr>\n",
       "      <th>0</th>\n",
       "      <td>MOLM16_HAEMATOPOIETIC_AND_LYMPHOID_TISSUE</td>\n",
       "      <td>HAEMATOPOIETIC_AND_LYMPHOID_TISSUE</td>\n",
       "      <td>0</td>\n",
       "      <td>0</td>\n",
       "      <td>0</td>\n",
       "      <td>0</td>\n",
       "      <td>0</td>\n",
       "      <td>0</td>\n",
       "      <td>0</td>\n",
       "      <td>0</td>\n",
       "      <td>...</td>\n",
       "      <td>0</td>\n",
       "      <td>0</td>\n",
       "      <td>0</td>\n",
       "      <td>0</td>\n",
       "      <td>0</td>\n",
       "      <td>0</td>\n",
       "      <td>0</td>\n",
       "      <td>0</td>\n",
       "      <td>0</td>\n",
       "      <td>0</td>\n",
       "    </tr>\n",
       "    <tr>\n",
       "      <th>1</th>\n",
       "      <td>PATU8988S_PANCREAS</td>\n",
       "      <td>PANCREAS</td>\n",
       "      <td>0</td>\n",
       "      <td>0</td>\n",
       "      <td>0</td>\n",
       "      <td>0</td>\n",
       "      <td>1</td>\n",
       "      <td>0</td>\n",
       "      <td>0</td>\n",
       "      <td>0</td>\n",
       "      <td>...</td>\n",
       "      <td>0</td>\n",
       "      <td>0</td>\n",
       "      <td>0</td>\n",
       "      <td>1</td>\n",
       "      <td>0</td>\n",
       "      <td>0</td>\n",
       "      <td>0</td>\n",
       "      <td>0</td>\n",
       "      <td>0</td>\n",
       "      <td>0</td>\n",
       "    </tr>\n",
       "    <tr>\n",
       "      <th>2</th>\n",
       "      <td>RCHACV_HAEMATOPOIETIC_AND_LYMPHOID_TISSUE</td>\n",
       "      <td>HAEMATOPOIETIC_AND_LYMPHOID_TISSUE</td>\n",
       "      <td>0</td>\n",
       "      <td>1</td>\n",
       "      <td>0</td>\n",
       "      <td>0</td>\n",
       "      <td>0</td>\n",
       "      <td>0</td>\n",
       "      <td>0</td>\n",
       "      <td>0</td>\n",
       "      <td>...</td>\n",
       "      <td>0</td>\n",
       "      <td>0</td>\n",
       "      <td>0</td>\n",
       "      <td>1</td>\n",
       "      <td>0</td>\n",
       "      <td>0</td>\n",
       "      <td>0</td>\n",
       "      <td>0</td>\n",
       "      <td>0</td>\n",
       "      <td>0</td>\n",
       "    </tr>\n",
       "    <tr>\n",
       "      <th>3</th>\n",
       "      <td>SKMEL31_SKIN</td>\n",
       "      <td>SKIN</td>\n",
       "      <td>0</td>\n",
       "      <td>0</td>\n",
       "      <td>0</td>\n",
       "      <td>0</td>\n",
       "      <td>1</td>\n",
       "      <td>0</td>\n",
       "      <td>0</td>\n",
       "      <td>0</td>\n",
       "      <td>...</td>\n",
       "      <td>0</td>\n",
       "      <td>1</td>\n",
       "      <td>0</td>\n",
       "      <td>0</td>\n",
       "      <td>0</td>\n",
       "      <td>0</td>\n",
       "      <td>0</td>\n",
       "      <td>0</td>\n",
       "      <td>0</td>\n",
       "      <td>0</td>\n",
       "    </tr>\n",
       "    <tr>\n",
       "      <th>4</th>\n",
       "      <td>SKBR3_BREAST</td>\n",
       "      <td>BREAST</td>\n",
       "      <td>0</td>\n",
       "      <td>0</td>\n",
       "      <td>0</td>\n",
       "      <td>0</td>\n",
       "      <td>0</td>\n",
       "      <td>0</td>\n",
       "      <td>0</td>\n",
       "      <td>1</td>\n",
       "      <td>...</td>\n",
       "      <td>0</td>\n",
       "      <td>0</td>\n",
       "      <td>0</td>\n",
       "      <td>0</td>\n",
       "      <td>0</td>\n",
       "      <td>0</td>\n",
       "      <td>0</td>\n",
       "      <td>0</td>\n",
       "      <td>0</td>\n",
       "      <td>0</td>\n",
       "    </tr>\n",
       "  </tbody>\n",
       "</table>\n",
       "<p>5 rows × 71 columns</p>\n",
       "</div>"
      ],
      "text/plain": [
       "                                   CCLE_NAME  \\\n",
       "0  MOLM16_HAEMATOPOIETIC_AND_LYMPHOID_TISSUE   \n",
       "1                         PATU8988S_PANCREAS   \n",
       "2  RCHACV_HAEMATOPOIETIC_AND_LYMPHOID_TISSUE   \n",
       "3                               SKMEL31_SKIN   \n",
       "4                               SKBR3_BREAST   \n",
       "\n",
       "                        TISSUE_FACTOR  MSI  ACVR1B_mut_del  APC_mut_del  \\\n",
       "0  HAEMATOPOIETIC_AND_LYMPHOID_TISSUE    0               0            0   \n",
       "1                            PANCREAS    0               0            0   \n",
       "2  HAEMATOPOIETIC_AND_LYMPHOID_TISSUE    0               1            0   \n",
       "3                                SKIN    0               0            0   \n",
       "4                              BREAST    0               0            0   \n",
       "\n",
       "   ARID1A_mut_del  ATM_mut_del  ATRX_mut_del  AXIN1_mut_del  BAP1_mut_del  \\\n",
       "0               0            0             0              0             0   \n",
       "1               0            1             0              0             0   \n",
       "2               0            0             0              0             0   \n",
       "3               0            1             0              0             0   \n",
       "4               0            0             0              0             1   \n",
       "\n",
       "   ...  PIK3CA_mut  BRAF_mut  CTNNB1_mut  KRAS_mut  NRAS_mut  GNAS_mut  \\\n",
       "0  ...           0         0           0         0         0         0   \n",
       "1  ...           0         0           0         1         0         0   \n",
       "2  ...           0         0           0         1         0         0   \n",
       "3  ...           0         1           0         0         0         0   \n",
       "4  ...           0         0           0         0         0         0   \n",
       "\n",
       "   HRAS_mut  EGFR_mut  MAP2K1_mut  PTPN11_mut  \n",
       "0         0         0           0           0  \n",
       "1         0         0           0           0  \n",
       "2         0         0           0           0  \n",
       "3         0         0           0           0  \n",
       "4         0         0           0           0  \n",
       "\n",
       "[5 rows x 71 columns]"
      ]
     },
     "execution_count": 175,
     "metadata": {},
     "output_type": "execute_result"
    }
   ],
   "source": [
    "data.head()"
   ]
  },
  {
   "cell_type": "code",
   "execution_count": 176,
   "metadata": {},
   "outputs": [
    {
     "data": {
      "text/html": [
       "<div>\n",
       "<style scoped>\n",
       "    .dataframe tbody tr th:only-of-type {\n",
       "        vertical-align: middle;\n",
       "    }\n",
       "\n",
       "    .dataframe tbody tr th {\n",
       "        vertical-align: top;\n",
       "    }\n",
       "\n",
       "    .dataframe thead th {\n",
       "        text-align: right;\n",
       "    }\n",
       "</style>\n",
       "<table border=\"1\" class=\"dataframe\">\n",
       "  <thead>\n",
       "    <tr style=\"text-align: right;\">\n",
       "      <th></th>\n",
       "      <th>A1BG</th>\n",
       "      <th>A1CF</th>\n",
       "      <th>A2M</th>\n",
       "      <th>A2ML1</th>\n",
       "      <th>A3GALT2</th>\n",
       "      <th>A4GALT</th>\n",
       "      <th>A4GNT</th>\n",
       "      <th>AAAS</th>\n",
       "      <th>AACS</th>\n",
       "      <th>AADAC</th>\n",
       "      <th>...</th>\n",
       "      <th>ZWILCH</th>\n",
       "      <th>ZWINT</th>\n",
       "      <th>ZXDA</th>\n",
       "      <th>ZXDB</th>\n",
       "      <th>ZXDC</th>\n",
       "      <th>ZYG11A</th>\n",
       "      <th>ZYG11B</th>\n",
       "      <th>ZYX</th>\n",
       "      <th>ZZEF1</th>\n",
       "      <th>ZZZ3</th>\n",
       "    </tr>\n",
       "  </thead>\n",
       "  <tbody>\n",
       "    <tr>\n",
       "      <th>HEL</th>\n",
       "      <td>0.178087</td>\n",
       "      <td>0.088290</td>\n",
       "      <td>-0.201464</td>\n",
       "      <td>-0.017011</td>\n",
       "      <td>0.042590</td>\n",
       "      <td>-0.192257</td>\n",
       "      <td>0.352891</td>\n",
       "      <td>-0.445209</td>\n",
       "      <td>0.292603</td>\n",
       "      <td>0.165168</td>\n",
       "      <td>...</td>\n",
       "      <td>-0.122795</td>\n",
       "      <td>-0.464567</td>\n",
       "      <td>NaN</td>\n",
       "      <td>NaN</td>\n",
       "      <td>0.258084</td>\n",
       "      <td>0.237593</td>\n",
       "      <td>-0.408563</td>\n",
       "      <td>0.291832</td>\n",
       "      <td>0.218575</td>\n",
       "      <td>-0.139759</td>\n",
       "    </tr>\n",
       "    <tr>\n",
       "      <th>HEL9217</th>\n",
       "      <td>-0.082364</td>\n",
       "      <td>0.239413</td>\n",
       "      <td>0.195457</td>\n",
       "      <td>0.163763</td>\n",
       "      <td>-0.188161</td>\n",
       "      <td>-0.338735</td>\n",
       "      <td>0.254489</td>\n",
       "      <td>-0.583878</td>\n",
       "      <td>-0.060615</td>\n",
       "      <td>0.015272</td>\n",
       "      <td>...</td>\n",
       "      <td>-0.195061</td>\n",
       "      <td>-0.408063</td>\n",
       "      <td>-0.155155</td>\n",
       "      <td>-0.067415</td>\n",
       "      <td>0.229242</td>\n",
       "      <td>-0.075883</td>\n",
       "      <td>-0.104001</td>\n",
       "      <td>0.075901</td>\n",
       "      <td>0.036985</td>\n",
       "      <td>-0.243303</td>\n",
       "    </tr>\n",
       "    <tr>\n",
       "      <th>LS513</th>\n",
       "      <td>0.070026</td>\n",
       "      <td>0.075066</td>\n",
       "      <td>-0.064637</td>\n",
       "      <td>0.156905</td>\n",
       "      <td>0.099075</td>\n",
       "      <td>0.141985</td>\n",
       "      <td>0.066314</td>\n",
       "      <td>-0.477023</td>\n",
       "      <td>-0.006855</td>\n",
       "      <td>0.291604</td>\n",
       "      <td>...</td>\n",
       "      <td>-0.093252</td>\n",
       "      <td>-0.276874</td>\n",
       "      <td>-0.049716</td>\n",
       "      <td>0.116683</td>\n",
       "      <td>0.211699</td>\n",
       "      <td>-0.012654</td>\n",
       "      <td>-0.351716</td>\n",
       "      <td>0.089140</td>\n",
       "      <td>-0.392549</td>\n",
       "      <td>-0.442624</td>\n",
       "    </tr>\n",
       "    <tr>\n",
       "      <th>C2BBE1</th>\n",
       "      <td>0.107048</td>\n",
       "      <td>-0.006352</td>\n",
       "      <td>-0.053166</td>\n",
       "      <td>0.053055</td>\n",
       "      <td>0.081620</td>\n",
       "      <td>-0.038305</td>\n",
       "      <td>0.082421</td>\n",
       "      <td>-0.642935</td>\n",
       "      <td>0.159178</td>\n",
       "      <td>0.064128</td>\n",
       "      <td>...</td>\n",
       "      <td>-0.280677</td>\n",
       "      <td>-0.230111</td>\n",
       "      <td>-0.106000</td>\n",
       "      <td>0.041611</td>\n",
       "      <td>0.083021</td>\n",
       "      <td>0.022771</td>\n",
       "      <td>-0.596777</td>\n",
       "      <td>0.197627</td>\n",
       "      <td>-0.106398</td>\n",
       "      <td>-0.549259</td>\n",
       "    </tr>\n",
       "    <tr>\n",
       "      <th>253J</th>\n",
       "      <td>0.280508</td>\n",
       "      <td>0.079860</td>\n",
       "      <td>0.016981</td>\n",
       "      <td>0.439139</td>\n",
       "      <td>-0.042239</td>\n",
       "      <td>-0.242560</td>\n",
       "      <td>0.103028</td>\n",
       "      <td>-0.419159</td>\n",
       "      <td>0.141445</td>\n",
       "      <td>0.115857</td>\n",
       "      <td>...</td>\n",
       "      <td>-0.410500</td>\n",
       "      <td>-0.507467</td>\n",
       "      <td>-0.138665</td>\n",
       "      <td>-0.119292</td>\n",
       "      <td>0.284407</td>\n",
       "      <td>0.158124</td>\n",
       "      <td>-0.240429</td>\n",
       "      <td>0.124847</td>\n",
       "      <td>-0.250949</td>\n",
       "      <td>-0.379117</td>\n",
       "    </tr>\n",
       "  </tbody>\n",
       "</table>\n",
       "<p>5 rows × 18119 columns</p>\n",
       "</div>"
      ],
      "text/plain": [
       "             A1BG      A1CF       A2M     A2ML1   A3GALT2    A4GALT     A4GNT  \\\n",
       "HEL      0.178087  0.088290 -0.201464 -0.017011  0.042590 -0.192257  0.352891   \n",
       "HEL9217 -0.082364  0.239413  0.195457  0.163763 -0.188161 -0.338735  0.254489   \n",
       "LS513    0.070026  0.075066 -0.064637  0.156905  0.099075  0.141985  0.066314   \n",
       "C2BBE1   0.107048 -0.006352 -0.053166  0.053055  0.081620 -0.038305  0.082421   \n",
       "253J     0.280508  0.079860  0.016981  0.439139 -0.042239 -0.242560  0.103028   \n",
       "\n",
       "             AAAS      AACS     AADAC  ...    ZWILCH     ZWINT      ZXDA  \\\n",
       "HEL     -0.445209  0.292603  0.165168  ... -0.122795 -0.464567       NaN   \n",
       "HEL9217 -0.583878 -0.060615  0.015272  ... -0.195061 -0.408063 -0.155155   \n",
       "LS513   -0.477023 -0.006855  0.291604  ... -0.093252 -0.276874 -0.049716   \n",
       "C2BBE1  -0.642935  0.159178  0.064128  ... -0.280677 -0.230111 -0.106000   \n",
       "253J    -0.419159  0.141445  0.115857  ... -0.410500 -0.507467 -0.138665   \n",
       "\n",
       "             ZXDB      ZXDC    ZYG11A    ZYG11B       ZYX     ZZEF1      ZZZ3  \n",
       "HEL           NaN  0.258084  0.237593 -0.408563  0.291832  0.218575 -0.139759  \n",
       "HEL9217 -0.067415  0.229242 -0.075883 -0.104001  0.075901  0.036985 -0.243303  \n",
       "LS513    0.116683  0.211699 -0.012654 -0.351716  0.089140 -0.392549 -0.442624  \n",
       "C2BBE1   0.041611  0.083021  0.022771 -0.596777  0.197627 -0.106398 -0.549259  \n",
       "253J    -0.119292  0.284407  0.158124 -0.240429  0.124847 -0.250949 -0.379117  \n",
       "\n",
       "[5 rows x 18119 columns]"
      ]
     },
     "execution_count": 176,
     "metadata": {},
     "output_type": "execute_result"
    }
   ],
   "source": [
    "effect.head()"
   ]
  },
  {
   "cell_type": "code",
   "execution_count": 181,
   "metadata": {},
   "outputs": [
    {
     "ename": "AttributeError",
     "evalue": "can't set attribute",
     "output_type": "error",
     "traceback": [
      "\u001b[0;31m---------------------------------------------------------------------------\u001b[0m",
      "\u001b[0;31mAttributeError\u001b[0m                            Traceback (most recent call last)",
      "\u001b[0;32m<ipython-input-181-2b272c5d1f50>\u001b[0m in \u001b[0;36m<module>\u001b[0;34m\u001b[0m\n\u001b[0;32m----> 1\u001b[0;31m \u001b[0meffect\u001b[0m\u001b[0;34m.\u001b[0m\u001b[0mindex\u001b[0m\u001b[0;34m.\u001b[0m\u001b[0mvalues\u001b[0m \u001b[0;34m=\u001b[0m \u001b[0mCLines\u001b[0m\u001b[0;34m\u001b[0m\u001b[0;34m\u001b[0m\u001b[0m\n\u001b[0m",
      "\u001b[0;31mAttributeError\u001b[0m: can't set attribute"
     ]
    }
   ],
   "source": [
    "effect.index.values = CLines"
   ]
  },
  {
   "cell_type": "code",
   "execution_count": 177,
   "metadata": {},
   "outputs": [],
   "source": [
    "data = pd.read_csv(\"/home/annerer/Dokumente/DepMap_Mining/sample_info.csv\")\n",
    "data = pretty_gene_names(data)\n",
    "CLines = list(set.intersection(set(data.CCLE_Name.values),set(effect.index.values)))"
   ]
  },
  {
   "cell_type": "code",
   "execution_count": null,
   "metadata": {},
   "outputs": [],
   "source": []
  },
  {
   "cell_type": "code",
   "execution_count": null,
   "metadata": {},
   "outputs": [],
   "source": []
  },
  {
   "cell_type": "code",
   "execution_count": null,
   "metadata": {},
   "outputs": [],
   "source": []
  }
 ],
 "metadata": {
  "kernelspec": {
   "display_name": "Python 3",
   "language": "python",
   "name": "python3"
  },
  "language_info": {
   "codemirror_mode": {
    "name": "ipython",
    "version": 3
   },
   "file_extension": ".py",
   "mimetype": "text/x-python",
   "name": "python",
   "nbconvert_exporter": "python",
   "pygments_lexer": "ipython3",
   "version": "3.8.3"
  }
 },
 "nbformat": 4,
 "nbformat_minor": 4
}
