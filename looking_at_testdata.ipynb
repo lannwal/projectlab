{
 "cells": [
  {
   "cell_type": "code",
   "execution_count": 2,
   "metadata": {},
   "outputs": [
    {
     "data": {
      "text/plain": [
       "array([[<matplotlib.axes._subplots.AxesSubplot object at 0x7f661693eb00>,\n",
       "        <matplotlib.axes._subplots.AxesSubplot object at 0x7f6616966048>],\n",
       "       [<matplotlib.axes._subplots.AxesSubplot object at 0x7f66168fe5c0>,\n",
       "        <matplotlib.axes._subplots.AxesSubplot object at 0x7f6616915b38>],\n",
       "       [<matplotlib.axes._subplots.AxesSubplot object at 0x7f66168b40f0>,\n",
       "        <matplotlib.axes._subplots.AxesSubplot object at 0x7f66168cb668>]],\n",
       "      dtype=object)"
      ]
     },
     "execution_count": 2,
     "metadata": {},
     "output_type": "execute_result"
    }
   ],
   "source": [
    "import pandas as pd\n",
    "import matplotlib.pyplot as plt\n",
    "\n",
    "\n",
    "data = pd.read_csv('test.csv')\n",
    "\n",
    "data = data.drop(data.columns[0],axis=1)\n",
    "plt.pcolor(data)\n",
    "\n",
    "data.hist()"
   ]
  },
  {
   "cell_type": "code",
   "execution_count": null,
   "metadata": {},
   "outputs": [],
   "source": []
  },
  {
   "cell_type": "markdown",
   "metadata": {},
   "source": [
    "$ \\rho(a,b) = \\frac{a*b}{\\Sigma{a_i + b_i}} $"
   ]
  },
  {
   "cell_type": "code",
   "execution_count": 7,
   "metadata": {},
   "outputs": [
    {
     "data": {
      "text/plain": [
       "array([[<matplotlib.axes._subplots.AxesSubplot object at 0x7f66162924a8>,\n",
       "        <matplotlib.axes._subplots.AxesSubplot object at 0x7f6616260cf8>],\n",
       "       [<matplotlib.axes._subplots.AxesSubplot object at 0x7f66161fe2b0>,\n",
       "        <matplotlib.axes._subplots.AxesSubplot object at 0x7f6616215828>],\n",
       "       [<matplotlib.axes._subplots.AxesSubplot object at 0x7f661622cda0>,\n",
       "        <matplotlib.axes._subplots.AxesSubplot object at 0x7f66161cb358>]],\n",
       "      dtype=object)"
      ]
     },
     "execution_count": 7,
     "metadata": {},
     "output_type": "execute_result"
    },
    {
     "data": {
      "image/png": "[encoded data removed]",
      "text/plain": [
       "<Figure size 432x288 with 6 Axes>"
      ]
     },
     "metadata": {
      "needs_background": "light"
     },
     "output_type": "display_data"
    }
   ],
   "source": [
    "data.hist(bins=6)"
   ]
  },
  {
   "cell_type": "code",
   "execution_count": 200,
   "metadata": {},
   "outputs": [
    {
     "data": {
      "text/html": [
       "<div>\n",
       "<style scoped>\n",
       "    .dataframe tbody tr th:only-of-type {\n",
       "        vertical-align: middle;\n",
       "    }\n",
       "\n",
       "    .dataframe tbody tr th {\n",
       "        vertical-align: top;\n",
       "    }\n",
       "\n",
       "    .dataframe thead th {\n",
       "        text-align: right;\n",
       "    }\n",
       "</style>\n",
       "<table border=\"1\" class=\"dataframe\">\n",
       "  <thead>\n",
       "    <tr style=\"text-align: right;\">\n",
       "      <th></th>\n",
       "      <th>CFPAC1_PANCREAS</th>\n",
       "      <th>DANG_PANCREAS</th>\n",
       "      <th>KP2_PANCREAS</th>\n",
       "      <th>KP3_PANCREAS</th>\n",
       "      <th>KP4_PANCREAS</th>\n",
       "      <th>MIAPACA2_PANCREAS</th>\n",
       "      <th>PANC0203_PANCREAS</th>\n",
       "      <th>PANC0403_PANCREAS</th>\n",
       "      <th>SNU213_PANCREAS</th>\n",
       "      <th>TCCPAN2_PANCREAS</th>\n",
       "      <th>YAPC_PANCREAS</th>\n",
       "      <th>PK45H_PANCREAS</th>\n",
       "      <th>SNU410_PANCREAS</th>\n",
       "      <th>HS766T_PANCREAS</th>\n",
       "      <th>PANC1005_PANCREAS</th>\n",
       "      <th>PATU8988S_PANCREAS</th>\n",
       "      <th>PK1_PANCREAS</th>\n",
       "      <th>SUIT2_PANCREAS</th>\n",
       "    </tr>\n",
       "  </thead>\n",
       "  <tbody>\n",
       "    <tr>\n",
       "      <th>290</th>\n",
       "      <td>-16.346</td>\n",
       "      <td>-21.669</td>\n",
       "      <td>-24.485</td>\n",
       "      <td>-23.402</td>\n",
       "      <td>-13.714</td>\n",
       "      <td>-17.858</td>\n",
       "      <td>-14.721</td>\n",
       "      <td>-24.308</td>\n",
       "      <td>-25.508</td>\n",
       "      <td>-26.502</td>\n",
       "      <td>-11.043</td>\n",
       "      <td>-27.837</td>\n",
       "      <td>-16.626</td>\n",
       "      <td>-10.083</td>\n",
       "      <td>-5.083</td>\n",
       "      <td>-17.945</td>\n",
       "      <td>-15.433</td>\n",
       "      <td>-14.746</td>\n",
       "    </tr>\n",
       "    <tr>\n",
       "      <th>291</th>\n",
       "      <td>-26.901</td>\n",
       "      <td>-25.847</td>\n",
       "      <td>-25.939</td>\n",
       "      <td>-25.835</td>\n",
       "      <td>-22.669</td>\n",
       "      <td>-31.867</td>\n",
       "      <td>-28.438</td>\n",
       "      <td>-24.264</td>\n",
       "      <td>-26.913</td>\n",
       "      <td>-27.292</td>\n",
       "      <td>-21.835</td>\n",
       "      <td>-29.827</td>\n",
       "      <td>-21.223</td>\n",
       "      <td>-24.563</td>\n",
       "      <td>-23.389</td>\n",
       "      <td>-18.718</td>\n",
       "      <td>-23.467</td>\n",
       "      <td>-24.137</td>\n",
       "    </tr>\n",
       "    <tr>\n",
       "      <th>292</th>\n",
       "      <td>-23.720</td>\n",
       "      <td>-26.150</td>\n",
       "      <td>-23.098</td>\n",
       "      <td>-26.726</td>\n",
       "      <td>-24.636</td>\n",
       "      <td>-28.231</td>\n",
       "      <td>-29.139</td>\n",
       "      <td>-32.294</td>\n",
       "      <td>-26.829</td>\n",
       "      <td>-28.517</td>\n",
       "      <td>-22.964</td>\n",
       "      <td>-20.782</td>\n",
       "      <td>-27.964</td>\n",
       "      <td>-20.473</td>\n",
       "      <td>-19.902</td>\n",
       "      <td>-28.279</td>\n",
       "      <td>-26.821</td>\n",
       "      <td>-22.946</td>\n",
       "    </tr>\n",
       "    <tr>\n",
       "      <th>293</th>\n",
       "      <td>-17.087</td>\n",
       "      <td>1.848</td>\n",
       "      <td>-13.641</td>\n",
       "      <td>-1.664</td>\n",
       "      <td>-8.473</td>\n",
       "      <td>-10.357</td>\n",
       "      <td>-7.673</td>\n",
       "      <td>-13.003</td>\n",
       "      <td>-20.326</td>\n",
       "      <td>-20.305</td>\n",
       "      <td>-10.466</td>\n",
       "      <td>-27.783</td>\n",
       "      <td>-12.941</td>\n",
       "      <td>-18.763</td>\n",
       "      <td>-2.895</td>\n",
       "      <td>-9.201</td>\n",
       "      <td>-7.611</td>\n",
       "      <td>-27.490</td>\n",
       "    </tr>\n",
       "    <tr>\n",
       "      <th>294</th>\n",
       "      <td>-18.987</td>\n",
       "      <td>-16.742</td>\n",
       "      <td>-11.721</td>\n",
       "      <td>-12.221</td>\n",
       "      <td>-18.983</td>\n",
       "      <td>-17.191</td>\n",
       "      <td>-11.819</td>\n",
       "      <td>-13.267</td>\n",
       "      <td>-14.006</td>\n",
       "      <td>-18.748</td>\n",
       "      <td>-18.818</td>\n",
       "      <td>-23.403</td>\n",
       "      <td>-27.292</td>\n",
       "      <td>-22.212</td>\n",
       "      <td>-13.225</td>\n",
       "      <td>-21.646</td>\n",
       "      <td>-9.514</td>\n",
       "      <td>-19.971</td>\n",
       "    </tr>\n",
       "    <tr>\n",
       "      <th>295</th>\n",
       "      <td>-18.139</td>\n",
       "      <td>-24.845</td>\n",
       "      <td>-22.367</td>\n",
       "      <td>-26.855</td>\n",
       "      <td>-25.468</td>\n",
       "      <td>-29.090</td>\n",
       "      <td>-26.736</td>\n",
       "      <td>-23.904</td>\n",
       "      <td>-27.746</td>\n",
       "      <td>-17.937</td>\n",
       "      <td>-27.073</td>\n",
       "      <td>-27.258</td>\n",
       "      <td>-22.683</td>\n",
       "      <td>-24.841</td>\n",
       "      <td>-15.532</td>\n",
       "      <td>-35.107</td>\n",
       "      <td>-24.507</td>\n",
       "      <td>-25.981</td>\n",
       "    </tr>\n",
       "    <tr>\n",
       "      <th>296</th>\n",
       "      <td>-20.666</td>\n",
       "      <td>-23.368</td>\n",
       "      <td>-30.962</td>\n",
       "      <td>-29.313</td>\n",
       "      <td>-18.699</td>\n",
       "      <td>-22.108</td>\n",
       "      <td>-26.322</td>\n",
       "      <td>-27.576</td>\n",
       "      <td>-29.783</td>\n",
       "      <td>-31.923</td>\n",
       "      <td>-23.537</td>\n",
       "      <td>-20.892</td>\n",
       "      <td>-35.449</td>\n",
       "      <td>-27.434</td>\n",
       "      <td>-33.955</td>\n",
       "      <td>-21.607</td>\n",
       "      <td>-26.286</td>\n",
       "      <td>-21.755</td>\n",
       "    </tr>\n",
       "    <tr>\n",
       "      <th>297</th>\n",
       "      <td>-23.844</td>\n",
       "      <td>-20.250</td>\n",
       "      <td>-20.226</td>\n",
       "      <td>-24.410</td>\n",
       "      <td>-26.542</td>\n",
       "      <td>-28.283</td>\n",
       "      <td>-24.673</td>\n",
       "      <td>-24.070</td>\n",
       "      <td>-23.837</td>\n",
       "      <td>-12.964</td>\n",
       "      <td>-24.310</td>\n",
       "      <td>-19.069</td>\n",
       "      <td>-20.976</td>\n",
       "      <td>-13.500</td>\n",
       "      <td>-23.065</td>\n",
       "      <td>-28.000</td>\n",
       "      <td>-40.316</td>\n",
       "      <td>-24.269</td>\n",
       "    </tr>\n",
       "    <tr>\n",
       "      <th>298</th>\n",
       "      <td>-18.574</td>\n",
       "      <td>-25.044</td>\n",
       "      <td>-22.096</td>\n",
       "      <td>-23.095</td>\n",
       "      <td>-21.689</td>\n",
       "      <td>-22.334</td>\n",
       "      <td>2.720</td>\n",
       "      <td>-20.495</td>\n",
       "      <td>-23.724</td>\n",
       "      <td>-22.753</td>\n",
       "      <td>-19.483</td>\n",
       "      <td>-4.384</td>\n",
       "      <td>-20.125</td>\n",
       "      <td>-9.170</td>\n",
       "      <td>-14.683</td>\n",
       "      <td>-12.591</td>\n",
       "      <td>-20.612</td>\n",
       "      <td>-20.885</td>\n",
       "    </tr>\n",
       "    <tr>\n",
       "      <th>299</th>\n",
       "      <td>-20.543</td>\n",
       "      <td>-12.853</td>\n",
       "      <td>-24.555</td>\n",
       "      <td>-16.597</td>\n",
       "      <td>-21.457</td>\n",
       "      <td>-20.931</td>\n",
       "      <td>-23.538</td>\n",
       "      <td>-23.777</td>\n",
       "      <td>-24.702</td>\n",
       "      <td>-16.571</td>\n",
       "      <td>-21.588</td>\n",
       "      <td>-32.340</td>\n",
       "      <td>-30.118</td>\n",
       "      <td>-37.972</td>\n",
       "      <td>-28.560</td>\n",
       "      <td>-18.196</td>\n",
       "      <td>-34.213</td>\n",
       "      <td>-19.951</td>\n",
       "    </tr>\n",
       "    <tr>\n",
       "      <th>300</th>\n",
       "      <td>-20.302</td>\n",
       "      <td>-25.743</td>\n",
       "      <td>-19.894</td>\n",
       "      <td>-25.860</td>\n",
       "      <td>-20.786</td>\n",
       "      <td>-21.596</td>\n",
       "      <td>-21.671</td>\n",
       "      <td>-18.491</td>\n",
       "      <td>-25.202</td>\n",
       "      <td>-23.697</td>\n",
       "      <td>-21.012</td>\n",
       "      <td>-26.125</td>\n",
       "      <td>-29.684</td>\n",
       "      <td>-25.994</td>\n",
       "      <td>-23.239</td>\n",
       "      <td>-17.701</td>\n",
       "      <td>-33.455</td>\n",
       "      <td>-23.752</td>\n",
       "    </tr>\n",
       "    <tr>\n",
       "      <th>301</th>\n",
       "      <td>-26.918</td>\n",
       "      <td>-28.401</td>\n",
       "      <td>-26.035</td>\n",
       "      <td>-24.750</td>\n",
       "      <td>-33.414</td>\n",
       "      <td>-30.396</td>\n",
       "      <td>-26.619</td>\n",
       "      <td>-30.604</td>\n",
       "      <td>-27.828</td>\n",
       "      <td>-27.535</td>\n",
       "      <td>-31.442</td>\n",
       "      <td>-25.999</td>\n",
       "      <td>-27.418</td>\n",
       "      <td>-24.087</td>\n",
       "      <td>-24.602</td>\n",
       "      <td>-33.286</td>\n",
       "      <td>-26.970</td>\n",
       "      <td>-21.872</td>\n",
       "    </tr>\n",
       "    <tr>\n",
       "      <th>302</th>\n",
       "      <td>-20.340</td>\n",
       "      <td>-25.751</td>\n",
       "      <td>22.219</td>\n",
       "      <td>-4.139</td>\n",
       "      <td>-21.809</td>\n",
       "      <td>-25.459</td>\n",
       "      <td>-13.104</td>\n",
       "      <td>-18.686</td>\n",
       "      <td>-13.541</td>\n",
       "      <td>-26.026</td>\n",
       "      <td>-21.555</td>\n",
       "      <td>-9.787</td>\n",
       "      <td>-19.095</td>\n",
       "      <td>-11.017</td>\n",
       "      <td>-10.011</td>\n",
       "      <td>-18.877</td>\n",
       "      <td>-11.774</td>\n",
       "      <td>-16.614</td>\n",
       "    </tr>\n",
       "    <tr>\n",
       "      <th>303</th>\n",
       "      <td>-21.033</td>\n",
       "      <td>-20.738</td>\n",
       "      <td>-20.720</td>\n",
       "      <td>-21.269</td>\n",
       "      <td>-20.889</td>\n",
       "      <td>-21.124</td>\n",
       "      <td>-17.235</td>\n",
       "      <td>-25.511</td>\n",
       "      <td>-23.916</td>\n",
       "      <td>-25.588</td>\n",
       "      <td>-16.781</td>\n",
       "      <td>-26.172</td>\n",
       "      <td>-23.652</td>\n",
       "      <td>-17.569</td>\n",
       "      <td>-23.859</td>\n",
       "      <td>-19.098</td>\n",
       "      <td>-26.204</td>\n",
       "      <td>-29.263</td>\n",
       "    </tr>\n",
       "  </tbody>\n",
       "</table>\n",
       "</div>"
      ],
      "text/plain": [
       "     CFPAC1_PANCREAS  DANG_PANCREAS  KP2_PANCREAS  KP3_PANCREAS  KP4_PANCREAS  \\\n",
       "290          -16.346        -21.669       -24.485       -23.402       -13.714   \n",
       "291          -26.901        -25.847       -25.939       -25.835       -22.669   \n",
       "292          -23.720        -26.150       -23.098       -26.726       -24.636   \n",
       "293          -17.087          1.848       -13.641        -1.664        -8.473   \n",
       "294          -18.987        -16.742       -11.721       -12.221       -18.983   \n",
       "295          -18.139        -24.845       -22.367       -26.855       -25.468   \n",
       "296          -20.666        -23.368       -30.962       -29.313       -18.699   \n",
       "297          -23.844        -20.250       -20.226       -24.410       -26.542   \n",
       "298          -18.574        -25.044       -22.096       -23.095       -21.689   \n",
       "299          -20.543        -12.853       -24.555       -16.597       -21.457   \n",
       "300          -20.302        -25.743       -19.894       -25.860       -20.786   \n",
       "301          -26.918        -28.401       -26.035       -24.750       -33.414   \n",
       "302          -20.340        -25.751        22.219        -4.139       -21.809   \n",
       "303          -21.033        -20.738       -20.720       -21.269       -20.889   \n",
       "\n",
       "     MIAPACA2_PANCREAS  PANC0203_PANCREAS  PANC0403_PANCREAS  SNU213_PANCREAS  \\\n",
       "290            -17.858            -14.721            -24.308          -25.508   \n",
       "291            -31.867            -28.438            -24.264          -26.913   \n",
       "292            -28.231            -29.139            -32.294          -26.829   \n",
       "293            -10.357             -7.673            -13.003          -20.326   \n",
       "294            -17.191            -11.819            -13.267          -14.006   \n",
       "295            -29.090            -26.736            -23.904          -27.746   \n",
       "296            -22.108            -26.322            -27.576          -29.783   \n",
       "297            -28.283            -24.673            -24.070          -23.837   \n",
       "298            -22.334              2.720            -20.495          -23.724   \n",
       "299            -20.931            -23.538            -23.777          -24.702   \n",
       "300            -21.596            -21.671            -18.491          -25.202   \n",
       "301            -30.396            -26.619            -30.604          -27.828   \n",
       "302            -25.459            -13.104            -18.686          -13.541   \n",
       "303            -21.124            -17.235            -25.511          -23.916   \n",
       "\n",
       "     TCCPAN2_PANCREAS  YAPC_PANCREAS  PK45H_PANCREAS  SNU410_PANCREAS  \\\n",
       "290           -26.502        -11.043         -27.837          -16.626   \n",
       "291           -27.292        -21.835         -29.827          -21.223   \n",
       "292           -28.517        -22.964         -20.782          -27.964   \n",
       "293           -20.305        -10.466         -27.783          -12.941   \n",
       "294           -18.748        -18.818         -23.403          -27.292   \n",
       "295           -17.937        -27.073         -27.258          -22.683   \n",
       "296           -31.923        -23.537         -20.892          -35.449   \n",
       "297           -12.964        -24.310         -19.069          -20.976   \n",
       "298           -22.753        -19.483          -4.384          -20.125   \n",
       "299           -16.571        -21.588         -32.340          -30.118   \n",
       "300           -23.697        -21.012         -26.125          -29.684   \n",
       "301           -27.535        -31.442         -25.999          -27.418   \n",
       "302           -26.026        -21.555          -9.787          -19.095   \n",
       "303           -25.588        -16.781         -26.172          -23.652   \n",
       "\n",
       "     HS766T_PANCREAS  PANC1005_PANCREAS  PATU8988S_PANCREAS  PK1_PANCREAS  \\\n",
       "290          -10.083             -5.083             -17.945       -15.433   \n",
       "291          -24.563            -23.389             -18.718       -23.467   \n",
       "292          -20.473            -19.902             -28.279       -26.821   \n",
       "293          -18.763             -2.895              -9.201        -7.611   \n",
       "294          -22.212            -13.225             -21.646        -9.514   \n",
       "295          -24.841            -15.532             -35.107       -24.507   \n",
       "296          -27.434            -33.955             -21.607       -26.286   \n",
       "297          -13.500            -23.065             -28.000       -40.316   \n",
       "298           -9.170            -14.683             -12.591       -20.612   \n",
       "299          -37.972            -28.560             -18.196       -34.213   \n",
       "300          -25.994            -23.239             -17.701       -33.455   \n",
       "301          -24.087            -24.602             -33.286       -26.970   \n",
       "302          -11.017            -10.011             -18.877       -11.774   \n",
       "303          -17.569            -23.859             -19.098       -26.204   \n",
       "\n",
       "     SUIT2_PANCREAS  \n",
       "290         -14.746  \n",
       "291         -24.137  \n",
       "292         -22.946  \n",
       "293         -27.490  \n",
       "294         -19.971  \n",
       "295         -25.981  \n",
       "296         -21.755  \n",
       "297         -24.269  \n",
       "298         -20.885  \n",
       "299         -19.951  \n",
       "300         -23.752  \n",
       "301         -21.872  \n",
       "302         -16.614  \n",
       "303         -29.263  "
      ]
     },
     "execution_count": 200,
     "metadata": {},
     "output_type": "execute_result"
    }
   ],
   "source": [
    "\n",
    "\n",
    "data = pd.read_csv('LSA-2018-00278_TableS4.txt',sep =\"\\t\")\n"
   ]
  },
  {
   "cell_type": "code",
   "execution_count": 207,
   "metadata": {},
   "outputs": [
    {
     "data": {
      "image/png": "[encoded data removed]",
      "text/plain": [
       "<Figure size 432x288 with 2 Axes>"
      ]
     },
     "metadata": {
      "needs_background": "light"
     },
     "output_type": "display_data"
    }
   ],
   "source": [
    "pancreas = data.filter(like=\"PANCREAS\",axis=1)[290:304]\n",
    "\n",
    "pancreas = pancreas.clip(-10,30)\n",
    "pancreas_plot = sns.heatmap(pancreas,yticklabels=data['GENE'][290:304],cmap=\"Blues\")\n",
    "\n",
    "\n",
    "figure = pancreas_plot.get_figure()    \n",
    "figure.savefig('pancreas_plot.png', dpi=800)"
   ]
  },
  {
   "cell_type": "markdown",
   "metadata": {},
   "source": [
    "how would you do model comparision here? in principle you could use other knockout datasets, with shRNA and RNAi, especially for the same cell lines. \n",
    "\n",
    "What would you like to draw from the network and what would be a \n",
    "sensible model? these are net count data after all, but highly processed essentiality data."
   ]
  },
  {
   "cell_type": "code",
   "execution_count": null,
   "metadata": {},
   "outputs": [],
   "source": []
  },
  {
   "cell_type": "code",
   "execution_count": 119,
   "metadata": {},
   "outputs": [],
   "source": [
    "#data.columns[100:200]"
   ]
  },
  {
   "cell_type": "code",
   "execution_count": 131,
   "metadata": {},
   "outputs": [],
   "source": [
    "#data.filter(like='PEX', axis=0)"
   ]
  },
  {
   "cell_type": "code",
   "execution_count": 110,
   "metadata": {},
   "outputs": [],
   "source": [
    "#data[[\"PANC0813\",\"PATU8902\",\"SU8686\",\"BXPC3\",\"PANC0327\",\"PANC1\"]][10792:10800]"
   ]
  },
  {
   "cell_type": "code",
   "execution_count": 202,
   "metadata": {},
   "outputs": [],
   "source": [
    "#subset3 = data[\"GENE\"][200:305]\n",
    "#subset3"
   ]
  },
  {
   "cell_type": "code",
   "execution_count": null,
   "metadata": {},
   "outputs": [],
   "source": [
    "'PANC1005_PANCREAS', 'PATU8988S_PANCREAS',\n",
    "       'PF382_HAEMATOPOIETIC_AND_LYMPHOID_TISSUE', 'PK1_PANCREAS',\n",
    "       'PLCPRF5_LIVER', 'RD_SOFT_TISSUE',"
   ]
  },
  {
   "cell_type": "code",
   "execution_count": 173,
   "metadata": {},
   "outputs": [],
   "source": [
    "subset = data[['PANC1005_PANCREAS', 'PATU8988S_PANCREAS',\n",
    "       'PF382_HAEMATOPOIETIC_AND_LYMPHOID_TISSUE', 'PK1_PANCREAS',\n",
    "       'PLCPRF5_LIVER', 'RD_SOFT_TISSUE','MDAMB231_BREAST', 'MDAMB415_BREAST', 'MDAMB436_BREAST',\n",
    "       'MDAMB453_BREAST']][10790:10800]"
   ]
  },
  {
   "cell_type": "code",
   "execution_count": 208,
   "metadata": {},
   "outputs": [
    {
     "data": {
      "text/plain": [
       "<matplotlib.axes._subplots.AxesSubplot at 0x7f65fb64c908>"
      ]
     },
     "execution_count": 208,
     "metadata": {},
     "output_type": "execute_result"
    },
    {
     "data": {
      "image/png": "[encoded data removed]",
      "text/plain": [
       "<Figure size 432x288 with 2 Axes>"
      ]
     },
     "metadata": {
      "needs_background": "light"
     },
     "output_type": "display_data"
    }
   ],
   "source": [
    "import seaborn as sns\n",
    "\n",
    "subset = subset.clip(-10,30)\n",
    "sns.heatmap(subset,yticklabels=data['GENE'][10790:10800],cmap=\"Blues\")\n"
   ]
  },
  {
   "cell_type": "code",
   "execution_count": 170,
   "metadata": {},
   "outputs": [
    {
     "data": {
      "text/html": [
       "<div>\n",
       "<style scoped>\n",
       "    .dataframe tbody tr th:only-of-type {\n",
       "        vertical-align: middle;\n",
       "    }\n",
       "\n",
       "    .dataframe tbody tr th {\n",
       "        vertical-align: top;\n",
       "    }\n",
       "\n",
       "    .dataframe thead th {\n",
       "        text-align: right;\n",
       "    }\n",
       "</style>\n",
       "<table border=\"1\" class=\"dataframe\">\n",
       "  <thead>\n",
       "    <tr style=\"text-align: right;\">\n",
       "      <th></th>\n",
       "      <th>NCIH747_LARGE_INTESTINE</th>\n",
       "    </tr>\n",
       "  </thead>\n",
       "  <tbody>\n",
       "    <tr>\n",
       "      <th>10792</th>\n",
       "      <td>8.819</td>\n",
       "    </tr>\n",
       "    <tr>\n",
       "      <th>10793</th>\n",
       "      <td>-21.639</td>\n",
       "    </tr>\n",
       "    <tr>\n",
       "      <th>10794</th>\n",
       "      <td>-21.046</td>\n",
       "    </tr>\n",
       "    <tr>\n",
       "      <th>10795</th>\n",
       "      <td>-11.361</td>\n",
       "    </tr>\n",
       "    <tr>\n",
       "      <th>10796</th>\n",
       "      <td>-13.819</td>\n",
       "    </tr>\n",
       "    <tr>\n",
       "      <th>10797</th>\n",
       "      <td>-13.394</td>\n",
       "    </tr>\n",
       "    <tr>\n",
       "      <th>10798</th>\n",
       "      <td>-13.604</td>\n",
       "    </tr>\n",
       "    <tr>\n",
       "      <th>10799</th>\n",
       "      <td>-15.234</td>\n",
       "    </tr>\n",
       "  </tbody>\n",
       "</table>\n",
       "</div>"
      ],
      "text/plain": [
       "       NCIH747_LARGE_INTESTINE\n",
       "10792                    8.819\n",
       "10793                  -21.639\n",
       "10794                  -21.046\n",
       "10795                  -11.361\n",
       "10796                  -13.819\n",
       "10797                  -13.394\n",
       "10798                  -13.604\n",
       "10799                  -15.234"
      ]
     },
     "execution_count": 170,
     "metadata": {},
     "output_type": "execute_result"
    }
   ],
   "source": [
    "subset = data[[ 'NCIH1581_LUNG',\n",
    "       'NCIH2170_LUNG', 'NCIH460_LUNG', 'NCIH747_LARGE_INTESTINE',]][10792:10800]\n",
    "\n",
    "subset.filter(like='LAR',axis=1)\n"
   ]
  },
  {
   "cell_type": "code",
   "execution_count": 209,
   "metadata": {},
   "outputs": [
    {
     "data": {
      "text/plain": [
       "<matplotlib.axes._subplots.AxesSubplot at 0x7f65fb5b8898>"
      ]
     },
     "execution_count": 209,
     "metadata": {},
     "output_type": "execute_result"
    },
    {
     "data": {
      "image/png": "[encoded data removed]",
      "text/plain": [
       "<Figure size 432x288 with 2 Axes>"
      ]
     },
     "metadata": {
      "needs_background": "light"
     },
     "output_type": "display_data"
    }
   ],
   "source": [
    "import seaborn as sns\n",
    "\n",
    "# sns.heatmap(df, xticklabels=xlabels, yticklabels=ylabels)\n",
    "subset = subset.clip(-5,50)\n",
    "sns.heatmap(subset,yticklabels=data['GENE'][10792:10800],cmap=\"Blues\")\n",
    "\n",
    "# df.filter(like='bbi', axis=0)\n",
    "\n",
    "#data['GENE'][10792:10800]"
   ]
  },
  {
   "cell_type": "code",
   "execution_count": null,
   "metadata": {},
   "outputs": [],
   "source": []
  },
  {
   "cell_type": "code",
   "execution_count": 210,
   "metadata": {},
   "outputs": [
    {
     "data": {
      "text/plain": [
       "<matplotlib.axes._subplots.AxesSubplot at 0x7f65fb59fe80>"
      ]
     },
     "execution_count": 210,
     "metadata": {},
     "output_type": "execute_result"
    },
    {
     "data": {
      "image/png": "[encoded data removed]",
      "text/plain": [
       "<Figure size 432x288 with 2 Axes>"
      ]
     },
     "metadata": {
      "needs_background": "light"
     },
     "output_type": "display_data"
    }
   ],
   "source": [
    "subset2 = data[[ 'NCIH1581_LUNG',\n",
    "       'NCIH2170_LUNG', 'NCIH460_LUNG', 'NCIH747_LARGE_INTESTINE',]][10782:10790]\n",
    "subset2 = subset2.clip(0,50)\n",
    "sns.heatmap(subset2,yticklabels=data['GENE'][10782:10790],cmap=\"Blues\")\n"
   ]
  },
  {
   "cell_type": "code",
   "execution_count": null,
   "metadata": {},
   "outputs": [],
   "source": []
  },
  {
   "cell_type": "code",
   "execution_count": 112,
   "metadata": {},
   "outputs": [
    {
     "data": {
      "text/plain": [
       "10792     PEX1\n",
       "10793     PEX2\n",
       "10794     PEX3\n",
       "10795     PEX5\n",
       "10796    PEX5L\n",
       "10797     PEX6\n",
       "10798     PEX7\n",
       "10799    PEX10\n",
       "Name: GENE, dtype: object"
      ]
     },
     "execution_count": 112,
     "metadata": {},
     "output_type": "execute_result"
    }
   ],
   "source": [
    "data['GENE'][10792:10800]"
   ]
  },
  {
   "cell_type": "code",
   "execution_count": null,
   "metadata": {},
   "outputs": [],
   "source": []
  }
 ],
 "metadata": {
  "kernelspec": {
   "display_name": "Python 3",
   "language": "python",
   "name": "python3"
  },
  "language_info": {
   "codemirror_mode": {
    "name": "ipython",
    "version": 3
   },
   "file_extension": ".py",
   "mimetype": "text/x-python",
   "name": "python",
   "nbconvert_exporter": "python",
   "pygments_lexer": "ipython3",
   "version": "3.5.2"
  }
 },
 "nbformat": 4,
 "nbformat_minor": 4
}
