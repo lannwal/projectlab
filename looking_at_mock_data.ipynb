{
 "cells": [
  {
   "cell_type": "code",
   "execution_count": 1,
   "metadata": {},
   "outputs": [],
   "source": [
    "import pandas as pd\n",
    "import matplotlib.pyplot as plt"
   ]
  },
  {
   "cell_type": "markdown",
   "metadata": {},
   "source": [
    "$ \\rho(a,b) = \\frac{a*b}{\\Sigma{a_i + b_i}} $"
   ]
  },
  {
   "cell_type": "code",
   "execution_count": 6,
   "metadata": {},
   "outputs": [],
   "source": [
    "#data.hist(bins=6)"
   ]
  },
  {
   "cell_type": "code",
   "execution_count": 40,
   "metadata": {
    "collapsed": true,
    "jupyter": {
     "outputs_hidden": true
    }
   },
   "outputs": [
    {
     "data": {
      "text/html": [
       "<div>\n",
       "<style scoped>\n",
       "    .dataframe tbody tr th:only-of-type {\n",
       "        vertical-align: middle;\n",
       "    }\n",
       "\n",
       "    .dataframe tbody tr th {\n",
       "        vertical-align: top;\n",
       "    }\n",
       "\n",
       "    .dataframe thead th {\n",
       "        text-align: right;\n",
       "    }\n",
       "</style>\n",
       "<table border=\"1\" class=\"dataframe\">\n",
       "  <thead>\n",
       "    <tr style=\"text-align: right;\">\n",
       "      <th></th>\n",
       "      <th>A549_LUNG</th>\n",
       "      <th>CFPAC1_PANCREAS</th>\n",
       "      <th>CHP212_AUTONOMIC_GANGLIA</th>\n",
       "      <th>DANG_PANCREAS</th>\n",
       "      <th>KELLY_AUTONOMIC_GANGLIA</th>\n",
       "      <th>KP2_PANCREAS</th>\n",
       "      <th>KP3_PANCREAS</th>\n",
       "      <th>KP4_PANCREAS</th>\n",
       "      <th>MIAPACA2_PANCREAS</th>\n",
       "      <th>NCIH1437_LUNG</th>\n",
       "      <th>...</th>\n",
       "      <th>U118MG_CENTRAL_NERVOUS_SYSTEM</th>\n",
       "      <th>U2OS_BONE</th>\n",
       "      <th>U343_CENTRAL_NERVOUS_SYSTEM</th>\n",
       "      <th>UACC62_SKIN</th>\n",
       "      <th>UMUC3_URINARY_TRACT</th>\n",
       "      <th>VMCUB1_URINARY_TRACT</th>\n",
       "      <th>WM1799_SKIN</th>\n",
       "      <th>WM2664_SKIN</th>\n",
       "      <th>WM983B_SKIN</th>\n",
       "      <th>YKG1_CENTRAL_NERVOUS_SYSTEM</th>\n",
       "    </tr>\n",
       "    <tr>\n",
       "      <th>GENE</th>\n",
       "      <th></th>\n",
       "      <th></th>\n",
       "      <th></th>\n",
       "      <th></th>\n",
       "      <th></th>\n",
       "      <th></th>\n",
       "      <th></th>\n",
       "      <th></th>\n",
       "      <th></th>\n",
       "      <th></th>\n",
       "      <th></th>\n",
       "      <th></th>\n",
       "      <th></th>\n",
       "      <th></th>\n",
       "      <th></th>\n",
       "      <th></th>\n",
       "      <th></th>\n",
       "      <th></th>\n",
       "      <th></th>\n",
       "      <th></th>\n",
       "      <th></th>\n",
       "    </tr>\n",
       "  </thead>\n",
       "  <tbody>\n",
       "    <tr>\n",
       "      <th>A1BG</th>\n",
       "      <td>-17.423</td>\n",
       "      <td>-20.647</td>\n",
       "      <td>-28.836</td>\n",
       "      <td>-31.016</td>\n",
       "      <td>-23.540</td>\n",
       "      <td>-25.811</td>\n",
       "      <td>-20.112</td>\n",
       "      <td>-26.493</td>\n",
       "      <td>-17.036</td>\n",
       "      <td>-32.133</td>\n",
       "      <td>...</td>\n",
       "      <td>-24.170</td>\n",
       "      <td>-21.383</td>\n",
       "      <td>-21.286</td>\n",
       "      <td>-30.931</td>\n",
       "      <td>-19.365</td>\n",
       "      <td>-19.633</td>\n",
       "      <td>-23.385</td>\n",
       "      <td>-27.848</td>\n",
       "      <td>-25.707</td>\n",
       "      <td>-27.240</td>\n",
       "    </tr>\n",
       "    <tr>\n",
       "      <th>A1CF</th>\n",
       "      <td>-26.567</td>\n",
       "      <td>-24.943</td>\n",
       "      <td>-20.669</td>\n",
       "      <td>-21.384</td>\n",
       "      <td>-27.974</td>\n",
       "      <td>-26.414</td>\n",
       "      <td>-21.594</td>\n",
       "      <td>-24.928</td>\n",
       "      <td>-30.427</td>\n",
       "      <td>-29.575</td>\n",
       "      <td>...</td>\n",
       "      <td>-26.696</td>\n",
       "      <td>-32.540</td>\n",
       "      <td>-24.116</td>\n",
       "      <td>-19.508</td>\n",
       "      <td>-26.645</td>\n",
       "      <td>-23.723</td>\n",
       "      <td>-29.146</td>\n",
       "      <td>-24.351</td>\n",
       "      <td>-28.355</td>\n",
       "      <td>-21.766</td>\n",
       "    </tr>\n",
       "    <tr>\n",
       "      <th>A2M</th>\n",
       "      <td>-17.068</td>\n",
       "      <td>-17.543</td>\n",
       "      <td>-24.666</td>\n",
       "      <td>-23.093</td>\n",
       "      <td>-16.209</td>\n",
       "      <td>-17.681</td>\n",
       "      <td>-20.955</td>\n",
       "      <td>-22.149</td>\n",
       "      <td>-18.750</td>\n",
       "      <td>-23.469</td>\n",
       "      <td>...</td>\n",
       "      <td>-14.144</td>\n",
       "      <td>-19.946</td>\n",
       "      <td>-24.095</td>\n",
       "      <td>-23.617</td>\n",
       "      <td>-15.625</td>\n",
       "      <td>-29.019</td>\n",
       "      <td>-6.685</td>\n",
       "      <td>-18.773</td>\n",
       "      <td>-20.462</td>\n",
       "      <td>-27.258</td>\n",
       "    </tr>\n",
       "    <tr>\n",
       "      <th>A2ML1</th>\n",
       "      <td>-24.133</td>\n",
       "      <td>-19.848</td>\n",
       "      <td>-26.523</td>\n",
       "      <td>-26.768</td>\n",
       "      <td>-24.029</td>\n",
       "      <td>-19.660</td>\n",
       "      <td>-28.300</td>\n",
       "      <td>-22.529</td>\n",
       "      <td>-28.063</td>\n",
       "      <td>-29.718</td>\n",
       "      <td>...</td>\n",
       "      <td>-21.733</td>\n",
       "      <td>-20.757</td>\n",
       "      <td>-34.984</td>\n",
       "      <td>-27.236</td>\n",
       "      <td>-21.984</td>\n",
       "      <td>-29.512</td>\n",
       "      <td>-29.738</td>\n",
       "      <td>-32.566</td>\n",
       "      <td>-27.427</td>\n",
       "      <td>-33.146</td>\n",
       "    </tr>\n",
       "    <tr>\n",
       "      <th>A3GALT2</th>\n",
       "      <td>-22.312</td>\n",
       "      <td>-25.476</td>\n",
       "      <td>-20.064</td>\n",
       "      <td>-19.207</td>\n",
       "      <td>-12.995</td>\n",
       "      <td>-16.646</td>\n",
       "      <td>-14.701</td>\n",
       "      <td>-25.260</td>\n",
       "      <td>-17.514</td>\n",
       "      <td>-34.984</td>\n",
       "      <td>...</td>\n",
       "      <td>-12.568</td>\n",
       "      <td>-20.820</td>\n",
       "      <td>-15.986</td>\n",
       "      <td>-20.420</td>\n",
       "      <td>-12.393</td>\n",
       "      <td>-23.462</td>\n",
       "      <td>-16.776</td>\n",
       "      <td>-21.269</td>\n",
       "      <td>-16.888</td>\n",
       "      <td>-8.540</td>\n",
       "    </tr>\n",
       "  </tbody>\n",
       "</table>\n",
       "<p>5 rows × 276 columns</p>\n",
       "</div>"
      ],
      "text/plain": [
       "         A549_LUNG  CFPAC1_PANCREAS  CHP212_AUTONOMIC_GANGLIA  DANG_PANCREAS  \\\n",
       "GENE                                                                           \n",
       "A1BG       -17.423          -20.647                   -28.836        -31.016   \n",
       "A1CF       -26.567          -24.943                   -20.669        -21.384   \n",
       "A2M        -17.068          -17.543                   -24.666        -23.093   \n",
       "A2ML1      -24.133          -19.848                   -26.523        -26.768   \n",
       "A3GALT2    -22.312          -25.476                   -20.064        -19.207   \n",
       "\n",
       "         KELLY_AUTONOMIC_GANGLIA  KP2_PANCREAS  KP3_PANCREAS  KP4_PANCREAS  \\\n",
       "GENE                                                                         \n",
       "A1BG                     -23.540       -25.811       -20.112       -26.493   \n",
       "A1CF                     -27.974       -26.414       -21.594       -24.928   \n",
       "A2M                      -16.209       -17.681       -20.955       -22.149   \n",
       "A2ML1                    -24.029       -19.660       -28.300       -22.529   \n",
       "A3GALT2                  -12.995       -16.646       -14.701       -25.260   \n",
       "\n",
       "         MIAPACA2_PANCREAS  NCIH1437_LUNG  ...  U118MG_CENTRAL_NERVOUS_SYSTEM  \\\n",
       "GENE                                       ...                                  \n",
       "A1BG               -17.036        -32.133  ...                        -24.170   \n",
       "A1CF               -30.427        -29.575  ...                        -26.696   \n",
       "A2M                -18.750        -23.469  ...                        -14.144   \n",
       "A2ML1              -28.063        -29.718  ...                        -21.733   \n",
       "A3GALT2            -17.514        -34.984  ...                        -12.568   \n",
       "\n",
       "         U2OS_BONE  U343_CENTRAL_NERVOUS_SYSTEM  UACC62_SKIN  \\\n",
       "GENE                                                           \n",
       "A1BG       -21.383                      -21.286      -30.931   \n",
       "A1CF       -32.540                      -24.116      -19.508   \n",
       "A2M        -19.946                      -24.095      -23.617   \n",
       "A2ML1      -20.757                      -34.984      -27.236   \n",
       "A3GALT2    -20.820                      -15.986      -20.420   \n",
       "\n",
       "         UMUC3_URINARY_TRACT  VMCUB1_URINARY_TRACT  WM1799_SKIN  WM2664_SKIN  \\\n",
       "GENE                                                                           \n",
       "A1BG                 -19.365               -19.633      -23.385      -27.848   \n",
       "A1CF                 -26.645               -23.723      -29.146      -24.351   \n",
       "A2M                  -15.625               -29.019       -6.685      -18.773   \n",
       "A2ML1                -21.984               -29.512      -29.738      -32.566   \n",
       "A3GALT2              -12.393               -23.462      -16.776      -21.269   \n",
       "\n",
       "         WM983B_SKIN  YKG1_CENTRAL_NERVOUS_SYSTEM  \n",
       "GENE                                               \n",
       "A1BG         -25.707                      -27.240  \n",
       "A1CF         -28.355                      -21.766  \n",
       "A2M          -20.462                      -27.258  \n",
       "A2ML1        -27.427                      -33.146  \n",
       "A3GALT2      -16.888                       -8.540  \n",
       "\n",
       "[5 rows x 276 columns]"
      ]
     },
     "execution_count": 40,
     "metadata": {},
     "output_type": "execute_result"
    }
   ],
   "source": [
    "import pandas as pd\n",
    "import seaborn as sns\n",
    "\n",
    "data = pd.read_csv(\"/home/annerer/Downloads/LSA-2018-00278_TableS4.txt\",sep =\"\\t\")\n",
    "data.index = data['GENE']\n",
    "data = data.drop('GENE',axis=1)\n",
    "data.head()"
   ]
  },
  {
   "cell_type": "code",
   "execution_count": 18,
   "metadata": {},
   "outputs": [
    {
     "data": {
      "image/png": "[encoded data removed]",
      "text/plain": [
       "<Figure size 720x720 with 4 Axes>"
      ]
     },
     "metadata": {
      "needs_background": "light"
     },
     "output_type": "display_data"
    }
   ],
   "source": [
    "pancreas = data.filter(like=\"PANCREAS\",axis=1)[290:304]\n",
    "\n",
    "pancreas = pancreas.clip(-10,30)\n",
    "pancreas_plot = sns.clustermap(pancreas,yticklabels=data['GENE'][290:304],cmap=\"Blues\")\n",
    "\n",
    "\n",
    "#figure = pancreas_plot.get_figure()    \n",
    "#figure.savefig('pancreas_plot.png', dpi=800)"
   ]
  },
  {
   "cell_type": "markdown",
   "metadata": {},
   "source": [
    "how would you do model comparision here? in principle you could use other knockout datasets, with shRNA and RNAi, especially for the same cell lines. \n",
    "\n",
    "What would you like to draw from the network and what would be a \n",
    "sensible model? these are net count data after all, but highly processed essentiality data."
   ]
  },
  {
   "cell_type": "markdown",
   "metadata": {},
   "source": [
    "#### Q: looking at clusters?\n",
    "we could build a sparse matrix using a cutoff at around -5 (like \n",
    "kim et al 2019 did - at least when plotting).\n",
    "for this matrix, we could look at the highest values."
   ]
  },
  {
   "cell_type": "markdown",
   "metadata": {},
   "source": [
    "q: what genes exactly were left out in their analysis.\n",
    "how were the data generated precisely? (how many knocked down genes, which ones?)\n"
   ]
  },
  {
   "cell_type": "code",
   "execution_count": 9,
   "metadata": {},
   "outputs": [
    {
     "data": {
      "text/plain": [
       "<seaborn.matrix.ClusterGrid at 0x7ff37b8436d8>"
      ]
     },
     "execution_count": 9,
     "metadata": {},
     "output_type": "execute_result"
    },
    {
     "data": {
      "image/png": "[encoded data removed]",
      "text/plain": [
       "<Figure size 720x720 with 4 Axes>"
      ]
     },
     "metadata": {
      "needs_background": "light"
     },
     "output_type": "display_data"
    }
   ],
   "source": [
    "\n",
    "#setup for looking at the essentiality data\n",
    "# specifiy which columns to include and plot the genes and their respective names alongside them\n",
    "\n",
    "import seaborn as sns\n",
    "\n",
    "pan = data.drop(data.columns[0],axis=1)\n",
    "pan = pan[pan.columns[100:130]]\n",
    "pan = pan[2705:2725]\n",
    "\n",
    "\n",
    "pan = pan.clip(5,100)\n",
    "sns.clustermap(pan,yticklabels=data['GENE'][2705:2725],cmap=\"Blues\")\n"
   ]
  },
  {
   "cell_type": "markdown",
   "metadata": {},
   "source": [
    "q: what is the uncertainty associated with the BAGEL bayes factors?\n",
    "q: how to best cluster a (sparse) matrix? \n",
    "q: how to systematically identify relevant genes and relevant cell lines?\n",
    "q: in case you are not validating a putative network with these data, where "
   ]
  },
  {
   "cell_type": "code",
   "execution_count": 123,
   "metadata": {
    "collapsed": true,
    "jupyter": {
     "outputs_hidden": true,
     "source_hidden": true
    }
   },
   "outputs": [
    {
     "data": {
      "image/png": "[encoded data removed]",
      "text/plain": [
       "<Figure size 432x288 with 1 Axes>"
      ]
     },
     "metadata": {
      "needs_background": "light"
     },
     "output_type": "display_data"
    }
   ],
   "source": [
    "# finding clusters within the essentiality data\n",
    "\n",
    "import scipy.cluster.hierarchy as sch\n",
    "dendrogram = sch.dendrogram(sch.linkage(pan, method  = \"ward\"))\n",
    "\n"
   ]
  },
  {
   "cell_type": "code",
   "execution_count": null,
   "metadata": {},
   "outputs": [],
   "source": [
    "dendrogram = sch.dendrogram(sch.linkage(pan, method  = \"ward\"))"
   ]
  },
  {
   "cell_type": "code",
   "execution_count": 2,
   "metadata": {},
   "outputs": [],
   "source": [
    "#import sknetwork as skn\n",
    "\n",
    "#adjaceny = pan\n",
    "#paris = Paris(engine='python')\n",
    "#paris.fit(adjaceny).dendrogram_"
   ]
  },
  {
   "cell_type": "code",
   "execution_count": 3,
   "metadata": {
    "jupyter": {
     "source_hidden": true
    }
   },
   "outputs": [],
   "source": [
    "#pan.max(axis=1)"
   ]
  },
  {
   "cell_type": "code",
   "execution_count": 1,
   "metadata": {
    "jupyter": {
     "source_hidden": true
    }
   },
   "outputs": [],
   "source": [
    "#pan.idxmax(axis=0)"
   ]
  },
  {
   "cell_type": "code",
   "execution_count": 2,
   "metadata": {
    "jupyter": {
     "source_hidden": true
    }
   },
   "outputs": [],
   "source": [
    "#pan.max(axis=0)"
   ]
  },
  {
   "cell_type": "markdown",
   "metadata": {},
   "source": [
    "biology: ankle2 is essential in many cell lines.\n",
    "Ankyrin repeat and LEM domain-containing protein 2\n",
    "\n",
    "cep131 centrosomal protein\n",
    "cep192 \n",
    "Cep192 is a major regulator of pericentriolar material recruitment, centrosome maturation, and centriole duplication in mammalian cells.\n",
    "\n",
    "\n"
   ]
  },
  {
   "cell_type": "code",
   "execution_count": 64,
   "metadata": {
    "collapsed": true,
    "jupyter": {
     "outputs_hidden": true,
     "source_hidden": true
    }
   },
   "outputs": [
    {
     "data": {
      "text/plain": [
       "(9, 9)"
      ]
     },
     "execution_count": 64,
     "metadata": {},
     "output_type": "execute_result"
    }
   ],
   "source": [
    "pan = data.drop(data.columns[0],axis=1)\n",
    "pan = pan[pan.columns[1:10]]\n",
    "\n",
    "pan = pan[1:10]\n",
    "pan.shape"
   ]
  },
  {
   "cell_type": "code",
   "execution_count": 40,
   "metadata": {
    "collapsed": true,
    "jupyter": {
     "outputs_hidden": true,
     "source_hidden": true
    }
   },
   "outputs": [
    {
     "data": {
      "text/html": [
       "<div>\n",
       "<style scoped>\n",
       "    .dataframe tbody tr th:only-of-type {\n",
       "        vertical-align: middle;\n",
       "    }\n",
       "\n",
       "    .dataframe tbody tr th {\n",
       "        vertical-align: top;\n",
       "    }\n",
       "\n",
       "    .dataframe thead th {\n",
       "        text-align: right;\n",
       "    }\n",
       "</style>\n",
       "<table border=\"1\" class=\"dataframe\">\n",
       "  <thead>\n",
       "    <tr style=\"text-align: right;\">\n",
       "      <th></th>\n",
       "      <th>A549_LUNG</th>\n",
       "      <th>CFPAC1_PANCREAS</th>\n",
       "      <th>CHP212_AUTONOMIC_GANGLIA</th>\n",
       "      <th>DANG_PANCREAS</th>\n",
       "      <th>KELLY_AUTONOMIC_GANGLIA</th>\n",
       "      <th>KP2_PANCREAS</th>\n",
       "      <th>KP3_PANCREAS</th>\n",
       "      <th>KP4_PANCREAS</th>\n",
       "      <th>MIAPACA2_PANCREAS</th>\n",
       "      <th>NCIH1437_LUNG</th>\n",
       "      <th>...</th>\n",
       "      <th>U118MG_CENTRAL_NERVOUS_SYSTEM</th>\n",
       "      <th>U2OS_BONE</th>\n",
       "      <th>U343_CENTRAL_NERVOUS_SYSTEM</th>\n",
       "      <th>UACC62_SKIN</th>\n",
       "      <th>UMUC3_URINARY_TRACT</th>\n",
       "      <th>VMCUB1_URINARY_TRACT</th>\n",
       "      <th>WM1799_SKIN</th>\n",
       "      <th>WM2664_SKIN</th>\n",
       "      <th>WM983B_SKIN</th>\n",
       "      <th>YKG1_CENTRAL_NERVOUS_SYSTEM</th>\n",
       "    </tr>\n",
       "  </thead>\n",
       "  <tbody>\n",
       "    <tr>\n",
       "      <th>1</th>\n",
       "      <td>-26.567</td>\n",
       "      <td>-24.943</td>\n",
       "      <td>-20.669</td>\n",
       "      <td>-21.384</td>\n",
       "      <td>-27.974</td>\n",
       "      <td>-26.414</td>\n",
       "      <td>-21.594</td>\n",
       "      <td>-24.928</td>\n",
       "      <td>-30.427</td>\n",
       "      <td>-29.575</td>\n",
       "      <td>...</td>\n",
       "      <td>-26.696</td>\n",
       "      <td>-32.540</td>\n",
       "      <td>-24.116</td>\n",
       "      <td>-19.508</td>\n",
       "      <td>-26.645</td>\n",
       "      <td>-23.723</td>\n",
       "      <td>-29.146</td>\n",
       "      <td>-24.351</td>\n",
       "      <td>-28.355</td>\n",
       "      <td>-21.766</td>\n",
       "    </tr>\n",
       "    <tr>\n",
       "      <th>2</th>\n",
       "      <td>-17.068</td>\n",
       "      <td>-17.543</td>\n",
       "      <td>-24.666</td>\n",
       "      <td>-23.093</td>\n",
       "      <td>-16.209</td>\n",
       "      <td>-17.681</td>\n",
       "      <td>-20.955</td>\n",
       "      <td>-22.149</td>\n",
       "      <td>-18.750</td>\n",
       "      <td>-23.469</td>\n",
       "      <td>...</td>\n",
       "      <td>-14.144</td>\n",
       "      <td>-19.946</td>\n",
       "      <td>-24.095</td>\n",
       "      <td>-23.617</td>\n",
       "      <td>-15.625</td>\n",
       "      <td>-29.019</td>\n",
       "      <td>-6.685</td>\n",
       "      <td>-18.773</td>\n",
       "      <td>-20.462</td>\n",
       "      <td>-27.258</td>\n",
       "    </tr>\n",
       "    <tr>\n",
       "      <th>3</th>\n",
       "      <td>-24.133</td>\n",
       "      <td>-19.848</td>\n",
       "      <td>-26.523</td>\n",
       "      <td>-26.768</td>\n",
       "      <td>-24.029</td>\n",
       "      <td>-19.660</td>\n",
       "      <td>-28.300</td>\n",
       "      <td>-22.529</td>\n",
       "      <td>-28.063</td>\n",
       "      <td>-29.718</td>\n",
       "      <td>...</td>\n",
       "      <td>-21.733</td>\n",
       "      <td>-20.757</td>\n",
       "      <td>-34.984</td>\n",
       "      <td>-27.236</td>\n",
       "      <td>-21.984</td>\n",
       "      <td>-29.512</td>\n",
       "      <td>-29.738</td>\n",
       "      <td>-32.566</td>\n",
       "      <td>-27.427</td>\n",
       "      <td>-33.146</td>\n",
       "    </tr>\n",
       "    <tr>\n",
       "      <th>4</th>\n",
       "      <td>-22.312</td>\n",
       "      <td>-25.476</td>\n",
       "      <td>-20.064</td>\n",
       "      <td>-19.207</td>\n",
       "      <td>-12.995</td>\n",
       "      <td>-16.646</td>\n",
       "      <td>-14.701</td>\n",
       "      <td>-25.260</td>\n",
       "      <td>-17.514</td>\n",
       "      <td>-34.984</td>\n",
       "      <td>...</td>\n",
       "      <td>-12.568</td>\n",
       "      <td>-20.820</td>\n",
       "      <td>-15.986</td>\n",
       "      <td>-20.420</td>\n",
       "      <td>-12.393</td>\n",
       "      <td>-23.462</td>\n",
       "      <td>-16.776</td>\n",
       "      <td>-21.269</td>\n",
       "      <td>-16.888</td>\n",
       "      <td>-8.540</td>\n",
       "    </tr>\n",
       "    <tr>\n",
       "      <th>5</th>\n",
       "      <td>-23.518</td>\n",
       "      <td>-27.136</td>\n",
       "      <td>-14.847</td>\n",
       "      <td>-20.795</td>\n",
       "      <td>-18.067</td>\n",
       "      <td>-16.377</td>\n",
       "      <td>-19.297</td>\n",
       "      <td>-19.291</td>\n",
       "      <td>-18.358</td>\n",
       "      <td>-15.947</td>\n",
       "      <td>...</td>\n",
       "      <td>-29.261</td>\n",
       "      <td>-21.900</td>\n",
       "      <td>-25.013</td>\n",
       "      <td>-13.806</td>\n",
       "      <td>-31.395</td>\n",
       "      <td>-22.791</td>\n",
       "      <td>-22.867</td>\n",
       "      <td>-11.055</td>\n",
       "      <td>-15.256</td>\n",
       "      <td>-15.254</td>\n",
       "    </tr>\n",
       "    <tr>\n",
       "      <th>6</th>\n",
       "      <td>-31.093</td>\n",
       "      <td>-20.726</td>\n",
       "      <td>-27.709</td>\n",
       "      <td>-18.835</td>\n",
       "      <td>-21.838</td>\n",
       "      <td>-25.128</td>\n",
       "      <td>-17.669</td>\n",
       "      <td>-26.814</td>\n",
       "      <td>-24.737</td>\n",
       "      <td>-25.528</td>\n",
       "      <td>...</td>\n",
       "      <td>-20.973</td>\n",
       "      <td>-31.183</td>\n",
       "      <td>-32.400</td>\n",
       "      <td>-19.459</td>\n",
       "      <td>-24.563</td>\n",
       "      <td>-18.454</td>\n",
       "      <td>-20.383</td>\n",
       "      <td>-29.518</td>\n",
       "      <td>-26.884</td>\n",
       "      <td>-14.971</td>\n",
       "    </tr>\n",
       "    <tr>\n",
       "      <th>7</th>\n",
       "      <td>5.975</td>\n",
       "      <td>5.810</td>\n",
       "      <td>12.795</td>\n",
       "      <td>-2.753</td>\n",
       "      <td>-7.567</td>\n",
       "      <td>14.847</td>\n",
       "      <td>6.383</td>\n",
       "      <td>-0.849</td>\n",
       "      <td>-2.730</td>\n",
       "      <td>-7.796</td>\n",
       "      <td>...</td>\n",
       "      <td>-4.649</td>\n",
       "      <td>1.442</td>\n",
       "      <td>7.170</td>\n",
       "      <td>2.319</td>\n",
       "      <td>-8.430</td>\n",
       "      <td>6.119</td>\n",
       "      <td>-8.941</td>\n",
       "      <td>-10.210</td>\n",
       "      <td>-1.158</td>\n",
       "      <td>-3.873</td>\n",
       "    </tr>\n",
       "    <tr>\n",
       "      <th>8</th>\n",
       "      <td>-26.805</td>\n",
       "      <td>-26.374</td>\n",
       "      <td>-24.565</td>\n",
       "      <td>-35.498</td>\n",
       "      <td>-20.692</td>\n",
       "      <td>-25.545</td>\n",
       "      <td>-27.467</td>\n",
       "      <td>-29.942</td>\n",
       "      <td>-27.033</td>\n",
       "      <td>-31.732</td>\n",
       "      <td>...</td>\n",
       "      <td>-34.356</td>\n",
       "      <td>-22.280</td>\n",
       "      <td>-22.081</td>\n",
       "      <td>-26.792</td>\n",
       "      <td>-20.487</td>\n",
       "      <td>-32.144</td>\n",
       "      <td>-28.787</td>\n",
       "      <td>-26.664</td>\n",
       "      <td>-20.348</td>\n",
       "      <td>-21.289</td>\n",
       "    </tr>\n",
       "    <tr>\n",
       "      <th>9</th>\n",
       "      <td>-24.711</td>\n",
       "      <td>-26.468</td>\n",
       "      <td>-27.746</td>\n",
       "      <td>-22.175</td>\n",
       "      <td>-33.659</td>\n",
       "      <td>-24.688</td>\n",
       "      <td>-16.105</td>\n",
       "      <td>-29.211</td>\n",
       "      <td>-24.030</td>\n",
       "      <td>-30.071</td>\n",
       "      <td>...</td>\n",
       "      <td>-30.651</td>\n",
       "      <td>-27.119</td>\n",
       "      <td>-20.505</td>\n",
       "      <td>-34.044</td>\n",
       "      <td>-25.104</td>\n",
       "      <td>-30.000</td>\n",
       "      <td>-27.337</td>\n",
       "      <td>-31.856</td>\n",
       "      <td>-21.783</td>\n",
       "      <td>-16.258</td>\n",
       "    </tr>\n",
       "  </tbody>\n",
       "</table>\n",
       "<p>9 rows × 276 columns</p>\n",
       "</div>"
      ],
      "text/plain": [
       "   A549_LUNG  CFPAC1_PANCREAS  CHP212_AUTONOMIC_GANGLIA  DANG_PANCREAS  \\\n",
       "1    -26.567          -24.943                   -20.669        -21.384   \n",
       "2    -17.068          -17.543                   -24.666        -23.093   \n",
       "3    -24.133          -19.848                   -26.523        -26.768   \n",
       "4    -22.312          -25.476                   -20.064        -19.207   \n",
       "5    -23.518          -27.136                   -14.847        -20.795   \n",
       "6    -31.093          -20.726                   -27.709        -18.835   \n",
       "7      5.975            5.810                    12.795         -2.753   \n",
       "8    -26.805          -26.374                   -24.565        -35.498   \n",
       "9    -24.711          -26.468                   -27.746        -22.175   \n",
       "\n",
       "   KELLY_AUTONOMIC_GANGLIA  KP2_PANCREAS  KP3_PANCREAS  KP4_PANCREAS  \\\n",
       "1                  -27.974       -26.414       -21.594       -24.928   \n",
       "2                  -16.209       -17.681       -20.955       -22.149   \n",
       "3                  -24.029       -19.660       -28.300       -22.529   \n",
       "4                  -12.995       -16.646       -14.701       -25.260   \n",
       "5                  -18.067       -16.377       -19.297       -19.291   \n",
       "6                  -21.838       -25.128       -17.669       -26.814   \n",
       "7                   -7.567        14.847         6.383        -0.849   \n",
       "8                  -20.692       -25.545       -27.467       -29.942   \n",
       "9                  -33.659       -24.688       -16.105       -29.211   \n",
       "\n",
       "   MIAPACA2_PANCREAS  NCIH1437_LUNG  ...  U118MG_CENTRAL_NERVOUS_SYSTEM  \\\n",
       "1            -30.427        -29.575  ...                        -26.696   \n",
       "2            -18.750        -23.469  ...                        -14.144   \n",
       "3            -28.063        -29.718  ...                        -21.733   \n",
       "4            -17.514        -34.984  ...                        -12.568   \n",
       "5            -18.358        -15.947  ...                        -29.261   \n",
       "6            -24.737        -25.528  ...                        -20.973   \n",
       "7             -2.730         -7.796  ...                         -4.649   \n",
       "8            -27.033        -31.732  ...                        -34.356   \n",
       "9            -24.030        -30.071  ...                        -30.651   \n",
       "\n",
       "   U2OS_BONE  U343_CENTRAL_NERVOUS_SYSTEM  UACC62_SKIN  UMUC3_URINARY_TRACT  \\\n",
       "1    -32.540                      -24.116      -19.508              -26.645   \n",
       "2    -19.946                      -24.095      -23.617              -15.625   \n",
       "3    -20.757                      -34.984      -27.236              -21.984   \n",
       "4    -20.820                      -15.986      -20.420              -12.393   \n",
       "5    -21.900                      -25.013      -13.806              -31.395   \n",
       "6    -31.183                      -32.400      -19.459              -24.563   \n",
       "7      1.442                        7.170        2.319               -8.430   \n",
       "8    -22.280                      -22.081      -26.792              -20.487   \n",
       "9    -27.119                      -20.505      -34.044              -25.104   \n",
       "\n",
       "   VMCUB1_URINARY_TRACT  WM1799_SKIN  WM2664_SKIN  WM983B_SKIN  \\\n",
       "1               -23.723      -29.146      -24.351      -28.355   \n",
       "2               -29.019       -6.685      -18.773      -20.462   \n",
       "3               -29.512      -29.738      -32.566      -27.427   \n",
       "4               -23.462      -16.776      -21.269      -16.888   \n",
       "5               -22.791      -22.867      -11.055      -15.256   \n",
       "6               -18.454      -20.383      -29.518      -26.884   \n",
       "7                 6.119       -8.941      -10.210       -1.158   \n",
       "8               -32.144      -28.787      -26.664      -20.348   \n",
       "9               -30.000      -27.337      -31.856      -21.783   \n",
       "\n",
       "   YKG1_CENTRAL_NERVOUS_SYSTEM  \n",
       "1                      -21.766  \n",
       "2                      -27.258  \n",
       "3                      -33.146  \n",
       "4                       -8.540  \n",
       "5                      -15.254  \n",
       "6                      -14.971  \n",
       "7                       -3.873  \n",
       "8                      -21.289  \n",
       "9                      -16.258  \n",
       "\n",
       "[9 rows x 276 columns]"
      ]
     },
     "execution_count": 40,
     "metadata": {},
     "output_type": "execute_result"
    }
   ],
   "source": [
    "pan = data.drop(data.columns[0],axis=1)\n",
    "pan = pan[1:10]\n",
    "\n",
    "pan"
   ]
  },
  {
   "cell_type": "code",
   "execution_count": 119,
   "metadata": {},
   "outputs": [],
   "source": [
    "#data.columns[100:200]"
   ]
  },
  {
   "cell_type": "code",
   "execution_count": 131,
   "metadata": {},
   "outputs": [],
   "source": [
    "#data.filter(like='PEX', axis=0)"
   ]
  },
  {
   "cell_type": "code",
   "execution_count": 110,
   "metadata": {},
   "outputs": [],
   "source": [
    "#data[[\"PANC0813\",\"PATU8902\",\"SU8686\",\"BXPC3\",\"PANC0327\",\"PANC1\"]][10792:10800]"
   ]
  },
  {
   "cell_type": "code",
   "execution_count": 202,
   "metadata": {},
   "outputs": [],
   "source": [
    "#subset3 = data[\"GENE\"][200:305]\n",
    "#subset3"
   ]
  },
  {
   "cell_type": "code",
   "execution_count": 7,
   "metadata": {},
   "outputs": [],
   "source": [
    "subset = data[['PANC1005_PANCREAS', 'PATU8988S_PANCREAS',\n",
    "       'PF382_HAEMATOPOIETIC_AND_LYMPHOID_TISSUE', 'PK1_PANCREAS',\n",
    "       'PLCPRF5_LIVER', 'RD_SOFT_TISSUE','MDAMB231_BREAST', 'MDAMB415_BREAST', 'MDAMB436_BREAST',\n",
    "       'MDAMB453_BREAST']][10790:10800]"
   ]
  },
  {
   "cell_type": "code",
   "execution_count": 8,
   "metadata": {
    "collapsed": true,
    "jupyter": {
     "outputs_hidden": true
    }
   },
   "outputs": [
    {
     "data": {
      "text/plain": [
       "<matplotlib.axes._subplots.AxesSubplot at 0x7f0cb7728860>"
      ]
     },
     "execution_count": 8,
     "metadata": {},
     "output_type": "execute_result"
    },
    {
     "data": {
      "image/png": "[encoded data removed]",
      "text/plain": [
       "<Figure size 432x288 with 2 Axes>"
      ]
     },
     "metadata": {
      "needs_background": "light"
     },
     "output_type": "display_data"
    }
   ],
   "source": [
    "import seaborn as sns\n",
    "\n",
    "subset = subset.clip(-5,30)\n",
    "sns.heatmap(subset,yticklabels=data['GENE'][10790:10800],cmap=\"Blues\")\n"
   ]
  },
  {
   "cell_type": "code",
   "execution_count": 170,
   "metadata": {
    "collapsed": true,
    "jupyter": {
     "outputs_hidden": true
    }
   },
   "outputs": [
    {
     "data": {
      "text/html": [
       "<div>\n",
       "<style scoped>\n",
       "    .dataframe tbody tr th:only-of-type {\n",
       "        vertical-align: middle;\n",
       "    }\n",
       "\n",
       "    .dataframe tbody tr th {\n",
       "        vertical-align: top;\n",
       "    }\n",
       "\n",
       "    .dataframe thead th {\n",
       "        text-align: right;\n",
       "    }\n",
       "</style>\n",
       "<table border=\"1\" class=\"dataframe\">\n",
       "  <thead>\n",
       "    <tr style=\"text-align: right;\">\n",
       "      <th></th>\n",
       "      <th>NCIH747_LARGE_INTESTINE</th>\n",
       "    </tr>\n",
       "  </thead>\n",
       "  <tbody>\n",
       "    <tr>\n",
       "      <th>10792</th>\n",
       "      <td>8.819</td>\n",
       "    </tr>\n",
       "    <tr>\n",
       "      <th>10793</th>\n",
       "      <td>-21.639</td>\n",
       "    </tr>\n",
       "    <tr>\n",
       "      <th>10794</th>\n",
       "      <td>-21.046</td>\n",
       "    </tr>\n",
       "    <tr>\n",
       "      <th>10795</th>\n",
       "      <td>-11.361</td>\n",
       "    </tr>\n",
       "    <tr>\n",
       "      <th>10796</th>\n",
       "      <td>-13.819</td>\n",
       "    </tr>\n",
       "    <tr>\n",
       "      <th>10797</th>\n",
       "      <td>-13.394</td>\n",
       "    </tr>\n",
       "    <tr>\n",
       "      <th>10798</th>\n",
       "      <td>-13.604</td>\n",
       "    </tr>\n",
       "    <tr>\n",
       "      <th>10799</th>\n",
       "      <td>-15.234</td>\n",
       "    </tr>\n",
       "  </tbody>\n",
       "</table>\n",
       "</div>"
      ],
      "text/plain": [
       "       NCIH747_LARGE_INTESTINE\n",
       "10792                    8.819\n",
       "10793                  -21.639\n",
       "10794                  -21.046\n",
       "10795                  -11.361\n",
       "10796                  -13.819\n",
       "10797                  -13.394\n",
       "10798                  -13.604\n",
       "10799                  -15.234"
      ]
     },
     "execution_count": 170,
     "metadata": {},
     "output_type": "execute_result"
    }
   ],
   "source": [
    "subset = data[[ 'NCIH1581_LUNG',\n",
    "       'NCIH2170_LUNG', 'NCIH460_LUNG', 'NCIH747_LARGE_INTESTINE',]][10792:10800]\n",
    "\n",
    "subset.filter(like='LAR',axis=1)\n"
   ]
  },
  {
   "cell_type": "code",
   "execution_count": 209,
   "metadata": {
    "collapsed": true,
    "jupyter": {
     "outputs_hidden": true
    }
   },
   "outputs": [
    {
     "data": {
      "text/plain": [
       "<matplotlib.axes._subplots.AxesSubplot at 0x7f65fb5b8898>"
      ]
     },
     "execution_count": 209,
     "metadata": {},
     "output_type": "execute_result"
    },
    {
     "data": {
      "image/png": "[encoded data removed]",
      "text/plain": [
       "<Figure size 432x288 with 2 Axes>"
      ]
     },
     "metadata": {
      "needs_background": "light"
     },
     "output_type": "display_data"
    }
   ],
   "source": [
    "import seaborn as sns\n",
    "\n",
    "# sns.heatmap(df, xticklabels=xlabels, yticklabels=ylabels)\n",
    "subset = subset.clip(-5,50)\n",
    "sns.heatmap(subset,yticklabels=data['GENE'][10792:10800],cmap=\"Blues\")\n",
    "\n",
    "# df.filter(like='bbi', axis=0)\n",
    "\n",
    "#data['GENE'][10792:10800]"
   ]
  },
  {
   "cell_type": "markdown",
   "metadata": {},
   "source": [
    "having clustered the whole dataset, see if you find good correspondence between the hart graphs (might want to use cytoscape) and take a more detailed look at mutual exclusions in network clusters."
   ]
  },
  {
   "cell_type": "code",
   "execution_count": 210,
   "metadata": {
    "collapsed": true,
    "jupyter": {
     "outputs_hidden": true
    }
   },
   "outputs": [
    {
     "data": {
      "text/plain": [
       "<matplotlib.axes._subplots.AxesSubplot at 0x7f65fb59fe80>"
      ]
     },
     "execution_count": 210,
     "metadata": {},
     "output_type": "execute_result"
    },
    {
     "data": {
      "image/png": "[encoded data removed]",
      "text/plain": [
       "<Figure size 432x288 with 2 Axes>"
      ]
     },
     "metadata": {
      "needs_background": "light"
     },
     "output_type": "display_data"
    }
   ],
   "source": [
    "subset2 = data[[ 'NCIH1581_LUNG',\n",
    "       'NCIH2170_LUNG', 'NCIH460_LUNG', 'NCIH747_LARGE_INTESTINE',]][10782:10790]\n",
    "subset2 = subset2.clip(0,50)\n",
    "sns.heatmap(subset2,yticklabels=data['GENE'][10782:10790],cmap=\"Blues\")\n"
   ]
  }
 ],
 "metadata": {
  "kernelspec": {
   "display_name": "Python 3",
   "language": "python",
   "name": "python3"
  },
  "language_info": {
   "codemirror_mode": {
    "name": "ipython",
    "version": 3
   },
   "file_extension": ".py",
   "mimetype": "text/x-python",
   "name": "python",
   "nbconvert_exporter": "python",
   "pygments_lexer": "ipython3",
   "version": "3.5.2"
  }
 },
 "nbformat": 4,
 "nbformat_minor": 4
}
