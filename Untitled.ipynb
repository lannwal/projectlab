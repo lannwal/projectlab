{
 "cells": [
  {
   "cell_type": "code",
   "execution_count": 10,
   "metadata": {},
   "outputs": [],
   "source": [
    "require(ggplot2)"
   ]
  },
  {
   "cell_type": "code",
   "execution_count": 11,
   "metadata": {},
   "outputs": [
    {
     "data": {
      "text/html": [
       "<style>\n",
       ".list-inline {list-style: none; margin:0; padding: 0}\n",
       ".list-inline>li {display: inline-block}\n",
       ".list-inline>li:not(:last-child)::after {content: \"\\00b7\"; padding: 0 .5ex}\n",
       "</style>\n",
       "<ol class=list-inline><li>0.610023902838192</li><li>0.590755307726947</li><li>-0.0673107770974096</li><li>-0.924888782566281</li></ol>\n"
      ],
      "text/latex": [
       "\\begin{enumerate*}\n",
       "\\item 0.610023902838192\n",
       "\\item 0.590755307726947\n",
       "\\item -0.0673107770974096\n",
       "\\item -0.924888782566281\n",
       "\\end{enumerate*}\n"
      ],
      "text/markdown": [
       "1. 0.610023902838192\n",
       "2. 0.590755307726947\n",
       "3. -0.0673107770974096\n",
       "4. -0.924888782566281\n",
       "\n",
       "\n"
      ],
      "text/plain": [
       "[1]  0.61002390  0.59075531 -0.06731078 -0.92488878"
      ]
     },
     "metadata": {},
     "output_type": "display_data"
    }
   ],
   "source": [
    "rnorm(4)"
   ]
  },
  {
   "cell_type": "code",
   "execution_count": 12,
   "metadata": {},
   "outputs": [
    {
     "data": {
      "text/plain": [
       "\n",
       "Call:  glm(formula = a ~ b)\n",
       "\n",
       "Coefficients:\n",
       "(Intercept)            b  \n",
       "     2.8680       0.6237  \n",
       "\n",
       "Degrees of Freedom: 3 Total (i.e. Null);  2 Residual\n",
       "Null Deviance:\t    5 \n",
       "Residual Deviance: 2.334 \tAIC: 15.2"
      ]
     },
     "metadata": {},
     "output_type": "display_data"
    }
   ],
   "source": [
    "b = rnorm(4)\n",
    "a <- c(1,2,3,4)\n",
    "\n",
    "glm(a ~ b)"
   ]
  },
  {
   "cell_type": "code",
   "execution_count": null,
   "metadata": {},
   "outputs": [],
   "source": []
  },
  {
   "cell_type": "code",
   "execution_count": null,
   "metadata": {},
   "outputs": [],
   "source": []
  },
  {
   "cell_type": "code",
   "execution_count": 7,
   "metadata": {},
   "outputs": [
    {
     "data": {
      "image/png": "[encoded data removed]",
      "text/plain": [
       "plot without title"
      ]
     },
     "metadata": {
      "image/png": {
       "height": 420,
       "width": 420
      },
      "text/plain": {
       "height": 420,
       "width": 420
      }
     },
     "output_type": "display_data"
    }
   ],
   "source": [
    "z <- c(1,2,3,4)\n",
    "a <- sin(z)\n",
    "\n",
    "plot(a,z,'b')"
   ]
  },
  {
   "cell_type": "code",
   "execution_count": 16,
   "metadata": {},
   "outputs": [],
   "source": [
    "#require(tidyverse)"
   ]
  },
  {
   "cell_type": "code",
   "execution_count": 17,
   "metadata": {},
   "outputs": [],
   "source": [
    "#install.packages(\"tidyverse\")"
   ]
  },
  {
   "cell_type": "code",
   "execution_count": 19,
   "metadata": {},
   "outputs": [
    {
     "data": {
      "text/html": [
       "<table>\n",
       "<caption>A tibble: 10 × 2</caption>\n",
       "<thead>\n",
       "\t<tr><th scope=col>a</th><th scope=col>b</th></tr>\n",
       "\t<tr><th scope=col>&lt;dbl&gt;</th><th scope=col>&lt;dbl&gt;</th></tr>\n",
       "</thead>\n",
       "<tbody>\n",
       "\t<tr><td> 0.3767853</td><td>-0.8018994</td></tr>\n",
       "\t<tr><td>-0.3626008</td><td> 1.2513852</td></tr>\n",
       "\t<tr><td>-0.5209714</td><td> 1.0204747</td></tr>\n",
       "\t<tr><td> 0.4152878</td><td>-0.4403336</td></tr>\n",
       "\t<tr><td> 0.7963723</td><td>-0.3857396</td></tr>\n",
       "\t<tr><td>-0.4752001</td><td>-0.7384250</td></tr>\n",
       "\t<tr><td>-0.1999711</td><td>-1.7011739</td></tr>\n",
       "\t<tr><td>-0.2088101</td><td> 0.4255017</td></tr>\n",
       "\t<tr><td> 2.0624292</td><td> 0.7711276</td></tr>\n",
       "\t<tr><td> 1.5603634</td><td>-0.2371033</td></tr>\n",
       "</tbody>\n",
       "</table>\n"
      ],
      "text/latex": [
       "A tibble: 10 × 2\n",
       "\\begin{tabular}{ll}\n",
       " a & b\\\\\n",
       " <dbl> & <dbl>\\\\\n",
       "\\hline\n",
       "\t  0.3767853 & -0.8018994\\\\\n",
       "\t -0.3626008 &  1.2513852\\\\\n",
       "\t -0.5209714 &  1.0204747\\\\\n",
       "\t  0.4152878 & -0.4403336\\\\\n",
       "\t  0.7963723 & -0.3857396\\\\\n",
       "\t -0.4752001 & -0.7384250\\\\\n",
       "\t -0.1999711 & -1.7011739\\\\\n",
       "\t -0.2088101 &  0.4255017\\\\\n",
       "\t  2.0624292 &  0.7711276\\\\\n",
       "\t  1.5603634 & -0.2371033\\\\\n",
       "\\end{tabular}\n"
      ],
      "text/markdown": [
       "\n",
       "A tibble: 10 × 2\n",
       "\n",
       "| a &lt;dbl&gt; | b &lt;dbl&gt; |\n",
       "|---|---|\n",
       "|  0.3767853 | -0.8018994 |\n",
       "| -0.3626008 |  1.2513852 |\n",
       "| -0.5209714 |  1.0204747 |\n",
       "|  0.4152878 | -0.4403336 |\n",
       "|  0.7963723 | -0.3857396 |\n",
       "| -0.4752001 | -0.7384250 |\n",
       "| -0.1999711 | -1.7011739 |\n",
       "| -0.2088101 |  0.4255017 |\n",
       "|  2.0624292 |  0.7711276 |\n",
       "|  1.5603634 | -0.2371033 |\n",
       "\n"
      ],
      "text/plain": [
       "   a          b         \n",
       "1   0.3767853 -0.8018994\n",
       "2  -0.3626008  1.2513852\n",
       "3  -0.5209714  1.0204747\n",
       "4   0.4152878 -0.4403336\n",
       "5   0.7963723 -0.3857396\n",
       "6  -0.4752001 -0.7384250\n",
       "7  -0.1999711 -1.7011739\n",
       "8  -0.2088101  0.4255017\n",
       "9   2.0624292  0.7711276\n",
       "10  1.5603634 -0.2371033"
      ]
     },
     "metadata": {},
     "output_type": "display_data"
    }
   ],
   "source": [
    "df <- tibble::tibble(a = rnorm(10),b=rnorm(10))\n",
    "df"
   ]
  },
  {
   "cell_type": "code",
   "execution_count": 20,
   "metadata": {},
   "outputs": [
    {
     "data": {
      "text/html": [
       "<style>\n",
       ".list-inline {list-style: none; margin:0; padding: 0}\n",
       ".list-inline>li {display: inline-block}\n",
       ".list-inline>li:not(:last-child)::after {content: \"\\00b7\"; padding: 0 .5ex}\n",
       "</style>\n",
       "<ol class=list-inline><li>0</li><li>0.5</li><li>1</li></ol>\n"
      ],
      "text/latex": [
       "\\begin{enumerate*}\n",
       "\\item 0\n",
       "\\item 0.5\n",
       "\\item 1\n",
       "\\end{enumerate*}\n"
      ],
      "text/markdown": [
       "1. 0\n",
       "2. 0.5\n",
       "3. 1\n",
       "\n",
       "\n"
      ],
      "text/plain": [
       "[1] 0.0 0.5 1.0"
      ]
     },
     "metadata": {},
     "output_type": "display_data"
    }
   ],
   "source": [
    "rescale <- function(x){\n",
    "    rng <- range(x,na.rm = TRUE)\n",
    "    (x - rng[1]) / (rng[2] - rng[1])\n",
    "}\n",
    "\n",
    "rescale(c(0,5,10))"
   ]
  }
 ],
 "metadata": {
  "kernelspec": {
   "display_name": "R",
   "language": "R",
   "name": "ir"
  },
  "language_info": {
   "codemirror_mode": "r",
   "file_extension": ".r",
   "mimetype": "text/x-r-source",
   "name": "R",
   "pygments_lexer": "r",
   "version": "3.2.3"
  }
 },
 "nbformat": 4,
 "nbformat_minor": 4
}
