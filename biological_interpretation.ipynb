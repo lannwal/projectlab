{
 "cells": [
  {
   "cell_type": "markdown",
   "metadata": {},
   "source": [
    "## Biological Interpretation"
   ]
  },
  {
   "cell_type": "code",
   "execution_count": 62,
   "metadata": {},
   "outputs": [],
   "source": [
    "import pandas as pd \n",
    "import numpy as np\n",
    "import seaborn as sns\n",
    "import matplotlib.pyplot as plt\n",
    "import itertools\n",
    "from scipy.stats import pearsonr\n",
    "import networkx as nx\n",
    "from scipy.stats import hypergeom"
   ]
  },
  {
   "cell_type": "code",
   "execution_count": 2,
   "metadata": {},
   "outputs": [],
   "source": [
    "data = pd.read_csv(\"/home/annerer/Dokumente/DepMap_Mining/sample_info.csv\")"
   ]
  },
  {
   "cell_type": "code",
   "execution_count": 3,
   "metadata": {},
   "outputs": [],
   "source": [
    "effect = pd.read_csv(\"/home/annerer/Dokumente/DepMap_Mining/Achilles_gene_effect.csv\")"
   ]
  },
  {
   "cell_type": "code",
   "execution_count": 4,
   "metadata": {},
   "outputs": [],
   "source": [
    "mapping = {}\n",
    "\n",
    "for i in np.arange(0,data.shape[0],1):\n",
    "    mapping[data.DepMap_ID[i]] = data.CCLE_Name[i]\n",
    "\n",
    "effect[\"INDEX\"] = effect.DepMap_ID\n",
    "effect = effect.set_index('INDEX')\n",
    "effect = effect.rename(index=mapping)\n",
    "\n",
    "effect = effect.drop(\"DepMap_ID\",1)\n",
    "\n",
    "gene = effect.columns.to_list()\n",
    "# split at space\n",
    "for i in range(len(gene)):\n",
    "    gene[i] = gene[i].split(\" \") \n",
    "\n",
    "genes = []\n",
    "for i in range(len(gene)):\n",
    "    genes.append(gene[i][0])\n",
    "    \n",
    "effect.columns = genes"
   ]
  },
  {
   "cell_type": "code",
   "execution_count": 29,
   "metadata": {
    "collapsed": true,
    "jupyter": {
     "outputs_hidden": true
    }
   },
   "outputs": [
    {
     "data": {
      "text/html": [
       "<div>\n",
       "<style scoped>\n",
       "    .dataframe tbody tr th:only-of-type {\n",
       "        vertical-align: middle;\n",
       "    }\n",
       "\n",
       "    .dataframe tbody tr th {\n",
       "        vertical-align: top;\n",
       "    }\n",
       "\n",
       "    .dataframe thead th {\n",
       "        text-align: right;\n",
       "    }\n",
       "</style>\n",
       "<table border=\"1\" class=\"dataframe\">\n",
       "  <thead>\n",
       "    <tr style=\"text-align: right;\">\n",
       "      <th></th>\n",
       "      <th>DepMap_ID</th>\n",
       "      <th>stripped_cell_line_name</th>\n",
       "      <th>CCLE_Name</th>\n",
       "      <th>Alias</th>\n",
       "      <th>COSMICID</th>\n",
       "      <th>sex</th>\n",
       "      <th>source</th>\n",
       "      <th>Achilles_n_replicates</th>\n",
       "      <th>cell_line_NNMD</th>\n",
       "      <th>culture_type</th>\n",
       "      <th>...</th>\n",
       "      <th>primary_or_metastasis</th>\n",
       "      <th>primary_disease</th>\n",
       "      <th>Subtype</th>\n",
       "      <th>age</th>\n",
       "      <th>Sanger_Model_ID</th>\n",
       "      <th>depmap_public_comments</th>\n",
       "      <th>lineage</th>\n",
       "      <th>lineage_subtype</th>\n",
       "      <th>lineage_sub_subtype</th>\n",
       "      <th>lineage_molecular_subtype</th>\n",
       "    </tr>\n",
       "  </thead>\n",
       "  <tbody>\n",
       "    <tr>\n",
       "      <th>0</th>\n",
       "      <td>ACH-000001</td>\n",
       "      <td>NIHOVCAR3</td>\n",
       "      <td>NIHOVCAR3_OVARY</td>\n",
       "      <td>OVCAR3</td>\n",
       "      <td>905933.0</td>\n",
       "      <td>Female</td>\n",
       "      <td>ATCC</td>\n",
       "      <td>NaN</td>\n",
       "      <td>NaN</td>\n",
       "      <td>NaN</td>\n",
       "      <td>...</td>\n",
       "      <td>Metastasis</td>\n",
       "      <td>Ovarian Cancer</td>\n",
       "      <td>Adenocarcinoma, high grade serous</td>\n",
       "      <td>60.0</td>\n",
       "      <td>SIDM00105</td>\n",
       "      <td>NaN</td>\n",
       "      <td>ovary</td>\n",
       "      <td>ovary_adenocarcinoma</td>\n",
       "      <td>high_grade_serous</td>\n",
       "      <td>NaN</td>\n",
       "    </tr>\n",
       "    <tr>\n",
       "      <th>1</th>\n",
       "      <td>ACH-000002</td>\n",
       "      <td>HL60</td>\n",
       "      <td>HL60_HAEMATOPOIETIC_AND_LYMPHOID_TISSUE</td>\n",
       "      <td>NaN</td>\n",
       "      <td>905938.0</td>\n",
       "      <td>Female</td>\n",
       "      <td>ATCC</td>\n",
       "      <td>NaN</td>\n",
       "      <td>NaN</td>\n",
       "      <td>NaN</td>\n",
       "      <td>...</td>\n",
       "      <td>Primary</td>\n",
       "      <td>Leukemia</td>\n",
       "      <td>Acute Myelogenous Leukemia (AML), M3 (Promyelo...</td>\n",
       "      <td>35.0</td>\n",
       "      <td>SIDM00829</td>\n",
       "      <td>NaN</td>\n",
       "      <td>blood</td>\n",
       "      <td>AML</td>\n",
       "      <td>M3</td>\n",
       "      <td>NaN</td>\n",
       "    </tr>\n",
       "    <tr>\n",
       "      <th>2</th>\n",
       "      <td>ACH-000003</td>\n",
       "      <td>CACO2</td>\n",
       "      <td>CACO2_LARGE_INTESTINE</td>\n",
       "      <td>CACO2, CaCo-2</td>\n",
       "      <td>NaN</td>\n",
       "      <td>Male</td>\n",
       "      <td>ATCC</td>\n",
       "      <td>NaN</td>\n",
       "      <td>NaN</td>\n",
       "      <td>NaN</td>\n",
       "      <td>...</td>\n",
       "      <td>NaN</td>\n",
       "      <td>Colon/Colorectal Cancer</td>\n",
       "      <td>Adenocarcinoma</td>\n",
       "      <td>NaN</td>\n",
       "      <td>SIDM00891</td>\n",
       "      <td>NaN</td>\n",
       "      <td>colorectal</td>\n",
       "      <td>colorectal_adenocarcinoma</td>\n",
       "      <td>NaN</td>\n",
       "      <td>NaN</td>\n",
       "    </tr>\n",
       "    <tr>\n",
       "      <th>3</th>\n",
       "      <td>ACH-000004</td>\n",
       "      <td>HEL</td>\n",
       "      <td>HEL_HAEMATOPOIETIC_AND_LYMPHOID_TISSUE</td>\n",
       "      <td>NaN</td>\n",
       "      <td>907053.0</td>\n",
       "      <td>Male</td>\n",
       "      <td>DSMZ</td>\n",
       "      <td>2.0</td>\n",
       "      <td>-3.079202</td>\n",
       "      <td>Suspension</td>\n",
       "      <td>...</td>\n",
       "      <td>NaN</td>\n",
       "      <td>Leukemia</td>\n",
       "      <td>Acute Myelogenous Leukemia (AML), M6 (Erythrol...</td>\n",
       "      <td>30.0</td>\n",
       "      <td>SIDM00594</td>\n",
       "      <td>NaN</td>\n",
       "      <td>blood</td>\n",
       "      <td>AML</td>\n",
       "      <td>M6</td>\n",
       "      <td>NaN</td>\n",
       "    </tr>\n",
       "    <tr>\n",
       "      <th>4</th>\n",
       "      <td>ACH-000005</td>\n",
       "      <td>HEL9217</td>\n",
       "      <td>HEL9217_HAEMATOPOIETIC_AND_LYMPHOID_TISSUE</td>\n",
       "      <td>NaN</td>\n",
       "      <td>NaN</td>\n",
       "      <td>Male</td>\n",
       "      <td>ATCC</td>\n",
       "      <td>2.0</td>\n",
       "      <td>-2.404409</td>\n",
       "      <td>Mixed adherent and suspension</td>\n",
       "      <td>...</td>\n",
       "      <td>NaN</td>\n",
       "      <td>Leukemia</td>\n",
       "      <td>Acute Myelogenous Leukemia (AML), M6 (Erythrol...</td>\n",
       "      <td>30.0</td>\n",
       "      <td>SIDM00593</td>\n",
       "      <td>NaN</td>\n",
       "      <td>blood</td>\n",
       "      <td>AML</td>\n",
       "      <td>M6</td>\n",
       "      <td>NaN</td>\n",
       "    </tr>\n",
       "  </tbody>\n",
       "</table>\n",
       "<p>5 rows × 24 columns</p>\n",
       "</div>"
      ],
      "text/plain": [
       "    DepMap_ID stripped_cell_line_name  \\\n",
       "0  ACH-000001               NIHOVCAR3   \n",
       "1  ACH-000002                    HL60   \n",
       "2  ACH-000003                   CACO2   \n",
       "3  ACH-000004                     HEL   \n",
       "4  ACH-000005                 HEL9217   \n",
       "\n",
       "                                    CCLE_Name          Alias  COSMICID  \\\n",
       "0                             NIHOVCAR3_OVARY         OVCAR3  905933.0   \n",
       "1     HL60_HAEMATOPOIETIC_AND_LYMPHOID_TISSUE            NaN  905938.0   \n",
       "2                       CACO2_LARGE_INTESTINE  CACO2, CaCo-2       NaN   \n",
       "3      HEL_HAEMATOPOIETIC_AND_LYMPHOID_TISSUE            NaN  907053.0   \n",
       "4  HEL9217_HAEMATOPOIETIC_AND_LYMPHOID_TISSUE            NaN       NaN   \n",
       "\n",
       "      sex source  Achilles_n_replicates  cell_line_NNMD  \\\n",
       "0  Female   ATCC                    NaN             NaN   \n",
       "1  Female   ATCC                    NaN             NaN   \n",
       "2    Male   ATCC                    NaN             NaN   \n",
       "3    Male   DSMZ                    2.0       -3.079202   \n",
       "4    Male   ATCC                    2.0       -2.404409   \n",
       "\n",
       "                    culture_type  ... primary_or_metastasis  \\\n",
       "0                            NaN  ...            Metastasis   \n",
       "1                            NaN  ...               Primary   \n",
       "2                            NaN  ...                   NaN   \n",
       "3                     Suspension  ...                   NaN   \n",
       "4  Mixed adherent and suspension  ...                   NaN   \n",
       "\n",
       "           primary_disease                                            Subtype  \\\n",
       "0           Ovarian Cancer                  Adenocarcinoma, high grade serous   \n",
       "1                 Leukemia  Acute Myelogenous Leukemia (AML), M3 (Promyelo...   \n",
       "2  Colon/Colorectal Cancer                                     Adenocarcinoma   \n",
       "3                 Leukemia  Acute Myelogenous Leukemia (AML), M6 (Erythrol...   \n",
       "4                 Leukemia  Acute Myelogenous Leukemia (AML), M6 (Erythrol...   \n",
       "\n",
       "    age Sanger_Model_ID depmap_public_comments     lineage  \\\n",
       "0  60.0       SIDM00105                    NaN       ovary   \n",
       "1  35.0       SIDM00829                    NaN       blood   \n",
       "2   NaN       SIDM00891                    NaN  colorectal   \n",
       "3  30.0       SIDM00594                    NaN       blood   \n",
       "4  30.0       SIDM00593                    NaN       blood   \n",
       "\n",
       "             lineage_subtype lineage_sub_subtype lineage_molecular_subtype  \n",
       "0       ovary_adenocarcinoma   high_grade_serous                       NaN  \n",
       "1                        AML                  M3                       NaN  \n",
       "2  colorectal_adenocarcinoma                 NaN                       NaN  \n",
       "3                        AML                  M6                       NaN  \n",
       "4                        AML                  M6                       NaN  \n",
       "\n",
       "[5 rows x 24 columns]"
      ]
     },
     "execution_count": 29,
     "metadata": {},
     "output_type": "execute_result"
    }
   ],
   "source": [
    "data.head()"
   ]
  },
  {
   "cell_type": "markdown",
   "metadata": {},
   "source": [
    "CDK4\tRB1\t-0.270088658037034\tAB\n",
    "CDK4\tCDKN2C\t-0.332894420570415\tAB\n",
    "CDK4\tCCND1\t0.383743671693837\tBA\n",
    "CDK6\tCCND3\t0.429610217617713\tBA\n",
    "CDK6\tCCNE1\t-0.291627386055655\tBA\n",
    "CDK6\tCDK4\t-0.166138251188281\tBA\n",
    "CDKN2A\tCDKN2B\t0.252271039837043\tAB\n",
    "CDKN2A\tCCNE1\t-0.164517699579397\tBA\n",
    "\n",
    "--------------------------------\n",
    "\n",
    "NF2\tAMOTL2\t0.604088180582646\tBA\n",
    "NF2\tKIRREL1\t0.557319887509312\tBA\n",
    "NF2\tTAOK1\t0.537086753404031\tAB\n",
    "NF2\tLATS2\t0.522628225045063\tBA\n",
    "NF2\tPTPN14\t0.426594811534134\tAB\n",
    "NF2\tPTEN\t0.280261686290702\tAB\n",
    "NF2\tABL2\t0.251003837455685\tBA\n",
    "NF2\tRAC1\t-0.345269416089392\tAB    == in string\n",
    "NF2\tCRK\t-0.404878434040191\tBA        \n",
    "NF2\tDLG5\t-0.405139954747337\tBA\n",
    "NF2\tPKN2\t-0.445751736055664\tAB"
   ]
  },
  {
   "cell_type": "code",
   "execution_count": 6,
   "metadata": {},
   "outputs": [
    {
     "name": "stdout",
     "output_type": "stream",
     "text": [
      "765\n",
      "1781\n",
      "765\n"
     ]
    }
   ],
   "source": [
    "effect = pd.read_csv(\"/home/annerer/Dokumente/DepMap_Mining/Achilles_gene_effect.csv\")\n",
    "data = pd.read_csv(\"/home/annerer/Dokumente/DepMap_Mining/sample_info.csv\")\n",
    "\n",
    "mapping = {}\n",
    "\n",
    "for i in np.arange(0,data.shape[0],1):\n",
    "    mapping[data.DepMap_ID[i]] = data.CCLE_Name[i]\n",
    "\n",
    "effect[\"INDEX\"] = effect.DepMap_ID\n",
    "effect = effect.set_index('INDEX')\n",
    "effect = effect.rename(index=mapping)\n",
    "effect = effect.drop(\"DepMap_ID\",1)\n",
    "\n",
    "gene = effect.columns.to_list()\n",
    "# split at space\n",
    "for i in range(len(gene)):\n",
    "    gene[i] = gene[i].split(\" \") \n",
    "\n",
    "genes = []\n",
    "for i in range(len(gene)):\n",
    "    genes.append(gene[i][0])\n",
    "                 \n",
    "effect.columns = genes\n",
    "\n",
    "\n",
    "cellLine = effect.index.to_list()\n",
    "# split at space\n",
    "for i in range(len(cellLine)):\n",
    "    cellLine[i] = cellLine[i].split(\"_\") \n",
    "\n",
    "cellLines = []\n",
    "for i in range(len(cellLine)):\n",
    "    cellLines.append(cellLine[i][0])\n",
    "    \n",
    "effect.index = cellLines\n",
    "\n",
    "cellLine = data['CCLE_Name'].to_list()\n",
    "# split at space\n",
    "for i in range(len(cellLine)):\n",
    "    cellLine[i] = cellLine[i].split(\"_\") \n",
    "\n",
    "cellLines1 = []\n",
    "for i in range(len(cellLine)):\n",
    "    cellLines1.append(cellLine[i][0])\n",
    "    \n",
    "data['CCLE_Name'] = cellLines1\n",
    "\n",
    "\n",
    "a = set(cellLines)\n",
    "b = set(data[\"CCLE_Name\"])\n",
    "c = set.intersection(a,b)\n",
    "\n",
    "print(len(a))\n",
    "print(len(b))\n",
    "print(len(c))\n",
    "\n",
    "cellL = c"
   ]
  },
  {
   "cell_type": "code",
   "execution_count": 9,
   "metadata": {},
   "outputs": [],
   "source": [
    "data = pd.read_csv(\"/home/annerer/Downloads/elife-58925-supp1-v3.csv\")\n",
    "\n",
    "temp1 = data['CCLE_NAME'].to_list()\n",
    "# split at space\n",
    "for i in range(len(temp1)):\n",
    "    temp1[i] = temp1[i].split(\"_\") \n",
    "\n",
    "temp2 = []\n",
    "for i in range(len(temp1)):\n",
    "    temp2.append(temp1[i][0])"
   ]
  },
  {
   "cell_type": "code",
   "execution_count": 92,
   "metadata": {},
   "outputs": [],
   "source": [
    "allGenes = effect[effect.columns.intersection(cellL)]"
   ]
  },
  {
   "cell_type": "code",
   "execution_count": 93,
   "metadata": {},
   "outputs": [
    {
     "data": {
      "text/html": [
       "<div>\n",
       "<style scoped>\n",
       "    .dataframe tbody tr th:only-of-type {\n",
       "        vertical-align: middle;\n",
       "    }\n",
       "\n",
       "    .dataframe tbody tr th {\n",
       "        vertical-align: top;\n",
       "    }\n",
       "\n",
       "    .dataframe thead th {\n",
       "        text-align: right;\n",
       "    }\n",
       "</style>\n",
       "<table border=\"1\" class=\"dataframe\">\n",
       "  <thead>\n",
       "    <tr style=\"text-align: right;\">\n",
       "      <th></th>\n",
       "      <th>A1BG</th>\n",
       "      <th>A1CF</th>\n",
       "      <th>A2M</th>\n",
       "      <th>A2ML1</th>\n",
       "      <th>A3GALT2</th>\n",
       "      <th>A4GALT</th>\n",
       "      <th>A4GNT</th>\n",
       "      <th>AAAS</th>\n",
       "      <th>AACS</th>\n",
       "      <th>AADAC</th>\n",
       "      <th>...</th>\n",
       "      <th>ZWILCH</th>\n",
       "      <th>ZWINT</th>\n",
       "      <th>ZXDA</th>\n",
       "      <th>ZXDB</th>\n",
       "      <th>ZXDC</th>\n",
       "      <th>ZYG11A</th>\n",
       "      <th>ZYG11B</th>\n",
       "      <th>ZYX</th>\n",
       "      <th>ZZEF1</th>\n",
       "      <th>ZZZ3</th>\n",
       "    </tr>\n",
       "  </thead>\n",
       "  <tbody>\n",
       "    <tr>\n",
       "      <th>HEL</th>\n",
       "      <td>0.178087</td>\n",
       "      <td>0.088290</td>\n",
       "      <td>-0.201464</td>\n",
       "      <td>-0.017011</td>\n",
       "      <td>0.042590</td>\n",
       "      <td>-0.192257</td>\n",
       "      <td>0.352891</td>\n",
       "      <td>-0.445209</td>\n",
       "      <td>0.292603</td>\n",
       "      <td>0.165168</td>\n",
       "      <td>...</td>\n",
       "      <td>-0.122795</td>\n",
       "      <td>-0.464567</td>\n",
       "      <td>NaN</td>\n",
       "      <td>NaN</td>\n",
       "      <td>0.258084</td>\n",
       "      <td>0.237593</td>\n",
       "      <td>-0.408563</td>\n",
       "      <td>0.291832</td>\n",
       "      <td>0.218575</td>\n",
       "      <td>-0.139759</td>\n",
       "    </tr>\n",
       "    <tr>\n",
       "      <th>HEL9217</th>\n",
       "      <td>-0.082364</td>\n",
       "      <td>0.239413</td>\n",
       "      <td>0.195457</td>\n",
       "      <td>0.163763</td>\n",
       "      <td>-0.188161</td>\n",
       "      <td>-0.338735</td>\n",
       "      <td>0.254489</td>\n",
       "      <td>-0.583878</td>\n",
       "      <td>-0.060615</td>\n",
       "      <td>0.015272</td>\n",
       "      <td>...</td>\n",
       "      <td>-0.195061</td>\n",
       "      <td>-0.408063</td>\n",
       "      <td>-0.155155</td>\n",
       "      <td>-0.067415</td>\n",
       "      <td>0.229242</td>\n",
       "      <td>-0.075883</td>\n",
       "      <td>-0.104001</td>\n",
       "      <td>0.075901</td>\n",
       "      <td>0.036985</td>\n",
       "      <td>-0.243303</td>\n",
       "    </tr>\n",
       "    <tr>\n",
       "      <th>LS513</th>\n",
       "      <td>0.070026</td>\n",
       "      <td>0.075066</td>\n",
       "      <td>-0.064637</td>\n",
       "      <td>0.156905</td>\n",
       "      <td>0.099075</td>\n",
       "      <td>0.141985</td>\n",
       "      <td>0.066314</td>\n",
       "      <td>-0.477023</td>\n",
       "      <td>-0.006855</td>\n",
       "      <td>0.291604</td>\n",
       "      <td>...</td>\n",
       "      <td>-0.093252</td>\n",
       "      <td>-0.276874</td>\n",
       "      <td>-0.049716</td>\n",
       "      <td>0.116683</td>\n",
       "      <td>0.211699</td>\n",
       "      <td>-0.012654</td>\n",
       "      <td>-0.351716</td>\n",
       "      <td>0.089140</td>\n",
       "      <td>-0.392549</td>\n",
       "      <td>-0.442624</td>\n",
       "    </tr>\n",
       "    <tr>\n",
       "      <th>C2BBE1</th>\n",
       "      <td>0.107048</td>\n",
       "      <td>-0.006352</td>\n",
       "      <td>-0.053166</td>\n",
       "      <td>0.053055</td>\n",
       "      <td>0.081620</td>\n",
       "      <td>-0.038305</td>\n",
       "      <td>0.082421</td>\n",
       "      <td>-0.642935</td>\n",
       "      <td>0.159178</td>\n",
       "      <td>0.064128</td>\n",
       "      <td>...</td>\n",
       "      <td>-0.280677</td>\n",
       "      <td>-0.230111</td>\n",
       "      <td>-0.106000</td>\n",
       "      <td>0.041611</td>\n",
       "      <td>0.083021</td>\n",
       "      <td>0.022771</td>\n",
       "      <td>-0.596777</td>\n",
       "      <td>0.197627</td>\n",
       "      <td>-0.106398</td>\n",
       "      <td>-0.549259</td>\n",
       "    </tr>\n",
       "    <tr>\n",
       "      <th>253J</th>\n",
       "      <td>0.280508</td>\n",
       "      <td>0.079860</td>\n",
       "      <td>0.016981</td>\n",
       "      <td>0.439139</td>\n",
       "      <td>-0.042239</td>\n",
       "      <td>-0.242560</td>\n",
       "      <td>0.103028</td>\n",
       "      <td>-0.419159</td>\n",
       "      <td>0.141445</td>\n",
       "      <td>0.115857</td>\n",
       "      <td>...</td>\n",
       "      <td>-0.410500</td>\n",
       "      <td>-0.507467</td>\n",
       "      <td>-0.138665</td>\n",
       "      <td>-0.119292</td>\n",
       "      <td>0.284407</td>\n",
       "      <td>0.158124</td>\n",
       "      <td>-0.240429</td>\n",
       "      <td>0.124847</td>\n",
       "      <td>-0.250949</td>\n",
       "      <td>-0.379117</td>\n",
       "    </tr>\n",
       "  </tbody>\n",
       "</table>\n",
       "<p>5 rows × 18119 columns</p>\n",
       "</div>"
      ],
      "text/plain": [
       "             A1BG      A1CF       A2M     A2ML1   A3GALT2    A4GALT     A4GNT  \\\n",
       "HEL      0.178087  0.088290 -0.201464 -0.017011  0.042590 -0.192257  0.352891   \n",
       "HEL9217 -0.082364  0.239413  0.195457  0.163763 -0.188161 -0.338735  0.254489   \n",
       "LS513    0.070026  0.075066 -0.064637  0.156905  0.099075  0.141985  0.066314   \n",
       "C2BBE1   0.107048 -0.006352 -0.053166  0.053055  0.081620 -0.038305  0.082421   \n",
       "253J     0.280508  0.079860  0.016981  0.439139 -0.042239 -0.242560  0.103028   \n",
       "\n",
       "             AAAS      AACS     AADAC  ...    ZWILCH     ZWINT      ZXDA  \\\n",
       "HEL     -0.445209  0.292603  0.165168  ... -0.122795 -0.464567       NaN   \n",
       "HEL9217 -0.583878 -0.060615  0.015272  ... -0.195061 -0.408063 -0.155155   \n",
       "LS513   -0.477023 -0.006855  0.291604  ... -0.093252 -0.276874 -0.049716   \n",
       "C2BBE1  -0.642935  0.159178  0.064128  ... -0.280677 -0.230111 -0.106000   \n",
       "253J    -0.419159  0.141445  0.115857  ... -0.410500 -0.507467 -0.138665   \n",
       "\n",
       "             ZXDB      ZXDC    ZYG11A    ZYG11B       ZYX     ZZEF1      ZZZ3  \n",
       "HEL           NaN  0.258084  0.237593 -0.408563  0.291832  0.218575 -0.139759  \n",
       "HEL9217 -0.067415  0.229242 -0.075883 -0.104001  0.075901  0.036985 -0.243303  \n",
       "LS513    0.116683  0.211699 -0.012654 -0.351716  0.089140 -0.392549 -0.442624  \n",
       "C2BBE1   0.041611  0.083021  0.022771 -0.596777  0.197627 -0.106398 -0.549259  \n",
       "253J    -0.119292  0.284407  0.158124 -0.240429  0.124847 -0.250949 -0.379117  \n",
       "\n",
       "[5 rows x 18119 columns]"
      ]
     },
     "execution_count": 93,
     "metadata": {},
     "output_type": "execute_result"
    }
   ],
   "source": [
    "effect = effect.transpose()\n",
    "intersect = list(set.intersection(set(allGenes.index.to_list()), set(cellL)))\n",
    "allGenes = effect[effect.columns.intersection(cellL)]\n",
    "\n",
    "allGenes.shape\n",
    "allGenes = allGenes.transpose()\n",
    "\n",
    "allGenes.head()"
   ]
  },
  {
   "cell_type": "code",
   "execution_count": null,
   "metadata": {},
   "outputs": [],
   "source": []
  },
  {
   "cell_type": "code",
   "execution_count": 161,
   "metadata": {},
   "outputs": [],
   "source": [
    "def celllines_from_diff1(gene_a,gene_b):\n",
    "    def diff(gene_a,gene_b):\n",
    "        \"\"\" takes 2 genes and returns the cell lines\n",
    "        for which those two genes have a high correlation\n",
    "        or anticorrelation in gene effect\"\"\"\n",
    "        diff = np.abs(effect[gene_a] - effect[gene_b])\n",
    "        return (diff) \n",
    "    diff1 = diff(gene_a,gene_b)\n",
    "    diff1_top = diff1.sort_values().tail(20).index.to_list()\n",
    "    diff1_bottom = diff1.sort_values().head(20).index.to_list()\n",
    "    print('first is top, second is bottom')\n",
    "    plt.plot(diff1.sort_values())\n",
    "    return([diff1_top,diff1_bottom])\n",
    "\n",
    "def celllines_from_sums1(gene_a,gene_b):\n",
    "        def summ(gene_a,gene_b):\n",
    "            summ = np.abs(effect[gene_a] + effect[gene_b])\n",
    "            return summ\n",
    "        summ1 = summ(gene_a,gene_b)\n",
    "        summ1_top = summ1.sort_values().tail(20).index.to_list()\n",
    "        summ1_bottom = summ1.sort_values().head(20).index.to_list()\n",
    "        print('first is top, second is bottom')\n",
    "        return([summ1_top,summ1_bottom])"
   ]
  },
  {
   "cell_type": "code",
   "execution_count": 12,
   "metadata": {},
   "outputs": [],
   "source": [
    "def celllines_from_diff(gene_a,gene_b):\n",
    "    def diff(gene_a,gene_b):\n",
    "        \"\"\" takes 2 genes and returns the cell lines\n",
    "        for which those two genes have a high correlation\n",
    "        or anticorrelation in gene effect\"\"\"\n",
    "        diff = np.abs(allGenes[gene_a] - allGenes[gene_b])\n",
    "        return (diff) \n",
    "    diff1 = diff(gene_a,gene_b)\n",
    "    diff1_top = diff1.sort_values().tail(20).index.to_list()\n",
    "    diff1_bottom = diff1.sort_values().head(20).index.to_list()\n",
    "    #print('first is top, second is bottom')\n",
    "    #plt.plot(diff1.sort_values())\n",
    "    allGenesSet = set(allGenes.index.to_list())\n",
    "    top_group1 = diff1_top\n",
    "    top_group2 = list(allGenesSet.difference(set(top_group1)))\n",
    "    #len(group2)\n",
    "    bottom_group1 = diff1_bottom\n",
    "    bottom_group2 = list(allGenesSet.difference(set(bottom_group1)))\n",
    "    return([top_group1,top_group2,bottom_group1,bottom_group2,gene_a,gene_b])\n",
    "\n",
    "def celllines_from_sums(gene_a,gene_b):\n",
    "        def summ(gene_a,gene_b):\n",
    "            summ = np.abs(allGenes[gene_a] + allGenes[gene_b])\n",
    "            return summ\n",
    "        summ1 = summ(gene_a,gene_b)\n",
    "        summ1_top = summ1.sort_values().tail(20).index.to_list()\n",
    "        summ1_bottom = summ1.sort_values().head(20).index.to_list()\n",
    "        print('first is top, second is bottom')\n",
    "        return([summ1_top,summ1_bottom])"
   ]
  },
  {
   "cell_type": "code",
   "execution_count": 61,
   "metadata": {},
   "outputs": [],
   "source": [
    "uli_list1 = [['CDK4','RB1'],\n",
    "['CDK4','CDKN2C'],\n",
    "['CDK4','CCND1'],\n",
    "['CDK6','CCND3'],\n",
    "['CDK6','CCNE1'],\n",
    "['CDK6','CDK4'],\n",
    "['CDKN2A','CDKN2B'],\n",
    "['CDKN2A','CCNE1']]\n",
    "\n",
    "\n",
    "uli_list2 = [['NF2','AMOTL2'],\n",
    "['NF2','KIRREL1'],\n",
    "['NF2','TAOK1'],\n",
    "['NF2','LATS2'],\n",
    "['NF2','PTPN14'],\n",
    "['NF2','PTEN'],\n",
    "['NF2','ABL2'],\n",
    "['NF2','RAC1'],\n",
    "['NF2','CRK'],    \n",
    "['NF2','DLG5'],\n",
    "['NF2','PKN2']]"
   ]
  },
  {
   "cell_type": "code",
   "execution_count": 87,
   "metadata": {},
   "outputs": [],
   "source": [
    "uli_list = [['CDK4','RB1'],['CDK4','CDKN2C'],['CDK4','CCND1'],['CDK6','CCND3'],['CDK6','CCNE1'],['CDK6','CDK4'],['CDKN2A','CDKN2B'],\n",
    "['CDKN2A','CCNE1'],['NF2','AMOTL2'],['NF2','KIRREL1'],['NF2','TAOK1'],['NF2','LATS2'],['NF2','PTPN14'],['NF2','PTEN'],['NF2','ABL2'],['NF2','RAC1'],['NF2','CRK'],['NF2','DLG5'],['NF2','PKN2']]"
   ]
  },
  {
   "cell_type": "code",
   "execution_count": 226,
   "metadata": {},
   "outputs": [],
   "source": [
    "column_names_uli_list = ['CDK4/RB1','CDK4/CDKN2C','CDK4/CCND1','CDK6/CCND3','CDK6/CCNE1','CDK6/CDK4','CDKN2A/CDKN2B',\n",
    "'CDKN2A/CCNE1','NF2/AMOTL2','NF2/KIRREL1','NF2/TAOK1','NF2/LATS2','NF2/PTPN14','NF2/PTEN','NF2/ABL2','NF2/RAC1','NF2/CRK','NF2/DLG5','NF2/PKN2']"
   ]
  },
  {
   "cell_type": "code",
   "execution_count": 89,
   "metadata": {},
   "outputs": [
    {
     "ename": "NameError",
     "evalue": "name 'allGenes' is not defined",
     "output_type": "error",
     "traceback": [
      "\u001b[0;31m---------------------------------------------------------------------------\u001b[0m",
      "\u001b[0;31mNameError\u001b[0m                                 Traceback (most recent call last)",
      "\u001b[0;32m<ipython-input-89-53476e1ee597>\u001b[0m in \u001b[0;36m<module>\u001b[0;34m\u001b[0m\n\u001b[0;32m----> 1\u001b[0;31m \u001b[0mallGenesSet\u001b[0m \u001b[0;34m=\u001b[0m \u001b[0mset\u001b[0m\u001b[0;34m(\u001b[0m\u001b[0mallGenes\u001b[0m\u001b[0;34m.\u001b[0m\u001b[0mcolumns\u001b[0m\u001b[0;34m)\u001b[0m\u001b[0;34m\u001b[0m\u001b[0;34m\u001b[0m\u001b[0m\n\u001b[0m\u001b[1;32m      2\u001b[0m \u001b[0mgroup2\u001b[0m \u001b[0;34m=\u001b[0m \u001b[0mallGenesSet\u001b[0m\u001b[0;34m.\u001b[0m\u001b[0mdifference\u001b[0m\u001b[0;34m(\u001b[0m\u001b[0mset\u001b[0m\u001b[0;34m(\u001b[0m\u001b[0ma\u001b[0m\u001b[0;34m)\u001b[0m\u001b[0;34m)\u001b[0m\u001b[0;34m\u001b[0m\u001b[0;34m\u001b[0m\u001b[0m\n\u001b[1;32m      3\u001b[0m \u001b[0;34m\u001b[0m\u001b[0m\n\u001b[1;32m      4\u001b[0m \u001b[0mlen\u001b[0m\u001b[0;34m(\u001b[0m\u001b[0mgroup2\u001b[0m\u001b[0;34m)\u001b[0m\u001b[0;34m\u001b[0m\u001b[0;34m\u001b[0m\u001b[0m\n",
      "\u001b[0;31mNameError\u001b[0m: name 'allGenes' is not defined"
     ]
    }
   ],
   "source": [
    "allGenesSet = set(allGenes.columns)\n",
    "group2 = allGenesSet.difference(set(a))\n",
    "\n",
    "len(group2)"
   ]
  },
  {
   "cell_type": "code",
   "execution_count": 75,
   "metadata": {},
   "outputs": [],
   "source": [
    "allGenes.columns = group2"
   ]
  },
  {
   "cell_type": "code",
   "execution_count": 122,
   "metadata": {},
   "outputs": [
    {
     "data": {
      "text/plain": [
       "(783, 18119)"
      ]
     },
     "execution_count": 122,
     "metadata": {},
     "output_type": "execute_result"
    }
   ],
   "source": [
    "allGenes.shape"
   ]
  },
  {
   "cell_type": "code",
   "execution_count": 77,
   "metadata": {},
   "outputs": [
    {
     "data": {
      "text/html": [
       "<div>\n",
       "<style scoped>\n",
       "    .dataframe tbody tr th:only-of-type {\n",
       "        vertical-align: middle;\n",
       "    }\n",
       "\n",
       "    .dataframe tbody tr th {\n",
       "        vertical-align: top;\n",
       "    }\n",
       "\n",
       "    .dataframe thead th {\n",
       "        text-align: right;\n",
       "    }\n",
       "</style>\n",
       "<table border=\"1\" class=\"dataframe\">\n",
       "  <thead>\n",
       "    <tr style=\"text-align: right;\">\n",
       "      <th></th>\n",
       "      <th>SNX13</th>\n",
       "      <th>BSX</th>\n",
       "      <th>SEPT3</th>\n",
       "      <th>DGKZ</th>\n",
       "      <th>COPS7B</th>\n",
       "      <th>SPNS2</th>\n",
       "      <th>SRRM4</th>\n",
       "      <th>NPAS1</th>\n",
       "      <th>CTTNBP2NL</th>\n",
       "      <th>C19orf53</th>\n",
       "      <th>...</th>\n",
       "      <th>TMOD2</th>\n",
       "      <th>TOM1</th>\n",
       "      <th>TRPV3</th>\n",
       "      <th>ADGRF1</th>\n",
       "      <th>DAXX</th>\n",
       "      <th>LACRT</th>\n",
       "      <th>MNT</th>\n",
       "      <th>KRTAP21-2</th>\n",
       "      <th>USP40</th>\n",
       "      <th>ABI1</th>\n",
       "    </tr>\n",
       "  </thead>\n",
       "  <tbody>\n",
       "    <tr>\n",
       "      <th>HEL</th>\n",
       "      <td>0.178087</td>\n",
       "      <td>0.088290</td>\n",
       "      <td>-0.201464</td>\n",
       "      <td>-0.017011</td>\n",
       "      <td>0.042590</td>\n",
       "      <td>-0.192257</td>\n",
       "      <td>0.352891</td>\n",
       "      <td>-0.445209</td>\n",
       "      <td>0.292603</td>\n",
       "      <td>0.165168</td>\n",
       "      <td>...</td>\n",
       "      <td>-0.122795</td>\n",
       "      <td>-0.464567</td>\n",
       "      <td>NaN</td>\n",
       "      <td>NaN</td>\n",
       "      <td>0.258084</td>\n",
       "      <td>0.237593</td>\n",
       "      <td>-0.408563</td>\n",
       "      <td>0.291832</td>\n",
       "      <td>0.218575</td>\n",
       "      <td>-0.139759</td>\n",
       "    </tr>\n",
       "    <tr>\n",
       "      <th>HEL9217</th>\n",
       "      <td>-0.082364</td>\n",
       "      <td>0.239413</td>\n",
       "      <td>0.195457</td>\n",
       "      <td>0.163763</td>\n",
       "      <td>-0.188161</td>\n",
       "      <td>-0.338735</td>\n",
       "      <td>0.254489</td>\n",
       "      <td>-0.583878</td>\n",
       "      <td>-0.060615</td>\n",
       "      <td>0.015272</td>\n",
       "      <td>...</td>\n",
       "      <td>-0.195061</td>\n",
       "      <td>-0.408063</td>\n",
       "      <td>-0.155155</td>\n",
       "      <td>-0.067415</td>\n",
       "      <td>0.229242</td>\n",
       "      <td>-0.075883</td>\n",
       "      <td>-0.104001</td>\n",
       "      <td>0.075901</td>\n",
       "      <td>0.036985</td>\n",
       "      <td>-0.243303</td>\n",
       "    </tr>\n",
       "    <tr>\n",
       "      <th>LS513</th>\n",
       "      <td>0.070026</td>\n",
       "      <td>0.075066</td>\n",
       "      <td>-0.064637</td>\n",
       "      <td>0.156905</td>\n",
       "      <td>0.099075</td>\n",
       "      <td>0.141985</td>\n",
       "      <td>0.066314</td>\n",
       "      <td>-0.477023</td>\n",
       "      <td>-0.006855</td>\n",
       "      <td>0.291604</td>\n",
       "      <td>...</td>\n",
       "      <td>-0.093252</td>\n",
       "      <td>-0.276874</td>\n",
       "      <td>-0.049716</td>\n",
       "      <td>0.116683</td>\n",
       "      <td>0.211699</td>\n",
       "      <td>-0.012654</td>\n",
       "      <td>-0.351716</td>\n",
       "      <td>0.089140</td>\n",
       "      <td>-0.392549</td>\n",
       "      <td>-0.442624</td>\n",
       "    </tr>\n",
       "    <tr>\n",
       "      <th>C2BBE1</th>\n",
       "      <td>0.107048</td>\n",
       "      <td>-0.006352</td>\n",
       "      <td>-0.053166</td>\n",
       "      <td>0.053055</td>\n",
       "      <td>0.081620</td>\n",
       "      <td>-0.038305</td>\n",
       "      <td>0.082421</td>\n",
       "      <td>-0.642935</td>\n",
       "      <td>0.159178</td>\n",
       "      <td>0.064128</td>\n",
       "      <td>...</td>\n",
       "      <td>-0.280677</td>\n",
       "      <td>-0.230111</td>\n",
       "      <td>-0.106000</td>\n",
       "      <td>0.041611</td>\n",
       "      <td>0.083021</td>\n",
       "      <td>0.022771</td>\n",
       "      <td>-0.596777</td>\n",
       "      <td>0.197627</td>\n",
       "      <td>-0.106398</td>\n",
       "      <td>-0.549259</td>\n",
       "    </tr>\n",
       "    <tr>\n",
       "      <th>253J</th>\n",
       "      <td>0.280508</td>\n",
       "      <td>0.079860</td>\n",
       "      <td>0.016981</td>\n",
       "      <td>0.439139</td>\n",
       "      <td>-0.042239</td>\n",
       "      <td>-0.242560</td>\n",
       "      <td>0.103028</td>\n",
       "      <td>-0.419159</td>\n",
       "      <td>0.141445</td>\n",
       "      <td>0.115857</td>\n",
       "      <td>...</td>\n",
       "      <td>-0.410500</td>\n",
       "      <td>-0.507467</td>\n",
       "      <td>-0.138665</td>\n",
       "      <td>-0.119292</td>\n",
       "      <td>0.284407</td>\n",
       "      <td>0.158124</td>\n",
       "      <td>-0.240429</td>\n",
       "      <td>0.124847</td>\n",
       "      <td>-0.250949</td>\n",
       "      <td>-0.379117</td>\n",
       "    </tr>\n",
       "  </tbody>\n",
       "</table>\n",
       "<p>5 rows × 18119 columns</p>\n",
       "</div>"
      ],
      "text/plain": [
       "            SNX13       BSX     SEPT3      DGKZ    COPS7B     SPNS2     SRRM4  \\\n",
       "HEL      0.178087  0.088290 -0.201464 -0.017011  0.042590 -0.192257  0.352891   \n",
       "HEL9217 -0.082364  0.239413  0.195457  0.163763 -0.188161 -0.338735  0.254489   \n",
       "LS513    0.070026  0.075066 -0.064637  0.156905  0.099075  0.141985  0.066314   \n",
       "C2BBE1   0.107048 -0.006352 -0.053166  0.053055  0.081620 -0.038305  0.082421   \n",
       "253J     0.280508  0.079860  0.016981  0.439139 -0.042239 -0.242560  0.103028   \n",
       "\n",
       "            NPAS1  CTTNBP2NL  C19orf53  ...     TMOD2      TOM1     TRPV3  \\\n",
       "HEL     -0.445209   0.292603  0.165168  ... -0.122795 -0.464567       NaN   \n",
       "HEL9217 -0.583878  -0.060615  0.015272  ... -0.195061 -0.408063 -0.155155   \n",
       "LS513   -0.477023  -0.006855  0.291604  ... -0.093252 -0.276874 -0.049716   \n",
       "C2BBE1  -0.642935   0.159178  0.064128  ... -0.280677 -0.230111 -0.106000   \n",
       "253J    -0.419159   0.141445  0.115857  ... -0.410500 -0.507467 -0.138665   \n",
       "\n",
       "           ADGRF1      DAXX     LACRT       MNT  KRTAP21-2     USP40      ABI1  \n",
       "HEL           NaN  0.258084  0.237593 -0.408563   0.291832  0.218575 -0.139759  \n",
       "HEL9217 -0.067415  0.229242 -0.075883 -0.104001   0.075901  0.036985 -0.243303  \n",
       "LS513    0.116683  0.211699 -0.012654 -0.351716   0.089140 -0.392549 -0.442624  \n",
       "C2BBE1   0.041611  0.083021  0.022771 -0.596777   0.197627 -0.106398 -0.549259  \n",
       "253J    -0.119292  0.284407  0.158124 -0.240429   0.124847 -0.250949 -0.379117  \n",
       "\n",
       "[5 rows x 18119 columns]"
      ]
     },
     "execution_count": 77,
     "metadata": {},
     "output_type": "execute_result"
    }
   ],
   "source": [
    "allGenes.head()"
   ]
  },
  {
   "cell_type": "markdown",
   "metadata": {},
   "source": [
    "*    M is the population size\n",
    "*    n is the number of successes in the population\n",
    "*    N is the sample size\n",
    "*    X is still the number of drawn “successes”\n",
    "\n",
    "pval = hypergeom.sf(4, 783, 121, 20)\n",
    "pval"
   ]
  },
  {
   "cell_type": "code",
   "execution_count": null,
   "metadata": {},
   "outputs": [],
   "source": [
    "from scipy.stats import hypergeom\n",
    "pval = hypergeom.sf(x-1, M, n, N)"
   ]
  },
  {
   "cell_type": "code",
   "execution_count": 80,
   "metadata": {},
   "outputs": [
    {
     "data": {
      "text/plain": [
       "1.8349602035035028e-07"
      ]
     },
     "execution_count": 80,
     "metadata": {},
     "output_type": "execute_result"
    }
   ],
   "source": [
    "from scipy.stats import hypergeom\n",
    "pval = hypergeom.sf(12-1, 18000, 2000, 20)\n",
    "pval"
   ]
  },
  {
   "cell_type": "code",
   "execution_count": 104,
   "metadata": {},
   "outputs": [
    {
     "data": {
      "text/plain": [
       "783"
      ]
     },
     "execution_count": 104,
     "metadata": {},
     "output_type": "execute_result"
    }
   ],
   "source": [
    "#hits = count / len(sample)   - it's just count\n",
    "# totalCount\n",
    "len(allGenes.index.to_list())"
   ]
  },
  {
   "cell_type": "code",
   "execution_count": 108,
   "metadata": {},
   "outputs": [
    {
     "data": {
      "text/plain": [
       "0.1835365353530391"
      ]
     },
     "execution_count": 108,
     "metadata": {},
     "output_type": "execute_result"
    }
   ],
   "source": [
    "pval = hypergeom.sf(4, 783, 121, 20)\n",
    "pval"
   ]
  },
  {
   "cell_type": "code",
   "execution_count": 60,
   "metadata": {},
   "outputs": [],
   "source": [
    "def get_hypergeometric_p_values(count,totalCount,sample_size=20):\n",
    "    count = count - 1\n",
    "    pval = hypergeom.sf(count, 783, totalCount, sample_size)\n",
    "    return pval"
   ]
  },
  {
   "cell_type": "code",
   "execution_count": 101,
   "metadata": {},
   "outputs": [],
   "source": [
    "def get_hypergeometric_p_values2(t1,t2,b1,b2,sample_size=20):\n",
    "    t1 = t1 - 1\n",
    "    b1 = b1 - 1\n",
    "    pval1 = hypergeom.sf(t1, 783, t2, sample_size)\n",
    "    pval2 = hypergeom.sf(b1, 783, b2, sample_size)\n",
    "\n",
    "    return [pval1,pval2]"
   ]
  },
  {
   "cell_type": "code",
   "execution_count": 121,
   "metadata": {},
   "outputs": [
    {
     "data": {
      "text/plain": [
       "0.1835365353530391"
      ]
     },
     "execution_count": 121,
     "metadata": {},
     "output_type": "execute_result"
    }
   ],
   "source": [
    "sample_size = len(top)\n",
    "get_hypergeometric_p_values(count,totalCount,sample_size)"
   ]
  },
  {
   "cell_type": "markdown",
   "metadata": {},
   "source": [
    "### functions i need: \n",
    "   * celllines from diffs + splitting function\n",
    "   * get_hypergeometric_p_values\n",
    "   * np.sort, or df.sort_by() after converting to DataFrame"
   ]
  },
  {
   "cell_type": "code",
   "execution_count": 148,
   "metadata": {},
   "outputs": [
    {
     "data": {
      "text/html": [
       "<div>\n",
       "<style scoped>\n",
       "    .dataframe tbody tr th:only-of-type {\n",
       "        vertical-align: middle;\n",
       "    }\n",
       "\n",
       "    .dataframe tbody tr th {\n",
       "        vertical-align: top;\n",
       "    }\n",
       "\n",
       "    .dataframe thead th {\n",
       "        text-align: right;\n",
       "    }\n",
       "</style>\n",
       "<table border=\"1\" class=\"dataframe\">\n",
       "  <thead>\n",
       "    <tr style=\"text-align: right;\">\n",
       "      <th></th>\n",
       "      <th>CCLE_NAME</th>\n",
       "      <th>TISSUE_FACTOR</th>\n",
       "      <th>MSI</th>\n",
       "      <th>ACVR1B_mut_del</th>\n",
       "      <th>APC_mut_del</th>\n",
       "      <th>ARID1A_mut_del</th>\n",
       "      <th>ATM_mut_del</th>\n",
       "      <th>ATRX_mut_del</th>\n",
       "      <th>AXIN1_mut_del</th>\n",
       "      <th>BAP1_mut_del</th>\n",
       "      <th>...</th>\n",
       "      <th>PIK3CA_mut</th>\n",
       "      <th>BRAF_mut</th>\n",
       "      <th>CTNNB1_mut</th>\n",
       "      <th>KRAS_mut</th>\n",
       "      <th>NRAS_mut</th>\n",
       "      <th>GNAS_mut</th>\n",
       "      <th>HRAS_mut</th>\n",
       "      <th>EGFR_mut</th>\n",
       "      <th>MAP2K1_mut</th>\n",
       "      <th>PTPN11_mut</th>\n",
       "    </tr>\n",
       "  </thead>\n",
       "  <tbody>\n",
       "    <tr>\n",
       "      <th>0</th>\n",
       "      <td>MOLM16_HAEMATOPOIETIC_AND_LYMPHOID_TISSUE</td>\n",
       "      <td>HAEMATOPOIETIC_AND_LYMPHOID_TISSUE</td>\n",
       "      <td>0</td>\n",
       "      <td>0</td>\n",
       "      <td>0</td>\n",
       "      <td>0</td>\n",
       "      <td>0</td>\n",
       "      <td>0</td>\n",
       "      <td>0</td>\n",
       "      <td>0</td>\n",
       "      <td>...</td>\n",
       "      <td>0</td>\n",
       "      <td>0</td>\n",
       "      <td>0</td>\n",
       "      <td>0</td>\n",
       "      <td>0</td>\n",
       "      <td>0</td>\n",
       "      <td>0</td>\n",
       "      <td>0</td>\n",
       "      <td>0</td>\n",
       "      <td>0</td>\n",
       "    </tr>\n",
       "    <tr>\n",
       "      <th>1</th>\n",
       "      <td>PATU8988S_PANCREAS</td>\n",
       "      <td>PANCREAS</td>\n",
       "      <td>0</td>\n",
       "      <td>0</td>\n",
       "      <td>0</td>\n",
       "      <td>0</td>\n",
       "      <td>1</td>\n",
       "      <td>0</td>\n",
       "      <td>0</td>\n",
       "      <td>0</td>\n",
       "      <td>...</td>\n",
       "      <td>0</td>\n",
       "      <td>0</td>\n",
       "      <td>0</td>\n",
       "      <td>1</td>\n",
       "      <td>0</td>\n",
       "      <td>0</td>\n",
       "      <td>0</td>\n",
       "      <td>0</td>\n",
       "      <td>0</td>\n",
       "      <td>0</td>\n",
       "    </tr>\n",
       "    <tr>\n",
       "      <th>2</th>\n",
       "      <td>RCHACV_HAEMATOPOIETIC_AND_LYMPHOID_TISSUE</td>\n",
       "      <td>HAEMATOPOIETIC_AND_LYMPHOID_TISSUE</td>\n",
       "      <td>0</td>\n",
       "      <td>1</td>\n",
       "      <td>0</td>\n",
       "      <td>0</td>\n",
       "      <td>0</td>\n",
       "      <td>0</td>\n",
       "      <td>0</td>\n",
       "      <td>0</td>\n",
       "      <td>...</td>\n",
       "      <td>0</td>\n",
       "      <td>0</td>\n",
       "      <td>0</td>\n",
       "      <td>1</td>\n",
       "      <td>0</td>\n",
       "      <td>0</td>\n",
       "      <td>0</td>\n",
       "      <td>0</td>\n",
       "      <td>0</td>\n",
       "      <td>0</td>\n",
       "    </tr>\n",
       "    <tr>\n",
       "      <th>3</th>\n",
       "      <td>SKMEL31_SKIN</td>\n",
       "      <td>SKIN</td>\n",
       "      <td>0</td>\n",
       "      <td>0</td>\n",
       "      <td>0</td>\n",
       "      <td>0</td>\n",
       "      <td>1</td>\n",
       "      <td>0</td>\n",
       "      <td>0</td>\n",
       "      <td>0</td>\n",
       "      <td>...</td>\n",
       "      <td>0</td>\n",
       "      <td>1</td>\n",
       "      <td>0</td>\n",
       "      <td>0</td>\n",
       "      <td>0</td>\n",
       "      <td>0</td>\n",
       "      <td>0</td>\n",
       "      <td>0</td>\n",
       "      <td>0</td>\n",
       "      <td>0</td>\n",
       "    </tr>\n",
       "    <tr>\n",
       "      <th>4</th>\n",
       "      <td>SKBR3_BREAST</td>\n",
       "      <td>BREAST</td>\n",
       "      <td>0</td>\n",
       "      <td>0</td>\n",
       "      <td>0</td>\n",
       "      <td>0</td>\n",
       "      <td>0</td>\n",
       "      <td>0</td>\n",
       "      <td>0</td>\n",
       "      <td>1</td>\n",
       "      <td>...</td>\n",
       "      <td>0</td>\n",
       "      <td>0</td>\n",
       "      <td>0</td>\n",
       "      <td>0</td>\n",
       "      <td>0</td>\n",
       "      <td>0</td>\n",
       "      <td>0</td>\n",
       "      <td>0</td>\n",
       "      <td>0</td>\n",
       "      <td>0</td>\n",
       "    </tr>\n",
       "  </tbody>\n",
       "</table>\n",
       "<p>5 rows × 71 columns</p>\n",
       "</div>"
      ],
      "text/plain": [
       "                                   CCLE_NAME  \\\n",
       "0  MOLM16_HAEMATOPOIETIC_AND_LYMPHOID_TISSUE   \n",
       "1                         PATU8988S_PANCREAS   \n",
       "2  RCHACV_HAEMATOPOIETIC_AND_LYMPHOID_TISSUE   \n",
       "3                               SKMEL31_SKIN   \n",
       "4                               SKBR3_BREAST   \n",
       "\n",
       "                        TISSUE_FACTOR  MSI  ACVR1B_mut_del  APC_mut_del  \\\n",
       "0  HAEMATOPOIETIC_AND_LYMPHOID_TISSUE    0               0            0   \n",
       "1                            PANCREAS    0               0            0   \n",
       "2  HAEMATOPOIETIC_AND_LYMPHOID_TISSUE    0               1            0   \n",
       "3                                SKIN    0               0            0   \n",
       "4                              BREAST    0               0            0   \n",
       "\n",
       "   ARID1A_mut_del  ATM_mut_del  ATRX_mut_del  AXIN1_mut_del  BAP1_mut_del  \\\n",
       "0               0            0             0              0             0   \n",
       "1               0            1             0              0             0   \n",
       "2               0            0             0              0             0   \n",
       "3               0            1             0              0             0   \n",
       "4               0            0             0              0             1   \n",
       "\n",
       "   ...  PIK3CA_mut  BRAF_mut  CTNNB1_mut  KRAS_mut  NRAS_mut  GNAS_mut  \\\n",
       "0  ...           0         0           0         0         0         0   \n",
       "1  ...           0         0           0         1         0         0   \n",
       "2  ...           0         0           0         1         0         0   \n",
       "3  ...           0         1           0         0         0         0   \n",
       "4  ...           0         0           0         0         0         0   \n",
       "\n",
       "   HRAS_mut  EGFR_mut  MAP2K1_mut  PTPN11_mut  \n",
       "0         0         0           0           0  \n",
       "1         0         0           0           0  \n",
       "2         0         0           0           0  \n",
       "3         0         0           0           0  \n",
       "4         0         0           0           0  \n",
       "\n",
       "[5 rows x 71 columns]"
      ]
     },
     "execution_count": 148,
     "metadata": {},
     "output_type": "execute_result"
    }
   ],
   "source": [
    "data.head()"
   ]
  },
  {
   "cell_type": "code",
   "execution_count": 171,
   "metadata": {},
   "outputs": [
    {
     "name": "stdout",
     "output_type": "stream",
     "text": [
      "first is top, second is bottom\n"
     ]
    }
   ],
   "source": [
    "t1,t2,b1,b2,gene_a,gene_b = celllines_from_diff('CDK4','CDKN2C')"
   ]
  },
  {
   "cell_type": "code",
   "execution_count": 156,
   "metadata": {},
   "outputs": [
    {
     "data": {
      "text/plain": [
       "0.49533812655326986"
      ]
     },
     "execution_count": 156,
     "metadata": {},
     "output_type": "execute_result"
    }
   ],
   "source": [
    "\n",
    "\n",
    "#get_hypergeometric_p_values(counting_hits(cellines_from_diff(GENE1,GENE2),'MUTATION'))\n",
    "\n",
    "get_hypergeometric_p_values(1,26)"
   ]
  },
  {
   "cell_type": "markdown",
   "metadata": {},
   "source": [
    "## All the functions combined"
   ]
  },
  {
   "cell_type": "code",
   "execution_count": 195,
   "metadata": {},
   "outputs": [
    {
     "name": "stdout",
     "output_type": "stream",
     "text": [
      "for genes  NF2  and  CRK the hypergeometric p value that either top or bottom are enriched in  CTNNB1_mut  is \n"
     ]
    },
    {
     "data": {
      "text/plain": [
       "[1.0, 0.040567230594045746]"
      ]
     },
     "execution_count": 195,
     "metadata": {},
     "output_type": "execute_result"
    }
   ],
   "source": [
    "#len(uli_list) = 19\n",
    "a,b = uli_list[16]\n",
    "mut = \"CTNNB1_mut\"\n",
    "t1,t2,b1,b2,gene_a,gene_b = celllines_from_diff(a,b)\n",
    "top1,top2,bot1,bot2 = counting_hits(t1,t2,b1,b2,mut)\n",
    "print('for genes ', a, ' and ', b, 'the hypergeometric p value that either top or bottom are enriched in ', mut, ' is ')\n",
    "get_hypergeometric_p_values2(top1,top2,bot1,bot2)"
   ]
  },
  {
   "cell_type": "code",
   "execution_count": 250,
   "metadata": {},
   "outputs": [
    {
     "name": "stdout",
     "output_type": "stream",
     "text": [
      "for genes  CDKN2A  and  CDKN2B the hypergeometric p value that either top or bottom are enriched in  TP53_mut_del  is \n"
     ]
    },
    {
     "data": {
      "text/plain": [
       "[0.9894885815375278, 0.0]"
      ]
     },
     "execution_count": 250,
     "metadata": {},
     "output_type": "execute_result"
    }
   ],
   "source": [
    "a,b = uli_list[6]\n",
    "mut = \"TP53_mut_del\"\n",
    "t1,t2,b1,b2,gene_a,gene_b = celllines_from_diff(a,b)\n",
    "top1,top2,bot1,bot2 = counting_hits(t1,t2,b1,b2,mut)\n",
    "print('for genes ', a, ' and ', b, 'the hypergeometric p value that either top or bottom are enriched in ', mut, ' is ')\n",
    "get_hypergeometric_p_values2(top1,top2,bot1,bot2)"
   ]
  },
  {
   "cell_type": "code",
   "execution_count": 213,
   "metadata": {},
   "outputs": [],
   "source": [
    "p_values = []\n",
    "#len(uli_list) = 19\n",
    "# for all 68 background in second loop\n",
    "#now only the (sensible) cuttoff matters\n",
    "for _ in uli_list:\n",
    "    a,b = _\n",
    "    mut = \"CTNNB1_mut\"\n",
    "    t1,t2,b1,b2,gene_a,gene_b = celllines_from_diff(a,b)\n",
    "    top1,top2,bot1,bot2 = counting_hits(t1,t2,b1,b2,mut)\n",
    "    #print('for genes ', a, ' and ', b, 'the hypergeometric p value that either top or bottom are enriched in ', mut, ' is ')\n",
    "    #print(get_hypergeometric_p_values2(top1,top2,bot1,bot2))\n",
    "    p_value = get_hypergeometric_p_values2(top1,top2,bot1,bot2)\n",
    "    p_values.append(p_value)"
   ]
  },
  {
   "cell_type": "code",
   "execution_count": 244,
   "metadata": {},
   "outputs": [],
   "source": [
    "#len(uli_list) = 19\n",
    "for _ in uli_list:\n",
    "    a,b = _\n",
    "    mut = \"TP53_mut_del\"\n",
    "    t1,t2,b1,b2,gene_a,gene_b = celllines_from_diff(a,b)\n",
    "    top1,top2,bot1,bot2 = counting_hits(t1,t2,b1,b2,mut)\n",
    "    #print('for genes ', a, ' and ', b, 'the hypergeometric p value that either top or bottom are enriched in ', mut, ' is ')\n",
    "    #print(get_hypergeometric_p_values2(top1,top2,bot1,bot2))\n",
    "    p_value = get_hypergeometric_p_values2(top1,top2,bot1,bot2)\n",
    "    p_values.append(p_value)"
   ]
  },
  {
   "cell_type": "code",
   "execution_count": 245,
   "metadata": {},
   "outputs": [
    {
     "data": {
      "text/plain": [
       "[[1.0, 1.0],\n",
       " [0.5587322149719652, 1.0],\n",
       " [1.0, 0.5587322149719652],\n",
       " [1.0, 0.0062588162151182404],\n",
       " [1.0, 0.5587322149719652],\n",
       " [0.5587322149719652, 0.5587322149719652],\n",
       " [1.0, 0.18549070512557464],\n",
       " [1.0, 1.0],\n",
       " [0.18549070512557464, 1.0],\n",
       " [1.0, 1.0],\n",
       " [0.5587322149719652, 1.0],\n",
       " [1.0, 0.5587322149719652],\n",
       " [1.0, 0.5587322149719652],\n",
       " [0.5587322149719652, 0.18549070512557464],\n",
       " [1.0, 1.0],\n",
       " [1.0, 1.0],\n",
       " [1.0, 0.040567230594045746],\n",
       " [1.0, 1.0],\n",
       " [1.0, 1.0],\n",
       " [0.9894885815375278, 0.8278442245423387],\n",
       " [0.17739518110672173, 0.6874907961842894],\n",
       " [0.99716415167591, 0.9191909141654295],\n",
       " [0.9191909141654295, 0.07742640312202885],\n",
       " [0.6874907961842894, 0.5105716062275819],\n",
       " [0.026079982768720613, 0.5105716062275819],\n",
       " [0.9894885815375278, 0.0],\n",
       " [0.9680495669027778, 0.0],\n",
       " [0.5105716062275819, 0.5105716062275819],\n",
       " [0.9680495669027778, 0.9680495669027778],\n",
       " [0.6874907961842894, 0.17739518110672173],\n",
       " [0.9191909141654295, 0.07742640312202885],\n",
       " [0.99716415167591, 0.6874907961842894],\n",
       " [0.9191909141654295, 0.6874907961842894],\n",
       " [0.9191909141654295, 0.6874907961842894],\n",
       " [0.9680495669027778, 0.3286084587305589],\n",
       " [0.9680495669027778, 0.17739518110672173],\n",
       " [0.99716415167591, 0.5105716062275819],\n",
       " [0.99716415167591, 0.026079982768720613]]"
      ]
     },
     "execution_count": 245,
     "metadata": {},
     "output_type": "execute_result"
    }
   ],
   "source": [
    "p_values"
   ]
  },
  {
   "cell_type": "code",
   "execution_count": 247,
   "metadata": {},
   "outputs": [
    {
     "data": {
      "text/plain": [
       "['CDKN2A', 'CDKN2B']"
      ]
     },
     "execution_count": 247,
     "metadata": {},
     "output_type": "execute_result"
    }
   ],
   "source": [
    "uli_list[6]"
   ]
  },
  {
   "cell_type": "code",
   "execution_count": 248,
   "metadata": {},
   "outputs": [
    {
     "data": {
      "text/plain": [
       "['CDKN2A', 'CCNE1']"
      ]
     },
     "execution_count": 248,
     "metadata": {},
     "output_type": "execute_result"
    }
   ],
   "source": [
    "uli_list[7]"
   ]
  },
  {
   "cell_type": "code",
   "execution_count": null,
   "metadata": {
    "jupyter": {
     "source_hidden": true
    }
   },
   "outputs": [],
   "source": [
    "19*68"
   ]
  },
  {
   "cell_type": "markdown",
   "metadata": {},
   "source": [
    "now that we potentially have all the p-values for all pairs and all conditions,\n",
    "we just need a good cutoff to make sure this is in some way meaningful.\n",
    "\n",
    "how much do we have?\n",
    "68 * 19 "
   ]
  },
  {
   "cell_type": "code",
   "execution_count": 84,
   "metadata": {
    "collapsed": true,
    "jupyter": {
     "outputs_hidden": true
    }
   },
   "outputs": [
    {
     "data": {
      "text/plain": [
       "['MSI',\n",
       " 'ACVR1B_mut_del',\n",
       " 'APC_mut_del',\n",
       " 'ARID1A_mut_del',\n",
       " 'ATM_mut_del',\n",
       " 'ATRX_mut_del',\n",
       " 'AXIN1_mut_del',\n",
       " 'BAP1_mut_del',\n",
       " 'BRCA1_mut_del',\n",
       " 'BRCA2_mut_del',\n",
       " 'CASP8_mut_del',\n",
       " 'CDC73_mut_del',\n",
       " 'CDH1_mut_del',\n",
       " 'CDKN2A_mut_del',\n",
       " 'CEBPA_mut_del',\n",
       " 'CIC_mut_del',\n",
       " 'CREBBP_mut_del',\n",
       " 'CYLD_mut_del',\n",
       " 'DAXX_mut_del',\n",
       " 'EP300_mut_del',\n",
       " 'AMER1_mut_del',\n",
       " 'FBXW7_mut_del',\n",
       " 'GATA1_mut_del',\n",
       " 'HNF1A_mut_del',\n",
       " 'KDM6A_mut_del',\n",
       " 'MAP3K1_mut_del',\n",
       " 'MEN1_mut_del',\n",
       " 'MLH1_mut_del',\n",
       " 'KMT2C_mut_del',\n",
       " 'MSH2_mut_del',\n",
       " 'MSH6_mut_del',\n",
       " 'NF1_mut_del',\n",
       " 'NF2_mut_del',\n",
       " 'NOTCH1_mut_del',\n",
       " 'NOTCH2_mut_del',\n",
       " 'NPM1_mut_del',\n",
       " 'PAX5_mut_del',\n",
       " 'PIK3R1_mut_del',\n",
       " 'PTCH1_mut_del',\n",
       " 'PTEN_mut_del',\n",
       " 'RB1_mut_del',\n",
       " 'RUNX1_mut_del',\n",
       " 'SMAD2_mut_del',\n",
       " 'SMAD4_mut_del',\n",
       " 'SMARCA4_mut_del',\n",
       " 'SMARCB1_mut_del',\n",
       " 'SOCS1_mut_del',\n",
       " 'STK11_mut_del',\n",
       " 'TET2_mut_del',\n",
       " 'TNFAIP3_mut_del',\n",
       " 'TP53_mut_del',\n",
       " 'TSC1_mut_del',\n",
       " 'VHL_mut_del',\n",
       " 'WT1_mut_del',\n",
       " 'ERBB2_amp',\n",
       " 'CCND1_amp',\n",
       " 'MDM2_amp',\n",
       " 'MYC_amp',\n",
       " 'MYCN_amp',\n",
       " 'PIK3CA_mut',\n",
       " 'BRAF_mut',\n",
       " 'CTNNB1_mut',\n",
       " 'KRAS_mut',\n",
       " 'NRAS_mut',\n",
       " 'GNAS_mut',\n",
       " 'HRAS_mut',\n",
       " 'EGFR_mut',\n",
       " 'MAP2K1_mut',\n",
       " 'PTPN11_mut']"
      ]
     },
     "execution_count": 84,
     "metadata": {},
     "output_type": "execute_result"
    }
   ],
   "source": [
    "daten = pd.read_csv(\"/home/annerer/Downloads/elife-58925-supp1-v3.csv\")\n",
    "\n",
    "daten1 = daten.columns.to_list()\n",
    "daten1.pop(0)\n",
    "daten1.pop(0)\n",
    "daten1"
   ]
  },
  {
   "cell_type": "code",
   "execution_count": 103,
   "metadata": {},
   "outputs": [],
   "source": [
    "data = pd.read_csv(\"/home/annerer/Downloads/elife-58925-supp1-v3.csv\")\n",
    "p_values = []"
   ]
  },
  {
   "cell_type": "code",
   "execution_count": null,
   "metadata": {},
   "outputs": [],
   "source": [
    "for _ in uli_list:\n",
    "    for i in daten1:\n",
    "        a,b = _\n",
    "        mut = i\n",
    "        t1,t2,b1,b2,gene_a,gene_b = celllines_from_diff(a,b)\n",
    "        top1,top2,bot1,bot2 = counting_hits(t1,t2,b1,b2,mut)\n",
    "        #print('for genes ', a, ' and ', b, 'the hypergeometric p value that either top or bottom are enriched in ', mut, ' is ')\n",
    "        #print(get_hypergeometric_p_values2(top1,top2,bot1,bot2))\n",
    "        p_value = get_hypergeometric_p_values2(top1,top2,bot1,bot2)\n",
    "        p_values.append([a,b,p_value])"
   ]
  },
  {
   "cell_type": "code",
   "execution_count": null,
   "metadata": {},
   "outputs": [],
   "source": [
    "p_values"
   ]
  },
  {
   "cell_type": "code",
   "execution_count": 236,
   "metadata": {},
   "outputs": [],
   "source": [
    "result = pd.DataFrame(data= p_values)\n",
    "result.index = column_names_uli_list"
   ]
  },
  {
   "cell_type": "code",
   "execution_count": 238,
   "metadata": {},
   "outputs": [],
   "source": [
    "result.columns = ['top','bottom']"
   ]
  },
  {
   "cell_type": "code",
   "execution_count": 243,
   "metadata": {
    "collapsed": true,
    "jupyter": {
     "outputs_hidden": true
    }
   },
   "outputs": [
    {
     "data": {
      "text/html": [
       "<div>\n",
       "<style scoped>\n",
       "    .dataframe tbody tr th:only-of-type {\n",
       "        vertical-align: middle;\n",
       "    }\n",
       "\n",
       "    .dataframe tbody tr th {\n",
       "        vertical-align: top;\n",
       "    }\n",
       "\n",
       "    .dataframe thead th {\n",
       "        text-align: right;\n",
       "    }\n",
       "</style>\n",
       "<table border=\"1\" class=\"dataframe\">\n",
       "  <thead>\n",
       "    <tr style=\"text-align: right;\">\n",
       "      <th></th>\n",
       "      <th>top</th>\n",
       "      <th>bottom</th>\n",
       "    </tr>\n",
       "  </thead>\n",
       "  <tbody>\n",
       "    <tr>\n",
       "      <th>CDK4/RB1</th>\n",
       "      <td>1.000000</td>\n",
       "      <td>1.000000</td>\n",
       "    </tr>\n",
       "    <tr>\n",
       "      <th>CDK4/CDKN2C</th>\n",
       "      <td>0.558732</td>\n",
       "      <td>1.000000</td>\n",
       "    </tr>\n",
       "    <tr>\n",
       "      <th>CDK4/CCND1</th>\n",
       "      <td>1.000000</td>\n",
       "      <td>0.558732</td>\n",
       "    </tr>\n",
       "    <tr>\n",
       "      <th>CDK6/CCND3</th>\n",
       "      <td>1.000000</td>\n",
       "      <td>0.006259</td>\n",
       "    </tr>\n",
       "    <tr>\n",
       "      <th>CDK6/CCNE1</th>\n",
       "      <td>1.000000</td>\n",
       "      <td>0.558732</td>\n",
       "    </tr>\n",
       "    <tr>\n",
       "      <th>CDK6/CDK4</th>\n",
       "      <td>0.558732</td>\n",
       "      <td>0.558732</td>\n",
       "    </tr>\n",
       "    <tr>\n",
       "      <th>CDKN2A/CDKN2B</th>\n",
       "      <td>1.000000</td>\n",
       "      <td>0.185491</td>\n",
       "    </tr>\n",
       "    <tr>\n",
       "      <th>CDKN2A/CCNE1</th>\n",
       "      <td>1.000000</td>\n",
       "      <td>1.000000</td>\n",
       "    </tr>\n",
       "    <tr>\n",
       "      <th>NF2/AMOTL2</th>\n",
       "      <td>0.185491</td>\n",
       "      <td>1.000000</td>\n",
       "    </tr>\n",
       "    <tr>\n",
       "      <th>NF2/KIRREL1</th>\n",
       "      <td>1.000000</td>\n",
       "      <td>1.000000</td>\n",
       "    </tr>\n",
       "    <tr>\n",
       "      <th>NF2/TAOK1</th>\n",
       "      <td>0.558732</td>\n",
       "      <td>1.000000</td>\n",
       "    </tr>\n",
       "    <tr>\n",
       "      <th>NF2/LATS2</th>\n",
       "      <td>1.000000</td>\n",
       "      <td>0.558732</td>\n",
       "    </tr>\n",
       "    <tr>\n",
       "      <th>NF2/PTPN14</th>\n",
       "      <td>1.000000</td>\n",
       "      <td>0.558732</td>\n",
       "    </tr>\n",
       "    <tr>\n",
       "      <th>NF2/PTEN</th>\n",
       "      <td>0.558732</td>\n",
       "      <td>0.185491</td>\n",
       "    </tr>\n",
       "    <tr>\n",
       "      <th>NF2/ABL2</th>\n",
       "      <td>1.000000</td>\n",
       "      <td>1.000000</td>\n",
       "    </tr>\n",
       "    <tr>\n",
       "      <th>NF2/RAC1</th>\n",
       "      <td>1.000000</td>\n",
       "      <td>1.000000</td>\n",
       "    </tr>\n",
       "    <tr>\n",
       "      <th>NF2/CRK</th>\n",
       "      <td>1.000000</td>\n",
       "      <td>0.040567</td>\n",
       "    </tr>\n",
       "    <tr>\n",
       "      <th>NF2/DLG5</th>\n",
       "      <td>1.000000</td>\n",
       "      <td>1.000000</td>\n",
       "    </tr>\n",
       "    <tr>\n",
       "      <th>NF2/PKN2</th>\n",
       "      <td>1.000000</td>\n",
       "      <td>1.000000</td>\n",
       "    </tr>\n",
       "  </tbody>\n",
       "</table>\n",
       "</div>"
      ],
      "text/plain": [
       "                    top    bottom\n",
       "CDK4/RB1       1.000000  1.000000\n",
       "CDK4/CDKN2C    0.558732  1.000000\n",
       "CDK4/CCND1     1.000000  0.558732\n",
       "CDK6/CCND3     1.000000  0.006259\n",
       "CDK6/CCNE1     1.000000  0.558732\n",
       "CDK6/CDK4      0.558732  0.558732\n",
       "CDKN2A/CDKN2B  1.000000  0.185491\n",
       "CDKN2A/CCNE1   1.000000  1.000000\n",
       "NF2/AMOTL2     0.185491  1.000000\n",
       "NF2/KIRREL1    1.000000  1.000000\n",
       "NF2/TAOK1      0.558732  1.000000\n",
       "NF2/LATS2      1.000000  0.558732\n",
       "NF2/PTPN14     1.000000  0.558732\n",
       "NF2/PTEN       0.558732  0.185491\n",
       "NF2/ABL2       1.000000  1.000000\n",
       "NF2/RAC1       1.000000  1.000000\n",
       "NF2/CRK        1.000000  0.040567\n",
       "NF2/DLG5       1.000000  1.000000\n",
       "NF2/PKN2       1.000000  1.000000"
      ]
     },
     "execution_count": 243,
     "metadata": {},
     "output_type": "execute_result"
    }
   ],
   "source": [
    "result"
   ]
  },
  {
   "cell_type": "markdown",
   "metadata": {},
   "source": [
    "# counting phenotypes"
   ]
  },
  {
   "cell_type": "markdown",
   "metadata": {},
   "source": [
    "### in principle, given the familiarity with the depmap data,\n",
    "### you could look at various annotations that are relevant,\n",
    "### such as phenotypic, disease state, ...\n",
    "### it gives you the power to really dissect a condition.\n",
    "### always keep in mind the ryan paper tough, not everything\n",
    "### is reliable when it comes to cancer, as there are many\n",
    "### effect that only show up in the full organism."
   ]
  },
  {
   "cell_type": "code",
   "execution_count": 97,
   "metadata": {},
   "outputs": [],
   "source": [
    "data = pd.read_csv(\"/home/annerer/Dokumente/DepMap_Mining/sample_info.csv\")"
   ]
  },
  {
   "cell_type": "code",
   "execution_count": 75,
   "metadata": {},
   "outputs": [],
   "source": [
    "datalist = data['Subtype'].values.tolist()"
   ]
  },
  {
   "cell_type": "code",
   "execution_count": 77,
   "metadata": {},
   "outputs": [
    {
     "data": {
      "text/plain": [
       "26"
      ]
     },
     "execution_count": 77,
     "metadata": {},
     "output_type": "execute_result"
    }
   ],
   "source": [
    "datalist.count('Acute Myelogenous Leukemia (AML)')"
   ]
  },
  {
   "cell_type": "code",
   "execution_count": 78,
   "metadata": {
    "collapsed": true,
    "jupyter": {
     "outputs_hidden": true
    }
   },
   "outputs": [
    {
     "data": {
      "text/plain": [
       "['Adenocarcinoma, high grade serous',\n",
       " 'Acute Myelogenous Leukemia (AML), M3 (Promyelocytic)',\n",
       " 'Adenocarcinoma',\n",
       " 'Acute Myelogenous Leukemia (AML), M6 (Erythroleukemia)',\n",
       " 'Acute Myelogenous Leukemia (AML), M6 (Erythroleukemia)',\n",
       " 'Acute Myelogenous Leukemia (AML), M5 (Eosinophilic/Monocytic)',\n",
       " 'Adenocarcinoma',\n",
       " 'Melanoma',\n",
       " 'Adenocarcinoma',\n",
       " 'Non-Small Cell Lung Cancer (NSCLC), Adenocarcinoma',\n",
       " 'Carcinoma',\n",
       " 'Non-Small Cell Lung Cancer (NSCLC), Adenocarcinoma',\n",
       " 'Adenocarcinoma, high grade serous',\n",
       " 'Melanoma',\n",
       " 'Non-Small Cell Lung Cancer (NSCLC), Large Cell Carcinoma',\n",
       " 'Renal Cell Carcinoma',\n",
       " 'Carcinoma',\n",
       " 'Carcinoma',\n",
       " 'Carcinoma',\n",
       " 'Acute Lymphoblastic Leukemia (ALL), B-cell',\n",
       " 'Non-Small Cell Lung Cancer (NSCLC), Adenocarcinoma',\n",
       " 'Ductal Adenocarcinoma, exocrine',\n",
       " 'Ductal Adenocarcinoma, exocrine',\n",
       " 'Multiple Myeloma',\n",
       " 'Meningioma',\n",
       " 'Carcinoma',\n",
       " 'Glioblastoma',\n",
       " 'Carcinoma',\n",
       " 'Non-Small Cell Lung Cancer (NSCLC), Adenocarcinoma',\n",
       " 'Non-Small Cell Lung Cancer (NSCLC), Adenocarcinoma',\n",
       " 'Ductal Adenocarcinoma, exocrine',\n",
       " 'Acute Lymphoblastic Leukemia (ALL), B-cell',\n",
       " 'Non-Small Cell Lung Cancer (NSCLC), Adenocarcinoma',\n",
       " 'Acute Myelogenous Leukemia (AML)',\n",
       " 'Non-Small Cell Lung Cancer (NSCLC), Adenocarcinoma',\n",
       " 'Glioblastoma',\n",
       " 'Thyroid Sarcoma',\n",
       " 'B-cell',\n",
       " 'Ewings Sarcoma',\n",
       " 'Astrocytoma',\n",
       " 'Ewings Sarcoma',\n",
       " 'Ductal Adenocarcinoma, exocrine',\n",
       " 'Skin',\n",
       " 'Breast Ductal Carcinoma',\n",
       " 'Acute Myelogenous Leukemia (AML)',\n",
       " 'Renal Cell Carcinoma',\n",
       " 'Adenocarcinoma',\n",
       " 'Adenocarcinoma, endometrioid',\n",
       " nan,\n",
       " 'Multiple Myeloma, plasmacytoma',\n",
       " 'Rhabdomyosarcoma',\n",
       " 'Ewings Sarcoma',\n",
       " 'T-cell, Non-Hodgkins, Anaplastic Large Cell (ALCL)',\n",
       " 'Fibrosarcoma',\n",
       " 'Medulloblastoma',\n",
       " 'Diffuse Large B-cell Lymphoma (DLBCL)',\n",
       " 'Multiple Myeloma',\n",
       " 'Carcinoma, follicular',\n",
       " 'Acute Lymphoblastic Leukemia (ALL), B-cell',\n",
       " 'Ductal Adenocarcinoma, exocrine',\n",
       " 'T-cell, Non-Hodgkins, Cutaneous',\n",
       " 'Non-Small Cell Lung Cancer (NSCLC), Adenocarcinoma',\n",
       " 'Lymphoma',\n",
       " nan,\n",
       " 'Acute Myelogenous Leukemia (AML)',\n",
       " 'Non-Small Cell Lung Cancer (NSCLC), Adenocarcinoma',\n",
       " 'Oligodendroglioma',\n",
       " 'B-cell, Non-Hodgkins, Mantle Cell',\n",
       " 'B-cell, Hodgkins',\n",
       " 'Acute Lymphoblastic Leukemia (ALL), B-cell',\n",
       " 'Bone',\n",
       " 'Chronic Myelogenous Leukemia (CML)',\n",
       " 'B-cell, Non-Hodgkins, Mantle Cell',\n",
       " 'Chronic Myelogenous Leukemia (CML), blast crisis',\n",
       " 'Astrocytoma',\n",
       " 'Chronic Myelogenous Leukemia (CML)',\n",
       " 'T-cell, Non-Hodgkins, Cutaneous',\n",
       " nan,\n",
       " 'Soft tissue',\n",
       " 'Acute Myelogenous Leukemia (AML), M5 (Eosinophilic/Monocytic)',\n",
       " 'Acute Myelogenous Leukemia (AML)',\n",
       " 'Osteosarcoma',\n",
       " 'Breast',\n",
       " 'Acute Myelogenous Leukemia (AML)',\n",
       " 'Ductal Adenocarcinoma, exocrine',\n",
       " 'Mesothelioma',\n",
       " 'Ewings Sarcoma',\n",
       " 'Bladder',\n",
       " 'Adenocarcinoma',\n",
       " 'Adenocarcinoma',\n",
       " 'Adenocarcinoma, serous',\n",
       " 'Mesothelioma',\n",
       " 'Ductal Adenocarcinoma, exocrine',\n",
       " 'Ductal Adenocarcinoma, exocrine',\n",
       " 'Medulloblastoma',\n",
       " 'Malignant Rhabdoid Tumor',\n",
       " 'Breast Ductal Carcinoma',\n",
       " 'Glioblastoma',\n",
       " nan,\n",
       " 'Rhabdomyosarcoma, alveolar',\n",
       " 'Acute Lymphoblastic Leukemia (ALL), T-cell',\n",
       " 'Glioblastoma',\n",
       " 'Adenocarcinoma, high grade serous',\n",
       " 'Acute Lymphoblastic Leukemia (ALL), T-cell',\n",
       " 'Acute Lymphoblastic Leukemia (ALL), T-cell',\n",
       " 'B-cell, Non-Hodgkins, Mantle Cell',\n",
       " 'Ductal Adenocarcinoma, exocrine',\n",
       " 'Ductal Adenosquamous Carcinoma, exocrine',\n",
       " 'Non-Small Cell Lung Cancer (NSCLC), Adenocarcinoma',\n",
       " 'Adenocarcinoma',\n",
       " 'Breast Ductal Carcinoma',\n",
       " 'Acute Myelogenous Leukemia (AML), M5 (Eosinophilic/Monocytic)',\n",
       " 'Acute Myelogenous Leukemia (AML), M4 (Myelomonocytic)',\n",
       " 'Ductal Adenocarcinoma, exocrine',\n",
       " 'Adenocarcinoma',\n",
       " 'Adenocarcinoma, high grade serous',\n",
       " 'Adenocarcinoma',\n",
       " 'Ductal Adenocarcinoma, exocrine',\n",
       " 'Bone',\n",
       " nan,\n",
       " 'Non-Small Cell Lung Cancer (NSCLC), Adenocarcinoma',\n",
       " 'Acute Lymphoblastic Leukemia (ALL), T-cell',\n",
       " 'Adenocarcinoma, endometrioid',\n",
       " 'Diffuse Large B-cell Lymphoma (DLBCL)',\n",
       " 'Lymphoma',\n",
       " 'Oligodendroglioma',\n",
       " 'Renal Cell Carcinoma',\n",
       " 'Astrocytoma',\n",
       " 'Small Cell Lung Cancer (SCLC)',\n",
       " 'Acute Lymphoblastic Leukemia (ALL), B-cell',\n",
       " 'Lung',\n",
       " 'Adenocarcinoma, high grade serous',\n",
       " 'Soft tissue',\n",
       " 'Breast',\n",
       " 'Skin',\n",
       " nan,\n",
       " 'Astrocytoma',\n",
       " 'Ductal Adenocarcinoma, exocrine',\n",
       " 'Ductal Adenocarcinoma, exocrine',\n",
       " 'Diffuse Large B-cell Lymphoma (DLBCL)',\n",
       " 'Adenocarcinoma',\n",
       " 'Transitional Cell Carcinoma',\n",
       " 'Non-Small Cell Lung Cancer (NSCLC), unspecified',\n",
       " 'Adenocarcinoma',\n",
       " 'Leiomyosarcoma',\n",
       " 'Acute Myelogenous Leukemia (AML), M5 (Eosinophilic/Monocytic)',\n",
       " 'Breast Ductal Carcinoma',\n",
       " 'Carcinoma',\n",
       " nan,\n",
       " 'Non-Small Cell Lung Cancer (NSCLC), Adenocarcinoma',\n",
       " 'Acute Lymphoblastic Leukemia (ALL), B-cell',\n",
       " 'Glioblastoma',\n",
       " 'Mesothelioma',\n",
       " 'Bone',\n",
       " 'Ductal Adenocarcinoma, exocrine',\n",
       " 'Acute Lymphoblastic Leukemia (ALL), B-cell',\n",
       " 'Diffuse Large B-cell Lymphoma (DLBCL)',\n",
       " 'Diffuse Large B-cell Lymphoma (DLBCL)',\n",
       " 'Renal Cell Carcinoma',\n",
       " 'Atypical Teratoid Rhabdoid Tumor (ATRT)',\n",
       " 'Non-Small Cell Lung Cancer (NSCLC), Adenocarcinoma',\n",
       " 'B-cell, Non-Hodgkins, Burkitts',\n",
       " 'Squamous Cell Carcinoma',\n",
       " 'Ductal Adenocarcinoma, exocrine',\n",
       " 'Lymphoma',\n",
       " 'Acute Myelogenous Leukemia (AML), M2 (Myeloblastic)',\n",
       " 'Adenocarcinoma, mucinous',\n",
       " 'Acute Myelogenous Leukemia (AML), M5 (Eosinophilic/Monocytic)',\n",
       " 'Rhabdomyosarcoma, embryonal',\n",
       " nan,\n",
       " 'Renal Cell Carcinoma',\n",
       " 'Malignant Rhabdoid Tumor',\n",
       " 'Endometrial Adenocarcinoma',\n",
       " 'Carcinoma, anaplastic',\n",
       " 'Soft tissue',\n",
       " 'Non-Small Cell Lung Cancer (NSCLC), Squamous Cell Carcinoma',\n",
       " 'Small Cell Carcinoma',\n",
       " 'Ductal Adenocarcinoma, exocrine',\n",
       " 'Small Cell Lung Cancer (SCLC)',\n",
       " 'Skin',\n",
       " 'Squamous Cell Carcinoma',\n",
       " 'Cholangiocarcinoma, extrahepatic',\n",
       " 'Multiple Myeloma',\n",
       " 'Breast',\n",
       " 'Bone',\n",
       " 'Non-Small Cell Lung Cancer (NSCLC), unspecified',\n",
       " 'Small Cell Lung Cancer (SCLC)',\n",
       " 'Squamous Cell Carcinoma',\n",
       " 'Renal Cell Carcinoma',\n",
       " 'B-cell, Hodgkins',\n",
       " 'Carcinoma, papillary',\n",
       " 'Endometrial Adenocarcinoma',\n",
       " 'Multiple Myeloma',\n",
       " 'Skin',\n",
       " 'Acute Myelogenous Leukemia (AML)',\n",
       " 'Breast Ductal Carcinoma',\n",
       " 'Acute Lymphoblastic Leukemia (ALL), T-cell',\n",
       " 'Acute Myelogenous Leukemia (AML), M5 (Eosinophilic/Monocytic)',\n",
       " 'Colorectal',\n",
       " 'Glioblastoma',\n",
       " 'Malignant Rhabdoid Tumor',\n",
       " 'Adenocarcinoma',\n",
       " nan,\n",
       " 'Multiple Myeloma',\n",
       " 'Ductal Adenocarcinoma, exocrine',\n",
       " 'ATL',\n",
       " 'Squamous Cell Carcinoma, pharynx',\n",
       " 'Glioblastoma',\n",
       " 'Cholangiocarcinoma, intrahepatic',\n",
       " 'Ewings Sarcoma',\n",
       " 'Medulloblastoma',\n",
       " 'Carcinoma',\n",
       " 'Ductal Adenocarcinoma, exocrine',\n",
       " 'Colorectal',\n",
       " 'Glioblastoma',\n",
       " 'Adenocarcinoma',\n",
       " 'Hepatocellular Carcinoma',\n",
       " 'Acute Myelogenous Leukemia (AML), M3 (Promyelocytic)',\n",
       " 'Melanoma',\n",
       " 'B-cell, Non-Hodgkins, Mantle Cell',\n",
       " 'Hepatocellular Carcinoma',\n",
       " 'Ductal Adenocarcinoma, exocrine',\n",
       " 'Breast Ductal Carcinoma',\n",
       " 'Bone',\n",
       " 'Small Cell Carcinoma',\n",
       " 'T-cell, Non-Hodgkins, Anaplastic Large Cell (ALCL)',\n",
       " nan,\n",
       " 'Squamous Cell Carcinoma, oral',\n",
       " 'Bone',\n",
       " 'Breast',\n",
       " 'Glioblastoma',\n",
       " 'Astrocytoma',\n",
       " 'T-cell, Non-Hodgkins, Anaplastic Large Cell (ALCL)',\n",
       " 'Renal Carcinoma, clear cell',\n",
       " 'Ductal Adenocarcinoma, exocrine',\n",
       " 'Adenocarcinoma',\n",
       " 'Adenocarcinoma, mucinous',\n",
       " 'Squamous Cell Carcinoma, oral',\n",
       " 'Adenocarcinoma, tubular',\n",
       " 'Skin',\n",
       " 'Chronic Myelogenous Leukemia (CML), blast crisis',\n",
       " 'Transitional Cell Carcinoma',\n",
       " 'Ductal Adenocarcinoma, exocrine',\n",
       " 'Glioblastoma',\n",
       " 'B-cell, Non-Hodgkins, Burkitts',\n",
       " 'Renal Cell Carcinoma',\n",
       " 'Adenocarcinoma',\n",
       " 'Adenocarcinoma',\n",
       " 'Adenocarcinoma',\n",
       " 'Renal Cell Carcinoma',\n",
       " 'Non-Small Cell Lung Cancer (NSCLC), unspecified',\n",
       " 'Adenocarcinoma',\n",
       " 'Adenocarcinoma',\n",
       " 'Squamous Cell Carcinoma',\n",
       " 'Adenocarcinoma',\n",
       " 'Adenocarcinoma, high grade serous',\n",
       " 'Small Cell Lung Cancer (SCLC)',\n",
       " 'Carcinoma',\n",
       " nan,\n",
       " nan,\n",
       " 'Non-Small Cell Lung Cancer (NSCLC), Squamous Cell Carcinoma',\n",
       " 'Renal Cell Carcinoma',\n",
       " 'Acute Myelogenous Leukemia (AML), M2 (Myeloblastic)',\n",
       " 'Non-Small Cell Lung Cancer (NSCLC), unspecified',\n",
       " 'Ductal Adenocarcinoma, exocrine',\n",
       " 'Ductal Adenocarcinoma, exocrine',\n",
       " 'B-cell, Hodgkins',\n",
       " 'Cholangiocarcinoma, extrahepatic',\n",
       " 'Glioblastoma',\n",
       " 'Ductal Adenocarcinoma, exocrine',\n",
       " 'Diffuse Large B-cell Lymphoma (DLBCL)',\n",
       " 'Renal Cell Carcinoma',\n",
       " 'Glioma',\n",
       " 'Melanoma',\n",
       " 'Skin',\n",
       " 'Breast Ductal Carcinoma',\n",
       " 'Breast Ductal Carcinoma',\n",
       " 'Adenocarcinoma, high grade serous',\n",
       " 'Ewings Sarcoma',\n",
       " 'Carcinoma, brenner',\n",
       " 'Ductal Adenocarcinoma, exocrine',\n",
       " 'Non-Small Cell Lung Cancer (NSCLC), Adenocarcinoma',\n",
       " 'Glioblastoma',\n",
       " 'Upper aerodigestive',\n",
       " 'Diffuse Large B-cell Lymphoma (DLBCL)',\n",
       " 'Adenocarcinoma',\n",
       " 'Diffuse Large B-cell Lymphoma (DLBCL)',\n",
       " 'Breast Ductal Carcinoma',\n",
       " 'Glioblastoma',\n",
       " 'Small Cell Lung Cancer (SCLC)',\n",
       " 'Adenocarcinoma, high grade serous',\n",
       " 'Small Cell Lung Cancer (SCLC)',\n",
       " 'Endometrial Adenocarcinoma',\n",
       " 'Acute Myelogenous Leukemia (AML), M3 (Promyelocytic)',\n",
       " 'Chronic Myelogenous Leukemia (CML), blast crisis',\n",
       " 'Adenocarcinoma',\n",
       " 'Small Cell Lung Cancer (SCLC)',\n",
       " 'Small Cell Lung Cancer (SCLC)',\n",
       " 'Acute Myelogenous Leukemia (AML), M4 (Myelomonocytic)',\n",
       " 'Renal Cell Carcinoma',\n",
       " 'Chronic Myelogenous Leukemia (CML), blast crisis',\n",
       " 'Mullerian Carcinoma',\n",
       " 'Adenocarcinoma',\n",
       " 'Melanoma',\n",
       " 'Squamous Cell Carcinoma',\n",
       " 'Skin',\n",
       " 'Ductal Adenocarcinoma, exocrine',\n",
       " 'Adenocarcinoma, clear cell',\n",
       " 'Non-Small Cell Lung Cancer (NSCLC), Adenocarcinoma',\n",
       " nan,\n",
       " 'Non-Small Cell Lung Cancer (NSCLC), Adenocarcinoma',\n",
       " nan,\n",
       " 'Renal Carcinoma, clear cell',\n",
       " 'Non-Small Cell Lung Cancer (NSCLC), Adenocarcinoma',\n",
       " 'Diffuse Large B-cell Lymphoma (DLBCL)',\n",
       " 'Hepatocellular Carcinoma',\n",
       " 'Renal Cell Carcinoma',\n",
       " 'Squamous Cell Carcinoma',\n",
       " 'Mesothelioma',\n",
       " 'Ductal Adenocarcinoma, exocrine',\n",
       " 'Chronic Myelogenous Leukemia (CML), blast crisis',\n",
       " 'Melanoma',\n",
       " 'Astrocytoma',\n",
       " 'Adenocarcinoma, clear cell',\n",
       " 'Adenocarcinoma',\n",
       " 'Chronic Myelogenous Leukemia (CML), blast crisis',\n",
       " 'Non-Small Cell Lung Cancer (NSCLC), Adenocarcinoma',\n",
       " 'Glioblastoma',\n",
       " 'Astrocytoma',\n",
       " 'Breast Ductal Carcinoma',\n",
       " 'Mesothelioma',\n",
       " 'Ductal Adenocarcinoma, exocrine',\n",
       " 'Adenocarcinoma, mucinous',\n",
       " 'Diffuse Large B-cell Lymphoma (DLBCL)',\n",
       " 'Mesothelioma',\n",
       " 'Acute Myelogenous Leukemia (AML), M4 (Myelomonocytic)',\n",
       " 'Non-Small Cell Lung Cancer (NSCLC), Adenocarcinoma',\n",
       " 'T-cell, Non-Hodgkins, Anaplastic Large Cell (ALCL)',\n",
       " 'Non-Small Cell Lung Cancer (NSCLC), Adenocarcinoma',\n",
       " 'Bone',\n",
       " nan,\n",
       " 'Adenocarcinoma',\n",
       " 'Non-Small Cell Lung Cancer (NSCLC), Adenocarcinoma',\n",
       " 'Adenocarcinoma',\n",
       " nan,\n",
       " 'Chronic Lymphoblastic Leukemia (CLL), B-cell',\n",
       " 'Somatostatinoma',\n",
       " 'Melanoma',\n",
       " 'Breast Ductal Carcinoma',\n",
       " 'Adenocarcinoma',\n",
       " 'Adenocarcinoma',\n",
       " 'Carcinoma',\n",
       " 'Squamous Cell Carcinoma',\n",
       " 'Ductal Adenocarcinoma, exocrine',\n",
       " 'Small Cell Lung Cancer (SCLC)',\n",
       " 'Adenocarcinoma',\n",
       " 'B-cell, Non-Hodgkins, Mantle Cell',\n",
       " 'Small Cell Lung Cancer (SCLC)',\n",
       " 'Osteosarcoma',\n",
       " 'Caecum Adenocarcinoma',\n",
       " 'Hepatocellular Carcinoma',\n",
       " 'Acute Myelogenous Leukemia (AML)',\n",
       " 'Multiple Myeloma',\n",
       " 'Osteosarcoma',\n",
       " 'Diffuse Large B-cell Lymphoma (DLBCL)',\n",
       " nan,\n",
       " 'Non-Small Cell Lung Cancer (NSCLC), Squamous Cell Carcinoma',\n",
       " 'Glioblastoma',\n",
       " 'Acute Myelogenous Leukemia (AML)',\n",
       " 'Glioblastoma',\n",
       " 'B-cell, Non-Hodgkins',\n",
       " 'Acute Lymphoblastic Leukemia (ALL), T-cell',\n",
       " 'Acute Myelogenous Leukemia (AML)',\n",
       " 'Breast Ductal Carcinoma',\n",
       " 'Renal Leiomyoblastoma',\n",
       " 'Glioblastoma',\n",
       " 'Cholangiocarcinoma, extrahepatic',\n",
       " 'Non-Small Cell Lung Cancer (NSCLC), Adenosquamous Carcinoma',\n",
       " 'Non-Small Cell Lung Cancer (NSCLC), Adenocarcinoma',\n",
       " 'Multiple Myeloma',\n",
       " 'Adenocarcinoma',\n",
       " 'Small Cell Lung Cancer (SCLC)',\n",
       " 'Adenocarcinoma',\n",
       " 'Transitional Cell Carcinoma',\n",
       " 'Renal Cell Carcinoma',\n",
       " 'Acute Myelogenous Leukemia (AML)',\n",
       " 'Acute Myelogenous Leukemia (AML)',\n",
       " 'Diffuse Large B-cell Lymphoma (DLBCL)',\n",
       " 'Glioma',\n",
       " 'Non-Small Cell Lung Cancer (NSCLC), Squamous Cell Carcinoma',\n",
       " 'Ewings Sarcoma',\n",
       " 'Non-Small Cell Lung Cancer (NSCLC), Adenocarcinoma',\n",
       " 'Hepatocellular Carcinoma',\n",
       " 'Small Cell Lung Cancer (SCLC)',\n",
       " 'Non-Small Cell Lung Cancer (NSCLC), Squamous Cell Carcinoma',\n",
       " 'Transitional Cell Carcinoma',\n",
       " 'Clear Cell Carcinoma',\n",
       " 'B-cell, Non-Hodgkins',\n",
       " 'Small Cell Lung Cancer (SCLC)',\n",
       " 'Adenocarcinoma',\n",
       " 'Melanoma',\n",
       " 'B-cell, Non-Hodgkins, Burkitts',\n",
       " 'Adenocarcinoma',\n",
       " 'Melanoma',\n",
       " 'Chronic Lymphoblastic Leukemia (CLL), B-cell',\n",
       " 'Acute Myelogenous Leukemia (AML)',\n",
       " 'Malignant Mixed Mullerian Tumor (MMMT)',\n",
       " 'Squamous Cell Carcinoma',\n",
       " 'Adenocarcinoma, high grade serous',\n",
       " 'Osteosarcoma',\n",
       " 'Renal Carcinoma, clear cell',\n",
       " 'Adenocarcinoma',\n",
       " 'Breast',\n",
       " 'Non-Small Cell Lung Cancer (NSCLC), Adenocarcinoma',\n",
       " 'Squamous Cell Carcinoma, oral',\n",
       " 'Non-Small Cell Lung Cancer (NSCLC), Adenocarcinoma',\n",
       " 'Ductal Adenocarcinoma, exocrine',\n",
       " 'Chondrosarcoma',\n",
       " 'Multiple Myeloma',\n",
       " 'Hepatocellular Carcinoma',\n",
       " 'Adenocarcinoma',\n",
       " 'Hepatocellular Carcinoma',\n",
       " 'Melanoma',\n",
       " 'Ewings Sarcoma',\n",
       " 'Melanoma',\n",
       " 'Multiple Myeloma',\n",
       " 'Adenocarcinoma, tubular',\n",
       " 'Renal Cell Carcinoma',\n",
       " 'Renal Cell Carcinoma',\n",
       " 'Adenocarcinoma, high grade serous',\n",
       " 'Small Cell Lung Cancer (SCLC)',\n",
       " 'Chronic Myelogenous Leukemia (CML), blast crisis',\n",
       " 'Renal Carcinoma, clear cell',\n",
       " 'Non-Small Cell Lung Cancer (NSCLC), Large Cell Carcinoma',\n",
       " 'Endometrial Adenocarcinoma',\n",
       " 'Multiple Myeloma',\n",
       " 'Astrocytoma',\n",
       " 'Non-Small Cell Lung Cancer (NSCLC), Large Cell Carcinoma',\n",
       " 'Acute Myelogenous Leukemia (AML), M4 (Myelomonocytic)',\n",
       " 'B-cell, Non-Hodgkins, Burkitts',\n",
       " 'Melanoma',\n",
       " 'Non-Small Cell Lung Cancer (NSCLC), Squamous Cell Carcinoma',\n",
       " 'Adenocarcinoma, high grade serous',\n",
       " 'Non-Small Cell Lung Cancer (NSCLC), Large Cell Carcinoma',\n",
       " 'Glioblastoma',\n",
       " nan,\n",
       " 'Non-Small Cell Lung Cancer (NSCLC), Adenocarcinoma',\n",
       " 'Non-Small Cell Lung Cancer (NSCLC), Adenocarcinoma',\n",
       " 'Uterine Sarcoma',\n",
       " 'Melanoma',\n",
       " 'Non-Small Cell Lung Cancer (NSCLC), Adenocarcinoma',\n",
       " 'Squamous Cell Carcinoma',\n",
       " 'Multiple Myeloma',\n",
       " 'Non-Small Cell Lung Cancer (NSCLC), Squamous Cell Carcinoma',\n",
       " 'Glioblastoma',\n",
       " 'Carcinoma, papillary',\n",
       " 'Renal Cell Carcinoma',\n",
       " 'Melanoma',\n",
       " 'Renal Cell Carcinoma',\n",
       " 'Adenocarcinoma, high grade serous',\n",
       " 'Cholangiocarcinoma, extrahepatic',\n",
       " 'Chronic Myelogenous Leukemia (CML), blast crisis',\n",
       " 'Non-Small Cell Lung Cancer (NSCLC), Large Cell Carcinoma',\n",
       " 'Glioblastoma',\n",
       " 'Melanoma',\n",
       " 'Adenocarcinoma, tubular',\n",
       " 'Adenocarcinoma',\n",
       " 'Ductal Adenocarcinoma, exocrine',\n",
       " 'Glioblastoma',\n",
       " 'Adenocarcinoma',\n",
       " nan,\n",
       " 'Squamous Cell Carcinoma',\n",
       " 'Transitional Cell Carcinoma',\n",
       " 'Hepatocellular Carcinoma, HBs-antigen carrier',\n",
       " 'Hepatocellular Carcinoma',\n",
       " 'Melanoma',\n",
       " 'Hepatocellular Carcinoma',\n",
       " 'Glioblastoma',\n",
       " 'Hepatocellular Carcinoma',\n",
       " 'Non-Small Cell Lung Cancer (NSCLC), Squamous Cell Carcinoma',\n",
       " 'Non-Small Cell Lung Cancer (NSCLC), Adenocarcinoma',\n",
       " 'Hepatocellular Carcinoma',\n",
       " 'Renal Cell Carcinoma',\n",
       " 'Adenocarcinoma',\n",
       " 'Transitional Cell Carcinoma',\n",
       " 'Acute Myelogenous Leukemia (AML), M6 (Erythroleukemia)',\n",
       " 'Squamous Cell Carcinoma',\n",
       " 'Adenocarcinoma',\n",
       " 'Astrocytoma',\n",
       " 'Adenocarcinoma',\n",
       " 'Acute Lymphoblastic Leukemia (ALL), B-cell',\n",
       " 'Hepatocellular Carcinoma',\n",
       " nan,\n",
       " 'Renal Cell Carcinoma',\n",
       " 'Non-Small Cell Lung Cancer (NSCLC), Adenocarcinoma',\n",
       " 'Acute Myelogenous Leukemia (AML), M2 (Myeloblastic)',\n",
       " 'Ewings Sarcoma',\n",
       " 'Squamous Cell Carcinoma, laryngeal',\n",
       " 'Adenocarcinoma',\n",
       " 'Ductal Adenocarcinoma, exocrine',\n",
       " 'Squamous Cell Carcinoma, oral',\n",
       " 'Glioma',\n",
       " 'Leiomyosarcoma',\n",
       " 'Small Cell Lung Cancer (SCLC)',\n",
       " 'Adenocarcinoma',\n",
       " 'Small Cell Lung Cancer (SCLC)',\n",
       " 'T-cell, Non-Hodgkins, Cutaneous',\n",
       " 'Non-Small Cell Lung Cancer (NSCLC), Large Cell Carcinoma',\n",
       " 'Non-Small Cell Lung Cancer (NSCLC), Squamous Cell Carcinoma',\n",
       " 'Multiple Myeloma',\n",
       " 'Renal Carcinoma, clear cell',\n",
       " 'Small Cell Lung Cancer (SCLC)',\n",
       " 'Small Cell Lung Cancer (SCLC)',\n",
       " 'Chondrosarcoma',\n",
       " 'Ductal Adenocarcinoma, exocrine',\n",
       " 'Squamous Cell Carcinoma, oral',\n",
       " 'Acute Lymphoblastic Leukemia (ALL), T-cell',\n",
       " 'Adenocarcinoma, high grade serous',\n",
       " 'Non-Small Cell Lung Cancer (NSCLC), Adenocarcinoma',\n",
       " 'Transitional Cell Carcinoma',\n",
       " 'Small Cell Lung Cancer (SCLC)',\n",
       " 'Adenocarcinoma, high grade serous',\n",
       " 'Small Cell Lung Cancer (SCLC)',\n",
       " 'Bone',\n",
       " 'Adenocarcinoma, clear cell',\n",
       " 'Non-Small Cell Lung Cancer (NSCLC), Adenocarcinoma',\n",
       " 'Bone',\n",
       " 'Small Cell Lung Cancer (SCLC)',\n",
       " 'Lung',\n",
       " 'Adenocarcinoma',\n",
       " 'Malignant Rhabdoid Tumor',\n",
       " 'Diffuse Large B-cell Lymphoma (DLBCL)',\n",
       " 'Ductal Adenocarcinoma, exocrine',\n",
       " 'Breast Ductal Carcinoma',\n",
       " 'Hepatocellular Carcinoma',\n",
       " 'Duodenal Adenocarcinoma',\n",
       " 'Lung',\n",
       " 'Breast',\n",
       " 'Multiple Myeloma',\n",
       " 'Adenocarcinoma, low grade serous',\n",
       " 'Glioblastoma',\n",
       " 'Squamous Cell Carcinoma',\n",
       " 'Transitional Cell Carcinoma',\n",
       " 'Squamous Cell Carcinoma',\n",
       " 'Carcinoma',\n",
       " 'Squamous Cell Carcinoma, oral',\n",
       " 'Squamous Cell Carcinoma, laryngeal',\n",
       " 'Melanoma',\n",
       " 'Chronic Myelogenous Leukemia (CML), blast crisis',\n",
       " 'Adenocarcinoma',\n",
       " 'Non-Small Cell Lung Cancer (NSCLC), Squamous Cell Carcinoma',\n",
       " 'Breast Ductal Carcinoma',\n",
       " 'Renal Cell Carcinoma',\n",
       " 'Carcinoma',\n",
       " 'Acute Myelogenous Leukemia (AML), M5 (Eosinophilic/Monocytic)',\n",
       " 'Glioblastoma',\n",
       " 'Small Cell Lung Cancer (SCLC)',\n",
       " 'Small Cell Carcinoma',\n",
       " 'Squamous Cell Carcinoma',\n",
       " 'Non-Small Cell Lung Cancer (NSCLC), Adenocarcinoma',\n",
       " 'Non-Small Cell Lung Cancer (NSCLC), Squamous Cell Carcinoma',\n",
       " 'Multiple Myeloma',\n",
       " 'Adenocarcinoma',\n",
       " 'Transitional Cell Carcinoma',\n",
       " 'B-cell, Non-Hodgkins, Burkitts',\n",
       " 'Breast Ductal Carcinoma',\n",
       " 'Mesothelioma',\n",
       " 'Glioblastoma',\n",
       " 'Glioblastoma',\n",
       " 'Melanoma',\n",
       " 'Carcinoma',\n",
       " 'Adenocarcinoma, high grade serous',\n",
       " 'Non-Small Cell Lung Cancer (NSCLC), Adenocarcinoma',\n",
       " 'Multiple Myeloma',\n",
       " 'Hepatocellular Carcinoma',\n",
       " 'Non-Small Cell Lung Cancer (NSCLC), Adenocarcinoma',\n",
       " 'Melanoma',\n",
       " 'Melanoma, amelanotic',\n",
       " 'Adenocarcinoma',\n",
       " 'Melanoma',\n",
       " 'B-cell, Non-Hodgkins',\n",
       " 'Adenocarcinoma, high grade serous',\n",
       " 'Non-Small Cell Lung Cancer (NSCLC), Squamous Cell Carcinoma',\n",
       " 'Small Cell Lung Cancer (SCLC)',\n",
       " 'Non-Small Cell Lung Cancer (NSCLC), Adenocarcinoma',\n",
       " 'Multiple Myeloma',\n",
       " 'Non-Small Cell Lung Cancer (NSCLC), Adenocarcinoma',\n",
       " 'Non-Small Cell Lung Cancer (NSCLC), Adenocarcinoma',\n",
       " 'Astrocytoma',\n",
       " 'Glioma',\n",
       " 'Transitional Cell Carcinoma',\n",
       " 'Small Cell Lung Cancer (SCLC)',\n",
       " 'Glioblastoma',\n",
       " 'Non-Small Cell Lung Cancer (NSCLC), Large Cell Carcinoma',\n",
       " 'Malignant Rhabdoid Tumor',\n",
       " 'Multiple Myeloma',\n",
       " 'Ductal Adenocarcinoma, exocrine',\n",
       " 'Renal Cell Carcinoma',\n",
       " 'Ductal Adenocarcinoma, exocrine',\n",
       " 'Acute Myelogenous Leukemia (AML), M7 (Megakaryoblastic)',\n",
       " 'Non-Small Cell Lung Cancer (NSCLC), unspecified',\n",
       " 'Chronic Myelogenous Leukemia (CML), blast crisis',\n",
       " 'Squamous Cell Carcinoma',\n",
       " 'Squamous Cell Carcinoma, basaloid',\n",
       " 'Malignant Rhabdoid Tumor',\n",
       " 'Adenocarcinoma, mucinous',\n",
       " 'Astrocytoma',\n",
       " 'Small Cell Lung Cancer (SCLC)',\n",
       " 'Diffuse Large B-cell Lymphoma (DLBCL)',\n",
       " 'T-cell',\n",
       " 'Osteosarcoma',\n",
       " 'Melanoma',\n",
       " 'Melanoma',\n",
       " 'Adenocarcinoma',\n",
       " 'Adenocarcinoma, high grade serous',\n",
       " 'Squamous Cell Carcinoma, hypopharyngeal',\n",
       " 'Squamous Cell Carcinoma, oral',\n",
       " 'Hepatocellular Carcinoma',\n",
       " 'Breast Ductal Carcinoma',\n",
       " 'Glioblastoma',\n",
       " 'Glioblastoma',\n",
       " 'Breast Ductal Carcinoma',\n",
       " 'Hepatocellular Carcinoma',\n",
       " 'Multiple Myeloma, plasmacytoma',\n",
       " 'Non-Small Cell Lung Cancer (NSCLC), Large Cell Carcinoma',\n",
       " 'Non-Small Cell Lung Cancer (NSCLC), Adenosquamous Carcinoma',\n",
       " 'Meningioma',\n",
       " 'Squamous Cell Carcinoma, tongue',\n",
       " 'Astrocytoma',\n",
       " 'Melanoma',\n",
       " 'Adenocarcinoma',\n",
       " 'Glioblastoma',\n",
       " 'Cystadenocarcinoma, high grade serous',\n",
       " 'Acute Lymphoblastic Leukemia (ALL), T-cell',\n",
       " 'Squamous Cell Carcinoma',\n",
       " 'Non-Small Cell Lung Cancer (NSCLC), Adenocarcinoma',\n",
       " 'Small Cell Lung Cancer (SCLC)',\n",
       " 'Melanoma',\n",
       " 'Acute Myelogenous Leukemia (AML), M7 (Megakaryoblastic)',\n",
       " nan,\n",
       " 'Breast Ductal Carcinoma',\n",
       " 'Melanoma',\n",
       " 'Mesothelioma',\n",
       " 'Adenocarcinoma, clear cell',\n",
       " 'Squamous Cell Carcinoma',\n",
       " 'Mesothelioma',\n",
       " 'Renal Carcinoma, clear cell',\n",
       " 'Melanoma',\n",
       " 'Adenocarcinoma',\n",
       " 'Ductal Adenocarcinoma, exocrine',\n",
       " 'Multiple Myeloma',\n",
       " 'B-cell, Non-Hodgkins, Burkitts',\n",
       " 'Glioma',\n",
       " 'Diffuse Large B-cell Lymphoma (DLBCL)',\n",
       " 'Adenocarcinoma, endometrioid',\n",
       " 'Multiple Myeloma',\n",
       " 'Small Cell Lung Cancer (SCLC)',\n",
       " 'Diffuse Large B-cell Lymphoma (DLBCL)',\n",
       " 'Melanoma',\n",
       " 'Non-Small Cell Lung Cancer (NSCLC), Large Cell Carcinoma',\n",
       " 'Adenocarcinoma, clear cell',\n",
       " 'T-cell, Non-Hodgkins, Anaplastic Large Cell (ALCL)',\n",
       " 'Non-Small Cell Lung Cancer (NSCLC), Squamous Cell Carcinoma',\n",
       " 'Non-Small Cell Lung Cancer (NSCLC), Adenocarcinoma',\n",
       " 'Non-Small Cell Lung Cancer (NSCLC), Adenocarcinoma',\n",
       " 'Breast Ductal Carcinoma',\n",
       " 'Non-Small Cell Lung Cancer (NSCLC), Squamous Cell Carcinoma',\n",
       " 'Small Cell Lung Cancer (SCLC)',\n",
       " 'Hepatoblastoma',\n",
       " 'Non-Small Cell Lung Cancer (NSCLC), Large Cell Carcinoma',\n",
       " 'Glioblastoma',\n",
       " 'Adenocarcinoma',\n",
       " 'Non-Small Cell Lung Cancer (NSCLC), Adenocarcinoma',\n",
       " 'Glioblastoma',\n",
       " 'Non-Small Cell Lung Cancer (NSCLC), Adenocarcinoma',\n",
       " 'Adenocarcinoma, tubular',\n",
       " 'Squamous Cell Carcinoma',\n",
       " 'Adenocarcinoma',\n",
       " 'Non-Small Cell Lung Cancer (NSCLC), Adenocarcinoma',\n",
       " 'Squamous Cell Carcinoma',\n",
       " 'Adenocarcinoma',\n",
       " 'Renal Carcinoma, clear cell',\n",
       " 'Ductal Adenosquamous Carcinoma',\n",
       " 'Hepatocellular Carcinoma',\n",
       " 'B-cell, Non-Hodgkins',\n",
       " 'Adenocarcinoma, mixed',\n",
       " 'Rhabdomyosarcoma',\n",
       " 'Non-Small Cell Lung Cancer (NSCLC), Squamous Cell Carcinoma',\n",
       " 'Breast Ductal Carcinoma',\n",
       " 'Squamous Cell Carcinoma, laryngeal',\n",
       " 'Squamous Cell Carcinoma',\n",
       " 'Squamous Cell Carcinoma',\n",
       " 'Small Cell Lung Cancer (SCLC)',\n",
       " 'Adenocarcinoma, high grade serous',\n",
       " 'Diffuse Large B-cell Lymphoma (DLBCL)',\n",
       " 'Small Cell Lung Cancer (SCLC)',\n",
       " 'Breast Ductal Carcinoma',\n",
       " 'Non-Small Cell Lung Cancer (NSCLC), Squamous Cell Carcinoma',\n",
       " 'Cystadenocarcinoma, mucinous',\n",
       " 'B-cell, Hodgkins',\n",
       " 'Small Cell Lung Cancer (SCLC)',\n",
       " 'Carcinoma',\n",
       " 'Non-Small Cell Lung Cancer (NSCLC), Squamous Cell Carcinoma',\n",
       " 'Non-Small Cell Lung Cancer (NSCLC), Adenocarcinoma',\n",
       " 'B-cell, Non-Hodgkins, Burkitts',\n",
       " 'Adenocarcinoma',\n",
       " 'Renal Carcinoma, clear cell',\n",
       " 'Non-Small Cell Lung Cancer (NSCLC), Adenocarcinoma',\n",
       " 'Breast Ductal Carcinoma',\n",
       " 'Non-Small Cell Lung Cancer (NSCLC), Adenocarcinoma',\n",
       " 'Adenocarcinoma, high grade serous',\n",
       " 'Multiple Myeloma',\n",
       " 'Squamous Cell Carcinoma, laryngeal',\n",
       " 'Carcinoma, follicular',\n",
       " 'Squamous Cell Carcinoma',\n",
       " 'Non-Small Cell Lung Cancer (NSCLC), Adenocarcinoma',\n",
       " 'Adenocarcinoma, clear cell',\n",
       " 'Transitional Cell Carcinoma',\n",
       " 'Carcinoma',\n",
       " 'Adenocarcinoma',\n",
       " 'Squamous Cell Carcinoma, tongue',\n",
       " 'Carcinoma',\n",
       " 'Breast Ductal Carcinoma',\n",
       " 'Squamous Cell Carcinoma',\n",
       " 'Small Cell Lung Cancer (SCLC)',\n",
       " 'Acute Lymphoblastic Leukemia (ALL), B-cell',\n",
       " 'Small Cell Lung Cancer (SCLC)',\n",
       " 'Melanoma',\n",
       " 'Non-Small Cell Lung Cancer (NSCLC), Adenocarcinoma',\n",
       " 'Squamous Cell Carcinoma, oral',\n",
       " 'Non-Small Cell Lung Cancer (NSCLC), Adenocarcinoma',\n",
       " 'Hepatocellular Carcinoma',\n",
       " 'Squamous Cell Carcinoma, oral',\n",
       " 'Adenocarcinoma, signet ring cell',\n",
       " 'Non-Small Cell Lung Cancer (NSCLC), Squamous Cell Carcinoma',\n",
       " 'Glioblastoma',\n",
       " 'Hepatocellular Carcinoma',\n",
       " 'Squamous Cell Carcinoma, salivary gland',\n",
       " 'Transitional Cell Carcinoma',\n",
       " 'Lung',\n",
       " 'Small Cell Lung Cancer (SCLC)',\n",
       " 'Non-Small Cell Lung Cancer (NSCLC), Adenocarcinoma',\n",
       " 'Multiple Myeloma',\n",
       " 'Adenocarcinoma',\n",
       " 'Non-Small Cell Lung Cancer (NSCLC), Squamous Cell Carcinoma',\n",
       " 'Osteosarcoma',\n",
       " 'Small Cell Lung Cancer (SCLC)',\n",
       " 'Melanoma',\n",
       " 'Acute Myelogenous Leukemia (AML), M6 (Erythroleukemia)',\n",
       " 'Small Cell Lung Cancer (SCLC)',\n",
       " 'Carcinoma',\n",
       " 'B-cell, Hodgkins',\n",
       " 'Breast Ductal Carcinoma',\n",
       " 'Glioblastoma',\n",
       " 'Non-Small Cell Lung Cancer (NSCLC), Adenocarcinoma',\n",
       " 'Adenocarcinoma',\n",
       " 'Breast Ductal Carcinoma',\n",
       " 'Glioblastoma',\n",
       " 'Adenocarcinoma',\n",
       " 'Squamous Cell Carcinoma',\n",
       " 'Multiple Myeloma',\n",
       " 'Adenocarcinoma, mucinous',\n",
       " 'Melanoma',\n",
       " 'Non-Small Cell Lung Cancer (NSCLC), Adenocarcinoma',\n",
       " 'Small Cell Lung Cancer (SCLC)',\n",
       " 'Carcinoma',\n",
       " 'Non-Small Cell Lung Cancer (NSCLC), Squamous Cell Carcinoma',\n",
       " 'Acute Myelogenous Leukemia (AML), M5 (Eosinophilic/Monocytic)',\n",
       " 'Squamous Cell Carcinoma, oral',\n",
       " 'Rhabdomyosarcoma',\n",
       " 'T-cell, Non-Hodgkins, Anaplastic Large Cell (ALCL)',\n",
       " 'Non-Small Cell Lung Cancer (NSCLC), Adenocarcinoma',\n",
       " 'Carcinoid',\n",
       " 'Medulloblastoma',\n",
       " 'Squamous Cell Carcinoma',\n",
       " 'Squamous Cell Carcinoma',\n",
       " 'Non-Small Cell Lung Cancer (NSCLC), Adenocarcinoma',\n",
       " 'Small Cell Lung Cancer (SCLC)',\n",
       " 'Non-Small Cell Lung Cancer (NSCLC), Adenocarcinoma',\n",
       " 'Acute Lymphoblastic Leukemia (ALL), B-cell',\n",
       " 'Carcinoma',\n",
       " 'Squamous Cell Carcinoma',\n",
       " 'Non-Small Cell Lung Cancer (NSCLC), Adenocarcinoma',\n",
       " 'B-cell, Non-Hodgkins, Burkitts',\n",
       " 'Non-Small Cell Lung Cancer (NSCLC), Adenocarcinoma',\n",
       " 'Melanoma',\n",
       " 'Non-Small Cell Lung Cancer (NSCLC), Large Cell Carcinoma',\n",
       " 'Small Cell Lung Cancer (SCLC)',\n",
       " 'Non-Small Cell Lung Cancer (NSCLC), Adenocarcinoma',\n",
       " 'Renal Carcinoma, transitional cell',\n",
       " 'Adenocarcinoma, signet ring cell',\n",
       " 'Squamous Cell Carcinoma, oral',\n",
       " 'Acute Lymphoblastic Leukemia (ALL), T-cell',\n",
       " 'Cystadenocarcinoma, mucinous',\n",
       " 'Lung',\n",
       " 'Adenocarcinoma',\n",
       " 'Melanoma, amelanotic',\n",
       " 'Small Cell Lung Cancer (SCLC)',\n",
       " 'Melanoma',\n",
       " 'Transitional Cell Carcinoma',\n",
       " 'Small Cell Lung Cancer (SCLC)',\n",
       " nan,\n",
       " 'Melanoma',\n",
       " 'B-cell, Hodgkins',\n",
       " 'Oligodendroglioma',\n",
       " 'Cholangiocarcinoma, intrahepatic',\n",
       " 'Squamous Cell Carcinoma',\n",
       " 'Melanoma',\n",
       " 'Cystadenocarcinoma, endometrioid',\n",
       " 'Melanoma',\n",
       " 'Non-Small Cell Lung Cancer (NSCLC), Large Cell Carcinoma',\n",
       " 'Melanoma',\n",
       " 'B-cell, Hodgkins',\n",
       " 'Small Cell Lung Cancer (SCLC)',\n",
       " 'Multiple Myeloma, plasmacytoma',\n",
       " 'Breast Ductal Carcinoma',\n",
       " 'Glioblastoma',\n",
       " 'Adenocarcinoma',\n",
       " 'Multiple Myeloma',\n",
       " 'Melanoma',\n",
       " 'Squamous Cell Carcinoma',\n",
       " 'Squamous Cell Carcinoma',\n",
       " 'Non-Small Cell Lung Cancer (NSCLC), unspecified',\n",
       " 'Non-Small Cell Lung Cancer (NSCLC), unspecified',\n",
       " 'Melanoma',\n",
       " 'Breast Ductal Carcinoma',\n",
       " 'Multiple Myeloma',\n",
       " 'Small Cell Lung Cancer (SCLC)',\n",
       " 'Endometrial Adenocarcinoma',\n",
       " 'Squamous Cell Carcinoma',\n",
       " 'Rhabdomyosarcoma, alveolar',\n",
       " 'Transitional Cell Carcinoma',\n",
       " 'Pleomorphic Sarcoma',\n",
       " 'Squamous Cell Carcinoma, tongue',\n",
       " 'Non-Small Cell Lung Cancer (NSCLC), Adenocarcinoma',\n",
       " 'Multiple Myeloma, plasmacytoma',\n",
       " 'Squamous Cell Carcinoma',\n",
       " 'Non-Small Cell Lung Cancer (NSCLC), Adenosquamous Carcinoma',\n",
       " 'Non-Small Cell Lung Cancer (NSCLC), Adenocarcinoma',\n",
       " 'Adenocarcinoma',\n",
       " 'Non-Small Cell Lung Cancer (NSCLC), Squamous Cell Carcinoma',\n",
       " 'Small Cell Lung Cancer (SCLC)',\n",
       " 'Non-Small Cell Lung Cancer (NSCLC), Adenocarcinoma',\n",
       " 'Squamous Cell Carcinoma',\n",
       " 'Adenocarcinoma',\n",
       " 'Hepatocellular Carcinoma',\n",
       " 'Carcinoma',\n",
       " 'Colorectal',\n",
       " 'Non-Small Cell Lung Cancer (NSCLC), Adenocarcinoma',\n",
       " 'Non-Small Cell Lung Cancer (NSCLC), Adenocarcinoma',\n",
       " 'Non-Small Cell Lung Cancer (NSCLC), Large Cell Carcinoma',\n",
       " 'Multiple Myeloma',\n",
       " 'Squamous Cell Carcinoma',\n",
       " 'Carcinoma',\n",
       " 'Carcinoma',\n",
       " 'Non-Small Cell Lung Cancer (NSCLC), Squamous Cell Carcinoma',\n",
       " 'Breast Ductal Carcinoma',\n",
       " 'Non-Small Cell Lung Cancer (NSCLC), Adenocarcinoma',\n",
       " 'Non-Small Cell Lung Cancer (NSCLC), Adenocarcinoma',\n",
       " 'Carcinoma',\n",
       " 'Glioblastoma',\n",
       " 'Endometrial Adenocarcinoma',\n",
       " 'Squamous Cell Carcinoma',\n",
       " 'Small Cell Lung Cancer (SCLC)',\n",
       " 'Non-Small Cell Lung Cancer (NSCLC), unspecified',\n",
       " 'Non-Small Cell Lung Cancer (NSCLC), Adenosquamous Carcinoma',\n",
       " 'Non-Small Cell Lung Cancer (NSCLC), Adenocarcinoma',\n",
       " 'Small Cell Lung Cancer (SCLC)',\n",
       " 'Small Cell Lung Cancer (SCLC)',\n",
       " 'Non-Small Cell Lung Cancer (NSCLC), Adenocarcinoma',\n",
       " 'Squamous Cell Carcinoma',\n",
       " 'Acute Lymphoblastic Leukemia (ALL), B-cell',\n",
       " 'Non-Small Cell Lung Cancer (NSCLC), Adenocarcinoma',\n",
       " 'Carcinoma',\n",
       " 'B-cell, Non-Hodgkins, Burkitts',\n",
       " 'Non-Small Cell Lung Cancer (NSCLC), Squamous Cell Carcinoma',\n",
       " 'Endometrial Adenocarcinoma',\n",
       " 'Adenocarcinoma',\n",
       " 'Melanoma',\n",
       " 'Melanoma',\n",
       " 'Astrocytoma',\n",
       " 'Melanoma, amelanotic',\n",
       " 'Adenocarcinoma, clear cell',\n",
       " 'Non-Small Cell Lung Cancer (NSCLC), Adenocarcinoma',\n",
       " 'Glioblastoma',\n",
       " 'Non-Small Cell Lung Cancer (NSCLC), Adenocarcinoma',\n",
       " 'Multiple Myeloma',\n",
       " 'Small Cell Lung Cancer (SCLC)',\n",
       " 'Non-Small Cell Lung Cancer (NSCLC), Large Cell Carcinoma',\n",
       " 'Non-Small Cell Lung Cancer (NSCLC), Adenocarcinoma',\n",
       " 'Non-Small Cell Lung Cancer (NSCLC), Adenocarcinoma',\n",
       " 'Non-Small Cell Lung Cancer (NSCLC), Squamous Cell Carcinoma',\n",
       " 'Adenocarcinoma',\n",
       " 'Carcinoma',\n",
       " 'Carcinoma, follicular',\n",
       " 'Adenocarcinoma, tubular',\n",
       " 'Melanoma',\n",
       " 'Non-Small Cell Lung Cancer (NSCLC), Adenocarcinoma',\n",
       " 'Non-Small Cell Lung Cancer (NSCLC), Large Cell Carcinoma',\n",
       " 'Breast Ductal Carcinoma',\n",
       " 'Carcinoma, anaplastic',\n",
       " 'Non-Small Cell Lung Cancer (NSCLC), Large Cell Carcinoma',\n",
       " nan,\n",
       " 'Adenocarcinoma, clear cell',\n",
       " 'Renal Carcinoma, clear cell',\n",
       " 'Adenocarcinoma',\n",
       " 'Endometrial Adenocarcinoma',\n",
       " 'Carcinoma',\n",
       " 'Adenocarcinoma',\n",
       " 'Small Cell Lung Cancer (SCLC)',\n",
       " 'Endometrial Stromal Sarcoma',\n",
       " 'B-cell, Non-Hodgkins',\n",
       " 'Melanoma',\n",
       " 'Non-Small Cell Lung Cancer (NSCLC), Adenocarcinoma',\n",
       " 'Squamous Cell Carcinoma',\n",
       " 'Acute Lymphoblastic Leukemia (ALL), T-cell',\n",
       " 'Adenocarcinoma',\n",
       " 'Chronic Myelogenous Leukemia (CML), blast crisis',\n",
       " 'Small Cell Lung Cancer (SCLC)',\n",
       " 'Acute Lymphoblastic Leukemia (ALL), B-cell',\n",
       " 'B-cell, Non-Hodgkins',\n",
       " 'Non-Small Cell Lung Cancer (NSCLC), unspecified',\n",
       " 'Non-Small Cell Lung Cancer (NSCLC), Adenocarcinoma',\n",
       " 'Adenocarcinoma',\n",
       " 'Breast Ductal Carcinoma',\n",
       " 'Endometrial Adenocarcinoma',\n",
       " 'Non-Small Cell Lung Cancer (NSCLC), unspecified',\n",
       " 'Carcinoma',\n",
       " 'Melanoma',\n",
       " 'Adenocarcinoma',\n",
       " 'Ductal Adenocarcinoma, exocrine',\n",
       " 'Carcinoma',\n",
       " 'Adenocarcinoma',\n",
       " 'Adenocarcinoma, endometrioid',\n",
       " 'Acute Lymphoblastic Leukemia (ALL), T-cell',\n",
       " 'Acute Lymphoblastic Leukemia (ALL), B-cell',\n",
       " 'Leiomyosarcoma',\n",
       " 'Endometrial Adenocarcinoma',\n",
       " 'Endometrial Adenocarcinoma',\n",
       " 'Acute Lymphoblastic Leukemia (ALL), T-cell',\n",
       " 'Adenocarcinoma',\n",
       " 'B-cell, Non-Hodgkins, Burkitts',\n",
       " 'Non-Small Cell Lung Cancer (NSCLC), Adenocarcinoma',\n",
       " 'Endometrial Adenocarcinoma',\n",
       " 'Adenocarcinoma, endometrioid',\n",
       " 'Adenocarcinoma',\n",
       " 'Adenocarcinoma',\n",
       " 'Adenocarcinoma',\n",
       " 'Non-Small Cell Lung Cancer (NSCLC), Adenocarcinoma',\n",
       " 'Adenocarcinoma',\n",
       " 'Acute Lymphoblastic Leukemia (ALL), T-cell',\n",
       " 'Endometrial Adenocarcinoma',\n",
       " 'Adenocarcinoma',\n",
       " 'Adenocarcinoma',\n",
       " 'Adenocarcinoma',\n",
       " 'Adenocarcinoma',\n",
       " 'Adenocarcinoma',\n",
       " 'Acute Lymphoblastic Leukemia (ALL), B-cell',\n",
       " 'Endometrial Adenocarcinoma',\n",
       " 'Cystadenocarcinoma, clear cell',\n",
       " 'Adenocarcinoma',\n",
       " 'Acute Lymphoblastic Leukemia (ALL), T-cell',\n",
       " 'Endometrial Adenosquamous Carcinoma',\n",
       " 'Adenocarcinoma, mixed',\n",
       " 'Adenocarcinoma',\n",
       " 'Melanoma',\n",
       " 'Adenocarcinoma',\n",
       " 'Adenocarcinoma',\n",
       " 'Adenocarcinoma',\n",
       " 'Endometrial Adenocarcinoma',\n",
       " 'Transitional Cell Carcinoma',\n",
       " 'Endometrial Adenocarcinoma',\n",
       " 'Non-Small Cell Lung Cancer (NSCLC), Squamous Cell Carcinoma',\n",
       " 'Cholangiocarcinoma, intrahepatic',\n",
       " 'Adenocarcinoma',\n",
       " 'Endometrial Adenocarcinoma',\n",
       " 'Adenocarcinoma',\n",
       " 'Non-Small Cell Lung Cancer (NSCLC), Large Cell Carcinoma',\n",
       " 'Acute Lymphoblastic Leukemia (ALL), T-cell',\n",
       " 'Adenocarcinoma',\n",
       " 'Chronic Myelogenous Leukemia (CML), blast crisis',\n",
       " 'Endometrial Adenocarcinoma',\n",
       " 'Adenocarcinoma',\n",
       " 'Adenocarcinoma',\n",
       " 'Melanoma',\n",
       " nan,\n",
       " 'Adenocarcinoma, mucinous',\n",
       " 'Endometrial Adenocarcinoma',\n",
       " 'Adenocarcinoma',\n",
       " 'Squamous Cell Carcinoma',\n",
       " 'Endometrial Adenocarcinoma',\n",
       " 'Endometrial Adenocarcinoma',\n",
       " 'Acute Lymphoblastic Leukemia (ALL), T-cell',\n",
       " 'Endometrial Adenocarcinoma',\n",
       " 'Adenocarcinoma',\n",
       " 'Adenocarcinoma',\n",
       " 'Adenocarcinoma',\n",
       " 'Astrocytoma',\n",
       " 'Osteosarcoma',\n",
       " 'Melanoma',\n",
       " ...]"
      ]
     },
     "execution_count": 78,
     "metadata": {},
     "output_type": "execute_result"
    }
   ],
   "source": [
    "datalist"
   ]
  },
  {
   "cell_type": "code",
   "execution_count": 65,
   "metadata": {
    "collapsed": true,
    "jupyter": {
     "outputs_hidden": true
    }
   },
   "outputs": [
    {
     "ename": "ValueError",
     "evalue": "Cannot mask with non-boolean array containing NA / NaN values",
     "output_type": "error",
     "traceback": [
      "\u001b[0;31m---------------------------------------------------------------------------\u001b[0m",
      "\u001b[0;31mValueError\u001b[0m                                Traceback (most recent call last)",
      "\u001b[0;32m<ipython-input-65-4d4734510207>\u001b[0m in \u001b[0;36m<module>\u001b[0;34m\u001b[0m\n\u001b[0;32m----> 1\u001b[0;31m \u001b[0mdata\u001b[0m\u001b[0;34m[\u001b[0m\u001b[0mdata\u001b[0m\u001b[0;34m[\u001b[0m\u001b[0;34m'Subtype'\u001b[0m\u001b[0;34m]\u001b[0m\u001b[0;34m.\u001b[0m\u001b[0mstr\u001b[0m\u001b[0;34m.\u001b[0m\u001b[0mmatch\u001b[0m\u001b[0;34m(\u001b[0m\u001b[0;34m\"AML\"\u001b[0m\u001b[0;34m)\u001b[0m\u001b[0;34m]\u001b[0m\u001b[0;34m\u001b[0m\u001b[0;34m\u001b[0m\u001b[0m\n\u001b[0m",
      "\u001b[0;32m~/anaconda3/lib/python3.8/site-packages/pandas/core/frame.py\u001b[0m in \u001b[0;36m__getitem__\u001b[0;34m(self, key)\u001b[0m\n\u001b[1;32m   2788\u001b[0m \u001b[0;34m\u001b[0m\u001b[0m\n\u001b[1;32m   2789\u001b[0m         \u001b[0;31m# Do we have a (boolean) 1d indexer?\u001b[0m\u001b[0;34m\u001b[0m\u001b[0;34m\u001b[0m\u001b[0;34m\u001b[0m\u001b[0m\n\u001b[0;32m-> 2790\u001b[0;31m         \u001b[0;32mif\u001b[0m \u001b[0mcom\u001b[0m\u001b[0;34m.\u001b[0m\u001b[0mis_bool_indexer\u001b[0m\u001b[0;34m(\u001b[0m\u001b[0mkey\u001b[0m\u001b[0;34m)\u001b[0m\u001b[0;34m:\u001b[0m\u001b[0;34m\u001b[0m\u001b[0;34m\u001b[0m\u001b[0m\n\u001b[0m\u001b[1;32m   2791\u001b[0m             \u001b[0;32mreturn\u001b[0m \u001b[0mself\u001b[0m\u001b[0;34m.\u001b[0m\u001b[0m_getitem_bool_array\u001b[0m\u001b[0;34m(\u001b[0m\u001b[0mkey\u001b[0m\u001b[0;34m)\u001b[0m\u001b[0;34m\u001b[0m\u001b[0;34m\u001b[0m\u001b[0m\n\u001b[1;32m   2792\u001b[0m \u001b[0;34m\u001b[0m\u001b[0m\n",
      "\u001b[0;32m~/anaconda3/lib/python3.8/site-packages/pandas/core/common.py\u001b[0m in \u001b[0;36mis_bool_indexer\u001b[0;34m(key)\u001b[0m\n\u001b[1;32m    134\u001b[0m                 \u001b[0mna_msg\u001b[0m \u001b[0;34m=\u001b[0m \u001b[0;34m\"Cannot mask with non-boolean array containing NA / NaN values\"\u001b[0m\u001b[0;34m\u001b[0m\u001b[0;34m\u001b[0m\u001b[0m\n\u001b[1;32m    135\u001b[0m                 \u001b[0;32mif\u001b[0m \u001b[0misna\u001b[0m\u001b[0;34m(\u001b[0m\u001b[0mkey\u001b[0m\u001b[0;34m)\u001b[0m\u001b[0;34m.\u001b[0m\u001b[0many\u001b[0m\u001b[0;34m(\u001b[0m\u001b[0;34m)\u001b[0m\u001b[0;34m:\u001b[0m\u001b[0;34m\u001b[0m\u001b[0;34m\u001b[0m\u001b[0m\n\u001b[0;32m--> 136\u001b[0;31m                     \u001b[0;32mraise\u001b[0m \u001b[0mValueError\u001b[0m\u001b[0;34m(\u001b[0m\u001b[0mna_msg\u001b[0m\u001b[0;34m)\u001b[0m\u001b[0;34m\u001b[0m\u001b[0;34m\u001b[0m\u001b[0m\n\u001b[0m\u001b[1;32m    137\u001b[0m                 \u001b[0;32mreturn\u001b[0m \u001b[0;32mFalse\u001b[0m\u001b[0;34m\u001b[0m\u001b[0;34m\u001b[0m\u001b[0m\n\u001b[1;32m    138\u001b[0m             \u001b[0;32mreturn\u001b[0m \u001b[0;32mTrue\u001b[0m\u001b[0;34m\u001b[0m\u001b[0;34m\u001b[0m\u001b[0m\n",
      "\u001b[0;31mValueError\u001b[0m: Cannot mask with non-boolean array containing NA / NaN values"
     ]
    }
   ],
   "source": [
    "data[data['Subtype'].str.match(\"AML\")]"
   ]
  },
  {
   "cell_type": "code",
   "execution_count": 66,
   "metadata": {},
   "outputs": [
    {
     "data": {
      "text/plain": [
       "0                       Adenocarcinoma, high grade serous\n",
       "1       Acute Myelogenous Leukemia (AML), M3 (Promyelo...\n",
       "2                                          Adenocarcinoma\n",
       "3       Acute Myelogenous Leukemia (AML), M6 (Erythrol...\n",
       "4       Acute Myelogenous Leukemia (AML), M6 (Erythrol...\n",
       "                              ...                        \n",
       "1799                   Chronic Myelogenous Leukemia (CML)\n",
       "1800                                      Melanoma, acral\n",
       "1801                                      Melanoma, acral\n",
       "1802                                      Melanoma, acral\n",
       "1803                                    Melanoma, mucosal\n",
       "Name: Subtype, Length: 1804, dtype: object"
      ]
     },
     "execution_count": 66,
     "metadata": {},
     "output_type": "execute_result"
    }
   ],
   "source": [
    "data['Subtype']"
   ]
  },
  {
   "cell_type": "code",
   "execution_count": 14,
   "metadata": {},
   "outputs": [],
   "source": [
    "cdk6 = effect['CDK6']"
   ]
  },
  {
   "cell_type": "code",
   "execution_count": 23,
   "metadata": {},
   "outputs": [],
   "source": [
    "cdk6 = cdk6.sort_values()"
   ]
  },
  {
   "cell_type": "code",
   "execution_count": 26,
   "metadata": {},
   "outputs": [
    {
     "data": {
      "text/plain": [
       "DB       -2.475259\n",
       "AML193   -2.056662\n",
       "THP1     -1.795163\n",
       "OCIMY5   -1.643574\n",
       "U937     -1.598968\n",
       "Name: CDK6, dtype: float64"
      ]
     },
     "execution_count": 26,
     "metadata": {},
     "output_type": "execute_result"
    }
   ],
   "source": [
    "cdk6.head()"
   ]
  },
  {
   "cell_type": "code",
   "execution_count": 34,
   "metadata": {},
   "outputs": [
    {
     "name": "stdout",
     "output_type": "stream",
     "text": [
      "769\n"
     ]
    }
   ],
   "source": [
    "sample = cdk6.index.to_list()\n",
    "print(len(sample))\n",
    "sample = sample[0:30]"
   ]
  },
  {
   "cell_type": "code",
   "execution_count": 52,
   "metadata": {},
   "outputs": [],
   "source": [
    "sampledf = pd.DataFrame(sample)"
   ]
  },
  {
   "cell_type": "code",
   "execution_count": 58,
   "metadata": {},
   "outputs": [
    {
     "name": "stdout",
     "output_type": "stream",
     "text": [
      "333    Diffuse Large B-cell Lymphoma (DLBCL)\n",
      "860                             Glioblastoma\n",
      "Name: Subtype, dtype: object\n",
      "554    Acute Myelogenous Leukemia (AML), M5 (Eosinoph...\n",
      "Name: Subtype, dtype: object\n",
      "145    Acute Myelogenous Leukemia (AML), M5 (Eosinoph...\n",
      "Name: Subtype, dtype: object\n",
      "851    Multiple Myeloma\n",
      "Name: Subtype, dtype: object\n",
      "405    Acute Myelogenous Leukemia (AML)\n",
      "Name: Subtype, dtype: object\n",
      "361    Acute Myelogenous Leukemia (AML)\n",
      "Name: Subtype, dtype: object\n",
      "4    Acute Myelogenous Leukemia (AML), M6 (Erythrol...\n",
      "Name: Subtype, dtype: object\n",
      "1161    NaN\n",
      "Name: Subtype, dtype: object\n",
      "23    Multiple Myeloma\n",
      "Name: Subtype, dtype: object\n",
      "1286    Squamous Cell Carcinoma\n",
      "Name: Subtype, dtype: object\n",
      "364    Diffuse Large B-cell Lymphoma (DLBCL)\n",
      "Name: Subtype, dtype: object\n",
      "1369    Cholangiocarcinoma, extrahepatic\n",
      "Name: Subtype, dtype: object\n",
      "314    Diffuse Large B-cell Lymphoma (DLBCL)\n",
      "Name: Subtype, dtype: object\n",
      "866    Non-Small Cell Lung Cancer (NSCLC), Adenocarci...\n",
      "Name: Subtype, dtype: object\n",
      "760    Multiple Myeloma\n",
      "Name: Subtype, dtype: object\n",
      "140    Adenocarcinoma\n",
      "Name: Subtype, dtype: object\n",
      "425    Multiple Myeloma\n",
      "Name: Subtype, dtype: object\n",
      "1390    Acute Lymphoblastic Leukemia (ALL), B-cell\n",
      "Name: Subtype, dtype: object\n",
      "547    Melanoma\n",
      "Name: Subtype, dtype: object\n",
      "1605    Chordoma, sacral\n",
      "Name: Subtype, dtype: object\n",
      "732    Squamous Cell Carcinoma, oral\n",
      "Name: Subtype, dtype: object\n",
      "1036    Medulloblastoma\n",
      "Name: Subtype, dtype: object\n",
      "1430    Cholangiocarcinoma, intrahepatic\n",
      "Name: Subtype, dtype: object\n",
      "775              Squamous Cell Carcinoma\n",
      "1543    Adenocarcinoma, signet ring cell\n",
      "Name: Subtype, dtype: object\n",
      "1394    Rhabdomyosarcoma, alveolar\n",
      "Name: Subtype, dtype: object\n",
      "167    Acute Myelogenous Leukemia (AML), M5 (Eosinoph...\n",
      "Name: Subtype, dtype: object\n",
      "1284    Squamous Cell Carcinoma\n",
      "Name: Subtype, dtype: object\n",
      "619    Glioblastoma\n",
      "Name: Subtype, dtype: object\n",
      "233    Renal Carcinoma, clear cell\n",
      "Name: Subtype, dtype: object\n",
      "182    Multiple Myeloma\n",
      "Name: Subtype, dtype: object\n"
     ]
    }
   ],
   "source": [
    "for _ in sample:\n",
    "    print(data[data['CCLE_Name'].str.match(_)]['Subtype'])"
   ]
  },
  {
   "cell_type": "code",
   "execution_count": 79,
   "metadata": {},
   "outputs": [
    {
     "data": {
      "text/plain": [
       "2.8973614754696634e-05"
      ]
     },
     "execution_count": 79,
     "metadata": {},
     "output_type": "execute_result"
    }
   ],
   "source": [
    "hypergeom.sf(7,769,36,30)"
   ]
  },
  {
   "cell_type": "code",
   "execution_count": null,
   "metadata": {},
   "outputs": [],
   "source": [
    "rvs1 = stats.norm.rvs(loc=5,scale=10,size=30)\n",
    "\n",
    "rvs2 = stats.norm.rvs(loc=5,scale=10,size=687)\n",
    "\n",
    "stats.ttest_ind(rvs1,rvs2)"
   ]
  },
  {
   "cell_type": "code",
   "execution_count": null,
   "metadata": {},
   "outputs": [],
   "source": [
    "*    M is the population size\n",
    "*    n is the number of successes in the population\n",
    "*    N is the sample size\n",
    "*    X is still the number of drawn “successes”\n",
    "\n",
    "pval = hypergeom.sf(4, 783, 121, 20)\n",
    "pval"
   ]
  },
  {
   "cell_type": "code",
   "execution_count": 49,
   "metadata": {},
   "outputs": [],
   "source": [
    "def counting_phenotypes(top1):\n",
    "    data1 = data[data['CCLE_Name'].str.match(top1)]\n",
    "                          \n",
    "    data1[data1[\"Subtype\"].str.match(\"AML\")]\n",
    "    top1_count = [i for j in top1_count for i in j]\n",
    "    top1_count = sum(top1_count)\n",
    "    \n",
    "    return(top1_count)"
   ]
  },
  {
   "cell_type": "code",
   "execution_count": 175,
   "metadata": {
    "collapsed": true,
    "jupyter": {
     "outputs_hidden": true
    }
   },
   "outputs": [
    {
     "name": "stdout",
     "output_type": "stream",
     "text": [
      "0 31\n"
     ]
    }
   ],
   "source": [
    "print(top1,top2)"
   ]
  },
  {
   "cell_type": "code",
   "execution_count": 164,
   "metadata": {},
   "outputs": [],
   "source": [
    "t1,t2,b1,b2 = counting_hits(t1,t2,b1,b2,\"APC_mut_del\")"
   ]
  },
  {
   "cell_type": "code",
   "execution_count": 159,
   "metadata": {},
   "outputs": [
    {
     "data": {
      "text/plain": [
       "<enumerate at 0x7f598fd16c40>"
      ]
     },
     "execution_count": 159,
     "metadata": {},
     "output_type": "execute_result"
    }
   ],
   "source": [
    "enumerate(counting_hits(t1,t2,b1,b2,\"APC_mut_del\"))"
   ]
  },
  {
   "cell_type": "code",
   "execution_count": 154,
   "metadata": {},
   "outputs": [
    {
     "data": {
      "text/plain": [
       "[1, 26, 0, 26]"
      ]
     },
     "execution_count": 154,
     "metadata": {},
     "output_type": "execute_result"
    }
   ],
   "source": [
    "counting_hits(t1,t2,b1,b2,\"BAP1_mut_del\")"
   ]
  },
  {
   "cell_type": "code",
   "execution_count": 95,
   "metadata": {},
   "outputs": [],
   "source": [
    "def counting_hits(top1,top2,bottom1,bottom2,mut):\n",
    "    top1_count = []\n",
    "    for _ in top1:\n",
    "        top1_count.append(data[data['CCLE_NAME'].str.match(_)].eval(mut).to_list())\n",
    "    \n",
    "    top1_count = [i for j in top1_count for i in j]\n",
    "    top1_count = sum(top1_count)\n",
    "    \n",
    "    top2_count = []\n",
    "    # i fucked up earlier trying to take allGenes.columns.to_list() and wondering why the set was so small\n",
    "    for _ in allGenes.index.to_list():\n",
    "        top2_count.append(data[data['CCLE_NAME'].str.match(_)].eval(mut).to_list())\n",
    "    \n",
    "    top2_count = [i for j in top2_count for i in j]\n",
    "    top2_count = sum(top2_count)\n",
    "    \n",
    "    \n",
    "    bottom1_count = []\n",
    "    for _ in bottom1:\n",
    "        bottom1_count.append(data[data['CCLE_NAME'].str.match(_)].eval(mut).to_list())\n",
    "    \n",
    "    bottom1_count = [i for j in bottom1_count for i in j]\n",
    "    bottom1_count = sum(bottom1_count)\n",
    "    \n",
    "    bottom2_count = []\n",
    "    # i fucked up earlier trying to take allGenes.columns.to_list() and wondering why the set was so small\n",
    "    for _ in allGenes.index.to_list():\n",
    "        bottom2_count.append(data[data['CCLE_NAME'].str.match(_)].eval(mut).to_list())\n",
    "    \n",
    "    bottom2_count = [i for j in bottom2_count for i in j]\n",
    "    bottom2_count = sum(bottom2_count)\n",
    "    \n",
    "    return([top1_count,top2_count,bottom1_count,bottom2_count])"
   ]
  },
  {
   "cell_type": "code",
   "execution_count": null,
   "metadata": {},
   "outputs": [],
   "source": []
  },
  {
   "cell_type": "code",
   "execution_count": 82,
   "metadata": {},
   "outputs": [],
   "source": [
    "top = a"
   ]
  },
  {
   "cell_type": "code",
   "execution_count": 99,
   "metadata": {},
   "outputs": [
    {
     "name": "stdout",
     "output_type": "stream",
     "text": [
      "5\n"
     ]
    }
   ],
   "source": [
    "count = []\n",
    "for _ in top:\n",
    "    count.append(data[data['CCLE_NAME'].str.match(_)].KRAS_mut.to_list())\n",
    "    \n",
    "#print(count)\n",
    "#print(count/len(top))\n",
    "count = [i for j in count for i in j]\n",
    "count = sum(count)\n",
    "print(count)"
   ]
  },
  {
   "cell_type": "code",
   "execution_count": 119,
   "metadata": {},
   "outputs": [
    {
     "name": "stdout",
     "output_type": "stream",
     "text": [
      "121\n"
     ]
    }
   ],
   "source": [
    "totalCount = []\n",
    "# i fucked up earlier trying to take allGenes.columns.to_list() and wondering why the set was so small\n",
    "for _ in allGenes.index.to_list():\n",
    "    totalCount.append(data[data['CCLE_NAME'].str.match(_)].KRAS_mut.to_list())\n",
    "    \n",
    "totalCount = [i for j in totalCount for i in j]\n",
    "totalCount = sum(totalCount)\n",
    "print(totalCount)"
   ]
  },
  {
   "cell_type": "code",
   "execution_count": 97,
   "metadata": {},
   "outputs": [
    {
     "data": {
      "text/plain": [
       "680"
      ]
     },
     "execution_count": 97,
     "metadata": {},
     "output_type": "execute_result"
    }
   ],
   "source": [
    "len(totalCount)"
   ]
  },
  {
   "cell_type": "code",
   "execution_count": 89,
   "metadata": {},
   "outputs": [
    {
     "data": {
      "text/plain": [
       "(1026, 71)"
      ]
     },
     "execution_count": 89,
     "metadata": {},
     "output_type": "execute_result"
    }
   ],
   "source": [
    "data.shape"
   ]
  },
  {
   "cell_type": "code",
   "execution_count": 92,
   "metadata": {},
   "outputs": [
    {
     "data": {
      "text/plain": [
       "783"
      ]
     },
     "execution_count": 92,
     "metadata": {},
     "output_type": "execute_result"
    }
   ],
   "source": [
    "len(allGenes.index.to_list())"
   ]
  },
  {
   "cell_type": "code",
   "execution_count": 62,
   "metadata": {},
   "outputs": [],
   "source": [
    "a,b = uli_list1[1]"
   ]
  },
  {
   "cell_type": "code",
   "execution_count": 66,
   "metadata": {},
   "outputs": [
    {
     "name": "stdout",
     "output_type": "stream",
     "text": [
      "first is top, second is bottom\n"
     ]
    }
   ],
   "source": [
    "a,b,c,d = celllines_from_diff(a,b)"
   ]
  },
  {
   "cell_type": "code",
   "execution_count": 69,
   "metadata": {},
   "outputs": [
    {
     "name": "stdout",
     "output_type": "stream",
     "text": [
      "there is  CDK4 and  CDKN2C for top we have  ['ES2', 'NCIH1915', 'G292CLONEA141B1', 'FU97', 'UMUC9', 'TC71', 'SNU1544', 'PACADD188', 'TC32', 'HS852T', 'EWS502', 'MDAMB453', 'TC205', 'LS', 'COGE352', 'HCC1419', 'VCAP', 'RDES', 'MDAMB415', 'NCIH2887']  and for bottom we have  ['SUM52PE', 'CAOV3', 'CORL279', 'MCC26', 'SW403', 'OCIMY5', 'NCIH82', 'CII', 'OS252', 'HEC251', 'UMUC7', 'OV7', 'NCIH841', 'NCIH1694', 'CORL47', 'HT1376', 'LN319', 'JR', 'KPNYN', 'HSB2']\n"
     ]
    }
   ],
   "source": [
    "print('there is ', c , 'and ', d, 'for top we have ', a, ' and for bottom we have ', b)"
   ]
  },
  {
   "cell_type": "code",
   "execution_count": 150,
   "metadata": {},
   "outputs": [
    {
     "name": "stdout",
     "output_type": "stream",
     "text": [
      "CDK4 CDKN2C\n"
     ]
    }
   ],
   "source": [
    "print(a,b)"
   ]
  },
  {
   "cell_type": "code",
   "execution_count": 2,
   "metadata": {
    "collapsed": true,
    "jupyter": {
     "outputs_hidden": true
    }
   },
   "outputs": [
    {
     "ename": "NameError",
     "evalue": "name 'pd' is not defined",
     "output_type": "error",
     "traceback": [
      "\u001b[0;31m---------------------------------------------------------------------------\u001b[0m",
      "\u001b[0;31mNameError\u001b[0m                                 Traceback (most recent call last)",
      "\u001b[0;32m<ipython-input-2-fe1d9d1b78c1>\u001b[0m in \u001b[0;36m<module>\u001b[0;34m\u001b[0m\n\u001b[0;32m----> 1\u001b[0;31m \u001b[0mulidata\u001b[0m \u001b[0;34m=\u001b[0m \u001b[0mpd\u001b[0m\u001b[0;34m.\u001b[0m\u001b[0mread_csv\u001b[0m\u001b[0;34m(\u001b[0m\u001b[0;34m\"/home/annerer/Dokumente/DepMap_Mining/TP53_MDM4.csv\"\u001b[0m\u001b[0;34m)\u001b[0m\u001b[0;34m\u001b[0m\u001b[0;34m\u001b[0m\u001b[0m\n\u001b[0m\u001b[1;32m      2\u001b[0m \u001b[0mulidata\u001b[0m \u001b[0;34m=\u001b[0m \u001b[0mulidata\u001b[0m\u001b[0;34m[\u001b[0m\u001b[0;34m'cellline'\u001b[0m\u001b[0;34m]\u001b[0m\u001b[0;34m.\u001b[0m\u001b[0mto_list\u001b[0m\u001b[0;34m(\u001b[0m\u001b[0;34m)\u001b[0m\u001b[0;34m\u001b[0m\u001b[0;34m\u001b[0m\u001b[0m\n\u001b[1;32m      3\u001b[0m \u001b[0;34m\u001b[0m\u001b[0m\n\u001b[1;32m      4\u001b[0m \u001b[0mresult\u001b[0m \u001b[0;34m=\u001b[0m \u001b[0;34m[\u001b[0m\u001b[0;34m]\u001b[0m\u001b[0;34m\u001b[0m\u001b[0;34m\u001b[0m\u001b[0m\n\u001b[1;32m      5\u001b[0m \u001b[0;34m\u001b[0m\u001b[0m\n",
      "\u001b[0;31mNameError\u001b[0m: name 'pd' is not defined"
     ]
    }
   ],
   "source": [
    "ulidata = pd.read_csv(\"/home/annerer/Dokumente/DepMap_Mining/TP53_MDM4.csv\")\n",
    "ulidata = ulidata['cellline'].to_list()\n",
    "\n",
    "result = []\n",
    "\n",
    "for _ in ulidata:\n",
    "    result.append(mapping[_])\n",
    "    \n",
    "cellLine = result\n",
    "# split at space\n",
    "for i in range(len(cellLine)):\n",
    "    cellLine[i] = cellLine[i].split(\"_\") \n",
    "\n",
    "cell_L = []\n",
    "for i in range(len(cellLine)):\n",
    "    cell_L.append(cellLine[i][0])"
   ]
  },
  {
   "cell_type": "code",
   "execution_count": 7,
   "metadata": {},
   "outputs": [],
   "source": [
    "#ulidata = ulidata['cellline'].to_list()"
   ]
  },
  {
   "cell_type": "code",
   "execution_count": 169,
   "metadata": {
    "collapsed": true,
    "jupyter": {
     "outputs_hidden": true
    }
   },
   "outputs": [
    {
     "name": "stdout",
     "output_type": "stream",
     "text": [
      "first is top, second is bottom\n",
      "first is top, second is bottom\n"
     ]
    },
    {
     "data": {
      "image/png": "[encoded data removed]",
      "text/plain": [
       "<Figure size 432x288 with 1 Axes>"
      ]
     },
     "metadata": {
      "needs_background": "light"
     },
     "output_type": "display_data"
    }
   ],
   "source": [
    "top,bottom = celllines_from_sums(e,f)\n",
    "top2,bottom2 = celllines_from_diff(e,f)"
   ]
  },
  {
   "cell_type": "code",
   "execution_count": 166,
   "metadata": {},
   "outputs": [
    {
     "name": "stdout",
     "output_type": "stream",
     "text": [
      "first is top, second is bottom\n"
     ]
    }
   ],
   "source": [
    "e,f = uli_list1[2]\n",
    "c,d = celllines_from_sums(e,f)"
   ]
  },
  {
   "cell_type": "code",
   "execution_count": 34,
   "metadata": {
    "collapsed": true,
    "jupyter": {
     "outputs_hidden": true
    }
   },
   "outputs": [
    {
     "data": {
      "text/plain": [
       "['SNU308',\n",
       " 'COGN305',\n",
       " 'KARPAS422',\n",
       " 'THP1',\n",
       " 'KO52',\n",
       " 'SNU182',\n",
       " 'AML193',\n",
       " 'DB',\n",
       " 'BT12',\n",
       " 'HDMYZ',\n",
       " 'SUDHL10',\n",
       " 'YD15',\n",
       " 'SKUT1',\n",
       " 'BT16',\n",
       " 'TTC549',\n",
       " 'ESO26',\n",
       " 'FLO1',\n",
       " 'HMY1',\n",
       " 'MCC13',\n",
       " 'UCH2']"
      ]
     },
     "execution_count": 34,
     "metadata": {},
     "output_type": "execute_result"
    }
   ],
   "source": [
    "top2"
   ]
  },
  {
   "cell_type": "code",
   "execution_count": 52,
   "metadata": {},
   "outputs": [],
   "source": [
    "data = pd.read_csv(\"/home/annerer/Downloads/elife-58925-supp1-v3.csv\")\n",
    "\n",
    "temp1 = data['CCLE_NAME'].to_list()\n",
    "# split at space\n",
    "for i in range(len(temp1)):\n",
    "    temp1[i] = temp1[i].split(\"_\") \n",
    "\n",
    "temp2 = []\n",
    "for i in range(len(temp1)):\n",
    "    temp2.append(temp1[i][0])\n"
   ]
  },
  {
   "cell_type": "code",
   "execution_count": 53,
   "metadata": {},
   "outputs": [],
   "source": [
    "data['CCLE_NAME'] = temp2"
   ]
  },
  {
   "cell_type": "code",
   "execution_count": 90,
   "metadata": {},
   "outputs": [
    {
     "data": {
      "text/plain": [
       "0          MOLM16\n",
       "1       PATU8988S\n",
       "2          RCHACV\n",
       "3         SKMEL31\n",
       "4           SKBR3\n",
       "          ...    \n",
       "1021       HEC151\n",
       "1022        SNU81\n",
       "1023          GCT\n",
       "1024        CMLT1\n",
       "1025    NIHOVCAR3\n",
       "Name: CCLE_NAME, Length: 1026, dtype: object"
      ]
     },
     "execution_count": 90,
     "metadata": {},
     "output_type": "execute_result"
    }
   ],
   "source": [
    "data['CCLE_NAME']"
   ]
  },
  {
   "cell_type": "code",
   "execution_count": 49,
   "metadata": {},
   "outputs": [
    {
     "data": {
      "text/html": [
       "<div>\n",
       "<style scoped>\n",
       "    .dataframe tbody tr th:only-of-type {\n",
       "        vertical-align: middle;\n",
       "    }\n",
       "\n",
       "    .dataframe tbody tr th {\n",
       "        vertical-align: top;\n",
       "    }\n",
       "\n",
       "    .dataframe thead th {\n",
       "        text-align: right;\n",
       "    }\n",
       "</style>\n",
       "<table border=\"1\" class=\"dataframe\">\n",
       "  <thead>\n",
       "    <tr style=\"text-align: right;\">\n",
       "      <th></th>\n",
       "      <th>CCLE_NAME</th>\n",
       "      <th>TISSUE_FACTOR</th>\n",
       "      <th>MSI</th>\n",
       "      <th>ACVR1B_mut_del</th>\n",
       "      <th>APC_mut_del</th>\n",
       "      <th>ARID1A_mut_del</th>\n",
       "      <th>ATM_mut_del</th>\n",
       "      <th>ATRX_mut_del</th>\n",
       "      <th>AXIN1_mut_del</th>\n",
       "      <th>BAP1_mut_del</th>\n",
       "      <th>...</th>\n",
       "      <th>PIK3CA_mut</th>\n",
       "      <th>BRAF_mut</th>\n",
       "      <th>CTNNB1_mut</th>\n",
       "      <th>KRAS_mut</th>\n",
       "      <th>NRAS_mut</th>\n",
       "      <th>GNAS_mut</th>\n",
       "      <th>HRAS_mut</th>\n",
       "      <th>EGFR_mut</th>\n",
       "      <th>MAP2K1_mut</th>\n",
       "      <th>PTPN11_mut</th>\n",
       "    </tr>\n",
       "  </thead>\n",
       "  <tbody>\n",
       "    <tr>\n",
       "      <th>3</th>\n",
       "      <td>SKMEL31_SKIN</td>\n",
       "      <td>SKIN</td>\n",
       "      <td>0</td>\n",
       "      <td>0</td>\n",
       "      <td>0</td>\n",
       "      <td>0</td>\n",
       "      <td>1</td>\n",
       "      <td>0</td>\n",
       "      <td>0</td>\n",
       "      <td>0</td>\n",
       "      <td>...</td>\n",
       "      <td>0</td>\n",
       "      <td>1</td>\n",
       "      <td>0</td>\n",
       "      <td>0</td>\n",
       "      <td>0</td>\n",
       "      <td>0</td>\n",
       "      <td>0</td>\n",
       "      <td>0</td>\n",
       "      <td>0</td>\n",
       "      <td>0</td>\n",
       "    </tr>\n",
       "  </tbody>\n",
       "</table>\n",
       "<p>1 rows × 71 columns</p>\n",
       "</div>"
      ],
      "text/plain": [
       "      CCLE_NAME TISSUE_FACTOR  MSI  ACVR1B_mut_del  APC_mut_del  \\\n",
       "3  SKMEL31_SKIN          SKIN    0               0            0   \n",
       "\n",
       "   ARID1A_mut_del  ATM_mut_del  ATRX_mut_del  AXIN1_mut_del  BAP1_mut_del  \\\n",
       "3               0            1             0              0             0   \n",
       "\n",
       "   ...  PIK3CA_mut  BRAF_mut  CTNNB1_mut  KRAS_mut  NRAS_mut  GNAS_mut  \\\n",
       "3  ...           0         1           0         0         0         0   \n",
       "\n",
       "   HRAS_mut  EGFR_mut  MAP2K1_mut  PTPN11_mut  \n",
       "3         0         0           0           0  \n",
       "\n",
       "[1 rows x 71 columns]"
      ]
     },
     "execution_count": 49,
     "metadata": {},
     "output_type": "execute_result"
    }
   ],
   "source": [
    "data[data['CCLE_NAME'].str.match('SKMEL31_SKIN')]"
   ]
  },
  {
   "cell_type": "markdown",
   "metadata": {},
   "source": [
    "## Keeping only the Celllines in DepMap"
   ]
  },
  {
   "cell_type": "code",
   "execution_count": 45,
   "metadata": {},
   "outputs": [
    {
     "name": "stdout",
     "output_type": "stream",
     "text": [
      "765\n",
      "1781\n",
      "765\n"
     ]
    }
   ],
   "source": [
    "effect = pd.read_csv(\"/home/annerer/Dokumente/DepMap_Mining/Achilles_gene_effect.csv\")\n",
    "data = pd.read_csv(\"/home/annerer/Dokumente/DepMap_Mining/sample_info.csv\")\n",
    "\n",
    "mapping = {}\n",
    "\n",
    "for i in np.arange(0,data.shape[0],1):\n",
    "    mapping[data.DepMap_ID[i]] = data.CCLE_Name[i]\n",
    "\n",
    "effect[\"INDEX\"] = effect.DepMap_ID\n",
    "effect = effect.set_index('INDEX')\n",
    "effect = effect.rename(index=mapping)\n",
    "effect = effect.drop(\"DepMap_ID\",1)\n",
    "\n",
    "gene = effect.columns.to_list()\n",
    "# split at space\n",
    "for i in range(len(gene)):\n",
    "    gene[i] = gene[i].split(\" \") \n",
    "\n",
    "genes = []\n",
    "for i in range(len(gene)):\n",
    "    genes.append(gene[i][0])\n",
    "                 \n",
    "effect.columns = genes\n",
    "\n",
    "\n",
    "cellLine = effect.index.to_list()\n",
    "# split at space\n",
    "for i in range(len(cellLine)):\n",
    "    cellLine[i] = cellLine[i].split(\"_\") \n",
    "\n",
    "cellLines = []\n",
    "for i in range(len(cellLine)):\n",
    "    cellLines.append(cellLine[i][0])\n",
    "    \n",
    "effect.index = cellLines\n",
    "\n",
    "cellLine = data['CCLE_Name'].to_list()\n",
    "# split at space\n",
    "for i in range(len(cellLine)):\n",
    "    cellLine[i] = cellLine[i].split(\"_\") \n",
    "\n",
    "cellLines1 = []\n",
    "for i in range(len(cellLine)):\n",
    "    cellLines1.append(cellLine[i][0])\n",
    "    \n",
    "data['CCLE_Name'] = cellLines1\n",
    "\n",
    "\n",
    "a = set(cellLines)\n",
    "b = set(data[\"CCLE_Name\"])\n",
    "c = set.intersection(a,b)\n",
    "\n",
    "print(len(a))\n",
    "print(len(b))\n",
    "print(len(c))\n",
    "\n",
    "cellL = c"
   ]
  },
  {
   "cell_type": "code",
   "execution_count": 55,
   "metadata": {},
   "outputs": [],
   "source": [
    "effect = effect.transpose()\n",
    "intersect = list(set.intersection(set(allGenes.index.to_list()), set(cellL)))\n",
    "allGenes = effect[effect.columns.intersection(cellL)]\n",
    "\n",
    "allGenes.shape\n",
    "allGenes = allGenes.transpose()\n",
    "\n",
    "allGenes.head()"
   ]
  },
  {
   "cell_type": "code",
   "execution_count": 64,
   "metadata": {},
   "outputs": [],
   "source": [
    "allGenes.shape\n",
    "allGenes = allGenes.transpose()"
   ]
  },
  {
   "cell_type": "code",
   "execution_count": 56,
   "metadata": {},
   "outputs": [],
   "source": [
    "intersect = list(set.intersection(set(allGenes.index.to_list()), set(cellL)))"
   ]
  },
  {
   "cell_type": "code",
   "execution_count": 57,
   "metadata": {},
   "outputs": [
    {
     "data": {
      "text/plain": [
       "(18119, 783)"
      ]
     },
     "execution_count": 57,
     "metadata": {},
     "output_type": "execute_result"
    }
   ],
   "source": [
    "allGenes.shape"
   ]
  },
  {
   "cell_type": "code",
   "execution_count": 65,
   "metadata": {},
   "outputs": [
    {
     "data": {
      "text/html": [
       "<div>\n",
       "<style scoped>\n",
       "    .dataframe tbody tr th:only-of-type {\n",
       "        vertical-align: middle;\n",
       "    }\n",
       "\n",
       "    .dataframe tbody tr th {\n",
       "        vertical-align: top;\n",
       "    }\n",
       "\n",
       "    .dataframe thead th {\n",
       "        text-align: right;\n",
       "    }\n",
       "</style>\n",
       "<table border=\"1\" class=\"dataframe\">\n",
       "  <thead>\n",
       "    <tr style=\"text-align: right;\">\n",
       "      <th></th>\n",
       "      <th>A1BG</th>\n",
       "      <th>A1CF</th>\n",
       "      <th>A2M</th>\n",
       "      <th>A2ML1</th>\n",
       "      <th>A3GALT2</th>\n",
       "      <th>A4GALT</th>\n",
       "      <th>A4GNT</th>\n",
       "      <th>AAAS</th>\n",
       "      <th>AACS</th>\n",
       "      <th>AADAC</th>\n",
       "      <th>...</th>\n",
       "      <th>ZWILCH</th>\n",
       "      <th>ZWINT</th>\n",
       "      <th>ZXDA</th>\n",
       "      <th>ZXDB</th>\n",
       "      <th>ZXDC</th>\n",
       "      <th>ZYG11A</th>\n",
       "      <th>ZYG11B</th>\n",
       "      <th>ZYX</th>\n",
       "      <th>ZZEF1</th>\n",
       "      <th>ZZZ3</th>\n",
       "    </tr>\n",
       "  </thead>\n",
       "  <tbody>\n",
       "    <tr>\n",
       "      <th>HEL</th>\n",
       "      <td>0.178087</td>\n",
       "      <td>0.088290</td>\n",
       "      <td>-0.201464</td>\n",
       "      <td>-0.017011</td>\n",
       "      <td>0.042590</td>\n",
       "      <td>-0.192257</td>\n",
       "      <td>0.352891</td>\n",
       "      <td>-0.445209</td>\n",
       "      <td>0.292603</td>\n",
       "      <td>0.165168</td>\n",
       "      <td>...</td>\n",
       "      <td>-0.122795</td>\n",
       "      <td>-0.464567</td>\n",
       "      <td>NaN</td>\n",
       "      <td>NaN</td>\n",
       "      <td>0.258084</td>\n",
       "      <td>0.237593</td>\n",
       "      <td>-0.408563</td>\n",
       "      <td>0.291832</td>\n",
       "      <td>0.218575</td>\n",
       "      <td>-0.139759</td>\n",
       "    </tr>\n",
       "    <tr>\n",
       "      <th>HEL9217</th>\n",
       "      <td>-0.082364</td>\n",
       "      <td>0.239413</td>\n",
       "      <td>0.195457</td>\n",
       "      <td>0.163763</td>\n",
       "      <td>-0.188161</td>\n",
       "      <td>-0.338735</td>\n",
       "      <td>0.254489</td>\n",
       "      <td>-0.583878</td>\n",
       "      <td>-0.060615</td>\n",
       "      <td>0.015272</td>\n",
       "      <td>...</td>\n",
       "      <td>-0.195061</td>\n",
       "      <td>-0.408063</td>\n",
       "      <td>-0.155155</td>\n",
       "      <td>-0.067415</td>\n",
       "      <td>0.229242</td>\n",
       "      <td>-0.075883</td>\n",
       "      <td>-0.104001</td>\n",
       "      <td>0.075901</td>\n",
       "      <td>0.036985</td>\n",
       "      <td>-0.243303</td>\n",
       "    </tr>\n",
       "    <tr>\n",
       "      <th>LS513</th>\n",
       "      <td>0.070026</td>\n",
       "      <td>0.075066</td>\n",
       "      <td>-0.064637</td>\n",
       "      <td>0.156905</td>\n",
       "      <td>0.099075</td>\n",
       "      <td>0.141985</td>\n",
       "      <td>0.066314</td>\n",
       "      <td>-0.477023</td>\n",
       "      <td>-0.006855</td>\n",
       "      <td>0.291604</td>\n",
       "      <td>...</td>\n",
       "      <td>-0.093252</td>\n",
       "      <td>-0.276874</td>\n",
       "      <td>-0.049716</td>\n",
       "      <td>0.116683</td>\n",
       "      <td>0.211699</td>\n",
       "      <td>-0.012654</td>\n",
       "      <td>-0.351716</td>\n",
       "      <td>0.089140</td>\n",
       "      <td>-0.392549</td>\n",
       "      <td>-0.442624</td>\n",
       "    </tr>\n",
       "    <tr>\n",
       "      <th>C2BBE1</th>\n",
       "      <td>0.107048</td>\n",
       "      <td>-0.006352</td>\n",
       "      <td>-0.053166</td>\n",
       "      <td>0.053055</td>\n",
       "      <td>0.081620</td>\n",
       "      <td>-0.038305</td>\n",
       "      <td>0.082421</td>\n",
       "      <td>-0.642935</td>\n",
       "      <td>0.159178</td>\n",
       "      <td>0.064128</td>\n",
       "      <td>...</td>\n",
       "      <td>-0.280677</td>\n",
       "      <td>-0.230111</td>\n",
       "      <td>-0.106000</td>\n",
       "      <td>0.041611</td>\n",
       "      <td>0.083021</td>\n",
       "      <td>0.022771</td>\n",
       "      <td>-0.596777</td>\n",
       "      <td>0.197627</td>\n",
       "      <td>-0.106398</td>\n",
       "      <td>-0.549259</td>\n",
       "    </tr>\n",
       "    <tr>\n",
       "      <th>253J</th>\n",
       "      <td>0.280508</td>\n",
       "      <td>0.079860</td>\n",
       "      <td>0.016981</td>\n",
       "      <td>0.439139</td>\n",
       "      <td>-0.042239</td>\n",
       "      <td>-0.242560</td>\n",
       "      <td>0.103028</td>\n",
       "      <td>-0.419159</td>\n",
       "      <td>0.141445</td>\n",
       "      <td>0.115857</td>\n",
       "      <td>...</td>\n",
       "      <td>-0.410500</td>\n",
       "      <td>-0.507467</td>\n",
       "      <td>-0.138665</td>\n",
       "      <td>-0.119292</td>\n",
       "      <td>0.284407</td>\n",
       "      <td>0.158124</td>\n",
       "      <td>-0.240429</td>\n",
       "      <td>0.124847</td>\n",
       "      <td>-0.250949</td>\n",
       "      <td>-0.379117</td>\n",
       "    </tr>\n",
       "  </tbody>\n",
       "</table>\n",
       "<p>5 rows × 18119 columns</p>\n",
       "</div>"
      ],
      "text/plain": [
       "             A1BG      A1CF       A2M     A2ML1   A3GALT2    A4GALT     A4GNT  \\\n",
       "HEL      0.178087  0.088290 -0.201464 -0.017011  0.042590 -0.192257  0.352891   \n",
       "HEL9217 -0.082364  0.239413  0.195457  0.163763 -0.188161 -0.338735  0.254489   \n",
       "LS513    0.070026  0.075066 -0.064637  0.156905  0.099075  0.141985  0.066314   \n",
       "C2BBE1   0.107048 -0.006352 -0.053166  0.053055  0.081620 -0.038305  0.082421   \n",
       "253J     0.280508  0.079860  0.016981  0.439139 -0.042239 -0.242560  0.103028   \n",
       "\n",
       "             AAAS      AACS     AADAC  ...    ZWILCH     ZWINT      ZXDA  \\\n",
       "HEL     -0.445209  0.292603  0.165168  ... -0.122795 -0.464567       NaN   \n",
       "HEL9217 -0.583878 -0.060615  0.015272  ... -0.195061 -0.408063 -0.155155   \n",
       "LS513   -0.477023 -0.006855  0.291604  ... -0.093252 -0.276874 -0.049716   \n",
       "C2BBE1  -0.642935  0.159178  0.064128  ... -0.280677 -0.230111 -0.106000   \n",
       "253J    -0.419159  0.141445  0.115857  ... -0.410500 -0.507467 -0.138665   \n",
       "\n",
       "             ZXDB      ZXDC    ZYG11A    ZYG11B       ZYX     ZZEF1      ZZZ3  \n",
       "HEL           NaN  0.258084  0.237593 -0.408563  0.291832  0.218575 -0.139759  \n",
       "HEL9217 -0.067415  0.229242 -0.075883 -0.104001  0.075901  0.036985 -0.243303  \n",
       "LS513    0.116683  0.211699 -0.012654 -0.351716  0.089140 -0.392549 -0.442624  \n",
       "C2BBE1   0.041611  0.083021  0.022771 -0.596777  0.197627 -0.106398 -0.549259  \n",
       "253J    -0.119292  0.284407  0.158124 -0.240429  0.124847 -0.250949 -0.379117  \n",
       "\n",
       "[5 rows x 18119 columns]"
      ]
     },
     "execution_count": 65,
     "metadata": {},
     "output_type": "execute_result"
    }
   ],
   "source": [
    "allGenes.head()"
   ]
  },
  {
   "cell_type": "markdown",
   "metadata": {},
   "source": [
    "### Now we have the cell lines that are only in DepMap. For these, we also need to update the names, so that we can easily compare which ones have which genetic background,"
   ]
  },
  {
   "cell_type": "code",
   "execution_count": 11,
   "metadata": {},
   "outputs": [
    {
     "data": {
      "text/plain": [
       "(769, 18119)"
      ]
     },
     "execution_count": 11,
     "metadata": {},
     "output_type": "execute_result"
    }
   ],
   "source": [
    "effect.shape"
   ]
  },
  {
   "cell_type": "code",
   "execution_count": 93,
   "metadata": {},
   "outputs": [
    {
     "data": {
      "text/plain": [
       "Index(['CCLE_NAME', 'TISSUE_FACTOR', 'MSI', 'ACVR1B_mut_del', 'APC_mut_del',\n",
       "       'ARID1A_mut_del', 'ATM_mut_del', 'ATRX_mut_del', 'AXIN1_mut_del',\n",
       "       'BAP1_mut_del', 'BRCA1_mut_del', 'BRCA2_mut_del', 'CASP8_mut_del',\n",
       "       'CDC73_mut_del', 'CDH1_mut_del', 'CDKN2A_mut_del', 'CEBPA_mut_del',\n",
       "       'CIC_mut_del', 'CREBBP_mut_del', 'CYLD_mut_del', 'DAXX_mut_del',\n",
       "       'EP300_mut_del', 'AMER1_mut_del', 'FBXW7_mut_del', 'GATA1_mut_del',\n",
       "       'HNF1A_mut_del', 'KDM6A_mut_del', 'MAP3K1_mut_del', 'MEN1_mut_del',\n",
       "       'MLH1_mut_del', 'KMT2C_mut_del', 'MSH2_mut_del', 'MSH6_mut_del',\n",
       "       'NF1_mut_del', 'NF2_mut_del', 'NOTCH1_mut_del', 'NOTCH2_mut_del',\n",
       "       'NPM1_mut_del', 'PAX5_mut_del', 'PIK3R1_mut_del', 'PTCH1_mut_del',\n",
       "       'PTEN_mut_del', 'RB1_mut_del', 'RUNX1_mut_del', 'SMAD2_mut_del',\n",
       "       'SMAD4_mut_del', 'SMARCA4_mut_del', 'SMARCB1_mut_del', 'SOCS1_mut_del',\n",
       "       'STK11_mut_del', 'TET2_mut_del', 'TNFAIP3_mut_del', 'TP53_mut_del',\n",
       "       'TSC1_mut_del', 'VHL_mut_del', 'WT1_mut_del', 'ERBB2_amp', 'CCND1_amp',\n",
       "       'MDM2_amp', 'MYC_amp', 'MYCN_amp', 'PIK3CA_mut', 'BRAF_mut',\n",
       "       'CTNNB1_mut', 'KRAS_mut', 'NRAS_mut', 'GNAS_mut', 'HRAS_mut',\n",
       "       'EGFR_mut', 'MAP2K1_mut', 'PTPN11_mut'],\n",
       "      dtype='object')"
      ]
     },
     "execution_count": 93,
     "metadata": {},
     "output_type": "execute_result"
    }
   ],
   "source": [
    "data.columns"
   ]
  },
  {
   "cell_type": "code",
   "execution_count": 64,
   "metadata": {},
   "outputs": [
    {
     "data": {
      "text/plain": [
       "[1]"
      ]
     },
     "execution_count": 64,
     "metadata": {},
     "output_type": "execute_result"
    }
   ],
   "source": [
    "data[data['CCLE_NAME'].str.match('YD8')].TP53_mut_del.to_list()"
   ]
  },
  {
   "cell_type": "markdown",
   "metadata": {},
   "source": [
    "## It appears to be working  - 29.September"
   ]
  },
  {
   "cell_type": "code",
   "execution_count": 16,
   "metadata": {},
   "outputs": [
    {
     "name": "stdout",
     "output_type": "stream",
     "text": [
      "[[0], [0], [0], [0], [0], [1], [0], [], [1], [0], [0], [0], [0], [], [], [0], [0], [], [0], [0]]\n",
      "0.1\n"
     ]
    }
   ],
   "source": [
    "count = []\n",
    "for _ in top:\n",
    "    count.append(data[data['CCLE_NAME'].str.match(_)].MSI.to_list())\n",
    "    \n",
    "print(count)\n",
    "#print(count/len(top))\n",
    "\n",
    "count = [i for j in count for i in j]\n",
    "print(sum(count)/len(top))"
   ]
  },
  {
   "cell_type": "code",
   "execution_count": null,
   "metadata": {},
   "outputs": [],
   "source": [
    "data = pd.read_csv(\"/home/annerer/Downloads/elife-58925-supp1-v3.csv\")"
   ]
  },
  {
   "cell_type": "code",
   "execution_count": 35,
   "metadata": {},
   "outputs": [
    {
     "name": "stdout",
     "output_type": "stream",
     "text": [
      "0.0\n"
     ]
    }
   ],
   "source": [
    "count = []\n",
    "for _ in top:\n",
    "    count.append(data[data['CCLE_NAME'].str.match(_)].KRAS_mut.to_list())\n",
    "    \n",
    "#print(count)\n",
    "#print(count/len(top))\n",
    "\n",
    "count = [i for j in count for i in j]\n",
    "print(sum(count)/len(top))\n",
    "\n",
    "count = []\n",
    "for _ in allGenes.columns.to_list():\n",
    "    count.append(data[data['CCLE_NAME'].str.match(_)].EGFR_mut.to_list())\n",
    "    \n",
    "#print(count)\n",
    "#print(count/len(top))\n",
    "\n",
    "count = [i for j in count for i in j]\n",
    "print(count)\n",
    "print(sum(count)/len(allGenes))"
   ]
  },
  {
   "cell_type": "markdown",
   "metadata": {},
   "source": [
    "#### for KRAS_mut we have 20% in top hits for every interaction of NF2, wheras we find 55% overall.\n",
    "#### some hits for CDKs have 0% KRAS_mut in the top interactions."
   ]
  },
  {
   "cell_type": "code",
   "execution_count": 105,
   "metadata": {},
   "outputs": [],
   "source": [
    "def get_percentage(sample,mut):\n",
    "    count = []\n",
    "    for _ in sample:\n",
    "        count.append(data[data['CCLE_NAME'].str.match(_)].eval(mut).to_list())\n",
    "    \n",
    "    count = [i for j in count for i in j]\n",
    "    return(sum(count)/len(sample))"
   ]
  },
  {
   "cell_type": "code",
   "execution_count": 106,
   "metadata": {},
   "outputs": [
    {
     "data": {
      "text/plain": [
       "0.0"
      ]
     },
     "execution_count": 106,
     "metadata": {},
     "output_type": "execute_result"
    }
   ],
   "source": [
    "count = []\n",
    "get_percentage(top,'EGFR_mut')"
   ]
  },
  {
   "cell_type": "code",
   "execution_count": 107,
   "metadata": {},
   "outputs": [
    {
     "data": {
      "text/plain": [
       "0.0038314176245210726"
      ]
     },
     "execution_count": 107,
     "metadata": {},
     "output_type": "execute_result"
    }
   ],
   "source": [
    "get_percentage(allGenes,'EGFR_mut')"
   ]
  },
  {
   "cell_type": "code",
   "execution_count": null,
   "metadata": {},
   "outputs": [],
   "source": []
  },
  {
   "cell_type": "code",
   "execution_count": null,
   "metadata": {},
   "outputs": [],
   "source": [
    "top,bottom = celllines_from_sums(e,f)\n",
    "#top,bottom = celllines_from_diff(e,f)"
   ]
  },
  {
   "cell_type": "code",
   "execution_count": null,
   "metadata": {},
   "outputs": [],
   "source": []
  },
  {
   "cell_type": "code",
   "execution_count": null,
   "metadata": {},
   "outputs": [],
   "source": [
    "uli_list1 = [['CDK4','RB1'],['CDK4','CDKN2C'],['CDK4','CCND1'],['CDK6','CCND3'],['CDK6','CCNE1'],\n",
    "             ['CDK6','CDK4'],['CDKN2A','CDKN2B'],['CDKN2A','CCNE1']]\n",
    "\n",
    "uli_list2 = [['NF2','AMOTL2'],['NF2','KIRREL1'],['NF2','TAOK1'],['NF2','LATS2'],['NF2','PTPN14'],['NF2','PTEN'],\n",
    "             ['NF2','ABL2'],['NF2','RAC1'],['NF2','CRK'],['NF2','DLG5'],['NF2','PKN2']]"
   ]
  },
  {
   "cell_type": "code",
   "execution_count": 142,
   "metadata": {
    "collapsed": true,
    "jupyter": {
     "outputs_hidden": true
    }
   },
   "outputs": [
    {
     "name": "stdout",
     "output_type": "stream",
     "text": [
      "0.05     0.002554278416347382\n"
     ]
    },
    {
     "ename": "KeyboardInterrupt",
     "evalue": "",
     "output_type": "error",
     "traceback": [
      "\u001b[0;31m---------------------------------------------------------------------------\u001b[0m",
      "\u001b[0;31mKeyboardInterrupt\u001b[0m                         Traceback (most recent call last)",
      "\u001b[0;32m<ipython-input-142-a59cfbcd16f9>\u001b[0m in \u001b[0;36m<module>\u001b[0;34m\u001b[0m\n\u001b[1;32m      2\u001b[0m \u001b[0;34m\u001b[0m\u001b[0m\n\u001b[1;32m      3\u001b[0m \u001b[0;32mfor\u001b[0m \u001b[0m_\u001b[0m \u001b[0;32min\u001b[0m \u001b[0mseventyone\u001b[0m\u001b[0;34m:\u001b[0m\u001b[0;34m\u001b[0m\u001b[0;34m\u001b[0m\u001b[0m\n\u001b[0;32m----> 4\u001b[0;31m     \u001b[0mprint\u001b[0m\u001b[0;34m(\u001b[0m\u001b[0mget_percentage\u001b[0m\u001b[0;34m(\u001b[0m\u001b[0mtop\u001b[0m\u001b[0;34m,\u001b[0m\u001b[0m_\u001b[0m\u001b[0;34m)\u001b[0m\u001b[0;34m,\u001b[0m \u001b[0;34m'   '\u001b[0m \u001b[0;34m,\u001b[0m \u001b[0mget_percentage\u001b[0m\u001b[0;34m(\u001b[0m\u001b[0mallGenes\u001b[0m\u001b[0;34m,\u001b[0m\u001b[0m_\u001b[0m\u001b[0;34m)\u001b[0m\u001b[0;34m)\u001b[0m\u001b[0;34m\u001b[0m\u001b[0;34m\u001b[0m\u001b[0m\n\u001b[0m",
      "\u001b[0;32m<ipython-input-105-b8628740a62d>\u001b[0m in \u001b[0;36mget_percentage\u001b[0;34m(sample, mut)\u001b[0m\n\u001b[1;32m      2\u001b[0m     \u001b[0mcount\u001b[0m \u001b[0;34m=\u001b[0m \u001b[0;34m[\u001b[0m\u001b[0;34m]\u001b[0m\u001b[0;34m\u001b[0m\u001b[0;34m\u001b[0m\u001b[0m\n\u001b[1;32m      3\u001b[0m     \u001b[0;32mfor\u001b[0m \u001b[0m_\u001b[0m \u001b[0;32min\u001b[0m \u001b[0msample\u001b[0m\u001b[0;34m:\u001b[0m\u001b[0;34m\u001b[0m\u001b[0;34m\u001b[0m\u001b[0m\n\u001b[0;32m----> 4\u001b[0;31m         \u001b[0mcount\u001b[0m\u001b[0;34m.\u001b[0m\u001b[0mappend\u001b[0m\u001b[0;34m(\u001b[0m\u001b[0mdata\u001b[0m\u001b[0;34m[\u001b[0m\u001b[0mdata\u001b[0m\u001b[0;34m[\u001b[0m\u001b[0;34m'CCLE_NAME'\u001b[0m\u001b[0;34m]\u001b[0m\u001b[0;34m.\u001b[0m\u001b[0mstr\u001b[0m\u001b[0;34m.\u001b[0m\u001b[0mmatch\u001b[0m\u001b[0;34m(\u001b[0m\u001b[0m_\u001b[0m\u001b[0;34m)\u001b[0m\u001b[0;34m]\u001b[0m\u001b[0;34m.\u001b[0m\u001b[0meval\u001b[0m\u001b[0;34m(\u001b[0m\u001b[0mmut\u001b[0m\u001b[0;34m)\u001b[0m\u001b[0;34m.\u001b[0m\u001b[0mto_list\u001b[0m\u001b[0;34m(\u001b[0m\u001b[0;34m)\u001b[0m\u001b[0;34m)\u001b[0m\u001b[0;34m\u001b[0m\u001b[0;34m\u001b[0m\u001b[0m\n\u001b[0m\u001b[1;32m      5\u001b[0m \u001b[0;34m\u001b[0m\u001b[0m\n\u001b[1;32m      6\u001b[0m     \u001b[0mcount\u001b[0m \u001b[0;34m=\u001b[0m \u001b[0;34m[\u001b[0m\u001b[0mi\u001b[0m \u001b[0;32mfor\u001b[0m \u001b[0mj\u001b[0m \u001b[0;32min\u001b[0m \u001b[0mcount\u001b[0m \u001b[0;32mfor\u001b[0m \u001b[0mi\u001b[0m \u001b[0;32min\u001b[0m \u001b[0mj\u001b[0m\u001b[0;34m]\u001b[0m\u001b[0;34m\u001b[0m\u001b[0;34m\u001b[0m\u001b[0m\n",
      "\u001b[0;32m~/anaconda3/lib/python3.8/site-packages/pandas/core/frame.py\u001b[0m in \u001b[0;36meval\u001b[0;34m(self, expr, inplace, **kwargs)\u001b[0m\n\u001b[1;32m   3338\u001b[0m         \u001b[0;32mif\u001b[0m \u001b[0mresolvers\u001b[0m \u001b[0;32mis\u001b[0m \u001b[0;32mNone\u001b[0m\u001b[0;34m:\u001b[0m\u001b[0;34m\u001b[0m\u001b[0;34m\u001b[0m\u001b[0m\n\u001b[1;32m   3339\u001b[0m             \u001b[0mindex_resolvers\u001b[0m \u001b[0;34m=\u001b[0m \u001b[0mself\u001b[0m\u001b[0;34m.\u001b[0m\u001b[0m_get_index_resolvers\u001b[0m\u001b[0;34m(\u001b[0m\u001b[0;34m)\u001b[0m\u001b[0;34m\u001b[0m\u001b[0;34m\u001b[0m\u001b[0m\n\u001b[0;32m-> 3340\u001b[0;31m             \u001b[0mcolumn_resolvers\u001b[0m \u001b[0;34m=\u001b[0m \u001b[0mself\u001b[0m\u001b[0;34m.\u001b[0m\u001b[0m_get_cleaned_column_resolvers\u001b[0m\u001b[0;34m(\u001b[0m\u001b[0;34m)\u001b[0m\u001b[0;34m\u001b[0m\u001b[0;34m\u001b[0m\u001b[0m\n\u001b[0m\u001b[1;32m   3341\u001b[0m             \u001b[0mresolvers\u001b[0m \u001b[0;34m=\u001b[0m \u001b[0mcolumn_resolvers\u001b[0m\u001b[0;34m,\u001b[0m \u001b[0mindex_resolvers\u001b[0m\u001b[0;34m\u001b[0m\u001b[0;34m\u001b[0m\u001b[0m\n\u001b[1;32m   3342\u001b[0m         \u001b[0;32mif\u001b[0m \u001b[0;34m\"target\"\u001b[0m \u001b[0;32mnot\u001b[0m \u001b[0;32min\u001b[0m \u001b[0mkwargs\u001b[0m\u001b[0;34m:\u001b[0m\u001b[0;34m\u001b[0m\u001b[0;34m\u001b[0m\u001b[0m\n",
      "\u001b[0;32m~/anaconda3/lib/python3.8/site-packages/pandas/core/generic.py\u001b[0m in \u001b[0;36m_get_cleaned_column_resolvers\u001b[0;34m(self)\u001b[0m\n\u001b[1;32m    485\u001b[0m             \u001b[0;32mreturn\u001b[0m \u001b[0;34m{\u001b[0m\u001b[0mclean_column_name\u001b[0m\u001b[0;34m(\u001b[0m\u001b[0mself\u001b[0m\u001b[0;34m.\u001b[0m\u001b[0mname\u001b[0m\u001b[0;34m)\u001b[0m\u001b[0;34m:\u001b[0m \u001b[0mself\u001b[0m\u001b[0;34m}\u001b[0m\u001b[0;34m\u001b[0m\u001b[0;34m\u001b[0m\u001b[0m\n\u001b[1;32m    486\u001b[0m \u001b[0;34m\u001b[0m\u001b[0m\n\u001b[0;32m--> 487\u001b[0;31m         return {\n\u001b[0m\u001b[1;32m    488\u001b[0m             \u001b[0mclean_column_name\u001b[0m\u001b[0;34m(\u001b[0m\u001b[0mk\u001b[0m\u001b[0;34m)\u001b[0m\u001b[0;34m:\u001b[0m \u001b[0mv\u001b[0m \u001b[0;32mfor\u001b[0m \u001b[0mk\u001b[0m\u001b[0;34m,\u001b[0m \u001b[0mv\u001b[0m \u001b[0;32min\u001b[0m \u001b[0mself\u001b[0m\u001b[0;34m.\u001b[0m\u001b[0mitems\u001b[0m\u001b[0;34m(\u001b[0m\u001b[0;34m)\u001b[0m \u001b[0;32mif\u001b[0m \u001b[0;32mnot\u001b[0m \u001b[0misinstance\u001b[0m\u001b[0;34m(\u001b[0m\u001b[0mk\u001b[0m\u001b[0;34m,\u001b[0m \u001b[0mint\u001b[0m\u001b[0;34m)\u001b[0m\u001b[0;34m\u001b[0m\u001b[0;34m\u001b[0m\u001b[0m\n\u001b[1;32m    489\u001b[0m         }\n",
      "\u001b[0;32m~/anaconda3/lib/python3.8/site-packages/pandas/core/generic.py\u001b[0m in \u001b[0;36m<dictcomp>\u001b[0;34m(.0)\u001b[0m\n\u001b[1;32m    486\u001b[0m \u001b[0;34m\u001b[0m\u001b[0m\n\u001b[1;32m    487\u001b[0m         return {\n\u001b[0;32m--> 488\u001b[0;31m             \u001b[0mclean_column_name\u001b[0m\u001b[0;34m(\u001b[0m\u001b[0mk\u001b[0m\u001b[0;34m)\u001b[0m\u001b[0;34m:\u001b[0m \u001b[0mv\u001b[0m \u001b[0;32mfor\u001b[0m \u001b[0mk\u001b[0m\u001b[0;34m,\u001b[0m \u001b[0mv\u001b[0m \u001b[0;32min\u001b[0m \u001b[0mself\u001b[0m\u001b[0;34m.\u001b[0m\u001b[0mitems\u001b[0m\u001b[0;34m(\u001b[0m\u001b[0;34m)\u001b[0m \u001b[0;32mif\u001b[0m \u001b[0;32mnot\u001b[0m \u001b[0misinstance\u001b[0m\u001b[0;34m(\u001b[0m\u001b[0mk\u001b[0m\u001b[0;34m,\u001b[0m \u001b[0mint\u001b[0m\u001b[0;34m)\u001b[0m\u001b[0;34m\u001b[0m\u001b[0;34m\u001b[0m\u001b[0m\n\u001b[0m\u001b[1;32m    489\u001b[0m         }\n\u001b[1;32m    490\u001b[0m \u001b[0;34m\u001b[0m\u001b[0m\n",
      "\u001b[0;32m~/anaconda3/lib/python3.8/site-packages/pandas/core/computation/parsing.py\u001b[0m in \u001b[0;36mclean_column_name\u001b[0;34m(name)\u001b[0m\n\u001b[1;32m    120\u001b[0m     \u001b[0;32mtry\u001b[0m\u001b[0;34m:\u001b[0m\u001b[0;34m\u001b[0m\u001b[0;34m\u001b[0m\u001b[0m\n\u001b[1;32m    121\u001b[0m         \u001b[0mtokenized\u001b[0m \u001b[0;34m=\u001b[0m \u001b[0mtokenize_string\u001b[0m\u001b[0;34m(\u001b[0m\u001b[0;34mf\"`{name}`\"\u001b[0m\u001b[0;34m)\u001b[0m\u001b[0;34m\u001b[0m\u001b[0;34m\u001b[0m\u001b[0m\n\u001b[0;32m--> 122\u001b[0;31m         \u001b[0mtokval\u001b[0m \u001b[0;34m=\u001b[0m \u001b[0mnext\u001b[0m\u001b[0;34m(\u001b[0m\u001b[0mtokenized\u001b[0m\u001b[0;34m)\u001b[0m\u001b[0;34m[\u001b[0m\u001b[0;36m1\u001b[0m\u001b[0;34m]\u001b[0m\u001b[0;34m\u001b[0m\u001b[0;34m\u001b[0m\u001b[0m\n\u001b[0m\u001b[1;32m    123\u001b[0m         \u001b[0;32mreturn\u001b[0m \u001b[0mcreate_valid_python_identifier\u001b[0m\u001b[0;34m(\u001b[0m\u001b[0mtokval\u001b[0m\u001b[0;34m)\u001b[0m\u001b[0;34m\u001b[0m\u001b[0;34m\u001b[0m\u001b[0m\n\u001b[1;32m    124\u001b[0m     \u001b[0;32mexcept\u001b[0m \u001b[0mSyntaxError\u001b[0m\u001b[0;34m:\u001b[0m\u001b[0;34m\u001b[0m\u001b[0;34m\u001b[0m\u001b[0m\n",
      "\u001b[0;32m~/anaconda3/lib/python3.8/site-packages/pandas/core/computation/parsing.py\u001b[0m in \u001b[0;36mtokenize_string\u001b[0;34m(source)\u001b[0m\n\u001b[1;32m    182\u001b[0m         \u001b[0;32mif\u001b[0m \u001b[0mtokval\u001b[0m \u001b[0;34m==\u001b[0m \u001b[0;34m\"`\"\u001b[0m\u001b[0;34m:\u001b[0m\u001b[0;34m\u001b[0m\u001b[0;34m\u001b[0m\u001b[0m\n\u001b[1;32m    183\u001b[0m             \u001b[0;32mtry\u001b[0m\u001b[0;34m:\u001b[0m\u001b[0;34m\u001b[0m\u001b[0;34m\u001b[0m\u001b[0m\n\u001b[0;32m--> 184\u001b[0;31m                 yield tokenize_backtick_quoted_string(\n\u001b[0m\u001b[1;32m    185\u001b[0m                     \u001b[0mtoken_generator\u001b[0m\u001b[0;34m,\u001b[0m \u001b[0msource\u001b[0m\u001b[0;34m,\u001b[0m \u001b[0mstring_start\u001b[0m\u001b[0;34m=\u001b[0m\u001b[0mstart\u001b[0m\u001b[0;34m[\u001b[0m\u001b[0;36m1\u001b[0m\u001b[0;34m]\u001b[0m \u001b[0;34m+\u001b[0m \u001b[0;36m1\u001b[0m\u001b[0;34m\u001b[0m\u001b[0;34m\u001b[0m\u001b[0m\n\u001b[1;32m    186\u001b[0m                 )\n",
      "\u001b[0;32m~/anaconda3/lib/python3.8/site-packages/pandas/core/computation/parsing.py\u001b[0m in \u001b[0;36mtokenize_backtick_quoted_string\u001b[0;34m(token_generator, source, string_start)\u001b[0m\n\u001b[1;32m    152\u001b[0m         \u001b[0mThe\u001b[0m \u001b[0minteger\u001b[0m \u001b[0;32mis\u001b[0m \u001b[0mequal\u001b[0m \u001b[0mto\u001b[0m \u001b[0mBACKTICK_QUOTED_STRING\u001b[0m \u001b[0;34m(\u001b[0m\u001b[0;36m100\u001b[0m\u001b[0;34m)\u001b[0m\u001b[0;34m.\u001b[0m\u001b[0;34m\u001b[0m\u001b[0;34m\u001b[0m\u001b[0m\n\u001b[1;32m    153\u001b[0m     \"\"\"\n\u001b[0;32m--> 154\u001b[0;31m     \u001b[0;32mfor\u001b[0m \u001b[0m_\u001b[0m\u001b[0;34m,\u001b[0m \u001b[0mtokval\u001b[0m\u001b[0;34m,\u001b[0m \u001b[0mstart\u001b[0m\u001b[0;34m,\u001b[0m \u001b[0m_\u001b[0m\u001b[0;34m,\u001b[0m \u001b[0m_\u001b[0m \u001b[0;32min\u001b[0m \u001b[0mtoken_generator\u001b[0m\u001b[0;34m:\u001b[0m\u001b[0;34m\u001b[0m\u001b[0;34m\u001b[0m\u001b[0m\n\u001b[0m\u001b[1;32m    155\u001b[0m         \u001b[0;32mif\u001b[0m \u001b[0mtokval\u001b[0m \u001b[0;34m==\u001b[0m \u001b[0;34m\"`\"\u001b[0m\u001b[0;34m:\u001b[0m\u001b[0;34m\u001b[0m\u001b[0;34m\u001b[0m\u001b[0m\n\u001b[1;32m    156\u001b[0m             \u001b[0mstring_end\u001b[0m \u001b[0;34m=\u001b[0m \u001b[0mstart\u001b[0m\u001b[0;34m[\u001b[0m\u001b[0;36m1\u001b[0m\u001b[0;34m]\u001b[0m\u001b[0;34m\u001b[0m\u001b[0;34m\u001b[0m\u001b[0m\n",
      "\u001b[0;32m~/anaconda3/lib/python3.8/tokenize.py\u001b[0m in \u001b[0;36m_tokenize\u001b[0;34m(readline, encoding)\u001b[0m\n\u001b[1;32m    529\u001b[0m                 \u001b[0;32mif\u001b[0m \u001b[0mstart\u001b[0m \u001b[0;34m==\u001b[0m \u001b[0mend\u001b[0m\u001b[0;34m:\u001b[0m\u001b[0;34m\u001b[0m\u001b[0;34m\u001b[0m\u001b[0m\n\u001b[1;32m    530\u001b[0m                     \u001b[0;32mcontinue\u001b[0m\u001b[0;34m\u001b[0m\u001b[0;34m\u001b[0m\u001b[0m\n\u001b[0;32m--> 531\u001b[0;31m                 \u001b[0mtoken\u001b[0m\u001b[0;34m,\u001b[0m \u001b[0minitial\u001b[0m \u001b[0;34m=\u001b[0m \u001b[0mline\u001b[0m\u001b[0;34m[\u001b[0m\u001b[0mstart\u001b[0m\u001b[0;34m:\u001b[0m\u001b[0mend\u001b[0m\u001b[0;34m]\u001b[0m\u001b[0;34m,\u001b[0m \u001b[0mline\u001b[0m\u001b[0;34m[\u001b[0m\u001b[0mstart\u001b[0m\u001b[0;34m]\u001b[0m\u001b[0;34m\u001b[0m\u001b[0;34m\u001b[0m\u001b[0m\n\u001b[0m\u001b[1;32m    532\u001b[0m \u001b[0;34m\u001b[0m\u001b[0m\n\u001b[1;32m    533\u001b[0m                 if (initial in numchars or                 # ordinary number\n",
      "\u001b[0;31mKeyboardInterrupt\u001b[0m: "
     ]
    }
   ],
   "source": [
    "#[ x for x in seventyone ]\n",
    "\n",
    "for _ in seventyone:\n",
    "    print(get_percentage(top,_), '   ' , get_percentage(allGenes,_))"
   ]
  },
  {
   "cell_type": "code",
   "execution_count": 137,
   "metadata": {},
   "outputs": [],
   "source": [
    "seventyone = data.columns.to_list()"
   ]
  },
  {
   "cell_type": "code",
   "execution_count": 138,
   "metadata": {},
   "outputs": [
    {
     "data": {
      "text/plain": [
       "'CCLE_NAME'"
      ]
     },
     "execution_count": 138,
     "metadata": {},
     "output_type": "execute_result"
    }
   ],
   "source": [
    "seventyone.pop(1)\n",
    "seventyone.pop(1)\n",
    "seventyone.pop(0)"
   ]
  },
  {
   "cell_type": "code",
   "execution_count": 139,
   "metadata": {},
   "outputs": [
    {
     "data": {
      "text/plain": [
       "68"
      ]
     },
     "execution_count": 139,
     "metadata": {},
     "output_type": "execute_result"
    }
   ],
   "source": [
    "len(seventyone)"
   ]
  },
  {
   "cell_type": "code",
   "execution_count": 97,
   "metadata": {},
   "outputs": [
    {
     "name": "stdout",
     "output_type": "stream",
     "text": [
      "[0, 0, 0, 0, 0, 0, 0, 0, 0, 0, 0, 0, 0, 0, 0, 0, 0, 0, 0, 0, 0, 0, 0, 0, 0, 0, 0, 0, 0, 0, 0, 0, 0, 0, 0, 1, 0, 0, 0, 0, 1, 0, 0, 0, 0, 0, 0, 0, 0, 0, 1, 0, 0, 0, 0, 0, 0, 0, 0, 0, 0, 0, 0, 0]\n",
      "0.0038314176245210726\n"
     ]
    }
   ],
   "source": [
    "count = []\n",
    "for _ in allGenes.columns.to_list():\n",
    "    count.append(data[data['CCLE_NAME'].str.match(_)].EGFR_mut.to_list())\n",
    "    \n",
    "#print(count)\n",
    "#print(count/len(top))\n",
    "\n",
    "count = [i for j in count for i in j]\n",
    "print(count)\n",
    "print(sum(count)/len(allGenes))"
   ]
  },
  {
   "cell_type": "code",
   "execution_count": 86,
   "metadata": {},
   "outputs": [
    {
     "name": "stdout",
     "output_type": "stream",
     "text": [
      "0\n",
      "20\n"
     ]
    }
   ],
   "source": [
    "count = 0\n",
    "for _ in top:\n",
    "    if data[data['CCLE_NAME'].str.match(_)].APC_mut_del.to_list() == 1:\n",
    "        count += 1\n",
    "\n",
    "print(count)\n",
    "print(len(top))"
   ]
  },
  {
   "cell_type": "code",
   "execution_count": 28,
   "metadata": {
    "collapsed": true,
    "jupyter": {
     "outputs_hidden": true
    }
   },
   "outputs": [
    {
     "ename": "SyntaxError",
     "evalue": "unmatched ']' (<ipython-input-28-5d98798b7155>, line 2)",
     "output_type": "error",
     "traceback": [
      "\u001b[0;36m  File \u001b[0;32m\"<ipython-input-28-5d98798b7155>\"\u001b[0;36m, line \u001b[0;32m2\u001b[0m\n\u001b[0;31m    data[data['CCLE_NAME'].str.match(top)].MSI == 1]\u001b[0m\n\u001b[0m                                                   ^\u001b[0m\n\u001b[0;31mSyntaxError\u001b[0m\u001b[0;31m:\u001b[0m unmatched ']'\n"
     ]
    }
   ],
   "source": [
    "\n",
    "for _ in top:\n",
    "    data2 = data[data['CCLE_NAME'].str.match(top)]\n",
    "\n",
    "print(count)\n",
    "print(len(genes))"
   ]
  },
  {
   "cell_type": "code",
   "execution_count": 25,
   "metadata": {},
   "outputs": [
    {
     "data": {
      "text/plain": [
       "623    1\n",
       "Name: MSI, dtype: int64"
      ]
     },
     "execution_count": 25,
     "metadata": {},
     "output_type": "execute_result"
    }
   ],
   "source": [
    "data[data['CCLE_NAME'].str.match(top[1])].MSI"
   ]
  },
  {
   "cell_type": "code",
   "execution_count": 34,
   "metadata": {},
   "outputs": [
    {
     "data": {
      "text/plain": [
       "0.16569200779727095"
      ]
     },
     "execution_count": 34,
     "metadata": {},
     "output_type": "execute_result"
    }
   ],
   "source": [
    "# wir duerfen nicht alle zelllinien mitnehmen, nur die DepMap exclusives\n",
    "sum(data.APC_mut_del)/len(data.APC_mut_del)"
   ]
  },
  {
   "cell_type": "code",
   "execution_count": 36,
   "metadata": {},
   "outputs": [
    {
     "data": {
      "text/plain": [
       "1026"
      ]
     },
     "execution_count": 36,
     "metadata": {},
     "output_type": "execute_result"
    }
   ],
   "source": [
    "len(data.APC_mut_del)    # es sind nicht alle 1026 in DepMap, nur um die 750"
   ]
  },
  {
   "cell_type": "code",
   "execution_count": null,
   "metadata": {},
   "outputs": [],
   "source": [
    "count = 0\n",
    "for _ in top:\n",
    "    if data[data.mutationX] == 1:\n",
    "        count += 1\n",
    "    return count/len(top)"
   ]
  },
  {
   "cell_type": "code",
   "execution_count": null,
   "metadata": {},
   "outputs": [],
   "source": [
    "def calculate_genetic_background_percentage(cellLines,allcells,background):\n",
    "    for _ in cellLines:\n",
    "        # get the percentage of background in these cells\n",
    "        cellLines_percentage = cellLines[cellLines[]]\n",
    "    for _ in allcells:\n",
    "        # get the percentage of backgournd in all cells\n",
    "        allcells_percentage = allcells[allcells[]]\n",
    "    # as a first instance, check for overrepresentation comparing these 2 values\n",
    "    \n",
    "    print('the background ' + background + ' is found in ' + background_percent + ' of all celllines' )\n",
    "    print('the background ' + background + ' is found in ' + cellLines_percent + ' of the input celllines') "
   ]
  },
  {
   "cell_type": "code",
   "execution_count": null,
   "metadata": {},
   "outputs": [],
   "source": [
    "list1 = data[data.TP53_mut_del == 0][\"CCLE_NAME\"].to_list()\n",
    "#list1 = [j for i in list1 for j in i]\n",
    "# split at space\n",
    "for i in range(len(list1)):\n",
    "    list1[i] = list1[i].split(\"_\") \n",
    "\n",
    "List1 = []\n",
    "for i in range(len(list1)):\n",
    "    List1.append(list1[i][0])\n",
    "    \n",
    "overlap = set.intersection(set(List1),set(cell_L))"
   ]
  },
  {
   "cell_type": "code",
   "execution_count": 81,
   "metadata": {},
   "outputs": [],
   "source": [
    "def single_column(df,columns,nameOfNewCol):\n",
    "    'takes list of columns and returns a Df of values'\n",
    "    vals = df[columns].values.tolist()\n",
    "    valsList = [j for x in vals for j in x]\n",
    "    valsDf = pd.DataFrame(valsList,columns = [nameOfNewCol])\n",
    "    return valsDf"
   ]
  },
  {
   "cell_type": "code",
   "execution_count": 25,
   "metadata": {},
   "outputs": [],
   "source": [
    "def compare_groups(mutation,kogene):\n",
    "    list1 = data[data[mutation] == 1][\"CCLE_NAME\"].to_list()\n",
    "    mutation = set.intersection(set(list1),set(cellL))\n",
    "\n",
    "    list2 = data[data[mutation] == 0][\"CCLE_NAME\"].to_list()\n",
    "    noMutation = set.intersection(set(list2),set(cellL))\n",
    "\n",
    "    ko_gene = effectCellL[effectCellL.index.str.startswith(kogene)]\n",
    "\n",
    "    Df2 = single_column(ko_gene,mutation,'MUT')\n",
    "\n",
    "    Df1 = single_column(ko_gene,noMutation,'WT')\n",
    "\n",
    "    Df = pd.concat([Df1,Df2], axis=1, sort=False)\n",
    "    Df.boxplot()"
   ]
  },
  {
   "cell_type": "code",
   "execution_count": 1,
   "metadata": {},
   "outputs": [],
   "source": [
    "#compare_groups(\"NF2\",\"TP53\")"
   ]
  },
  {
   "cell_type": "code",
   "execution_count": 28,
   "metadata": {},
   "outputs": [],
   "source": [
    "# we cycle through the conditions. for every condition (71), check the percentage in the top cell lines of the two genes, and in all cell lines\n",
    "# after the function is done, this is a single for loop, or a list comprehension"
   ]
  },
  {
   "cell_type": "markdown",
   "metadata": {},
   "source": [
    "## Idee:\n",
    "wir schauen fuer alle paare, jeweils abhaengig vom split, die p-werte des hypergeometrischen tests fuer alle genetischen hintergruende an.\n",
    "    sind diese signifikant oder nicht? wir lassen einfach ein skript ueber alle 68 hintergrunde fuer alle relevanten paare laufen und geben paar sowie hintergrund aus.\n",
    "    danach ordnen wir nach p-value und schauen uns die signifikantesten an.\n",
    "    wichtig: wir nehmen fuer positiv korrelierte nur summen und fuer negativ korrelierte nur differenzen.\n",
    "    \n",
    "### dh:\n",
    "* cutoff festlegen (mit Juergen)\n",
    "* mit cutoff die zelllinien in 2 sets splitten\n",
    "* funktion schreiben die einen hypergeometrischen test mit diesen sets macht und das paar sowie den p-value dafuer zurueckgibt.\n",
    "* danach ordnen und mit Uli durchgehen."
   ]
  },
  {
   "cell_type": "code",
   "execution_count": null,
   "metadata": {},
   "outputs": [],
   "source": []
  },
  {
   "cell_type": "code",
   "execution_count": null,
   "metadata": {},
   "outputs": [],
   "source": []
  }
 ],
 "metadata": {
  "kernelspec": {
   "display_name": "Python 3",
   "language": "python",
   "name": "python3"
  },
  "language_info": {
   "codemirror_mode": {
    "name": "ipython",
    "version": 3
   },
   "file_extension": ".py",
   "mimetype": "text/x-python",
   "name": "python",
   "nbconvert_exporter": "python",
   "pygments_lexer": "ipython3",
   "version": "3.8.3"
  }
 },
 "nbformat": 4,
 "nbformat_minor": 4
}
