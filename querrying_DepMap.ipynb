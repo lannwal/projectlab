{
 "cells": [
  {
   "cell_type": "markdown",
   "metadata": {},
   "source": [
    "## Querrying DepMap for Co-Dependencies"
   ]
  },
  {
   "cell_type": "code",
   "execution_count": null,
   "metadata": {},
   "outputs": [],
   "source": [
    "import pandas as pd \n",
    "import numpy as np\n",
    "import seaborn as sns\n",
    "import matplotlib.pyplot as plt\n",
    "import itertools\n",
    "from scipy.stats import pearsonr"
   ]
  },
  {
   "cell_type": "code",
   "execution_count": 3,
   "metadata": {},
   "outputs": [],
   "source": [
    "effect = pd.read_csv(\"/home/annerer/Downloads/Achilles_gene_effect.csv\")\n",
    "data = pd.read_csv(\"/home/annerer/Downloads/sample_info.csv\")\n",
    "\n",
    "mapping = {}\n",
    "\n",
    "for i in np.arange(0,data.shape[0],1):\n",
    "    mapping[data.DepMap_ID[i]] = data.CCLE_Name[i]\n",
    "\n",
    "effect[\"INDEX\"] = effect.DepMap_ID\n",
    "effect = effect.set_index('INDEX')\n",
    "effect = effect.rename(index=mapping)\n",
    "\n",
    "effect = effect.drop(\"DepMap_ID\",1)\n",
    "\n",
    "gene = effect.columns.to_list()\n",
    "# split at space\n",
    "for i in range(len(gene)):\n",
    "    gene[i] = gene[i].split(\" \") \n",
    "\n",
    "genes = []\n",
    "for i in range(len(gene)):\n",
    "    genes.append(gene[i][0])\n",
    "    \n",
    "effect.columns = genes"
   ]
  },
  {
   "cell_type": "code",
   "execution_count": null,
   "metadata": {
    "jupyter": {
     "source_hidden": true
    }
   },
   "outputs": [],
   "source": [
    "# try to directly reproduce Kim figure from\n",
    "# the gene effect. if it works try to get the\n",
    "# cluster from the complete matrix\n",
    "\n",
    "#pancreasEffects = effect[['PANC1',]].iloc[[cell lines]]\n",
    "#sns.clustermap(pancreasEffects)"
   ]
  },
  {
   "cell_type": "code",
   "execution_count": 18,
   "metadata": {
    "jupyter": {
     "source_hidden": true
    }
   },
   "outputs": [],
   "source": [
    "#pancreas = searcheffect('PEX12','ABCD1', 0.2,0.1,'tolis')\n",
    "#pancreas = pancreas[['PEX12',\"PEX13\",'PEX10',\"PEX2\",\"PEX1\",'ABCD1']]\n",
    "#pancreas\n",
    "#pancreas = np.transpose(pancreas)\n",
    "#sns.clustermap(pancreas)"
   ]
  },
  {
   "cell_type": "code",
   "execution_count": 5,
   "metadata": {},
   "outputs": [],
   "source": [
    "mapping = {}\n",
    "\n",
    "for i in np.arange(0,data.shape[0],1):\n",
    "    mapping[data.DepMap_ID[i]] = data.CCLE_Name[i]\n",
    "\n",
    "\n",
    "#effect[\"INDEX\"] = effect.DepMap_ID\n",
    "#effect = effect.set_index('INDEX')\n",
    "#effect = effect.rename(index=mapping)\n",
    "\n",
    "#effect = effect.drop(\"DepMap_ID\",1)\n",
    "\n",
    "gene = effect.index.to_list()\n",
    "# split at space\n",
    "for i in range(len(gene)):\n",
    "    gene[i] = gene[i].split(\"_\") \n",
    "\n",
    "genes = []\n",
    "for i in range(len(gene)):\n",
    "    genes.append(gene[i][0])\n",
    "    \n",
    "effect.index = genes"
   ]
  },
  {
   "cell_type": "code",
   "execution_count": 96,
   "metadata": {
    "collapsed": true,
    "jupyter": {
     "outputs_hidden": true
    }
   },
   "outputs": [
    {
     "data": {
      "text/html": [
       "<div>\n",
       "<style scoped>\n",
       "    .dataframe tbody tr th:only-of-type {\n",
       "        vertical-align: middle;\n",
       "    }\n",
       "\n",
       "    .dataframe tbody tr th {\n",
       "        vertical-align: top;\n",
       "    }\n",
       "\n",
       "    .dataframe thead th {\n",
       "        text-align: right;\n",
       "    }\n",
       "</style>\n",
       "<table border=\"1\" class=\"dataframe\">\n",
       "  <thead>\n",
       "    <tr style=\"text-align: right;\">\n",
       "      <th></th>\n",
       "      <th>A1BG</th>\n",
       "      <th>A1CF</th>\n",
       "      <th>A2M</th>\n",
       "      <th>A2ML1</th>\n",
       "      <th>A3GALT2</th>\n",
       "      <th>A4GALT</th>\n",
       "      <th>A4GNT</th>\n",
       "      <th>AAAS</th>\n",
       "      <th>AACS</th>\n",
       "      <th>AADAC</th>\n",
       "      <th>...</th>\n",
       "      <th>ZWILCH</th>\n",
       "      <th>ZWINT</th>\n",
       "      <th>ZXDA</th>\n",
       "      <th>ZXDB</th>\n",
       "      <th>ZXDC</th>\n",
       "      <th>ZYG11A</th>\n",
       "      <th>ZYG11B</th>\n",
       "      <th>ZYX</th>\n",
       "      <th>ZZEF1</th>\n",
       "      <th>ZZZ3</th>\n",
       "    </tr>\n",
       "  </thead>\n",
       "  <tbody>\n",
       "    <tr>\n",
       "      <th>HEL</th>\n",
       "      <td>0.178087</td>\n",
       "      <td>0.088290</td>\n",
       "      <td>-0.201464</td>\n",
       "      <td>-0.017011</td>\n",
       "      <td>0.042590</td>\n",
       "      <td>-0.192257</td>\n",
       "      <td>0.352891</td>\n",
       "      <td>-0.445209</td>\n",
       "      <td>0.292603</td>\n",
       "      <td>0.165168</td>\n",
       "      <td>...</td>\n",
       "      <td>-0.122795</td>\n",
       "      <td>-0.464567</td>\n",
       "      <td>NaN</td>\n",
       "      <td>NaN</td>\n",
       "      <td>0.258084</td>\n",
       "      <td>0.237593</td>\n",
       "      <td>-0.408563</td>\n",
       "      <td>0.291832</td>\n",
       "      <td>0.218575</td>\n",
       "      <td>-0.139759</td>\n",
       "    </tr>\n",
       "    <tr>\n",
       "      <th>HEL9217</th>\n",
       "      <td>-0.082364</td>\n",
       "      <td>0.239413</td>\n",
       "      <td>0.195457</td>\n",
       "      <td>0.163763</td>\n",
       "      <td>-0.188161</td>\n",
       "      <td>-0.338735</td>\n",
       "      <td>0.254489</td>\n",
       "      <td>-0.583878</td>\n",
       "      <td>-0.060615</td>\n",
       "      <td>0.015272</td>\n",
       "      <td>...</td>\n",
       "      <td>-0.195061</td>\n",
       "      <td>-0.408063</td>\n",
       "      <td>-0.155155</td>\n",
       "      <td>-0.067415</td>\n",
       "      <td>0.229242</td>\n",
       "      <td>-0.075883</td>\n",
       "      <td>-0.104001</td>\n",
       "      <td>0.075901</td>\n",
       "      <td>0.036985</td>\n",
       "      <td>-0.243303</td>\n",
       "    </tr>\n",
       "  </tbody>\n",
       "</table>\n",
       "<p>2 rows × 18119 columns</p>\n",
       "</div>"
      ],
      "text/plain": [
       "             A1BG      A1CF       A2M     A2ML1   A3GALT2    A4GALT     A4GNT  \\\n",
       "HEL      0.178087  0.088290 -0.201464 -0.017011  0.042590 -0.192257  0.352891   \n",
       "HEL9217 -0.082364  0.239413  0.195457  0.163763 -0.188161 -0.338735  0.254489   \n",
       "\n",
       "             AAAS      AACS     AADAC  ...    ZWILCH     ZWINT      ZXDA  \\\n",
       "HEL     -0.445209  0.292603  0.165168  ... -0.122795 -0.464567       NaN   \n",
       "HEL9217 -0.583878 -0.060615  0.015272  ... -0.195061 -0.408063 -0.155155   \n",
       "\n",
       "             ZXDB      ZXDC    ZYG11A    ZYG11B       ZYX     ZZEF1      ZZZ3  \n",
       "HEL           NaN  0.258084  0.237593 -0.408563  0.291832  0.218575 -0.139759  \n",
       "HEL9217 -0.067415  0.229242 -0.075883 -0.104001  0.075901  0.036985 -0.243303  \n",
       "\n",
       "[2 rows x 18119 columns]"
      ]
     },
     "execution_count": 96,
     "metadata": {},
     "output_type": "execute_result"
    }
   ],
   "source": [
    "effect.head(2)"
   ]
  },
  {
   "cell_type": "code",
   "execution_count": 88,
   "metadata": {},
   "outputs": [],
   "source": [
    "#'PANC1' in effect.index"
   ]
  },
  {
   "cell_type": "code",
   "execution_count": 95,
   "metadata": {},
   "outputs": [
    {
     "data": {
      "text/plain": [
       "'panc = effect[effect.index.str.contains(\\'PAT\\')]\\npanc = panc[[\\'PEX12\\',\"PEX13\",\\'PEX10\\',\"PEX2\",\"PEX1\",\\'ABCD1\\']]\\npanc = panc.fillna(0)\\npanc[panc<-0.3] = -0.\\nsns.clustermap(panc)'"
      ]
     },
     "execution_count": 95,
     "metadata": {},
     "output_type": "execute_result"
    }
   ],
   "source": [
    "'''panc = effect[effect.index.str.contains('PAT')]\n",
    "panc = panc[['PEX12',\"PEX13\",'PEX10',\"PEX2\",\"PEX1\",'ABCD1']]\n",
    "panc = panc.fillna(0)\n",
    "panc[panc<-0.3] = -0.\n",
    "sns.clustermap(panc)'''"
   ]
  },
  {
   "cell_type": "code",
   "execution_count": 89,
   "metadata": {},
   "outputs": [],
   "source": [
    "# values above 3xmedian\n",
    "\n",
    "#effect[effect['ABCD1'] > 3 * effect[\"ABCD1\"].median()]"
   ]
  },
  {
   "cell_type": "code",
   "execution_count": 46,
   "metadata": {},
   "outputs": [
    {
     "data": {
      "text/plain": [
       "DKMG    4.935405\n",
       "Name: TP53, dtype: float64"
      ]
     },
     "execution_count": 46,
     "metadata": {},
     "output_type": "execute_result"
    }
   ],
   "source": [
    "dkmg = effect[effect.index.str.match(\"DKMG\")]\n",
    "dkmg['TP53']"
   ]
  },
  {
   "cell_type": "code",
   "execution_count": 47,
   "metadata": {},
   "outputs": [
    {
     "data": {
      "text/plain": [
       "DKMG    214.863604\n",
       "Name: TP53, dtype: float64"
      ]
     },
     "execution_count": 47,
     "metadata": {},
     "output_type": "execute_result"
    }
   ],
   "source": [
    "dkmg['TP53']/effect[\"TP53\"].median()"
   ]
  },
  {
   "cell_type": "code",
   "execution_count": 48,
   "metadata": {
    "collapsed": true,
    "jupyter": {
     "outputs_hidden": true,
     "source_hidden": true
    }
   },
   "outputs": [
    {
     "data": {
      "text/plain": [
       "0.20346155241225028"
      ]
     },
     "execution_count": 48,
     "metadata": {},
     "output_type": "execute_result"
    }
   ],
   "source": [
    "effect[\"TP53\"].mean()\n",
    "effect[\"TP53\"].median()\n",
    "sortedTP53 = effect['TP53'].sort_values()"
   ]
  },
  {
   "cell_type": "markdown",
   "metadata": {},
   "source": [
    "## Get the distribution's shoulder"
   ]
  },
  {
   "cell_type": "code",
   "execution_count": 6,
   "metadata": {
    "jupyter": {
     "source_hidden": true
    }
   },
   "outputs": [],
   "source": [
    "#effectCorr = effect.corr()\n",
    "#effectCorr.to_csv('geneEffectCorrelation.csv')\n",
    "# ONLY ONCE CALCULATED, LOAD THE MATRIX"
   ]
  },
  {
   "cell_type": "code",
   "execution_count": 66,
   "metadata": {},
   "outputs": [],
   "source": [
    "#effectCorr = pd.read_csv('geneEffectCorrelation.csv')\n",
    "\n",
    "# import feather\n",
    "#effectCorr.to_feather('geneEffectsCorr.feather')\n",
    "effectCorr = pd.read_feather('geneEffectsCorr.feather')\n",
    "effectCorr = effectCorr.drop(\"Unnamed: 0\",1)"
   ]
  },
  {
   "cell_type": "code",
   "execution_count": 82,
   "metadata": {},
   "outputs": [],
   "source": [
    "effectList = effectCorr.values.tolist()\n",
    "effectLIST = [j for i in effectList for j in i]\n",
    "sortedEffectList = np.sort(effectLIST)\n",
    "sortedEffect = pd.DataFrame(sortedEffectList)"
   ]
  },
  {
   "cell_type": "code",
   "execution_count": 87,
   "metadata": {},
   "outputs": [
    {
     "data": {
      "image/png": "[encoded data removed]",
      "text/plain": [
       "<Figure size 432x288 with 1 Axes>"
      ]
     },
     "metadata": {
      "needs_background": "light"
     },
     "output_type": "display_data"
    }
   ],
   "source": [
    "sortedEffect.hist(bins=1000)\n",
    "plt.title(\"Pairwise Pearson correlations of the DepMap 20Q2 Genes\")\n",
    "plt.xlabel(\"Pearson Correlation\")\n",
    "plt.ylabel(\"Number of Genes\")\n",
    "plt.savefig('pcc_histogram')"
   ]
  },
  {
   "cell_type": "code",
   "execution_count": 94,
   "metadata": {},
   "outputs": [],
   "source": [
    "#percentage_window(sortedEffect,90,95)"
   ]
  },
  {
   "cell_type": "code",
   "execution_count": 102,
   "metadata": {},
   "outputs": [
    {
     "data": {
      "text/plain": [
       "(18119, 18119)"
      ]
     },
     "execution_count": 102,
     "metadata": {},
     "output_type": "execute_result"
    }
   ],
   "source": [
    "effectCorr.shape"
   ]
  },
  {
   "cell_type": "code",
   "execution_count": 100,
   "metadata": {},
   "outputs": [
    {
     "data": {
      "text/plain": [
       "0.04421257570939798"
      ]
     },
     "execution_count": 100,
     "metadata": {},
     "output_type": "execute_result"
    }
   ],
   "source": [
    "effectCorr['TP53']"
   ]
  },
  {
   "cell_type": "code",
   "execution_count": 235,
   "metadata": {},
   "outputs": [],
   "source": [
    "effectCorr1 = effectCorr.replace(1,0)\n",
    "effect2 = effectCorr1.max().sort_values(0)"
   ]
  },
  {
   "cell_type": "code",
   "execution_count": 6,
   "metadata": {},
   "outputs": [],
   "source": [
    "#effect2['TP53']\n",
    "#effectCorr1['TP53'].sort_values(0).tail()"
   ]
  },
  {
   "cell_type": "code",
   "execution_count": 246,
   "metadata": {},
   "outputs": [],
   "source": [
    "cols = effectCorr.columns.to_list()\n",
    "#cols = cols[0:int(np.round(0.0009*len(cols)))]\n",
    "#data1 = effectCorr[cols][0:20]\n",
    "\n",
    "bigcols = effectCorr[effectCorr[cols].sum() > 300]\n",
    "#bigcols"
   ]
  },
  {
   "cell_type": "code",
   "execution_count": 255,
   "metadata": {},
   "outputs": [],
   "source": [
    "#geneEffectPairs = effectCorr1.values.tolist()\n",
    "#plt.histogram(geneEffectPairs,bins=10000)"
   ]
  },
  {
   "cell_type": "code",
   "execution_count": null,
   "metadata": {},
   "outputs": [],
   "source": [
    "vals = pd.DataFrame(geneEffectPairs)\n",
    "vals = vals.sort_values()\n",
    "vals.hist(bins=1000)"
   ]
  },
  {
   "cell_type": "code",
   "execution_count": 5,
   "metadata": {},
   "outputs": [],
   "source": [
    "#fil = data1.replace(1,0)"
   ]
  },
  {
   "cell_type": "code",
   "execution_count": 230,
   "metadata": {
    "collapsed": true,
    "jupyter": {
     "outputs_hidden": true
    }
   },
   "outputs": [
    {
     "data": {
      "text/plain": [
       "<matplotlib.collections.PolyCollection at 0x7f9d6adbdeb8>"
      ]
     },
     "execution_count": 230,
     "metadata": {},
     "output_type": "execute_result"
    },
    {
     "data": {
      "image/png": "[encoded data removed]",
      "text/plain": [
       "<Figure size 432x288 with 1 Axes>"
      ]
     },
     "metadata": {
      "needs_background": "light"
     },
     "output_type": "display_data"
    }
   ],
   "source": [
    "plt.pcolor(fil)"
   ]
  },
  {
   "cell_type": "code",
   "execution_count": 3,
   "metadata": {},
   "outputs": [],
   "source": [
    "#sns.clustermap(data:image/png;base64,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fil)"
   ]
  },
  {
   "cell_type": "code",
   "execution_count": 4,
   "metadata": {},
   "outputs": [],
   "source": [
    "#sns.clustermap(bigcols)"
   ]
  },
  {
   "cell_type": "code",
   "execution_count": null,
   "metadata": {},
   "outputs": [],
   "source": [
    "# read the correlated effect scores file\n",
    "# here I use a column from gene-effects as test-set"
   ]
  },
  {
   "cell_type": "code",
   "execution_count": 161,
   "metadata": {
    "collapsed": true,
    "jupyter": {
     "outputs_hidden": true
    }
   },
   "outputs": [
    {
     "data": {
      "text/plain": [
       "<matplotlib.axes._subplots.AxesSubplot at 0x7f9d8eaaa668>"
      ]
     },
     "execution_count": 161,
     "metadata": {},
     "output_type": "execute_result"
    },
    {
     "data": {
      "image/png": "[encoded data removed]",
      "text/plain": [
       "<Figure size 432x288 with 1 Axes>"
      ]
     },
     "metadata": {
      "needs_background": "light"
     },
     "output_type": "display_data"
    }
   ],
   "source": [
    "a = effect['A1BG (1)'].sort_values(0)\n",
    "tenpercent = np.round(0.1*len(a))\n",
    "start = int(len(a)-tenpercent)\n",
    "a[start:769].hist()"
   ]
  },
  {
   "cell_type": "code",
   "execution_count": 90,
   "metadata": {},
   "outputs": [],
   "source": [
    "def percentage_window(df,p1,p2):\n",
    "    \"\"\" \n",
    "    function for getting percentage window of values (eg a shoulder)\n",
    "    df..DataFrame, p1 lower percentage (eg 80), p2 upper (eg 100)\n",
    "    returns the specified window of the dataframe\n",
    "    \"\"\"\n",
    "    length = len(df)\n",
    "    lower = int(np.round(p1/100 *length))\n",
    "    upper = int(np.round(p2/100 *length))\n",
    "    return df[lower:upper]\n"
   ]
  },
  {
   "cell_type": "code",
   "execution_count": 176,
   "metadata": {
    "collapsed": true,
    "jupyter": {
     "outputs_hidden": true
    }
   },
   "outputs": [
    {
     "data": {
      "text/plain": [
       "<matplotlib.axes._subplots.AxesSubplot at 0x7f9d8fbafa58>"
      ]
     },
     "execution_count": 176,
     "metadata": {},
     "output_type": "execute_result"
    },
    {
     "data": {
      "image/png": "[encoded data removed]",
      "text/plain": [
       "<Figure size 432x288 with 1 Axes>"
      ]
     },
     "metadata": {
      "needs_background": "light"
     },
     "output_type": "display_data"
    }
   ],
   "source": [
    "test = percentage_window(a,95,100)\n",
    "test.hist()"
   ]
  },
  {
   "cell_type": "markdown",
   "metadata": {},
   "source": [
    "# Use Cell-Lines as Index and get rid of the numbers in the column titles (Complete)"
   ]
  },
  {
   "cell_type": "code",
   "execution_count": 133,
   "metadata": {},
   "outputs": [
    {
     "data": {
      "text/html": [
       "<div>\n",
       "<style scoped>\n",
       "    .dataframe tbody tr th:only-of-type {\n",
       "        vertical-align: middle;\n",
       "    }\n",
       "\n",
       "    .dataframe tbody tr th {\n",
       "        vertical-align: top;\n",
       "    }\n",
       "\n",
       "    .dataframe thead th {\n",
       "        text-align: right;\n",
       "    }\n",
       "</style>\n",
       "<table border=\"1\" class=\"dataframe\">\n",
       "  <thead>\n",
       "    <tr style=\"text-align: right;\">\n",
       "      <th></th>\n",
       "      <th>A1BG</th>\n",
       "      <th>A1CF</th>\n",
       "      <th>A2M</th>\n",
       "      <th>A2ML1</th>\n",
       "      <th>A3GALT2</th>\n",
       "      <th>A4GALT</th>\n",
       "      <th>A4GNT</th>\n",
       "      <th>AAAS</th>\n",
       "      <th>AACS</th>\n",
       "      <th>AADAC</th>\n",
       "      <th>...</th>\n",
       "      <th>ZWILCH</th>\n",
       "      <th>ZWINT</th>\n",
       "      <th>ZXDA</th>\n",
       "      <th>ZXDB</th>\n",
       "      <th>ZXDC</th>\n",
       "      <th>ZYG11A</th>\n",
       "      <th>ZYG11B</th>\n",
       "      <th>ZYX</th>\n",
       "      <th>ZZEF1</th>\n",
       "      <th>ZZZ3</th>\n",
       "    </tr>\n",
       "    <tr>\n",
       "      <th>INDEX</th>\n",
       "      <th></th>\n",
       "      <th></th>\n",
       "      <th></th>\n",
       "      <th></th>\n",
       "      <th></th>\n",
       "      <th></th>\n",
       "      <th></th>\n",
       "      <th></th>\n",
       "      <th></th>\n",
       "      <th></th>\n",
       "      <th></th>\n",
       "      <th></th>\n",
       "      <th></th>\n",
       "      <th></th>\n",
       "      <th></th>\n",
       "      <th></th>\n",
       "      <th></th>\n",
       "      <th></th>\n",
       "      <th></th>\n",
       "      <th></th>\n",
       "      <th></th>\n",
       "    </tr>\n",
       "  </thead>\n",
       "  <tbody>\n",
       "    <tr>\n",
       "      <th>HEL_HAEMATOPOIETIC_AND_LYMPHOID_TISSUE</th>\n",
       "      <td>0.178087</td>\n",
       "      <td>0.088290</td>\n",
       "      <td>-0.201464</td>\n",
       "      <td>-0.017011</td>\n",
       "      <td>0.042590</td>\n",
       "      <td>-0.192257</td>\n",
       "      <td>0.352891</td>\n",
       "      <td>-0.445209</td>\n",
       "      <td>0.292603</td>\n",
       "      <td>0.165168</td>\n",
       "      <td>...</td>\n",
       "      <td>-0.122795</td>\n",
       "      <td>-0.464567</td>\n",
       "      <td>NaN</td>\n",
       "      <td>NaN</td>\n",
       "      <td>0.258084</td>\n",
       "      <td>0.237593</td>\n",
       "      <td>-0.408563</td>\n",
       "      <td>0.291832</td>\n",
       "      <td>0.218575</td>\n",
       "      <td>-0.139759</td>\n",
       "    </tr>\n",
       "    <tr>\n",
       "      <th>HEL9217_HAEMATOPOIETIC_AND_LYMPHOID_TISSUE</th>\n",
       "      <td>-0.082364</td>\n",
       "      <td>0.239413</td>\n",
       "      <td>0.195457</td>\n",
       "      <td>0.163763</td>\n",
       "      <td>-0.188161</td>\n",
       "      <td>-0.338735</td>\n",
       "      <td>0.254489</td>\n",
       "      <td>-0.583878</td>\n",
       "      <td>-0.060615</td>\n",
       "      <td>0.015272</td>\n",
       "      <td>...</td>\n",
       "      <td>-0.195061</td>\n",
       "      <td>-0.408063</td>\n",
       "      <td>-0.155155</td>\n",
       "      <td>-0.067415</td>\n",
       "      <td>0.229242</td>\n",
       "      <td>-0.075883</td>\n",
       "      <td>-0.104001</td>\n",
       "      <td>0.075901</td>\n",
       "      <td>0.036985</td>\n",
       "      <td>-0.243303</td>\n",
       "    </tr>\n",
       "    <tr>\n",
       "      <th>LS513_LARGE_INTESTINE</th>\n",
       "      <td>0.070026</td>\n",
       "      <td>0.075066</td>\n",
       "      <td>-0.064637</td>\n",
       "      <td>0.156905</td>\n",
       "      <td>0.099075</td>\n",
       "      <td>0.141985</td>\n",
       "      <td>0.066314</td>\n",
       "      <td>-0.477023</td>\n",
       "      <td>-0.006855</td>\n",
       "      <td>0.291604</td>\n",
       "      <td>...</td>\n",
       "      <td>-0.093252</td>\n",
       "      <td>-0.276874</td>\n",
       "      <td>-0.049716</td>\n",
       "      <td>0.116683</td>\n",
       "      <td>0.211699</td>\n",
       "      <td>-0.012654</td>\n",
       "      <td>-0.351716</td>\n",
       "      <td>0.089140</td>\n",
       "      <td>-0.392549</td>\n",
       "      <td>-0.442624</td>\n",
       "    </tr>\n",
       "    <tr>\n",
       "      <th>C2BBE1_LARGE_INTESTINE</th>\n",
       "      <td>0.107048</td>\n",
       "      <td>-0.006352</td>\n",
       "      <td>-0.053166</td>\n",
       "      <td>0.053055</td>\n",
       "      <td>0.081620</td>\n",
       "      <td>-0.038305</td>\n",
       "      <td>0.082421</td>\n",
       "      <td>-0.642935</td>\n",
       "      <td>0.159178</td>\n",
       "      <td>0.064128</td>\n",
       "      <td>...</td>\n",
       "      <td>-0.280677</td>\n",
       "      <td>-0.230111</td>\n",
       "      <td>-0.106000</td>\n",
       "      <td>0.041611</td>\n",
       "      <td>0.083021</td>\n",
       "      <td>0.022771</td>\n",
       "      <td>-0.596777</td>\n",
       "      <td>0.197627</td>\n",
       "      <td>-0.106398</td>\n",
       "      <td>-0.549259</td>\n",
       "    </tr>\n",
       "    <tr>\n",
       "      <th>253J_URINARY_TRACT</th>\n",
       "      <td>0.280508</td>\n",
       "      <td>0.079860</td>\n",
       "      <td>0.016981</td>\n",
       "      <td>0.439139</td>\n",
       "      <td>-0.042239</td>\n",
       "      <td>-0.242560</td>\n",
       "      <td>0.103028</td>\n",
       "      <td>-0.419159</td>\n",
       "      <td>0.141445</td>\n",
       "      <td>0.115857</td>\n",
       "      <td>...</td>\n",
       "      <td>-0.410500</td>\n",
       "      <td>-0.507467</td>\n",
       "      <td>-0.138665</td>\n",
       "      <td>-0.119292</td>\n",
       "      <td>0.284407</td>\n",
       "      <td>0.158124</td>\n",
       "      <td>-0.240429</td>\n",
       "      <td>0.124847</td>\n",
       "      <td>-0.250949</td>\n",
       "      <td>-0.379117</td>\n",
       "    </tr>\n",
       "  </tbody>\n",
       "</table>\n",
       "<p>5 rows × 18119 columns</p>\n",
       "</div>"
      ],
      "text/plain": [
       "                                                A1BG      A1CF       A2M  \\\n",
       "INDEX                                                                      \n",
       "HEL_HAEMATOPOIETIC_AND_LYMPHOID_TISSUE      0.178087  0.088290 -0.201464   \n",
       "HEL9217_HAEMATOPOIETIC_AND_LYMPHOID_TISSUE -0.082364  0.239413  0.195457   \n",
       "LS513_LARGE_INTESTINE                       0.070026  0.075066 -0.064637   \n",
       "C2BBE1_LARGE_INTESTINE                      0.107048 -0.006352 -0.053166   \n",
       "253J_URINARY_TRACT                          0.280508  0.079860  0.016981   \n",
       "\n",
       "                                               A2ML1   A3GALT2    A4GALT  \\\n",
       "INDEX                                                                      \n",
       "HEL_HAEMATOPOIETIC_AND_LYMPHOID_TISSUE     -0.017011  0.042590 -0.192257   \n",
       "HEL9217_HAEMATOPOIETIC_AND_LYMPHOID_TISSUE  0.163763 -0.188161 -0.338735   \n",
       "LS513_LARGE_INTESTINE                       0.156905  0.099075  0.141985   \n",
       "C2BBE1_LARGE_INTESTINE                      0.053055  0.081620 -0.038305   \n",
       "253J_URINARY_TRACT                          0.439139 -0.042239 -0.242560   \n",
       "\n",
       "                                               A4GNT      AAAS      AACS  \\\n",
       "INDEX                                                                      \n",
       "HEL_HAEMATOPOIETIC_AND_LYMPHOID_TISSUE      0.352891 -0.445209  0.292603   \n",
       "HEL9217_HAEMATOPOIETIC_AND_LYMPHOID_TISSUE  0.254489 -0.583878 -0.060615   \n",
       "LS513_LARGE_INTESTINE                       0.066314 -0.477023 -0.006855   \n",
       "C2BBE1_LARGE_INTESTINE                      0.082421 -0.642935  0.159178   \n",
       "253J_URINARY_TRACT                          0.103028 -0.419159  0.141445   \n",
       "\n",
       "                                               AADAC  ...    ZWILCH     ZWINT  \\\n",
       "INDEX                                                 ...                       \n",
       "HEL_HAEMATOPOIETIC_AND_LYMPHOID_TISSUE      0.165168  ... -0.122795 -0.464567   \n",
       "HEL9217_HAEMATOPOIETIC_AND_LYMPHOID_TISSUE  0.015272  ... -0.195061 -0.408063   \n",
       "LS513_LARGE_INTESTINE                       0.291604  ... -0.093252 -0.276874   \n",
       "C2BBE1_LARGE_INTESTINE                      0.064128  ... -0.280677 -0.230111   \n",
       "253J_URINARY_TRACT                          0.115857  ... -0.410500 -0.507467   \n",
       "\n",
       "                                                ZXDA      ZXDB      ZXDC  \\\n",
       "INDEX                                                                      \n",
       "HEL_HAEMATOPOIETIC_AND_LYMPHOID_TISSUE           NaN       NaN  0.258084   \n",
       "HEL9217_HAEMATOPOIETIC_AND_LYMPHOID_TISSUE -0.155155 -0.067415  0.229242   \n",
       "LS513_LARGE_INTESTINE                      -0.049716  0.116683  0.211699   \n",
       "C2BBE1_LARGE_INTESTINE                     -0.106000  0.041611  0.083021   \n",
       "253J_URINARY_TRACT                         -0.138665 -0.119292  0.284407   \n",
       "\n",
       "                                              ZYG11A    ZYG11B       ZYX  \\\n",
       "INDEX                                                                      \n",
       "HEL_HAEMATOPOIETIC_AND_LYMPHOID_TISSUE      0.237593 -0.408563  0.291832   \n",
       "HEL9217_HAEMATOPOIETIC_AND_LYMPHOID_TISSUE -0.075883 -0.104001  0.075901   \n",
       "LS513_LARGE_INTESTINE                      -0.012654 -0.351716  0.089140   \n",
       "C2BBE1_LARGE_INTESTINE                      0.022771 -0.596777  0.197627   \n",
       "253J_URINARY_TRACT                          0.158124 -0.240429  0.124847   \n",
       "\n",
       "                                               ZZEF1      ZZZ3  \n",
       "INDEX                                                           \n",
       "HEL_HAEMATOPOIETIC_AND_LYMPHOID_TISSUE      0.218575 -0.139759  \n",
       "HEL9217_HAEMATOPOIETIC_AND_LYMPHOID_TISSUE  0.036985 -0.243303  \n",
       "LS513_LARGE_INTESTINE                      -0.392549 -0.442624  \n",
       "C2BBE1_LARGE_INTESTINE                     -0.106398 -0.549259  \n",
       "253J_URINARY_TRACT                         -0.250949 -0.379117  \n",
       "\n",
       "[5 rows x 18119 columns]"
      ]
     },
     "execution_count": 133,
     "metadata": {},
     "output_type": "execute_result"
    }
   ],
   "source": [
    "effect.head()"
   ]
  },
  {
   "cell_type": "code",
   "execution_count": 103,
   "metadata": {},
   "outputs": [],
   "source": [
    "data1 = pd.read_csv(\"/home/annerer/Downloads/sample_info.csv\")"
   ]
  },
  {
   "cell_type": "code",
   "execution_count": 8,
   "metadata": {},
   "outputs": [],
   "source": [
    "mapping = {}\n",
    "\n",
    "for i in np.arange(0,data.shape[0],1):\n",
    "    mapping[data.DepMap_ID[i]] = data.CCLE_Name[i]\n",
    "\n",
    "effect[\"INDEX\"] = effect.DepMap_ID\n",
    "effect = effect.set_index('INDEX')\n",
    "effect = effect.rename(index=mapping)"
   ]
  },
  {
   "cell_type": "code",
   "execution_count": 28,
   "metadata": {},
   "outputs": [],
   "source": [
    "effect = effect.drop(\"DepMap_ID\",1)"
   ]
  },
  {
   "cell_type": "markdown",
   "metadata": {},
   "source": [
    "# Build a Search-Feature that allows to querry for Co-Dependencies"
   ]
  },
  {
   "cell_type": "code",
   "execution_count": 77,
   "metadata": {},
   "outputs": [
    {
     "data": {
      "text/plain": [
       "['NMCG1_CENTRAL_NERVOUS_SYSTEM',\n",
       " 'DKMG_CENTRAL_NERVOUS_SYSTEM',\n",
       " 'KMRC1_KIDNEY',\n",
       " 'TTC642_SOFT_TISSUE']"
      ]
     },
     "execution_count": 77,
     "metadata": {},
     "output_type": "execute_result"
    }
   ],
   "source": [
    "effect[effect['TP53'] > 3.9].index.to_list()"
   ]
  },
  {
   "cell_type": "code",
   "execution_count": 49,
   "metadata": {},
   "outputs": [],
   "source": [
    "def searcheffect(*genes):\n",
    "    if v3 == 'tolist':\n",
    "        return effect[(effect[genes] > values) & (effect[genes] > values)].index.to_list()\n",
    "    else:\n",
    "        return effect[(effect[genes] > values) & (effect[genes] > values)]"
   ]
  },
  {
   "cell_type": "code",
   "execution_count": 83,
   "metadata": {},
   "outputs": [
    {
     "data": {
      "text/plain": [
       "<matplotlib.colorbar.Colorbar at 0x7f9d8f024eb8>"
      ]
     },
     "execution_count": 83,
     "metadata": {},
     "output_type": "execute_result"
    },
    {
     "data": {
      "image/png": "[encoded data removed]",
      "text/plain": [
       "<Figure size 432x288 with 2 Axes>"
      ]
     },
     "metadata": {
      "needs_background": "light"
     },
     "output_type": "display_data"
    }
   ],
   "source": [
    "dat = searcheffect('TP53','MDM2', 4,-5,'tolis')\n",
    "plt.pcolor(dat[['TP53','MDM2','A1BG']])\n",
    "plt.colorbar()"
   ]
  },
  {
   "cell_type": "markdown",
   "metadata": {},
   "source": [
    "So far this allows to querry for two genes of interest\n",
    "outputting a heatmap for the essentialities with rows\n",
    "being cell lines and columns the genes.\n",
    "in this example above we see that TP53 and MDM2 are \n",
    "negatively correlated. We see this as well in our pre-\n",
    "liminary calculation of (pearson) correlation between\n",
    "the gene-effects of these two genes in the 700+ cancer\n",
    "cell lines."
   ]
  },
  {
   "cell_type": "markdown",
   "metadata": {},
   "source": [
    "### TODO:"
   ]
  },
  {
   "cell_type": "markdown",
   "metadata": {},
   "source": [
    "the gene pairs have to be input by the user, this is fine.\n",
    "the default values for val1, val2 should be higher or lower \n",
    "than average or something. I have to wait to see what the matrix\n",
    "actually is. \n",
    "output should be the heatmap or the list of tissues that are affected.\n",
    "Then we could check if these are oncogene-addictions or synthetic lethalities.\n",
    "\n",
    "How? get the genetic data from the depmap linked sites like cellosaur or cosmid. depmap should also have this data. this does not have to be an elaborate visual display, this could be a quick check i guess."
   ]
  },
  {
   "cell_type": "markdown",
   "metadata": {},
   "source": [
    "## Renaming columns (complete)"
   ]
  },
  {
   "cell_type": "code",
   "execution_count": null,
   "metadata": {},
   "outputs": [],
   "source": [
    "gene = effect.columns.to_list()\n",
    "# split at space\n",
    "for i in range(len(gene)):\n",
    "    gene[i] = gene[i].split(\" \") \n",
    "\n",
    "genes = []\n",
    "for i in range(len(gene)):\n",
    "    genes.append(gene[i][0])"
   ]
  },
  {
   "cell_type": "code",
   "execution_count": 100,
   "metadata": {},
   "outputs": [],
   "source": [
    "lineages = list(set(data['lineage']))"
   ]
  },
  {
   "cell_type": "code",
   "execution_count": 132,
   "metadata": {},
   "outputs": [],
   "source": [
    "#effect.index.to_list()"
   ]
  },
  {
   "cell_type": "code",
   "execution_count": 72,
   "metadata": {},
   "outputs": [],
   "source": [
    "effect.columns = genes"
   ]
  },
  {
   "cell_type": "code",
   "execution_count": 70,
   "metadata": {},
   "outputs": [
    {
     "data": {
      "text/html": [
       "<div>\n",
       "<style scoped>\n",
       "    .dataframe tbody tr th:only-of-type {\n",
       "        vertical-align: middle;\n",
       "    }\n",
       "\n",
       "    .dataframe tbody tr th {\n",
       "        vertical-align: top;\n",
       "    }\n",
       "\n",
       "    .dataframe thead th {\n",
       "        text-align: right;\n",
       "    }\n",
       "</style>\n",
       "<table border=\"1\" class=\"dataframe\">\n",
       "  <thead>\n",
       "    <tr style=\"text-align: right;\">\n",
       "      <th></th>\n",
       "      <th>A1BG</th>\n",
       "      <th>A1CF</th>\n",
       "      <th>A2M</th>\n",
       "      <th>A2ML1</th>\n",
       "      <th>A3GALT2</th>\n",
       "      <th>A4GALT</th>\n",
       "      <th>A4GNT</th>\n",
       "      <th>AAAS</th>\n",
       "      <th>AACS</th>\n",
       "      <th>AADAC</th>\n",
       "      <th>...</th>\n",
       "      <th>ZWILCH</th>\n",
       "      <th>ZWINT</th>\n",
       "      <th>ZXDA</th>\n",
       "      <th>ZXDB</th>\n",
       "      <th>ZXDC</th>\n",
       "      <th>ZYG11A</th>\n",
       "      <th>ZYG11B</th>\n",
       "      <th>ZYX</th>\n",
       "      <th>ZZEF1</th>\n",
       "      <th>ZZZ3</th>\n",
       "    </tr>\n",
       "    <tr>\n",
       "      <th>INDEX</th>\n",
       "      <th></th>\n",
       "      <th></th>\n",
       "      <th></th>\n",
       "      <th></th>\n",
       "      <th></th>\n",
       "      <th></th>\n",
       "      <th></th>\n",
       "      <th></th>\n",
       "      <th></th>\n",
       "      <th></th>\n",
       "      <th></th>\n",
       "      <th></th>\n",
       "      <th></th>\n",
       "      <th></th>\n",
       "      <th></th>\n",
       "      <th></th>\n",
       "      <th></th>\n",
       "      <th></th>\n",
       "      <th></th>\n",
       "      <th></th>\n",
       "      <th></th>\n",
       "    </tr>\n",
       "  </thead>\n",
       "  <tbody>\n",
       "    <tr>\n",
       "      <th>HEL_HAEMATOPOIETIC_AND_LYMPHOID_TISSUE</th>\n",
       "      <td>0.178087</td>\n",
       "      <td>0.088290</td>\n",
       "      <td>-0.201464</td>\n",
       "      <td>-0.017011</td>\n",
       "      <td>0.042590</td>\n",
       "      <td>-0.192257</td>\n",
       "      <td>0.352891</td>\n",
       "      <td>-0.445209</td>\n",
       "      <td>0.292603</td>\n",
       "      <td>0.165168</td>\n",
       "      <td>...</td>\n",
       "      <td>-0.122795</td>\n",
       "      <td>-0.464567</td>\n",
       "      <td>NaN</td>\n",
       "      <td>NaN</td>\n",
       "      <td>0.258084</td>\n",
       "      <td>0.237593</td>\n",
       "      <td>-0.408563</td>\n",
       "      <td>0.291832</td>\n",
       "      <td>0.218575</td>\n",
       "      <td>-0.139759</td>\n",
       "    </tr>\n",
       "    <tr>\n",
       "      <th>HEL9217_HAEMATOPOIETIC_AND_LYMPHOID_TISSUE</th>\n",
       "      <td>-0.082364</td>\n",
       "      <td>0.239413</td>\n",
       "      <td>0.195457</td>\n",
       "      <td>0.163763</td>\n",
       "      <td>-0.188161</td>\n",
       "      <td>-0.338735</td>\n",
       "      <td>0.254489</td>\n",
       "      <td>-0.583878</td>\n",
       "      <td>-0.060615</td>\n",
       "      <td>0.015272</td>\n",
       "      <td>...</td>\n",
       "      <td>-0.195061</td>\n",
       "      <td>-0.408063</td>\n",
       "      <td>-0.155155</td>\n",
       "      <td>-0.067415</td>\n",
       "      <td>0.229242</td>\n",
       "      <td>-0.075883</td>\n",
       "      <td>-0.104001</td>\n",
       "      <td>0.075901</td>\n",
       "      <td>0.036985</td>\n",
       "      <td>-0.243303</td>\n",
       "    </tr>\n",
       "    <tr>\n",
       "      <th>LS513_LARGE_INTESTINE</th>\n",
       "      <td>0.070026</td>\n",
       "      <td>0.075066</td>\n",
       "      <td>-0.064637</td>\n",
       "      <td>0.156905</td>\n",
       "      <td>0.099075</td>\n",
       "      <td>0.141985</td>\n",
       "      <td>0.066314</td>\n",
       "      <td>-0.477023</td>\n",
       "      <td>-0.006855</td>\n",
       "      <td>0.291604</td>\n",
       "      <td>...</td>\n",
       "      <td>-0.093252</td>\n",
       "      <td>-0.276874</td>\n",
       "      <td>-0.049716</td>\n",
       "      <td>0.116683</td>\n",
       "      <td>0.211699</td>\n",
       "      <td>-0.012654</td>\n",
       "      <td>-0.351716</td>\n",
       "      <td>0.089140</td>\n",
       "      <td>-0.392549</td>\n",
       "      <td>-0.442624</td>\n",
       "    </tr>\n",
       "    <tr>\n",
       "      <th>C2BBE1_LARGE_INTESTINE</th>\n",
       "      <td>0.107048</td>\n",
       "      <td>-0.006352</td>\n",
       "      <td>-0.053166</td>\n",
       "      <td>0.053055</td>\n",
       "      <td>0.081620</td>\n",
       "      <td>-0.038305</td>\n",
       "      <td>0.082421</td>\n",
       "      <td>-0.642935</td>\n",
       "      <td>0.159178</td>\n",
       "      <td>0.064128</td>\n",
       "      <td>...</td>\n",
       "      <td>-0.280677</td>\n",
       "      <td>-0.230111</td>\n",
       "      <td>-0.106000</td>\n",
       "      <td>0.041611</td>\n",
       "      <td>0.083021</td>\n",
       "      <td>0.022771</td>\n",
       "      <td>-0.596777</td>\n",
       "      <td>0.197627</td>\n",
       "      <td>-0.106398</td>\n",
       "      <td>-0.549259</td>\n",
       "    </tr>\n",
       "    <tr>\n",
       "      <th>253J_URINARY_TRACT</th>\n",
       "      <td>0.280508</td>\n",
       "      <td>0.079860</td>\n",
       "      <td>0.016981</td>\n",
       "      <td>0.439139</td>\n",
       "      <td>-0.042239</td>\n",
       "      <td>-0.242560</td>\n",
       "      <td>0.103028</td>\n",
       "      <td>-0.419159</td>\n",
       "      <td>0.141445</td>\n",
       "      <td>0.115857</td>\n",
       "      <td>...</td>\n",
       "      <td>-0.410500</td>\n",
       "      <td>-0.507467</td>\n",
       "      <td>-0.138665</td>\n",
       "      <td>-0.119292</td>\n",
       "      <td>0.284407</td>\n",
       "      <td>0.158124</td>\n",
       "      <td>-0.240429</td>\n",
       "      <td>0.124847</td>\n",
       "      <td>-0.250949</td>\n",
       "      <td>-0.379117</td>\n",
       "    </tr>\n",
       "  </tbody>\n",
       "</table>\n",
       "<p>5 rows × 18119 columns</p>\n",
       "</div>"
      ],
      "text/plain": [
       "                                                A1BG      A1CF       A2M  \\\n",
       "INDEX                                                                      \n",
       "HEL_HAEMATOPOIETIC_AND_LYMPHOID_TISSUE      0.178087  0.088290 -0.201464   \n",
       "HEL9217_HAEMATOPOIETIC_AND_LYMPHOID_TISSUE -0.082364  0.239413  0.195457   \n",
       "LS513_LARGE_INTESTINE                       0.070026  0.075066 -0.064637   \n",
       "C2BBE1_LARGE_INTESTINE                      0.107048 -0.006352 -0.053166   \n",
       "253J_URINARY_TRACT                          0.280508  0.079860  0.016981   \n",
       "\n",
       "                                               A2ML1   A3GALT2    A4GALT  \\\n",
       "INDEX                                                                      \n",
       "HEL_HAEMATOPOIETIC_AND_LYMPHOID_TISSUE     -0.017011  0.042590 -0.192257   \n",
       "HEL9217_HAEMATOPOIETIC_AND_LYMPHOID_TISSUE  0.163763 -0.188161 -0.338735   \n",
       "LS513_LARGE_INTESTINE                       0.156905  0.099075  0.141985   \n",
       "C2BBE1_LARGE_INTESTINE                      0.053055  0.081620 -0.038305   \n",
       "253J_URINARY_TRACT                          0.439139 -0.042239 -0.242560   \n",
       "\n",
       "                                               A4GNT      AAAS      AACS  \\\n",
       "INDEX                                                                      \n",
       "HEL_HAEMATOPOIETIC_AND_LYMPHOID_TISSUE      0.352891 -0.445209  0.292603   \n",
       "HEL9217_HAEMATOPOIETIC_AND_LYMPHOID_TISSUE  0.254489 -0.583878 -0.060615   \n",
       "LS513_LARGE_INTESTINE                       0.066314 -0.477023 -0.006855   \n",
       "C2BBE1_LARGE_INTESTINE                      0.082421 -0.642935  0.159178   \n",
       "253J_URINARY_TRACT                          0.103028 -0.419159  0.141445   \n",
       "\n",
       "                                               AADAC  ...    ZWILCH     ZWINT  \\\n",
       "INDEX                                                 ...                       \n",
       "HEL_HAEMATOPOIETIC_AND_LYMPHOID_TISSUE      0.165168  ... -0.122795 -0.464567   \n",
       "HEL9217_HAEMATOPOIETIC_AND_LYMPHOID_TISSUE  0.015272  ... -0.195061 -0.408063   \n",
       "LS513_LARGE_INTESTINE                       0.291604  ... -0.093252 -0.276874   \n",
       "C2BBE1_LARGE_INTESTINE                      0.064128  ... -0.280677 -0.230111   \n",
       "253J_URINARY_TRACT                          0.115857  ... -0.410500 -0.507467   \n",
       "\n",
       "                                                ZXDA      ZXDB      ZXDC  \\\n",
       "INDEX                                                                      \n",
       "HEL_HAEMATOPOIETIC_AND_LYMPHOID_TISSUE           NaN       NaN  0.258084   \n",
       "HEL9217_HAEMATOPOIETIC_AND_LYMPHOID_TISSUE -0.155155 -0.067415  0.229242   \n",
       "LS513_LARGE_INTESTINE                      -0.049716  0.116683  0.211699   \n",
       "C2BBE1_LARGE_INTESTINE                     -0.106000  0.041611  0.083021   \n",
       "253J_URINARY_TRACT                         -0.138665 -0.119292  0.284407   \n",
       "\n",
       "                                              ZYG11A    ZYG11B       ZYX  \\\n",
       "INDEX                                                                      \n",
       "HEL_HAEMATOPOIETIC_AND_LYMPHOID_TISSUE      0.237593 -0.408563  0.291832   \n",
       "HEL9217_HAEMATOPOIETIC_AND_LYMPHOID_TISSUE -0.075883 -0.104001  0.075901   \n",
       "LS513_LARGE_INTESTINE                      -0.012654 -0.351716  0.089140   \n",
       "C2BBE1_LARGE_INTESTINE                      0.022771 -0.596777  0.197627   \n",
       "253J_URINARY_TRACT                          0.158124 -0.240429  0.124847   \n",
       "\n",
       "                                               ZZEF1      ZZZ3  \n",
       "INDEX                                                           \n",
       "HEL_HAEMATOPOIETIC_AND_LYMPHOID_TISSUE      0.218575 -0.139759  \n",
       "HEL9217_HAEMATOPOIETIC_AND_LYMPHOID_TISSUE  0.036985 -0.243303  \n",
       "LS513_LARGE_INTESTINE                      -0.392549 -0.442624  \n",
       "C2BBE1_LARGE_INTESTINE                     -0.106398 -0.549259  \n",
       "253J_URINARY_TRACT                         -0.250949 -0.379117  \n",
       "\n",
       "[5 rows x 18119 columns]"
      ]
     },
     "execution_count": 70,
     "metadata": {},
     "output_type": "execute_result"
    }
   ],
   "source": [
    "effect.head()"
   ]
  },
  {
   "cell_type": "markdown",
   "metadata": {},
   "source": [
    "## THE GOAL IS TO HAVE A HIERARCHICAL INDEX THAT CORRESPONDS TO THE TISSUE (TODO)"
   ]
  },
  {
   "cell_type": "markdown",
   "metadata": {},
   "source": [
    "some steps have been taken. i have a dict with matching tissue/cell-types. I have no idea at the moment how to convert this into a multi-index without messing things up.\n"
   ]
  },
  {
   "cell_type": "code",
   "execution_count": null,
   "metadata": {},
   "outputs": [],
   "source": [
    "    \n",
    "'''\n",
    "pseudocode:\n",
    "\n",
    "for x in sample-lines:\n",
    " dict[sample-lines].append(sample-ccle-names)\n",
    "\n",
    "this can be done from the sample dataframe alone.\n",
    "you just take all the names with the same lineage in a dict\n",
    "'''\n",
    "lineDict = {}\n",
    "ovary = data1[data1['lineage'] == 'ovary']['CCLE_Name']\n",
    "\n",
    "\n",
    "for i in lineages:\n",
    "    lineDict[i] = data1[data1['lineage'] == i]['CCLE_Name']"
   ]
  },
  {
   "cell_type": "code",
   "execution_count": null,
   "metadata": {},
   "outputs": [],
   "source": [
    "list1 = list(lineDict.keys()),\n",
    "list2 = list(lineDict.values())\n",
    "list3 = [list1,list2]"
   ]
  },
  {
   "cell_type": "code",
   "execution_count": null,
   "metadata": {},
   "outputs": [],
   "source": [
    "tuples = list(zip(*list3))"
   ]
  },
  {
   "cell_type": "code",
   "execution_count": null,
   "metadata": {},
   "outputs": [],
   "source": [
    "#index = pd.MultiIndex.from_tuples(tuples, names=['tissue', 'cell_lines'])"
   ]
  },
  {
   "cell_type": "markdown",
   "metadata": {},
   "source": [
    "for two genes, get the value of the gene effect\n",
    "if the value of the genes effect is 3x the median\n",
    "or 3x under the median, return the values and the tissues \n",
    "in which this is the case.\n",
    "\n",
    "if this is the case in no tissue return this.\n"
   ]
  },
  {
   "cell_type": "code",
   "execution_count": null,
   "metadata": {},
   "outputs": [],
   "source": []
  }
 ],
 "metadata": {
  "kernelspec": {
   "display_name": "Python 3",
   "language": "python",
   "name": "python3"
  },
  "language_info": {
   "codemirror_mode": {
    "name": "ipython",
    "version": 3
   },
   "file_extension": ".py",
   "mimetype": "text/x-python",
   "name": "python",
   "nbconvert_exporter": "python",
   "pygments_lexer": "ipython3",
   "version": "3.5.2"
  }
 },
 "nbformat": 4,
 "nbformat_minor": 4
}
