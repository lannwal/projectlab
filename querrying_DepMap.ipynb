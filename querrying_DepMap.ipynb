{
 "cells": [
  {
   "cell_type": "code",
   "execution_count": 1,
   "metadata": {},
   "outputs": [],
   "source": [
    "import pandas as pd \n",
    "import numpy as np\n",
    "import seaborn as sns\n",
    "import matplotlib.pyplot as plt\n",
    "import itertools\n",
    "from scipy.stats import pearsonr"
   ]
  },
  {
   "cell_type": "code",
   "execution_count": 2,
   "metadata": {},
   "outputs": [],
   "source": [
    "effect = pd.read_csv(\"/home/annerer/Downloads/Achilles_gene_effect.csv\")\n",
    "data = pd.read_csv(\"/home/annerer/Downloads/sample_info.csv\")\n",
    "\n",
    "mapping = {}\n",
    "\n",
    "for i in np.arange(0,data.shape[0],1):\n",
    "    mapping[data.DepMap_ID[i]] = data.CCLE_Name[i]\n",
    "\n",
    "effect[\"INDEX\"] = effect.DepMap_ID\n",
    "effect = effect.set_index('INDEX')\n",
    "effect = effect.rename(index=mapping)\n",
    "\n",
    "effect = effect.drop(\"DepMap_ID\",1)\n",
    "\n",
    "gene = effect.columns.to_list()\n",
    "# split at space\n",
    "for i in range(len(gene)):\n",
    "    gene[i] = gene[i].split(\" \") \n",
    "\n",
    "genes = []\n",
    "for i in range(len(gene)):\n",
    "    genes.append(gene[i][0])\n",
    "    \n",
    "effect.columns = genes"
   ]
  },
  {
   "cell_type": "markdown",
   "metadata": {},
   "source": [
    "## Get the distribution's shoulder"
   ]
  },
  {
   "cell_type": "code",
   "execution_count": 6,
   "metadata": {},
   "outputs": [],
   "source": [
    "#effectCorr = effect.corr()\n",
    "#effectCorr.to_csv('geneEffectCorrelation.csv')\n",
    "# ONLY ONCE CALCULATED, LOAD THE MATRIX"
   ]
  },
  {
   "cell_type": "code",
   "execution_count": 10,
   "metadata": {},
   "outputs": [],
   "source": [
    "effectCorr = pd.read_csv('geneEffectCorrelation.csv')\n",
    "\n",
    "# import feather\n",
    "# effectCorr.to_feather()\n",
    "# effectCorr.read_feather()"
   ]
  },
  {
   "cell_type": "code",
   "execution_count": null,
   "metadata": {},
   "outputs": [],
   "source": [
    "# import feather\n",
    "# effectCorr.to_feather('effectCorr.feather')\n",
    "# effectCorr.read_feather()\n",
    "#effectList = effectCorr.values.tolist()\n",
    "effectList = np.sort(effectList)"
   ]
  },
  {
   "cell_type": "code",
   "execution_count": 16,
   "metadata": {},
   "outputs": [],
   "source": [
    "effectList = pd.DataFrame(effectList)"
   ]
  },
  {
   "cell_type": "code",
   "execution_count": 18,
   "metadata": {},
   "outputs": [
    {
     "ename": "ValueError",
     "evalue": "num must be 1 <= num <= 0, not 1",
     "output_type": "error",
     "traceback": [
      "\u001b[0;31m---------------------------------------------------------------------------\u001b[0m",
      "\u001b[0;31mValueError\u001b[0m                                Traceback (most recent call last)",
      "\u001b[0;32m<ipython-input-18-830b81418ac5>\u001b[0m in \u001b[0;36m<module>\u001b[0;34m\u001b[0m\n\u001b[0;32m----> 1\u001b[0;31m \u001b[0meffectList\u001b[0m\u001b[0;34m.\u001b[0m\u001b[0mhist\u001b[0m\u001b[0;34m(\u001b[0m\u001b[0mbins\u001b[0m\u001b[0;34m=\u001b[0m\u001b[0;36m100\u001b[0m\u001b[0;34m)\u001b[0m\u001b[0;34m\u001b[0m\u001b[0m\n\u001b[0m\u001b[1;32m      2\u001b[0m \u001b[0mplt\u001b[0m\u001b[0;34m.\u001b[0m\u001b[0mtitle\u001b[0m\u001b[0;34m(\u001b[0m\u001b[0;34m\"Pairwise Pearson correlations of the DepMap 20Q2 Genes\"\u001b[0m\u001b[0;34m)\u001b[0m\u001b[0;34m\u001b[0m\u001b[0m\n\u001b[1;32m      3\u001b[0m \u001b[0mplt\u001b[0m\u001b[0;34m.\u001b[0m\u001b[0mxlabel\u001b[0m\u001b[0;34m(\u001b[0m\u001b[0;34m\"Pearson Correlation\"\u001b[0m\u001b[0;34m)\u001b[0m\u001b[0;34m\u001b[0m\u001b[0m\n\u001b[1;32m      4\u001b[0m \u001b[0mplt\u001b[0m\u001b[0;34m.\u001b[0m\u001b[0mylabel\u001b[0m\u001b[0;34m(\u001b[0m\u001b[0;34m\"Number of Genes\"\u001b[0m\u001b[0;34m)\u001b[0m\u001b[0;34m\u001b[0m\u001b[0m\n\u001b[1;32m      5\u001b[0m \u001b[0mplt\u001b[0m\u001b[0;34m.\u001b[0m\u001b[0msavefig\u001b[0m\u001b[0;34m(\u001b[0m\u001b[0;34m'pcc_histogram'\u001b[0m\u001b[0;34m)\u001b[0m\u001b[0;34m\u001b[0m\u001b[0m\n",
      "\u001b[0;32m~/.local/lib/python3.5/site-packages/pandas/plotting/_core.py\u001b[0m in \u001b[0;36mhist_frame\u001b[0;34m(data, column, by, grid, xlabelsize, xrot, ylabelsize, yrot, ax, sharex, sharey, figsize, layout, bins, **kwds)\u001b[0m\n\u001b[1;32m   2403\u001b[0m     fig, axes = _subplots(naxes=naxes, ax=ax, squeeze=False,\n\u001b[1;32m   2404\u001b[0m                           \u001b[0msharex\u001b[0m\u001b[0;34m=\u001b[0m\u001b[0msharex\u001b[0m\u001b[0;34m,\u001b[0m \u001b[0msharey\u001b[0m\u001b[0;34m=\u001b[0m\u001b[0msharey\u001b[0m\u001b[0;34m,\u001b[0m \u001b[0mfigsize\u001b[0m\u001b[0;34m=\u001b[0m\u001b[0mfigsize\u001b[0m\u001b[0;34m,\u001b[0m\u001b[0;34m\u001b[0m\u001b[0m\n\u001b[0;32m-> 2405\u001b[0;31m                           layout=layout)\n\u001b[0m\u001b[1;32m   2406\u001b[0m     \u001b[0m_axes\u001b[0m \u001b[0;34m=\u001b[0m \u001b[0m_flatten\u001b[0m\u001b[0;34m(\u001b[0m\u001b[0maxes\u001b[0m\u001b[0;34m)\u001b[0m\u001b[0;34m\u001b[0m\u001b[0m\n\u001b[1;32m   2407\u001b[0m \u001b[0;34m\u001b[0m\u001b[0m\n",
      "\u001b[0;32m~/.local/lib/python3.5/site-packages/pandas/plotting/_tools.py\u001b[0m in \u001b[0;36m_subplots\u001b[0;34m(naxes, sharex, sharey, squeeze, subplot_kw, ax, layout, layout_type, **fig_kw)\u001b[0m\n\u001b[1;32m    235\u001b[0m \u001b[0;34m\u001b[0m\u001b[0m\n\u001b[1;32m    236\u001b[0m     \u001b[0;31m# Create first subplot separately, so we can share it if requested\u001b[0m\u001b[0;34m\u001b[0m\u001b[0;34m\u001b[0m\u001b[0m\n\u001b[0;32m--> 237\u001b[0;31m     \u001b[0max0\u001b[0m \u001b[0;34m=\u001b[0m \u001b[0mfig\u001b[0m\u001b[0;34m.\u001b[0m\u001b[0madd_subplot\u001b[0m\u001b[0;34m(\u001b[0m\u001b[0mnrows\u001b[0m\u001b[0;34m,\u001b[0m \u001b[0mncols\u001b[0m\u001b[0;34m,\u001b[0m \u001b[0;36m1\u001b[0m\u001b[0;34m,\u001b[0m \u001b[0;34m**\u001b[0m\u001b[0msubplot_kw\u001b[0m\u001b[0;34m)\u001b[0m\u001b[0;34m\u001b[0m\u001b[0m\n\u001b[0m\u001b[1;32m    238\u001b[0m \u001b[0;34m\u001b[0m\u001b[0m\n\u001b[1;32m    239\u001b[0m     \u001b[0;32mif\u001b[0m \u001b[0msharex\u001b[0m\u001b[0;34m:\u001b[0m\u001b[0;34m\u001b[0m\u001b[0m\n",
      "\u001b[0;32m~/.local/lib/python3.5/site-packages/matplotlib/figure.py\u001b[0m in \u001b[0;36madd_subplot\u001b[0;34m(self, *args, **kwargs)\u001b[0m\n\u001b[1;32m   1365\u001b[0m                     \u001b[0mself\u001b[0m\u001b[0;34m.\u001b[0m\u001b[0m_axstack\u001b[0m\u001b[0;34m.\u001b[0m\u001b[0mremove\u001b[0m\u001b[0;34m(\u001b[0m\u001b[0max\u001b[0m\u001b[0;34m)\u001b[0m\u001b[0;34m\u001b[0m\u001b[0m\n\u001b[1;32m   1366\u001b[0m \u001b[0;34m\u001b[0m\u001b[0m\n\u001b[0;32m-> 1367\u001b[0;31m             \u001b[0ma\u001b[0m \u001b[0;34m=\u001b[0m \u001b[0msubplot_class_factory\u001b[0m\u001b[0;34m(\u001b[0m\u001b[0mprojection_class\u001b[0m\u001b[0;34m)\u001b[0m\u001b[0;34m(\u001b[0m\u001b[0mself\u001b[0m\u001b[0;34m,\u001b[0m \u001b[0;34m*\u001b[0m\u001b[0margs\u001b[0m\u001b[0;34m,\u001b[0m \u001b[0;34m**\u001b[0m\u001b[0mkwargs\u001b[0m\u001b[0;34m)\u001b[0m\u001b[0;34m\u001b[0m\u001b[0m\n\u001b[0m\u001b[1;32m   1368\u001b[0m         \u001b[0mself\u001b[0m\u001b[0;34m.\u001b[0m\u001b[0m_axstack\u001b[0m\u001b[0;34m.\u001b[0m\u001b[0madd\u001b[0m\u001b[0;34m(\u001b[0m\u001b[0mkey\u001b[0m\u001b[0;34m,\u001b[0m \u001b[0ma\u001b[0m\u001b[0;34m)\u001b[0m\u001b[0;34m\u001b[0m\u001b[0m\n\u001b[1;32m   1369\u001b[0m         \u001b[0mself\u001b[0m\u001b[0;34m.\u001b[0m\u001b[0msca\u001b[0m\u001b[0;34m(\u001b[0m\u001b[0ma\u001b[0m\u001b[0;34m)\u001b[0m\u001b[0;34m\u001b[0m\u001b[0m\n",
      "\u001b[0;32m~/.local/lib/python3.5/site-packages/matplotlib/axes/_subplots.py\u001b[0m in \u001b[0;36m__init__\u001b[0;34m(self, fig, *args, **kwargs)\u001b[0m\n\u001b[1;32m     58\u001b[0m                     raise ValueError(\n\u001b[1;32m     59\u001b[0m                         (\"num must be 1 <= num <= {maxn}, not {num}\"\n\u001b[0;32m---> 60\u001b[0;31m                         ).format(maxn=rows*cols, num=num))\n\u001b[0m\u001b[1;32m     61\u001b[0m                 self._subplotspec = GridSpec(\n\u001b[1;32m     62\u001b[0m                         rows, cols, figure=self.figure)[int(num) - 1]\n",
      "\u001b[0;31mValueError\u001b[0m: num must be 1 <= num <= 0, not 1"
     ]
    },
    {
     "data": {
      "text/plain": [
       "<Figure size 432x288 with 0 Axes>"
      ]
     },
     "metadata": {},
     "output_type": "display_data"
    }
   ],
   "source": [
    "effectList.hist(bins=1000)\n",
    "plt.title(\"Pairwise Pearson correlations of the DepMap 20Q2 Genes\")\n",
    "plt.xlabel(\"Pearson Correlation\")\n",
    "plt.ylabel(\"Number of Genes\")\n",
    "plt.savefig('pcc_histogram')"
   ]
  },
  {
   "cell_type": "code",
   "execution_count": 235,
   "metadata": {},
   "outputs": [],
   "source": [
    "effectCorr1 = effectCorr.replace(1,0)\n",
    "effect2 = effectCorr1.max().sort_values(0)"
   ]
  },
  {
   "cell_type": "code",
   "execution_count": 1,
   "metadata": {},
   "outputs": [
    {
     "ename": "NameError",
     "evalue": "name 'effect2' is not defined",
     "output_type": "error",
     "traceback": [
      "\u001b[0;31m---------------------------------------------------------------------------\u001b[0m",
      "\u001b[0;31mNameError\u001b[0m                                 Traceback (most recent call last)",
      "\u001b[0;32m<ipython-input-1-769b922eea55>\u001b[0m in \u001b[0;36m<module>\u001b[0;34m\u001b[0m\n\u001b[0;32m----> 1\u001b[0;31m \u001b[0meffect2\u001b[0m\u001b[0;34m[\u001b[0m\u001b[0;34m'TP53'\u001b[0m\u001b[0;34m]\u001b[0m\u001b[0;34m\u001b[0m\u001b[0m\n\u001b[0m\u001b[1;32m      2\u001b[0m \u001b[0meffectCorr1\u001b[0m\u001b[0;34m[\u001b[0m\u001b[0;34m'TP53'\u001b[0m\u001b[0;34m]\u001b[0m\u001b[0;34m.\u001b[0m\u001b[0msort_values\u001b[0m\u001b[0;34m(\u001b[0m\u001b[0;36m0\u001b[0m\u001b[0;34m)\u001b[0m\u001b[0;34m.\u001b[0m\u001b[0mtail\u001b[0m\u001b[0;34m(\u001b[0m\u001b[0;34m)\u001b[0m\u001b[0;34m\u001b[0m\u001b[0m\n",
      "\u001b[0;31mNameError\u001b[0m: name 'effect2' is not defined"
     ]
    }
   ],
   "source": [
    "effect2['TP53']\n",
    "effectCorr1['TP53'].sort_values(0).tail()"
   ]
  },
  {
   "cell_type": "code",
   "execution_count": 246,
   "metadata": {},
   "outputs": [],
   "source": [
    "cols = effectCorr.columns.to_list()\n",
    "#cols = cols[0:int(np.round(0.0009*len(cols)))]\n",
    "#data1 = effectCorr[cols][0:20]\n",
    "\n",
    "bigcols = effectCorr[effectCorr[cols].sum() > 300]\n",
    "#bigcols"
   ]
  },
  {
   "cell_type": "code",
   "execution_count": 255,
   "metadata": {},
   "outputs": [],
   "source": [
    "#geneEffectPairs = effectCorr1.values.tolist()\n",
    "#plt.histogram(geneEffectPairs,bins=10000)"
   ]
  },
  {
   "cell_type": "code",
   "execution_count": null,
   "metadata": {},
   "outputs": [],
   "source": [
    "vals = pd.DataFrame(geneEffectPairs)\n",
    "vals = vals.sort_values()\n",
    "vals.hist(bins=1000)"
   ]
  },
  {
   "cell_type": "code",
   "execution_count": 224,
   "metadata": {},
   "outputs": [
    {
     "data": {
      "text/html": [
       "<div>\n",
       "<style scoped>\n",
       "    .dataframe tbody tr th:only-of-type {\n",
       "        vertical-align: middle;\n",
       "    }\n",
       "\n",
       "    .dataframe tbody tr th {\n",
       "        vertical-align: top;\n",
       "    }\n",
       "\n",
       "    .dataframe thead th {\n",
       "        text-align: right;\n",
       "    }\n",
       "</style>\n",
       "<table border=\"1\" class=\"dataframe\">\n",
       "  <thead>\n",
       "    <tr style=\"text-align: right;\">\n",
       "      <th></th>\n",
       "      <th>A1BG</th>\n",
       "      <th>A1CF</th>\n",
       "      <th>A2M</th>\n",
       "      <th>A2ML1</th>\n",
       "      <th>A3GALT2</th>\n",
       "      <th>A4GALT</th>\n",
       "      <th>A4GNT</th>\n",
       "      <th>AAAS</th>\n",
       "      <th>AACS</th>\n",
       "      <th>AADAC</th>\n",
       "      <th>AADACL2</th>\n",
       "      <th>AADACL3</th>\n",
       "      <th>AADACL4</th>\n",
       "      <th>AADAT</th>\n",
       "      <th>AAED1</th>\n",
       "      <th>AAGAB</th>\n",
       "    </tr>\n",
       "  </thead>\n",
       "  <tbody>\n",
       "    <tr>\n",
       "      <th>A1BG</th>\n",
       "      <td>0.000000</td>\n",
       "      <td>-0.066393</td>\n",
       "      <td>0.074915</td>\n",
       "      <td>-0.026191</td>\n",
       "      <td>0.038969</td>\n",
       "      <td>0.058261</td>\n",
       "      <td>-0.009984</td>\n",
       "      <td>0.006519</td>\n",
       "      <td>0.010926</td>\n",
       "      <td>0.008255</td>\n",
       "      <td>0.024234</td>\n",
       "      <td>-0.022386</td>\n",
       "      <td>0.019562</td>\n",
       "      <td>-0.010599</td>\n",
       "      <td>-0.032216</td>\n",
       "      <td>-0.120841</td>\n",
       "    </tr>\n",
       "    <tr>\n",
       "      <th>A1CF</th>\n",
       "      <td>-0.066393</td>\n",
       "      <td>0.000000</td>\n",
       "      <td>0.036498</td>\n",
       "      <td>0.002620</td>\n",
       "      <td>0.001871</td>\n",
       "      <td>-0.100850</td>\n",
       "      <td>0.017448</td>\n",
       "      <td>0.053820</td>\n",
       "      <td>-0.079545</td>\n",
       "      <td>0.033324</td>\n",
       "      <td>0.030347</td>\n",
       "      <td>0.053667</td>\n",
       "      <td>-0.063718</td>\n",
       "      <td>-0.027270</td>\n",
       "      <td>-0.007842</td>\n",
       "      <td>0.055908</td>\n",
       "    </tr>\n",
       "    <tr>\n",
       "      <th>A2M</th>\n",
       "      <td>0.074915</td>\n",
       "      <td>0.036498</td>\n",
       "      <td>0.000000</td>\n",
       "      <td>0.078981</td>\n",
       "      <td>0.002506</td>\n",
       "      <td>-0.052874</td>\n",
       "      <td>-0.003280</td>\n",
       "      <td>-0.048116</td>\n",
       "      <td>0.000156</td>\n",
       "      <td>0.053038</td>\n",
       "      <td>0.046693</td>\n",
       "      <td>0.125559</td>\n",
       "      <td>-0.029229</td>\n",
       "      <td>0.074561</td>\n",
       "      <td>0.038358</td>\n",
       "      <td>0.024052</td>\n",
       "    </tr>\n",
       "    <tr>\n",
       "      <th>A2ML1</th>\n",
       "      <td>-0.026191</td>\n",
       "      <td>0.002620</td>\n",
       "      <td>0.078981</td>\n",
       "      <td>0.000000</td>\n",
       "      <td>-0.072699</td>\n",
       "      <td>-0.014068</td>\n",
       "      <td>-0.030842</td>\n",
       "      <td>-0.040240</td>\n",
       "      <td>-0.016410</td>\n",
       "      <td>-0.016802</td>\n",
       "      <td>-0.051988</td>\n",
       "      <td>0.070277</td>\n",
       "      <td>0.056744</td>\n",
       "      <td>-0.114398</td>\n",
       "      <td>0.007850</td>\n",
       "      <td>-0.111212</td>\n",
       "    </tr>\n",
       "    <tr>\n",
       "      <th>A3GALT2</th>\n",
       "      <td>0.038969</td>\n",
       "      <td>0.001871</td>\n",
       "      <td>0.002506</td>\n",
       "      <td>-0.072699</td>\n",
       "      <td>0.000000</td>\n",
       "      <td>-0.026367</td>\n",
       "      <td>-0.029223</td>\n",
       "      <td>-0.044338</td>\n",
       "      <td>-0.011412</td>\n",
       "      <td>0.056682</td>\n",
       "      <td>0.023602</td>\n",
       "      <td>-0.001971</td>\n",
       "      <td>0.087212</td>\n",
       "      <td>0.021417</td>\n",
       "      <td>-0.132546</td>\n",
       "      <td>-0.021228</td>\n",
       "    </tr>\n",
       "    <tr>\n",
       "      <th>A4GALT</th>\n",
       "      <td>0.058261</td>\n",
       "      <td>-0.100850</td>\n",
       "      <td>-0.052874</td>\n",
       "      <td>-0.014068</td>\n",
       "      <td>-0.026367</td>\n",
       "      <td>0.000000</td>\n",
       "      <td>-0.050872</td>\n",
       "      <td>0.041942</td>\n",
       "      <td>-0.086756</td>\n",
       "      <td>0.056211</td>\n",
       "      <td>0.000856</td>\n",
       "      <td>0.034699</td>\n",
       "      <td>0.062459</td>\n",
       "      <td>-0.161870</td>\n",
       "      <td>0.014560</td>\n",
       "      <td>0.008064</td>\n",
       "    </tr>\n",
       "    <tr>\n",
       "      <th>A4GNT</th>\n",
       "      <td>-0.009984</td>\n",
       "      <td>0.017448</td>\n",
       "      <td>-0.003280</td>\n",
       "      <td>-0.030842</td>\n",
       "      <td>-0.029223</td>\n",
       "      <td>-0.050872</td>\n",
       "      <td>0.000000</td>\n",
       "      <td>-0.014104</td>\n",
       "      <td>0.027453</td>\n",
       "      <td>0.028530</td>\n",
       "      <td>-0.021023</td>\n",
       "      <td>0.067875</td>\n",
       "      <td>0.090880</td>\n",
       "      <td>0.036055</td>\n",
       "      <td>0.043615</td>\n",
       "      <td>0.021619</td>\n",
       "    </tr>\n",
       "    <tr>\n",
       "      <th>AAAS</th>\n",
       "      <td>0.006519</td>\n",
       "      <td>0.053820</td>\n",
       "      <td>-0.048116</td>\n",
       "      <td>-0.040240</td>\n",
       "      <td>-0.044338</td>\n",
       "      <td>0.041942</td>\n",
       "      <td>-0.014104</td>\n",
       "      <td>0.000000</td>\n",
       "      <td>0.066658</td>\n",
       "      <td>-0.029755</td>\n",
       "      <td>0.002035</td>\n",
       "      <td>0.058074</td>\n",
       "      <td>-0.017860</td>\n",
       "      <td>-0.108448</td>\n",
       "      <td>-0.059149</td>\n",
       "      <td>0.031853</td>\n",
       "    </tr>\n",
       "    <tr>\n",
       "      <th>AACS</th>\n",
       "      <td>0.010926</td>\n",
       "      <td>-0.079545</td>\n",
       "      <td>0.000156</td>\n",
       "      <td>-0.016410</td>\n",
       "      <td>-0.011412</td>\n",
       "      <td>-0.086756</td>\n",
       "      <td>0.027453</td>\n",
       "      <td>0.066658</td>\n",
       "      <td>0.000000</td>\n",
       "      <td>-0.077141</td>\n",
       "      <td>-0.048012</td>\n",
       "      <td>0.076547</td>\n",
       "      <td>-0.006271</td>\n",
       "      <td>0.060817</td>\n",
       "      <td>0.027393</td>\n",
       "      <td>-0.015891</td>\n",
       "    </tr>\n",
       "    <tr>\n",
       "      <th>AADAC</th>\n",
       "      <td>0.008255</td>\n",
       "      <td>0.033324</td>\n",
       "      <td>0.053038</td>\n",
       "      <td>-0.016802</td>\n",
       "      <td>0.056682</td>\n",
       "      <td>0.056211</td>\n",
       "      <td>0.028530</td>\n",
       "      <td>-0.029755</td>\n",
       "      <td>-0.077141</td>\n",
       "      <td>0.000000</td>\n",
       "      <td>0.023784</td>\n",
       "      <td>0.040022</td>\n",
       "      <td>0.018842</td>\n",
       "      <td>-0.103350</td>\n",
       "      <td>-0.038620</td>\n",
       "      <td>0.022411</td>\n",
       "    </tr>\n",
       "    <tr>\n",
       "      <th>AADACL2</th>\n",
       "      <td>0.024234</td>\n",
       "      <td>0.030347</td>\n",
       "      <td>0.046693</td>\n",
       "      <td>-0.051988</td>\n",
       "      <td>0.023602</td>\n",
       "      <td>0.000856</td>\n",
       "      <td>-0.021023</td>\n",
       "      <td>0.002035</td>\n",
       "      <td>-0.048012</td>\n",
       "      <td>0.023784</td>\n",
       "      <td>0.000000</td>\n",
       "      <td>0.001637</td>\n",
       "      <td>0.014700</td>\n",
       "      <td>-0.032005</td>\n",
       "      <td>-0.067777</td>\n",
       "      <td>0.050739</td>\n",
       "    </tr>\n",
       "    <tr>\n",
       "      <th>AADACL3</th>\n",
       "      <td>-0.022386</td>\n",
       "      <td>0.053667</td>\n",
       "      <td>0.125559</td>\n",
       "      <td>0.070277</td>\n",
       "      <td>-0.001971</td>\n",
       "      <td>0.034699</td>\n",
       "      <td>0.067875</td>\n",
       "      <td>0.058074</td>\n",
       "      <td>0.076547</td>\n",
       "      <td>0.040022</td>\n",
       "      <td>0.001637</td>\n",
       "      <td>0.000000</td>\n",
       "      <td>0.108887</td>\n",
       "      <td>0.001934</td>\n",
       "      <td>0.046513</td>\n",
       "      <td>0.032897</td>\n",
       "    </tr>\n",
       "    <tr>\n",
       "      <th>AADACL4</th>\n",
       "      <td>0.019562</td>\n",
       "      <td>-0.063718</td>\n",
       "      <td>-0.029229</td>\n",
       "      <td>0.056744</td>\n",
       "      <td>0.087212</td>\n",
       "      <td>0.062459</td>\n",
       "      <td>0.090880</td>\n",
       "      <td>-0.017860</td>\n",
       "      <td>-0.006271</td>\n",
       "      <td>0.018842</td>\n",
       "      <td>0.014700</td>\n",
       "      <td>0.108887</td>\n",
       "      <td>0.000000</td>\n",
       "      <td>0.015771</td>\n",
       "      <td>0.004911</td>\n",
       "      <td>0.023292</td>\n",
       "    </tr>\n",
       "    <tr>\n",
       "      <th>AADAT</th>\n",
       "      <td>-0.010599</td>\n",
       "      <td>-0.027270</td>\n",
       "      <td>0.074561</td>\n",
       "      <td>-0.114398</td>\n",
       "      <td>0.021417</td>\n",
       "      <td>-0.161870</td>\n",
       "      <td>0.036055</td>\n",
       "      <td>-0.108448</td>\n",
       "      <td>0.060817</td>\n",
       "      <td>-0.103350</td>\n",
       "      <td>-0.032005</td>\n",
       "      <td>0.001934</td>\n",
       "      <td>0.015771</td>\n",
       "      <td>0.000000</td>\n",
       "      <td>-0.002838</td>\n",
       "      <td>0.005090</td>\n",
       "    </tr>\n",
       "    <tr>\n",
       "      <th>AAED1</th>\n",
       "      <td>-0.032216</td>\n",
       "      <td>-0.007842</td>\n",
       "      <td>0.038358</td>\n",
       "      <td>0.007850</td>\n",
       "      <td>-0.132546</td>\n",
       "      <td>0.014560</td>\n",
       "      <td>0.043615</td>\n",
       "      <td>-0.059149</td>\n",
       "      <td>0.027393</td>\n",
       "      <td>-0.038620</td>\n",
       "      <td>-0.067777</td>\n",
       "      <td>0.046513</td>\n",
       "      <td>0.004911</td>\n",
       "      <td>-0.002838</td>\n",
       "      <td>0.000000</td>\n",
       "      <td>0.011641</td>\n",
       "    </tr>\n",
       "    <tr>\n",
       "      <th>AAGAB</th>\n",
       "      <td>-0.120841</td>\n",
       "      <td>0.055908</td>\n",
       "      <td>0.024052</td>\n",
       "      <td>-0.111212</td>\n",
       "      <td>-0.021228</td>\n",
       "      <td>0.008064</td>\n",
       "      <td>0.021619</td>\n",
       "      <td>0.031853</td>\n",
       "      <td>-0.015891</td>\n",
       "      <td>0.022411</td>\n",
       "      <td>0.050739</td>\n",
       "      <td>0.032897</td>\n",
       "      <td>0.023292</td>\n",
       "      <td>0.005090</td>\n",
       "      <td>0.011641</td>\n",
       "      <td>0.000000</td>\n",
       "    </tr>\n",
       "    <tr>\n",
       "      <th>AAK1</th>\n",
       "      <td>0.039200</td>\n",
       "      <td>0.071907</td>\n",
       "      <td>-0.091852</td>\n",
       "      <td>-0.083666</td>\n",
       "      <td>-0.072007</td>\n",
       "      <td>-0.046928</td>\n",
       "      <td>0.084547</td>\n",
       "      <td>0.109051</td>\n",
       "      <td>0.026325</td>\n",
       "      <td>-0.007510</td>\n",
       "      <td>-0.033202</td>\n",
       "      <td>0.029159</td>\n",
       "      <td>0.033664</td>\n",
       "      <td>0.005426</td>\n",
       "      <td>0.048287</td>\n",
       "      <td>0.083498</td>\n",
       "    </tr>\n",
       "    <tr>\n",
       "      <th>AAMDC</th>\n",
       "      <td>0.053016</td>\n",
       "      <td>0.044052</td>\n",
       "      <td>0.000397</td>\n",
       "      <td>0.066061</td>\n",
       "      <td>-0.043405</td>\n",
       "      <td>-0.075491</td>\n",
       "      <td>0.048345</td>\n",
       "      <td>-0.018268</td>\n",
       "      <td>-0.134057</td>\n",
       "      <td>0.061500</td>\n",
       "      <td>-0.043095</td>\n",
       "      <td>-0.008410</td>\n",
       "      <td>0.040201</td>\n",
       "      <td>0.002228</td>\n",
       "      <td>-0.006985</td>\n",
       "      <td>-0.001950</td>\n",
       "    </tr>\n",
       "    <tr>\n",
       "      <th>AAMP</th>\n",
       "      <td>0.061749</td>\n",
       "      <td>-0.095628</td>\n",
       "      <td>-0.062164</td>\n",
       "      <td>0.031147</td>\n",
       "      <td>-0.035705</td>\n",
       "      <td>0.066647</td>\n",
       "      <td>-0.078533</td>\n",
       "      <td>-0.112513</td>\n",
       "      <td>-0.007070</td>\n",
       "      <td>-0.042572</td>\n",
       "      <td>-0.081118</td>\n",
       "      <td>-0.026668</td>\n",
       "      <td>-0.011451</td>\n",
       "      <td>-0.031269</td>\n",
       "      <td>-0.021241</td>\n",
       "      <td>-0.044890</td>\n",
       "    </tr>\n",
       "    <tr>\n",
       "      <th>AANAT</th>\n",
       "      <td>0.068263</td>\n",
       "      <td>-0.107866</td>\n",
       "      <td>0.004814</td>\n",
       "      <td>0.002806</td>\n",
       "      <td>0.078944</td>\n",
       "      <td>0.088209</td>\n",
       "      <td>-0.056702</td>\n",
       "      <td>-0.039306</td>\n",
       "      <td>-0.063316</td>\n",
       "      <td>-0.004406</td>\n",
       "      <td>-0.028829</td>\n",
       "      <td>-0.012423</td>\n",
       "      <td>0.073137</td>\n",
       "      <td>0.059959</td>\n",
       "      <td>-0.088411</td>\n",
       "      <td>-0.055640</td>\n",
       "    </tr>\n",
       "  </tbody>\n",
       "</table>\n",
       "</div>"
      ],
      "text/plain": [
       "             A1BG      A1CF       A2M     A2ML1   A3GALT2    A4GALT     A4GNT  \\\n",
       "A1BG     0.000000 -0.066393  0.074915 -0.026191  0.038969  0.058261 -0.009984   \n",
       "A1CF    -0.066393  0.000000  0.036498  0.002620  0.001871 -0.100850  0.017448   \n",
       "A2M      0.074915  0.036498  0.000000  0.078981  0.002506 -0.052874 -0.003280   \n",
       "A2ML1   -0.026191  0.002620  0.078981  0.000000 -0.072699 -0.014068 -0.030842   \n",
       "A3GALT2  0.038969  0.001871  0.002506 -0.072699  0.000000 -0.026367 -0.029223   \n",
       "A4GALT   0.058261 -0.100850 -0.052874 -0.014068 -0.026367  0.000000 -0.050872   \n",
       "A4GNT   -0.009984  0.017448 -0.003280 -0.030842 -0.029223 -0.050872  0.000000   \n",
       "AAAS     0.006519  0.053820 -0.048116 -0.040240 -0.044338  0.041942 -0.014104   \n",
       "AACS     0.010926 -0.079545  0.000156 -0.016410 -0.011412 -0.086756  0.027453   \n",
       "AADAC    0.008255  0.033324  0.053038 -0.016802  0.056682  0.056211  0.028530   \n",
       "AADACL2  0.024234  0.030347  0.046693 -0.051988  0.023602  0.000856 -0.021023   \n",
       "AADACL3 -0.022386  0.053667  0.125559  0.070277 -0.001971  0.034699  0.067875   \n",
       "AADACL4  0.019562 -0.063718 -0.029229  0.056744  0.087212  0.062459  0.090880   \n",
       "AADAT   -0.010599 -0.027270  0.074561 -0.114398  0.021417 -0.161870  0.036055   \n",
       "AAED1   -0.032216 -0.007842  0.038358  0.007850 -0.132546  0.014560  0.043615   \n",
       "AAGAB   -0.120841  0.055908  0.024052 -0.111212 -0.021228  0.008064  0.021619   \n",
       "AAK1     0.039200  0.071907 -0.091852 -0.083666 -0.072007 -0.046928  0.084547   \n",
       "AAMDC    0.053016  0.044052  0.000397  0.066061 -0.043405 -0.075491  0.048345   \n",
       "AAMP     0.061749 -0.095628 -0.062164  0.031147 -0.035705  0.066647 -0.078533   \n",
       "AANAT    0.068263 -0.107866  0.004814  0.002806  0.078944  0.088209 -0.056702   \n",
       "\n",
       "             AAAS      AACS     AADAC   AADACL2   AADACL3   AADACL4     AADAT  \\\n",
       "A1BG     0.006519  0.010926  0.008255  0.024234 -0.022386  0.019562 -0.010599   \n",
       "A1CF     0.053820 -0.079545  0.033324  0.030347  0.053667 -0.063718 -0.027270   \n",
       "A2M     -0.048116  0.000156  0.053038  0.046693  0.125559 -0.029229  0.074561   \n",
       "A2ML1   -0.040240 -0.016410 -0.016802 -0.051988  0.070277  0.056744 -0.114398   \n",
       "A3GALT2 -0.044338 -0.011412  0.056682  0.023602 -0.001971  0.087212  0.021417   \n",
       "A4GALT   0.041942 -0.086756  0.056211  0.000856  0.034699  0.062459 -0.161870   \n",
       "A4GNT   -0.014104  0.027453  0.028530 -0.021023  0.067875  0.090880  0.036055   \n",
       "AAAS     0.000000  0.066658 -0.029755  0.002035  0.058074 -0.017860 -0.108448   \n",
       "AACS     0.066658  0.000000 -0.077141 -0.048012  0.076547 -0.006271  0.060817   \n",
       "AADAC   -0.029755 -0.077141  0.000000  0.023784  0.040022  0.018842 -0.103350   \n",
       "AADACL2  0.002035 -0.048012  0.023784  0.000000  0.001637  0.014700 -0.032005   \n",
       "AADACL3  0.058074  0.076547  0.040022  0.001637  0.000000  0.108887  0.001934   \n",
       "AADACL4 -0.017860 -0.006271  0.018842  0.014700  0.108887  0.000000  0.015771   \n",
       "AADAT   -0.108448  0.060817 -0.103350 -0.032005  0.001934  0.015771  0.000000   \n",
       "AAED1   -0.059149  0.027393 -0.038620 -0.067777  0.046513  0.004911 -0.002838   \n",
       "AAGAB    0.031853 -0.015891  0.022411  0.050739  0.032897  0.023292  0.005090   \n",
       "AAK1     0.109051  0.026325 -0.007510 -0.033202  0.029159  0.033664  0.005426   \n",
       "AAMDC   -0.018268 -0.134057  0.061500 -0.043095 -0.008410  0.040201  0.002228   \n",
       "AAMP    -0.112513 -0.007070 -0.042572 -0.081118 -0.026668 -0.011451 -0.031269   \n",
       "AANAT   -0.039306 -0.063316 -0.004406 -0.028829 -0.012423  0.073137  0.059959   \n",
       "\n",
       "            AAED1     AAGAB  \n",
       "A1BG    -0.032216 -0.120841  \n",
       "A1CF    -0.007842  0.055908  \n",
       "A2M      0.038358  0.024052  \n",
       "A2ML1    0.007850 -0.111212  \n",
       "A3GALT2 -0.132546 -0.021228  \n",
       "A4GALT   0.014560  0.008064  \n",
       "A4GNT    0.043615  0.021619  \n",
       "AAAS    -0.059149  0.031853  \n",
       "AACS     0.027393 -0.015891  \n",
       "AADAC   -0.038620  0.022411  \n",
       "AADACL2 -0.067777  0.050739  \n",
       "AADACL3  0.046513  0.032897  \n",
       "AADACL4  0.004911  0.023292  \n",
       "AADAT   -0.002838  0.005090  \n",
       "AAED1    0.000000  0.011641  \n",
       "AAGAB    0.011641  0.000000  \n",
       "AAK1     0.048287  0.083498  \n",
       "AAMDC   -0.006985 -0.001950  \n",
       "AAMP    -0.021241 -0.044890  \n",
       "AANAT   -0.088411 -0.055640  "
      ]
     },
     "execution_count": 224,
     "metadata": {},
     "output_type": "execute_result"
    }
   ],
   "source": [
    "fil = data1.replace(1,0)"
   ]
  },
  {
   "cell_type": "code",
   "execution_count": 230,
   "metadata": {},
   "outputs": [
    {
     "data": {
      "text/plain": [
       "<matplotlib.collections.PolyCollection at 0x7f9d6adbdeb8>"
      ]
     },
     "execution_count": 230,
     "metadata": {},
     "output_type": "execute_result"
    },
    {
     "data": {
      "image/png": "[encoded data removed]",
      "text/plain": [
       "<Figure size 432x288 with 1 Axes>"
      ]
     },
     "metadata": {
      "needs_background": "light"
     },
     "output_type": "display_data"
    }
   ],
   "source": [
    "plt.pcolor(fil)"
   ]
  },
  {
   "cell_type": "code",
   "execution_count": 240,
   "metadata": {},
   "outputs": [
    {
     "data": {
      "text/plain": [
       "<seaborn.matrix.ClusterGrid at 0x7f9d6ad07cf8>"
      ]
     },
     "execution_count": 240,
     "metadata": {},
     "output_type": "execute_result"
    },
    {
     "data": {
      "image/png": "[encoded data removed]",
      "text/plain": [
       "<Figure size 720x720 with 4 Axes>"
      ]
     },
     "metadata": {
      "needs_background": "light"
     },
     "output_type": "display_data"
    }
   ],
   "source": [
    "sns.clustermap(fil)"
   ]
  },
  {
   "cell_type": "code",
   "execution_count": 245,
   "metadata": {},
   "outputs": [
    {
     "name": "stderr",
     "output_type": "stream",
     "text": [
      "/home/annerer/.local/lib/python3.5/site-packages/seaborn/matrix.py:626: UserWarning: Clustering large matrix with scipy. Installing `fastcluster` may give better performance.\n",
      "  warnings.warn(msg)\n"
     ]
    },
    {
     "data": {
      "text/plain": [
       "<seaborn.matrix.ClusterGrid at 0x7f9d6ac52860>"
      ]
     },
     "execution_count": 245,
     "metadata": {},
     "output_type": "execute_result"
    },
    {
     "data": {
      "image/png": "[encoded data removed]",
      "text/plain": [
       "<Figure size 720x720 with 4 Axes>"
      ]
     },
     "metadata": {
      "needs_background": "light"
     },
     "output_type": "display_data"
    }
   ],
   "source": [
    "sns.clustermap(bigcols)"
   ]
  },
  {
   "cell_type": "code",
   "execution_count": 231,
   "metadata": {},
   "outputs": [
    {
     "data": {
      "text/plain": [
       "A1BG       1.0\n",
       "A1CF       1.0\n",
       "A2M        1.0\n",
       "A2ML1      1.0\n",
       "A3GALT2    1.0\n",
       "A4GALT     1.0\n",
       "A4GNT      1.0\n",
       "AAAS       1.0\n",
       "AACS       1.0\n",
       "AADAC      1.0\n",
       "AADACL2    1.0\n",
       "AADACL3    1.0\n",
       "AADACL4    1.0\n",
       "AADAT      1.0\n",
       "AAED1      1.0\n",
       "AAGAB      1.0\n",
       "dtype: float64"
      ]
     },
     "execution_count": 231,
     "metadata": {},
     "output_type": "execute_result"
    }
   ],
   "source": [
    "np.max(data1)"
   ]
  },
  {
   "cell_type": "code",
   "execution_count": 184,
   "metadata": {},
   "outputs": [
    {
     "data": {
      "text/plain": [
       "<matplotlib.axes._subplots.AxesSubplot at 0x7f9d8d9df518>"
      ]
     },
     "execution_count": 184,
     "metadata": {},
     "output_type": "execute_result"
    },
    {
     "data": {
      "image/png": "[encoded data removed]",
      "text/plain": [
       "<Figure size 432x288 with 2 Axes>"
      ]
     },
     "metadata": {
      "needs_background": "light"
     },
     "output_type": "display_data"
    }
   ],
   "source": [
    "matrix = np.triu(effectCorr.head())\n",
    "sns.heatmap(effectCorr.head(), annot=True, mask=matrix)"
   ]
  },
  {
   "cell_type": "code",
   "execution_count": null,
   "metadata": {},
   "outputs": [],
   "source": []
  },
  {
   "cell_type": "code",
   "execution_count": null,
   "metadata": {},
   "outputs": [],
   "source": []
  },
  {
   "cell_type": "code",
   "execution_count": null,
   "metadata": {},
   "outputs": [],
   "source": [
    "# read the correlated effect scores file\n",
    "# here I use a column from gene-effects as test-set"
   ]
  },
  {
   "cell_type": "code",
   "execution_count": 161,
   "metadata": {},
   "outputs": [
    {
     "data": {
      "text/plain": [
       "<matplotlib.axes._subplots.AxesSubplot at 0x7f9d8eaaa668>"
      ]
     },
     "execution_count": 161,
     "metadata": {},
     "output_type": "execute_result"
    },
    {
     "data": {
      "image/png": "[encoded data removed]",
      "text/plain": [
       "<Figure size 432x288 with 1 Axes>"
      ]
     },
     "metadata": {
      "needs_background": "light"
     },
     "output_type": "display_data"
    }
   ],
   "source": [
    "a = effect['A1BG (1)'].sort_values(0)\n",
    "tenpercent = np.round(0.1*len(a))\n",
    "start = int(len(a)-tenpercent)\n",
    "a[start:769].hist()"
   ]
  },
  {
   "cell_type": "code",
   "execution_count": 175,
   "metadata": {},
   "outputs": [],
   "source": [
    "def percentage_window(df,p1,p2):\n",
    "    \"\"\" \n",
    "    function for getting percentage window of values (eg a shoulder)\n",
    "    df..DataFrame, p1 lower percentage (eg 80), p2 upper (eg 100)\n",
    "    returns the specified window of the dataframe\n",
    "    \"\"\"\n",
    "    length = len(df)\n",
    "    lower = int(np.round(p1/100 *length))\n",
    "    upper = int(np.round(p2/100 *length))\n",
    "    return df[lower:upper]\n"
   ]
  },
  {
   "cell_type": "code",
   "execution_count": 176,
   "metadata": {},
   "outputs": [
    {
     "data": {
      "text/plain": [
       "<matplotlib.axes._subplots.AxesSubplot at 0x7f9d8fbafa58>"
      ]
     },
     "execution_count": 176,
     "metadata": {},
     "output_type": "execute_result"
    },
    {
     "data": {
      "image/png": "[encoded data removed]",
      "text/plain": [
       "<Figure size 432x288 with 1 Axes>"
      ]
     },
     "metadata": {
      "needs_background": "light"
     },
     "output_type": "display_data"
    }
   ],
   "source": [
    "test = percentage_window(a,95,100)\n",
    "test.hist()"
   ]
  },
  {
   "cell_type": "markdown",
   "metadata": {},
   "source": [
    "# Use Cell-Lines as Index and get rid of the numbers in the column titles (Complete)"
   ]
  },
  {
   "cell_type": "code",
   "execution_count": 133,
   "metadata": {},
   "outputs": [
    {
     "data": {
      "text/html": [
       "<div>\n",
       "<style scoped>\n",
       "    .dataframe tbody tr th:only-of-type {\n",
       "        vertical-align: middle;\n",
       "    }\n",
       "\n",
       "    .dataframe tbody tr th {\n",
       "        vertical-align: top;\n",
       "    }\n",
       "\n",
       "    .dataframe thead th {\n",
       "        text-align: right;\n",
       "    }\n",
       "</style>\n",
       "<table border=\"1\" class=\"dataframe\">\n",
       "  <thead>\n",
       "    <tr style=\"text-align: right;\">\n",
       "      <th></th>\n",
       "      <th>A1BG</th>\n",
       "      <th>A1CF</th>\n",
       "      <th>A2M</th>\n",
       "      <th>A2ML1</th>\n",
       "      <th>A3GALT2</th>\n",
       "      <th>A4GALT</th>\n",
       "      <th>A4GNT</th>\n",
       "      <th>AAAS</th>\n",
       "      <th>AACS</th>\n",
       "      <th>AADAC</th>\n",
       "      <th>...</th>\n",
       "      <th>ZWILCH</th>\n",
       "      <th>ZWINT</th>\n",
       "      <th>ZXDA</th>\n",
       "      <th>ZXDB</th>\n",
       "      <th>ZXDC</th>\n",
       "      <th>ZYG11A</th>\n",
       "      <th>ZYG11B</th>\n",
       "      <th>ZYX</th>\n",
       "      <th>ZZEF1</th>\n",
       "      <th>ZZZ3</th>\n",
       "    </tr>\n",
       "    <tr>\n",
       "      <th>INDEX</th>\n",
       "      <th></th>\n",
       "      <th></th>\n",
       "      <th></th>\n",
       "      <th></th>\n",
       "      <th></th>\n",
       "      <th></th>\n",
       "      <th></th>\n",
       "      <th></th>\n",
       "      <th></th>\n",
       "      <th></th>\n",
       "      <th></th>\n",
       "      <th></th>\n",
       "      <th></th>\n",
       "      <th></th>\n",
       "      <th></th>\n",
       "      <th></th>\n",
       "      <th></th>\n",
       "      <th></th>\n",
       "      <th></th>\n",
       "      <th></th>\n",
       "      <th></th>\n",
       "    </tr>\n",
       "  </thead>\n",
       "  <tbody>\n",
       "    <tr>\n",
       "      <th>HEL_HAEMATOPOIETIC_AND_LYMPHOID_TISSUE</th>\n",
       "      <td>0.178087</td>\n",
       "      <td>0.088290</td>\n",
       "      <td>-0.201464</td>\n",
       "      <td>-0.017011</td>\n",
       "      <td>0.042590</td>\n",
       "      <td>-0.192257</td>\n",
       "      <td>0.352891</td>\n",
       "      <td>-0.445209</td>\n",
       "      <td>0.292603</td>\n",
       "      <td>0.165168</td>\n",
       "      <td>...</td>\n",
       "      <td>-0.122795</td>\n",
       "      <td>-0.464567</td>\n",
       "      <td>NaN</td>\n",
       "      <td>NaN</td>\n",
       "      <td>0.258084</td>\n",
       "      <td>0.237593</td>\n",
       "      <td>-0.408563</td>\n",
       "      <td>0.291832</td>\n",
       "      <td>0.218575</td>\n",
       "      <td>-0.139759</td>\n",
       "    </tr>\n",
       "    <tr>\n",
       "      <th>HEL9217_HAEMATOPOIETIC_AND_LYMPHOID_TISSUE</th>\n",
       "      <td>-0.082364</td>\n",
       "      <td>0.239413</td>\n",
       "      <td>0.195457</td>\n",
       "      <td>0.163763</td>\n",
       "      <td>-0.188161</td>\n",
       "      <td>-0.338735</td>\n",
       "      <td>0.254489</td>\n",
       "      <td>-0.583878</td>\n",
       "      <td>-0.060615</td>\n",
       "      <td>0.015272</td>\n",
       "      <td>...</td>\n",
       "      <td>-0.195061</td>\n",
       "      <td>-0.408063</td>\n",
       "      <td>-0.155155</td>\n",
       "      <td>-0.067415</td>\n",
       "      <td>0.229242</td>\n",
       "      <td>-0.075883</td>\n",
       "      <td>-0.104001</td>\n",
       "      <td>0.075901</td>\n",
       "      <td>0.036985</td>\n",
       "      <td>-0.243303</td>\n",
       "    </tr>\n",
       "    <tr>\n",
       "      <th>LS513_LARGE_INTESTINE</th>\n",
       "      <td>0.070026</td>\n",
       "      <td>0.075066</td>\n",
       "      <td>-0.064637</td>\n",
       "      <td>0.156905</td>\n",
       "      <td>0.099075</td>\n",
       "      <td>0.141985</td>\n",
       "      <td>0.066314</td>\n",
       "      <td>-0.477023</td>\n",
       "      <td>-0.006855</td>\n",
       "      <td>0.291604</td>\n",
       "      <td>...</td>\n",
       "      <td>-0.093252</td>\n",
       "      <td>-0.276874</td>\n",
       "      <td>-0.049716</td>\n",
       "      <td>0.116683</td>\n",
       "      <td>0.211699</td>\n",
       "      <td>-0.012654</td>\n",
       "      <td>-0.351716</td>\n",
       "      <td>0.089140</td>\n",
       "      <td>-0.392549</td>\n",
       "      <td>-0.442624</td>\n",
       "    </tr>\n",
       "    <tr>\n",
       "      <th>C2BBE1_LARGE_INTESTINE</th>\n",
       "      <td>0.107048</td>\n",
       "      <td>-0.006352</td>\n",
       "      <td>-0.053166</td>\n",
       "      <td>0.053055</td>\n",
       "      <td>0.081620</td>\n",
       "      <td>-0.038305</td>\n",
       "      <td>0.082421</td>\n",
       "      <td>-0.642935</td>\n",
       "      <td>0.159178</td>\n",
       "      <td>0.064128</td>\n",
       "      <td>...</td>\n",
       "      <td>-0.280677</td>\n",
       "      <td>-0.230111</td>\n",
       "      <td>-0.106000</td>\n",
       "      <td>0.041611</td>\n",
       "      <td>0.083021</td>\n",
       "      <td>0.022771</td>\n",
       "      <td>-0.596777</td>\n",
       "      <td>0.197627</td>\n",
       "      <td>-0.106398</td>\n",
       "      <td>-0.549259</td>\n",
       "    </tr>\n",
       "    <tr>\n",
       "      <th>253J_URINARY_TRACT</th>\n",
       "      <td>0.280508</td>\n",
       "      <td>0.079860</td>\n",
       "      <td>0.016981</td>\n",
       "      <td>0.439139</td>\n",
       "      <td>-0.042239</td>\n",
       "      <td>-0.242560</td>\n",
       "      <td>0.103028</td>\n",
       "      <td>-0.419159</td>\n",
       "      <td>0.141445</td>\n",
       "      <td>0.115857</td>\n",
       "      <td>...</td>\n",
       "      <td>-0.410500</td>\n",
       "      <td>-0.507467</td>\n",
       "      <td>-0.138665</td>\n",
       "      <td>-0.119292</td>\n",
       "      <td>0.284407</td>\n",
       "      <td>0.158124</td>\n",
       "      <td>-0.240429</td>\n",
       "      <td>0.124847</td>\n",
       "      <td>-0.250949</td>\n",
       "      <td>-0.379117</td>\n",
       "    </tr>\n",
       "  </tbody>\n",
       "</table>\n",
       "<p>5 rows × 18119 columns</p>\n",
       "</div>"
      ],
      "text/plain": [
       "                                                A1BG      A1CF       A2M  \\\n",
       "INDEX                                                                      \n",
       "HEL_HAEMATOPOIETIC_AND_LYMPHOID_TISSUE      0.178087  0.088290 -0.201464   \n",
       "HEL9217_HAEMATOPOIETIC_AND_LYMPHOID_TISSUE -0.082364  0.239413  0.195457   \n",
       "LS513_LARGE_INTESTINE                       0.070026  0.075066 -0.064637   \n",
       "C2BBE1_LARGE_INTESTINE                      0.107048 -0.006352 -0.053166   \n",
       "253J_URINARY_TRACT                          0.280508  0.079860  0.016981   \n",
       "\n",
       "                                               A2ML1   A3GALT2    A4GALT  \\\n",
       "INDEX                                                                      \n",
       "HEL_HAEMATOPOIETIC_AND_LYMPHOID_TISSUE     -0.017011  0.042590 -0.192257   \n",
       "HEL9217_HAEMATOPOIETIC_AND_LYMPHOID_TISSUE  0.163763 -0.188161 -0.338735   \n",
       "LS513_LARGE_INTESTINE                       0.156905  0.099075  0.141985   \n",
       "C2BBE1_LARGE_INTESTINE                      0.053055  0.081620 -0.038305   \n",
       "253J_URINARY_TRACT                          0.439139 -0.042239 -0.242560   \n",
       "\n",
       "                                               A4GNT      AAAS      AACS  \\\n",
       "INDEX                                                                      \n",
       "HEL_HAEMATOPOIETIC_AND_LYMPHOID_TISSUE      0.352891 -0.445209  0.292603   \n",
       "HEL9217_HAEMATOPOIETIC_AND_LYMPHOID_TISSUE  0.254489 -0.583878 -0.060615   \n",
       "LS513_LARGE_INTESTINE                       0.066314 -0.477023 -0.006855   \n",
       "C2BBE1_LARGE_INTESTINE                      0.082421 -0.642935  0.159178   \n",
       "253J_URINARY_TRACT                          0.103028 -0.419159  0.141445   \n",
       "\n",
       "                                               AADAC  ...    ZWILCH     ZWINT  \\\n",
       "INDEX                                                 ...                       \n",
       "HEL_HAEMATOPOIETIC_AND_LYMPHOID_TISSUE      0.165168  ... -0.122795 -0.464567   \n",
       "HEL9217_HAEMATOPOIETIC_AND_LYMPHOID_TISSUE  0.015272  ... -0.195061 -0.408063   \n",
       "LS513_LARGE_INTESTINE                       0.291604  ... -0.093252 -0.276874   \n",
       "C2BBE1_LARGE_INTESTINE                      0.064128  ... -0.280677 -0.230111   \n",
       "253J_URINARY_TRACT                          0.115857  ... -0.410500 -0.507467   \n",
       "\n",
       "                                                ZXDA      ZXDB      ZXDC  \\\n",
       "INDEX                                                                      \n",
       "HEL_HAEMATOPOIETIC_AND_LYMPHOID_TISSUE           NaN       NaN  0.258084   \n",
       "HEL9217_HAEMATOPOIETIC_AND_LYMPHOID_TISSUE -0.155155 -0.067415  0.229242   \n",
       "LS513_LARGE_INTESTINE                      -0.049716  0.116683  0.211699   \n",
       "C2BBE1_LARGE_INTESTINE                     -0.106000  0.041611  0.083021   \n",
       "253J_URINARY_TRACT                         -0.138665 -0.119292  0.284407   \n",
       "\n",
       "                                              ZYG11A    ZYG11B       ZYX  \\\n",
       "INDEX                                                                      \n",
       "HEL_HAEMATOPOIETIC_AND_LYMPHOID_TISSUE      0.237593 -0.408563  0.291832   \n",
       "HEL9217_HAEMATOPOIETIC_AND_LYMPHOID_TISSUE -0.075883 -0.104001  0.075901   \n",
       "LS513_LARGE_INTESTINE                      -0.012654 -0.351716  0.089140   \n",
       "C2BBE1_LARGE_INTESTINE                      0.022771 -0.596777  0.197627   \n",
       "253J_URINARY_TRACT                          0.158124 -0.240429  0.124847   \n",
       "\n",
       "                                               ZZEF1      ZZZ3  \n",
       "INDEX                                                           \n",
       "HEL_HAEMATOPOIETIC_AND_LYMPHOID_TISSUE      0.218575 -0.139759  \n",
       "HEL9217_HAEMATOPOIETIC_AND_LYMPHOID_TISSUE  0.036985 -0.243303  \n",
       "LS513_LARGE_INTESTINE                      -0.392549 -0.442624  \n",
       "C2BBE1_LARGE_INTESTINE                     -0.106398 -0.549259  \n",
       "253J_URINARY_TRACT                         -0.250949 -0.379117  \n",
       "\n",
       "[5 rows x 18119 columns]"
      ]
     },
     "execution_count": 133,
     "metadata": {},
     "output_type": "execute_result"
    }
   ],
   "source": [
    "effect.head()"
   ]
  },
  {
   "cell_type": "code",
   "execution_count": 103,
   "metadata": {},
   "outputs": [],
   "source": [
    "data1 = pd.read_csv(\"/home/annerer/Downloads/sample_info.csv\")"
   ]
  },
  {
   "cell_type": "code",
   "execution_count": 8,
   "metadata": {},
   "outputs": [],
   "source": [
    "mapping = {}\n",
    "\n",
    "for i in np.arange(0,data.shape[0],1):\n",
    "    mapping[data.DepMap_ID[i]] = data.CCLE_Name[i]\n",
    "\n",
    "effect[\"INDEX\"] = effect.DepMap_ID\n",
    "effect = effect.set_index('INDEX')\n",
    "effect = effect.rename(index=mapping)"
   ]
  },
  {
   "cell_type": "code",
   "execution_count": 28,
   "metadata": {},
   "outputs": [],
   "source": [
    "effect = effect.drop(\"DepMap_ID\",1)"
   ]
  },
  {
   "cell_type": "markdown",
   "metadata": {},
   "source": [
    "# Build a Search-Feature that allows to querry for Co-Dependencies"
   ]
  },
  {
   "cell_type": "code",
   "execution_count": 77,
   "metadata": {},
   "outputs": [
    {
     "data": {
      "text/plain": [
       "['NMCG1_CENTRAL_NERVOUS_SYSTEM',\n",
       " 'DKMG_CENTRAL_NERVOUS_SYSTEM',\n",
       " 'KMRC1_KIDNEY',\n",
       " 'TTC642_SOFT_TISSUE']"
      ]
     },
     "execution_count": 77,
     "metadata": {},
     "output_type": "execute_result"
    }
   ],
   "source": [
    "effect[effect['TP53'] > 3.9].index.to_list()"
   ]
  },
  {
   "cell_type": "code",
   "execution_count": 55,
   "metadata": {},
   "outputs": [],
   "source": [
    "def searcheffect(gene1, gene2, value1,value2,v3):\n",
    "    if v3 == 'tolist':\n",
    "        return effect[(effect[gene1] > value1) & (effect[gene2] > value2)].index.to_list()\n",
    "    else:\n",
    "        return effect[(effect[gene1] > value1) & (effect[gene2] > value2)]"
   ]
  },
  {
   "cell_type": "code",
   "execution_count": 83,
   "metadata": {},
   "outputs": [
    {
     "data": {
      "text/plain": [
       "<matplotlib.colorbar.Colorbar at 0x7f9d8f024eb8>"
      ]
     },
     "execution_count": 83,
     "metadata": {},
     "output_type": "execute_result"
    },
    {
     "data": {
      "image/png": "[encoded data removed]",
      "text/plain": [
       "<Figure size 432x288 with 2 Axes>"
      ]
     },
     "metadata": {
      "needs_background": "light"
     },
     "output_type": "display_data"
    }
   ],
   "source": [
    "dat = searcheffect('TP53','MDM2', 4,-5,'tolis')\n",
    "plt.pcolor(dat[['TP53','MDM2','A1BG']])\n",
    "plt.colorbar()"
   ]
  },
  {
   "cell_type": "markdown",
   "metadata": {},
   "source": [
    "So far this allows to querry for two genes of interest\n",
    "outputting a heatmap for the essentialities with rows\n",
    "being cell lines and columns the genes.\n",
    "in this example above we see that TP53 and MDM2 are \n",
    "negatively correlated. We see this as well in our pre-\n",
    "liminary calculation of (pearson) correlation between\n",
    "the gene-effects of these two genes in the 700+ cancer\n",
    "cell lines."
   ]
  },
  {
   "cell_type": "markdown",
   "metadata": {},
   "source": [
    "### TODO:"
   ]
  },
  {
   "cell_type": "markdown",
   "metadata": {},
   "source": [
    "the gene pairs have to be input by the user, this is fine.\n",
    "the default values for val1, val2 should be higher or lower \n",
    "than average or something. I have to wait to see what the matrix\n",
    "actually is. \n",
    "output should be the heatmap or the list of tissues that are affected.\n",
    "Then we could check if these are oncogene-addictions or synthetic lethalities.\n",
    "\n",
    "How? get the genetic data from the depmap linked sites like cellosaur or cosmid. depmap should also have this data. this does not have to be an elaborate visual display, this could be a quick check i guess."
   ]
  },
  {
   "cell_type": "markdown",
   "metadata": {},
   "source": [
    "## Renaming columns (complete)"
   ]
  },
  {
   "cell_type": "code",
   "execution_count": null,
   "metadata": {},
   "outputs": [],
   "source": [
    "gene = effect.columns.to_list()\n",
    "# split at space\n",
    "for i in range(len(gene)):\n",
    "    gene[i] = gene[i].split(\" \") \n",
    "\n",
    "genes = []\n",
    "for i in range(len(gene)):\n",
    "    genes.append(gene[i][0])"
   ]
  },
  {
   "cell_type": "code",
   "execution_count": 100,
   "metadata": {},
   "outputs": [],
   "source": [
    "lineages = list(set(data['lineage']))"
   ]
  },
  {
   "cell_type": "code",
   "execution_count": 132,
   "metadata": {},
   "outputs": [],
   "source": [
    "#effect.index.to_list()"
   ]
  },
  {
   "cell_type": "code",
   "execution_count": 72,
   "metadata": {},
   "outputs": [],
   "source": [
    "effect.columns = genes"
   ]
  },
  {
   "cell_type": "code",
   "execution_count": 70,
   "metadata": {},
   "outputs": [
    {
     "data": {
      "text/html": [
       "<div>\n",
       "<style scoped>\n",
       "    .dataframe tbody tr th:only-of-type {\n",
       "        vertical-align: middle;\n",
       "    }\n",
       "\n",
       "    .dataframe tbody tr th {\n",
       "        vertical-align: top;\n",
       "    }\n",
       "\n",
       "    .dataframe thead th {\n",
       "        text-align: right;\n",
       "    }\n",
       "</style>\n",
       "<table border=\"1\" class=\"dataframe\">\n",
       "  <thead>\n",
       "    <tr style=\"text-align: right;\">\n",
       "      <th></th>\n",
       "      <th>A1BG</th>\n",
       "      <th>A1CF</th>\n",
       "      <th>A2M</th>\n",
       "      <th>A2ML1</th>\n",
       "      <th>A3GALT2</th>\n",
       "      <th>A4GALT</th>\n",
       "      <th>A4GNT</th>\n",
       "      <th>AAAS</th>\n",
       "      <th>AACS</th>\n",
       "      <th>AADAC</th>\n",
       "      <th>...</th>\n",
       "      <th>ZWILCH</th>\n",
       "      <th>ZWINT</th>\n",
       "      <th>ZXDA</th>\n",
       "      <th>ZXDB</th>\n",
       "      <th>ZXDC</th>\n",
       "      <th>ZYG11A</th>\n",
       "      <th>ZYG11B</th>\n",
       "      <th>ZYX</th>\n",
       "      <th>ZZEF1</th>\n",
       "      <th>ZZZ3</th>\n",
       "    </tr>\n",
       "    <tr>\n",
       "      <th>INDEX</th>\n",
       "      <th></th>\n",
       "      <th></th>\n",
       "      <th></th>\n",
       "      <th></th>\n",
       "      <th></th>\n",
       "      <th></th>\n",
       "      <th></th>\n",
       "      <th></th>\n",
       "      <th></th>\n",
       "      <th></th>\n",
       "      <th></th>\n",
       "      <th></th>\n",
       "      <th></th>\n",
       "      <th></th>\n",
       "      <th></th>\n",
       "      <th></th>\n",
       "      <th></th>\n",
       "      <th></th>\n",
       "      <th></th>\n",
       "      <th></th>\n",
       "      <th></th>\n",
       "    </tr>\n",
       "  </thead>\n",
       "  <tbody>\n",
       "    <tr>\n",
       "      <th>HEL_HAEMATOPOIETIC_AND_LYMPHOID_TISSUE</th>\n",
       "      <td>0.178087</td>\n",
       "      <td>0.088290</td>\n",
       "      <td>-0.201464</td>\n",
       "      <td>-0.017011</td>\n",
       "      <td>0.042590</td>\n",
       "      <td>-0.192257</td>\n",
       "      <td>0.352891</td>\n",
       "      <td>-0.445209</td>\n",
       "      <td>0.292603</td>\n",
       "      <td>0.165168</td>\n",
       "      <td>...</td>\n",
       "      <td>-0.122795</td>\n",
       "      <td>-0.464567</td>\n",
       "      <td>NaN</td>\n",
       "      <td>NaN</td>\n",
       "      <td>0.258084</td>\n",
       "      <td>0.237593</td>\n",
       "      <td>-0.408563</td>\n",
       "      <td>0.291832</td>\n",
       "      <td>0.218575</td>\n",
       "      <td>-0.139759</td>\n",
       "    </tr>\n",
       "    <tr>\n",
       "      <th>HEL9217_HAEMATOPOIETIC_AND_LYMPHOID_TISSUE</th>\n",
       "      <td>-0.082364</td>\n",
       "      <td>0.239413</td>\n",
       "      <td>0.195457</td>\n",
       "      <td>0.163763</td>\n",
       "      <td>-0.188161</td>\n",
       "      <td>-0.338735</td>\n",
       "      <td>0.254489</td>\n",
       "      <td>-0.583878</td>\n",
       "      <td>-0.060615</td>\n",
       "      <td>0.015272</td>\n",
       "      <td>...</td>\n",
       "      <td>-0.195061</td>\n",
       "      <td>-0.408063</td>\n",
       "      <td>-0.155155</td>\n",
       "      <td>-0.067415</td>\n",
       "      <td>0.229242</td>\n",
       "      <td>-0.075883</td>\n",
       "      <td>-0.104001</td>\n",
       "      <td>0.075901</td>\n",
       "      <td>0.036985</td>\n",
       "      <td>-0.243303</td>\n",
       "    </tr>\n",
       "    <tr>\n",
       "      <th>LS513_LARGE_INTESTINE</th>\n",
       "      <td>0.070026</td>\n",
       "      <td>0.075066</td>\n",
       "      <td>-0.064637</td>\n",
       "      <td>0.156905</td>\n",
       "      <td>0.099075</td>\n",
       "      <td>0.141985</td>\n",
       "      <td>0.066314</td>\n",
       "      <td>-0.477023</td>\n",
       "      <td>-0.006855</td>\n",
       "      <td>0.291604</td>\n",
       "      <td>...</td>\n",
       "      <td>-0.093252</td>\n",
       "      <td>-0.276874</td>\n",
       "      <td>-0.049716</td>\n",
       "      <td>0.116683</td>\n",
       "      <td>0.211699</td>\n",
       "      <td>-0.012654</td>\n",
       "      <td>-0.351716</td>\n",
       "      <td>0.089140</td>\n",
       "      <td>-0.392549</td>\n",
       "      <td>-0.442624</td>\n",
       "    </tr>\n",
       "    <tr>\n",
       "      <th>C2BBE1_LARGE_INTESTINE</th>\n",
       "      <td>0.107048</td>\n",
       "      <td>-0.006352</td>\n",
       "      <td>-0.053166</td>\n",
       "      <td>0.053055</td>\n",
       "      <td>0.081620</td>\n",
       "      <td>-0.038305</td>\n",
       "      <td>0.082421</td>\n",
       "      <td>-0.642935</td>\n",
       "      <td>0.159178</td>\n",
       "      <td>0.064128</td>\n",
       "      <td>...</td>\n",
       "      <td>-0.280677</td>\n",
       "      <td>-0.230111</td>\n",
       "      <td>-0.106000</td>\n",
       "      <td>0.041611</td>\n",
       "      <td>0.083021</td>\n",
       "      <td>0.022771</td>\n",
       "      <td>-0.596777</td>\n",
       "      <td>0.197627</td>\n",
       "      <td>-0.106398</td>\n",
       "      <td>-0.549259</td>\n",
       "    </tr>\n",
       "    <tr>\n",
       "      <th>253J_URINARY_TRACT</th>\n",
       "      <td>0.280508</td>\n",
       "      <td>0.079860</td>\n",
       "      <td>0.016981</td>\n",
       "      <td>0.439139</td>\n",
       "      <td>-0.042239</td>\n",
       "      <td>-0.242560</td>\n",
       "      <td>0.103028</td>\n",
       "      <td>-0.419159</td>\n",
       "      <td>0.141445</td>\n",
       "      <td>0.115857</td>\n",
       "      <td>...</td>\n",
       "      <td>-0.410500</td>\n",
       "      <td>-0.507467</td>\n",
       "      <td>-0.138665</td>\n",
       "      <td>-0.119292</td>\n",
       "      <td>0.284407</td>\n",
       "      <td>0.158124</td>\n",
       "      <td>-0.240429</td>\n",
       "      <td>0.124847</td>\n",
       "      <td>-0.250949</td>\n",
       "      <td>-0.379117</td>\n",
       "    </tr>\n",
       "  </tbody>\n",
       "</table>\n",
       "<p>5 rows × 18119 columns</p>\n",
       "</div>"
      ],
      "text/plain": [
       "                                                A1BG      A1CF       A2M  \\\n",
       "INDEX                                                                      \n",
       "HEL_HAEMATOPOIETIC_AND_LYMPHOID_TISSUE      0.178087  0.088290 -0.201464   \n",
       "HEL9217_HAEMATOPOIETIC_AND_LYMPHOID_TISSUE -0.082364  0.239413  0.195457   \n",
       "LS513_LARGE_INTESTINE                       0.070026  0.075066 -0.064637   \n",
       "C2BBE1_LARGE_INTESTINE                      0.107048 -0.006352 -0.053166   \n",
       "253J_URINARY_TRACT                          0.280508  0.079860  0.016981   \n",
       "\n",
       "                                               A2ML1   A3GALT2    A4GALT  \\\n",
       "INDEX                                                                      \n",
       "HEL_HAEMATOPOIETIC_AND_LYMPHOID_TISSUE     -0.017011  0.042590 -0.192257   \n",
       "HEL9217_HAEMATOPOIETIC_AND_LYMPHOID_TISSUE  0.163763 -0.188161 -0.338735   \n",
       "LS513_LARGE_INTESTINE                       0.156905  0.099075  0.141985   \n",
       "C2BBE1_LARGE_INTESTINE                      0.053055  0.081620 -0.038305   \n",
       "253J_URINARY_TRACT                          0.439139 -0.042239 -0.242560   \n",
       "\n",
       "                                               A4GNT      AAAS      AACS  \\\n",
       "INDEX                                                                      \n",
       "HEL_HAEMATOPOIETIC_AND_LYMPHOID_TISSUE      0.352891 -0.445209  0.292603   \n",
       "HEL9217_HAEMATOPOIETIC_AND_LYMPHOID_TISSUE  0.254489 -0.583878 -0.060615   \n",
       "LS513_LARGE_INTESTINE                       0.066314 -0.477023 -0.006855   \n",
       "C2BBE1_LARGE_INTESTINE                      0.082421 -0.642935  0.159178   \n",
       "253J_URINARY_TRACT                          0.103028 -0.419159  0.141445   \n",
       "\n",
       "                                               AADAC  ...    ZWILCH     ZWINT  \\\n",
       "INDEX                                                 ...                       \n",
       "HEL_HAEMATOPOIETIC_AND_LYMPHOID_TISSUE      0.165168  ... -0.122795 -0.464567   \n",
       "HEL9217_HAEMATOPOIETIC_AND_LYMPHOID_TISSUE  0.015272  ... -0.195061 -0.408063   \n",
       "LS513_LARGE_INTESTINE                       0.291604  ... -0.093252 -0.276874   \n",
       "C2BBE1_LARGE_INTESTINE                      0.064128  ... -0.280677 -0.230111   \n",
       "253J_URINARY_TRACT                          0.115857  ... -0.410500 -0.507467   \n",
       "\n",
       "                                                ZXDA      ZXDB      ZXDC  \\\n",
       "INDEX                                                                      \n",
       "HEL_HAEMATOPOIETIC_AND_LYMPHOID_TISSUE           NaN       NaN  0.258084   \n",
       "HEL9217_HAEMATOPOIETIC_AND_LYMPHOID_TISSUE -0.155155 -0.067415  0.229242   \n",
       "LS513_LARGE_INTESTINE                      -0.049716  0.116683  0.211699   \n",
       "C2BBE1_LARGE_INTESTINE                     -0.106000  0.041611  0.083021   \n",
       "253J_URINARY_TRACT                         -0.138665 -0.119292  0.284407   \n",
       "\n",
       "                                              ZYG11A    ZYG11B       ZYX  \\\n",
       "INDEX                                                                      \n",
       "HEL_HAEMATOPOIETIC_AND_LYMPHOID_TISSUE      0.237593 -0.408563  0.291832   \n",
       "HEL9217_HAEMATOPOIETIC_AND_LYMPHOID_TISSUE -0.075883 -0.104001  0.075901   \n",
       "LS513_LARGE_INTESTINE                      -0.012654 -0.351716  0.089140   \n",
       "C2BBE1_LARGE_INTESTINE                      0.022771 -0.596777  0.197627   \n",
       "253J_URINARY_TRACT                          0.158124 -0.240429  0.124847   \n",
       "\n",
       "                                               ZZEF1      ZZZ3  \n",
       "INDEX                                                           \n",
       "HEL_HAEMATOPOIETIC_AND_LYMPHOID_TISSUE      0.218575 -0.139759  \n",
       "HEL9217_HAEMATOPOIETIC_AND_LYMPHOID_TISSUE  0.036985 -0.243303  \n",
       "LS513_LARGE_INTESTINE                      -0.392549 -0.442624  \n",
       "C2BBE1_LARGE_INTESTINE                     -0.106398 -0.549259  \n",
       "253J_URINARY_TRACT                         -0.250949 -0.379117  \n",
       "\n",
       "[5 rows x 18119 columns]"
      ]
     },
     "execution_count": 70,
     "metadata": {},
     "output_type": "execute_result"
    }
   ],
   "source": [
    "effect.head()"
   ]
  },
  {
   "cell_type": "markdown",
   "metadata": {},
   "source": [
    "## THE GOAL IS TO HAVE A HIERARCHICAL INDEX THAT CORRESPONDS TO THE TISSUE (TODO)"
   ]
  },
  {
   "cell_type": "markdown",
   "metadata": {},
   "source": [
    "some steps have been taken. i have a dict with matching tissue/cell-types. I have no idea at the moment how to convert this into a multi-index without messing things up.\n"
   ]
  },
  {
   "cell_type": "code",
   "execution_count": null,
   "metadata": {},
   "outputs": [],
   "source": [
    "    \n",
    "'''\n",
    "pseudocode:\n",
    "\n",
    "for x in sample-lines:\n",
    " dict[sample-lines].append(sample-ccle-names)\n",
    "\n",
    "this can be done from the sample dataframe alone.\n",
    "you just take all the names with the same lineage in a dict\n",
    "'''\n",
    "lineDict = {}\n",
    "ovary = data1[data1['lineage'] == 'ovary']['CCLE_Name']\n",
    "\n",
    "\n",
    "for i in lineages:\n",
    "    lineDict[i] = data1[data1['lineage'] == i]['CCLE_Name']"
   ]
  },
  {
   "cell_type": "code",
   "execution_count": null,
   "metadata": {},
   "outputs": [],
   "source": [
    "list1 = list(lineDict.keys()),\n",
    "list2 = list(lineDict.values())\n",
    "list3 = [list1,list2]"
   ]
  },
  {
   "cell_type": "code",
   "execution_count": null,
   "metadata": {},
   "outputs": [],
   "source": [
    "tuples = list(zip(*list3))"
   ]
  },
  {
   "cell_type": "code",
   "execution_count": null,
   "metadata": {},
   "outputs": [],
   "source": [
    "#index = pd.MultiIndex.from_tuples(tuples, names=['tissue', 'cell_lines'])"
   ]
  }
 ],
 "metadata": {
  "kernelspec": {
   "display_name": "Python 3",
   "language": "python",
   "name": "python3"
  },
  "language_info": {
   "codemirror_mode": {
    "name": "ipython",
    "version": 3
   },
   "file_extension": ".py",
   "mimetype": "text/x-python",
   "name": "python",
   "nbconvert_exporter": "python",
   "pygments_lexer": "ipython3",
   "version": "3.5.2"
  }
 },
 "nbformat": 4,
 "nbformat_minor": 4
}
