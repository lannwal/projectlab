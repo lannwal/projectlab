{
 "cells": [
  {
   "cell_type": "markdown",
   "metadata": {},
   "source": [
    "## Finding the Genetic Background of our Celllines"
   ]
  },
  {
   "cell_type": "code",
   "execution_count": 1,
   "metadata": {},
   "outputs": [],
   "source": [
    "import pandas as pd \n",
    "import numpy as np\n",
    "import seaborn as sns\n",
    "import matplotlib.pyplot as plt\n",
    "import itertools\n",
    "from scipy.stats import pearsonr"
   ]
  },
  {
   "cell_type": "code",
   "execution_count": 2,
   "metadata": {},
   "outputs": [],
   "source": [
    "effect = pd.read_csv(\"/home/annerer/Dokumente/DepMap_Mining/Achilles_gene_effect.csv\")\n",
    "data = pd.read_csv(\"/home/annerer/Dokumente/DepMap_Mining/sample_info.csv\")\n",
    "\n",
    "mapping = {}\n",
    "\n",
    "for i in np.arange(0,data.shape[0],1):\n",
    "    mapping[data.DepMap_ID[i]] = data.CCLE_Name[i]\n",
    "\n",
    "effect[\"INDEX\"] = effect.DepMap_ID\n",
    "effect = effect.set_index('INDEX')\n",
    "effect = effect.rename(index=mapping)\n",
    "effect = effect.drop(\"DepMap_ID\",1)\n",
    "\n",
    "gene = effect.columns.to_list()\n",
    "# split at space\n",
    "for i in range(len(gene)):\n",
    "    gene[i] = gene[i].split(\" \") \n",
    "\n",
    "genes = []\n",
    "for i in range(len(gene)):\n",
    "    genes.append(gene[i][0])\n",
    "                 \n",
    "effect.columns = genes"
   ]
  },
  {
   "cell_type": "code",
   "execution_count": 3,
   "metadata": {},
   "outputs": [],
   "source": [
    "cellLine = effect.index.to_list()\n",
    "# split at space\n",
    "for i in range(len(cellLine)):\n",
    "    cellLine[i] = cellLine[i].split(\"_\") \n",
    "\n",
    "cellLines = []\n",
    "for i in range(len(cellLine)):\n",
    "    cellLines.append(cellLine[i][0])\n",
    "    \n",
    "effect.index = cellLines"
   ]
  },
  {
   "cell_type": "code",
   "execution_count": 4,
   "metadata": {},
   "outputs": [
    {
     "data": {
      "text/plain": [
       "769"
      ]
     },
     "execution_count": 4,
     "metadata": {},
     "output_type": "execute_result"
    }
   ],
   "source": [
    "len(cellLines)"
   ]
  },
  {
   "cell_type": "code",
   "execution_count": 191,
   "metadata": {},
   "outputs": [],
   "source": [
    "sorted_tp53 = effect['TP53'].sort_values()\n",
    "length = len(sorted_tp53)\n",
    "#sorted_tp53[int(np.round(0.8*len(effect['TP53']))):length]\n",
    "#pd.concat(sorted_tp53[0:int(np.round(0.2*length))],sorted_tp53[int(np.round(0.8*length)):length])"
   ]
  },
  {
   "cell_type": "code",
   "execution_count": 230,
   "metadata": {},
   "outputs": [],
   "source": [
    "#MDM2_sorted = effect[\"MDM2\"].sort_values()\n",
    "#new = MDM2_sorted[0:int(np.round(0.2*len(MDM2_sorted)))]\n",
    "#new.index.tolist()\n",
    "\n",
    "\n",
    "def GE_overlap(gene1,gene2,percentage):\n",
    "    length = len(effect[gene1])\n",
    "    sort1 = effect[gene1].sort_values()\n",
    "    new1 = sort1[0:int(np.round(percentage*len(sort1)))]\n",
    "    \n",
    "    new2 = sort1[int(np.round((1-percentage)*len(sort1))):length]\n",
    "    a = new1.index.tolist()\n",
    "    b = new2.index.tolist()\n",
    "    a = set(a)\n",
    "    b = set(b)\n",
    "    \n",
    "    sort2 = effect[gene2].sort_values()\n",
    "    new3 = sort2[0:int(np.round(percentage*len(sort2)))]\n",
    "    new4 = sort2[int(np.round((1-percentage)*len(sort2))):length]\n",
    "\n",
    "    c = new3.index.tolist()\n",
    "    d = new4.index.tolist()\n",
    "    c = set(c)\n",
    "    d = set(d)\n",
    "    \n",
    "    #gene1 low, gene2 low\n",
    "    e = set.intersection(a,c)\n",
    "    #gene1 high, gene2 high\n",
    "    f = set.intersection(b,d)\n",
    "    #gene1 low, gene2 high\n",
    "    g = set.intersection(a,d)\n",
    "    # gene1 high, gene2 low\n",
    "    h = set.intersection(b,c)\n",
    "    #print('HS695T' in c)\n",
    "    #print('HS695T' in a)\n",
    "\n",
    "    print(len(e),len(f),len(g),len(h))\n",
    "    return [list(e),list(f),list(g),list(h)]"
   ]
  },
  {
   "cell_type": "code",
   "execution_count": 233,
   "metadata": {},
   "outputs": [
    {
     "name": "stdout",
     "output_type": "stream",
     "text": [
      "4 0 95 115\n"
     ]
    }
   ],
   "source": [
    "a,b,c,tp53high_mdm2low  = GE_overlap('TP53',\"MDM2\",0.2)"
   ]
  },
  {
   "cell_type": "code",
   "execution_count": 234,
   "metadata": {},
   "outputs": [],
   "source": [
    "# use list from GE_overlap to make a new boxplot.\n",
    "# discover pairs by going through the list and \n",
    "# calcuating GE_overlap"
   ]
  },
  {
   "cell_type": "markdown",
   "metadata": {},
   "source": [
    "## Mutational Signatures (Ryan)"
   ]
  },
  {
   "cell_type": "code",
   "execution_count": 5,
   "metadata": {},
   "outputs": [],
   "source": [
    "data = pd.read_csv(\"/home/annerer/Downloads/elife-58925-supp1-v3.csv\")"
   ]
  },
  {
   "cell_type": "code",
   "execution_count": 6,
   "metadata": {},
   "outputs": [],
   "source": [
    "cellLine = data['CCLE_NAME'].to_list()\n",
    "# split at space\n",
    "for i in range(len(cellLine)):\n",
    "    cellLine[i] = cellLine[i].split(\"_\") \n",
    "\n",
    "cellLines1 = []\n",
    "for i in range(len(cellLine)):\n",
    "    cellLines1.append(cellLine[i][0])\n",
    "    \n",
    "data['CCLE_NAME'] = cellLines1"
   ]
  },
  {
   "cell_type": "code",
   "execution_count": 142,
   "metadata": {},
   "outputs": [
    {
     "data": {
      "text/plain": [
       "0.7115009746588694"
      ]
     },
     "execution_count": 142,
     "metadata": {},
     "output_type": "execute_result"
    }
   ],
   "source": [
    "len(data[data['TP53_mut_del'] > 0])/data.shape[0]"
   ]
  },
  {
   "cell_type": "code",
   "execution_count": 144,
   "metadata": {},
   "outputs": [
    {
     "data": {
      "text/plain": [
       "0.08869395711500974"
      ]
     },
     "execution_count": 144,
     "metadata": {},
     "output_type": "execute_result"
    }
   ],
   "source": [
    "len(data[data['BRAF_mut'] > 0])/data.shape[0]"
   ]
  },
  {
   "cell_type": "markdown",
   "metadata": {},
   "source": [
    "### welche dieser Zelllinien haben wir?"
   ]
  },
  {
   "cell_type": "code",
   "execution_count": 7,
   "metadata": {},
   "outputs": [
    {
     "name": "stdout",
     "output_type": "stream",
     "text": [
      "765\n",
      "1025\n",
      "592\n"
     ]
    }
   ],
   "source": [
    "a = set(cellLines)\n",
    "b = set(data[\"CCLE_NAME\"])\n",
    "c = set.intersection(a,b)\n",
    "\n",
    "print(len(a))\n",
    "print(len(b))\n",
    "print(len(c))\n",
    "\n",
    "cellL = c"
   ]
  },
  {
   "attachments": {
    "4302af54-63ee-477c-8351-c34a13cd342e.png": {
     "image/png": "[encoded data removed]"
    }
   },
   "cell_type": "markdown",
   "metadata": {},
   "source": [
    "![grafik.png](attachment:4302af54-63ee-477c-8351-c34a13cd342e.png)"
   ]
  },
  {
   "cell_type": "code",
   "execution_count": 27,
   "metadata": {},
   "outputs": [
    {
     "data": {
      "text/plain": [
       "592"
      ]
     },
     "execution_count": 27,
     "metadata": {},
     "output_type": "execute_result"
    }
   ],
   "source": [
    "cellL = list(cellL)\n",
    "len(cellL)"
   ]
  },
  {
   "cell_type": "markdown",
   "metadata": {},
   "source": [
    "## Getting Mutational Signatures of the Celllines"
   ]
  },
  {
   "cell_type": "code",
   "execution_count": 29,
   "metadata": {},
   "outputs": [],
   "source": [
    "def getMutationalSignature(Index):\n",
    "    cols = data.columns.to_list()\n",
    "    bits = data.iloc[Index][:].to_list()\n",
    "    muts=[]\n",
    "\n",
    "    for i in range(len(bits)):\n",
    "        if bits[i] == 1:\n",
    "            muts.append(cols[i])\n",
    "    return muts"
   ]
  },
  {
   "cell_type": "code",
   "execution_count": 6,
   "metadata": {},
   "outputs": [],
   "source": [
    "# takes a cell line name and returns a list of driver mutations\n",
    "\n",
    "def getMutationalSignature2(cellLine):\n",
    "    cols = data.columns.to_list()\n",
    "    Index = data[data['CCLE_NAME'].str.match(cellLine)].index[0]\n",
    "    bits = data.iloc[Index][:].to_list()\n",
    "    muts=[]\n",
    "    \n",
    "    # could also return the abundance of this mutational status\n",
    "    # in all the cells \n",
    "    \n",
    "    for i in range(len(bits)):\n",
    "        if bits[i] == 1:\n",
    "            muts.append(cols[i])\n",
    "    return muts"
   ]
  },
  {
   "cell_type": "code",
   "execution_count": 24,
   "metadata": {},
   "outputs": [],
   "source": [
    "mydict = {}\n",
    "for _ in cellL:\n",
    "    mydict[_] = getMutationalSignature2(_)"
   ]
  },
  {
   "cell_type": "code",
   "execution_count": 120,
   "metadata": {},
   "outputs": [],
   "source": [
    "#mydict"
   ]
  },
  {
   "cell_type": "code",
   "execution_count": 123,
   "metadata": {},
   "outputs": [],
   "source": [
    "# THE 71 GENETIC BACKGROUNDS\n",
    "#data.columns.to_list()"
   ]
  },
  {
   "cell_type": "code",
   "execution_count": 229,
   "metadata": {},
   "outputs": [],
   "source": [
    "num = data[data['CCLE_NAME'].str.match('MOLM16')].index[0]"
   ]
  },
  {
   "cell_type": "code",
   "execution_count": 228,
   "metadata": {},
   "outputs": [
    {
     "data": {
      "text/plain": [
       "730"
      ]
     },
     "execution_count": 228,
     "metadata": {},
     "output_type": "execute_result"
    }
   ],
   "source": [
    "test1 = data[data['TP53_mut_del'] == 1] \n",
    "len(test1['CCLE_NAME'].to_list())"
   ]
  },
  {
   "cell_type": "code",
   "execution_count": 18,
   "metadata": {},
   "outputs": [
    {
     "data": {
      "text/plain": [
       "296"
      ]
     },
     "execution_count": 18,
     "metadata": {},
     "output_type": "execute_result"
    }
   ],
   "source": [
    "test1 = data[data['TP53_mut_del'] == 0] \n",
    "len(test1['CCLE_NAME'].to_list())"
   ]
  },
  {
   "cell_type": "code",
   "execution_count": 150,
   "metadata": {},
   "outputs": [],
   "source": [
    "effect = np.transpose(effect)"
   ]
  },
  {
   "cell_type": "code",
   "execution_count": 151,
   "metadata": {},
   "outputs": [],
   "source": [
    "effect = effect[cellL]"
   ]
  },
  {
   "cell_type": "code",
   "execution_count": 31,
   "metadata": {},
   "outputs": [
    {
     "data": {
      "text/html": [
       "<div>\n",
       "<style scoped>\n",
       "    .dataframe tbody tr th:only-of-type {\n",
       "        vertical-align: middle;\n",
       "    }\n",
       "\n",
       "    .dataframe tbody tr th {\n",
       "        vertical-align: top;\n",
       "    }\n",
       "\n",
       "    .dataframe thead th {\n",
       "        text-align: right;\n",
       "    }\n",
       "</style>\n",
       "<table border=\"1\" class=\"dataframe\">\n",
       "  <thead>\n",
       "    <tr style=\"text-align: right;\">\n",
       "      <th></th>\n",
       "      <th>KMS18</th>\n",
       "      <th>SKUT1</th>\n",
       "      <th>SCS214</th>\n",
       "      <th>BC3C</th>\n",
       "      <th>AML193</th>\n",
       "      <th>LU99</th>\n",
       "      <th>U87MG</th>\n",
       "      <th>HT29</th>\n",
       "      <th>SNU685</th>\n",
       "      <th>EWS502</th>\n",
       "      <th>...</th>\n",
       "      <th>TM31</th>\n",
       "      <th>SNU886</th>\n",
       "      <th>HCC1143</th>\n",
       "      <th>PSN1</th>\n",
       "      <th>SNU46</th>\n",
       "      <th>LS513</th>\n",
       "      <th>NCIH322</th>\n",
       "      <th>NCIH2122</th>\n",
       "      <th>OVTOKO</th>\n",
       "      <th>PANC1005</th>\n",
       "    </tr>\n",
       "  </thead>\n",
       "  <tbody>\n",
       "    <tr>\n",
       "      <th>A1BG</th>\n",
       "      <td>0.095400</td>\n",
       "      <td>-0.036084</td>\n",
       "      <td>0.019714</td>\n",
       "      <td>-0.003011</td>\n",
       "      <td>0.108347</td>\n",
       "      <td>0.120687</td>\n",
       "      <td>0.149317</td>\n",
       "      <td>0.121370</td>\n",
       "      <td>0.150626</td>\n",
       "      <td>0.052768</td>\n",
       "      <td>...</td>\n",
       "      <td>0.092145</td>\n",
       "      <td>0.165552</td>\n",
       "      <td>0.263727</td>\n",
       "      <td>0.077583</td>\n",
       "      <td>0.257373</td>\n",
       "      <td>0.070026</td>\n",
       "      <td>0.017881</td>\n",
       "      <td>0.064054</td>\n",
       "      <td>0.374315</td>\n",
       "      <td>0.061629</td>\n",
       "    </tr>\n",
       "    <tr>\n",
       "      <th>A1CF</th>\n",
       "      <td>0.255913</td>\n",
       "      <td>0.036901</td>\n",
       "      <td>0.250870</td>\n",
       "      <td>0.056046</td>\n",
       "      <td>0.020884</td>\n",
       "      <td>0.276238</td>\n",
       "      <td>0.038916</td>\n",
       "      <td>0.117390</td>\n",
       "      <td>-0.152901</td>\n",
       "      <td>-0.049931</td>\n",
       "      <td>...</td>\n",
       "      <td>-0.031041</td>\n",
       "      <td>0.197775</td>\n",
       "      <td>-0.201341</td>\n",
       "      <td>0.150498</td>\n",
       "      <td>0.058643</td>\n",
       "      <td>0.075066</td>\n",
       "      <td>0.057025</td>\n",
       "      <td>0.168408</td>\n",
       "      <td>0.191044</td>\n",
       "      <td>0.121350</td>\n",
       "    </tr>\n",
       "    <tr>\n",
       "      <th>A2M</th>\n",
       "      <td>-0.165736</td>\n",
       "      <td>-0.015337</td>\n",
       "      <td>-0.075553</td>\n",
       "      <td>-0.119158</td>\n",
       "      <td>-0.081777</td>\n",
       "      <td>-0.189814</td>\n",
       "      <td>0.180609</td>\n",
       "      <td>-0.117615</td>\n",
       "      <td>-0.112918</td>\n",
       "      <td>-0.089148</td>\n",
       "      <td>...</td>\n",
       "      <td>0.072996</td>\n",
       "      <td>-0.075747</td>\n",
       "      <td>-0.063252</td>\n",
       "      <td>-0.361511</td>\n",
       "      <td>-0.177709</td>\n",
       "      <td>-0.064637</td>\n",
       "      <td>-0.092955</td>\n",
       "      <td>-0.117898</td>\n",
       "      <td>0.147322</td>\n",
       "      <td>-0.155068</td>\n",
       "    </tr>\n",
       "    <tr>\n",
       "      <th>A2ML1</th>\n",
       "      <td>0.166598</td>\n",
       "      <td>0.183908</td>\n",
       "      <td>0.288222</td>\n",
       "      <td>0.312940</td>\n",
       "      <td>0.045239</td>\n",
       "      <td>0.216861</td>\n",
       "      <td>0.236131</td>\n",
       "      <td>0.216060</td>\n",
       "      <td>0.259285</td>\n",
       "      <td>0.090852</td>\n",
       "      <td>...</td>\n",
       "      <td>0.194897</td>\n",
       "      <td>0.218513</td>\n",
       "      <td>0.166935</td>\n",
       "      <td>0.095877</td>\n",
       "      <td>0.168367</td>\n",
       "      <td>0.156905</td>\n",
       "      <td>0.146994</td>\n",
       "      <td>0.166248</td>\n",
       "      <td>0.095008</td>\n",
       "      <td>0.084474</td>\n",
       "    </tr>\n",
       "    <tr>\n",
       "      <th>A3GALT2</th>\n",
       "      <td>-0.019427</td>\n",
       "      <td>-0.262125</td>\n",
       "      <td>-0.116243</td>\n",
       "      <td>-0.070828</td>\n",
       "      <td>-0.118562</td>\n",
       "      <td>-0.286549</td>\n",
       "      <td>-0.155612</td>\n",
       "      <td>0.020586</td>\n",
       "      <td>-0.009486</td>\n",
       "      <td>-0.118563</td>\n",
       "      <td>...</td>\n",
       "      <td>-0.033135</td>\n",
       "      <td>0.156106</td>\n",
       "      <td>-0.023224</td>\n",
       "      <td>0.027152</td>\n",
       "      <td>-0.073757</td>\n",
       "      <td>0.099075</td>\n",
       "      <td>-0.052442</td>\n",
       "      <td>-0.193995</td>\n",
       "      <td>0.029721</td>\n",
       "      <td>-0.266106</td>\n",
       "    </tr>\n",
       "  </tbody>\n",
       "</table>\n",
       "<p>5 rows × 596 columns</p>\n",
       "</div>"
      ],
      "text/plain": [
       "            KMS18     SKUT1    SCS214      BC3C    AML193      LU99     U87MG  \\\n",
       "A1BG     0.095400 -0.036084  0.019714 -0.003011  0.108347  0.120687  0.149317   \n",
       "A1CF     0.255913  0.036901  0.250870  0.056046  0.020884  0.276238  0.038916   \n",
       "A2M     -0.165736 -0.015337 -0.075553 -0.119158 -0.081777 -0.189814  0.180609   \n",
       "A2ML1    0.166598  0.183908  0.288222  0.312940  0.045239  0.216861  0.236131   \n",
       "A3GALT2 -0.019427 -0.262125 -0.116243 -0.070828 -0.118562 -0.286549 -0.155612   \n",
       "\n",
       "             HT29    SNU685    EWS502  ...      TM31    SNU886   HCC1143  \\\n",
       "A1BG     0.121370  0.150626  0.052768  ...  0.092145  0.165552  0.263727   \n",
       "A1CF     0.117390 -0.152901 -0.049931  ... -0.031041  0.197775 -0.201341   \n",
       "A2M     -0.117615 -0.112918 -0.089148  ...  0.072996 -0.075747 -0.063252   \n",
       "A2ML1    0.216060  0.259285  0.090852  ...  0.194897  0.218513  0.166935   \n",
       "A3GALT2  0.020586 -0.009486 -0.118563  ... -0.033135  0.156106 -0.023224   \n",
       "\n",
       "             PSN1     SNU46     LS513   NCIH322  NCIH2122    OVTOKO  PANC1005  \n",
       "A1BG     0.077583  0.257373  0.070026  0.017881  0.064054  0.374315  0.061629  \n",
       "A1CF     0.150498  0.058643  0.075066  0.057025  0.168408  0.191044  0.121350  \n",
       "A2M     -0.361511 -0.177709 -0.064637 -0.092955 -0.117898  0.147322 -0.155068  \n",
       "A2ML1    0.095877  0.168367  0.156905  0.146994  0.166248  0.095008  0.084474  \n",
       "A3GALT2  0.027152 -0.073757  0.099075 -0.052442 -0.193995  0.029721 -0.266106  \n",
       "\n",
       "[5 rows x 596 columns]"
      ]
     },
     "execution_count": 31,
     "metadata": {},
     "output_type": "execute_result"
    }
   ],
   "source": [
    "effect.head()"
   ]
  },
  {
   "cell_type": "code",
   "execution_count": 38,
   "metadata": {},
   "outputs": [],
   "source": [
    "effect.to_csv('effectCellL.csv')"
   ]
  },
  {
   "cell_type": "code",
   "execution_count": 96,
   "metadata": {},
   "outputs": [],
   "source": [
    "effectCellL = pd.read_csv('effectCellL.csv')"
   ]
  },
  {
   "cell_type": "code",
   "execution_count": 100,
   "metadata": {},
   "outputs": [
    {
     "data": {
      "text/html": [
       "<div>\n",
       "<style scoped>\n",
       "    .dataframe tbody tr th:only-of-type {\n",
       "        vertical-align: middle;\n",
       "    }\n",
       "\n",
       "    .dataframe tbody tr th {\n",
       "        vertical-align: top;\n",
       "    }\n",
       "\n",
       "    .dataframe thead th {\n",
       "        text-align: right;\n",
       "    }\n",
       "</style>\n",
       "<table border=\"1\" class=\"dataframe\">\n",
       "  <thead>\n",
       "    <tr style=\"text-align: right;\">\n",
       "      <th></th>\n",
       "      <th>KMS18</th>\n",
       "      <th>SKUT1</th>\n",
       "      <th>SCS214</th>\n",
       "      <th>BC3C</th>\n",
       "      <th>AML193</th>\n",
       "      <th>LU99</th>\n",
       "      <th>U87MG</th>\n",
       "      <th>HT29</th>\n",
       "      <th>SNU685</th>\n",
       "      <th>EWS502</th>\n",
       "      <th>...</th>\n",
       "      <th>TM31</th>\n",
       "      <th>SNU886</th>\n",
       "      <th>HCC1143</th>\n",
       "      <th>PSN1</th>\n",
       "      <th>SNU46</th>\n",
       "      <th>LS513</th>\n",
       "      <th>NCIH322</th>\n",
       "      <th>NCIH2122</th>\n",
       "      <th>OVTOKO</th>\n",
       "      <th>PANC1005</th>\n",
       "    </tr>\n",
       "  </thead>\n",
       "  <tbody>\n",
       "    <tr>\n",
       "      <th>MDM4</th>\n",
       "      <td>-0.043693</td>\n",
       "      <td>-0.089976</td>\n",
       "      <td>-0.455868</td>\n",
       "      <td>-0.219348</td>\n",
       "      <td>0.141484</td>\n",
       "      <td>-0.747794</td>\n",
       "      <td>-0.301992</td>\n",
       "      <td>-0.05202</td>\n",
       "      <td>-0.040888</td>\n",
       "      <td>0.068544</td>\n",
       "      <td>...</td>\n",
       "      <td>-0.11586</td>\n",
       "      <td>-0.070743</td>\n",
       "      <td>-0.131455</td>\n",
       "      <td>-0.178272</td>\n",
       "      <td>-0.054482</td>\n",
       "      <td>-0.240261</td>\n",
       "      <td>-0.14052</td>\n",
       "      <td>-0.43382</td>\n",
       "      <td>-0.438912</td>\n",
       "      <td>0.092282</td>\n",
       "    </tr>\n",
       "  </tbody>\n",
       "</table>\n",
       "<p>1 rows × 596 columns</p>\n",
       "</div>"
      ],
      "text/plain": [
       "         KMS18     SKUT1    SCS214      BC3C    AML193      LU99     U87MG  \\\n",
       "MDM4 -0.043693 -0.089976 -0.455868 -0.219348  0.141484 -0.747794 -0.301992   \n",
       "\n",
       "         HT29    SNU685    EWS502  ...     TM31    SNU886   HCC1143      PSN1  \\\n",
       "MDM4 -0.05202 -0.040888  0.068544  ... -0.11586 -0.070743 -0.131455 -0.178272   \n",
       "\n",
       "         SNU46     LS513  NCIH322  NCIH2122    OVTOKO  PANC1005  \n",
       "MDM4 -0.054482 -0.240261 -0.14052  -0.43382 -0.438912  0.092282  \n",
       "\n",
       "[1 rows x 596 columns]"
      ]
     },
     "execution_count": 100,
     "metadata": {},
     "output_type": "execute_result"
    }
   ],
   "source": [
    "effect[effect.index.str.startswith(\"MDM4\")]"
   ]
  },
  {
   "cell_type": "code",
   "execution_count": 244,
   "metadata": {
    "collapsed": true,
    "jupyter": {
     "outputs_hidden": true
    }
   },
   "outputs": [
    {
     "data": {
      "text/plain": [
       "<matplotlib.axes._subplots.AxesSubplot at 0x7f3a892ca358>"
      ]
     },
     "execution_count": 244,
     "metadata": {},
     "output_type": "execute_result"
    },
    {
     "data": {
      "image/png": "[encoded data removed]",
      "text/plain": [
       "<Figure size 576x396 with 1 Axes>"
      ]
     },
     "metadata": {},
     "output_type": "display_data"
    }
   ],
   "source": [
    "# make a function out of this template\n",
    "\n",
    "list1 = data[data.TP53_mut_del == 1][\"CCLE_NAME\"].to_list()\n",
    "mutation = set.intersection(set(list1),set(cellL))\n",
    "\n",
    "list2 = data[data.TP53_mut_del == 0][\"CCLE_NAME\"].to_list()\n",
    "noMutation = set.intersection(set(list2),set(cellL))\n",
    "\n",
    "mdm4 = effect[effect.index.str.startswith(\"MDM4\")]\n",
    "\n",
    "mdm4Df2 = single_column(mdm4,mutation,'MUT')\n",
    "\n",
    "mdm4Df1 = single_column(mdm4,noMutation,'WT')\n",
    "\n",
    "mdm4Df = pd.concat([mdm4Df1,mdm4Df2], axis=1, sort=False)\n",
    "\n",
    "mdm4Df.boxplot()"
   ]
  },
  {
   "cell_type": "code",
   "execution_count": 22,
   "metadata": {},
   "outputs": [],
   "source": [
    "ulidata = pd.read_csv(\"/home/annerer/Dokumente/DepMap_Mining/TP53_MDM4.csv\")\n",
    "ulidata = ulidata['cellline'].to_list()\n",
    "\n",
    "result = []\n",
    "\n",
    "for _ in ulidata:\n",
    "    result.append(mapping[_])\n",
    "    \n",
    "cellLine = result\n",
    "# split at space\n",
    "for i in range(len(cellLine)):\n",
    "    cellLine[i] = cellLine[i].split(\"_\") \n",
    "\n",
    "cell_L = []\n",
    "for i in range(len(cellLine)):\n",
    "    cell_L.append(cellLine[i][0])"
   ]
  },
  {
   "cell_type": "code",
   "execution_count": 25,
   "metadata": {},
   "outputs": [],
   "source": [
    "list1 = data[data.TP53_mut_del == 0][\"CCLE_NAME\"].to_list()\n",
    "#list1 = [j for i in list1 for j in i]\n",
    "# split at space\n",
    "for i in range(len(list1)):\n",
    "    list1[i] = list1[i].split(\"_\") \n",
    "\n",
    "List1 = []\n",
    "for i in range(len(list1)):\n",
    "    List1.append(list1[i][0])"
   ]
  },
  {
   "cell_type": "code",
   "execution_count": 306,
   "metadata": {},
   "outputs": [],
   "source": [
    "overlap = set.intersection(set(List1),set(cell_L))"
   ]
  },
  {
   "cell_type": "code",
   "execution_count": 304,
   "metadata": {},
   "outputs": [
    {
     "data": {
      "text/plain": [
       "17"
      ]
     },
     "execution_count": 304,
     "metadata": {},
     "output_type": "execute_result"
    }
   ],
   "source": [
    "len(overlap)"
   ]
  },
  {
   "cell_type": "code",
   "execution_count": 307,
   "metadata": {},
   "outputs": [
    {
     "data": {
      "text/plain": [
       "81"
      ]
     },
     "execution_count": 307,
     "metadata": {},
     "output_type": "execute_result"
    }
   ],
   "source": [
    "len(overlap)"
   ]
  },
  {
   "cell_type": "code",
   "execution_count": 308,
   "metadata": {},
   "outputs": [
    {
     "data": {
      "text/plain": [
       "0.12686567164179105"
      ]
     },
     "execution_count": 308,
     "metadata": {},
     "output_type": "execute_result"
    }
   ],
   "source": [
    "17/134"
   ]
  },
  {
   "cell_type": "code",
   "execution_count": 309,
   "metadata": {},
   "outputs": [
    {
     "data": {
      "text/plain": [
       "0.6044776119402985"
      ]
     },
     "execution_count": 309,
     "metadata": {},
     "output_type": "execute_result"
    }
   ],
   "source": [
    "81/134"
   ]
  },
  {
   "cell_type": "code",
   "execution_count": 161,
   "metadata": {},
   "outputs": [
    {
     "data": {
      "text/plain": [
       "Ttest_indResult(statistic=-14.060976989914527, pvalue=5.6784256007003574e-39)"
      ]
     },
     "execution_count": 161,
     "metadata": {},
     "output_type": "execute_result"
    }
   ],
   "source": [
    "#from scipy.stats import pearsonr,ttest_ind\n",
    "\n",
    "ttest_ind(mdm4Df.WT.to_list(),mdm4Df.MUT.to_list(),nan_policy='omit')"
   ]
  },
  {
   "cell_type": "code",
   "execution_count": 92,
   "metadata": {},
   "outputs": [],
   "source": [
    "def compare_groups(mutation,kogene):\n",
    "    list1 = data[data[mutation] == 1][\"CCLE_NAME\"].to_list()\n",
    "    mutation = set.intersection(set(list1),set(cellL))\n",
    "\n",
    "    list2 = data[data[mutation] == 0][\"CCLE_NAME\"].to_list()\n",
    "    noMutation = set.intersection(set(list2),set(cellL))\n",
    "\n",
    "    ko_gene = effectCellL[effectCellL.index.str.startswith(kogene)]\n",
    "\n",
    "    Df2 = single_column(ko_gene,mutation,'MUT')\n",
    "\n",
    "    Df1 = single_column(ko_gene,noMutation,'WT')\n",
    "\n",
    "    Df = pd.concat([Df1,Df2], axis=1, sort=False)\n",
    "    Df.boxplot()"
   ]
  },
  {
   "cell_type": "code",
   "execution_count": 94,
   "metadata": {},
   "outputs": [],
   "source": [
    "#compare_groups('CIC_mut_del',mdm4)"
   ]
  },
  {
   "cell_type": "code",
   "execution_count": 118,
   "metadata": {},
   "outputs": [
    {
     "data": {
      "text/plain": [
       "<matplotlib.axes._subplots.AxesSubplot at 0x7f3a93caa1d0>"
      ]
     },
     "execution_count": 118,
     "metadata": {},
     "output_type": "execute_result"
    },
    {
     "data": {
      "image/png": "[encoded data removed]",
      "text/plain": [
       "<Figure size 576x396 with 1 Axes>"
      ]
     },
     "metadata": {},
     "output_type": "display_data"
    }
   ],
   "source": [
    "list1 = data[data.BRAF_mut == 1][\"CCLE_NAME\"].to_list()\n",
    "mutation = set.intersection(set(list1),set(cellL))\n",
    "\n",
    "list2 = data[data.BRAF_mut == 0][\"CCLE_NAME\"].to_list()\n",
    "noMutation = set.intersection(set(list2),set(cellL))\n",
    "\n",
    "braf1 = effect[effect.index.str.startswith(\"RAF1\")]\n",
    "\n",
    "braf1Df2 = single_column(braf1,mutation,'MUT')\n",
    "\n",
    "braf1Df1 = single_column(braf1,noMutation,'WT')\n",
    "\n",
    "brafDf = pd.concat([braf1Df1,braf1Df2], axis=1, sort=False)\n",
    "brafDf.boxplot()"
   ]
  },
  {
   "cell_type": "code",
   "execution_count": 133,
   "metadata": {
    "collapsed": true,
    "jupyter": {
     "outputs_hidden": true
    }
   },
   "outputs": [
    {
     "data": {
      "text/plain": [
       "'list1 = data[data.TP53_mut_del == 1][\"CCLE_NAME\"].to_list()\\nmutation = set.intersection(set(list1),set(cellL))\\n\\nlist2 = data[data.TP53_mut_del == 0][\"CCLE_NAME\"].to_list()\\nnoMutation = set.intersection(set(list2),set(cellL))\\n\\nmdm2 = effect[effect.index.str.startswith(\"MDM2\")]\\n\\nmdm2Df2 = single_column(mdm2,mutation,\\'MUT\\')\\n\\nmdm2Df1 = single_column(mdm2,noMutation,\\'WT\\')\\n\\nmdm2Df = pd.concat([mdm2Df1,mdm2Df2], axis=1, sort=False)\\nmdm2Df.boxplot()\\n\\nplt.title(\\'MDM2 Resistance in TP53 deletion cell Lines\\')\\nplt.ylabel(\\'MDM2 Sensitivity\\')\\nplt.xlabel(\"TP53\")\\nplt.savefig(\\'mdm2_resistance.png\\')'"
      ]
     },
     "execution_count": 133,
     "metadata": {},
     "output_type": "execute_result"
    }
   ],
   "source": [
    "\"\"\"list1 = data[data.TP53_mut_del == 1][\"CCLE_NAME\"].to_list()\n",
    "mutation = set.intersection(set(list1),set(cellL))\n",
    "\n",
    "list2 = data[data.TP53_mut_del == 0][\"CCLE_NAME\"].to_list()\n",
    "noMutation = set.intersection(set(list2),set(cellL))\n",
    "\n",
    "mdm2 = effect[effect.index.str.startswith(\"MDM2\")]\n",
    "\n",
    "mdm2Df2 = single_column(mdm2,mutation,'MUT')\n",
    "\n",
    "mdm2Df1 = single_column(mdm2,noMutation,'WT')\n",
    "\n",
    "mdm2Df = pd.concat([mdm2Df1,mdm2Df2], axis=1, sort=False)\n",
    "mdm2Df.boxplot()\n",
    "\n",
    "plt.title('MDM2 Resistance in TP53 deletion cell Lines')\n",
    "plt.ylabel('MDM2 Sensitivity')\n",
    "plt.xlabel(\"TP53\")\n",
    "plt.savefig('mdm2_resistance.png')\"\"\""
   ]
  },
  {
   "cell_type": "code",
   "execution_count": 113,
   "metadata": {},
   "outputs": [],
   "source": [
    "# model from colm\n",
    "#‘gene_X_sensitivity ~MSI_status + C(Tissue) + driver_gene_Y_status"
   ]
  },
  {
   "cell_type": "markdown",
   "metadata": {},
   "source": [
    "Statistical Modelling, ANOVAs"
   ]
  },
  {
   "cell_type": "code",
   "execution_count": 116,
   "metadata": {},
   "outputs": [
    {
     "data": {
      "text/plain": [
       "<matplotlib.axes._subplots.AxesSubplot at 0x7f3a93cfa7b8>"
      ]
     },
     "execution_count": 116,
     "metadata": {},
     "output_type": "execute_result"
    },
    {
     "data": {
      "image/png": "[encoded data removed]",
      "text/plain": [
       "<Figure size 576x396 with 1 Axes>"
      ]
     },
     "metadata": {},
     "output_type": "display_data"
    }
   ],
   "source": [
    "list1 = data[data.BRAF_mut == 1][\"CCLE_NAME\"].to_list()\n",
    "mutation = set.intersection(set(list1),set(cellL))\n",
    "\n",
    "list2 = data[data.BRAF_mut == 0][\"CCLE_NAME\"].to_list()\n",
    "noMutation = set.intersection(set(list2),set(cellL))\n",
    "\n",
    "braf1 = effect[effect.index.str.startswith(\"MAPK\")]\n",
    "\n",
    "braf1Df2 = single_column(mdm4,mutation,'MUT')\n",
    "\n",
    "braf1Df1 = single_column(mdm4,noMutation,'WT')\n",
    "\n",
    "brafDf = pd.concat([mdm4Df1,mdm4Df2], axis=1, sort=False)\n",
    "brafDf.boxplot()"
   ]
  },
  {
   "cell_type": "markdown",
   "metadata": {},
   "source": [
    "Statsmodels Code for linear model with MSI_status"
   ]
  },
  {
   "cell_type": "code",
   "execution_count": 126,
   "metadata": {
    "collapsed": true,
    "jupyter": {
     "outputs_hidden": true
    }
   },
   "outputs": [
    {
     "data": {
      "text/plain": [
       "\"\\nimport statsmodels.api as sm\\n\\nfrom statsmodels.formula.api import ols \\n\\ndata = brafDf\\n\\nmoore_lm = ols('gene_X_sensitivity ~MSI_status + C(Tissue) + driver_gene_Y_status'',\\n                data=data).fit()\\n\\ntable = sm.stats.anova_lm(moore_lm, typ=2) # Type 2 ANOVA DataFrame\\n\\nprint(table)\\n\""
      ]
     },
     "execution_count": 126,
     "metadata": {},
     "output_type": "execute_result"
    }
   ],
   "source": [
    "'''\n",
    "import statsmodels.api as sm\n",
    "from statsmodels.formula.api import ols \n",
    "data = brafDf\n",
    "moore_lm = ols('gene_X_sensitivity ~MSI_status + C(Tissue) + driver_gene_Y_status'',\n",
    "                data=data).fit()\n",
    "table = sm.stats.anova_lm(moore_lm, typ=2) # Type 2 ANOVA DataFrame\n",
    "print(table)\n",
    "'''"
   ]
  },
  {
   "cell_type": "markdown",
   "metadata": {},
   "source": [
    "### Adopt the naming convention of Ryan"
   ]
  },
  {
   "cell_type": "code",
   "execution_count": 81,
   "metadata": {},
   "outputs": [],
   "source": [
    "def single_column(df,columns,nameOfNewCol):\n",
    "    'takes list of columns and returns a Df of values'\n",
    "    vals = df[columns].values.tolist()\n",
    "    valsList = [j for x in vals for j in x]\n",
    "    valsDf = pd.DataFrame(valsList,columns = [nameOfNewCol])\n",
    "    return valsDf"
   ]
  },
  {
   "cell_type": "code",
   "execution_count": 115,
   "metadata": {},
   "outputs": [
    {
     "data": {
      "image/png": "[encoded data removed]",
      "text/plain": [
       "<Figure size 576x396 with 1 Axes>"
      ]
     },
     "metadata": {},
     "output_type": "display_data"
    }
   ],
   "source": [
    "plt.style.use('seaborn')\n",
    "mdm4Df = pd.concat([mdm4Df1,mdm4Df2], axis=1, sort=False)\n",
    "mdm4Df.boxplot()\n",
    "plt.title('MDM4 Resistance in TP53 deletion cell Lines')\n",
    "plt.ylabel('MDM4 Sensitivity')\n",
    "plt.xlabel(\"TP53\")\n",
    "plt.savefig('mdm4_resistance.png')"
   ]
  },
  {
   "cell_type": "code",
   "execution_count": null,
   "metadata": {},
   "outputs": [],
   "source": [
    "mdm4Df = pd.concat([mdm4Df1,mdm4Df2], axis=1, sort=False)\n",
    "mdm4Df.boxplot()"
   ]
  },
  {
   "cell_type": "markdown",
   "metadata": {},
   "source": [
    "we have all MDM4 values, now separate into those that are \n",
    "tp53 deletions and those that are WT."
   ]
  },
  {
   "cell_type": "markdown",
   "metadata": {},
   "source": [
    "how to use my function to get all the ones with a specific mutation."
   ]
  },
  {
   "cell_type": "code",
   "execution_count": 259,
   "metadata": {},
   "outputs": [],
   "source": [
    "df = pd.DataFrame(np.random.rand(30))"
   ]
  },
  {
   "cell_type": "code",
   "execution_count": 334,
   "metadata": {},
   "outputs": [
    {
     "data": {
      "text/plain": [
       "1026"
      ]
     },
     "execution_count": 334,
     "metadata": {},
     "output_type": "execute_result"
    }
   ],
   "source": [
    "list1 = data[data.TP53_mut_del == 1][\"CCLE_NAME\"].to_list()\n",
    "len(list1) + len(list2)"
   ]
  },
  {
   "cell_type": "code",
   "execution_count": 333,
   "metadata": {},
   "outputs": [
    {
     "data": {
      "text/plain": [
       "296"
      ]
     },
     "execution_count": 333,
     "metadata": {},
     "output_type": "execute_result"
    }
   ],
   "source": [
    "list2 = data[data.TP53_mut_del == 0][\"CCLE_NAME\"].to_list()\n",
    "len(list2)"
   ]
  },
  {
   "cell_type": "markdown",
   "metadata": {},
   "source": [
    "TODO: get only the intersecting cell from the gene-effect dataset\n",
    "    then get from the ryan dataset all the tp53 del mutants (done),\n",
    "    then get those columns from the gene-effect dataset. all the\n",
    "    others form the rest. now get eg the MDM4 gene-effect for both\n",
    "    groups. now compare them."
   ]
  }
 ],
 "metadata": {
  "kernelspec": {
   "display_name": "Python 3",
   "language": "python",
   "name": "python3"
  },
  "language_info": {
   "codemirror_mode": {
    "name": "ipython",
    "version": 3
   },
   "file_extension": ".py",
   "mimetype": "text/x-python",
   "name": "python",
   "nbconvert_exporter": "python",
   "pygments_lexer": "ipython3",
   "version": "3.8.3"
  }
 },
 "nbformat": 4,
 "nbformat_minor": 4
}
